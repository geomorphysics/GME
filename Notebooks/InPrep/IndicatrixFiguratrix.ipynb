{
 "cells": [
  {
   "cell_type": "markdown",
   "metadata": {},
   "source": [
    "# Summary\n",
    "\n",
    "Visualize ray speed indicatrix and normal slowness figuratrix in various ways."
   ]
  },
  {
   "cell_type": "markdown",
   "metadata": {},
   "source": [
    "### Parameter files"
   ]
  },
  {
   "cell_type": "code",
   "execution_count": 1,
   "metadata": {},
   "outputs": [],
   "source": [
    "# Specify the parameter files for the job\n",
    "import os\n",
    "if 'GME_NB_PR' not in os.environ.keys():\n",
    "    pr_filenames = ['Indicatrix_sinbeta_eta0p5']   \n",
    "#     pr_filenames = ['Indicatrix_sinbeta_eta0p5']   \n",
    "else:\n",
    "    pr_filenames = eval(os.environ['GME_NB_PR'])"
   ]
  },
  {
   "cell_type": "markdown",
   "metadata": {},
   "source": [
    "### Preliminaries"
   ]
  },
  {
   "cell_type": "code",
   "execution_count": 2,
   "metadata": {},
   "outputs": [
    {
     "name": "stdout",
     "output_type": "stream",
     "text": [
      "Deducing working path from GME package location = /Users/colinstark/Projects/GME\n"
     ]
    },
    {
     "data": {
      "text/plain": [
       "('/Users/colinstark/Projects/GME/Parameters/Theory',\n",
       " ['Indicatrix_sinbeta_eta0p5'])"
      ]
     },
     "execution_count": 2,
     "metadata": {},
     "output_type": "execute_result"
    }
   ],
   "source": [
    "# Import Sympy and Numpy and set up latex inline & pretty dict printing\n",
    "import sympy as sy, numpy as np\n",
    "sy.init_printing(pretty_print=True,wrap_line=True)\n",
    "from sympy import simplify, Matrix, Rational, \\\n",
    "                    sin, cos, Abs, sqrt, N\n",
    "from pprint import PrettyPrinter\n",
    "pp = PrettyPrinter(indent=4).pprint\n",
    "\n",
    "# Import Geomorphysics library functions, classes\n",
    "from gmplib.utils import numify, get_pkg_path, export_results\n",
    "from gmplib.save import create_directories, export_plots\n",
    "from gmplib.parameters import import_parameters, Parameters\n",
    "\n",
    "# Import GME classes and do a wildcard (!) import of all GME symbol definitions\n",
    "from gme.symbols import *\n",
    "from gme.equations import Equations\n",
    "from gme.plot import TheoryPlots\n",
    "\n",
    "# Decide where we're working and thus where to find the job parameter files\n",
    "#   -  use the GME_WORKING_PATH environment variable if it's defined\n",
    "#   -  otherwise, deduce that we're working in the GME notebook dir\n",
    "if 'GME_WORKING_PATH' in os.environ.keys():\n",
    "    working_path = os.environ['GME_WORKING_PATH']\n",
    "    print(f'Fetching working path from environment variable GME_WORKING_PATH = {working_path}')\n",
    "else:\n",
    "    from gmplib.utils import get_pkg_path\n",
    "    import gme\n",
    "    working_path = get_pkg_path(gme, dirname='')\n",
    "    print(f'Deducing working path from GME package location = {working_path}')\n",
    "    del gme\n",
    "\n",
    "# Set the path to the parameter files for this nb and report\n",
    "pr_path = os.path.join(working_path,'Parameters','Theory')\n",
    "pr_path, pr_filenames"
   ]
  },
  {
   "cell_type": "code",
   "execution_count": 3,
   "metadata": {},
   "outputs": [
    {
     "name": "stdout",
     "output_type": "stream",
     "text": [
      "{   'debug': False,\n",
      "    'group_name': 'Theory',\n",
      "    'short_name': 'indicatrix',\n",
      "    'subtitle': '',\n",
      "    'title': 'Indicatrix & figuratrix viz, eta=1/2, sin(beta) xi model',\n",
      "    'verbose': True,\n",
      "    'very_verbose': False}\n",
      "{   'Ci': pi/45,\n",
      "    'Lc': 10000,\n",
      "    'beta_type': 'sin',\n",
      "    'do_geodesic': False,\n",
      "    'eta': 1/2,\n",
      "    'h_0': 1/2,\n",
      "    'ibc_type': 'concave-up',\n",
      "    'kappa_h': 3/2,\n",
      "    'mu': 1/2,\n",
      "    't_xiv0_list': None,\n",
      "    'varepsilonhat': 1/100,\n",
      "    'varphi_0': 2.641e-05,\n",
      "    'varphi_type': 'ramp',\n",
      "    'x_h': 1,\n",
      "    'x_sigma': 0.01,\n",
      "    'xiv_0': None}\n",
      "{   'choice': 'Hamilton',\n",
      "    'do_dense': True,\n",
      "    'do_geodesic': True,\n",
      "    'do_ic': False,\n",
      "    'do_ip': False,\n",
      "    'do_vb': False,\n",
      "    'ic_res': 31,\n",
      "    'ip_res': 101,\n",
      "    'method': {   'Hamilton': 'DOP853',\n",
      "                  'choices': ['RK45', 'RK23', 'Radau', 'DOP853', 'LSODA'],\n",
      "                  'geodesic': 'LSODA'},\n",
      "    'ray_n_t': 301,\n",
      "    't_distribn': 2,\n",
      "    't_end': 0.01,\n",
      "    'vb_res': 101}\n",
      "{   'do_eliminate_caustics': True,\n",
      "    'n_isochrones': 30,\n",
      "    'spline_order': 3,\n",
      "    't_isochrone_max': 0.01,\n",
      "    'tolerance': None}\n",
      "{   'ang_x_limits': None,\n",
      "    'ang_y_limits': None,\n",
      "    'angdisp_x_limits': None,\n",
      "    'angdisp_y_limits': None,\n",
      "    'aniso_arrow_exponent': 0.9,\n",
      "    'aniso_arrow_size': 0.5,\n",
      "    'aniso_n_points': 45,\n",
      "    'aniso_y_limits': None,\n",
      "    'big_fig_size': [10, 7],\n",
      "    'dimx_limits': [-0.03, 1.03],\n",
      "    'dimx_limits_zoom': [0.2, 0.3],\n",
      "    'dimz_limits': [-0.01, 0.6],\n",
      "    'dimz_limits_zoom': [-0.25, -0.23],\n",
      "    'do_etaxi_labeling': True,\n",
      "    'do_extra_annotations': False,\n",
      "    'do_huygens_wavelets': False,\n",
      "    'do_profile_extra': False,\n",
      "    'do_profile_schematic': False,\n",
      "    'do_pub_labeling': False,\n",
      "    'do_ray_conjugacy': False,\n",
      "    'fgtx_pz_max': 100000.0,\n",
      "    'fgtx_pz_min': 0.001,\n",
      "    'fig_size': [8, 8],\n",
      "    'idtx_logpolar_y_limits': [-2, 1],\n",
      "    'idtx_n_points': 100,\n",
      "    'idtx_pz_max': 100000.0,\n",
      "    'idtx_pz_min': 0.0001,\n",
      "    'idtx_varphi_list': [0.1, 0.15, 0.5, 1, 1.3, 2, 3],\n",
      "    'isochrone_subsetting': 1,\n",
      "    'medium_fig_size': [7, 6],\n",
      "    'misc_n_points': 101,\n",
      "    'n_rays': 4,\n",
      "    'profile_cusp_speed_legend_loc': None,\n",
      "    'profile_cusp_speed_y_limits': [-10, 30],\n",
      "    'profile_det_eta_label_xy': [0.5, 0.5],\n",
      "    'profile_eval_eta_label_xy': None,\n",
      "    'profile_evec_eta_label_xy': None,\n",
      "    'profile_evec_legend_loc': 'upper left',\n",
      "    'profile_n_points': 101,\n",
      "    'profile_ray_n_points': 121,\n",
      "    'profile_subsetting': 8,\n",
      "    'pub_label_posns': {   'alpha_beta': [0.88, 0.3],\n",
      "                           'angular_disparity': [0.15, 0.15],\n",
      "                           'etaxi_label': [0.65, 0.85],\n",
      "                           'profile_angular_disparity': [0.6, 0.35],\n",
      "                           'profile_aniso': 'None',\n",
      "                           'profile_beta': [0.93, 0.2],\n",
      "                           'profile_h_ray': [0.85, 0.7],\n",
      "                           'profile_h_rays': [0.93, 0.35],\n",
      "                           'profile_v': 'None',\n",
      "                           'profile_vdot': 'None',\n",
      "                           'profile_vxz': 'None',\n",
      "                           'profile_xi': 'None',\n",
      "                           'profile_xihorizontal': 'None',\n",
      "                           'profile_xivertical': 'None'},\n",
      "    'pub_labels': {   'alpha_beta': '(b)',\n",
      "                      'angular_disparity': '(b)',\n",
      "                      'profile_angular_disparity': '(b)',\n",
      "                      'profile_aniso': '(b)',\n",
      "                      'profile_beta': '(b)',\n",
      "                      'profile_h_ray': '(c)',\n",
      "                      'profile_h_rays': '(b)',\n",
      "                      'profile_v': '',\n",
      "                      'profile_vdot': '',\n",
      "                      'profile_vxz': '(c)',\n",
      "                      'profile_xi': '(a)',\n",
      "                      'profile_xihorizontal': '',\n",
      "                      'profile_xivertical': '(d)'},\n",
      "    'ray_acceln_legend_loc': 'lower right',\n",
      "    'ray_eta_xy': [0.85, 0.15],\n",
      "    'ray_n_points': 26,\n",
      "    'ray_x_limits': [-0.02, 1.02],\n",
      "    'ray_y_limits': None,\n",
      "    'rays_n_points': 40,\n",
      "    'small_fig_size': [7, 3]}\n",
      "{   'figs_format': ['png'],\n",
      "    'figs_options': {'bbox_inches': 'tight', 'dpi': 300},\n",
      "    'figs_path': ['..', '..', 'Plots']}\n"
     ]
    }
   ],
   "source": [
    "parameters_dict,_ = import_parameters([pr_path], [os.path.join('..','defaults'), *pr_filenames])\n",
    "evaluations = {}\n",
    "evaluations_sequence = ()\n",
    "pr = Parameters(parameters_dict, evaluations=evaluations, sequence=evaluations_sequence)\n",
    "[pp(psubobj.__dict__) for psubobj in (pr.job, pr.model, pr.solve, pr.resolve, pr.plot, pr.save)];"
   ]
  },
  {
   "cell_type": "markdown",
   "metadata": {},
   "source": [
    "# Equations\n",
    "\n",
    "Generate the GME equation set. Sympy implementation works for $\\eta=\\tfrac{1}{2}$ and $\\eta=1$ but not yet for $\\eta=\\tfrac{3}{2}$."
   ]
  },
  {
   "cell_type": "code",
   "execution_count": null,
   "metadata": {},
   "outputs": [],
   "source": [
    "gmeq = Equations( eta=pr.model.eta, \n",
    "                  mu=pr.model.mu, \n",
    "                  beta_type=pr.model.beta_type, \n",
    "                  varphi_type=pr.model.varphi_type, \n",
    "                  do_idtx=True, \n",
    "                  do_raw=False )"
   ]
  },
  {
   "cell_type": "code",
   "execution_count": null,
   "metadata": {},
   "outputs": [],
   "source": [
    "prefix = pr.job.short_name\n",
    "suffix = f'_{pr.model.beta_type}beta_eta{float(sy.N(gmeq.eta))}'\n",
    "suffix = suffix.replace('.','p')\n",
    "\n",
    "job_name = prefix+suffix\n",
    "job_name"
   ]
  },
  {
   "cell_type": "code",
   "execution_count": null,
   "metadata": {
    "scrolled": true
   },
   "outputs": [],
   "source": [
    "# gmeq.fgtx_px_pz_varphi_eqn"
   ]
  },
  {
   "cell_type": "code",
   "execution_count": null,
   "metadata": {},
   "outputs": [],
   "source": [
    "# gmeq.idtx_rdotx_pz_varphi_eqn"
   ]
  },
  {
   "cell_type": "markdown",
   "metadata": {},
   "source": [
    "# Log-polar plot\n",
    "\n",
    "Visualize both indicatrix and figuratrix on one log-polar graph."
   ]
  },
  {
   "cell_type": "code",
   "execution_count": null,
   "metadata": {},
   "outputs": [],
   "source": [
    "gr = TheoryPlots()"
   ]
  },
  {
   "cell_type": "code",
   "execution_count": null,
   "metadata": {},
   "outputs": [],
   "source": [
    "gmeq.fgtx_px_pz_varphi_eqn"
   ]
  },
  {
   "cell_type": "code",
   "execution_count": null,
   "metadata": {},
   "outputs": [],
   "source": [
    "(np.rad2deg(np.arctan(float(gmeq.tanalpha_ext))), \n",
    " np.rad2deg(np.arctan(float(gmeq.tanbeta_crit))))"
   ]
  },
  {
   "cell_type": "code",
   "execution_count": null,
   "metadata": {},
   "outputs": [],
   "source": [
    "pr.plot.idtx_pz_min, pr.plot.idtx_pz_max"
   ]
  },
  {
   "cell_type": "code",
   "execution_count": null,
   "metadata": {},
   "outputs": [],
   "source": [
    "pr.plot.fgtx_pz_min, pr.plot.fgtx_pz_max"
   ]
  },
  {
   "cell_type": "code",
   "execution_count": null,
   "metadata": {},
   "outputs": [],
   "source": [
    "pz_sinbeta_varphi_eqn = (\n",
    "    gmeq.pz_varphi_beta_eqn.subs({Abs(sin(beta)**gmeq.eta):sin(beta)**gmeq.eta})\n",
    " .subs({varphi_r:varphi})\n",
    "#  .subs({sin(beta):sqrt(1-cos(beta)**2)})\n",
    " .subs({cos(beta):sqrt(1-sin(beta)**2)})\n",
    "                        )\n",
    "pz_sinbeta_varphi_eqn"
   ]
  },
  {
   "cell_type": "code",
   "execution_count": null,
   "metadata": {},
   "outputs": [],
   "source": [
    "sinbeta_pz_varphi_solns = sy.solve( pz_sinbeta_varphi_eqn, sin(beta) )"
   ]
  },
  {
   "cell_type": "code",
   "execution_count": null,
   "metadata": {},
   "outputs": [],
   "source": [
    "# round(N(soln.subs({varphi:0.1,pz:-0.1})),10)\n",
    "tmp = [(simplify(((soln)))) for soln in sinbeta_pz_varphi_solns ][1]\n",
    "sy.simplify(sy.expand( sy.numer(tmp)*(1+sqrt(3)*sy.I) ))"
   ]
  },
  {
   "cell_type": "code",
   "execution_count": null,
   "metadata": {},
   "outputs": [],
   "source": [
    "simplify(sy.denom(tmp)*(1+sqrt(3)*sy.I))"
   ]
  },
  {
   "cell_type": "code",
   "execution_count": null,
   "metadata": {},
   "outputs": [],
   "source": [
    "gmeq.define_idtx_fgtx_eqns()"
   ]
  },
  {
   "cell_type": "code",
   "execution_count": null,
   "metadata": {},
   "outputs": [],
   "source": [
    "gmeq.idtx_rdotz_pz_varphi_eqn, gmeq.idtx_rdotx_pz_varphi_eqn"
   ]
  },
  {
   "cell_type": "code",
   "execution_count": null,
   "metadata": {},
   "outputs": [],
   "source": [
    "gmeq.cosbetasqrd_pz_varphi_solns"
   ]
  },
  {
   "cell_type": "code",
   "execution_count": null,
   "metadata": {},
   "outputs": [],
   "source": [
    "gr.comparison_logpolar( gmeq, job_name+'_comparison_logpolar', fig_size=pr.plot.fig_size, \n",
    "                        idtx_pz_min=pr.plot.idtx_pz_min, idtx_pz_max=pr.plot.idtx_pz_max, \n",
    "                        fgtx_pz_min=pr.plot.fgtx_pz_min, fgtx_pz_max=pr.plot.fgtx_pz_max, \n",
    "                        y_limits=pr.plot.idtx_logpolar_y_limits, \n",
    "                        n_points=pr.plot.idtx_n_points )"
   ]
  },
  {
   "cell_type": "markdown",
   "metadata": {},
   "source": [
    "# Conjugacy for $\\varphi=1$\n",
    "\n",
    "Visualize, for $\\varphi=1$, the conjugacy of $\\mathbf{v}$ and $\\mathbf{\\widetilde{p}}$ as well as their relationship to the unit circle."
   ]
  },
  {
   "cell_type": "code",
   "execution_count": null,
   "metadata": {},
   "outputs": [],
   "source": [
    "gr.relative_geometry( gmeq, job_name+'_relative_geometry', fig_size=pr.plot.fig_size,\n",
    "                      varphi_=1, do_annotations=False, zoom_factor=1, do_shapes=True, x_max=5 )"
   ]
  },
  {
   "cell_type": "code",
   "execution_count": null,
   "metadata": {},
   "outputs": [],
   "source": [
    "gr.relative_geometry( gmeq, job_name+'_relative_geometry_ray_slowness', fig_size=pr.plot.fig_size,\n",
    "                      varphi_=1, do_annotations=False, zoom_factor=0.5, \n",
    "                      do_half=False, do_legend=True, do_pz=False,\n",
    "                      do_text_labels=False, do_arrows=False, do_lines_points=False,\n",
    "                      n_points=pr.plot.idtx_n_points, \n",
    "                      do_shapes=False, do_ray_slowness=True, pz_min=pr.plot.idtx_pz_min)"
   ]
  },
  {
   "cell_type": "markdown",
   "metadata": {},
   "source": [
    "# Conjugacy for range of $\\varphi$\n",
    "\n",
    "Demonstrate how $\\vec{v}$ and $\\mathbf{\\widetilde{p}}$ covary, as $\\varphi$ changes, in order to maintain conjugacy."
   ]
  },
  {
   "cell_type": "code",
   "execution_count": null,
   "metadata": {
    "scrolled": false
   },
   "outputs": [],
   "source": [
    "for varphi_ in pr.plot.idtx_varphi_list[2:]:\n",
    "    print(varphi_)\n",
    "    gr.relative_geometry( gmeq, job_name+f'_relative_geometry_varphi{varphi_}'.replace('.','p'), \n",
    "                          fig_size=pr.plot.medium_fig_size,\n",
    "                          do_annotations=False, varphi_=varphi_, zoom_factor=1, \n",
    "                          do_half=True, do_legend=False, do_pz=True, x_max=4, \n",
    "                          n_points=pr.plot.idtx_n_points, \n",
    "                          pz_min=pr.plot.idtx_pz_min )"
   ]
  },
  {
   "cell_type": "markdown",
   "metadata": {},
   "source": [
    "# Save"
   ]
  },
  {
   "cell_type": "code",
   "execution_count": null,
   "metadata": {},
   "outputs": [],
   "source": [
    "plots_dir = create_directories(pr.save.figs_path, pr.job.group_name)\n",
    "export_plots( gr.fdict, plots_dir, pr.save.figs_format, suffix='' )"
   ]
  },
  {
   "cell_type": "code",
   "execution_count": null,
   "metadata": {},
   "outputs": [],
   "source": []
  }
 ],
 "metadata": {
  "hide_input": false,
  "kernelspec": {
   "display_name": "Python 3",
   "language": "python",
   "name": "python3"
  },
  "language_info": {
   "codemirror_mode": {
    "name": "ipython",
    "version": 3
   },
   "file_extension": ".py",
   "mimetype": "text/x-python",
   "name": "python",
   "nbconvert_exporter": "python",
   "pygments_lexer": "ipython3",
   "version": "3.8.12"
  }
 },
 "nbformat": 4,
 "nbformat_minor": 2
}
