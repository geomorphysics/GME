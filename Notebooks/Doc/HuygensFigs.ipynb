{
 "cells": [
  {
   "cell_type": "markdown",
   "metadata": {},
   "source": [
    "# Summary"
   ]
  },
  {
   "cell_type": "markdown",
   "metadata": {},
   "source": [
    "### Parameter files"
   ]
  },
  {
   "cell_type": "code",
   "execution_count": 1,
   "metadata": {},
   "outputs": [],
   "source": [
    "# Specify the parameter files for the job\n",
    "import os\n",
    "if 'GME_NB_PR' not in os.environ.keys():\n",
    "    pr_filenames = ['Huygens']\n",
    "#     pr_filenames = ['TimeInvariant_sinbeta_ramp_eta1p5_ratio0p5_xiv10']\n",
    "else:\n",
    "    pr_filenames = eval(os.environ['GME_NB_PR'])"
   ]
  },
  {
   "cell_type": "markdown",
   "metadata": {},
   "source": [
    "### Preliminaries"
   ]
  },
  {
   "cell_type": "code",
   "execution_count": 2,
   "metadata": {},
   "outputs": [
    {
     "name": "stdout",
     "output_type": "stream",
     "text": [
      "Deducing working path from GME package location = /Users/colinstark/Projects/GME\n"
     ]
    },
    {
     "data": {
      "text/plain": [
       "('/Users/colinstark/Projects/GME/Parameters/Doc', ['Huygens'])"
      ]
     },
     "execution_count": 2,
     "metadata": {},
     "output_type": "execute_result"
    }
   ],
   "source": [
    "# Import Sympy and Numpy and set up latex inline & pretty dict printing\n",
    "import sympy as sy, numpy as np\n",
    "sy.init_printing(pretty_print=True,wrap_line=True)\n",
    "from sympy import simplify, Matrix, Eq, Rational, rad, deg\n",
    "from pprint import PrettyPrinter\n",
    "pp = PrettyPrinter(indent=4).pprint\n",
    "\n",
    "# Import Geomorphysics library functions, classes\n",
    "from gmplib.utils import numify, export_results, e2d, omitdict, convert\n",
    "from gmplib.save import create_directories, export_plots\n",
    "from gmplib.parameters import import_parameters, Parameters\n",
    "\n",
    "# Import GME classes and do a wildcard (!) import of all GME symbol definitions\n",
    "from gme.symbols import *\n",
    "from gme.equations import Equations, EquationSubset\n",
    "from gme.ode_raytracing import TimeInvariantSolution\n",
    "from gme.plot import TimeInvariantPlots, ManuscriptPlots\n",
    "\n",
    "#\n",
    "from matplotlib import pyplot as plt\n",
    "\n",
    "# Decide where we're working and thus where to find the job parameter files\n",
    "#   -  use the GME_WORKING_PATH environment variable if it's defined\n",
    "#   -  otherwise, deduce that we're working in the GME notebook dir\n",
    "if 'GME_WORKING_PATH' in os.environ.keys():\n",
    "    working_path = os.environ['GME_WORKING_PATH']\n",
    "    print(f'Fetching working path from environment variable GME_WORKING_PATH = {working_path}')\n",
    "else:\n",
    "    from gmplib.utils import get_pkg_path\n",
    "    import gme\n",
    "    working_path = get_pkg_path(gme, dirname='')\n",
    "    print(f'Deducing working path from GME package location = {working_path}')\n",
    "    del gme\n",
    "    \n",
    "# Set the path to the parameter files for this nb and report\n",
    "pr_path = os.path.join(working_path,'Parameters','Doc')\n",
    "pr_path, pr_filenames"
   ]
  },
  {
   "cell_type": "code",
   "execution_count": 3,
   "metadata": {
    "scrolled": false
   },
   "outputs": [
    {
     "name": "stdout",
     "output_type": "stream",
     "text": [
      "{   'debug': False,\n",
      "    'group_name': 'Schematics',\n",
      "    'short_name': 'sch',\n",
      "    'subtitle': '',\n",
      "    'title': 'Huygens explainers',\n",
      "    'verbose': True,\n",
      "    'very_verbose': False}\n",
      "{   'Ci': pi/1800,\n",
      "    'Lc': 10000,\n",
      "    'beta_type': 'sin',\n",
      "    'do_geodesic': False,\n",
      "    'eta': 3/2,\n",
      "    'h_0': 1/2,\n",
      "    'ibc_type': 'concave-up',\n",
      "    'kappa_h': 3/2,\n",
      "    'mu': 3/4,\n",
      "    't_xiv0_list': None,\n",
      "    'varepsilonhat': 1/100,\n",
      "    'varphi_0': 2.641e-05,\n",
      "    'varphi_type': 'ramp',\n",
      "    'x_h': 1,\n",
      "    'x_sigma': 0.01,\n",
      "    'xiv_0': None}\n",
      "{   'choice': 'Hamilton',\n",
      "    'do_dense': True,\n",
      "    'do_geodesic': False,\n",
      "    'do_ic': False,\n",
      "    'do_ip': False,\n",
      "    'do_vb': False,\n",
      "    'ic_res': 31,\n",
      "    'ip_res': 101,\n",
      "    'method': {'Hamilton': 'Radau', 'geodesic': 'LSODA'},\n",
      "    'ray_n_t': 301,\n",
      "    't_distribn': 2,\n",
      "    't_end': 0.035,\n",
      "    'vb_res': 101}\n",
      "{   'do_eliminate_caustics': True,\n",
      "    'n_isochrones': 30,\n",
      "    'spline_order': 3,\n",
      "    't_isochrone_max': 0.01,\n",
      "    'tolerance': None}\n",
      "{   'ang_x_limits': [15, 95],\n",
      "    'ang_y_limits': [-10, 30],\n",
      "    'angdisp_x_limits': [0, 90],\n",
      "    'angdisp_y_limits': [0, 90],\n",
      "    'aniso_arrow_exponent': 0.9,\n",
      "    'aniso_arrow_size': 0.5,\n",
      "    'aniso_n_points': 45,\n",
      "    'aniso_y_limits': None,\n",
      "    'big_fig_size': [10, 7],\n",
      "    'dimx_limits': [-0.03, 1.03],\n",
      "    'dimx_limits_zoom': [0.2, 0.3],\n",
      "    'dimz_limits': [-0.01, 0.6],\n",
      "    'dimz_limits_zoom': [-0.25, -0.23],\n",
      "    'do_etaxi_labeling': True,\n",
      "    'do_extra_annotations': False,\n",
      "    'do_huygens_wavelets': False,\n",
      "    'do_profile_extra': False,\n",
      "    'do_profile_schematic': True,\n",
      "    'do_pub_labeling': True,\n",
      "    'do_ray_conjugacy': False,\n",
      "    'fgtx_pz_max': 100000.0,\n",
      "    'fgtx_pz_min': 0.001,\n",
      "    'fig_size': [8, 8],\n",
      "    'idtx_logpolar_y_limits': [-2, 1],\n",
      "    'idtx_n_points': 100,\n",
      "    'idtx_pz_max': 100000.0,\n",
      "    'idtx_pz_min': 0.001,\n",
      "    'idtx_varphi_list': [0.1, 0.15, 0.5, 1, 1.3, 2, 3],\n",
      "    'isochrone_subsetting': 1,\n",
      "    'medium_fig_size': [7, 6],\n",
      "    'misc_n_points': 101,\n",
      "    'n_rays': 4,\n",
      "    'profile_cusp_speed_legend_loc': None,\n",
      "    'profile_cusp_speed_y_limits': [-10, 30],\n",
      "    'profile_det_eta_label_xy': [0.5, 0.5],\n",
      "    'profile_eval_eta_label_xy': None,\n",
      "    'profile_evec_eta_label_xy': None,\n",
      "    'profile_evec_legend_loc': 'upper left',\n",
      "    'profile_n_points': 101,\n",
      "    'profile_ray_n_points': 121,\n",
      "    'profile_subsetting': 8,\n",
      "    'pub_label_posns': {   'alpha_beta': [0.88, 0.7],\n",
      "                           'angular_disparity': [0.15, 0.15],\n",
      "                           'profile_angular_disparity': [0.6, 0.35],\n",
      "                           'profile_aniso': 'None',\n",
      "                           'profile_beta': [0.93, 0.2],\n",
      "                           'profile_h_ray': [0.85, 0.25],\n",
      "                           'profile_h_rays': [0.93, 0.4],\n",
      "                           'profile_v': 'None',\n",
      "                           'profile_vdot': 'None',\n",
      "                           'profile_vxz': 'None',\n",
      "                           'profile_xi': 'None',\n",
      "                           'profile_xihorizontal': 'None',\n",
      "                           'profile_xivertical': 'None'},\n",
      "    'pub_labels': {   'alpha_beta': '(a)',\n",
      "                      'angular_disparity': '(a)',\n",
      "                      'profile_angular_disparity': '(a)',\n",
      "                      'profile_aniso': '(a)',\n",
      "                      'profile_beta': '(a)',\n",
      "                      'profile_h_ray': '(a)',\n",
      "                      'profile_h_rays': '(a)',\n",
      "                      'profile_v': '',\n",
      "                      'profile_vdot': '',\n",
      "                      'profile_vxz': '(c)',\n",
      "                      'profile_xi': '(a)',\n",
      "                      'profile_xihorizontal': '',\n",
      "                      'profile_xivertical': '(d)'},\n",
      "    'ray_acceln_legend_loc': 'lower right',\n",
      "    'ray_eta_xy': [0.85, 0.15],\n",
      "    'ray_n_points': 26,\n",
      "    'ray_y_limits': None,\n",
      "    'rays_n_points': 40,\n",
      "    'small_fig_size': [7, 3]}\n",
      "{   'figs_format': ['png'],\n",
      "    'figs_options': {'bbox_inches': 'tight', 'dpi': 300},\n",
      "    'figs_path': ['..', '..', 'Plots']}\n"
     ]
    }
   ],
   "source": [
    "# Read and combine the default and job parameter files, and report\n",
    "\n",
    "parameters_dict,_ = import_parameters([pr_path], [os.path.join('..','defaults'), *pr_filenames])\n",
    "pr = Parameters(parameters_dict, evaluations={}, sequence=())\n",
    "pr.job.group_name = 'Schematics'\n",
    "pr.job.short_name = 'sch'\n",
    "[pp(psubobj.__dict__) for psubobj in (pr.job, pr.model, pr.solve, pr.resolve, pr.plot, pr.save)];"
   ]
  },
  {
   "cell_type": "code",
   "execution_count": 4,
   "metadata": {},
   "outputs": [],
   "source": [
    "# pr.model.varepsilonhat = Rational(1,50)\n",
    "# pr.model.Ci=rad(5)"
   ]
  },
  {
   "cell_type": "code",
   "execution_count": 5,
   "metadata": {},
   "outputs": [
    {
     "data": {
      "image/png": "[encoded data removed]",
      "text/latex": [
       "$\\displaystyle \\left( \\left\\{ \\eta : \\frac{3}{2}, \\  \\mu : \\frac{3}{4}\\right\\}, \\  \\frac{\\mu}{\\eta} = \\frac{1}{2}, \\  \\left\\{ L_\\mathrm{c} : 10000, \\  \\hat{\\varepsilon} : \\frac{1}{100}, \\  \\mathsf{Ci} : \\frac{\\pi}{1800}, \\  \\varepsilon : 100\\right\\}\\right)$"
      ],
      "text/plain": [
       "⎛                       \\mu         ⎧                                         \n",
       "⎜{\\eta: 3/2, \\mu: 3/4}, ──── = 1/2, ⎨L_\\mathrm{c}: 10000, \\hat{\\varepsilon}: 1\n",
       "⎝                       \\eta        ⎩                                         \n",
       "\n",
       "                    π                    ⎫⎞\n",
       "/100, \\mathsf{Ci}: ────, \\varepsilon: 100⎬⎟\n",
       "                   1800                  ⎭⎠"
      ]
     },
     "execution_count": 5,
     "metadata": {},
     "output_type": "execute_result"
    }
   ],
   "source": [
    "# Create a dict of the key physics parameters to be used in substitutions\n",
    "subexp = {\n",
    "    eta: pr.model.eta,\n",
    "    mu: pr.model.mu\n",
    "}\n",
    "sub = {\n",
    "    Ci: pr.model.Ci, \n",
    "    Lc: pr.model.Lc, \n",
    "    varepsilonhat: pr.model.varepsilonhat, \n",
    "    varepsilon: pr.model.varepsilonhat*pr.model.Lc\n",
    "}\n",
    "subexp, Eq(mu/eta,pr.model.mu/pr.model.eta), sub"
   ]
  },
  {
   "cell_type": "markdown",
   "metadata": {},
   "source": [
    "# Equations"
   ]
  },
  {
   "cell_type": "markdown",
   "metadata": {},
   "source": [
    "Derive the GME equation set (using Sympy) for a specific erosion model."
   ]
  },
  {
   "cell_type": "code",
   "execution_count": 6,
   "metadata": {},
   "outputs": [],
   "source": [
    "gmeq = Equations( eta=pr.model.eta, \n",
    "                  mu=pr.model.mu, \n",
    "                  beta_type=pr.model.beta_type, \n",
    "                  varphi_type=pr.model.varphi_type, \n",
    "                  ibc_type=pr.model.ibc_type,\n",
    "                  do_idtx=True,\n",
    "                  do_raw=True )"
   ]
  },
  {
   "cell_type": "markdown",
   "metadata": {},
   "source": [
    "# Integration"
   ]
  },
  {
   "cell_type": "markdown",
   "metadata": {},
   "source": [
    "Integrate Hamilton's equations in $(\\mathbf{r}, \\mathbf{\\widetilde{p}})[t]$ for a given vertical component of the erosion rate (initial condition) equivalent to a constant vertical velocity (boundary condition). In other words, given a value for vertical slip rate $\\xi^{\\downarrow}$ at the boundary at $x=0$, where the initial ray position is $\\left.(r^x, r^z)\\right|_{t=0} = (0,0)$, specify the initial value of the vertical component of the normal-slowness covector $p_z[t=0] = \\left.-1/\\xi^{\\downarrow}\\right|_{x=0}$.  The horizontal component of the initial covector $p_x[t=0]$ is computed by calculating the surface gradient $\\left.\\tan\\beta\\right|_{x=0}$ from the erosion model and then using $-p_x/p_z = \\tan\\beta$."
   ]
  },
  {
   "cell_type": "markdown",
   "metadata": {},
   "source": [
    "Create an instance of the ODE solution object."
   ]
  },
  {
   "cell_type": "code",
   "execution_count": 7,
   "metadata": {},
   "outputs": [
    {
     "data": {
      "image/png": "[encoded data removed]",
      "text/latex": [
       "$\\displaystyle \\beta_{0} = 0.1 ^\\circ$"
      ],
      "text/plain": [
       "\\beta₀ = 0.1°"
      ]
     },
     "execution_count": 7,
     "metadata": {},
     "output_type": "execute_result"
    }
   ],
   "source": [
    "pr.model.beta_0 = float(beta_0.subs(e2d(gmeq.beta0_Ci_eqn\n",
    "                                        .subs(omitdict(sub,[beta_0])).subs(subexp))))\n",
    "sub.update({beta_0:pr.model.beta_0})\n",
    "convert(Eq(beta_0, pr.model.beta_0), n=2, units=degrees, do_raw=False)"
   ]
  },
  {
   "cell_type": "code",
   "execution_count": 8,
   "metadata": {},
   "outputs": [
    {
     "data": {
      "image/png": "[encoded data removed]",
      "text/latex": [
       "$\\displaystyle \\frac{\\xi^{\\downarrow{0}}}{\\xi^{\\rightarrow{0}}} = 0.00169400094742009$"
      ],
      "text/plain": [
       " \\xi__{\\downarrow{0}}                      \n",
       "───────────────────── = 0.00169400094742009\n",
       "\\xi__{\\rightarrow{0}}                      "
      ]
     },
     "execution_count": 8,
     "metadata": {},
     "output_type": "execute_result"
    }
   ],
   "source": [
    "xivh0_ = float((xiv_0/xih_0).subs(e2d(gmeq.xiv0_xih0_Ci_eqn)).subs(sub).subs(subexp).n())\n",
    "sub.update({(xiv_0/xih_0):xivh0_})\n",
    "Eq(xiv_0/xih_0, sub[xiv_0/xih_0])"
   ]
  },
  {
   "cell_type": "code",
   "execution_count": 9,
   "metadata": {},
   "outputs": [
    {
     "data": {
      "image/png": "[encoded data removed]",
      "text/latex": [
       "$\\displaystyle \\left[\\begin{matrix}p_{z} = - \\frac{\\xi^{\\rightarrow{0}}}{\\xi^{\\downarrow}}\\\\- 3.0461798462213 \\cdot 10^{-6} p_{x}^{6} \\left(1 - 0.99009900990099 {r}^x\\right)^{6} + 8.74141204230373 \\cdot 10^{-12} p_{x}^{2} + 3.04617110480926 \\cdot 10^{-6} = 0\\\\\\xi^{\\downarrow{0}} = 0.00169400094742009 \\xi^{\\rightarrow{0}}\\end{matrix}\\right]$"
      ],
      "text/plain": [
       "⎡                                             -\\xi__{\\rightarrow{0}}          \n",
       "⎢                                       p_z = ───────────────────────         \n",
       "⎢                                                \\xi__{\\downarrow}            \n",
       "⎢                                                                             \n",
       "⎢                       6                              6                      \n",
       "⎢- 3.0461798462213e-6⋅pₓ ⋅(1 - 0.99009900990099⋅{r}__x)  + 8.74141204230373e-1\n",
       "⎢                                                                             \n",
       "⎣                      \\xi__{\\downarrow{0}} = 0.00169400094742009⋅\\xi__{\\right\n",
       "\n",
       "                               ⎤\n",
       "                               ⎥\n",
       "                               ⎥\n",
       "                               ⎥\n",
       "    2                          ⎥\n",
       "2⋅pₓ  + 3.04617110480926e-6 = 0⎥\n",
       "                               ⎥\n",
       "arrow{0}}                      ⎦"
      ]
     },
     "execution_count": 9,
     "metadata": {},
     "output_type": "execute_result"
    }
   ],
   "source": [
    "gmeq_ndim_subset = EquationSubset(gmeq, sub, do_ndim=True, do_revert=True) \n",
    "Matrix([\n",
    "    gmeq_ndim_subset.pz_xiv_eqn,\n",
    "    gmeq_ndim_subset.poly_px_xiv0_eqn,\n",
    "    gmeq_ndim_subset.xiv0_xih0_Ci_eqn\n",
    "])"
   ]
  },
  {
   "cell_type": "code",
   "execution_count": 10,
   "metadata": {},
   "outputs": [],
   "source": [
    "xmax_ = 0.999 #float(1-varepsilonhat.subs(sub))"
   ]
  },
  {
   "cell_type": "code",
   "execution_count": 11,
   "metadata": {},
   "outputs": [
    {
     "name": "stdout",
     "output_type": "stream",
     "text": [
      "Solve Hamilton's ODEs using Radau method of integration\n"
     ]
    }
   ],
   "source": [
    "gmes = TimeInvariantSolution( gmeq_ndim_subset, parameters=sub, \n",
    "                              t_end=pr.solve.t_end, t_distribn=pr.solve.t_distribn, \n",
    "                              x_stop=xmax_,\n",
    "                              n_t=pr.solve.ray_n_t,\n",
    "                              choice=pr.solve.choice, \n",
    "                              method=pr.solve.method[pr.solve.choice],\n",
    "                              do_dense=pr.solve.do_dense )"
   ]
  },
  {
   "cell_type": "markdown",
   "metadata": {},
   "source": [
    "Set of initial conditions for the ray."
   ]
  },
  {
   "cell_type": "code",
   "execution_count": 12,
   "metadata": {},
   "outputs": [
    {
     "data": {
      "image/png": "[encoded data removed]",
      "text/latex": [
       "$\\displaystyle \\left[ 0, \\  0, \\  1.0, \\  -590.318441983735\\right]$"
      ],
      "text/plain": [
       "[0, 0, 1.0, -590.318441983735]"
      ]
     },
     "execution_count": 12,
     "metadata": {},
     "output_type": "execute_result"
    }
   ],
   "source": [
    "gmes.initial_conditions()"
   ]
  },
  {
   "cell_type": "markdown",
   "metadata": {},
   "source": [
    "Perform integration of the coupled ODEs."
   ]
  },
  {
   "cell_type": "code",
   "execution_count": 13,
   "metadata": {
    "scrolled": false
   },
   "outputs": [
    {
     "name": "stdout",
     "output_type": "stream",
     "text": [
      "Message: The solver successfully reached the end of the integration interval.\n",
      "Success? True\n",
      "Status: 0\n",
      "t_final: 0.035\n",
      "rx_final: 0.05115880619897154\n"
     ]
    }
   ],
   "source": [
    "gmes.solve()\n",
    "print('Message: {}\\nSuccess? {}\\nStatus: {}\\nt_final: {}\\nrx_final: {}'\n",
    "      .format(gmes.solns[0].message, gmes.solns[0].success,\n",
    "              gmes.solns[0].status, gmes.solns[0].t[-1], gmes.solns[0].y[0][-1]) )"
   ]
  },
  {
   "cell_type": "markdown",
   "metadata": {},
   "source": [
    "Process the above output, which takes the form of time series of positions $\\{\\mathbf{r}\\}$ and front normal slownesses  $\\{\\mathbf{\\widetilde{p}}\\}$, into various arrays."
   ]
  },
  {
   "cell_type": "code",
   "execution_count": 14,
   "metadata": {
    "scrolled": false
   },
   "outputs": [],
   "source": [
    "gmes.postprocessing(spline_order=pr.resolve.spline_order)\n",
    "gmes.more_postprocessing(spline_order=pr.resolve.spline_order)"
   ]
  },
  {
   "cell_type": "markdown",
   "metadata": {},
   "source": [
    "Generate a time-invariant profile by spatially integrating the topographic gradients implied by the time series of front normal slownesses  $\\{\\mathbf{\\widetilde{p}}\\}$. \n",
    "\n",
    "This profile can alternatively be generated by synthesizing a staggered sequence of rays and gathering all the ray positions $\\{\\mathbf{r}\\}$ for a chosen time slice. This has already been done in the post-processing step."
   ]
  },
  {
   "cell_type": "code",
   "execution_count": 15,
   "metadata": {
    "scrolled": false
   },
   "outputs": [],
   "source": [
    "gmes.integrate_h_profile(do_truncate=True, x_max=1) #xmax_"
   ]
  },
  {
   "cell_type": "markdown",
   "metadata": {},
   "source": [
    "# Plots"
   ]
  },
  {
   "cell_type": "markdown",
   "metadata": {},
   "source": [
    "Generate explanatory figures for publication "
   ]
  },
  {
   "cell_type": "markdown",
   "metadata": {
    "heading_collapsed": true
   },
   "source": [
    "## Preliminaries"
   ]
  },
  {
   "cell_type": "code",
   "execution_count": 16,
   "metadata": {
    "hidden": true
   },
   "outputs": [
    {
     "data": {
      "text/plain": [
       "'sch'"
      ]
     },
     "execution_count": 16,
     "metadata": {},
     "output_type": "execute_result"
    }
   ],
   "source": [
    "prefix = pr.job.short_name\n",
    "\n",
    "job_name = prefix #+suffix.replace('.','p')\n",
    "job_name"
   ]
  },
  {
   "cell_type": "code",
   "execution_count": 17,
   "metadata": {
    "hidden": true
   },
   "outputs": [],
   "source": [
    "gr = ManuscriptPlots()"
   ]
  },
  {
   "cell_type": "markdown",
   "metadata": {},
   "source": [
    "## Hugyens schematics"
   ]
  },
  {
   "cell_type": "code",
   "execution_count": 18,
   "metadata": {},
   "outputs": [
    {
     "data": {
      "image/png": "[encoded data removed]",
      "text/latex": [
       "$\\displaystyle \\varphi{\\left(\\mathbf{r} \\right)} = \\varphi_{0} \\left(10100 - {r}^x\\right)^{\\frac{3}{2}}$"
      ],
      "text/plain": [
       "                                               3/2\n",
       "\\varphi(\\mathbf{r}) = \\varphi₀⋅(10100 - {r}__x)   "
      ]
     },
     "execution_count": 18,
     "metadata": {},
     "output_type": "execute_result"
    }
   ],
   "source": [
    "gmeq.varphi_rx_eqn.subs(sub).subs(subexp)"
   ]
  },
  {
   "cell_type": "code",
   "execution_count": 19,
   "metadata": {},
   "outputs": [
    {
     "data": {
      "image/png": "[encoded data removed]",
      "text/latex": [
       "$\\displaystyle \\varphi{\\left(\\mathbf{r} \\right)} = \\varphi_{0} \\left(L_\\mathrm{c} + \\varepsilon - {r}^x\\right)^{2 \\mu}$"
      ],
      "text/plain": [
       "                                                                    2⋅\\mu\n",
       "\\varphi(\\mathbf{r}) = \\varphi₀⋅(L_\\mathrm{c} + \\varepsilon - {r}__x)     "
      ]
     },
     "execution_count": 19,
     "metadata": {},
     "output_type": "execute_result"
    }
   ],
   "source": [
    "gmeq.varphi_rx_eqn"
   ]
  },
  {
   "cell_type": "code",
   "execution_count": 20,
   "metadata": {},
   "outputs": [
    {
     "data": {
      "image/png": "[encoded data removed]",
      "text/latex": [
       "$\\displaystyle \\left\\{ L_\\mathrm{c} : 10000, \\  \\beta_{0} : 0.00169399932703237, \\  \\eta : \\frac{3}{2}, \\  \\hat{\\varepsilon} : \\frac{1}{100}, \\  \\mathsf{Ci} : \\frac{\\pi}{1800}, \\  \\mu : \\frac{3}{4}, \\  \\varepsilon : 100, \\  \\frac{\\xi^{\\downarrow{0}}}{\\xi^{\\rightarrow{0}}} : 0.00169400094742009\\right\\}$"
      ],
      "text/plain": [
       "⎧                                                                             \n",
       "⎨L_\\mathrm{c}: 10000, \\beta₀: 0.001693999327032369, \\eta: 3/2, \\hat{\\varepsilo\n",
       "⎩                                                                             \n",
       "\n",
       "                         π                                 \\xi__{\\downarrow{0}\n",
       "n}: 1/100, \\mathsf{Ci}: ────, \\mu: 3/4, \\varepsilon: 100, ────────────────────\n",
       "                        1800                              \\xi__{\\rightarrow{0}\n",
       "\n",
       "}                       ⎫\n",
       "─: 0.0016940009474200924⎬\n",
       "}                       ⎭"
      ]
     },
     "execution_count": 20,
     "metadata": {},
     "output_type": "execute_result"
    }
   ],
   "source": [
    "suball = sub.copy()\n",
    "suball.update(subexp)\n",
    "suball\n",
    "# suball.update({varphi_0:300, varepsilon:1/30})"
   ]
  },
  {
   "cell_type": "code",
   "execution_count": 21,
   "metadata": {},
   "outputs": [
    {
     "name": "stdout",
     "output_type": "stream",
     "text": [
      "0: 111\n"
     ]
    },
    {
     "ename": "TypeError",
     "evalue": "can't convert expression to float",
     "output_type": "error",
     "traceback": [
      "\u001b[0;31m---------------------------------------------------------------------------\u001b[0m",
      "\u001b[0;31mTypeError\u001b[0m                                 Traceback (most recent call last)",
      "\u001b[0;32m<ipython-input-21-711168d7dd3d>\u001b[0m in \u001b[0;36m<module>\u001b[0;34m\u001b[0m\n\u001b[0;32m----> 1\u001b[0;31m gr.huygens_wavelets( gmes, gmeq, suball, job_name+'_ray_conjugacy', fig_size=(7,6),\n\u001b[0m\u001b[1;32m      2\u001b[0m                       do_ray_conjugacy=True, do_legend=False, annotation_fontsize=13 )\n",
      "\u001b[0;32m~/Projects/GME/Packages/gme/plot.py\u001b[0m in \u001b[0;36mhuygens_wavelets\u001b[0;34m(self, gmes, gmeq, sub, name, fig_size, dpi, do_ray_conjugacy, do_fast, do_legend, legend_fontsize, annotation_fontsize)\u001b[0m\n\u001b[1;32m   3056\u001b[0m             \u001b[0mbeta_\u001b[0m \u001b[0;34m=\u001b[0m \u001b[0mfloat\u001b[0m\u001b[0;34m(\u001b[0m\u001b[0mgmes\u001b[0m\u001b[0;34m.\u001b[0m\u001b[0mbeta_p_interp\u001b[0m\u001b[0;34m(\u001b[0m\u001b[0mrx_\u001b[0m\u001b[0;34m)\u001b[0m\u001b[0;34m)\u001b[0m\u001b[0;34m\u001b[0m\u001b[0;34m\u001b[0m\u001b[0m\n\u001b[1;32m   3057\u001b[0m             \u001b[0mdpx_\u001b[0m\u001b[0;34m,\u001b[0m \u001b[0mdpz_\u001b[0m \u001b[0;34m=\u001b[0m \u001b[0mrecip_p_\u001b[0m\u001b[0;34m*\u001b[0m\u001b[0mnp\u001b[0m\u001b[0;34m.\u001b[0m\u001b[0msin\u001b[0m\u001b[0;34m(\u001b[0m\u001b[0mbeta_\u001b[0m\u001b[0;34m)\u001b[0m\u001b[0;34m*\u001b[0m\u001b[0mdp_fudge\u001b[0m\u001b[0;34m,\u001b[0m \u001b[0;34m-\u001b[0m\u001b[0mrecip_p_\u001b[0m\u001b[0;34m*\u001b[0m\u001b[0mnp\u001b[0m\u001b[0;34m.\u001b[0m\u001b[0mcos\u001b[0m\u001b[0;34m(\u001b[0m\u001b[0mbeta_\u001b[0m\u001b[0;34m)\u001b[0m\u001b[0;34m*\u001b[0m\u001b[0mdp_fudge\u001b[0m\u001b[0;34m\u001b[0m\u001b[0;34m\u001b[0m\u001b[0m\n\u001b[0;32m-> 3058\u001b[0;31m             \u001b[0mvarphi_\u001b[0m \u001b[0;34m=\u001b[0m \u001b[0mfloat\u001b[0m\u001b[0;34m(\u001b[0m\u001b[0mgmeq\u001b[0m\u001b[0;34m.\u001b[0m\u001b[0mvarphi_rx_eqn\u001b[0m\u001b[0;34m.\u001b[0m\u001b[0mrhs\u001b[0m\u001b[0;34m.\u001b[0m\u001b[0msubs\u001b[0m\u001b[0;34m(\u001b[0m\u001b[0msub\u001b[0m\u001b[0;34m)\u001b[0m\u001b[0;34m.\u001b[0m\u001b[0msubs\u001b[0m\u001b[0;34m(\u001b[0m\u001b[0;34m{\u001b[0m\u001b[0mrx\u001b[0m\u001b[0;34m:\u001b[0m\u001b[0mrx_\u001b[0m\u001b[0;34m}\u001b[0m\u001b[0;34m)\u001b[0m\u001b[0;34m)\u001b[0m\u001b[0;34m\u001b[0m\u001b[0;34m\u001b[0m\u001b[0m\n\u001b[0m\u001b[1;32m   3059\u001b[0m             \u001b[0mn_points\u001b[0m \u001b[0;34m=\u001b[0m \u001b[0;36m80\u001b[0m \u001b[0;32mif\u001b[0m \u001b[0mdo_ray_conjugacy\u001b[0m \u001b[0;32melse\u001b[0m \u001b[0;36m5\u001b[0m \u001b[0;32mif\u001b[0m \u001b[0mdo_fast\u001b[0m \u001b[0;32melse\u001b[0m \u001b[0;36m50\u001b[0m\u001b[0;34m\u001b[0m\u001b[0;34m\u001b[0m\u001b[0m\n\u001b[1;32m   3060\u001b[0m             \u001b[0mpz_max\u001b[0m \u001b[0;34m=\u001b[0m \u001b[0;36m1000\u001b[0m \u001b[0;32mif\u001b[0m \u001b[0mdo_ray_conjugacy\u001b[0m \u001b[0;32melse\u001b[0m \u001b[0;36m1000\u001b[0m\u001b[0;34m\u001b[0m\u001b[0;34m\u001b[0m\u001b[0m\n",
      "\u001b[0;32m/opt/local/Library/Frameworks/Python.framework/Versions/3.8/lib/python3.8/site-packages/sympy/core/expr.py\u001b[0m in \u001b[0;36m__float__\u001b[0;34m(self)\u001b[0m\n\u001b[1;32m    357\u001b[0m         \u001b[0;32mif\u001b[0m \u001b[0mresult\u001b[0m\u001b[0;34m.\u001b[0m\u001b[0mis_number\u001b[0m \u001b[0;32mand\u001b[0m \u001b[0mresult\u001b[0m\u001b[0;34m.\u001b[0m\u001b[0mas_real_imag\u001b[0m\u001b[0;34m(\u001b[0m\u001b[0;34m)\u001b[0m\u001b[0;34m[\u001b[0m\u001b[0;36m1\u001b[0m\u001b[0;34m]\u001b[0m\u001b[0;34m:\u001b[0m\u001b[0;34m\u001b[0m\u001b[0;34m\u001b[0m\u001b[0m\n\u001b[1;32m    358\u001b[0m             \u001b[0;32mraise\u001b[0m \u001b[0mTypeError\u001b[0m\u001b[0;34m(\u001b[0m\u001b[0;34m\"can't convert complex to float\"\u001b[0m\u001b[0;34m)\u001b[0m\u001b[0;34m\u001b[0m\u001b[0;34m\u001b[0m\u001b[0m\n\u001b[0;32m--> 359\u001b[0;31m         \u001b[0;32mraise\u001b[0m \u001b[0mTypeError\u001b[0m\u001b[0;34m(\u001b[0m\u001b[0;34m\"can't convert expression to float\"\u001b[0m\u001b[0;34m)\u001b[0m\u001b[0;34m\u001b[0m\u001b[0;34m\u001b[0m\u001b[0m\n\u001b[0m\u001b[1;32m    360\u001b[0m \u001b[0;34m\u001b[0m\u001b[0m\n\u001b[1;32m    361\u001b[0m     \u001b[0;32mdef\u001b[0m \u001b[0m__complex__\u001b[0m\u001b[0;34m(\u001b[0m\u001b[0mself\u001b[0m\u001b[0;34m)\u001b[0m\u001b[0;34m:\u001b[0m\u001b[0;34m\u001b[0m\u001b[0;34m\u001b[0m\u001b[0m\n",
      "\u001b[0;31mTypeError\u001b[0m: can't convert expression to float"
     ]
    },
    {
     "data": {
      "image/png": "[encoded data removed]",
      "text/plain": [
       "<Figure size 700x600 with 1 Axes>"
      ]
     },
     "metadata": {
      "image/png": {
       "height": 254,
       "width": 601
      },
      "needs_background": "light"
     },
     "output_type": "display_data"
    }
   ],
   "source": [
    "gr.huygens_wavelets( gmes, gmeq, suball, job_name+'_ray_conjugacy', fig_size=(7,6),\n",
    "                      do_ray_conjugacy=True, do_legend=False, annotation_fontsize=13 )"
   ]
  },
  {
   "cell_type": "code",
   "execution_count": null,
   "metadata": {
    "scrolled": false
   },
   "outputs": [],
   "source": [
    "gr.huygens_wavelets( gmes, gmeq, sub, job_name+'_ray_conjugacy_legend', fig_size=(10,6),\n",
    "                      do_ray_conjugacy=True, do_legend=True, legend_fontsize=9,\n",
    "                      annotation_fontsize=16 )"
   ]
  },
  {
   "cell_type": "code",
   "execution_count": null,
   "metadata": {},
   "outputs": [],
   "source": [
    "gr.huygens_wavelets( gmes, gmeq, sub, job_name+'_huygens_wavelets', fig_size=(8,6),\n",
    "                      do_legend=True, annotation_fontsize=13 )"
   ]
  },
  {
   "cell_type": "code",
   "execution_count": null,
   "metadata": {},
   "outputs": [],
   "source": [
    "# gr.profile_flow_model( gmes, gmeq, sub, job_name+'_flow_model', fig_size=(5,4),\n",
    "#                        subtitle=pr.job.subtitle, n_points=51,\n",
    "#                        do_extra_annotations=pr.plot.do_extra_annotations )"
   ]
  },
  {
   "cell_type": "code",
   "execution_count": null,
   "metadata": {},
   "outputs": [],
   "source": [
    "# gr.profile_slope_area( gmes, gmeq, sub, job_name+'_slope_area', fig_size=(5,4),\n",
    "#                        subtitle=pr.job.subtitle, n_points=51,\n",
    "#                        do_extra_annotations=pr.plot.do_extra_annotations,\n",
    "#                        do_simple=not pr.plot.do_ray_conjugacy );"
   ]
  },
  {
   "cell_type": "code",
   "execution_count": null,
   "metadata": {
    "scrolled": false
   },
   "outputs": [],
   "source": [
    "# gr.profile_h_rays( gmes, gmeq, sub, job_name+'_schematic', fig_size=(10,7), n_points=31,\n",
    "#                    ray_subsetting=pr.plot.ray_subsetting//2, do_direct=True, do_schematic=True )"
   ]
  },
  {
   "cell_type": "code",
   "execution_count": null,
   "metadata": {},
   "outputs": [],
   "source": [
    "# if pr.plot.do_profile_extra:\n",
    "#     gr.profile_h_rays( gmes, gmeq, sub, job_name+'_h_rays_extra', fig_size=(10,7), \n",
    "#                        ray_subsetting=pr.plot.ray_subsetting, n_points=pr.plot.rays_n_points,\n",
    "#                        do_simple=True )"
   ]
  },
  {
   "cell_type": "markdown",
   "metadata": {},
   "source": [
    "# Save"
   ]
  },
  {
   "cell_type": "markdown",
   "metadata": {},
   "source": [
    "Export the graphs as PNG and/or PDF image files."
   ]
  },
  {
   "cell_type": "code",
   "execution_count": null,
   "metadata": {},
   "outputs": [],
   "source": [
    "plots_dir = create_directories(pr.save.figs_path, pr.job.group_name)\n",
    "[export_plots( gr_.fdict, plots_dir, pr.save.figs_format, suffix='' ) for gr_ in [gr]];"
   ]
  },
  {
   "cell_type": "code",
   "execution_count": null,
   "metadata": {},
   "outputs": [],
   "source": []
  }
 ],
 "metadata": {
  "hide_input": false,
  "kernelspec": {
   "display_name": "Python 3",
   "language": "python",
   "name": "python3"
  },
  "language_info": {
   "codemirror_mode": {
    "name": "ipython",
    "version": 3
   },
   "file_extension": ".py",
   "mimetype": "text/x-python",
   "name": "python",
   "nbconvert_exporter": "python",
   "pygments_lexer": "ipython3",
   "version": "3.8.12"
  },
  "varInspector": {
   "cols": {
    "lenName": 16,
    "lenType": 16,
    "lenVar": 40
   },
   "kernels_config": {
    "python": {
     "delete_cmd_postfix": "",
     "delete_cmd_prefix": "del ",
     "library": "var_list.py",
     "varRefreshCmd": "print(var_dic_list())"
    },
    "r": {
     "delete_cmd_postfix": ") ",
     "delete_cmd_prefix": "rm(",
     "library": "var_list.r",
     "varRefreshCmd": "cat(var_dic_list()) "
    }
   },
   "position": {
    "height": "398.85px",
    "left": "671px",
    "right": "20px",
    "top": "120px",
    "width": "378px"
   },
   "types_to_exclude": [
    "module",
    "function",
    "builtin_function_or_method",
    "instance",
    "_Feature"
   ],
   "window_display": false
  }
 },
 "nbformat": 4,
 "nbformat_minor": 2
}
