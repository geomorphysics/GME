{
 "cells": [
  {
   "cell_type": "markdown",
   "metadata": {},
   "source": [
    "# Summary\n",
    "\n",
    "The fundamental metric function and its canonical form."
   ]
  },
  {
   "cell_type": "markdown",
   "metadata": {},
   "source": [
    "#### Preliminaries"
   ]
  },
  {
   "cell_type": "code",
   "execution_count": 1,
   "metadata": {},
   "outputs": [],
   "source": [
    "import sympy as sy, numpy as np, os\n",
    "sy.init_printing(pretty_print=True,wrap_line=True)\n",
    "from sympy import simplify, expand, factor, Eq, Abs, Rational, sqrt, symbols\n",
    "from gme.equations import Equations\n",
    "from gme.symbols import *"
   ]
  },
  {
   "cell_type": "markdown",
   "metadata": {},
   "source": [
    "# Basics"
   ]
  },
  {
   "cell_type": "code",
   "execution_count": 2,
   "metadata": {},
   "outputs": [],
   "source": [
    "gmeq = Equations( eta=Rational(1,2),  mu=Rational(1,4),\n",
    "                  beta_type='sin', do_raw=True )"
   ]
  },
  {
   "cell_type": "code",
   "execution_count": 3,
   "metadata": {},
   "outputs": [
    {
     "data": {
      "image/png": "[encoded data removed]",
      "text/latex": [
       "$\\displaystyle p_{x} = p \\sin{\\left(\\beta \\right)}$"
      ],
      "text/plain": [
       "pₓ = p⋅sin(\\beta)"
      ]
     },
     "execution_count": 3,
     "metadata": {},
     "output_type": "execute_result"
    }
   ],
   "source": [
    "gmeq.px_p_beta_eqn"
   ]
  },
  {
   "cell_type": "code",
   "execution_count": 4,
   "metadata": {},
   "outputs": [
    {
     "data": {
      "image/png": "[encoded data removed]",
      "text/latex": [
       "$\\displaystyle p_{z} = - p \\cos{\\left(\\beta \\right)}$"
      ],
      "text/plain": [
       "p_z = -p⋅cos(\\beta)"
      ]
     },
     "execution_count": 4,
     "metadata": {},
     "output_type": "execute_result"
    }
   ],
   "source": [
    "gmeq.pz_p_beta_eqn"
   ]
  },
  {
   "cell_type": "code",
   "execution_count": 5,
   "metadata": {},
   "outputs": [
    {
     "data": {
      "image/png": "[encoded data removed]",
      "text/latex": [
       "$\\displaystyle p = \\sqrt{p_{x}^{2} + p_{z}^{2}}$"
      ],
      "text/plain": [
       "       ____________\n",
       "      ╱   2      2 \n",
       "p = ╲╱  pₓ  + p_z  "
      ]
     },
     "execution_count": 5,
     "metadata": {},
     "output_type": "execute_result"
    }
   ],
   "source": [
    "gmeq.p_norm_pxpz_eqn"
   ]
  },
  {
   "cell_type": "code",
   "execution_count": 6,
   "metadata": {},
   "outputs": [
    {
     "data": {
      "image/png": "[encoded data removed]",
      "text/latex": [
       "$\\displaystyle p = \\frac{\\left|{\\sin{\\left(\\beta \\right)}}\\right|^{- \\eta}}{\\varphi{\\left(\\mathbf{r} \\right)}}$"
      ],
      "text/plain": [
       "                 -\\eta \n",
       "     │sin(\\beta)│      \n",
       "p = ───────────────────\n",
       "    \\varphi(\\mathbf{r})"
      ]
     },
     "execution_count": 6,
     "metadata": {},
     "output_type": "execute_result"
    }
   ],
   "source": [
    "gmeq.p_varphi_beta_eqn"
   ]
  },
  {
   "cell_type": "code",
   "execution_count": 7,
   "metadata": {},
   "outputs": [
    {
     "data": {
      "image/png": "[encoded data removed]",
      "text/latex": [
       "$\\displaystyle \\sqrt{p_{x}^{2} + p_{z}^{2}} = \\frac{\\left(\\frac{p_{x}}{\\sqrt{p_{x}^{2} + p_{z}^{2}}}\\right)^{- \\eta}}{\\varphi{\\left(\\mathbf{r} \\right)}}$"
      ],
      "text/plain": [
       "                                   -\\eta\n",
       "                  ⎛       pₓ      ⎞     \n",
       "                  ⎜───────────────⎟     \n",
       "                  ⎜   ____________⎟     \n",
       "   ____________   ⎜  ╱   2      2 ⎟     \n",
       "  ╱   2      2    ⎝╲╱  pₓ  + p_z  ⎠     \n",
       "╲╱  pₓ  + p_z   = ──────────────────────\n",
       "                   \\varphi(\\mathbf{r})  "
      ]
     },
     "execution_count": 7,
     "metadata": {},
     "output_type": "execute_result"
    }
   ],
   "source": [
    "gmeq.p_varphi_pxpz_eqn"
   ]
  },
  {
   "cell_type": "code",
   "execution_count": 8,
   "metadata": {},
   "outputs": [
    {
     "data": {
      "image/png": "[encoded data removed]",
      "text/latex": [
       "$\\displaystyle \\frac{\\sqrt{p_{x}^{2} + p_{z}^{2}}}{F^{*}} = \\frac{p_{x}^{- \\eta} \\left(p_{x}^{2} + p_{z}^{2}\\right)^{\\frac{\\eta}{2}}}{\\varphi{\\left(\\mathbf{r} \\right)}}$"
      ],
      "text/plain": [
       "                                      \\eta\n",
       "                                      ────\n",
       "   ____________                        2  \n",
       "  ╱   2      2      -\\eta ⎛  2      2⎞    \n",
       "╲╱  pₓ  + p_z     pₓ     ⋅⎝pₓ  + p_z ⎠    \n",
       "─────────────── = ────────────────────────\n",
       "      F__*          \\varphi(\\mathbf{r})   "
      ]
     },
     "execution_count": 8,
     "metadata": {},
     "output_type": "execute_result"
    }
   ],
   "source": [
    "gmeq.Okubo_Fstar_eqn"
   ]
  },
  {
   "cell_type": "code",
   "execution_count": 9,
   "metadata": {},
   "outputs": [
    {
     "data": {
      "image/png": "[encoded data removed]",
      "text/latex": [
       "$\\displaystyle F^{*} = p_{x}^{\\eta} \\left(p_{x}^{2} + p_{z}^{2}\\right)^{\\frac{1}{2} - \\frac{\\eta}{2}} \\varphi{\\left(\\mathbf{r} \\right)}$"
      ],
      "text/plain": [
       "                          1   \\eta                    \n",
       "                          ─ - ────                    \n",
       "                          2    2                      \n",
       "         \\eta ⎛  2      2⎞                            \n",
       "F__* = pₓ    ⋅⎝pₓ  + p_z ⎠        ⋅\\varphi(\\mathbf{r})"
      ]
     },
     "execution_count": 9,
     "metadata": {},
     "output_type": "execute_result"
    }
   ],
   "source": [
    "gmeq.Fstar_eqn"
   ]
  },
  {
   "cell_type": "code",
   "execution_count": 10,
   "metadata": {},
   "outputs": [
    {
     "data": {
      "image/png": "[encoded data removed]",
      "text/latex": [
       "$\\displaystyle \\left( F^{*} = \\sqrt{p_{x}} \\sqrt[4]{p_{x}^{2} + p_{z}^{2}} \\varphi{\\left(\\mathbf{r} \\right)}, \\  F^{*} = \\frac{p_{x}^{\\frac{3}{2}} \\varphi{\\left(\\mathbf{r} \\right)}}{\\sqrt[4]{p_{x}^{2} + p_{z}^{2}}}\\right)$"
      ],
      "text/plain": [
       "⎛                 ____________                               3/2              \n",
       "⎜         ____ 4 ╱   2      2                              pₓ   ⋅\\varphi(\\math\n",
       "⎜F__* = ╲╱ pₓ ⋅╲╱  pₓ  + p_z  ⋅\\varphi(\\mathbf{r}), F__* = ───────────────────\n",
       "⎜                                                                  ___________\n",
       "⎜                                                               4 ╱   2      2\n",
       "⎝                                                               ╲╱  pₓ  + p_z \n",
       "\n",
       "      ⎞\n",
       "bf{r})⎟\n",
       "──────⎟\n",
       "_     ⎟\n",
       "      ⎟\n",
       "      ⎠"
      ]
     },
     "execution_count": 10,
     "metadata": {},
     "output_type": "execute_result"
    }
   ],
   "source": [
    "gmeq.Fstar_eqn.subs({eta:Rational(1,2)}), gmeq.Fstar_eqn.subs({eta:Rational(3,2)}) "
   ]
  },
  {
   "cell_type": "code",
   "execution_count": 11,
   "metadata": {},
   "outputs": [
    {
     "data": {
      "image/png": "[encoded data removed]",
      "text/latex": [
       "$\\displaystyle H = \\frac{p_{x}^{2 \\eta} \\left(p_{x}^{2} + p_{z}^{2}\\right)^{1 - \\eta} \\varphi^{2}{\\left(\\mathbf{r} \\right)}}{2}$"
      ],
      "text/plain": [
       "                         1 - \\eta                     \n",
       "      2⋅\\eta ⎛  2      2⎞                2            \n",
       "    pₓ      ⋅⎝pₓ  + p_z ⎠        ⋅\\varphi (\\mathbf{r})\n",
       "H = ──────────────────────────────────────────────────\n",
       "                            2                         "
      ]
     },
     "execution_count": 11,
     "metadata": {},
     "output_type": "execute_result"
    }
   ],
   "source": [
    "gmeq.H_eqn"
   ]
  },
  {
   "cell_type": "code",
   "execution_count": 12,
   "metadata": {},
   "outputs": [
    {
     "data": {
      "image/png": "[encoded data removed]",
      "text/latex": [
       "$\\displaystyle \\left( H = \\frac{p_{x} \\sqrt{p_{x}^{2} + p_{z}^{2}} \\varphi^{2}{\\left(\\mathbf{r} \\right)}}{2}, \\  H = \\frac{p_{x}^{3} \\varphi^{2}{\\left(\\mathbf{r} \\right)}}{2 \\sqrt{p_{x}^{2} + p_{z}^{2}}}\\right)$"
      ],
      "text/plain": [
       "⎛          ____________                                                   ⎞\n",
       "⎜         ╱   2      2         2                    3        2            ⎟\n",
       "⎜    pₓ⋅╲╱  pₓ  + p_z  ⋅\\varphi (\\mathbf{r})      pₓ ⋅\\varphi (\\mathbf{r})⎟\n",
       "⎜H = ───────────────────────────────────────, H = ────────────────────────⎟\n",
       "⎜                       2                                 ____________    ⎟\n",
       "⎜                                                        ╱   2      2     ⎟\n",
       "⎝                                                    2⋅╲╱  pₓ  + p_z      ⎠"
      ]
     },
     "execution_count": 12,
     "metadata": {},
     "output_type": "execute_result"
    }
   ],
   "source": [
    "gmeq.H_eqn.subs({eta:Rational(1,2)}), gmeq.H_eqn.subs({eta:Rational(3,2)}) "
   ]
  },
  {
   "cell_type": "markdown",
   "metadata": {},
   "source": [
    "# Conversion of $F^*$ to canonical $\\left(\\alpha^*_\\mathrm{Kr},\\beta^*_\\mathrm{Kr}\\right)$ form"
   ]
  },
  {
   "cell_type": "code",
   "execution_count": 13,
   "metadata": {},
   "outputs": [
    {
     "data": {
      "image/png": "[encoded data removed]",
      "text/latex": [
       "$\\displaystyle \\left( \\alpha^*_{\\mathrm{Kr}} = \\sqrt{p_{x}^{2} + p_{z}^{2}} \\varphi{\\left(\\mathbf{r} \\right)}, \\  \\beta^*_{\\mathrm{Kr}} = p_{x} \\varphi{\\left(\\mathbf{r} \\right)}\\right)$"
      ],
      "text/plain": [
       "⎛                             ____________                                    \n",
       "⎜                            ╱   2      2                                     \n",
       "⎝\\alpha_{\\mathrm{Kr}}__* = ╲╱  pₓ  + p_z  ⋅\\varphi(\\mathbf{r}), \\beta_{\\mathrm\n",
       "\n",
       "                                 ⎞\n",
       "                                 ⎟\n",
       "{Kr}}__* = pₓ⋅\\varphi(\\mathbf{r})⎠"
      ]
     },
     "execution_count": 13,
     "metadata": {},
     "output_type": "execute_result"
    }
   ],
   "source": [
    "astar_eqn = Eq(astar_riem, varphi_r*sqrt(px**2+pz**2) )\n",
    "bstar_eqn = Eq(bstar_1form, (varphi_r*px) )\n",
    "astar_eqn, bstar_eqn"
   ]
  },
  {
   "cell_type": "code",
   "execution_count": 14,
   "metadata": {},
   "outputs": [
    {
     "data": {
      "image/png": "[encoded data removed]",
      "text/latex": [
       "$\\displaystyle \\left(\\alpha^*_{\\mathrm{Kr}}\\right)^{1 - \\eta} \\left(\\beta^*_{\\mathrm{Kr}}\\right)^{\\eta} = p_{x}^{\\eta} \\left(p_{x}^{2} + p_{z}^{2}\\right)^{\\frac{1}{2} - \\frac{\\eta}{2}} \\varphi{\\left(\\mathbf{r} \\right)}$"
      ],
      "text/plain": [
       "                                                                              \n",
       "                                                                              \n",
       "                                                                              \n",
       "                       1 - \\eta                       \\eta     \\eta ⎛  2      \n",
       "\\alpha_{\\mathrm{Kr}}__*        ⋅\\beta_{\\mathrm{Kr}}__*     = pₓ    ⋅⎝pₓ  + p_z\n",
       "\n",
       "  1   \\eta                    \n",
       "  ─ - ────                    \n",
       "  2    2                      \n",
       "2⎞                            \n",
       " ⎠        ⋅\\varphi(\\mathbf{r})"
      ]
     },
     "execution_count": 14,
     "metadata": {},
     "output_type": "execute_result"
    }
   ],
   "source": [
    "abstar_eqn = Eq(\n",
    "    astar_eqn.lhs**(1-eta) * (bstar_eqn.lhs)**eta , \n",
    "    simplify(expand( astar_eqn.rhs**(1-eta) * (bstar_eqn.rhs)**eta ))\n",
    "    )\n",
    "abstar_eqn"
   ]
  },
  {
   "cell_type": "code",
   "execution_count": 15,
   "metadata": {},
   "outputs": [
    {
     "data": {
      "image/png": "[encoded data removed]",
      "text/latex": [
       "$\\displaystyle \\left( F^{*} = p_{x}^{\\eta} \\left(p_{x}^{2} + p_{z}^{2}\\right)^{\\frac{1}{2} - \\frac{\\eta}{2}} \\varphi{\\left(\\mathbf{r} \\right)}, \\  \\text{True}\\right)$"
      ],
      "text/plain": [
       "⎛                          1   \\eta                          ⎞\n",
       "⎜                          ─ - ────                          ⎟\n",
       "⎜                          2    2                            ⎟\n",
       "⎜         \\eta ⎛  2      2⎞                                  ⎟\n",
       "⎝F__* = pₓ    ⋅⎝pₓ  + p_z ⎠        ⋅\\varphi(\\mathbf{r}), True⎠"
      ]
     },
     "execution_count": 15,
     "metadata": {},
     "output_type": "execute_result"
    }
   ],
   "source": [
    "gmeq.Fstar_eqn, Eq(abstar_eqn.rhs, gmeq.Fstar_eqn.rhs)"
   ]
  },
  {
   "cell_type": "markdown",
   "metadata": {},
   "source": [
    "Therefore $F^*$ is a generalized $m$-Kropina metric, which has the standard form:\n",
    "\\begin{equation}\n",
    "    F^* = \\alpha^{m+1} \\beta^{-m}\n",
    "\\end{equation}\n",
    "where $m:=-\\eta$, with the constraint that $m \\neq 0, -1$, and where the Riemannian component is $\\alpha = \\alpha^*_\\mathrm{Kr}$, and the 1-form component is $\\beta=\\beta^*_\\mathrm{Kr}$ (don't confuse these $\\alpha$, $\\beta$ with the ray and surface tilt angles).\n",
    "\n",
    "For $\\eta=\\tfrac{1}{2}$, we have a generalized $\\left(-\\tfrac{1}{2}\\right)$-Kropina metric function $F^* = \\alpha^{1/2} \\beta^{1/2}$.\n",
    "\n",
    "For $\\eta=\\tfrac{3}{2}$, we have a generalized $\\left(-\\tfrac{3}{2}\\right)$-Kropina metric function $F^* = \\alpha^{-1/2} \\beta^{3/2}$.\n",
    "\n",
    "For $\\eta=1$, the metric function is ill-defined.\n",
    "\n",
    "Note: the canonical Kropina metric is usually used to describe $F$ not $F^*$, but not exclusively."
   ]
  },
  {
   "cell_type": "code",
   "execution_count": null,
   "metadata": {},
   "outputs": [],
   "source": []
  }
 ],
 "metadata": {
  "hide_input": false,
  "kernelspec": {
   "display_name": "Python 3",
   "language": "python",
   "name": "python3"
  },
  "language_info": {
   "codemirror_mode": {
    "name": "ipython",
    "version": 3
   },
   "file_extension": ".py",
   "mimetype": "text/x-python",
   "name": "python",
   "nbconvert_exporter": "python",
   "pygments_lexer": "ipython3",
   "version": "3.7.11"
  }
 },
 "nbformat": 4,
 "nbformat_minor": 2
}
