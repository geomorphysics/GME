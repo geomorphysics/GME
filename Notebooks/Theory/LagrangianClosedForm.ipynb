{
 "cells": [
  {
   "cell_type": "markdown",
   "metadata": {
    "heading_collapsed": true
   },
   "source": [
    "# Summary\n",
    "\n",
    "Derivation of Lagrangian correctly parameterized in terms of $v^x$ and $v^z$.\n",
    "\n",
    "The derivation starts with the co-Finsler metric tensor $g_*^{ij}(\\mathbf{r},\\mathbf{\\widetilde{p}})$, and its inverse, which gives the Finsler metric tensor $g_{ij}(\\mathbf{r},\\mathbf{\\widetilde{p}})$, i.e., parameterized by position $\\mathbf{r}$ and covector slowness $\\mathbf{\\widetilde{p}}$. "
   ]
  },
  {
   "cell_type": "markdown",
   "metadata": {
    "heading_collapsed": true,
    "hidden": true
   },
   "source": [
    "### Preliminaries"
   ]
  },
  {
   "cell_type": "code",
   "execution_count": 1,
   "metadata": {
    "hidden": true
   },
   "outputs": [],
   "source": [
    "import sympy as sy, numpy as np, os\n",
    "sy.init_printing(pretty_print=True,wrap_line=True)\n",
    "from sympy import simplify, trigsimp, expand, factor, powsimp, \\\n",
    "    Eq, solve, solveset, sqrt, diff, Matrix, det, tan, cos, sin, sec, csc, \\\n",
    "    Abs, Rational, pi, re, im, atan, atan2, numer, denom, \\\n",
    "    lambdify, log, collect, cancel, integrate, Integral, \\\n",
    "    nroots, poly, N\n",
    "\n",
    "from gmplib.utils import e2d\n",
    "from gme.symbols import *\n",
    "from gme.equations import Equations\n",
    "\n",
    "from gmplib.plot_utils import GraphingBase\n",
    "\n",
    "\n",
    "from functools import reduce\n",
    "\n",
    "from scipy.optimize import root_scalar\n",
    "from scipy.linalg import norm\n",
    "\n",
    "# Won't work for eta<1\n",
    "# rdotz = symbols('v^z',  real=True, positive=True)"
   ]
  },
  {
   "cell_type": "code",
   "execution_count": 2,
   "metadata": {
    "hidden": true,
    "jupyter": {
     "source_hidden": true
    }
   },
   "outputs": [],
   "source": [
    "# from notebook.services.config import ConfigManager\n",
    "# cm = ConfigManager().update('notebook', {'limit_output': 20000})"
   ]
  },
  {
   "cell_type": "code",
   "execution_count": 3,
   "metadata": {
    "hidden": true
   },
   "outputs": [],
   "source": [
    "import matplotlib as mpl, matplotlib.pyplot as plt\n",
    "mpl.rc('font', size=14, family='Arial')\n",
    "from matplotlib.colors import BoundaryNorm\n",
    "from mpl_toolkits.axes_grid1 import make_axes_locatable\n",
    "# from matplotlib.ticker import MaxNLocator\n",
    "\n",
    "gr = GraphingBase()\n",
    "job_name = 'demo'"
   ]
  },
  {
   "cell_type": "markdown",
   "metadata": {},
   "source": [
    "# Derivations"
   ]
  },
  {
   "cell_type": "markdown",
   "metadata": {},
   "source": [
    "## Basics"
   ]
  },
  {
   "cell_type": "code",
   "execution_count": 4,
   "metadata": {},
   "outputs": [],
   "source": [
    "eta_ = Rational(1,2)\n",
    "gmeq = Equations( eta=eta_,  mu=eta_/2, beta_type='sin', do_raw=True )"
   ]
  },
  {
   "cell_type": "code",
   "execution_count": 5,
   "metadata": {},
   "outputs": [],
   "source": [
    "vx = symbols(r'x',  real=True)\n",
    "vz = symbols(r'z',  real=True)"
   ]
  },
  {
   "cell_type": "code",
   "execution_count": 31,
   "metadata": {},
   "outputs": [],
   "source": [
    "varphi_ = 1"
   ]
  },
  {
   "cell_type": "code",
   "execution_count": 46,
   "metadata": {},
   "outputs": [
    {
     "data": {
      "image/png": "[encoded data removed]",
      "text/latex": [
       "$\\displaystyle F = \\frac{\\left(y^{1}\\right)^{2} + \\left(y^{2}\\right)^{2}}{y^{1} + 3 \\sqrt{\\left(y^{1}\\right)^{2} + \\left(y^{2}\\right)^{2}}}$"
      ],
      "text/plain": [
       "            2     2      \n",
       "          y¹  + y²       \n",
       "F = ─────────────────────\n",
       "              ___________\n",
       "             ╱   2     2 \n",
       "    y¹ + 3⋅╲╱  y¹  + y²  "
      ]
     },
     "execution_count": 46,
     "metadata": {},
     "output_type": "execute_result"
    }
   ],
   "source": [
    "# y1 = symbols(r'y^1',  real=True)\n",
    "# y2 = symbols(r'y^2',  real=True)\n",
    "# F_eqn = Eq(F, (y1**2+y2**2)/( Rational(3,1)*sqrt(y1**2+y2**2) + y1))\n",
    "# F_eqn\n",
    "\n",
    "# F_ = (F_eqn.rhs)**2/2\n",
    "# g11 = diff(diff(F_,y1),y1)\n",
    "# g12 = diff(diff(F_,y1),y2)\n",
    "# g21 = diff(diff(F_,y2),y1)\n",
    "# g22 = diff(diff(F_,y2),y2)\n",
    "# g_ = simplify(Matrix([ [g11,g12], [g21,g22] ]))\n",
    "# g_.det()"
   ]
  },
  {
   "cell_type": "markdown",
   "metadata": {},
   "source": [
    "The velocity vector has a column form, while the slowness covector takes a row form:"
   ]
  },
  {
   "cell_type": "code",
   "execution_count": 7,
   "metadata": {},
   "outputs": [
    {
     "data": {
      "image/png": "[encoded data removed]",
      "text/latex": [
       "$\\displaystyle \\left( \\left[\\begin{matrix}v^{x}\\\\v^{z}\\end{matrix}\\right], \\  \\left[\\begin{matrix}p_{x} & p_{z}\\end{matrix}\\right]\\right)$"
      ],
      "text/plain": [
       "⎛⎡v__x⎤           ⎞\n",
       "⎜⎢    ⎥, [pₓ  p_z]⎟\n",
       "⎝⎣v__z⎦           ⎠"
      ]
     },
     "execution_count": 7,
     "metadata": {},
     "output_type": "execute_result"
    }
   ],
   "source": [
    "v_vec = Matrix([rdotx,rdotz])\n",
    "p_covec = Matrix([px,pz]).T\n",
    "v_vec,p_covec"
   ]
  },
  {
   "cell_type": "code",
   "execution_count": 8,
   "metadata": {},
   "outputs": [
    {
     "data": {
      "image/png": "[encoded data removed]",
      "text/latex": [
       "$\\displaystyle \\left( H = \\frac{\\varphi^{2} p_{x}^{2 \\eta} \\left(p_{x}^{2} + p_{z_0}^{2}\\right)^{1 - \\eta}}{2}, \\  p\\cdot{v} = p_{x} v^{x} + p_{z_0} v^{z}\\right)$"
      ],
      "text/plain": [
       "⎛                                      1 - \\eta                               \n",
       "⎜           2   2⋅\\eta ⎛  2          2⎞                                       \n",
       "⎜    \\varphi ⋅pₓ      ⋅⎝pₓ  + p_{z_0} ⎠                                       \n",
       "⎜H = ──────────────────────────────────────────, p\\cdot{v} = pₓ⋅v__x + p_{z_0}\n",
       "⎝                        2                                                    \n",
       "\n",
       "     ⎞\n",
       "     ⎟\n",
       "     ⎟\n",
       "⋅v__z⎟\n",
       "     ⎠"
      ]
     },
     "execution_count": 8,
     "metadata": {},
     "output_type": "execute_result"
    }
   ],
   "source": [
    "gmeq.H_varphi_rx_eqn\n",
    "\n",
    "pz0 = symbols('p_{z_0}',  real=True, negative=False)\n",
    "pdotv = symbols(r'p\\cdot{v}',  real=True, negative=False)\n",
    "gmeq.H_eqn.subs({})\n",
    "pdotv_eqn = Eq(pdotv, rdotx*px+rdotz*pz0)\n",
    "H_pxpz0_eqn = gmeq.H_eqn.subs({varphi_r:varphi, pz:pz0})\n",
    "H_pxpz0_eqn, pdotv_eqn"
   ]
  },
  {
   "cell_type": "code",
   "execution_count": 9,
   "metadata": {},
   "outputs": [
    {
     "data": {
      "image/png": "[encoded data removed]",
      "text/plain": [
       "<Figure size 432x288 with 1 Axes>"
      ]
     },
     "metadata": {
      "image/png": {
       "height": 270,
       "width": 413
      },
      "needs_background": "light"
     },
     "output_type": "display_data"
    }
   ],
   "source": [
    "varphi_ = 20\n",
    "pz0_ = 0.1\n",
    "plot = sy.plot(H_pxpz0_eqn.rhs.subs({eta:Rational(1,2), varphi:varphi_, pz0:pz0_}),\n",
    "               pdotv_eqn.rhs.subs({rdotx:31,rdotz:0.1,pz0:pz0_}), \n",
    "               (px,0,pz0_), show=False)\n",
    "plot[0].line_color='b'\n",
    "plot[1].line_color='g'\n",
    "plot.show()"
   ]
  },
  {
   "cell_type": "markdown",
   "metadata": {},
   "source": [
    "## Leverage the metric tensor $g_*$"
   ]
  },
  {
   "cell_type": "markdown",
   "metadata": {},
   "source": [
    "The co-Finsler metric $g_*^{ij}(\\mathbf{r},\\mathbf{\\widetilde{p}})$ for the chosen $\\eta=\\tfrac{1}{2}$ or $\\eta=\\tfrac{3}{2}$, parameterized by position $\\mathbf{r}$ and covector slowness $\\mathbf{\\widetilde{p}}$, aka defined on $\\mathsf{T}^*\\mathsf{M}$, is:"
   ]
  },
  {
   "cell_type": "code",
   "execution_count": 10,
   "metadata": {},
   "outputs": [
    {
     "data": {
      "image/png": "[encoded data removed]",
      "text/latex": [
       "$\\displaystyle g_{*} = \\left[\\begin{matrix}\\frac{\\varphi^{2} p_{x} \\left(2 p_{x}^{2} + 3 p_{z}^{2}\\right)}{2 \\left(p_{x}^{2} + p_{z}^{2}\\right)^{\\frac{3}{2}}} & \\frac{\\varphi^{2} p_{z}^{3}}{2 \\left(p_{x}^{2} + p_{z}^{2}\\right)^{\\frac{3}{2}}}\\\\\\frac{\\varphi^{2} p_{z}^{3}}{2 \\left(p_{x}^{2} + p_{z}^{2}\\right)^{\\frac{3}{2}}} & \\frac{\\varphi^{2} p_{x}^{3}}{2 \\left(p_{x}^{2} + p_{z}^{2}\\right)^{\\frac{3}{2}}}\\end{matrix}\\right]$"
      ],
      "text/plain": [
       "      ⎡       2    ⎛    2        2⎞           2    3  ⎤\n",
       "      ⎢\\varphi ⋅pₓ⋅⎝2⋅pₓ  + 3⋅p_z ⎠    \\varphi ⋅p_z   ⎥\n",
       "      ⎢────────────────────────────  ─────────────────⎥\n",
       "      ⎢                   3/2                      3/2⎥\n",
       "      ⎢       ⎛  2      2⎞             ⎛  2      2⎞   ⎥\n",
       "      ⎢     2⋅⎝pₓ  + p_z ⎠           2⋅⎝pₓ  + p_z ⎠   ⎥\n",
       "g_* = ⎢                                               ⎥\n",
       "      ⎢              2    3                    2   3  ⎥\n",
       "      ⎢       \\varphi ⋅p_z              \\varphi ⋅pₓ   ⎥\n",
       "      ⎢     ─────────────────        ─────────────────⎥\n",
       "      ⎢                   3/2                      3/2⎥\n",
       "      ⎢       ⎛  2      2⎞             ⎛  2      2⎞   ⎥\n",
       "      ⎣     2⋅⎝pₓ  + p_z ⎠           2⋅⎝pₓ  + p_z ⎠   ⎦"
      ]
     },
     "execution_count": 10,
     "metadata": {},
     "output_type": "execute_result"
    }
   ],
   "source": [
    "gstar_pxpz_eqn = simplify(gmeq.gstar_varphi_pxpz_eqn.subs({varphi_r:varphi}))\n",
    "gstar_pxpz_eqn"
   ]
  },
  {
   "cell_type": "markdown",
   "metadata": {},
   "source": [
    "Its inverse gives the dual metric $g_{ij}(\\mathbf{r},\\mathbf{\\widetilde{p}})$, but still parameterized by position $\\mathbf{r}$ and covector slowness $\\mathbf{\\widetilde{p}}$,\n",
    "\n",
    "\\begin{equation}\n",
    "    g_{*}^{ij} = \\left( g_{ij} \\right)^{-1}\n",
    "\\end{equation}"
   ]
  },
  {
   "cell_type": "code",
   "execution_count": 11,
   "metadata": {},
   "outputs": [
    {
     "data": {
      "image/png": "[encoded data removed]",
      "text/latex": [
       "$\\displaystyle g = \\left[\\begin{matrix}\\frac{2 p_{x}^{3} \\sqrt{p_{x}^{2} + p_{z}^{2}}}{\\varphi^{2} \\left(2 p_{x}^{4} + p_{x}^{2} p_{z}^{2} - p_{z}^{4}\\right)} & - \\frac{2 p_{z}^{3} \\sqrt{p_{x}^{2} + p_{z}^{2}}}{\\varphi^{2} \\left(2 p_{x}^{4} + p_{x}^{2} p_{z}^{2} - p_{z}^{4}\\right)}\\\\- \\frac{2 p_{z}^{3} \\sqrt{p_{x}^{2} + p_{z}^{2}}}{\\varphi^{2} \\left(2 p_{x}^{4} + p_{x}^{2} p_{z}^{2} - p_{z}^{4}\\right)} & \\frac{2 p_{x} \\left(2 p_{x}^{2} + 3 p_{z}^{2}\\right)}{\\varphi^{2} \\sqrt{p_{x}^{2} + p_{z}^{2}} \\left(2 p_{x}^{2} - p_{z}^{2}\\right)}\\end{matrix}\\right]$"
      ],
      "text/plain": [
       "    ⎡               ____________                           ____________       \n",
       "    ⎢          3   ╱   2      2                       3   ╱   2      2        \n",
       "    ⎢      2⋅pₓ ⋅╲╱  pₓ  + p_z                  -2⋅p_z ⋅╲╱  pₓ  + p_z         \n",
       "    ⎢──────────────────────────────────    ────────────────────────────────── \n",
       "    ⎢       2 ⎛    4     2    2      4⎞           2 ⎛    4     2    2      4⎞ \n",
       "    ⎢\\varphi ⋅⎝2⋅pₓ  + pₓ ⋅p_z  - p_z ⎠    \\varphi ⋅⎝2⋅pₓ  + pₓ ⋅p_z  - p_z ⎠ \n",
       "    ⎢                                                                         \n",
       "g = ⎢                ____________                                             \n",
       "    ⎢           3   ╱   2      2                       ⎛    2        2⎞       \n",
       "    ⎢     -2⋅p_z ⋅╲╱  pₓ  + p_z                   2⋅pₓ⋅⎝2⋅pₓ  + 3⋅p_z ⎠       \n",
       "    ⎢──────────────────────────────────  ─────────────────────────────────────\n",
       "    ⎢       2 ⎛    4     2    2      4⎞              ____________             \n",
       "    ⎢\\varphi ⋅⎝2⋅pₓ  + pₓ ⋅p_z  - p_z ⎠         2   ╱   2      2  ⎛    2      \n",
       "    ⎣                                    \\varphi ⋅╲╱  pₓ  + p_z  ⋅⎝2⋅pₓ  - p_z\n",
       "\n",
       "  ⎤\n",
       "  ⎥\n",
       "  ⎥\n",
       "  ⎥\n",
       "  ⎥\n",
       "  ⎥\n",
       "  ⎥\n",
       "  ⎥\n",
       "  ⎥\n",
       "  ⎥\n",
       "──⎥\n",
       "  ⎥\n",
       "2⎞⎥\n",
       " ⎠⎦"
      ]
     },
     "execution_count": 11,
     "metadata": {},
     "output_type": "execute_result"
    }
   ],
   "source": [
    "g_pxpz_eqn = simplify(Eq(g, gstar_pxpz_eqn.rhs.inv()))\n",
    "g_pxpz_eqn"
   ]
  },
  {
   "cell_type": "code",
   "execution_count": 12,
   "metadata": {},
   "outputs": [],
   "source": [
    "# simplify((g_pxpz_eqn.rhs)[1,0]*(gstar_pxpz_eqn.rhs)[1,0]+(g_pxpz_eqn.rhs)[1,1]*(gstar_pxpz_eqn.rhs)[1,1])"
   ]
  },
  {
   "cell_type": "markdown",
   "metadata": {},
   "source": [
    "We can use $g_{ij}$ to lower the index of the velocity $v^j$ and map it into the slowness covector $p_i$:\n",
    "\n",
    "\\begin{equation}\n",
    "    p_i = g_{ij} v^j\n",
    "\\end{equation}"
   ]
  },
  {
   "cell_type": "markdown",
   "metadata": {},
   "source": [
    "Contracting the metric tensor to the velocity gives the slowness:"
   ]
  },
  {
   "cell_type": "code",
   "execution_count": 13,
   "metadata": {},
   "outputs": [
    {
     "data": {
      "image/png": "[encoded data removed]",
      "text/latex": [
       "$\\displaystyle \\left[\\begin{matrix}p_{x} & p_{z}\\end{matrix}\\right] = \\left[\\begin{matrix}\\frac{2 \\sqrt{p_{x}^{2} + p_{z}^{2}} \\left(p_{x}^{3} v^{x} - p_{z}^{3} v^{z}\\right)}{\\varphi^{2} \\left(2 p_{x}^{4} + p_{x}^{2} p_{z}^{2} - p_{z}^{4}\\right)} & \\frac{2 \\left(2 p_{x}^{3} v^{z} + 3 p_{x} p_{z}^{2} v^{z} - p_{z}^{3} v^{x}\\right)}{\\varphi^{2} \\sqrt{p_{x}^{2} + p_{z}^{2}} \\left(2 p_{x}^{2} - p_{z}^{2}\\right)}\\end{matrix}\\right]$"
      ],
      "text/plain": [
       "            ⎡     ____________                                                \n",
       "            ⎢    ╱   2      2  ⎛  3           3     ⎞    ⎛    3               \n",
       "            ⎢2⋅╲╱  pₓ  + p_z  ⋅⎝pₓ ⋅v__x - p_z ⋅v__z⎠  2⋅⎝2⋅pₓ ⋅v__z + 3⋅pₓ⋅p_\n",
       "[pₓ  p_z] = ⎢────────────────────────────────────────  ───────────────────────\n",
       "            ⎢          2 ⎛    4     2    2      4⎞                   _________\n",
       "            ⎢   \\varphi ⋅⎝2⋅pₓ  + pₓ ⋅p_z  - p_z ⎠              2   ╱   2     \n",
       "            ⎣                                            \\varphi ⋅╲╱  pₓ  + p_\n",
       "\n",
       "                    ⎤\n",
       " 2           3     ⎞⎥\n",
       "z ⋅v__z - p_z ⋅v__x⎠⎥\n",
       "────────────────────⎥\n",
       "___                 ⎥\n",
       " 2  ⎛    2      2⎞  ⎥\n",
       "z  ⋅⎝2⋅pₓ  - p_z ⎠  ⎦"
      ]
     },
     "execution_count": 13,
     "metadata": {},
     "output_type": "execute_result"
    }
   ],
   "source": [
    "pcovec_eqn = Eq(p_covec, simplify(g_pxpz_eqn.rhs*v_vec).T)\n",
    "# Eq(pcovec_eqn.lhs[0],pcovec_eqn.rhs[0]), Eq(pcovec_eqn.lhs[1],pcovec_eqn.rhs[1])\n",
    "pcovec_eqn"
   ]
  },
  {
   "cell_type": "markdown",
   "metadata": {},
   "source": [
    "Similarly, we can use $g^{ij}$ to raise the index of the slowness covector $p_i$ and map it into the velocity $v^j$:\n",
    "\n",
    "\\begin{equation}\n",
    "    v^i = g^{ij} p_j\n",
    "\\end{equation}"
   ]
  },
  {
   "cell_type": "code",
   "execution_count": 14,
   "metadata": {},
   "outputs": [
    {
     "data": {
      "image/png": "[encoded data removed]",
      "text/latex": [
       "$\\displaystyle \\left[\\begin{matrix}v^{x}\\\\v^{z}\\end{matrix}\\right] = \\left[\\begin{matrix}\\frac{\\varphi^{2} \\left(p_{x}^{2} + \\frac{p_{z}^{2}}{2}\\right)}{\\sqrt{p_{x}^{2} + p_{z}^{2}}}\\\\\\frac{\\varphi^{2} p_{x} p_{z}}{2 \\sqrt{p_{x}^{2} + p_{z}^{2}}}\\end{matrix}\\right]$"
      ],
      "text/plain": [
       "         ⎡         ⎛         2⎞⎤\n",
       "         ⎢       2 ⎜  2   p_z ⎟⎥\n",
       "         ⎢\\varphi ⋅⎜pₓ  + ────⎟⎥\n",
       "         ⎢         ⎝       2  ⎠⎥\n",
       "         ⎢─────────────────────⎥\n",
       "         ⎢      ____________   ⎥\n",
       "⎡v__x⎤   ⎢     ╱   2      2    ⎥\n",
       "⎢    ⎥ = ⎢   ╲╱  pₓ  + p_z     ⎥\n",
       "⎣v__z⎦   ⎢                     ⎥\n",
       "         ⎢          2          ⎥\n",
       "         ⎢   \\varphi ⋅pₓ⋅p_z   ⎥\n",
       "         ⎢  ─────────────────  ⎥\n",
       "         ⎢       ____________  ⎥\n",
       "         ⎢      ╱   2      2   ⎥\n",
       "         ⎣  2⋅╲╱  pₓ  + p_z    ⎦"
      ]
     },
     "execution_count": 14,
     "metadata": {},
     "output_type": "execute_result"
    }
   ],
   "source": [
    "# gmeq.rdot_vec_eqn.subs({eta:gmeq.eta, varphi_r:varphi})\n",
    "vvec_eqn = Eq(v_vec, simplify(p_covec*gstar_pxpz_eqn.rhs).T)\n",
    "vvec_eqn"
   ]
  },
  {
   "cell_type": "markdown",
   "metadata": {},
   "source": [
    "So we have the velocity vector $\\mathbf{v}$ in terms of $\\varphi(x)$ and the slowness covector $\\mathbf{\\widetilde{p}}$.  Writing each component out:"
   ]
  },
  {
   "cell_type": "code",
   "execution_count": 15,
   "metadata": {},
   "outputs": [
    {
     "data": {
      "image/png": "[encoded data removed]",
      "text/latex": [
       "$\\displaystyle \\left( v^{x} = \\frac{\\varphi^{2} \\left(p_{x}^{2} + \\frac{p_{z}^{2}}{2}\\right)}{\\sqrt{p_{x}^{2} + p_{z}^{2}}}, \\  v^{z} = \\frac{\\varphi^{2} p_{x} p_{z}}{2 \\sqrt{p_{x}^{2} + p_{z}^{2}}}\\right)$"
      ],
      "text/plain": [
       "⎛                ⎛         2⎞                          ⎞\n",
       "⎜              2 ⎜  2   p_z ⎟                          ⎟\n",
       "⎜       \\varphi ⋅⎜pₓ  + ────⎟                 2        ⎟\n",
       "⎜                ⎝       2  ⎠          \\varphi ⋅pₓ⋅p_z ⎟\n",
       "⎜v__x = ─────────────────────, v__z = ─────────────────⎟\n",
       "⎜             ____________                 ____________⎟\n",
       "⎜            ╱   2      2                 ╱   2      2 ⎟\n",
       "⎝          ╲╱  pₓ  + p_z              2⋅╲╱  pₓ  + p_z  ⎠"
      ]
     },
     "execution_count": 15,
     "metadata": {},
     "output_type": "execute_result"
    }
   ],
   "source": [
    "vx_px_pz_eqn = Eq(vvec_eqn.lhs[0],vvec_eqn.rhs[0])\n",
    "vz_px_pz_eqn = Eq(vvec_eqn.lhs[1],vvec_eqn.rhs[1])\n",
    "vx_px_pz_eqn, vz_px_pz_eqn"
   ]
  },
  {
   "cell_type": "markdown",
   "metadata": {},
   "source": [
    "To check this result, we can solve the expressions for $\\mathbf{\\widetilde{p}}$ in terms of $\\mathbf{v}$, which gives, e.g.,"
   ]
  },
  {
   "cell_type": "code",
   "execution_count": 16,
   "metadata": {
    "scrolled": true
   },
   "outputs": [
    {
     "ename": "KeyboardInterrupt",
     "evalue": "",
     "output_type": "error",
     "traceback": [
      "\u001b[0;31m---------------------------------------------------------------------------\u001b[0m",
      "\u001b[0;31mKeyboardInterrupt\u001b[0m                         Traceback (most recent call last)",
      "\u001b[0;32m<ipython-input-16-a3c870139613>\u001b[0m in \u001b[0;36m<module>\u001b[0;34m\u001b[0m\n\u001b[0;32m----> 1\u001b[0;31m Eq(rdotz, solve(Eq(solve(Eq(pcovec_eqn.lhs[0],pcovec_eqn.rhs[0]),rdotx)[0],\n\u001b[0m\u001b[1;32m      2\u001b[0m           solve(Eq(pcovec_eqn.lhs[1],pcovec_eqn.rhs[1]),rdotx)[0]),rdotz)[0])\n",
      "\u001b[0;32m/opt/local/Library/Frameworks/Python.framework/Versions/3.8/lib/python3.8/site-packages/IPython/core/displayhook.py\u001b[0m in \u001b[0;36m__call__\u001b[0;34m(self, result)\u001b[0m\n\u001b[1;32m    260\u001b[0m             \u001b[0mself\u001b[0m\u001b[0;34m.\u001b[0m\u001b[0mstart_displayhook\u001b[0m\u001b[0;34m(\u001b[0m\u001b[0;34m)\u001b[0m\u001b[0;34m\u001b[0m\u001b[0;34m\u001b[0m\u001b[0m\n\u001b[1;32m    261\u001b[0m             \u001b[0mself\u001b[0m\u001b[0;34m.\u001b[0m\u001b[0mwrite_output_prompt\u001b[0m\u001b[0;34m(\u001b[0m\u001b[0;34m)\u001b[0m\u001b[0;34m\u001b[0m\u001b[0;34m\u001b[0m\u001b[0m\n\u001b[0;32m--> 262\u001b[0;31m             \u001b[0mformat_dict\u001b[0m\u001b[0;34m,\u001b[0m \u001b[0mmd_dict\u001b[0m \u001b[0;34m=\u001b[0m \u001b[0mself\u001b[0m\u001b[0;34m.\u001b[0m\u001b[0mcompute_format_data\u001b[0m\u001b[0;34m(\u001b[0m\u001b[0mresult\u001b[0m\u001b[0;34m)\u001b[0m\u001b[0;34m\u001b[0m\u001b[0;34m\u001b[0m\u001b[0m\n\u001b[0m\u001b[1;32m    263\u001b[0m             \u001b[0mself\u001b[0m\u001b[0;34m.\u001b[0m\u001b[0mupdate_user_ns\u001b[0m\u001b[0;34m(\u001b[0m\u001b[0mresult\u001b[0m\u001b[0;34m)\u001b[0m\u001b[0;34m\u001b[0m\u001b[0;34m\u001b[0m\u001b[0m\n\u001b[1;32m    264\u001b[0m             \u001b[0mself\u001b[0m\u001b[0;34m.\u001b[0m\u001b[0mfill_exec_result\u001b[0m\u001b[0;34m(\u001b[0m\u001b[0mresult\u001b[0m\u001b[0;34m)\u001b[0m\u001b[0;34m\u001b[0m\u001b[0;34m\u001b[0m\u001b[0m\n",
      "\u001b[0;32m/opt/local/Library/Frameworks/Python.framework/Versions/3.8/lib/python3.8/site-packages/IPython/core/displayhook.py\u001b[0m in \u001b[0;36mcompute_format_data\u001b[0;34m(self, result)\u001b[0m\n\u001b[1;32m    149\u001b[0m \u001b[0;34m\u001b[0m\u001b[0m\n\u001b[1;32m    150\u001b[0m         \"\"\"\n\u001b[0;32m--> 151\u001b[0;31m         \u001b[0;32mreturn\u001b[0m \u001b[0mself\u001b[0m\u001b[0;34m.\u001b[0m\u001b[0mshell\u001b[0m\u001b[0;34m.\u001b[0m\u001b[0mdisplay_formatter\u001b[0m\u001b[0;34m.\u001b[0m\u001b[0mformat\u001b[0m\u001b[0;34m(\u001b[0m\u001b[0mresult\u001b[0m\u001b[0;34m)\u001b[0m\u001b[0;34m\u001b[0m\u001b[0;34m\u001b[0m\u001b[0m\n\u001b[0m\u001b[1;32m    152\u001b[0m \u001b[0;34m\u001b[0m\u001b[0m\n\u001b[1;32m    153\u001b[0m     \u001b[0;31m# This can be set to True by the write_output_prompt method in a subclass\u001b[0m\u001b[0;34m\u001b[0m\u001b[0;34m\u001b[0m\u001b[0;34m\u001b[0m\u001b[0m\n",
      "\u001b[0;32m/opt/local/Library/Frameworks/Python.framework/Versions/3.8/lib/python3.8/site-packages/IPython/core/formatters.py\u001b[0m in \u001b[0;36mformat\u001b[0;34m(self, obj, include, exclude)\u001b[0m\n\u001b[1;32m    178\u001b[0m             \u001b[0mmd\u001b[0m \u001b[0;34m=\u001b[0m \u001b[0;32mNone\u001b[0m\u001b[0;34m\u001b[0m\u001b[0;34m\u001b[0m\u001b[0m\n\u001b[1;32m    179\u001b[0m             \u001b[0;32mtry\u001b[0m\u001b[0;34m:\u001b[0m\u001b[0;34m\u001b[0m\u001b[0;34m\u001b[0m\u001b[0m\n\u001b[0;32m--> 180\u001b[0;31m                 \u001b[0mdata\u001b[0m \u001b[0;34m=\u001b[0m \u001b[0mformatter\u001b[0m\u001b[0;34m(\u001b[0m\u001b[0mobj\u001b[0m\u001b[0;34m)\u001b[0m\u001b[0;34m\u001b[0m\u001b[0;34m\u001b[0m\u001b[0m\n\u001b[0m\u001b[1;32m    181\u001b[0m             \u001b[0;32mexcept\u001b[0m\u001b[0;34m:\u001b[0m\u001b[0;34m\u001b[0m\u001b[0;34m\u001b[0m\u001b[0m\n\u001b[1;32m    182\u001b[0m                 \u001b[0;31m# FIXME: log the exception\u001b[0m\u001b[0;34m\u001b[0m\u001b[0;34m\u001b[0m\u001b[0;34m\u001b[0m\u001b[0m\n",
      "\u001b[0;32m~/Library/Python/3.8/lib/python/site-packages/decorator.py\u001b[0m in \u001b[0;36mfun\u001b[0;34m(*args, **kw)\u001b[0m\n\u001b[1;32m    230\u001b[0m             \u001b[0;32mif\u001b[0m \u001b[0;32mnot\u001b[0m \u001b[0mkwsyntax\u001b[0m\u001b[0;34m:\u001b[0m\u001b[0;34m\u001b[0m\u001b[0;34m\u001b[0m\u001b[0m\n\u001b[1;32m    231\u001b[0m                 \u001b[0margs\u001b[0m\u001b[0;34m,\u001b[0m \u001b[0mkw\u001b[0m \u001b[0;34m=\u001b[0m \u001b[0mfix\u001b[0m\u001b[0;34m(\u001b[0m\u001b[0margs\u001b[0m\u001b[0;34m,\u001b[0m \u001b[0mkw\u001b[0m\u001b[0;34m,\u001b[0m \u001b[0msig\u001b[0m\u001b[0;34m)\u001b[0m\u001b[0;34m\u001b[0m\u001b[0;34m\u001b[0m\u001b[0m\n\u001b[0;32m--> 232\u001b[0;31m             \u001b[0;32mreturn\u001b[0m \u001b[0mcaller\u001b[0m\u001b[0;34m(\u001b[0m\u001b[0mfunc\u001b[0m\u001b[0;34m,\u001b[0m \u001b[0;34m*\u001b[0m\u001b[0;34m(\u001b[0m\u001b[0mextras\u001b[0m \u001b[0;34m+\u001b[0m \u001b[0margs\u001b[0m\u001b[0;34m)\u001b[0m\u001b[0;34m,\u001b[0m \u001b[0;34m**\u001b[0m\u001b[0mkw\u001b[0m\u001b[0;34m)\u001b[0m\u001b[0;34m\u001b[0m\u001b[0;34m\u001b[0m\u001b[0m\n\u001b[0m\u001b[1;32m    233\u001b[0m     \u001b[0mfun\u001b[0m\u001b[0;34m.\u001b[0m\u001b[0m__name__\u001b[0m \u001b[0;34m=\u001b[0m \u001b[0mfunc\u001b[0m\u001b[0;34m.\u001b[0m\u001b[0m__name__\u001b[0m\u001b[0;34m\u001b[0m\u001b[0;34m\u001b[0m\u001b[0m\n\u001b[1;32m    234\u001b[0m     \u001b[0mfun\u001b[0m\u001b[0;34m.\u001b[0m\u001b[0m__doc__\u001b[0m \u001b[0;34m=\u001b[0m \u001b[0mfunc\u001b[0m\u001b[0;34m.\u001b[0m\u001b[0m__doc__\u001b[0m\u001b[0;34m\u001b[0m\u001b[0;34m\u001b[0m\u001b[0m\n",
      "\u001b[0;32m/opt/local/Library/Frameworks/Python.framework/Versions/3.8/lib/python3.8/site-packages/IPython/core/formatters.py\u001b[0m in \u001b[0;36mcatch_format_error\u001b[0;34m(method, self, *args, **kwargs)\u001b[0m\n\u001b[1;32m    222\u001b[0m     \u001b[0;34m\"\"\"show traceback on failed format call\"\"\"\u001b[0m\u001b[0;34m\u001b[0m\u001b[0;34m\u001b[0m\u001b[0m\n\u001b[1;32m    223\u001b[0m     \u001b[0;32mtry\u001b[0m\u001b[0;34m:\u001b[0m\u001b[0;34m\u001b[0m\u001b[0;34m\u001b[0m\u001b[0m\n\u001b[0;32m--> 224\u001b[0;31m         \u001b[0mr\u001b[0m \u001b[0;34m=\u001b[0m \u001b[0mmethod\u001b[0m\u001b[0;34m(\u001b[0m\u001b[0mself\u001b[0m\u001b[0;34m,\u001b[0m \u001b[0;34m*\u001b[0m\u001b[0margs\u001b[0m\u001b[0;34m,\u001b[0m \u001b[0;34m**\u001b[0m\u001b[0mkwargs\u001b[0m\u001b[0;34m)\u001b[0m\u001b[0;34m\u001b[0m\u001b[0;34m\u001b[0m\u001b[0m\n\u001b[0m\u001b[1;32m    225\u001b[0m     \u001b[0;32mexcept\u001b[0m \u001b[0mNotImplementedError\u001b[0m\u001b[0;34m:\u001b[0m\u001b[0;34m\u001b[0m\u001b[0;34m\u001b[0m\u001b[0m\n\u001b[1;32m    226\u001b[0m         \u001b[0;31m# don't warn on NotImplementedErrors\u001b[0m\u001b[0;34m\u001b[0m\u001b[0;34m\u001b[0m\u001b[0;34m\u001b[0m\u001b[0m\n",
      "\u001b[0;32m/opt/local/Library/Frameworks/Python.framework/Versions/3.8/lib/python3.8/site-packages/IPython/core/formatters.py\u001b[0m in \u001b[0;36m__call__\u001b[0;34m(self, obj)\u001b[0m\n\u001b[1;32m    339\u001b[0m                 \u001b[0;32mpass\u001b[0m\u001b[0;34m\u001b[0m\u001b[0;34m\u001b[0m\u001b[0m\n\u001b[1;32m    340\u001b[0m             \u001b[0;32melse\u001b[0m\u001b[0;34m:\u001b[0m\u001b[0;34m\u001b[0m\u001b[0;34m\u001b[0m\u001b[0m\n\u001b[0;32m--> 341\u001b[0;31m                 \u001b[0;32mreturn\u001b[0m \u001b[0mprinter\u001b[0m\u001b[0;34m(\u001b[0m\u001b[0mobj\u001b[0m\u001b[0;34m)\u001b[0m\u001b[0;34m\u001b[0m\u001b[0;34m\u001b[0m\u001b[0m\n\u001b[0m\u001b[1;32m    342\u001b[0m             \u001b[0;31m# Finally look for special method names\u001b[0m\u001b[0;34m\u001b[0m\u001b[0;34m\u001b[0m\u001b[0;34m\u001b[0m\u001b[0m\n\u001b[1;32m    343\u001b[0m             \u001b[0mmethod\u001b[0m \u001b[0;34m=\u001b[0m \u001b[0mget_real_method\u001b[0m\u001b[0;34m(\u001b[0m\u001b[0mobj\u001b[0m\u001b[0;34m,\u001b[0m \u001b[0mself\u001b[0m\u001b[0;34m.\u001b[0m\u001b[0mprint_method\u001b[0m\u001b[0;34m)\u001b[0m\u001b[0;34m\u001b[0m\u001b[0;34m\u001b[0m\u001b[0m\n",
      "\u001b[0;32m/opt/local/Library/Frameworks/Python.framework/Versions/3.8/lib/python3.8/site-packages/sympy/interactive/printing.py\u001b[0m in \u001b[0;36m_print_latex_png\u001b[0;34m(o)\u001b[0m\n\u001b[1;32m    190\u001b[0m                 \u001b[0ms\u001b[0m \u001b[0;34m=\u001b[0m \u001b[0;34m'$\\\\displaystyle %s$'\u001b[0m \u001b[0;34m%\u001b[0m \u001b[0ms\u001b[0m\u001b[0;34m\u001b[0m\u001b[0;34m\u001b[0m\u001b[0m\n\u001b[1;32m    191\u001b[0m             \u001b[0;32mtry\u001b[0m\u001b[0;34m:\u001b[0m\u001b[0;34m\u001b[0m\u001b[0;34m\u001b[0m\u001b[0m\n\u001b[0;32m--> 192\u001b[0;31m                 \u001b[0;32mreturn\u001b[0m \u001b[0m_preview_wrapper\u001b[0m\u001b[0;34m(\u001b[0m\u001b[0ms\u001b[0m\u001b[0;34m)\u001b[0m\u001b[0;34m\u001b[0m\u001b[0;34m\u001b[0m\u001b[0m\n\u001b[0m\u001b[1;32m    193\u001b[0m             \u001b[0;32mexcept\u001b[0m \u001b[0mRuntimeError\u001b[0m \u001b[0;32mas\u001b[0m \u001b[0me\u001b[0m\u001b[0;34m:\u001b[0m\u001b[0;34m\u001b[0m\u001b[0;34m\u001b[0m\u001b[0m\n\u001b[1;32m    194\u001b[0m                 debug('preview failed with:', repr(e),\n",
      "\u001b[0;32m/opt/local/Library/Frameworks/Python.framework/Versions/3.8/lib/python3.8/site-packages/sympy/interactive/printing.py\u001b[0m in \u001b[0;36m_preview_wrapper\u001b[0;34m(o)\u001b[0m\n\u001b[1;32m     94\u001b[0m         \u001b[0mexprbuffer\u001b[0m \u001b[0;34m=\u001b[0m \u001b[0mBytesIO\u001b[0m\u001b[0;34m(\u001b[0m\u001b[0;34m)\u001b[0m\u001b[0;34m\u001b[0m\u001b[0;34m\u001b[0m\u001b[0m\n\u001b[1;32m     95\u001b[0m         \u001b[0;32mtry\u001b[0m\u001b[0;34m:\u001b[0m\u001b[0;34m\u001b[0m\u001b[0;34m\u001b[0m\u001b[0m\n\u001b[0;32m---> 96\u001b[0;31m             preview(o, output='png', viewer='BytesIO',\n\u001b[0m\u001b[1;32m     97\u001b[0m                     \u001b[0moutputbuffer\u001b[0m\u001b[0;34m=\u001b[0m\u001b[0mexprbuffer\u001b[0m\u001b[0;34m,\u001b[0m \u001b[0mpreamble\u001b[0m\u001b[0;34m=\u001b[0m\u001b[0mpreamble\u001b[0m\u001b[0;34m,\u001b[0m\u001b[0;34m\u001b[0m\u001b[0;34m\u001b[0m\u001b[0m\n\u001b[1;32m     98\u001b[0m                     dvioptions=dvioptions)\n",
      "\u001b[0;32m/opt/local/Library/Frameworks/Python.framework/Versions/3.8/lib/python3.8/site-packages/sympy/printing/preview.py\u001b[0m in \u001b[0;36mpreview\u001b[0;34m(expr, output, viewer, euler, packages, filename, outputbuffer, preamble, dvioptions, outputTexFile, **latex_settings)\u001b[0m\n\u001b[1;32m    194\u001b[0m             \u001b[0;32melse\u001b[0m\u001b[0;34m:\u001b[0m\u001b[0;34m\u001b[0m\u001b[0;34m\u001b[0m\u001b[0m\n\u001b[1;32m    195\u001b[0m                 \u001b[0mcreation_flag\u001b[0m \u001b[0;34m=\u001b[0m \u001b[0;36m0\u001b[0m \u001b[0;31m# Default value\u001b[0m\u001b[0;34m\u001b[0m\u001b[0;34m\u001b[0m\u001b[0m\n\u001b[0;32m--> 196\u001b[0;31m             check_output(['latex', '-halt-on-error', '-interaction=nonstopmode',\n\u001b[0m\u001b[1;32m    197\u001b[0m                           'texput.tex'],\n\u001b[1;32m    198\u001b[0m                          \u001b[0mcwd\u001b[0m\u001b[0;34m=\u001b[0m\u001b[0mworkdir\u001b[0m\u001b[0;34m,\u001b[0m\u001b[0;34m\u001b[0m\u001b[0;34m\u001b[0m\u001b[0m\n",
      "\u001b[0;32m/opt/local/Library/Frameworks/Python.framework/Versions/3.8/lib/python3.8/subprocess.py\u001b[0m in \u001b[0;36mcheck_output\u001b[0;34m(timeout, *popenargs, **kwargs)\u001b[0m\n\u001b[1;32m    413\u001b[0m         \u001b[0mkwargs\u001b[0m\u001b[0;34m[\u001b[0m\u001b[0;34m'input'\u001b[0m\u001b[0;34m]\u001b[0m \u001b[0;34m=\u001b[0m \u001b[0mempty\u001b[0m\u001b[0;34m\u001b[0m\u001b[0;34m\u001b[0m\u001b[0m\n\u001b[1;32m    414\u001b[0m \u001b[0;34m\u001b[0m\u001b[0m\n\u001b[0;32m--> 415\u001b[0;31m     return run(*popenargs, stdout=PIPE, timeout=timeout, check=True,\n\u001b[0m\u001b[1;32m    416\u001b[0m                **kwargs).stdout\n\u001b[1;32m    417\u001b[0m \u001b[0;34m\u001b[0m\u001b[0m\n",
      "\u001b[0;32m/opt/local/Library/Frameworks/Python.framework/Versions/3.8/lib/python3.8/subprocess.py\u001b[0m in \u001b[0;36mrun\u001b[0;34m(input, capture_output, timeout, check, *popenargs, **kwargs)\u001b[0m\n\u001b[1;32m    493\u001b[0m     \u001b[0;32mwith\u001b[0m \u001b[0mPopen\u001b[0m\u001b[0;34m(\u001b[0m\u001b[0;34m*\u001b[0m\u001b[0mpopenargs\u001b[0m\u001b[0;34m,\u001b[0m \u001b[0;34m**\u001b[0m\u001b[0mkwargs\u001b[0m\u001b[0;34m)\u001b[0m \u001b[0;32mas\u001b[0m \u001b[0mprocess\u001b[0m\u001b[0;34m:\u001b[0m\u001b[0;34m\u001b[0m\u001b[0;34m\u001b[0m\u001b[0m\n\u001b[1;32m    494\u001b[0m         \u001b[0;32mtry\u001b[0m\u001b[0;34m:\u001b[0m\u001b[0;34m\u001b[0m\u001b[0;34m\u001b[0m\u001b[0m\n\u001b[0;32m--> 495\u001b[0;31m             \u001b[0mstdout\u001b[0m\u001b[0;34m,\u001b[0m \u001b[0mstderr\u001b[0m \u001b[0;34m=\u001b[0m \u001b[0mprocess\u001b[0m\u001b[0;34m.\u001b[0m\u001b[0mcommunicate\u001b[0m\u001b[0;34m(\u001b[0m\u001b[0minput\u001b[0m\u001b[0;34m,\u001b[0m \u001b[0mtimeout\u001b[0m\u001b[0;34m=\u001b[0m\u001b[0mtimeout\u001b[0m\u001b[0;34m)\u001b[0m\u001b[0;34m\u001b[0m\u001b[0;34m\u001b[0m\u001b[0m\n\u001b[0m\u001b[1;32m    496\u001b[0m         \u001b[0;32mexcept\u001b[0m \u001b[0mTimeoutExpired\u001b[0m \u001b[0;32mas\u001b[0m \u001b[0mexc\u001b[0m\u001b[0;34m:\u001b[0m\u001b[0;34m\u001b[0m\u001b[0;34m\u001b[0m\u001b[0m\n\u001b[1;32m    497\u001b[0m             \u001b[0mprocess\u001b[0m\u001b[0;34m.\u001b[0m\u001b[0mkill\u001b[0m\u001b[0;34m(\u001b[0m\u001b[0;34m)\u001b[0m\u001b[0;34m\u001b[0m\u001b[0;34m\u001b[0m\u001b[0m\n",
      "\u001b[0;32m/opt/local/Library/Frameworks/Python.framework/Versions/3.8/lib/python3.8/subprocess.py\u001b[0m in \u001b[0;36mcommunicate\u001b[0;34m(self, input, timeout)\u001b[0m\n\u001b[1;32m   1013\u001b[0m                 \u001b[0mself\u001b[0m\u001b[0;34m.\u001b[0m\u001b[0m_stdin_write\u001b[0m\u001b[0;34m(\u001b[0m\u001b[0minput\u001b[0m\u001b[0;34m)\u001b[0m\u001b[0;34m\u001b[0m\u001b[0;34m\u001b[0m\u001b[0m\n\u001b[1;32m   1014\u001b[0m             \u001b[0;32melif\u001b[0m \u001b[0mself\u001b[0m\u001b[0;34m.\u001b[0m\u001b[0mstdout\u001b[0m\u001b[0;34m:\u001b[0m\u001b[0;34m\u001b[0m\u001b[0;34m\u001b[0m\u001b[0m\n\u001b[0;32m-> 1015\u001b[0;31m                 \u001b[0mstdout\u001b[0m \u001b[0;34m=\u001b[0m \u001b[0mself\u001b[0m\u001b[0;34m.\u001b[0m\u001b[0mstdout\u001b[0m\u001b[0;34m.\u001b[0m\u001b[0mread\u001b[0m\u001b[0;34m(\u001b[0m\u001b[0;34m)\u001b[0m\u001b[0;34m\u001b[0m\u001b[0;34m\u001b[0m\u001b[0m\n\u001b[0m\u001b[1;32m   1016\u001b[0m                 \u001b[0mself\u001b[0m\u001b[0;34m.\u001b[0m\u001b[0mstdout\u001b[0m\u001b[0;34m.\u001b[0m\u001b[0mclose\u001b[0m\u001b[0;34m(\u001b[0m\u001b[0;34m)\u001b[0m\u001b[0;34m\u001b[0m\u001b[0;34m\u001b[0m\u001b[0m\n\u001b[1;32m   1017\u001b[0m             \u001b[0;32melif\u001b[0m \u001b[0mself\u001b[0m\u001b[0;34m.\u001b[0m\u001b[0mstderr\u001b[0m\u001b[0;34m:\u001b[0m\u001b[0;34m\u001b[0m\u001b[0;34m\u001b[0m\u001b[0m\n",
      "\u001b[0;31mKeyboardInterrupt\u001b[0m: "
     ]
    }
   ],
   "source": [
    "Eq(rdotz, solve(Eq(solve(Eq(pcovec_eqn.lhs[0],pcovec_eqn.rhs[0]),rdotx)[0],\n",
    "          solve(Eq(pcovec_eqn.lhs[1],pcovec_eqn.rhs[1]),rdotx)[0]),rdotz)[0])"
   ]
  },
  {
   "cell_type": "markdown",
   "metadata": {},
   "source": [
    "The (tangent of) the ray angle is given (by definition) by the ratio of these two components, which has the simple expression:"
   ]
  },
  {
   "cell_type": "code",
   "execution_count": null,
   "metadata": {},
   "outputs": [],
   "source": [
    "vzvx_ratio_eqn = Eq(vz_px_pz_eqn.lhs/vx_px_pz_eqn.lhs, vz_px_pz_eqn.rhs/vx_px_pz_eqn.rhs)\n",
    "Eq(tan(alpha),vzvx_ratio_eqn.lhs), vzvx_ratio_eqn"
   ]
  },
  {
   "cell_type": "markdown",
   "metadata": {},
   "source": [
    "## Expressions for $p_x(v^x,v^z)$ and $p_z(v^x,v^z)$ "
   ]
  },
  {
   "cell_type": "markdown",
   "metadata": {},
   "source": [
    "The velocity component ratio is a simple quadratic expression in the slowness components $p_x$ and $p_z$, which makes it easy to solve for one in terms of the other (along with the velocity components $v^x$ and $v^z$):"
   ]
  },
  {
   "cell_type": "code",
   "execution_count": null,
   "metadata": {},
   "outputs": [],
   "source": [
    "vzvx_ratio_eqn"
   ]
  },
  {
   "cell_type": "code",
   "execution_count": null,
   "metadata": {},
   "outputs": [],
   "source": [
    "px_interim_solns = solve(vzvx_ratio_eqn,px)\n",
    "px_interim_solns"
   ]
  },
  {
   "cell_type": "code",
   "execution_count": null,
   "metadata": {},
   "outputs": [],
   "source": [
    "px_interim_soln = px_interim_solns[0]\n",
    "px_interim_eqn = Eq(px, px_interim_soln)\n",
    "px_interim_eqn"
   ]
  },
  {
   "cell_type": "markdown",
   "metadata": {},
   "source": [
    "It will be useful to know the location, in both phase spaces, of a test point that lies \"on-shell\", i.e., on a solution of the system, which we set here. We can use this point to check the veracity of the expression for $p_x$:"
   ]
  },
  {
   "cell_type": "code",
   "execution_count": null,
   "metadata": {},
   "outputs": [],
   "source": [
    "if gmeq.eta<1:\n",
    "    vx_,vz_ = 0.9,-0.2978\n",
    "    px_,pz_ = 0.6630963505914919,-1.354973165538337\n",
    "else:\n",
    "    vx_,vz_ = Rational(105,100), Rational(21,100)\n",
    "    vx_,vz_ = 1.05462010732076, 0.214847320357639\n",
    "    px_,pz_ = 1.15,-1.\n",
    "Eq(px, round(N(((px_interim_soln).subs({rdotx:vx_,rdotz:vz_}).subs({pz:pz_}))),5))"
   ]
  },
  {
   "cell_type": "markdown",
   "metadata": {},
   "source": [
    "And also use it to check the expressions for $v^x$ and $v^z$:"
   ]
  },
  {
   "cell_type": "code",
   "execution_count": null,
   "metadata": {},
   "outputs": [],
   "source": [
    "vx_px_pz_eqn.subs({px:px_,pz:pz_,varphi:1}), vz_px_pz_eqn.subs({px:px_,pz:pz_,varphi:1})"
   ]
  },
  {
   "cell_type": "markdown",
   "metadata": {},
   "source": [
    "The expression for $p_x$ in terms of $p_z$ and $(v^x,v^z)$ is linear in $p_z$; using it to eliminate $p_x$ in the expression for $v^x$ gives $v^x(v^z,p_z)$:"
   ]
  },
  {
   "cell_type": "code",
   "execution_count": null,
   "metadata": {},
   "outputs": [],
   "source": [
    "vx_eqn = (simplify( vx_px_pz_eqn.subs(e2d(px_interim_eqn)) ))\n",
    "vx_eqn"
   ]
  },
  {
   "cell_type": "markdown",
   "metadata": {},
   "source": [
    "Solving for $p_z$, which is just a simple rearrangement, gives $p_z(v^x,v^z)$, and $p_x(v^x,v^z)$ then follows trivially:"
   ]
  },
  {
   "cell_type": "code",
   "execution_count": null,
   "metadata": {},
   "outputs": [],
   "source": [
    "pz_vx_vz_eqn = Eq(pz, simplify( solve(vx_eqn, pz)[0]))\n",
    "pz_vx_vz_eqn\n",
    "if gmeq.eta<1:\n",
    "    vz_tmp = symbols(r'v^z',  real=True, negative=True)\n",
    "else:\n",
    "    vz_tmp = symbols(r'v^z',  real=True, positive=True)\n",
    "pz_vx_vz_simple_eqn = simplify(pz_vx_vz_eqn.subs({rdotz:vz_tmp}).subs({vz_tmp:rdotz}))\n",
    "\n",
    "px_vx_vz_eqn = (px_interim_eqn.subs(e2d(pz_vx_vz_eqn)))\n",
    "px_vx_vz_eqn \n",
    "px_vx_vz_simple_eqn = simplify(px_interim_eqn.subs(e2d(pz_vx_vz_simple_eqn)))\n",
    "\n",
    "if gmeq.eta>1:\n",
    "    px_vx_vz_eqn = px_vx_vz_simple_eqn\n",
    "    pz_vx_vz_eqn = pz_vx_vz_simple_eqn\n",
    "    \n",
    "simplify(px_vx_vz_simple_eqn.subs({rdotx:vx,rdotz:vz})), pz_vx_vz_simple_eqn.subs({rdotx:vx,rdotz:vz})"
   ]
  },
  {
   "cell_type": "markdown",
   "metadata": {},
   "source": [
    "The ratio of $-p_x(v^x,v^z)/p_z(v^x,v^z)$ should give an expression $\\tan\\beta$ consistent with what we know from more direct derivation, which it does:"
   ]
  },
  {
   "cell_type": "code",
   "execution_count": null,
   "metadata": {},
   "outputs": [],
   "source": [
    "tanbeta_eqn = Eq(tan(beta), -px_vx_vz_eqn.rhs/pz_vx_vz_eqn.rhs)\n",
    "tanbeta_eqn"
   ]
  },
  {
   "cell_type": "markdown",
   "metadata": {},
   "source": [
    "Generate a test point below the critical angle $\\beta_\\mathrm{crit}$:"
   ]
  },
  {
   "cell_type": "code",
   "execution_count": null,
   "metadata": {},
   "outputs": [],
   "source": [
    "(Eq(pz, N(((pz_vx_vz_eqn.rhs)\n",
    "        .subs({rdotx:vx_,rdotz:vz_})\n",
    "        .subs({varphi:1,px:px_,pz:pz_})))),\n",
    " Eq(px, N(((px_vx_vz_eqn.rhs)\n",
    "        .subs({rdotx:vx_,rdotz:vz_})\n",
    "        .subs({varphi:1,px:px_,pz:pz_}))) ) )"
   ]
  },
  {
   "cell_type": "markdown",
   "metadata": {},
   "source": [
    "Plug this $p$ coordinate in to check the surface tilt angle is sub-critical:"
   ]
  },
  {
   "cell_type": "code",
   "execution_count": null,
   "metadata": {},
   "outputs": [],
   "source": [
    "( Eq(tan(beta), round(N(tanbeta_eqn.rhs.subs({rdotx:vx_,rdotz:vz_})),3)), \n",
    "        Eq((beta), np.round(np.rad2deg(np.arctan(float(N(tanbeta_eqn.rhs.subs({rdotx:vx_,rdotz:vz_}))))),2)),\n",
    "        Eq((beta_crit), np.round(np.rad2deg(np.arctan(float(N(gmeq.tanbeta_crit)))),2)) )"
   ]
  },
  {
   "cell_type": "markdown",
   "metadata": {},
   "source": [
    "Lambdify the expressions for $p_x(v^x,v^z)$ and $p_z(v^x,v^z)$."
   ]
  },
  {
   "cell_type": "code",
   "execution_count": null,
   "metadata": {},
   "outputs": [],
   "source": [
    "if gmeq.eta<1:\n",
    "    px_vx_vz_lambda = lambda f,vx,vz:  \\\n",
    "        float((N(px_vx_vz_eqn.rhs.subs({varphi:f,rdotx:vx,rdotz:vz}))))\n",
    "    pz_vx_vz_lambda = lambda f,vx,vz:  \\\n",
    "        float((N(pz_vx_vz_eqn.rhs.subs({varphi:f,rdotx:vx,rdotz:vz}))))\n",
    "else:\n",
    "    px_vx_vz_lambda = lambda f,vx,vz:  \\\n",
    "        float(re(N(px_vx_vz_eqn.rhs.subs({varphi:f,rdotx:vx,rdotz:vz}))))\n",
    "    pz_vx_vz_lambda = lambda f,vx,vz:  \\\n",
    "        float(re(N(pz_vx_vz_eqn.rhs.subs({varphi:f,rdotx:vx,rdotz:vz}))))\n",
    "p_vx_vz_lambda = lambda f,v: [px_vx_vz_lambda(f,v[0],v[1]),pz_vx_vz_lambda(f,v[0],v[1])]"
   ]
  },
  {
   "cell_type": "markdown",
   "metadata": {},
   "source": [
    "## Lagrangian $L(v^x,v^z,\\varphi)$ using $p(v)$ mappings and Legendre transform"
   ]
  },
  {
   "cell_type": "markdown",
   "metadata": {},
   "source": [
    "Specify the Hamiltonian $H$ for the chosen value of $\\eta$:"
   ]
  },
  {
   "cell_type": "code",
   "execution_count": null,
   "metadata": {},
   "outputs": [],
   "source": [
    "H_eqn = Eq(H, gmeq.H_eqn.rhs.subs({varphi_r:varphi, eta:gmeq.eta}))\n",
    "H_eqn"
   ]
  },
  {
   "cell_type": "markdown",
   "metadata": {},
   "source": [
    "Assert that the Lagrangian $L$ if the Legendre transform of this Hamiltonian, remembering not to hard-wire the inner product of $\\mathbf{\\widetilde{p}}$ and $\\mathbf{v}$ to unity:"
   ]
  },
  {
   "cell_type": "code",
   "execution_count": null,
   "metadata": {},
   "outputs": [],
   "source": [
    "L_raw_eqn = simplify(Eq(L, px*rdotx + pz*rdotz - H_eqn.rhs))\n",
    "L_raw_eqn"
   ]
  },
  {
   "cell_type": "markdown",
   "metadata": {},
   "source": [
    "Use the mappings for $p_x(v^x,v^z)$ and $p_z(v^x,v^z)$ to reparameterize this Lagrangian into the form $L(v^x, v^z)$:"
   ]
  },
  {
   "cell_type": "code",
   "execution_count": null,
   "metadata": {},
   "outputs": [],
   "source": [
    "if gmeq.eta<1:\n",
    "    L_interim_eqn = simplify( ((factor(L_raw_eqn.subs({px:-pz*tan(beta)}))).subs(e2d(tanbeta_eqn))\n",
    "        .subs(e2d(px_vx_vz_eqn))).subs(e2d(pz_vx_vz_eqn)) )#.subs({rdotz:-Abs(rdotz)})\n",
    "else:\n",
    "    L_interim_eqn = simplify( ((factor(L_raw_eqn.subs({px:-pz*tan(beta)}))).subs(e2d(tanbeta_eqn))\n",
    "        .subs(e2d(px_vx_vz_eqn))).subs(e2d(pz_vx_vz_eqn)) ).subs({rdotz:Abs(rdotz)})\n",
    "L_interim_eqn.subs({rdotx:vx, rdotz:vz})"
   ]
  },
  {
   "cell_type": "markdown",
   "metadata": {
    "heading_collapsed": true
   },
   "source": [
    "## Lagrangian $L$ in compact form"
   ]
  },
  {
   "cell_type": "markdown",
   "metadata": {
    "hidden": true
   },
   "source": [
    "Make a brave attempt at simplifying the expression for the Lagrangian. Depending on the chosen value of $\\eta$, define some shorthand substitutions that will coax SymPy to reduce the algebra a bit:"
   ]
  },
  {
   "cell_type": "code",
   "execution_count": null,
   "metadata": {
    "hidden": true
   },
   "outputs": [],
   "source": [
    "a = symbols(r'a',  real=True, positive=True)\n",
    "b = symbols(r'b',  real=True, positive=True)\n",
    "c = symbols(r'c',  real=True, positive=True)\n",
    "d = symbols(r'd',  real=True, positive=True)\n",
    "if gmeq.eta<1:\n",
    "    a_subs_eqn = Eq(a, \n",
    "                    rdotx**2-rdotx*sqrt(rdotx**2-8*rdotz**2)+4*rdotz**2\n",
    "                   )\n",
    "    b_subs_eqn = Eq(b, \n",
    "                    rdotx**2-rdotx*sqrt(rdotx**2-8*rdotz**2)-4*rdotz**2\n",
    "                   )\n",
    "    c_subs_eqn = Eq(a-b, a_subs_eqn.rhs - b_subs_eqn.rhs)\n",
    "    d_subs_eqn = Eq(d, \n",
    "                    rdotx-sqrt(rdotx**2-8*rdotz**2)\n",
    "                   )\n",
    "else:\n",
    "    a_subs_eqn = Eq(a, \n",
    "                    sqrt(rdotx**2-24*rdotz**2)\n",
    "                   )\n",
    "    b_subs_eqn = Eq(b, \n",
    "                    sqrt(rdotx**2+24*rdotz**2)\n",
    "                   )\n",
    "    c_subs_eqn = Eq(a-b, a_subs_eqn.rhs - b_subs_eqn.rhs)\n",
    "    d_subs_eqn = Eq(d, \n",
    "                    sqrt(16*rdotz**2+(a-rdotx)**2)\n",
    "                   )\n",
    "a_subs_eqn, b_subs_eqn, c_subs_eqn, d_subs_eqn"
   ]
  },
  {
   "cell_type": "markdown",
   "metadata": {
    "hidden": true
   },
   "source": [
    "Deploy these substitutions to get a (very) compact form for L, albeit temporary:"
   ]
  },
  {
   "cell_type": "code",
   "execution_count": null,
   "metadata": {
    "hidden": true
   },
   "outputs": [],
   "source": [
    "L_ab_eqn = Eq( L, simplify(simplify( (L_interim_eqn.rhs)\n",
    "                                   .subs(e2d(a_subs_eqn,do_flip=True)).subs(e2d(b_subs_eqn,do_flip=True)) )\n",
    "                          .subs(e2d(c_subs_eqn,do_flip=False)).subs(e2d(d_subs_eqn,do_flip=True))) )\n",
    "L_ab_eqn"
   ]
  },
  {
   "cell_type": "markdown",
   "metadata": {
    "hidden": true
   },
   "source": [
    "Revert the substitutions to see if this process has simplified $L$; here, we use the shorthand $x, z$ for $v^x,v^z$:"
   ]
  },
  {
   "cell_type": "code",
   "execution_count": null,
   "metadata": {
    "hidden": true
   },
   "outputs": [],
   "source": [
    "if gmeq.eta<1:\n",
    "    L_manipulated_eqn = factor(((\n",
    "        L_ab_eqn.subs(e2d(a_subs_eqn,do_flip=False))\n",
    "                .subs(e2d(b_subs_eqn,do_flip=False))\n",
    "                .subs(e2d(d_subs_eqn,do_flip=False))\n",
    "    )))\n",
    "    L_manipulated_eqn = ( L_manipulated_eqn.subs({Abs(rdotz):-rdotz}) )\n",
    "else:\n",
    "    L_manipulated_eqn = (((\n",
    "        L_ab_eqn.subs(e2d(d_subs_eqn,do_flip=False))\n",
    "                .subs(e2d(a_subs_eqn,do_flip=False))\n",
    "                .subs(e2d(b_subs_eqn,do_flip=False))\n",
    "    )))\n",
    "    L_manipulated_eqn = simplify( L_manipulated_eqn.subs({Abs(rdotz):rdotz}) )\n",
    "L_compact_eqn = L_manipulated_eqn\n",
    "L_compact_eqn.subs({rdotx:vx, rdotz:vz})"
   ]
  },
  {
   "cell_type": "code",
   "execution_count": null,
   "metadata": {
    "hidden": true
   },
   "outputs": [],
   "source": [
    "# if gmeq.eta<1:\n",
    "#     a_subs_eqn = Eq(a, sqrt(rdotx**2-rdotx*sqrt(rdotx**2-8*rdotz**2)-4*rdotz**2))\n",
    "#     b_subs_eqn = Eq(b, sqrt(rdotx**2-rdotx*sqrt(rdotx**2-8*rdotz**2)+4*rdotz**2))\n",
    "#     b2_subs_eqn = Eq(b*sqrt(2), sqrt(2*rdotx**2-2*rdotx*sqrt(rdotx**2-8*rdotz**2)+8*rdotz**2))\n",
    "#     c_subs_eqn = Eq(c, sqrt(rdotx**2-8*rdotz**2))\n",
    "#     c2_subs_eqn = Eq(c*sqrt(2), sqrt(2*rdotx**2-16*rdotz**2))\n",
    "#     L_temp_eqn = simplify(L_manipulated_eqn\n",
    "#                      .subs(e2d(a_subs_eqn,do_flip=True))\n",
    "#                      .subs(e2d(b_subs_eqn,do_flip=True))\n",
    "#                      .subs(e2d(b2_subs_eqn,do_flip=True))\n",
    "# #                      .subs(e2d(c_subs_eqn,do_flip=True)) \n",
    "#                     ).subs(e2d(c_subs_eqn,do_flip=True)).subs(e2d(c2_subs_eqn,do_flip=True))\n",
    "# else:\n",
    "#     a_subs_eqn = Eq(a, sqrt(rdotx**2-24*rdotz**2) )\n",
    "#     b_subs_eqn = Eq(b, sqrt(rdotx**2+24*rdotz**2) )\n",
    "# #     b2_subs_eqn = Eq(b*sqrt(2), sqrt(2*rdotx**2-2*rdotx*sqrt(rdotx**2-8*rdotz**2)+8*rdotz**2))\n",
    "#     c_subs_eqn = Eq(c, sqrt(16*rdotz**2+(a-rdotx)**2) )\n",
    "#     L_temp_eqn = (L_manipulated_eqn\n",
    "#                      .subs(e2d(a_subs_eqn,do_flip=True))\n",
    "#                      .subs(e2d(b_subs_eqn,do_flip=True))\n",
    "# #                      .subs(e2d(b2_subs_eqn,do_flip=True))\n",
    "#                      .subs(e2d(c_subs_eqn,do_flip=True)) \n",
    "#                     )\n",
    "# L_temp_eqn\n",
    "\n",
    "# L_compact_eqn = (L_temp_eqn\n",
    "#                    .subs(e2d(c_subs_eqn,do_flip=False))\n",
    "#                    .subs(e2d(b_subs_eqn,do_flip=False))\n",
    "#                    .subs(e2d(a_subs_eqn,do_flip=False)) )\n",
    "# (L_compact_eqn.subs({rdotx:vx,rdotz:vz}))"
   ]
  },
  {
   "cell_type": "markdown",
   "metadata": {
    "hidden": true
   },
   "source": [
    "Plug a test coordinate in rational-number form into the Lagrangian as a sanity check:"
   ]
  },
  {
   "cell_type": "code",
   "execution_count": null,
   "metadata": {
    "hidden": true
   },
   "outputs": [],
   "source": [
    "px_,pz_,vx_,vz_ "
   ]
  },
  {
   "cell_type": "code",
   "execution_count": null,
   "metadata": {
    "hidden": true
   },
   "outputs": [],
   "source": [
    "L_eqn_ = L_compact_eqn.subs({rdotx:(Rational(9,10) if gmeq.eta<1 else Rational(105,100)),\n",
    "                             rdotz:(Rational(3,10) if gmeq.eta<1 else Rational(21,100)),varphi:varphi_})\n",
    "L_eqn_, N(L_eqn_)"
   ]
  },
  {
   "cell_type": "markdown",
   "metadata": {
    "hidden": true
   },
   "source": [
    "Lambdify the uncompact and compact forms we have for the Lagrangian."
   ]
  },
  {
   "cell_type": "code",
   "execution_count": null,
   "metadata": {
    "hidden": true
   },
   "outputs": [],
   "source": [
    "L_raw_lambda = lambda f_,px_,pz_,vx_,vz_: \\\n",
    "                    float((N(L_raw_eqn.rhs.subs({varphi:f_,px:px_,pz:pz_,rdotx:vx_,rdotz:vz_}))))\n",
    "L_lambda = lambda f_,vx_,vz_: \\\n",
    "                    float((N(L_compact_eqn.rhs.subs({varphi:f_,rdotx:vx_,rdotz:vz_}))))"
   ]
  },
  {
   "cell_type": "markdown",
   "metadata": {},
   "source": [
    "## Geodesic spray coefficients  $G^i$"
   ]
  },
  {
   "cell_type": "markdown",
   "metadata": {},
   "source": [
    "In this section, we derive the geodesic coefficients $G^i$, which are used both in constructing vector field of  the geodesic spray ${\\mathbb{G}}$,\n",
    "\n",
    "\\begin{equation}\n",
    "    {\\mathbb{G}} := v^i \\dfrac{\\partial}{\\partial{r^i}} - 2 G^i(\\mathbf{v}) \\dfrac{\\partial}{\\partial{v^i}}\n",
    "\\end{equation}\n",
    "\n",
    "and the geodesic \"F=ma\" equation(s),\n",
    "\n",
    "\\begin{equation}\n",
    "    \\mathbf{\\ddot{r}} + 2 G^i(\\mathbf{\\dot{r}}) = 0\n",
    "\\end{equation}\n",
    "\n",
    "where we take it as read that $\\mathbf{\\dot{r}} = \\mathbf{v}$. \n",
    "\n",
    "The essential requirement (for a full geodesic spray) is for the $G^i$ to be order-2 Euler homogeneous in  velocity $\\mathbf{v}$: \n",
    "\n",
    "\\begin{equation}\n",
    "    G^i(\\mathbf{\\lambda v}) = \\lambda^2 G^i(\\mathbf{v}) \\,,\\qquad \\lambda>0\n",
    "\\end{equation}\n",
    "\n",
    "\n",
    "In fact, _any_ second-order ordinary differential equation that takes the ODE form above, without specifying any further requirements on the  function in velocity $\\mathbf{v}$, is a spray if the homogeneity criterion is met.\n",
    "\n"
   ]
  },
  {
   "cell_type": "markdown",
   "metadata": {},
   "source": [
    "Recap of the metric tensor $g$ and its dual $g_*$, both parameterized in terms of $\\varphi(r^x)$, $p_x$ and $p_z$:"
   ]
  },
  {
   "cell_type": "code",
   "execution_count": null,
   "metadata": {},
   "outputs": [],
   "source": [
    "gstar_pxpz = gstar_pxpz_eqn.rhs.subs({varphi:varphi_rx})\n",
    "g_pxpz = g_pxpz_eqn.rhs.subs({varphi:varphi_rx})\n",
    "g_pxpz_eqn, gstar_pxpz_eqn"
   ]
  },
  {
   "cell_type": "markdown",
   "metadata": {},
   "source": [
    "Define a derivative operator function that differentiates each component of a metric tensor in turn w.r.t. either $r^x$ or $r^z$:"
   ]
  },
  {
   "cell_type": "code",
   "execution_count": null,
   "metadata": {},
   "outputs": [],
   "source": [
    "def diff_p(g_,r_i):\n",
    "    dg11dri = diff(g_[0,0],r_i)\n",
    "    dg12dri = diff(g_[0,1],r_i)\n",
    "    dg21dri = diff(g_[1,0],r_i)\n",
    "    dg22dri = diff(g_[1,1],r_i)\n",
    "    return simplify(Matrix([ [dg11dri,dg12dri], [dg21dri,dg22dri] ]))"
   ]
  },
  {
   "cell_type": "markdown",
   "metadata": {},
   "source": [
    "Differentiate the metric tensor $g$ w.r.t. $r^x$ and $r^z$:"
   ]
  },
  {
   "cell_type": "code",
   "execution_count": null,
   "metadata": {},
   "outputs": [],
   "source": [
    "dgdrx = MatrixSymbol(r'\\dfrac{\\partial{g}_{ij}}{\\partial{r^x}}',2,2)\n",
    "dgdrz = MatrixSymbol(r'\\dfrac{\\partial{g}_{ij}}{\\partial{r^z}}',2,2)\n",
    "\n",
    "dgdrx_eqn = Eq(dgdrx, diff_p(g_pxpz,rx).subs({diff(varphi_rx,rx):d_varphi, varphi_rx:varphi}))\n",
    "dgdrz_eqn = Eq(dgdrz, diff_p(g_pxpz,rz).subs({diff(varphi_rx,rx):d_varphi, varphi_rx:varphi}))\n",
    "dgdrx_eqn, dgdrz_eqn"
   ]
  },
  {
   "cell_type": "markdown",
   "metadata": {},
   "source": [
    "Now we construct the geodesic coefficients, which are given by:\n",
    "\n",
    "\\begin{equation}\n",
    "    G^i(\\mathbf{v}) = \\dfrac{1}{4} g_*^{im}(\\mathbf{v})\\left\\{\n",
    "                    2\\dfrac{\\partial{g_{jm}}}{\\partial{r^k}}(\\mathbf{v}) \n",
    "                    - \\dfrac{\\partial{g_{jk}}}{\\partial{r^m}}(\\mathbf{v})\n",
    "                        \\right\\} v^j v^k\n",
    "\\end{equation}\n",
    "\n",
    "We split this expression into two halves (dropping the notation indicating $\\mathbf{v}$ dependence for clarity)\n",
    "\n",
    "\\begin{equation}\n",
    "    G^i = \\dfrac{1}{2}\\left\\{ g_*^{im}\n",
    "                    \\dfrac{\\partial{g_{jm}}}{\\partial{r^k}}\n",
    "                        \\right\\} v^j v^k\n",
    "          -\n",
    "          \\dfrac{1}{4} g_*^{im}\\left\\{\\dfrac{\\partial{g_{jk}}}{\\partial{r^m}} \\right\\} v^j v^k\n",
    "\\end{equation}\n",
    "\n",
    "and construct each in turn, starting with \n",
    "\n",
    "\\begin{equation}\n",
    "    \\dfrac{1}{2}\\left\\{ g_*^{im}\n",
    "                    \\dfrac{\\partial{g_{jm}}}{\\partial{r^k}}\n",
    "                        \\right\\} v^j v^k\n",
    "\\end{equation}\n",
    "\n",
    "The tensor contraction here can be treated as a pair of matrix multiplications (the partial derivative in $r^k$ generates one for $\\partial{r^x}$ and one for $\\partial{r^z}$), bearing in mind that the metric tensors are symmetrical (e.g., $g_{jm} = g_{mj}$):\n",
    "\n",
    "\\begin{equation}\n",
    "    g_*^{im}\\dfrac{\\partial{g_{jm}}}{\\partial{r^k}}\n",
    "        \\,\\,\\Leftrightarrow\\,\\, g_* \\dfrac{\\partial{g}}{\\partial{r^k}}\n",
    "        = \\begin{bmatrix} g_* \\dfrac{\\partial{g}}{\\partial{r^x}} \n",
    "                        \\\\ g_* \\dfrac{\\partial{g}}{\\partial{r^z}} \\end{bmatrix}\n",
    "\\end{equation}\n",
    "\n",
    "Now, $g$ (and its respective dual $g_*$) are separable functions of position and velocity (respectively, slowness),  i.e.,\n",
    "\n",
    "\\begin{equation}\n",
    "    g(\\mathbf{r}, \\mathbf{v}) = \\dfrac{1}{\\varphi^2(r^x)}\\,\\widetilde{g}(v^x,v^z)\n",
    "    \\,\\,,\\quad\n",
    "    g_*(\\mathbf{r}, \\mathbf{\\widetilde{p}}) = {\\varphi^2(r^x)}\\,\\widetilde{g}_*(p_x,p_z)\n",
    "\\end{equation}\n",
    "\n",
    "and by definition they are mutually inverse, $g_{*} = g^{-1}$.\n",
    "\n",
    "Therefore the matrix multiplications simplify to\n",
    "\n",
    "\\begin{equation}\n",
    "     g_* \\dfrac{\\partial{g}}{\\partial{r^k}}\n",
    "         = \\dfrac{\\partial{\\left(1/\\varphi^2(r^x)\\right)}}{\\partial{r^k}} \\varphi^2(r^x)\\, \\widetilde{g}_* \\, \\widetilde{g}\n",
    "         = \\begin{bmatrix} -\\dfrac{{2\\varphi^{\\prime}}}{\\varphi}I  \\\\ 0 I  \\end{bmatrix}\n",
    "\\end{equation}\n",
    "\n",
    "where $I$ is the identity matrix and thus $0 I$ is the null matrix."
   ]
  },
  {
   "cell_type": "code",
   "execution_count": null,
   "metadata": {},
   "outputs": [],
   "source": [
    "gstar_im = MatrixSymbol(r'{g}^{im}_{*}',2,2)\n",
    "dgdrx_jm = MatrixSymbol(r'\\dfrac{\\partial{g}_{jm}}{\\partial{r^x}}',2,2)\n",
    "dgdrz_jm = MatrixSymbol(r'\\dfrac{\\partial{g}_{jm}}{\\partial{r^z}}',2,2)\n",
    "\n",
    "gstar_im_dgdrx_jm_eqn = Eq(gstar_im*dgdrx_jm, simplify((gstar_pxpz*dgdrx_eqn.rhs).subs({varphi_rx:varphi})))\n",
    "gstar_im_dgdrz_jm_eqn = Eq(gstar_im*dgdrz_jm, simplify((gstar_pxpz*dgdrz_eqn.rhs).subs({varphi_rx:varphi})))\n",
    "gstar_im_dgdrx_jm_eqn, gstar_im_dgdrz_jm_eqn"
   ]
  },
  {
   "cell_type": "markdown",
   "metadata": {},
   "source": [
    "The first term in $G^i$ is therefore:\n",
    "\n",
    "\\begin{align}\n",
    "    \\dfrac{1}{2}\\left\\{ g_*^{im} \\dfrac{\\partial{g_{jm}}}{\\partial{r^k}} \\right\\} v^j v^k\n",
    "    & = -\\dfrac{{2\\varphi^{\\prime}}}{\\varphi}\\begin{bmatrix} I_{jk}  \\\\ 0 I_{jk}  \\end{bmatrix}^i v^j v^k \\\\\n",
    "    & = -\\dfrac{{2\\varphi^{\\prime}}}{\\varphi}\\begin{bmatrix} \\delta_{jk}  \\\\ 0 \\delta_{jk} \\end{bmatrix}^i v^j v^k \\\\\n",
    "    & = -\\dfrac{{2\\varphi^{\\prime}}}{\\varphi}\\begin{bmatrix} v^k v^k  \\\\ 0  \\end{bmatrix}^i \\\\\n",
    "    & = -\\dfrac{{2\\varphi^{\\prime}}}{\\varphi}\\begin{bmatrix} (v^x)^2 + (v^z)^2  \\\\ 0  \\end{bmatrix}^i \\\\\n",
    "    & = -\\dfrac{{2\\varphi^{\\prime}}}{\\varphi}\\begin{bmatrix} |\\mathbf{v}|^2  \\\\ 0  \\end{bmatrix}^i \n",
    "\\end{align}\n",
    "\n",
    "where $|\\cdot|^2$ is taken to mean the sum of the squared vector components, not the Finsler norm."
   ]
  },
  {
   "cell_type": "markdown",
   "metadata": {},
   "source": [
    "The second term in $G^i$ is more awkward. Writing out in full the contraction over $m$ (which is not a simple matrix multiplication this time):\n",
    "\n",
    "\\begin{equation}\n",
    "    \\dfrac{1}{4} g_*^{im}\\left\\{ \\dfrac{\\partial{g_{jk}}}{\\partial{r^m}} \\right\\} \n",
    "     = \n",
    "       \\dfrac{1}{4} g_*^{i1}\\left\\{ \\dfrac{\\partial{g_{jk}}}{\\partial{r^x}} \\right\\} \n",
    "     + \\dfrac{1}{4} g_*^{i2}\\left\\{ \\dfrac{\\partial{g_{jk}}}{\\partial{r^z}} \\right\\} \n",
    "\\end{equation}\n",
    "\n",
    "\n",
    "which \"simplifies\" if we use the separability of the metric tensor functions:\n",
    "\n",
    "\\begin{align}\n",
    "    \\dfrac{1}{4} g_*^{im}\\left\\{\\dfrac{\\partial{g_{jk}}}{\\partial{r^m}} \\right\\} \n",
    "     &= \n",
    "       \\dfrac{1}{4} \\left( \n",
    "               g_*^{i1}\\left\\{ \n",
    "                   \\dfrac{\\partial{\\left(1/\\varphi^2(r^x)\\right)}}{\\partial{r^k}} \\widetilde{g}_{jk}\n",
    "                   \\right\\}\n",
    "             + g_*^{i2}\\left\\{ \\left[0 I\\right]_{jk} \\right\\} \n",
    "         \\right) \\\\\n",
    "     &= \n",
    "       \\dfrac{1}{4} \\left( \n",
    "               \\varphi^2\\, \\widetilde{g}_*^{i1}\\left\\{ \n",
    "                   -\\dfrac{2\\varphi^{\\prime}}{\\varphi^3} \\widetilde{g}_{jk}\n",
    "                   \\right\\}\n",
    "         \\right) \\\\\n",
    "     &= \n",
    "       -\\dfrac{\\varphi^{\\prime}}{2\\varphi} \\, \n",
    "                \\widetilde{g}_*^{i1}\n",
    "                   \\widetilde{g}_{jk}\n",
    "\\end{align}"
   ]
  },
  {
   "cell_type": "markdown",
   "metadata": {},
   "source": [
    "Applying this term to the velocities, as per the construction of $G^i$, we have\n",
    "\n",
    "\\begin{equation}\n",
    "        -\\dfrac{\\varphi^{\\prime}}{2\\varphi} \\, \n",
    "                        \\widetilde{g}_*^{i1} \\widetilde{g}_{jk} v^j v^k\n",
    "        =\n",
    "        -\\dfrac{\\varphi^{\\prime}}{2\\varphi} \\, \n",
    "                        {g}_*^{i1} {g}_{jk} v^j v^k\n",
    "        =\n",
    "        -\\dfrac{\\varphi^{\\prime}}{2\\varphi} \\, \n",
    "                        F^2 {g}_*^{i1} \n",
    "        =\n",
    "        -\\dfrac{\\varphi^{\\prime}}{\\varphi} \\, \n",
    "                        L \\,{g}_*^{i1}\n",
    "\\end{equation}\n",
    "\n",
    "which uses the identities $F^2 = {g}_{jk} v^j v^k$ and $L = \\tfrac{1}{2} F^2$.\n",
    "\n",
    "Therefore the second term in $G^i$ reduces to:\n",
    "\n",
    "\n",
    "\\begin{equation}\n",
    "    \\dfrac{1}{4} g_*^{im}\\left\\{\\dfrac{\\partial{g_{jk}}}{\\partial{r^m}} \\right\\} v^j v^k\n",
    "        =\n",
    "        -\\dfrac{\\varphi^{\\prime}}{\\varphi} \\, \n",
    "                        L \\,{g}_*^{i1}\n",
    "\\end{equation}"
   ]
  },
  {
   "cell_type": "markdown",
   "metadata": {},
   "source": [
    "Putting the two terms together, we have a pretty simple form for $G^i$:\n",
    "\n",
    "\n",
    "\\begin{align}\n",
    "    G^i \n",
    "    &= \\dfrac{1}{2}\\left\\{ g_*^{im} \\dfrac{\\partial{g_{jm}}}{\\partial{r^k}} \\right\\} v^j v^k\n",
    "        - \\dfrac{1}{4} g_*^{im}\\left\\{\\dfrac{\\partial{g_{jk}}}{\\partial{r^m}} \\right\\} v^j v^k \\\\\n",
    "    &= -\\dfrac{{2\\varphi^{\\prime}}}{\\varphi}\\begin{bmatrix} |\\mathbf{v}|^2  \\\\ 0  \\end{bmatrix}^i \n",
    "        +\\dfrac{\\varphi^{\\prime}}{\\varphi} \\, \n",
    "                        L \\,{g}_*^{i1} \\\\\n",
    "%    &= \\dfrac{{\\varphi^{\\prime}}}{\\varphi}\n",
    "%        \\left\\{\n",
    "%        -\\dfrac{{2|v|^2}}{\\varphi^2}  \\delta_{i1} \n",
    "%        +L \\,{g}_*^{i1} \\right\\} \\\\\n",
    "    &= \n",
    "        \\dfrac{{\\varphi^{\\prime}}}{\\varphi} \\left(\n",
    "        -2 |\\mathbf{v}|^2  \\delta_{i1} \n",
    "        +  L\\,{g}_*^{i1} \\right)\n",
    "\\end{align}\n",
    "\n",
    "or more explicitly\n",
    "\n",
    "\\begin{align}\n",
    "    G^1 &=  \\dfrac{{\\varphi^{\\prime}}}{\\varphi} \\left( \n",
    "            L\\,{g}_*^{11} - 2|\\mathbf{v}|^2 \n",
    "            \\right) \\\\\n",
    "    G^2 &=   \\dfrac{{\\varphi^{\\prime}}}{\\varphi} L \\,{g}_*^{21} \n",
    "\\end{align}\n",
    "\n",
    "Notice that the requisite order-2 Euler homogeneity in $\\mathbf{v}$ of $G$ is obviously true here, because $g_*$ is order-0 homogeneous in $\\mathbf{v}$, $L$ is order-2 homogeneous, and $\\varphi$ is not a function of $\\mathbf{v}$.\n",
    "\n",
    "What remains to be seen is whether we can approximate these coefficients and effectively disregard the terms in $L$. If we can, the $G^i$ would be simply quadratic expressions in $\\mathbf{v}$ modulated by functions of horizontal position $r^x$ (in fact, $G^2$ would trivially become zero), and we would be dealing with a Berwald space, which allows for several helpful simplifications down the line.\n",
    "\n",
    "Since geodesics are by definition \"on-shell\" (and if we're not deriving any further properties) we can assume $L=\\tfrac{1}{2}$, so:\n",
    "\n",
    "\n",
    "\\begin{align}\n",
    "    G^1 &=  \\dfrac{{\\varphi^{\\prime}}}{2\\varphi} \\left( \n",
    "                {{g}_*^{11}} - 4|\\mathbf{v}|^2\n",
    "               \\right) \\\\\n",
    "    G^2 &=   \\dfrac{{\\varphi^{\\prime}}}{2\\varphi} \\,{g}_*^{21} \n",
    "\\end{align}\n"
   ]
  },
  {
   "cell_type": "code",
   "execution_count": null,
   "metadata": {},
   "outputs": [],
   "source": [
    "gstar_1m_dgrm_jk = simplify(gstar_pxpz[0,0]*dgdrx_eqn.rhs + gstar_pxpz[0,1]*dgdrz_eqn.rhs) \\\n",
    "                                    .subs({diff(varphi_rx,rx):d_varphi, varphi_rx:varphi})\n",
    "gstar_2m_dgrm_jk = simplify(gstar_pxpz[1,0]*dgdrx_eqn.rhs + gstar_pxpz[1,1]*dgdrz_eqn.rhs) \\\n",
    "                                    .subs({diff(varphi_rx,rx):d_varphi, varphi_rx:varphi})\n",
    "gstar_1m_dgrm_jk, gstar_2m_dgrm_jk"
   ]
  },
  {
   "cell_type": "code",
   "execution_count": null,
   "metadata": {},
   "outputs": [],
   "source": [
    "gstar_im_dgdrk_jm_vjvk = simplify( Rational(1,2)*((v_vec.T*gstar_im_dgdrx_jm_eqn.rhs*v_vec[0])\n",
    "                                                 +(v_vec.T*gstar_im_dgdrx_jm_eqn.rhs*v_vec[1])) ).T \\\n",
    "                                    .subs({diff(varphi_rx,rx):d_varphi, varphi_rx:varphi})\n",
    "gstar_im_dgdrk_jm_vjvk"
   ]
  },
  {
   "cell_type": "code",
   "execution_count": null,
   "metadata": {},
   "outputs": [],
   "source": [
    "gstar_im_dgdrm_jk_vjvk = Matrix([ simplify( Rational(1,4)*((v_vec.T*(gstar_1m_dgrm_jk*v_vec))[0]) ),\n",
    "                                  simplify( Rational(1,4)*((v_vec.T*(gstar_2m_dgrm_jk*v_vec))[0]) ) ])\n",
    "gstar_im_dgdrm_jk_vjvk"
   ]
  },
  {
   "cell_type": "code",
   "execution_count": null,
   "metadata": {},
   "outputs": [],
   "source": [
    "G_i_pxpz = (factor(gstar_im_dgdrk_jm_vjvk - gstar_im_dgdrm_jk_vjvk))\n",
    "G_i_pxpz"
   ]
  },
  {
   "cell_type": "code",
   "execution_count": null,
   "metadata": {},
   "outputs": [],
   "source": [
    "G_i_vxvz = ( ( G_i_pxpz.subs(e2d(px_vx_vz_eqn)).subs(e2d(pz_vx_vz_eqn)) ).subs({rdotx:vx,rdotz:vz}) )"
   ]
  },
  {
   "cell_type": "code",
   "execution_count": null,
   "metadata": {},
   "outputs": [],
   "source": [
    "Gi = MatrixSymbol(r'G^i',2,1)\n",
    "G1 = symbols(r'G^1', real=True)\n",
    "G2 = symbols(r'G^2', real=True)"
   ]
  },
  {
   "cell_type": "code",
   "execution_count": null,
   "metadata": {},
   "outputs": [],
   "source": [
    "a = symbols(r'a',  real=True)\n",
    "b = symbols(r'b',  real=True)\n",
    "if gmeq.eta<1:\n",
    "    a_subs_eqn = Eq(a,sqrt(vx**2-8*vz**2))\n",
    "else:\n",
    "    a_subs_eqn = Eq(a,sqrt(vx**2-24*vz**2))\n",
    "# b_subs_eqn = Eq(b,vx**2-x*sqrt(vx**2-8*vz**2)+4*z**2)\n",
    "# b_subs_eqn = Eq(b,-a*x+x**2+4*z**2)\n",
    "# e2d(a_subs_eqn,do_flip=True) #, e2d(b_subs_eqn,do_flip=True)"
   ]
  },
  {
   "cell_type": "code",
   "execution_count": null,
   "metadata": {
    "scrolled": true
   },
   "outputs": [],
   "source": [
    "if gmeq.eta<1:\n",
    "    G_i_vxvz_a = [\n",
    "        ( factor((G_i_vxvz[0])).subs(e2d(a_subs_eqn,do_flip=True)) ),\n",
    "        ( factor((G_i_vxvz[1])).subs(e2d(a_subs_eqn,do_flip=True)) )\n",
    "    ]\n",
    "else:\n",
    "    G_i_vxvz_a = [\n",
    "        ( simplify((G_i_vxvz[0])).subs(e2d(a_subs_eqn,do_flip=True)) ),\n",
    "        ( simplify((G_i_vxvz[1])).subs(e2d(a_subs_eqn,do_flip=True)) )\n",
    "    ]\n",
    "G_i_vxvz_eqn = Eq(Gi, Matrix([G_i_.subs(e2d(a_subs_eqn,do_flip=False)) for G_i_ in G_i_vxvz_a]))\n",
    "G_i_vxvz_a"
   ]
  },
  {
   "cell_type": "code",
   "execution_count": null,
   "metadata": {},
   "outputs": [],
   "source": [
    "G1, G_i_vxvz_eqn.rhs[0]"
   ]
  },
  {
   "cell_type": "code",
   "execution_count": null,
   "metadata": {},
   "outputs": [],
   "source": [
    "G2, G_i_vxvz_eqn.rhs[1]"
   ]
  },
  {
   "cell_type": "markdown",
   "metadata": {},
   "source": [
    "Check that we are dealing with a full geodesic spray, not a semi-spray, i.e., check that:\n",
    "\n",
    "\\begin{equation}\n",
    "    G^i(\\mathbf{r},\\lambda\\mathbf{v}) = \\lambda^2 G^i(\\mathbf{r},\\mathbf{v}) \\,\\,,\\qquad \\lambda>0\n",
    "\\end{equation}"
   ]
  },
  {
   "cell_type": "code",
   "execution_count": null,
   "metadata": {},
   "outputs": [],
   "source": [
    "lmda = symbols(r'\\lambda',  real=True, positive=True)\n",
    "( factor( (G_i_vxvz_eqn.rhs[0]).subs({vx:lmda*vx, vz:lmda*vz}) )/(G_i_vxvz_eqn.rhs[0]),\n",
    "  factor( (G_i_vxvz_eqn.rhs[1]).subs({vx:lmda*vx, vz:lmda*vz}) )/(G_i_vxvz_eqn.rhs[1]) )"
   ]
  },
  {
   "cell_type": "markdown",
   "metadata": {},
   "source": [
    "which is the case."
   ]
  },
  {
   "cell_type": "markdown",
   "metadata": {
    "heading_collapsed": true
   },
   "source": [
    "# Tests"
   ]
  },
  {
   "cell_type": "markdown",
   "metadata": {
    "hidden": true
   },
   "source": [
    "## Rederivation of metric tensor $g$ from $L$"
   ]
  },
  {
   "cell_type": "code",
   "execution_count": null,
   "metadata": {
    "hidden": true
   },
   "outputs": [],
   "source": [
    "sub_ = {rdotx:vx_, rdotz:vz_, px:px_,pz:pz_, varphi:varphi_}\n",
    "sub_"
   ]
  },
  {
   "cell_type": "code",
   "execution_count": null,
   "metadata": {
    "hidden": true
   },
   "outputs": [],
   "source": [
    "L_ = L_compact_eqn.rhs\n",
    "L_.subs({rdotx:vx, rdotz:vz})"
   ]
  },
  {
   "cell_type": "markdown",
   "metadata": {
    "hidden": true
   },
   "source": [
    "Differentiate $L = \\tfrac{1}{2}F^2$ with respect to velocity $v$, remembering that $\\varphi(x)$ is a function of horizontal position $x$ only, and is not dependent on $v$."
   ]
  },
  {
   "cell_type": "code",
   "execution_count": null,
   "metadata": {
    "hidden": true
   },
   "outputs": [],
   "source": [
    "dLdv = Matrix([ diff(L_,rdotx), diff(L_,rdotz) ]) \n",
    "d2Ldvxdvx = diff(dLdv[0],rdotx)\n",
    "d2Ldvxdvz = diff(dLdv[0],rdotz)\n",
    "d2Ldvzdvx = diff(dLdv[1],rdotx)\n",
    "d2Ldvzdvz = diff(dLdv[1],rdotz)\n",
    "d2Ldv2 = (Matrix([[d2Ldvxdvx,d2Ldvxdvz],[d2Ldvzdvx,d2Ldvzdvz]]))\n",
    "g_from_L_eqn = simplify(Eq(g, d2Ldv2))"
   ]
  },
  {
   "cell_type": "code",
   "execution_count": null,
   "metadata": {
    "hidden": true
   },
   "outputs": [],
   "source": [
    "g_p_ = g_pxpz_eqn.subs(sub_)\n",
    "g_p_"
   ]
  },
  {
   "cell_type": "code",
   "execution_count": null,
   "metadata": {
    "hidden": true
   },
   "outputs": [],
   "source": [
    "g_v_ = Eq(g, N(g_from_L_eqn.rhs.subs(sub_)))\n",
    "g_v_"
   ]
  },
  {
   "cell_type": "code",
   "execution_count": null,
   "metadata": {
    "hidden": true
   },
   "outputs": [],
   "source": [
    "g_v_.rhs - g_p_.rhs"
   ]
  },
  {
   "cell_type": "code",
   "execution_count": null,
   "metadata": {
    "hidden": true
   },
   "outputs": [],
   "source": [
    "px_alt_, pz_alt_ = 0.7, -1\n",
    "vx_alt_ = vx_px_pz_eqn.rhs.subs({px:px_alt_,pz:pz_alt_,varphi:varphi_})\n",
    "vz_alt_ = vz_px_pz_eqn.rhs.subs({px:px_alt_,pz:pz_alt_,varphi:varphi_})\n",
    "vx_alt_,vz_alt_\n",
    "sub_alt_ = {rdotx:vx_alt_, rdotz:vz_alt_, px:px_alt_,pz:pz_alt_, varphi:varphi_}\n",
    "sub_alt_"
   ]
  },
  {
   "cell_type": "code",
   "execution_count": null,
   "metadata": {
    "hidden": true
   },
   "outputs": [],
   "source": [
    "g_p_ = g_pxpz_eqn.subs(sub_alt_)\n",
    "g_p_"
   ]
  },
  {
   "cell_type": "code",
   "execution_count": null,
   "metadata": {
    "hidden": true
   },
   "outputs": [],
   "source": [
    "g_v_ = Eq(g, N(g_from_L_eqn.rhs.subs(sub_alt_)))\n",
    "g_v_"
   ]
  },
  {
   "cell_type": "code",
   "execution_count": null,
   "metadata": {
    "hidden": true
   },
   "outputs": [],
   "source": [
    "g_v_.rhs - g_p_.rhs"
   ]
  },
  {
   "cell_type": "markdown",
   "metadata": {
    "hidden": true
   },
   "source": [
    "## Local tests"
   ]
  },
  {
   "cell_type": "code",
   "execution_count": null,
   "metadata": {
    "hidden": true
   },
   "outputs": [],
   "source": [
    "round(N(px_vx_vz_eqn.rhs.subs({rdotx:vx_,rdotz:vz_,varphi:varphi_})),3), \\\n",
    "round(N(pz_vx_vz_eqn.rhs.subs({rdotx:vx_,rdotz:vz_,varphi:varphi_})),3)"
   ]
  },
  {
   "cell_type": "code",
   "execution_count": null,
   "metadata": {
    "hidden": true
   },
   "outputs": [],
   "source": [
    "px_ = N(px_vx_vz_eqn.rhs.subs({rdotx:vx_,rdotz:vz_}).subs({varphi:varphi_}))\n",
    "pz_ = N(pz_vx_vz_eqn.rhs.subs({rdotx:vx_,rdotz:vz_}).subs({varphi:varphi_}))\n",
    "px_, pz_"
   ]
  },
  {
   "cell_type": "code",
   "execution_count": null,
   "metadata": {
    "hidden": true
   },
   "outputs": [],
   "source": [
    "px_ = px_vx_vz_lambda(varphi_,vx_,vz_)\n",
    "pz_ = pz_vx_vz_lambda(varphi_,vx_,vz_)\n",
    "px_, pz_"
   ]
  },
  {
   "cell_type": "code",
   "execution_count": null,
   "metadata": {
    "hidden": true
   },
   "outputs": [],
   "source": [
    "Matrix([px_,pz_]).dot(Matrix([vx_,vz_]))"
   ]
  },
  {
   "cell_type": "code",
   "execution_count": null,
   "metadata": {
    "hidden": true
   },
   "outputs": [],
   "source": [
    "sub_ = {rdotx:vx_,rdotz:vz_,varphi:varphi_, px:px_, pz:pz_}"
   ]
  },
  {
   "cell_type": "code",
   "execution_count": null,
   "metadata": {
    "hidden": true
   },
   "outputs": [],
   "source": [
    "Matrix([\n",
    "    N(L_raw_eqn.subs(sub_)), \n",
    "    Eq(L,L_raw_lambda(varphi_,px_,pz_,vx_,vz_)),\n",
    "    N(L_interim_eqn.subs(sub_)), \n",
    "    N(L_manipulated_eqn.subs(sub_)), \n",
    "    N(L_compact_eqn.subs(sub_)), \n",
    "    Eq(L,L_lambda(varphi_,vx_,vz_))\n",
    "])"
   ]
  },
  {
   "cell_type": "markdown",
   "metadata": {
    "hidden": true
   },
   "source": [
    "## Indicatrix/figuratrix tests"
   ]
  },
  {
   "cell_type": "code",
   "execution_count": null,
   "metadata": {
    "hidden": true
   },
   "outputs": [],
   "source": [
    "if gmeq.eta<1:\n",
    "    varphi_plot_ = 1\n",
    "else:\n",
    "    varphi_plot_ = 1"
   ]
  },
  {
   "cell_type": "code",
   "execution_count": null,
   "metadata": {
    "hidden": true
   },
   "outputs": [],
   "source": [
    "sub_plot_ = {varphi_r:varphi_plot_, eta:gmeq.eta}"
   ]
  },
  {
   "cell_type": "code",
   "execution_count": null,
   "metadata": {
    "hidden": true
   },
   "outputs": [],
   "source": [
    "H_lambdified = lambdify([varphi,px,pz],H_eqn.rhs)\n",
    "H_lambda = lambda f_,px_,pz_: float(N(H_lambdified(f_,px_,pz_)))"
   ]
  },
  {
   "cell_type": "code",
   "execution_count": null,
   "metadata": {
    "hidden": true
   },
   "outputs": [],
   "source": [
    "H_parametric_eqn = Eq((2*gmeq.H_eqn.rhs)**2,1).subs(sub_plot_)\n",
    "px_H_solns = [simplify(sqrt(soln)) for soln in solve( H_parametric_eqn ,px**2)]\n",
    "pz_H_solns = [simplify(sqrt(soln)).subs({Abs(px):px}) for soln in solve( H_parametric_eqn ,pz**2)]\n",
    "px_H_soln_ = [soln for soln in px_H_solns if Abs(sy.im(N(soln.subs({pz:1}))))<1e-10][0]\n",
    "px_H_lambda = lambdify( [pz], simplify(px_H_soln_) )\n",
    "numer(simplify(px_H_soln_))"
   ]
  },
  {
   "cell_type": "code",
   "execution_count": null,
   "metadata": {
    "hidden": true
   },
   "outputs": [],
   "source": [
    "pz_min_eqn = Eq(pz_min, 0)\n",
    "px_min_eqn = Eq(px_min, \n",
    "                sqrt(solve(Eq((\n",
    "                solve(Eq(4*gmeq.H_eqn.rhs**2,1).subs(sub_plot_),pz**2)[:])[0],0)\n",
    "                               ,px**2)[1]))\n",
    "tanbeta_max_eqn = Eq(tan(beta_max),sy.oo)\n",
    "tanbeta_max = None\n",
    "px_min_ = round(float(N(px_min_eqn.rhs.subs(sub_plot_))),4)\n",
    "pz_min_ = round(float(N(pz_min_eqn.rhs.subs(sub_plot_))),8)\n",
    "px_min_, -pz_min_, np.rad2deg(np.arctan(px_min_/pz_min_)) if pz_min_>0 else None"
   ]
  },
  {
   "cell_type": "code",
   "execution_count": null,
   "metadata": {
    "hidden": true
   },
   "outputs": [],
   "source": [
    "v_from_gstar_lambda_tmp = lambdify((px,pz),\n",
    "                N(gmeq.gstar_varphi_pxpz_eqn.subs(sub_plot_).rhs*Matrix([px,pz])))\n",
    "v_from_gstar_lambda = lambda px_,pz_: (v_from_gstar_lambda_tmp(px_,pz_)).flatten()\n",
    "v_lambda = lambda pa: np.array([(v_from_gstar_lambda(px_,pz_)) for px_,pz_ in pa])\n",
    "# gmeq.gstar_varphi_pxpz_eqn"
   ]
  },
  {
   "cell_type": "code",
   "execution_count": null,
   "metadata": {
    "hidden": true
   },
   "outputs": [],
   "source": [
    "if gmeq.eta==Rational(3,2):\n",
    "    pz_max_ = 100\n",
    "else:\n",
    "    pz_max_ = 50\n",
    "pz_array = -10**np.linspace(np.log10(pz_min_ if pz_min_>0 else 1e-1), np.log10(pz_max_), 50)\n",
    "px_array = px_H_lambda(pz_array)\n",
    "p_array = np.vstack([px_array,pz_array]).T\n",
    "p_array = p_array[np.isfinite(p_array[:,0]) & np.isfinite(p_array[:,1])]\n",
    "\n",
    "modp_array = norm(p_array,axis=0)\n",
    "tanbeta_crit = float(N(gmeq.tanbeta_crit_eqn.rhs.subs({eta:gmeq.eta})))\n",
    "\n",
    "p_infc_array = p_array[np.abs(p_array[:,0]/p_array[:,1])<tanbeta_crit]\n",
    "p_supc_array = p_array[np.abs(p_array[:,0]/p_array[:,1])>=tanbeta_crit]\n",
    "\n",
    "v_infc_array = v_lambda(p_infc_array)\n",
    "v_supc_array = v_lambda(p_supc_array)\n",
    "v_array = v_lambda(p_array)\n",
    "# v_array"
   ]
  },
  {
   "cell_type": "code",
   "execution_count": null,
   "metadata": {
    "hidden": true
   },
   "outputs": [],
   "source": [
    "p_from_v_array = np.array([p_vx_vz_lambda(varphi_plot_,v_) for v_ in v_array[::1]])\n",
    "len(p_from_v_array), len(p_array)"
   ]
  },
  {
   "cell_type": "code",
   "execution_count": null,
   "metadata": {
    "hidden": true
   },
   "outputs": [],
   "source": [
    "p_from_v_trunc_raw_array = p_from_v_array[np.isfinite((p_from_v_array[:,0])) \n",
    "                                          & np.isfinite((p_from_v_array[:,1]))]\n",
    "v_from_v_trunc_raw_array = v_array[np.isfinite((p_from_v_array[:,0])) \n",
    "                                   & np.isfinite((p_from_v_array[:,1]))]\n",
    "len(p_from_v_trunc_raw_array), len(v_from_v_trunc_raw_array)"
   ]
  },
  {
   "cell_type": "code",
   "execution_count": null,
   "metadata": {
    "hidden": true
   },
   "outputs": [],
   "source": [
    "p_trunc1_array = p_from_v_trunc_raw_array[1:]\n",
    "p_trunc0_array = p_from_v_trunc_raw_array[:-1]\n",
    "p_trunc1_array-p_trunc0_array\n",
    "p_from_v_trunc_array = p_trunc0_array[(p_trunc1_array[:,1]-p_trunc0_array[:,1])<0]\n",
    "v_trunc0_array = v_from_v_trunc_raw_array[:-1]\n",
    "v_from_v_trunc_array = v_trunc0_array[(p_trunc1_array[:,1]-p_trunc0_array[:,1])<0]"
   ]
  },
  {
   "cell_type": "code",
   "execution_count": null,
   "metadata": {
    "hidden": true
   },
   "outputs": [],
   "source": [
    "p_from_v_infc_array = p_from_v_trunc_array[np.abs(p_from_v_trunc_array[:,0]\n",
    "                                            /p_from_v_trunc_array[:,1])<tanbeta_crit]\n",
    "p_from_v_supc_array = p_from_v_trunc_array[np.abs(p_from_v_trunc_array[:,0]\n",
    "                                            /p_from_v_trunc_array[:,1])>=tanbeta_crit]"
   ]
  },
  {
   "cell_type": "code",
   "execution_count": null,
   "metadata": {
    "hidden": true
   },
   "outputs": [],
   "source": [
    "[np.round(np.dot(p_,v_),3) for p_,v_ in (zip(p_from_v_infc_array,v_infc_array))]"
   ]
  },
  {
   "cell_type": "code",
   "execution_count": null,
   "metadata": {
    "hidden": true
   },
   "outputs": [],
   "source": [
    "[np.round(np.dot(p_,v_),3) for p_,v_ in (zip(p_infc_array,v_infc_array))]"
   ]
  },
  {
   "cell_type": "code",
   "execution_count": null,
   "metadata": {
    "hidden": true
   },
   "outputs": [],
   "source": [
    "[round(p_[0]*v_[0]+p_[1]*v_[1],3) for p_,v_ in (zip(p_infc_array,v_infc_array))]"
   ]
  },
  {
   "cell_type": "code",
   "execution_count": null,
   "metadata": {
    "hidden": true
   },
   "outputs": [],
   "source": [
    "[np.round(H_lambda(varphi_plot_, px_,pz_),4) for px_,pz_ in p_from_v_infc_array]"
   ]
  },
  {
   "cell_type": "code",
   "execution_count": null,
   "metadata": {
    "hidden": true
   },
   "outputs": [],
   "source": [
    "[np.round(H_lambda(varphi_plot_, px_,pz_),4) for px_,pz_ in p_infc_array]"
   ]
  },
  {
   "cell_type": "code",
   "execution_count": null,
   "metadata": {
    "hidden": true
   },
   "outputs": [],
   "source": [
    "H_eqn, L_raw_eqn"
   ]
  },
  {
   "cell_type": "code",
   "execution_count": null,
   "metadata": {
    "hidden": true
   },
   "outputs": [],
   "source": [
    "[round(H_eqn.rhs.subs({varphi:varphi_plot_,px:px_,pz:pz_}),2) \n",
    "         for [px_,pz_],[vx_,vz] in zip(p_infc_array,v_infc_array)]"
   ]
  },
  {
   "cell_type": "code",
   "execution_count": null,
   "metadata": {
    "hidden": true
   },
   "outputs": [],
   "source": [
    "[round((px*rdotx+pz*rdotz).subs({px:p_[0],pz:p_[1],rdotx:v_[0],rdotz:v_[1]}),3) \n",
    "         for (p_,v_) in zip(p_infc_array,v_infc_array)]"
   ]
  },
  {
   "cell_type": "code",
   "execution_count": null,
   "metadata": {
    "hidden": true
   },
   "outputs": [],
   "source": [
    "[np.round(L_raw_lambda(varphi_plot_, *p_,*v_),4) \n",
    "         for (p_,v_) in zip(p_infc_array,v_infc_array)]"
   ]
  },
  {
   "cell_type": "code",
   "execution_count": null,
   "metadata": {
    "hidden": true
   },
   "outputs": [],
   "source": [
    "# [np.round(L_lambda(varphi_, *v_),4) for v_ in v_infc_array]"
   ]
  },
  {
   "cell_type": "markdown",
   "metadata": {},
   "source": [
    "# Plot"
   ]
  },
  {
   "cell_type": "code",
   "execution_count": null,
   "metadata": {},
   "outputs": [],
   "source": [
    "fig = gr.create_figure(job_name+'_Fstar_F_rectlinear', fig_size=(7,7))\n",
    "plt.plot(p_supc_array[:,0],p_supc_array[:,1], 'Blue', lw=2, ls='-', \n",
    "         label=r'$F^*\\!\\!=1$,  $\\beta\\geq\\beta_\\mathrm{c}$')\n",
    "plt.plot(p_infc_array[:,0],p_infc_array[:,1], 'DarkBlue', lw=2, ls='-', \n",
    "         label=r'$F^*\\!\\!=1$,  $\\beta<\\beta_\\mathrm{c}$')\n",
    "\n",
    "plt.plot(p_from_v_supc_array[:,0],p_from_v_supc_array[:,1], 'Blue', lw=4, ls='-', \n",
    "         label=r'$F^*\\!\\!=1$,  $\\beta\\geq\\beta_\\mathrm{c}$')\n",
    "plt.plot(p_from_v_infc_array[:,0],p_from_v_infc_array[:,1], 'DarkBlue', lw=4, ls=':', \n",
    "         label=r'$F^*\\!\\!=1$,  $\\beta<\\beta_\\mathrm{c}$')\n",
    "\n",
    "plt.plot(v_supc_array[:,0],v_supc_array[:,1], 'Red', lw=2, ls='-', \n",
    "         label=r'$F=1$,  $\\beta\\geq\\beta_\\mathrm{c}$')\n",
    "# plt.plot([0,vx_abcrit_],[0,vz_abcrit_], \n",
    "#          '-.', color='DarkRed', lw=1, label=r'$\\alpha_{\\mathrm{c}}$')\n",
    "plt.plot(v_infc_array[:,0],v_infc_array[:,1], 'DarkRed', lw=2, \n",
    "         ls='-', \n",
    "         label=r'$F=1$,  $\\beta<\\beta_\\mathrm{c}$')\n",
    "plt.xlabel(r'$p_x$ (for $F^*$)  or  $v^x$ (for $F$)', fontsize=14)\n",
    "plt.ylabel(r'$p_z$ (for $F^*$)  or  $v^z$ (for $F$)', fontsize=14)\n",
    "plt.xlim(0,2)\n",
    "plt.ylim(-3,0.5);\n",
    "plt.plot(px_,pz_,'o')\n",
    "px_,pz_"
   ]
  },
  {
   "cell_type": "code",
   "execution_count": null,
   "metadata": {},
   "outputs": [],
   "source": [
    "gmeq.eta"
   ]
  }
 ],
 "metadata": {
  "hide_input": false,
  "kernelspec": {
   "display_name": "Python 3",
   "language": "python",
   "name": "python3"
  },
  "language_info": {
   "codemirror_mode": {
    "name": "ipython",
    "version": 3
   },
   "file_extension": ".py",
   "mimetype": "text/x-python",
   "name": "python",
   "nbconvert_exporter": "python",
   "pygments_lexer": "ipython3",
   "version": "3.8.12"
  }
 },
 "nbformat": 4,
 "nbformat_minor": 4
}
