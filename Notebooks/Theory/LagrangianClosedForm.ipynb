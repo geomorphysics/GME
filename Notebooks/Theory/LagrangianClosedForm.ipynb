{
 "cells": [
  {
   "cell_type": "markdown",
   "metadata": {
    "heading_collapsed": true
   },
   "source": [
    "# Summary\n",
    "\n",
    "Derivation of Lagrangian correctly parameterized in terms of $v^x$ and $v^z$.\n",
    "\n",
    "The derivation starts with the co-Finsler metric tensor $g_*^{ij}(\\mathbf{r},\\mathbf{\\widetilde{p}})$, and its inverse, which gives the Finsler metric tensor $g_{ij}(\\mathbf{r},\\mathbf{\\widetilde{p}})$, i.e., parameterized by position $\\mathbf{r}$ and covector slowness $\\mathbf{\\widetilde{p}}$. "
   ]
  },
  {
   "cell_type": "markdown",
   "metadata": {
    "heading_collapsed": true,
    "hidden": true
   },
   "source": [
    "### Preliminaries"
   ]
  },
  {
   "cell_type": "code",
   "execution_count": 1,
   "metadata": {
    "hidden": true
   },
   "outputs": [],
   "source": [
    "import sympy as sy, numpy as np, os\n",
    "sy.init_printing(pretty_print=True,wrap_line=True)\n",
    "from sympy import simplify, trigsimp, expand, factor, powsimp, \\\n",
    "    Eq, solve, solveset, sqrt, diff, Matrix, det, tan, cos, sin, sec, csc, \\\n",
    "    Abs, Rational, pi, re, im, atan, atan2, numer, denom, \\\n",
    "    lambdify, log, collect, cancel, integrate, Integral, \\\n",
    "    nroots, poly, N\n",
    "\n",
    "from gmplib.utils import e2d\n",
    "from gme.symbols import *\n",
    "from gme.equations import Equations\n",
    "\n",
    "from gmplib.plot_utils import GraphingBase\n",
    "\n",
    "\n",
    "from functools import reduce\n",
    "\n",
    "from scipy.optimize import root_scalar\n",
    "from scipy.linalg import norm\n",
    "\n",
    "# Won't work for eta<1\n",
    "# rdotz = symbols('v^z',  real=True, positive=True)"
   ]
  },
  {
   "cell_type": "code",
   "execution_count": 2,
   "metadata": {
    "hidden": true,
    "jupyter": {
     "source_hidden": true
    }
   },
   "outputs": [],
   "source": [
    "# from notebook.services.config import ConfigManager\n",
    "# cm = ConfigManager().update('notebook', {'limit_output': 20000})"
   ]
  },
  {
   "cell_type": "code",
   "execution_count": 3,
   "metadata": {
    "hidden": true
   },
   "outputs": [],
   "source": [
    "import matplotlib as mpl, matplotlib.pyplot as plt\n",
    "mpl.rc('font', size=14, family='Arial')\n",
    "from matplotlib.colors import BoundaryNorm\n",
    "from mpl_toolkits.axes_grid1 import make_axes_locatable\n",
    "# from matplotlib.ticker import MaxNLocator\n",
    "\n",
    "gr = GraphingBase()\n",
    "job_name = 'demo'"
   ]
  },
  {
   "cell_type": "markdown",
   "metadata": {},
   "source": [
    "# Derivations"
   ]
  },
  {
   "cell_type": "markdown",
   "metadata": {
    "heading_collapsed": true
   },
   "source": [
    "## Basics"
   ]
  },
  {
   "cell_type": "code",
   "execution_count": 4,
   "metadata": {
    "hidden": true
   },
   "outputs": [],
   "source": [
    "eta_ = Rational(1,2)\n",
    "gmeq = Equations( eta=eta_,  mu=eta_/2, beta_type='sin', do_raw=True )"
   ]
  },
  {
   "cell_type": "code",
   "execution_count": 5,
   "metadata": {
    "hidden": true
   },
   "outputs": [],
   "source": [
    "vx = symbols(r'x',  real=True)\n",
    "vz = symbols(r'z',  real=True)"
   ]
  },
  {
   "cell_type": "code",
   "execution_count": 6,
   "metadata": {
    "hidden": true
   },
   "outputs": [],
   "source": [
    "varphi_ = 1"
   ]
  },
  {
   "cell_type": "markdown",
   "metadata": {
    "hidden": true
   },
   "source": [
    "The velocity vector has a column form, while the slowness covector takes a row form:"
   ]
  },
  {
   "cell_type": "code",
   "execution_count": 7,
   "metadata": {
    "hidden": true
   },
   "outputs": [
    {
     "data": {
      "image/png": "[encoded data removed]",
      "text/latex": [
       "$\\displaystyle \\left( \\left[\\begin{matrix}v^{x}\\\\v^{z}\\end{matrix}\\right], \\  \\left[\\begin{matrix}p_{x} & p_{z}\\end{matrix}\\right]\\right)$"
      ],
      "text/plain": [
       "⎛⎡v__x⎤           ⎞\n",
       "⎜⎢    ⎥, [pₓ  p_z]⎟\n",
       "⎝⎣v__z⎦           ⎠"
      ]
     },
     "execution_count": 7,
     "metadata": {},
     "output_type": "execute_result"
    }
   ],
   "source": [
    "v_vec = Matrix([rdotx,rdotz])\n",
    "p_covec = Matrix([px,pz]).T\n",
    "v_vec,p_covec"
   ]
  },
  {
   "cell_type": "markdown",
   "metadata": {
    "heading_collapsed": true
   },
   "source": [
    "## Leverage the metric tensor $g_*$"
   ]
  },
  {
   "cell_type": "markdown",
   "metadata": {
    "hidden": true
   },
   "source": [
    "The co-Finsler metric $g_*^{ij}(\\mathbf{r},\\mathbf{\\widetilde{p}})$ for the chosen $\\eta=\\tfrac{1}{2}$ or $\\eta=\\tfrac{3}{2}$, parameterized by position $\\mathbf{r}$ and covector slowness $\\mathbf{\\widetilde{p}}$, aka defined on $\\mathsf{T}^*\\mathsf{M}$, is:"
   ]
  },
  {
   "cell_type": "code",
   "execution_count": 8,
   "metadata": {
    "hidden": true
   },
   "outputs": [
    {
     "data": {
      "image/png": "[encoded data removed]",
      "text/latex": [
       "$\\displaystyle g_{*} = \\left[\\begin{matrix}\\frac{\\varphi^{2} p_{x} \\left(2 p_{x}^{2} + 3 p_{z}^{2}\\right)}{2 \\left(p_{x}^{2} + p_{z}^{2}\\right)^{\\frac{3}{2}}} & \\frac{\\varphi^{2} p_{z}^{3}}{2 \\left(p_{x}^{2} + p_{z}^{2}\\right)^{\\frac{3}{2}}}\\\\\\frac{\\varphi^{2} p_{z}^{3}}{2 \\left(p_{x}^{2} + p_{z}^{2}\\right)^{\\frac{3}{2}}} & \\frac{\\varphi^{2} p_{x}^{3}}{2 \\left(p_{x}^{2} + p_{z}^{2}\\right)^{\\frac{3}{2}}}\\end{matrix}\\right]$"
      ],
      "text/plain": [
       "      ⎡       2    ⎛    2        2⎞           2    3  ⎤\n",
       "      ⎢\\varphi ⋅pₓ⋅⎝2⋅pₓ  + 3⋅p_z ⎠    \\varphi ⋅p_z   ⎥\n",
       "      ⎢────────────────────────────  ─────────────────⎥\n",
       "      ⎢                   3/2                      3/2⎥\n",
       "      ⎢       ⎛  2      2⎞             ⎛  2      2⎞   ⎥\n",
       "      ⎢     2⋅⎝pₓ  + p_z ⎠           2⋅⎝pₓ  + p_z ⎠   ⎥\n",
       "g_* = ⎢                                               ⎥\n",
       "      ⎢              2    3                    2   3  ⎥\n",
       "      ⎢       \\varphi ⋅p_z              \\varphi ⋅pₓ   ⎥\n",
       "      ⎢     ─────────────────        ─────────────────⎥\n",
       "      ⎢                   3/2                      3/2⎥\n",
       "      ⎢       ⎛  2      2⎞             ⎛  2      2⎞   ⎥\n",
       "      ⎣     2⋅⎝pₓ  + p_z ⎠           2⋅⎝pₓ  + p_z ⎠   ⎦"
      ]
     },
     "execution_count": 8,
     "metadata": {},
     "output_type": "execute_result"
    }
   ],
   "source": [
    "gstar_pxpz_eqn = simplify(gmeq.gstar_varphi_pxpz_eqn.subs({varphi_r:varphi}))\n",
    "gstar_pxpz_eqn"
   ]
  },
  {
   "cell_type": "markdown",
   "metadata": {
    "hidden": true
   },
   "source": [
    "Its inverse gives the dual metric $g_{ij}(\\mathbf{r},\\mathbf{\\widetilde{p}})$, but still parameterized by position $\\mathbf{r}$ and covector slowness $\\mathbf{\\widetilde{p}}$,\n",
    "\n",
    "$\n",
    "    g_*^{ij} = \\left(g_{ij}\\right)^{-1}\n",
    "$"
   ]
  },
  {
   "cell_type": "code",
   "execution_count": 9,
   "metadata": {
    "hidden": true
   },
   "outputs": [
    {
     "data": {
      "image/png": "[encoded data removed]",
      "text/latex": [
       "$\\displaystyle g = \\left[\\begin{matrix}\\frac{2 p_{x}^{3} \\sqrt{p_{x}^{2} + p_{z}^{2}}}{\\varphi^{2} \\left(2 p_{x}^{4} + p_{x}^{2} p_{z}^{2} - p_{z}^{4}\\right)} & - \\frac{2 p_{z}^{3} \\sqrt{p_{x}^{2} + p_{z}^{2}}}{\\varphi^{2} \\left(2 p_{x}^{4} + p_{x}^{2} p_{z}^{2} - p_{z}^{4}\\right)}\\\\- \\frac{2 p_{z}^{3} \\sqrt{p_{x}^{2} + p_{z}^{2}}}{\\varphi^{2} \\left(2 p_{x}^{4} + p_{x}^{2} p_{z}^{2} - p_{z}^{4}\\right)} & \\frac{2 p_{x} \\left(2 p_{x}^{2} + 3 p_{z}^{2}\\right)}{\\varphi^{2} \\sqrt{p_{x}^{2} + p_{z}^{2}} \\left(2 p_{x}^{2} - p_{z}^{2}\\right)}\\end{matrix}\\right]$"
      ],
      "text/plain": [
       "    ⎡               ____________                           ____________       \n",
       "    ⎢          3   ╱   2      2                       3   ╱   2      2        \n",
       "    ⎢      2⋅pₓ ⋅╲╱  pₓ  + p_z                  -2⋅p_z ⋅╲╱  pₓ  + p_z         \n",
       "    ⎢──────────────────────────────────    ────────────────────────────────── \n",
       "    ⎢       2 ⎛    4     2    2      4⎞           2 ⎛    4     2    2      4⎞ \n",
       "    ⎢\\varphi ⋅⎝2⋅pₓ  + pₓ ⋅p_z  - p_z ⎠    \\varphi ⋅⎝2⋅pₓ  + pₓ ⋅p_z  - p_z ⎠ \n",
       "    ⎢                                                                         \n",
       "g = ⎢                ____________                                             \n",
       "    ⎢           3   ╱   2      2                       ⎛    2        2⎞       \n",
       "    ⎢     -2⋅p_z ⋅╲╱  pₓ  + p_z                   2⋅pₓ⋅⎝2⋅pₓ  + 3⋅p_z ⎠       \n",
       "    ⎢──────────────────────────────────  ─────────────────────────────────────\n",
       "    ⎢       2 ⎛    4     2    2      4⎞              ____________             \n",
       "    ⎢\\varphi ⋅⎝2⋅pₓ  + pₓ ⋅p_z  - p_z ⎠         2   ╱   2      2  ⎛    2      \n",
       "    ⎣                                    \\varphi ⋅╲╱  pₓ  + p_z  ⋅⎝2⋅pₓ  - p_z\n",
       "\n",
       "  ⎤\n",
       "  ⎥\n",
       "  ⎥\n",
       "  ⎥\n",
       "  ⎥\n",
       "  ⎥\n",
       "  ⎥\n",
       "  ⎥\n",
       "  ⎥\n",
       "  ⎥\n",
       "──⎥\n",
       "  ⎥\n",
       "2⎞⎥\n",
       " ⎠⎦"
      ]
     },
     "execution_count": 9,
     "metadata": {},
     "output_type": "execute_result"
    }
   ],
   "source": [
    "g_pxpz_eqn = simplify(Eq(g, gstar_pxpz_eqn.rhs.inv()))\n",
    "g_pxpz_eqn"
   ]
  },
  {
   "cell_type": "code",
   "execution_count": 10,
   "metadata": {
    "hidden": true
   },
   "outputs": [],
   "source": [
    "# simplify((g_pxpz_eqn.rhs)[1,0]*(gstar_pxpz_eqn.rhs)[1,0]+(g_pxpz_eqn.rhs)[1,1]*(gstar_pxpz_eqn.rhs)[1,1])"
   ]
  },
  {
   "cell_type": "markdown",
   "metadata": {
    "hidden": true
   },
   "source": [
    "We can use $g_{ij}$ to lower the index of the velocity $v^j$ and map it into the slowness covector $p_i$:\n",
    "\n",
    "$\n",
    "    p_i = g_{ij} v^j\n",
    "$"
   ]
  },
  {
   "cell_type": "markdown",
   "metadata": {
    "hidden": true
   },
   "source": [
    "Contracting the metric tensor to the velocity gives the slowness:"
   ]
  },
  {
   "cell_type": "code",
   "execution_count": 11,
   "metadata": {
    "hidden": true
   },
   "outputs": [
    {
     "data": {
      "image/png": "[encoded data removed]",
      "text/latex": [
       "$\\displaystyle \\left[\\begin{matrix}p_{x} & p_{z}\\end{matrix}\\right] = \\left[\\begin{matrix}\\frac{2 \\sqrt{p_{x}^{2} + p_{z}^{2}} \\left(p_{x}^{3} v^{x} - p_{z}^{3} v^{z}\\right)}{\\varphi^{2} \\left(2 p_{x}^{4} + p_{x}^{2} p_{z}^{2} - p_{z}^{4}\\right)} & \\frac{2 \\left(2 p_{x}^{3} v^{z} + 3 p_{x} p_{z}^{2} v^{z} - p_{z}^{3} v^{x}\\right)}{\\varphi^{2} \\sqrt{p_{x}^{2} + p_{z}^{2}} \\left(2 p_{x}^{2} - p_{z}^{2}\\right)}\\end{matrix}\\right]$"
      ],
      "text/plain": [
       "            ⎡     ____________                                                \n",
       "            ⎢    ╱   2      2  ⎛  3           3     ⎞    ⎛    3               \n",
       "            ⎢2⋅╲╱  pₓ  + p_z  ⋅⎝pₓ ⋅v__x - p_z ⋅v__z⎠  2⋅⎝2⋅pₓ ⋅v__z + 3⋅pₓ⋅p_\n",
       "[pₓ  p_z] = ⎢────────────────────────────────────────  ───────────────────────\n",
       "            ⎢          2 ⎛    4     2    2      4⎞                   _________\n",
       "            ⎢   \\varphi ⋅⎝2⋅pₓ  + pₓ ⋅p_z  - p_z ⎠              2   ╱   2     \n",
       "            ⎣                                            \\varphi ⋅╲╱  pₓ  + p_\n",
       "\n",
       "                    ⎤\n",
       " 2           3     ⎞⎥\n",
       "z ⋅v__z - p_z ⋅v__x⎠⎥\n",
       "────────────────────⎥\n",
       "___                 ⎥\n",
       " 2  ⎛    2      2⎞  ⎥\n",
       "z  ⋅⎝2⋅pₓ  - p_z ⎠  ⎦"
      ]
     },
     "execution_count": 11,
     "metadata": {},
     "output_type": "execute_result"
    }
   ],
   "source": [
    "pcovec_eqn = Eq(p_covec, simplify(g_pxpz_eqn.rhs*v_vec).T)\n",
    "# Eq(pcovec_eqn.lhs[0],pcovec_eqn.rhs[0]), Eq(pcovec_eqn.lhs[1],pcovec_eqn.rhs[1])\n",
    "pcovec_eqn"
   ]
  },
  {
   "cell_type": "markdown",
   "metadata": {
    "hidden": true
   },
   "source": [
    "Similarly, we can use $g^{ij}$ to raise the index of the slowness covector $p_i$ and map it into the velocity $v^j$:\n",
    "\n",
    "$\n",
    "    v^i = g^{ij} p_j\n",
    "$"
   ]
  },
  {
   "cell_type": "code",
   "execution_count": 12,
   "metadata": {
    "hidden": true
   },
   "outputs": [
    {
     "data": {
      "image/png": "[encoded data removed]",
      "text/latex": [
       "$\\displaystyle \\left[\\begin{matrix}v^{x}\\\\v^{z}\\end{matrix}\\right] = \\left[\\begin{matrix}\\frac{\\varphi^{2} \\left(p_{x}^{2} + \\frac{p_{z}^{2}}{2}\\right)}{\\sqrt{p_{x}^{2} + p_{z}^{2}}}\\\\\\frac{\\varphi^{2} p_{x} p_{z}}{2 \\sqrt{p_{x}^{2} + p_{z}^{2}}}\\end{matrix}\\right]$"
      ],
      "text/plain": [
       "         ⎡         ⎛         2⎞⎤\n",
       "         ⎢       2 ⎜  2   p_z ⎟⎥\n",
       "         ⎢\\varphi ⋅⎜pₓ  + ────⎟⎥\n",
       "         ⎢         ⎝       2  ⎠⎥\n",
       "         ⎢─────────────────────⎥\n",
       "         ⎢      ____________   ⎥\n",
       "⎡v__x⎤   ⎢     ╱   2      2    ⎥\n",
       "⎢    ⎥ = ⎢   ╲╱  pₓ  + p_z     ⎥\n",
       "⎣v__z⎦   ⎢                     ⎥\n",
       "         ⎢          2          ⎥\n",
       "         ⎢   \\varphi ⋅pₓ⋅p_z   ⎥\n",
       "         ⎢  ─────────────────  ⎥\n",
       "         ⎢       ____________  ⎥\n",
       "         ⎢      ╱   2      2   ⎥\n",
       "         ⎣  2⋅╲╱  pₓ  + p_z    ⎦"
      ]
     },
     "execution_count": 12,
     "metadata": {},
     "output_type": "execute_result"
    }
   ],
   "source": [
    "# gmeq.rdot_vec_eqn.subs({eta:gmeq.eta, varphi_r:varphi})\n",
    "vvec_eqn = Eq(v_vec, simplify(p_covec*gstar_pxpz_eqn.rhs).T)\n",
    "vvec_eqn"
   ]
  },
  {
   "cell_type": "markdown",
   "metadata": {
    "hidden": true
   },
   "source": [
    "So we have the velocity vector $\\mathbf{v}$ in terms of $\\varphi(x)$ and the slowness covector $\\mathbf{\\widetilde{p}}$.  Writing each component out:"
   ]
  },
  {
   "cell_type": "code",
   "execution_count": 13,
   "metadata": {
    "hidden": true
   },
   "outputs": [
    {
     "data": {
      "image/png": "[encoded data removed]",
      "text/latex": [
       "$\\displaystyle \\left( v^{x} = \\frac{\\varphi^{2} \\left(p_{x}^{2} + \\frac{p_{z}^{2}}{2}\\right)}{\\sqrt{p_{x}^{2} + p_{z}^{2}}}, \\  v^{z} = \\frac{\\varphi^{2} p_{x} p_{z}}{2 \\sqrt{p_{x}^{2} + p_{z}^{2}}}\\right)$"
      ],
      "text/plain": [
       "⎛                ⎛         2⎞                          ⎞\n",
       "⎜              2 ⎜  2   p_z ⎟                          ⎟\n",
       "⎜       \\varphi ⋅⎜pₓ  + ────⎟                 2        ⎟\n",
       "⎜                ⎝       2  ⎠          \\varphi ⋅pₓ⋅p_z ⎟\n",
       "⎜v__x = ─────────────────────, v__z = ─────────────────⎟\n",
       "⎜             ____________                 ____________⎟\n",
       "⎜            ╱   2      2                 ╱   2      2 ⎟\n",
       "⎝          ╲╱  pₓ  + p_z              2⋅╲╱  pₓ  + p_z  ⎠"
      ]
     },
     "execution_count": 13,
     "metadata": {},
     "output_type": "execute_result"
    }
   ],
   "source": [
    "vx_px_pz_eqn = Eq(vvec_eqn.lhs[0],vvec_eqn.rhs[0])\n",
    "vz_px_pz_eqn = Eq(vvec_eqn.lhs[1],vvec_eqn.rhs[1])\n",
    "vx_px_pz_eqn, vz_px_pz_eqn"
   ]
  },
  {
   "cell_type": "markdown",
   "metadata": {
    "hidden": true
   },
   "source": [
    "To check this result, we can solve the expressions for $\\mathbf{\\widetilde{p}}$ in terms of $\\mathbf{v}$, which gives, e.g.,"
   ]
  },
  {
   "cell_type": "code",
   "execution_count": 14,
   "metadata": {
    "hidden": true
   },
   "outputs": [
    {
     "data": {
      "image/png": "[encoded data removed]",
      "text/latex": [
       "$\\displaystyle v^{z} = \\frac{\\varphi^{2} p_{x} p_{z}}{2 \\sqrt{p_{x}^{2} + p_{z}^{2}}}$"
      ],
      "text/plain": [
       "               2        \n",
       "        \\varphi ⋅pₓ⋅p_z \n",
       "v__z = ─────────────────\n",
       "            ____________\n",
       "           ╱   2      2 \n",
       "       2⋅╲╱  pₓ  + p_z  "
      ]
     },
     "execution_count": 14,
     "metadata": {},
     "output_type": "execute_result"
    }
   ],
   "source": [
    "Eq(rdotz, solve(Eq(solve(Eq(pcovec_eqn.lhs[0],pcovec_eqn.rhs[0]),rdotx)[0],\n",
    "          solve(Eq(pcovec_eqn.lhs[1],pcovec_eqn.rhs[1]),rdotx)[0]),rdotz)[0])"
   ]
  },
  {
   "cell_type": "markdown",
   "metadata": {
    "hidden": true
   },
   "source": [
    "The (tangent of) the ray angle is given (by definition) by the ratio of these two components, which has the simple expression:"
   ]
  },
  {
   "cell_type": "code",
   "execution_count": 15,
   "metadata": {
    "hidden": true
   },
   "outputs": [
    {
     "data": {
      "image/png": "[encoded data removed]",
      "text/latex": [
       "$\\displaystyle \\left( \\tan{\\left(\\alpha \\right)} = \\frac{v^{z}}{v^{x}}, \\  \\frac{v^{z}}{v^{x}} = \\frac{p_{x} p_{z}}{2 \\left(p_{x}^{2} + \\frac{p_{z}^{2}}{2}\\right)}\\right)$"
      ],
      "text/plain": [
       "⎛              v__z  v__z       pₓ⋅p_z    ⎞\n",
       "⎜tan(\\alpha) = ────, ──── = ──────────────⎟\n",
       "⎜              v__x  v__x     ⎛         2⎞⎟\n",
       "⎜                             ⎜  2   p_z ⎟⎟\n",
       "⎜                           2⋅⎜pₓ  + ────⎟⎟\n",
       "⎝                             ⎝       2  ⎠⎠"
      ]
     },
     "execution_count": 15,
     "metadata": {},
     "output_type": "execute_result"
    }
   ],
   "source": [
    "vzvx_ratio_eqn = Eq(vz_px_pz_eqn.lhs/vx_px_pz_eqn.lhs, vz_px_pz_eqn.rhs/vx_px_pz_eqn.rhs)\n",
    "Eq(tan(alpha),vzvx_ratio_eqn.lhs), vzvx_ratio_eqn"
   ]
  },
  {
   "cell_type": "markdown",
   "metadata": {},
   "source": [
    "## Expressions for $p_x(v^x,v^z)$ and $p_z(v^x,v^z)$ "
   ]
  },
  {
   "cell_type": "markdown",
   "metadata": {},
   "source": [
    "The velocity component ratio is a simple quadratic expression in the slowness components $p_x$ and $p_z$, which makes it easy to solve for one in terms of the other (along with the velocity components $v^x$ and $v^z$):"
   ]
  },
  {
   "cell_type": "code",
   "execution_count": 16,
   "metadata": {},
   "outputs": [
    {
     "data": {
      "image/png": "[encoded data removed]",
      "text/latex": [
       "$\\displaystyle \\left[ \\frac{p_{z} \\left(v^{x} - \\sqrt{\\left(v^{x}\\right)^{2} - 8 \\left(v^{z}\\right)^{2}}\\right)}{4 v^{z}}, \\  \\frac{p_{z} \\left(v^{x} + \\sqrt{\\left(v^{x}\\right)^{2} - 8 \\left(v^{z}\\right)^{2}}\\right)}{4 v^{z}}\\right]$"
      ],
      "text/plain": [
       "⎡    ⎛          _________________⎞      ⎛          _________________⎞⎤\n",
       "⎢    ⎜         ╱     2         2 ⎟      ⎜         ╱     2         2 ⎟⎥\n",
       "⎢p_z⋅⎝v__x - ╲╱  v__x  - 8⋅v__z  ⎠  p_z⋅⎝v__x + ╲╱  v__x  - 8⋅v__z  ⎠⎥\n",
       "⎢─────────────────────────────────, ─────────────────────────────────⎥\n",
       "⎣              4⋅v__z                             4⋅v__z             ⎦"
      ]
     },
     "execution_count": 16,
     "metadata": {},
     "output_type": "execute_result"
    }
   ],
   "source": [
    "px_interim_solns = solve(vzvx_ratio_eqn,px)\n",
    "px_interim_solns"
   ]
  },
  {
   "cell_type": "code",
   "execution_count": 17,
   "metadata": {},
   "outputs": [
    {
     "data": {
      "image/png": "[encoded data removed]",
      "text/latex": [
       "$\\displaystyle p_{x} = \\frac{p_{z} \\left(v^{x} - \\sqrt{\\left(v^{x}\\right)^{2} - 8 \\left(v^{z}\\right)^{2}}\\right)}{4 v^{z}}$"
      ],
      "text/plain": [
       "         ⎛          _________________⎞\n",
       "         ⎜         ╱     2         2 ⎟\n",
       "     p_z⋅⎝v__x - ╲╱  v__x  - 8⋅v__z  ⎠\n",
       "pₓ = ─────────────────────────────────\n",
       "                   4⋅v__z             "
      ]
     },
     "execution_count": 17,
     "metadata": {},
     "output_type": "execute_result"
    }
   ],
   "source": [
    "px_interim_soln = px_interim_solns[0]\n",
    "px_interim_eqn = Eq(px, px_interim_soln)\n",
    "px_interim_eqn"
   ]
  },
  {
   "cell_type": "markdown",
   "metadata": {},
   "source": [
    "It will be useful to know the location, in both phase spaces, of a test point that lies \"on-shell\", i.e., on a solution of the system, which we set here. We can use this point to check the veracity of the expression for $p_x$:"
   ]
  },
  {
   "cell_type": "code",
   "execution_count": 18,
   "metadata": {},
   "outputs": [
    {
     "data": {
      "image/png": "[encoded data removed]",
      "text/latex": [
       "$\\displaystyle p_{x} = 0.6631$"
      ],
      "text/plain": [
       "pₓ = 0.6631"
      ]
     },
     "execution_count": 18,
     "metadata": {},
     "output_type": "execute_result"
    }
   ],
   "source": [
    "if gmeq.eta<1:\n",
    "    vx_,vz_ = 0.9,-0.2978\n",
    "    px_,pz_ = 0.6630963505914919,-1.354973165538337\n",
    "else:\n",
    "    vx_,vz_ = Rational(105,100), Rational(21,100)\n",
    "    vx_,vz_ = 1.05462010732076, 0.214847320357639\n",
    "    px_,pz_ = 1.15,-1.\n",
    "Eq(px, round(N(((px_interim_soln).subs({rdotx:vx_,rdotz:vz_}).subs({pz:pz_}))),5))"
   ]
  },
  {
   "cell_type": "markdown",
   "metadata": {},
   "source": [
    "And also use it to check the expressions for $v^x$ and $v^z$:"
   ]
  },
  {
   "cell_type": "code",
   "execution_count": 19,
   "metadata": {},
   "outputs": [
    {
     "data": {
      "image/png": "[encoded data removed]",
      "text/latex": [
       "$\\displaystyle \\left( v^{x} = 0.9, \\  v^{z} = -0.2978\\right)$"
      ],
      "text/plain": [
       "(v__x = 0.9, v__z = -0.2978)"
      ]
     },
     "execution_count": 19,
     "metadata": {},
     "output_type": "execute_result"
    }
   ],
   "source": [
    "vx_px_pz_eqn.subs({px:px_,pz:pz_,varphi:1}), vz_px_pz_eqn.subs({px:px_,pz:pz_,varphi:1})"
   ]
  },
  {
   "cell_type": "markdown",
   "metadata": {},
   "source": [
    "The expression for $p_x$ in terms of $p_z$ and $(v^x,v^z)$ is linear in $p_z$; using it to eliminate $p_x$ in the expression for $v^x$ gives $v^x(v^z,p_z)$:"
   ]
  },
  {
   "cell_type": "code",
   "execution_count": 20,
   "metadata": {},
   "outputs": [
    {
     "data": {
      "image/png": "[encoded data removed]",
      "text/latex": [
       "$\\displaystyle v^{x} = - \\frac{\\varphi^{2} p_{z} \\left(8 \\left(v^{z}\\right)^{2} + \\left(v^{x} - \\sqrt{\\left(v^{x}\\right)^{2} - 8 \\left(v^{z}\\right)^{2}}\\right)^{2}\\right)}{4 \\left(v^{z}\\right)^{2} \\sqrt{\\frac{16 \\left(v^{z}\\right)^{2} + \\left(v^{x} - \\sqrt{\\left(v^{x}\\right)^{2} - 8 \\left(v^{z}\\right)^{2}}\\right)^{2}}{\\left(v^{z}\\right)^{2}}}}$"
      ],
      "text/plain": [
       "                      ⎛                                       2⎞  \n",
       "                      ⎜          ⎛          _________________⎞ ⎟  \n",
       "                2     ⎜      2   ⎜         ╱     2         2 ⎟ ⎟  \n",
       "        -\\varphi ⋅p_z⋅⎝8⋅v__z  + ⎝v__x - ╲╱  v__x  - 8⋅v__z  ⎠ ⎠  \n",
       "v__x = ───────────────────────────────────────────────────────────\n",
       "                       ___________________________________________\n",
       "                      ╱                                         2 \n",
       "                     ╱             ⎛          _________________⎞  \n",
       "                    ╱          2   ⎜         ╱     2         2 ⎟  \n",
       "             2     ╱    16⋅v__z  + ⎝v__x - ╲╱  v__x  - 8⋅v__z  ⎠  \n",
       "       4⋅v__z ⋅   ╱     ───────────────────────────────────────── \n",
       "                 ╱                            2                   \n",
       "               ╲╱                         v__z                    "
      ]
     },
     "execution_count": 20,
     "metadata": {},
     "output_type": "execute_result"
    }
   ],
   "source": [
    "vx_eqn = (simplify( vx_px_pz_eqn.subs(e2d(px_interim_eqn)) ))\n",
    "vx_eqn"
   ]
  },
  {
   "cell_type": "markdown",
   "metadata": {},
   "source": [
    "Solving for $p_z$, which is just a simple rearrangement, gives $p_z(v^x,v^z)$:"
   ]
  },
  {
   "cell_type": "code",
   "execution_count": 60,
   "metadata": {},
   "outputs": [],
   "source": [
    "pz_vx_vz_eqn = Eq(pz, simplify( solve(vx_eqn, pz)[0]))\n",
    "pz_vx_vz_eqn\n",
    "#.subs({rdotx:vx,rdotz:vz})\n",
    "# pz_vx_vz_eqn = Eq(pz,sqrt(pzsqrd_vx_vz_eqn.rhs)\n",
    "#                   *(1 if gmeq.eta<1 else -1)).subs({Abs(rdotz):rdotz}) \n",
    "# pz_vx_vz_eqn.subs({rdotx:vx,rdotz:vz})\n",
    "\n",
    "# vx = symbols(r'x',  real=True)\n",
    "if gmeq.eta<1:\n",
    "    vz_tmp = symbols(r'v^z',  real=True, negative=True)\n",
    "else:\n",
    "    vz_tmp = symbols(r'v^z',  real=True, positive=True)\n",
    "pz_vx_vz_simple_eqn = simplify(pz_vx_vz_eqn.subs({rdotz:vz_tmp}).subs({vz_tmp:rdotz}))"
   ]
  },
  {
   "cell_type": "code",
   "execution_count": 61,
   "metadata": {},
   "outputs": [],
   "source": [
    "px_vx_vz_eqn = (px_interim_eqn.subs(e2d(pz_vx_vz_eqn)))\n",
    "px_vx_vz_eqn #.subs({rdotx:vx,rdotz:vz})\n",
    "px_vx_vz_simple_eqn = simplify(px_interim_eqn.subs(e2d(pz_vx_vz_simple_eqn)))"
   ]
  },
  {
   "cell_type": "code",
   "execution_count": 59,
   "metadata": {},
   "outputs": [
    {
     "data": {
      "image/png": "[encoded data removed]",
      "text/latex": [
       "$\\displaystyle \\left( p_{z} = \\frac{2 z \\sqrt{2 x^{2} - 2 x \\sqrt{x^{2} - 8 z^{2}} + 8 z^{2}}}{\\varphi^{2} \\left(x - \\sqrt{x^{2} - 8 z^{2}}\\right)}, \\  p_{x} = \\frac{\\sqrt{2 x^{2} - 2 x \\sqrt{x^{2} - 8 z^{2}} + 8 z^{2}}}{2 \\varphi^{2}}\\right)$"
      ],
      "text/plain": [
       "⎛              __________________________________           __________________\n",
       "⎜             ╱               ___________                  ╱               ___\n",
       "⎜            ╱     2         ╱  2      2       2          ╱     2         ╱  2\n",
       "⎜      2⋅z⋅╲╱   2⋅x  - 2⋅x⋅╲╱  x  - 8⋅z   + 8⋅z         ╲╱   2⋅x  - 2⋅x⋅╲╱  x \n",
       "⎜p_z = ──────────────────────────────────────────, pₓ = ──────────────────────\n",
       "⎜                     ⎛       ___________⎞                                    \n",
       "⎜                   2 ⎜      ╱  2      2 ⎟                            2⋅\\varph\n",
       "⎝            \\varphi ⋅⎝x - ╲╱  x  - 8⋅z  ⎠                                    \n",
       "\n",
       "________________⎞\n",
       "________        ⎟\n",
       "      2       2 ⎟\n",
       " - 8⋅z   + 8⋅z  ⎟\n",
       "────────────────⎟\n",
       " 2              ⎟\n",
       "i               ⎟\n",
       "                ⎠"
      ]
     },
     "execution_count": 59,
     "metadata": {},
     "output_type": "execute_result"
    }
   ],
   "source": [
    "pz_vx_vz_simple_eqn.subs({rdotx:vx,rdotz:vz}), simplify(px_vx_vz_simple_eqn.subs({rdotx:vx,rdotz:vz}))"
   ]
  },
  {
   "cell_type": "code",
   "execution_count": 23,
   "metadata": {},
   "outputs": [],
   "source": [
    "if gmeq.eta>1:\n",
    "    px_vx_vz_eqn = px_vx_vz_simple_eqn\n",
    "    pz_vx_vz_eqn = pz_vx_vz_simple_eqn"
   ]
  },
  {
   "cell_type": "code",
   "execution_count": 24,
   "metadata": {},
   "outputs": [],
   "source": [
    "# pzsqrd_vx_vz_eqn = Eq(pz**2, simplify( solve(vx_px_pz_eqn.subs(e2d(px_interim_eqn)), pz**2)[0] ))\n",
    "# pz_vx_vz_eqn = Eq(pz,sqrt(pzsqrd_vx_vz_eqn.rhs)\n",
    "#                   *(1 if gmeq.eta<1 else -1)).subs({Abs(rdotz):rdotz}) \n",
    "# pz_vx_vz_eqn.subs({rdotx:vx,rdotz:vz})"
   ]
  },
  {
   "cell_type": "code",
   "execution_count": 25,
   "metadata": {},
   "outputs": [],
   "source": [
    "# px_vx_vz_eqn = (px_interim_eqn.subs(e2d(pz_vx_vz_eqn)))\n",
    "# px_vx_vz_eqn.subs({rdotx:vx,rdotz:vz})"
   ]
  },
  {
   "cell_type": "code",
   "execution_count": 26,
   "metadata": {},
   "outputs": [
    {
     "data": {
      "image/png": "[encoded data removed]",
      "text/latex": [
       "$\\displaystyle p_{z} = -1.35497316553834$"
      ],
      "text/plain": [
       "p_z = -1.35497316553834"
      ]
     },
     "execution_count": 26,
     "metadata": {},
     "output_type": "execute_result"
    }
   ],
   "source": [
    "Eq(pz, N(((pz_vx_vz_eqn.rhs)\n",
    "        .subs({rdotx:vx_,rdotz:vz_})\n",
    "        .subs({varphi:1,px:px_,pz:pz_}))))"
   ]
  },
  {
   "cell_type": "code",
   "execution_count": 27,
   "metadata": {},
   "outputs": [
    {
     "data": {
      "image/png": "[encoded data removed]",
      "text/latex": [
       "$\\displaystyle p_{x} = 0.663096350591492$"
      ],
      "text/plain": [
       "pₓ = 0.663096350591492"
      ]
     },
     "execution_count": 27,
     "metadata": {},
     "output_type": "execute_result"
    }
   ],
   "source": [
    "Eq(px, N(((px_vx_vz_eqn.rhs)\n",
    "        .subs({rdotx:vx_,rdotz:vz_})\n",
    "        .subs({varphi:1,px:px_,pz:pz_}))) )"
   ]
  },
  {
   "cell_type": "code",
   "execution_count": 75,
   "metadata": {},
   "outputs": [
    {
     "data": {
      "image/png": "[encoded data removed]",
      "text/latex": [
       "$\\displaystyle \\left( \\tan{\\left(\\beta \\right)} = - \\frac{v^{x} - \\sqrt{\\left(v^{x}\\right)^{2} - 8 \\left(v^{z}\\right)^{2}}}{4 v^{z}}, \\  0.489, \\  26.08, \\  35.26\\right)$"
      ],
      "text/plain": [
       "⎛              ⎛          _________________⎞                      ⎞\n",
       "⎜              ⎜         ╱     2         2 ⎟                      ⎟\n",
       "⎜             -⎝v__x - ╲╱  v__x  - 8⋅v__z  ⎠                      ⎟\n",
       "⎜tan(\\beta) = ───────────────────────────────, 0.489, 26.08, 35.26⎟\n",
       "⎝                          4⋅v__z                                 ⎠"
      ]
     },
     "execution_count": 75,
     "metadata": {},
     "output_type": "execute_result"
    }
   ],
   "source": [
    "tanbeta_eqn = Eq(tan(beta), -px_vx_vz_eqn.rhs/pz_vx_vz_eqn.rhs)\n",
    "( tanbeta_eqn, round(N(tanbeta_eqn.rhs.subs({rdotx:vx_,rdotz:vz_})),3), \n",
    "                 np.round(np.rad2deg(np.arctan(float(N(tanbeta_eqn.rhs.subs({rdotx:vx_,rdotz:vz_}))))),2),\n",
    "                 np.round(np.rad2deg(np.arctan(float(N(gmeq.tanbeta_crit)))),2) )"
   ]
  },
  {
   "cell_type": "code",
   "execution_count": 29,
   "metadata": {},
   "outputs": [],
   "source": [
    "if gmeq.eta<1:\n",
    "    px_vx_vz_lambda = lambda f,vx,vz:  \\\n",
    "        float((N(px_vx_vz_eqn.rhs.subs({varphi:f,rdotx:vx,rdotz:vz}))))\n",
    "    pz_vx_vz_lambda = lambda f,vx,vz:  \\\n",
    "        float((N(pz_vx_vz_eqn.rhs.subs({varphi:f,rdotx:vx,rdotz:vz}))))\n",
    "else:\n",
    "    px_vx_vz_lambda = lambda f,vx,vz:  \\\n",
    "        float(re(N(px_vx_vz_eqn.rhs.subs({varphi:f,rdotx:vx,rdotz:vz}))))\n",
    "    pz_vx_vz_lambda = lambda f,vx,vz:  \\\n",
    "        float(re(N(pz_vx_vz_eqn.rhs.subs({varphi:f,rdotx:vx,rdotz:vz}))))\n",
    "p_vx_vz_lambda = lambda f,v: [px_vx_vz_lambda(f,v[0],v[1]),pz_vx_vz_lambda(f,v[0],v[1])]"
   ]
  },
  {
   "cell_type": "markdown",
   "metadata": {},
   "source": [
    "## Lagrangian $L(v^x,v^z,\\varphi)$ using $p(v)$ mappings and Legendre transform"
   ]
  },
  {
   "cell_type": "code",
   "execution_count": 30,
   "metadata": {
    "hidden": true
   },
   "outputs": [
    {
     "data": {
      "image/png": "[encoded data removed]",
      "text/latex": [
       "$\\displaystyle H = \\frac{\\varphi^{2} p_{x} \\sqrt{p_{x}^{2} + p_{z}^{2}}}{2}$"
      ],
      "text/plain": [
       "                   ____________\n",
       "           2      ╱   2      2 \n",
       "    \\varphi ⋅pₓ⋅╲╱  pₓ  + p_z  \n",
       "H = ───────────────────────────\n",
       "                 2             "
      ]
     },
     "execution_count": 30,
     "metadata": {},
     "output_type": "execute_result"
    }
   ],
   "source": [
    "H_eqn = Eq(H, gmeq.H_eqn.rhs.subs({varphi_r:varphi, eta:gmeq.eta}))\n",
    "H_eqn"
   ]
  },
  {
   "cell_type": "code",
   "execution_count": 31,
   "metadata": {
    "hidden": true
   },
   "outputs": [
    {
     "data": {
      "image/png": "[encoded data removed]",
      "text/latex": [
       "$\\displaystyle L = - \\frac{\\varphi^{2} p_{x} \\sqrt{p_{x}^{2} + p_{z}^{2}}}{2} + p_{x} v^{x} + p_{z} v^{z}$"
      ],
      "text/plain": [
       "                     ____________                     \n",
       "             2      ╱   2      2                      \n",
       "      \\varphi ⋅pₓ⋅╲╱  pₓ  + p_z                       \n",
       "L = - ─────────────────────────── + pₓ⋅v__x + p_z⋅v__z\n",
       "                   2                                  "
      ]
     },
     "execution_count": 31,
     "metadata": {},
     "output_type": "execute_result"
    }
   ],
   "source": [
    "L_raw_eqn = simplify(Eq(L, px*rdotx + pz*rdotz - H_eqn.rhs))\n",
    "L_raw_eqn"
   ]
  },
  {
   "cell_type": "code",
   "execution_count": 32,
   "metadata": {
    "hidden": true
   },
   "outputs": [
    {
     "data": {
      "image/png": "[encoded data removed]",
      "text/latex": [
       "$\\displaystyle L = - \\frac{\\sqrt{2} z \\sqrt{\\frac{x^{2} - x \\sqrt{x^{2} - 8 z^{2}} + 4 z^{2}}{z^{2}}} \\left(x^{2} - x \\sqrt{x^{2} - 8 z^{2}} + 4 z^{2}\\right)}{4 \\varphi^{2} \\left(x - \\sqrt{x^{2} - 8 z^{2}}\\right)}$"
      ],
      "text/plain": [
       "                 ______________________________                               \n",
       "                ╱           ___________                                       \n",
       "               ╱   2       ╱  2      2       2  ⎛          ___________       ⎞\n",
       "              ╱   x  - x⋅╲╱  x  - 8⋅z   + 4⋅z   ⎜ 2       ╱  2      2       2⎟\n",
       "    -√2⋅z⋅   ╱    ──────────────────────────── ⋅⎝x  - x⋅╲╱  x  - 8⋅z   + 4⋅z ⎠\n",
       "            ╱                   2                                             \n",
       "          ╲╱                   z                                              \n",
       "L = ──────────────────────────────────────────────────────────────────────────\n",
       "                                     ⎛       ___________⎞                     \n",
       "                                   2 ⎜      ╱  2      2 ⎟                     \n",
       "                          4⋅\\varphi ⋅⎝x - ╲╱  x  - 8⋅z  ⎠                     \n",
       "\n",
       " \n",
       " \n",
       " \n",
       " \n",
       " \n",
       " \n",
       " \n",
       "─\n",
       " \n",
       " \n",
       " "
      ]
     },
     "execution_count": 32,
     "metadata": {},
     "output_type": "execute_result"
    }
   ],
   "source": [
    "if gmeq.eta<1:\n",
    "    L_interim_eqn = simplify( ((factor(L_raw_eqn.subs({px:-pz*tan(beta)}))).subs(e2d(tanbeta_eqn))\n",
    "        .subs(e2d(px_vx_vz_eqn))).subs(e2d(pz_vx_vz_eqn)) )#.subs({rdotz:-Abs(rdotz)})\n",
    "else:\n",
    "    L_interim_eqn = simplify( ((factor(L_raw_eqn.subs({px:-pz*tan(beta)}))).subs(e2d(tanbeta_eqn))\n",
    "        .subs(e2d(px_vx_vz_eqn))).subs(e2d(pz_vx_vz_eqn)) ).subs({rdotz:Abs(rdotz)})\n",
    "L_interim_eqn.subs({rdotx:vx, rdotz:vz})"
   ]
  },
  {
   "cell_type": "code",
   "execution_count": 33,
   "metadata": {
    "hidden": true
   },
   "outputs": [],
   "source": [
    "# L_interim_eqn = (L_prelim_eqn.subs(e2d(px_vx_vz_eqn)).subs(e2d(pz_vx_vz_eqn)))\n",
    "# L_interim_eqn"
   ]
  },
  {
   "cell_type": "code",
   "execution_count": 34,
   "metadata": {
    "hidden": true
   },
   "outputs": [
    {
     "data": {
      "image/png": "[encoded data removed]",
      "text/latex": [
       "$\\displaystyle \\left( a = \\left(v^{x}\\right)^{2} - v^{x} \\sqrt{\\left(v^{x}\\right)^{2} - 8 \\left(v^{z}\\right)^{2}} + 4 \\left(v^{z}\\right)^{2}, \\  b = \\left(v^{x}\\right)^{2} - v^{x} \\sqrt{\\left(v^{x}\\right)^{2} - 8 \\left(v^{z}\\right)^{2}} - 4 \\left(v^{z}\\right)^{2}, \\  a - b = 8 \\left(v^{z}\\right)^{2}, \\  d = v^{x} - \\sqrt{\\left(v^{x}\\right)^{2} - 8 \\left(v^{z}\\right)^{2}}\\right)$"
      ],
      "text/plain": [
       "⎛                    _________________                                ________\n",
       "⎜        2          ╱     2         2          2          2          ╱     2  \n",
       "⎝a = v__x  - v__x⋅╲╱  v__x  - 8⋅v__z   + 4⋅v__z , b = v__x  - v__x⋅╲╱  v__x  -\n",
       "\n",
       "_________                                           _________________⎞\n",
       "       2          2                2               ╱     2         2 ⎟\n",
       " 8⋅v__z   - 4⋅v__z , a - b = 8⋅v__z , d = v__x - ╲╱  v__x  - 8⋅v__z  ⎠"
      ]
     },
     "execution_count": 34,
     "metadata": {},
     "output_type": "execute_result"
    }
   ],
   "source": [
    "a = symbols(r'a',  real=True, positive=True)\n",
    "b = symbols(r'b',  real=True, positive=True)\n",
    "c = symbols(r'c',  real=True, positive=True)\n",
    "d = symbols(r'd',  real=True, positive=True)\n",
    "if gmeq.eta<1:\n",
    "    a_subs_eqn = Eq(a, \n",
    "                    rdotx**2-rdotx*sqrt(rdotx**2-8*rdotz**2)+4*rdotz**2\n",
    "                   )\n",
    "    b_subs_eqn = Eq(b, \n",
    "                    rdotx**2-rdotx*sqrt(rdotx**2-8*rdotz**2)-4*rdotz**2\n",
    "                   )\n",
    "    c_subs_eqn = Eq(a-b, a_subs_eqn.rhs - b_subs_eqn.rhs)\n",
    "    d_subs_eqn = Eq(d, \n",
    "                    rdotx-sqrt(rdotx**2-8*rdotz**2)\n",
    "                   )\n",
    "else:\n",
    "    a_subs_eqn = Eq(a, \n",
    "                    sqrt(rdotx**2-24*rdotz**2)\n",
    "                   )\n",
    "    b_subs_eqn = Eq(b, \n",
    "                    sqrt(rdotx**2+24*rdotz**2)\n",
    "                   )\n",
    "    c_subs_eqn = Eq(a-b, a_subs_eqn.rhs - b_subs_eqn.rhs)\n",
    "    d_subs_eqn = Eq(d, \n",
    "                    sqrt(16*rdotz**2+(a-rdotx)**2)\n",
    "                   )\n",
    "a_subs_eqn, b_subs_eqn, c_subs_eqn, d_subs_eqn"
   ]
  },
  {
   "cell_type": "code",
   "execution_count": 35,
   "metadata": {
    "hidden": true
   },
   "outputs": [
    {
     "data": {
      "image/png": "[encoded data removed]",
      "text/latex": [
       "$\\displaystyle L = - \\frac{\\sqrt{2} a^{\\frac{3}{2}} v^{z}}{4 \\varphi^{2} d \\left|{v^{z}}\\right|}$"
      ],
      "text/plain": [
       "            3/2        \n",
       "       -√2⋅a   ⋅v__z   \n",
       "L = ───────────────────\n",
       "             2         \n",
       "    4⋅\\varphi ⋅d⋅│v__z│"
      ]
     },
     "execution_count": 35,
     "metadata": {},
     "output_type": "execute_result"
    }
   ],
   "source": [
    "L_ab_eqn = Eq( L, simplify(simplify( (L_interim_eqn.rhs)\n",
    "                                   .subs(e2d(a_subs_eqn,do_flip=True)).subs(e2d(b_subs_eqn,do_flip=True)) )\n",
    "                          .subs(e2d(c_subs_eqn,do_flip=False)).subs(e2d(d_subs_eqn,do_flip=True))) )\n",
    "# L_ab_eqn = Eq( L, simplify(L_ab_eqn.rhs.subs({Abs(rdotz):-rdotz})))\n",
    "L_ab_eqn"
   ]
  },
  {
   "cell_type": "code",
   "execution_count": 36,
   "metadata": {
    "hidden": true
   },
   "outputs": [],
   "source": [
    "# L_ab_eqn.subs({sqrt((16*rdotz**2+(rdotx-sqrt(rdotx**2-8*rdotz**2)**2))/rdotz**2):})"
   ]
  },
  {
   "cell_type": "code",
   "execution_count": 37,
   "metadata": {
    "hidden": true
   },
   "outputs": [
    {
     "data": {
      "image/png": "[encoded data removed]",
      "text/latex": [
       "$\\displaystyle L = - \\frac{\\sqrt{2} \\left(x^{2} - x \\sqrt{x^{2} - 8 z^{2}} + 4 z^{2}\\right)^{\\frac{3}{2}}}{4 \\varphi^{2} \\left(- x + \\sqrt{x^{2} - 8 z^{2}}\\right)}$"
      ],
      "text/plain": [
       "                                      3/2 \n",
       "        ⎛          ___________       ⎞    \n",
       "        ⎜ 2       ╱  2      2       2⎟    \n",
       "    -√2⋅⎝x  - x⋅╲╱  x  - 8⋅z   + 4⋅z ⎠    \n",
       "L = ──────────────────────────────────────\n",
       "                  ⎛        ___________⎞   \n",
       "                2 ⎜       ╱  2      2 ⎟   \n",
       "       4⋅\\varphi ⋅⎝-x + ╲╱  x  - 8⋅z  ⎠   "
      ]
     },
     "execution_count": 37,
     "metadata": {},
     "output_type": "execute_result"
    }
   ],
   "source": [
    "if gmeq.eta<1:\n",
    "    L_manipulated_eqn = factor(((\n",
    "        L_ab_eqn.subs(e2d(a_subs_eqn,do_flip=False))\n",
    "                .subs(e2d(b_subs_eqn,do_flip=False))\n",
    "                .subs(e2d(d_subs_eqn,do_flip=False))\n",
    "    )))\n",
    "    L_manipulated_eqn = ( L_manipulated_eqn.subs({Abs(rdotz):-rdotz}) )\n",
    "else:\n",
    "    L_manipulated_eqn = (((\n",
    "        L_ab_eqn.subs(e2d(d_subs_eqn,do_flip=False))\n",
    "                .subs(e2d(a_subs_eqn,do_flip=False))\n",
    "                .subs(e2d(b_subs_eqn,do_flip=False))\n",
    "    )))\n",
    "    L_manipulated_eqn = simplify( L_manipulated_eqn.subs({Abs(rdotz):rdotz}) )\n",
    "#     L_eqn = simplify( L_interim_eqn.subs({Abs(rdotz):rdotz}) )\n",
    "L_manipulated_eqn.subs({rdotx:vx, rdotz:vz})"
   ]
  },
  {
   "cell_type": "markdown",
   "metadata": {
    "heading_collapsed": true
   },
   "source": [
    "## Lagrangian $L$ in compact form"
   ]
  },
  {
   "cell_type": "code",
   "execution_count": 38,
   "metadata": {
    "hidden": true
   },
   "outputs": [
    {
     "data": {
      "image/png": "[encoded data removed]",
      "text/latex": [
       "$\\displaystyle L = \\frac{\\sqrt{2} b^{3}}{4 \\varphi^{2} \\left(- c + v^{x}\\right)}$"
      ],
      "text/plain": [
       "                3         \n",
       "            √2⋅b          \n",
       "L = ──────────────────────\n",
       "             2            \n",
       "    4⋅\\varphi ⋅(-c + v__x)"
      ]
     },
     "execution_count": 38,
     "metadata": {},
     "output_type": "execute_result"
    }
   ],
   "source": [
    "if gmeq.eta<1:\n",
    "    a_subs_eqn = Eq(a, sqrt(rdotx**2-rdotx*sqrt(rdotx**2-8*rdotz**2)-4*rdotz**2))\n",
    "    b_subs_eqn = Eq(b, sqrt(rdotx**2-rdotx*sqrt(rdotx**2-8*rdotz**2)+4*rdotz**2))\n",
    "    b2_subs_eqn = Eq(b*sqrt(2), sqrt(2*rdotx**2-2*rdotx*sqrt(rdotx**2-8*rdotz**2)+8*rdotz**2))\n",
    "    c_subs_eqn = Eq(c, sqrt(rdotx**2-8*rdotz**2))\n",
    "    c2_subs_eqn = Eq(c*sqrt(2), sqrt(2*rdotx**2-16*rdotz**2))\n",
    "    L_temp_eqn = simplify(L_manipulated_eqn\n",
    "                     .subs(e2d(a_subs_eqn,do_flip=True))\n",
    "                     .subs(e2d(b_subs_eqn,do_flip=True))\n",
    "                     .subs(e2d(b2_subs_eqn,do_flip=True))\n",
    "#                      .subs(e2d(c_subs_eqn,do_flip=True)) \n",
    "                    ).subs(e2d(c_subs_eqn,do_flip=True)).subs(e2d(c2_subs_eqn,do_flip=True))\n",
    "else:\n",
    "    a_subs_eqn = Eq(a, sqrt(rdotx**2-24*rdotz**2) )\n",
    "    b_subs_eqn = Eq(b, sqrt(rdotx**2+24*rdotz**2) )\n",
    "#     b2_subs_eqn = Eq(b*sqrt(2), sqrt(2*rdotx**2-2*rdotx*sqrt(rdotx**2-8*rdotz**2)+8*rdotz**2))\n",
    "    c_subs_eqn = Eq(c, sqrt(16*rdotz**2+(a-rdotx)**2) )\n",
    "    L_temp_eqn = (L_manipulated_eqn\n",
    "                     .subs(e2d(a_subs_eqn,do_flip=True))\n",
    "                     .subs(e2d(b_subs_eqn,do_flip=True))\n",
    "#                      .subs(e2d(b2_subs_eqn,do_flip=True))\n",
    "                     .subs(e2d(c_subs_eqn,do_flip=True)) \n",
    "                    )\n",
    "L_temp_eqn"
   ]
  },
  {
   "cell_type": "code",
   "execution_count": 39,
   "metadata": {
    "hidden": true
   },
   "outputs": [
    {
     "data": {
      "image/png": "[encoded data removed]",
      "text/latex": [
       "$\\displaystyle L = \\frac{\\sqrt{2} \\left(x^{2} - x \\sqrt{x^{2} - 8 z^{2}} + 4 z^{2}\\right)^{\\frac{3}{2}}}{4 \\varphi^{2} \\left(x - \\sqrt{x^{2} - 8 z^{2}}\\right)}$"
      ],
      "text/plain": [
       "                                     3/2\n",
       "       ⎛          ___________       ⎞   \n",
       "       ⎜ 2       ╱  2      2       2⎟   \n",
       "    √2⋅⎝x  - x⋅╲╱  x  - 8⋅z   + 4⋅z ⎠   \n",
       "L = ────────────────────────────────────\n",
       "                 ⎛       ___________⎞   \n",
       "               2 ⎜      ╱  2      2 ⎟   \n",
       "      4⋅\\varphi ⋅⎝x - ╲╱  x  - 8⋅z  ⎠   "
      ]
     },
     "execution_count": 39,
     "metadata": {},
     "output_type": "execute_result"
    }
   ],
   "source": [
    "L_compact_eqn = (L_temp_eqn\n",
    "                   .subs(e2d(c_subs_eqn,do_flip=False))\n",
    "                   .subs(e2d(b_subs_eqn,do_flip=False))\n",
    "                   .subs(e2d(a_subs_eqn,do_flip=False)) )\n",
    "(L_compact_eqn.subs({rdotx:vx,rdotz:vz}))"
   ]
  },
  {
   "cell_type": "code",
   "execution_count": 40,
   "metadata": {
    "hidden": true
   },
   "outputs": [
    {
     "data": {
      "image/png": "[encoded data removed]",
      "text/latex": [
       "$\\displaystyle \\left( 0.6630963505914919, \\  -1.354973165538337, \\  0.9, \\  -0.2978\\right)$"
      ],
      "text/plain": [
       "(0.6630963505914919, -1.354973165538337, 0.9, -0.2978)"
      ]
     },
     "execution_count": 40,
     "metadata": {},
     "output_type": "execute_result"
    }
   ],
   "source": [
    "px_,pz_,vx_,vz_ "
   ]
  },
  {
   "cell_type": "code",
   "execution_count": 41,
   "metadata": {
    "hidden": true
   },
   "outputs": [
    {
     "data": {
      "image/png": "[encoded data removed]",
      "text/latex": [
       "$\\displaystyle L = \\frac{9 \\sqrt{5}}{40}$"
      ],
      "text/plain": [
       "    9⋅√5\n",
       "L = ────\n",
       "     40 "
      ]
     },
     "execution_count": 41,
     "metadata": {},
     "output_type": "execute_result"
    }
   ],
   "source": [
    "L_compact_eqn.subs({rdotx:(Rational(9,10) if gmeq.eta<1 else Rational(105,100)),\n",
    "                    rdotz:(Rational(3,10) if gmeq.eta<1 else Rational(21,100)),varphi:varphi_})"
   ]
  },
  {
   "cell_type": "code",
   "execution_count": 42,
   "metadata": {
    "hidden": true
   },
   "outputs": [],
   "source": [
    "# L_lambda = lambda f,vx,vz: float(re(N(L_decompact_eqn.rhs.subs({varphi:f,rdotx:vx,rdotz:vz}))))\n",
    "# L_lambda = lambda f_,vx_,vz_: float(re(N(L_interim_eqn.rhs.subs({varphi:f_,rdotx:vx_,rdotz:vz_}))))\n",
    "L_raw_lambda = lambda f_,px_,pz_,vx_,vz_: \\\n",
    "                    float((N(L_raw_eqn.rhs.subs({varphi:f_,px:px_,pz:pz_,rdotx:vx_,rdotz:vz_}))))\n",
    "# L_lambda = lambda f_,vx_,vz_: float((N(L_interim_eqn.rhs.subs({varphi:f_,rdotx:vx_,rdotz:vz_}))))\n",
    "L_lambda = lambda f_,vx_,vz_: float((N(L_interim_eqn.rhs.subs({varphi:f_,rdotx:vx_,rdotz:vz_}))))"
   ]
  },
  {
   "cell_type": "markdown",
   "metadata": {
    "heading_collapsed": true
   },
   "source": [
    "## Geodesic coefficients  $G^i$"
   ]
  },
  {
   "cell_type": "code",
   "execution_count": 43,
   "metadata": {
    "hidden": true
   },
   "outputs": [
    {
     "data": {
      "image/png": "[encoded data removed]",
      "text/latex": [
       "$\\displaystyle \\left( g = \\left[\\begin{matrix}\\frac{2 p_{x}^{3} \\sqrt{p_{x}^{2} + p_{z}^{2}}}{\\varphi^{2} \\left(2 p_{x}^{4} + p_{x}^{2} p_{z}^{2} - p_{z}^{4}\\right)} & - \\frac{2 p_{z}^{3} \\sqrt{p_{x}^{2} + p_{z}^{2}}}{\\varphi^{2} \\left(2 p_{x}^{4} + p_{x}^{2} p_{z}^{2} - p_{z}^{4}\\right)}\\\\- \\frac{2 p_{z}^{3} \\sqrt{p_{x}^{2} + p_{z}^{2}}}{\\varphi^{2} \\left(2 p_{x}^{4} + p_{x}^{2} p_{z}^{2} - p_{z}^{4}\\right)} & \\frac{2 p_{x} \\left(2 p_{x}^{2} + 3 p_{z}^{2}\\right)}{\\varphi^{2} \\sqrt{p_{x}^{2} + p_{z}^{2}} \\left(2 p_{x}^{2} - p_{z}^{2}\\right)}\\end{matrix}\\right], \\  g_{*} = \\left[\\begin{matrix}\\frac{\\varphi^{2} p_{x} \\left(2 p_{x}^{2} + 3 p_{z}^{2}\\right)}{2 \\left(p_{x}^{2} + p_{z}^{2}\\right)^{\\frac{3}{2}}} & \\frac{\\varphi^{2} p_{z}^{3}}{2 \\left(p_{x}^{2} + p_{z}^{2}\\right)^{\\frac{3}{2}}}\\\\\\frac{\\varphi^{2} p_{z}^{3}}{2 \\left(p_{x}^{2} + p_{z}^{2}\\right)^{\\frac{3}{2}}} & \\frac{\\varphi^{2} p_{x}^{3}}{2 \\left(p_{x}^{2} + p_{z}^{2}\\right)^{\\frac{3}{2}}}\\end{matrix}\\right]\\right)$"
      ],
      "text/plain": [
       "⎛    ⎡               ____________                           ____________      \n",
       "⎜    ⎢          3   ╱   2      2                       3   ╱   2      2       \n",
       "⎜    ⎢      2⋅pₓ ⋅╲╱  pₓ  + p_z                  -2⋅p_z ⋅╲╱  pₓ  + p_z        \n",
       "⎜    ⎢──────────────────────────────────    ──────────────────────────────────\n",
       "⎜    ⎢       2 ⎛    4     2    2      4⎞           2 ⎛    4     2    2      4⎞\n",
       "⎜    ⎢\\varphi ⋅⎝2⋅pₓ  + pₓ ⋅p_z  - p_z ⎠    \\varphi ⋅⎝2⋅pₓ  + pₓ ⋅p_z  - p_z ⎠\n",
       "⎜    ⎢                                                                        \n",
       "⎜g = ⎢                ____________                                            \n",
       "⎜    ⎢           3   ╱   2      2                       ⎛    2        2⎞      \n",
       "⎜    ⎢     -2⋅p_z ⋅╲╱  pₓ  + p_z                   2⋅pₓ⋅⎝2⋅pₓ  + 3⋅p_z ⎠      \n",
       "⎜    ⎢──────────────────────────────────  ────────────────────────────────────\n",
       "⎜    ⎢       2 ⎛    4     2    2      4⎞              ____________            \n",
       "⎜    ⎢\\varphi ⋅⎝2⋅pₓ  + pₓ ⋅p_z  - p_z ⎠         2   ╱   2      2  ⎛    2     \n",
       "⎝    ⎣                                    \\varphi ⋅╲╱  pₓ  + p_z  ⋅⎝2⋅pₓ  - p_\n",
       "\n",
       "   ⎤                                                         ⎞\n",
       "   ⎥        ⎡       2    ⎛    2        2⎞           2    3  ⎤⎟\n",
       "   ⎥        ⎢\\varphi ⋅pₓ⋅⎝2⋅pₓ  + 3⋅p_z ⎠    \\varphi ⋅p_z   ⎥⎟\n",
       "   ⎥        ⎢────────────────────────────  ─────────────────⎥⎟\n",
       "   ⎥        ⎢                   3/2                      3/2⎥⎟\n",
       "   ⎥        ⎢       ⎛  2      2⎞             ⎛  2      2⎞   ⎥⎟\n",
       "   ⎥        ⎢     2⋅⎝pₓ  + p_z ⎠           2⋅⎝pₓ  + p_z ⎠   ⎥⎟\n",
       "   ⎥, g_* = ⎢                                               ⎥⎟\n",
       "   ⎥        ⎢              2    3                    2   3  ⎥⎟\n",
       "   ⎥        ⎢       \\varphi ⋅p_z              \\varphi ⋅pₓ   ⎥⎟\n",
       "───⎥        ⎢     ─────────────────        ─────────────────⎥⎟\n",
       "   ⎥        ⎢                   3/2                      3/2⎥⎟\n",
       " 2⎞⎥        ⎢       ⎛  2      2⎞             ⎛  2      2⎞   ⎥⎟\n",
       "z ⎠⎦        ⎣     2⋅⎝pₓ  + p_z ⎠           2⋅⎝pₓ  + p_z ⎠   ⎦⎠"
      ]
     },
     "execution_count": 43,
     "metadata": {},
     "output_type": "execute_result"
    }
   ],
   "source": [
    "g_pxpz_eqn, gstar_pxpz_eqn"
   ]
  },
  {
   "cell_type": "code",
   "execution_count": 44,
   "metadata": {
    "hidden": true
   },
   "outputs": [
    {
     "data": {
      "image/png": "[encoded data removed]",
      "text/latex": [
       "$\\displaystyle \\left( \\left[\\begin{matrix}\\frac{p_{x} \\left(2 p_{x}^{2} + 3 p_{z}^{2}\\right) \\varphi^{2}{\\left({r}^x \\right)}}{2 \\left(p_{x}^{2} + p_{z}^{2}\\right)^{\\frac{3}{2}}} & \\frac{p_{z}^{3} \\varphi^{2}{\\left({r}^x \\right)}}{2 \\left(p_{x}^{2} + p_{z}^{2}\\right)^{\\frac{3}{2}}}\\\\\\frac{p_{z}^{3} \\varphi^{2}{\\left({r}^x \\right)}}{2 \\left(p_{x}^{2} + p_{z}^{2}\\right)^{\\frac{3}{2}}} & \\frac{p_{x}^{3} \\varphi^{2}{\\left({r}^x \\right)}}{2 \\left(p_{x}^{2} + p_{z}^{2}\\right)^{\\frac{3}{2}}}\\end{matrix}\\right], \\  \\left[\\begin{matrix}\\frac{2 p_{x}^{3} \\sqrt{p_{x}^{2} + p_{z}^{2}}}{\\left(2 p_{x}^{4} + p_{x}^{2} p_{z}^{2} - p_{z}^{4}\\right) \\varphi^{2}{\\left({r}^x \\right)}} & - \\frac{2 p_{z}^{3} \\sqrt{p_{x}^{2} + p_{z}^{2}}}{\\left(2 p_{x}^{4} + p_{x}^{2} p_{z}^{2} - p_{z}^{4}\\right) \\varphi^{2}{\\left({r}^x \\right)}}\\\\- \\frac{2 p_{z}^{3} \\sqrt{p_{x}^{2} + p_{z}^{2}}}{\\left(2 p_{x}^{4} + p_{x}^{2} p_{z}^{2} - p_{z}^{4}\\right) \\varphi^{2}{\\left({r}^x \\right)}} & \\frac{2 p_{x} \\left(2 p_{x}^{2} + 3 p_{z}^{2}\\right)}{\\sqrt{p_{x}^{2} + p_{z}^{2}} \\left(2 p_{x}^{2} - p_{z}^{2}\\right) \\varphi^{2}{\\left({r}^x \\right)}}\\end{matrix}\\right]\\right)$"
      ],
      "text/plain": [
       "⎛                                                               ⎡             \n",
       "⎜⎡   ⎛    2        2⎞        2             3        2        ⎤  ⎢             \n",
       "⎜⎢pₓ⋅⎝2⋅pₓ  + 3⋅p_z ⎠⋅\\varphi ({r}__x)  p_z ⋅\\varphi ({r}__x)⎥  ⎢          2⋅p\n",
       "⎜⎢────────────────────────────────────  ─────────────────────⎥  ⎢─────────────\n",
       "⎜⎢                       3/2                            3/2  ⎥  ⎢⎛    4     2 \n",
       "⎜⎢           ⎛  2      2⎞                   ⎛  2      2⎞     ⎥  ⎢⎝2⋅pₓ  + pₓ ⋅\n",
       "⎜⎢         2⋅⎝pₓ  + p_z ⎠                 2⋅⎝pₓ  + p_z ⎠     ⎥  ⎢             \n",
       "⎜⎢                                                           ⎥, ⎢             \n",
       "⎜⎢          3        2                    3        2         ⎥  ⎢             \n",
       "⎜⎢       p_z ⋅\\varphi ({r}__x)          pₓ ⋅\\varphi ({r}__x) ⎥  ⎢         -2⋅p\n",
       "⎜⎢       ─────────────────────          ──────────────────── ⎥  ⎢─────────────\n",
       "⎜⎢                       3/2                           3/2   ⎥  ⎢⎛    4     2 \n",
       "⎜⎢           ⎛  2      2⎞                  ⎛  2      2⎞      ⎥  ⎢⎝2⋅pₓ  + pₓ ⋅\n",
       "⎝⎣         2⋅⎝pₓ  + p_z ⎠                2⋅⎝pₓ  + p_z ⎠      ⎦  ⎣             \n",
       "\n",
       "      ____________                                   ____________             \n",
       " 3   ╱   2      2                               3   ╱   2      2              \n",
       "ₓ ⋅╲╱  pₓ  + p_z                          -2⋅p_z ⋅╲╱  pₓ  + p_z               \n",
       "─────────────────────────────    ──────────────────────────────────────────   \n",
       "   2      4⎞        2            ⎛    4     2    2      4⎞        2           \n",
       "p_z  - p_z ⎠⋅\\varphi ({r}__x)    ⎝2⋅pₓ  + pₓ ⋅p_z  - p_z ⎠⋅\\varphi ({r}__x)   \n",
       "                                                                              \n",
       "       ____________                                                           \n",
       "  3   ╱   2      2                               ⎛    2        2⎞             \n",
       "_z ⋅╲╱  pₓ  + p_z                           2⋅pₓ⋅⎝2⋅pₓ  + 3⋅p_z ⎠             \n",
       "─────────────────────────────  ───────────────────────────────────────────────\n",
       "   2      4⎞        2             ____________                                \n",
       "p_z  - p_z ⎠⋅\\varphi ({r}__x)    ╱   2      2  ⎛    2      2⎞        2        \n",
       "                               ╲╱  pₓ  + p_z  ⋅⎝2⋅pₓ  - p_z ⎠⋅\\varphi ({r}__x)\n",
       "\n",
       "⎤⎞\n",
       "⎥⎟\n",
       "⎥⎟\n",
       "⎥⎟\n",
       "⎥⎟\n",
       "⎥⎟\n",
       "⎥⎟\n",
       "⎥⎟\n",
       "⎥⎟\n",
       "⎥⎟\n",
       "⎥⎟\n",
       "⎥⎟\n",
       "⎥⎟\n",
       "⎦⎠"
      ]
     },
     "execution_count": 44,
     "metadata": {},
     "output_type": "execute_result"
    }
   ],
   "source": [
    "gstar_pxpz = gstar_pxpz_eqn.rhs.subs({varphi:varphi_rx})\n",
    "g_pxpz = g_pxpz_eqn.rhs.subs({varphi:varphi_rx})\n",
    "gstar_pxpz, g_pxpz"
   ]
  },
  {
   "cell_type": "code",
   "execution_count": 45,
   "metadata": {
    "hidden": true
   },
   "outputs": [],
   "source": [
    "def diff_p(g_,r_i):\n",
    "    dg11dri = diff(g_[0,0],r_i)\n",
    "    dg12dri = diff(g_[0,1],r_i)\n",
    "    dg21dri = diff(g_[1,0],r_i)\n",
    "    dg22dri = diff(g_[1,1],r_i)\n",
    "    return simplify(Matrix([ [dg11dri,dg12dri], [dg21dri,dg22dri] ]))"
   ]
  },
  {
   "cell_type": "code",
   "execution_count": 46,
   "metadata": {
    "hidden": true
   },
   "outputs": [
    {
     "data": {
      "image/png": "[encoded data removed]",
      "text/latex": [
       "$\\displaystyle \\left( \\left[\\begin{matrix}- \\frac{4 \\varphi^{\\prime} p_{x}^{3} \\sqrt{p_{x}^{2} + p_{z}^{2}}}{\\varphi^{3} \\left(2 p_{x}^{4} + p_{x}^{2} p_{z}^{2} - p_{z}^{4}\\right)} & \\frac{4 \\varphi^{\\prime} p_{z}^{3} \\sqrt{p_{x}^{2} + p_{z}^{2}}}{\\varphi^{3} \\left(2 p_{x}^{4} + p_{x}^{2} p_{z}^{2} - p_{z}^{4}\\right)}\\\\\\frac{4 \\varphi^{\\prime} p_{z}^{3} \\sqrt{p_{x}^{2} + p_{z}^{2}}}{\\varphi^{3} \\left(2 p_{x}^{4} + p_{x}^{2} p_{z}^{2} - p_{z}^{4}\\right)} & - \\frac{4 \\varphi^{\\prime} p_{x} \\left(2 p_{x}^{2} + 3 p_{z}^{2}\\right)}{\\varphi^{3} \\sqrt{p_{x}^{2} + p_{z}^{2}} \\left(2 p_{x}^{2} - p_{z}^{2}\\right)}\\end{matrix}\\right], \\  \\left[\\begin{matrix}0 & 0\\\\0 & 0\\end{matrix}\\right]\\right)$"
      ],
      "text/plain": [
       "⎛⎡                            ____________                               _____\n",
       "⎜⎢                       3   ╱   2      2                           3   ╱   2 \n",
       "⎜⎢-4⋅\\varphi__{\\prime}⋅pₓ ⋅╲╱  pₓ  + p_z     4⋅\\varphi__{\\prime}⋅p_z ⋅╲╱  pₓ  \n",
       "⎜⎢─────────────────────────────────────────  ─────────────────────────────────\n",
       "⎜⎢           3 ⎛    4     2    2      4⎞               3 ⎛    4     2    2    \n",
       "⎜⎢    \\varphi ⋅⎝2⋅pₓ  + pₓ ⋅p_z  - p_z ⎠        \\varphi ⋅⎝2⋅pₓ  + pₓ ⋅p_z  - p\n",
       "⎜⎢                                                                            \n",
       "⎜⎢                            ____________                                    \n",
       "⎜⎢                       3   ╱   2      2                            ⎛    2   \n",
       "⎜⎢4⋅\\varphi__{\\prime}⋅p_z ⋅╲╱  pₓ  + p_z     -4⋅\\varphi__{\\prime}⋅pₓ⋅⎝2⋅pₓ  + \n",
       "⎜⎢────────────────────────────────────────   ─────────────────────────────────\n",
       "⎜⎢          3 ⎛    4     2    2      4⎞                   ____________        \n",
       "⎜⎢   \\varphi ⋅⎝2⋅pₓ  + pₓ ⋅p_z  - p_z ⎠              3   ╱   2      2  ⎛    2 \n",
       "⎝⎣                                            \\varphi ⋅╲╱  pₓ  + p_z  ⋅⎝2⋅pₓ  \n",
       "\n",
       "_______ ⎤        ⎞\n",
       "     2  ⎥        ⎟\n",
       "+ p_z   ⎥        ⎟\n",
       "─────── ⎥        ⎟\n",
       "  4⎞    ⎥        ⎟\n",
       "_z ⎠    ⎥        ⎟\n",
       "        ⎥  ⎡0  0⎤⎟\n",
       "        ⎥, ⎢    ⎥⎟\n",
       "     2⎞ ⎥  ⎣0  0⎦⎟\n",
       "3⋅p_z ⎠ ⎥        ⎟\n",
       "────────⎥        ⎟\n",
       "        ⎥        ⎟\n",
       "     2⎞ ⎥        ⎟\n",
       "- p_z ⎠ ⎦        ⎠"
      ]
     },
     "execution_count": 46,
     "metadata": {},
     "output_type": "execute_result"
    }
   ],
   "source": [
    "dgdrx = diff_p(g_pxpz,rx).subs({diff(varphi_rx,rx):d_varphi, varphi_rx:varphi})\n",
    "dgdrz = diff_p(g_pxpz,rz).subs({diff(varphi_rx,rx):d_varphi, varphi_rx:varphi})\n",
    "dgdrx, dgdrz"
   ]
  },
  {
   "cell_type": "code",
   "execution_count": 47,
   "metadata": {
    "hidden": true
   },
   "outputs": [
    {
     "data": {
      "image/png": "[encoded data removed]",
      "text/latex": [
       "$\\displaystyle \\left( \\left[\\begin{matrix}- \\frac{2 \\varphi^{\\prime} \\varphi^{2}{\\left({r}^x \\right)}}{\\varphi^{3}} & 0\\\\0 & - \\frac{2 \\varphi^{\\prime} \\varphi^{2}{\\left({r}^x \\right)}}{\\varphi^{3}}\\end{matrix}\\right], \\  \\left[\\begin{matrix}0 & 0\\\\0 & 0\\end{matrix}\\right]\\right)$"
      ],
      "text/plain": [
       "⎛⎡                            2                                               \n",
       "⎜⎢-2⋅\\varphi__{\\prime}⋅\\varphi ({r}__x)                                       \n",
       "⎜⎢──────────────────────────────────────                    0                 \n",
       "⎜⎢                      3                                                     \n",
       "⎜⎢               \\varphi                                                      \n",
       "⎜⎢                                                                            \n",
       "⎜⎢                                                                    2       \n",
       "⎜⎢                                        -2⋅\\varphi__{\\prime}⋅\\varphi ({r}__x\n",
       "⎜⎢                  0                     ────────────────────────────────────\n",
       "⎜⎢                                                              3             \n",
       "⎝⎣                                                       \\varphi              \n",
       "\n",
       "  ⎤        ⎞\n",
       "  ⎥        ⎟\n",
       "  ⎥        ⎟\n",
       "  ⎥        ⎟\n",
       "  ⎥  ⎡0  0⎤⎟\n",
       "  ⎥, ⎢    ⎥⎟\n",
       "  ⎥  ⎣0  0⎦⎟\n",
       ") ⎥        ⎟\n",
       "──⎥        ⎟\n",
       "  ⎥        ⎟\n",
       "  ⎦        ⎠"
      ]
     },
     "execution_count": 47,
     "metadata": {},
     "output_type": "execute_result"
    }
   ],
   "source": [
    "gstar_im_dgdrx_jm = simplify(gstar_pxpz*dgdrx)\n",
    "gstar_im_dgdrz_jm = simplify(gstar_pxpz*dgdrz)\n",
    "gstar_im_dgdrx_jm, gstar_im_dgdrz_jm"
   ]
  },
  {
   "cell_type": "code",
   "execution_count": 48,
   "metadata": {
    "hidden": true
   },
   "outputs": [
    {
     "data": {
      "image/png": "[encoded data removed]",
      "text/latex": [
       "$\\displaystyle \\left( \\left[\\begin{matrix}- \\frac{2 \\varphi^{\\prime} p_{x}^{4} \\left(2 p_{x}^{2} + 3 p_{z}^{2}\\right)}{\\varphi \\left(2 p_{x}^{6} + 3 p_{x}^{4} p_{z}^{2} - p_{z}^{6}\\right)} & \\frac{2 \\varphi^{\\prime} p_{x} p_{z}^{3} \\left(2 p_{x}^{2} + 3 p_{z}^{2}\\right)}{\\varphi \\left(2 p_{x}^{6} + 3 p_{x}^{4} p_{z}^{2} - p_{z}^{6}\\right)}\\\\\\frac{2 \\varphi^{\\prime} p_{x} p_{z}^{3} \\left(2 p_{x}^{2} + 3 p_{z}^{2}\\right)}{\\varphi \\left(2 p_{x}^{6} + 3 p_{x}^{4} p_{z}^{2} - p_{z}^{6}\\right)} & - \\frac{2 \\varphi^{\\prime} p_{x}^{2} \\left(2 p_{x}^{2} + 3 p_{z}^{2}\\right)^{2}}{\\varphi \\left(p_{x}^{2} + p_{z}^{2}\\right)^{2} \\left(2 p_{x}^{2} - p_{z}^{2}\\right)}\\end{matrix}\\right], \\  \\left[\\begin{matrix}- \\frac{2 \\varphi^{\\prime} p_{x}^{3} p_{z}^{3}}{\\varphi \\left(2 p_{x}^{6} + 3 p_{x}^{4} p_{z}^{2} - p_{z}^{6}\\right)} & \\frac{2 \\varphi^{\\prime} p_{z}^{6}}{\\varphi \\left(2 p_{x}^{6} + 3 p_{x}^{4} p_{z}^{2} - p_{z}^{6}\\right)}\\\\\\frac{2 \\varphi^{\\prime} p_{z}^{6}}{\\varphi \\left(2 p_{x}^{6} + 3 p_{x}^{4} p_{z}^{2} - p_{z}^{6}\\right)} & - \\frac{2 \\varphi^{\\prime} p_{x} p_{z}^{3} \\left(2 p_{x}^{2} + 3 p_{z}^{2}\\right)}{\\varphi \\left(p_{x}^{2} + p_{z}^{2}\\right)^{2} \\left(2 p_{x}^{2} - p_{z}^{2}\\right)}\\end{matrix}\\right]\\right)$"
      ],
      "text/plain": [
       "⎛⎡                        4 ⎛    2        2⎞                              3 ⎛ \n",
       "⎜⎢ -2⋅\\varphi__{\\prime}⋅pₓ ⋅⎝2⋅pₓ  + 3⋅p_z ⎠    2⋅\\varphi__{\\prime}⋅pₓ⋅p_z ⋅⎝2\n",
       "⎜⎢ ──────────────────────────────────────────   ──────────────────────────────\n",
       "⎜⎢            ⎛    6       4    2      6⎞                   ⎛    6       4    \n",
       "⎜⎢    \\varphi⋅⎝2⋅pₓ  + 3⋅pₓ ⋅p_z  - p_z ⎠           \\varphi⋅⎝2⋅pₓ  + 3⋅pₓ ⋅p_z\n",
       "⎜⎢                                                                            \n",
       "⎜⎢                                                                            \n",
       "⎜⎢                          3 ⎛    2        2⎞                         2 ⎛    \n",
       "⎜⎢2⋅\\varphi__{\\prime}⋅pₓ⋅p_z ⋅⎝2⋅pₓ  + 3⋅p_z ⎠  -2⋅\\varphi__{\\prime}⋅pₓ ⋅⎝2⋅pₓ\n",
       "⎜⎢────────────────────────────────────────────  ──────────────────────────────\n",
       "⎜⎢            ⎛    6       4    2      6⎞                               2     \n",
       "⎜⎢    \\varphi⋅⎝2⋅pₓ  + 3⋅pₓ ⋅p_z  - p_z ⎠                   ⎛  2      2⎞  ⎛   \n",
       "⎝⎣                                                  \\varphi⋅⎝pₓ  + p_z ⎠ ⋅⎝2⋅p\n",
       "\n",
       "   2        2⎞⎤  ⎡                          3    3                            \n",
       "⋅pₓ  + 3⋅p_z ⎠⎥  ⎢   -2⋅\\varphi__{\\prime}⋅pₓ ⋅p_z                 2⋅\\varphi__{\n",
       "──────────────⎥  ⎢───────────────────────────────────       ──────────────────\n",
       "2      6⎞     ⎥  ⎢        ⎛    6       4    2      6⎞               ⎛    6    \n",
       "  - p_z ⎠     ⎥  ⎢\\varphi⋅⎝2⋅pₓ  + 3⋅pₓ ⋅p_z  - p_z ⎠       \\varphi⋅⎝2⋅pₓ  + 3\n",
       "              ⎥  ⎢                                                            \n",
       "           2  ⎥, ⎢                             6                              \n",
       "2        2⎞   ⎥  ⎢      2⋅\\varphi__{\\prime}⋅p_z        -2⋅\\varphi__{\\prime}⋅pₓ\n",
       "  + 3⋅p_z ⎠   ⎥  ⎢───────────────────────────────────  ───────────────────────\n",
       "───────────── ⎥  ⎢        ⎛    6       4    2      6⎞                         \n",
       "              ⎥  ⎢\\varphi⋅⎝2⋅pₓ  + 3⋅pₓ ⋅p_z  - p_z ⎠               ⎛  2      \n",
       " 2      2⎞    ⎥  ⎣                                          \\varphi⋅⎝pₓ  + p_z\n",
       "ₓ  - p_z ⎠    ⎦                                                               \n",
       "\n",
       "           6           ⎤⎞\n",
       "\\prime}⋅p_z            ⎥⎟\n",
       "─────────────────      ⎥⎟\n",
       "   4    2      6⎞      ⎥⎟\n",
       "⋅pₓ ⋅p_z  - p_z ⎠      ⎥⎟\n",
       "                       ⎥⎟\n",
       "    3 ⎛    2        2⎞ ⎥⎟\n",
       "⋅p_z ⋅⎝2⋅pₓ  + 3⋅p_z ⎠ ⎥⎟\n",
       "───────────────────────⎥⎟\n",
       "  2                    ⎥⎟\n",
       "2⎞  ⎛    2      2⎞     ⎥⎟\n",
       " ⎠ ⋅⎝2⋅pₓ  - p_z ⎠     ⎦⎟\n",
       "                        ⎠"
      ]
     },
     "execution_count": 48,
     "metadata": {},
     "output_type": "execute_result"
    }
   ],
   "source": [
    "gstar_1m_dgrm_jk = simplify(gstar_pxpz[0,0]*dgdrx + gstar_pxpz[0,1]*dgdrz) \\\n",
    "                                    .subs({diff(varphi_rx,rx):d_varphi, varphi_rx:varphi})\n",
    "gstar_2m_dgrm_jk = simplify(gstar_pxpz[1,0]*dgdrx + gstar_pxpz[1,1]*dgdrz) \\\n",
    "                                    .subs({diff(varphi_rx,rx):d_varphi, varphi_rx:varphi})\n",
    "gstar_1m_dgrm_jk, gstar_2m_dgrm_jk"
   ]
  },
  {
   "cell_type": "code",
   "execution_count": 49,
   "metadata": {
    "hidden": true
   },
   "outputs": [
    {
     "data": {
      "image/png": "[encoded data removed]",
      "text/latex": [
       "$\\displaystyle \\left[\\begin{matrix}- \\frac{\\varphi^{\\prime} v^{x} \\left(v^{x} + v^{z}\\right)}{\\varphi}\\\\- \\frac{\\varphi^{\\prime} v^{z} \\left(v^{x} + v^{z}\\right)}{\\varphi}\\end{matrix}\\right]$"
      ],
      "text/plain": [
       "⎡-\\varphi__{\\prime}⋅v__x⋅(v__x + v__z) ⎤\n",
       "⎢──────────────────────────────────────⎥\n",
       "⎢               \\varphi                ⎥\n",
       "⎢                                      ⎥\n",
       "⎢-\\varphi__{\\prime}⋅v__z⋅(v__x + v__z) ⎥\n",
       "⎢──────────────────────────────────────⎥\n",
       "⎣               \\varphi                ⎦"
      ]
     },
     "execution_count": 49,
     "metadata": {},
     "output_type": "execute_result"
    }
   ],
   "source": [
    "gstar_im_dgdrk_jm_vjvk = simplify( Rational(1,2)*((v_vec.T*gstar_im_dgdrx_jm*v_vec[0])\n",
    "                                                 +(v_vec.T*gstar_im_dgdrx_jm*v_vec[1])) ).T \\\n",
    "                                    .subs({diff(varphi_rx,rx):d_varphi, varphi_rx:varphi})\n",
    "gstar_im_dgdrk_jm_vjvk"
   ]
  },
  {
   "cell_type": "code",
   "execution_count": 50,
   "metadata": {
    "hidden": true
   },
   "outputs": [
    {
     "data": {
      "image/png": "[encoded data removed]",
      "text/latex": [
       "$\\displaystyle \\left[\\begin{matrix}- \\frac{\\varphi^{\\prime} p_{x} \\left(2 p_{x}^{5} \\left(v^{x}\\right)^{2} + 4 p_{x}^{5} \\left(v^{z}\\right)^{2} + 3 p_{x}^{3} p_{z}^{2} \\left(v^{x}\\right)^{2} + 12 p_{x}^{3} p_{z}^{2} \\left(v^{z}\\right)^{2} - 4 p_{x}^{2} p_{z}^{3} v^{x} v^{z} + 9 p_{x} p_{z}^{4} \\left(v^{z}\\right)^{2} - 6 p_{z}^{5} v^{x} v^{z}\\right)}{2 \\varphi \\left(2 p_{x}^{6} + 3 p_{x}^{4} p_{z}^{2} - p_{z}^{6}\\right)}\\\\- \\frac{\\varphi^{\\prime} p_{z}^{3} \\left(p_{x}^{3} \\left(v^{x}\\right)^{2} + 2 p_{x}^{3} \\left(v^{z}\\right)^{2} + 3 p_{x} p_{z}^{2} \\left(v^{z}\\right)^{2} - 2 p_{z}^{3} v^{x} v^{z}\\right)}{2 \\varphi \\left(2 p_{x}^{6} + 3 p_{x}^{4} p_{z}^{2} - p_{z}^{6}\\right)}\\end{matrix}\\right]$"
      ],
      "text/plain": [
       "⎡                      ⎛    5     2       5     2       3    2     2        3 \n",
       "⎢-\\varphi__{\\prime}⋅pₓ⋅⎝2⋅pₓ ⋅v__x  + 4⋅pₓ ⋅v__z  + 3⋅pₓ ⋅p_z ⋅v__x  + 12⋅pₓ ⋅\n",
       "⎢─────────────────────────────────────────────────────────────────────────────\n",
       "⎢                                                                  ⎛    6     \n",
       "⎢                                                        2⋅\\varphi⋅⎝2⋅pₓ  + 3⋅\n",
       "⎢                                                                             \n",
       "⎢                                                     3 ⎛  3     2       3    \n",
       "⎢                               -\\varphi__{\\prime}⋅p_z ⋅⎝pₓ ⋅v__x  + 2⋅pₓ ⋅v__\n",
       "⎢                               ──────────────────────────────────────────────\n",
       "⎢                                                                  ⎛    6     \n",
       "⎣                                                        2⋅\\varphi⋅⎝2⋅pₓ  + 3⋅\n",
       "\n",
       "   2     2       2    3                     4     2        5          ⎞ ⎤\n",
       "p_z ⋅v__z  - 4⋅pₓ ⋅p_z ⋅v__x⋅v__z + 9⋅pₓ⋅p_z ⋅v__z  - 6⋅p_z ⋅v__x⋅v__z⎠ ⎥\n",
       "────────────────────────────────────────────────────────────────────────⎥\n",
       "  4    2      6⎞                                                        ⎥\n",
       "pₓ ⋅p_z  - p_z ⎠                                                        ⎥\n",
       "                                                                        ⎥\n",
       " 2           2     2        3          ⎞                                ⎥\n",
       "z  + 3⋅pₓ⋅p_z ⋅v__z  - 2⋅p_z ⋅v__x⋅v__z⎠                                ⎥\n",
       "─────────────────────────────────────────                               ⎥\n",
       "  4    2      6⎞                                                        ⎥\n",
       "pₓ ⋅p_z  - p_z ⎠                                                        ⎦"
      ]
     },
     "execution_count": 50,
     "metadata": {},
     "output_type": "execute_result"
    }
   ],
   "source": [
    "gstar_im_dgdrm_jk_vjvk = Matrix([ simplify( Rational(1,4)*((v_vec.T*(gstar_1m_dgrm_jk*v_vec))[0]) ),\n",
    "                                  simplify( Rational(1,4)*((v_vec.T*(gstar_2m_dgrm_jk*v_vec))[0]) ) ])\n",
    "gstar_im_dgdrm_jk_vjvk"
   ]
  },
  {
   "cell_type": "code",
   "execution_count": 51,
   "metadata": {
    "hidden": true
   },
   "outputs": [
    {
     "data": {
      "image/png": "[encoded data removed]",
      "text/latex": [
       "$\\displaystyle \\left[\\begin{matrix}\\frac{\\varphi^{\\prime} p_{x} \\left(2 p_{x}^{5} \\left(v^{x}\\right)^{2} + 4 p_{x}^{5} \\left(v^{z}\\right)^{2} + 3 p_{x}^{3} p_{z}^{2} \\left(v^{x}\\right)^{2} + 12 p_{x}^{3} p_{z}^{2} \\left(v^{z}\\right)^{2} - 4 p_{x}^{2} p_{z}^{3} v^{x} v^{z} + 9 p_{x} p_{z}^{4} \\left(v^{z}\\right)^{2} - 6 p_{z}^{5} v^{x} v^{z}\\right)}{2 \\varphi \\left(2 p_{x}^{6} + 3 p_{x}^{4} p_{z}^{2} - p_{z}^{6}\\right)} - \\frac{\\varphi^{\\prime} v^{x} \\left(v^{x} + v^{z}\\right)}{\\varphi}\\\\\\frac{\\varphi^{\\prime} p_{z}^{3} \\left(p_{x}^{3} \\left(v^{x}\\right)^{2} + 2 p_{x}^{3} \\left(v^{z}\\right)^{2} + 3 p_{x} p_{z}^{2} \\left(v^{z}\\right)^{2} - 2 p_{z}^{3} v^{x} v^{z}\\right)}{2 \\varphi \\left(2 p_{x}^{6} + 3 p_{x}^{4} p_{z}^{2} - p_{z}^{6}\\right)} - \\frac{\\varphi^{\\prime} v^{z} \\left(v^{x} + v^{z}\\right)}{\\varphi}\\end{matrix}\\right]$"
      ],
      "text/plain": [
       "⎡                     ⎛    5     2       5     2       3    2     2        3  \n",
       "⎢\\varphi__{\\prime}⋅pₓ⋅⎝2⋅pₓ ⋅v__x  + 4⋅pₓ ⋅v__z  + 3⋅pₓ ⋅p_z ⋅v__x  + 12⋅pₓ ⋅p\n",
       "⎢─────────────────────────────────────────────────────────────────────────────\n",
       "⎢                                                                 ⎛    6      \n",
       "⎢                                                       2⋅\\varphi⋅⎝2⋅pₓ  + 3⋅p\n",
       "⎢                                                                             \n",
       "⎢                                                    3 ⎛  3     2       3     \n",
       "⎢                               \\varphi__{\\prime}⋅p_z ⋅⎝pₓ ⋅v__x  + 2⋅pₓ ⋅v__z\n",
       "⎢                               ──────────────────────────────────────────────\n",
       "⎢                                                                 ⎛    6      \n",
       "⎣                                                       2⋅\\varphi⋅⎝2⋅pₓ  + 3⋅p\n",
       "\n",
       "  2     2       2    3                     4     2        5          ⎞        \n",
       "_z ⋅v__z  - 4⋅pₓ ⋅p_z ⋅v__x⋅v__z + 9⋅pₓ⋅p_z ⋅v__z  - 6⋅p_z ⋅v__x⋅v__z⎠   \\varp\n",
       "────────────────────────────────────────────────────────────────────── - ─────\n",
       " 4    2      6⎞                                                               \n",
       "ₓ ⋅p_z  - p_z ⎠                                                               \n",
       "                                                                              \n",
       "2           2     2        3          ⎞                                       \n",
       "  + 3⋅pₓ⋅p_z ⋅v__z  - 2⋅p_z ⋅v__x⋅v__z⎠   \\varphi__{\\prime}⋅v__z⋅(v__x + v__z)\n",
       "─────────────────────────────────────── - ────────────────────────────────────\n",
       " 4    2      6⎞                                         \\varphi               \n",
       "ₓ ⋅p_z  - p_z ⎠                                                               \n",
       "\n",
       "                               ⎤\n",
       "hi__{\\prime}⋅v__x⋅(v__x + v__z)⎥\n",
       "───────────────────────────────⎥\n",
       "         \\varphi               ⎥\n",
       "                               ⎥\n",
       "                               ⎥\n",
       "                               ⎥\n",
       "                               ⎥\n",
       "                               ⎥\n",
       "                               ⎥\n",
       "                               ⎦"
      ]
     },
     "execution_count": 51,
     "metadata": {},
     "output_type": "execute_result"
    }
   ],
   "source": [
    "G_i_pxpz = (factor(gstar_im_dgdrk_jm_vjvk - gstar_im_dgdrm_jk_vjvk))\n",
    "G_i_pxpz"
   ]
  },
  {
   "cell_type": "code",
   "execution_count": 52,
   "metadata": {
    "hidden": true
   },
   "outputs": [],
   "source": [
    "G_i_vxvz = ( ( G_i_pxpz.subs(e2d(px_vx_vz_eqn)).subs(e2d(pz_vx_vz_eqn)) ).subs({rdotx:vx,rdotz:vz}) )"
   ]
  },
  {
   "cell_type": "code",
   "execution_count": 53,
   "metadata": {
    "hidden": true
   },
   "outputs": [],
   "source": [
    "Gi = MatrixSymbol(r'G^i',2,1)\n",
    "G1 = symbols(r'G^1', real=True)\n",
    "G2 = symbols(r'G^2', real=True)"
   ]
  },
  {
   "cell_type": "code",
   "execution_count": 54,
   "metadata": {
    "hidden": true
   },
   "outputs": [],
   "source": [
    "a = symbols(r'a',  real=True)\n",
    "b = symbols(r'b',  real=True)\n",
    "if gmeq.eta<1:\n",
    "    a_subs_eqn = Eq(a,sqrt(vx**2-8*vz**2))\n",
    "else:\n",
    "    a_subs_eqn = Eq(a,sqrt(vx**2-24*vz**2))\n",
    "# b_subs_eqn = Eq(b,vx**2-x*sqrt(vx**2-8*vz**2)+4*z**2)\n",
    "# b_subs_eqn = Eq(b,-a*x+x**2+4*z**2)\n",
    "# e2d(a_subs_eqn,do_flip=True) #, e2d(b_subs_eqn,do_flip=True)"
   ]
  },
  {
   "cell_type": "code",
   "execution_count": 56,
   "metadata": {
    "hidden": true,
    "scrolled": true
   },
   "outputs": [
    {
     "data": {
      "image/png": "[encoded data removed]",
      "text/latex": [
       "$\\displaystyle \\left[ - \\frac{4 \\varphi^{\\prime} \\left(- a x^{13} - 2 a x^{12} z + 4 a x^{11} z^{2} + 4 a x^{10} z^{3} + 16 a x^{9} z^{4} + 48 a x^{8} z^{5} + 112 a x^{6} z^{7} + 16 a x^{5} z^{8} + 160 a x^{4} z^{9} + 448 a x^{3} z^{10} + 576 a x^{2} z^{11} - 1280 a x z^{12} + x^{14} + 2 x^{13} z - 8 x^{12} z^{2} - 12 x^{11} z^{3} - 8 x^{10} z^{4} - 48 x^{9} z^{5} + 64 x^{8} z^{6} + 48 x^{7} z^{7} + 80 x^{6} z^{8} + 480 x^{5} z^{9} - 128 x^{4} z^{10} + 1344 x^{3} z^{11} - 4224 x^{2} z^{12} - 512 x z^{13} + 1024 z^{14}\\right)}{\\varphi \\left(- a x + x^{2} + 4 z^{2}\\right)^{3} \\left(- a x^{5} + 2 a x^{3} z^{2} + 12 a x z^{4} + x^{6} - 6 x^{4} z^{2} - 12 x^{2} z^{4} - 32 z^{6}\\right)}, \\  - \\frac{8 \\varphi^{\\prime} z \\left(- a x^{12} - a x^{11} z + 4 a x^{10} z^{2} + 2 a x^{9} z^{3} + 24 a x^{8} z^{4} + 24 a x^{7} z^{5} + 16 a x^{6} z^{6} + 56 a x^{5} z^{7} - 80 a x^{4} z^{8} + 80 a x^{3} z^{9} - 192 a x^{2} z^{10} + 288 a x z^{11} + 128 a z^{12} + x^{13} + x^{12} z - 8 x^{11} z^{2} - 6 x^{10} z^{3} - 16 x^{9} z^{4} - 24 x^{8} z^{5} + 80 x^{7} z^{6} + 24 x^{6} z^{7} + 304 x^{5} z^{8} + 240 x^{4} z^{9} + 512 x^{3} z^{10} + 672 x^{2} z^{11} + 1024 x z^{12} - 256 z^{13}\\right)}{\\varphi \\left(- a x + x^{2} + 4 z^{2}\\right)^{3} \\left(- a x^{5} + 2 a x^{3} z^{2} + 12 a x z^{4} + x^{6} - 6 x^{4} z^{2} - 12 x^{2} z^{4} - 32 z^{6}\\right)}\\right]$"
      ],
      "text/plain": [
       "⎡                     ⎛     13        12          11  2        10  3         9\n",
       "⎢-4⋅\\varphi__{\\prime}⋅⎝- a⋅x   - 2⋅a⋅x  ⋅z + 4⋅a⋅x  ⋅z  + 4⋅a⋅x  ⋅z  + 16⋅a⋅x \n",
       "⎢─────────────────────────────────────────────────────────────────────────────\n",
       "⎢                                                                             \n",
       "⎢                                                                             \n",
       "⎣                                                                             \n",
       "\n",
       "  4         8  5          6  7         5  8          4  9          3  10      \n",
       "⋅z  + 48⋅a⋅x ⋅z  + 112⋅a⋅x ⋅z  + 16⋅a⋅x ⋅z  + 160⋅a⋅x ⋅z  + 448⋅a⋅x ⋅z   + 576\n",
       "──────────────────────────────────────────────────────────────────────────────\n",
       "                                                                              \n",
       "                                                            ⎛        2      2⎞\n",
       "                                                    \\varphi⋅⎝-a⋅x + x  + 4⋅z ⎠\n",
       "\n",
       "    2  11             12    14      13        12  2       11  3      10  4    \n",
       "⋅a⋅x ⋅z   - 1280⋅a⋅x⋅z   + x   + 2⋅x  ⋅z - 8⋅x  ⋅z  - 12⋅x  ⋅z  - 8⋅x  ⋅z  - 4\n",
       "──────────────────────────────────────────────────────────────────────────────\n",
       "3                                                                             \n",
       "  ⎛     5        3  2           4    6      4  2       2  4       6⎞          \n",
       " ⋅⎝- a⋅x  + 2⋅a⋅x ⋅z  + 12⋅a⋅x⋅z  + x  - 6⋅x ⋅z  - 12⋅x ⋅z  - 32⋅z ⎠          \n",
       "\n",
       "   9  5       8  6       7  7       6  8        5  9        4  10         3  1\n",
       "8⋅x ⋅z  + 64⋅x ⋅z  + 48⋅x ⋅z  + 80⋅x ⋅z  + 480⋅x ⋅z  - 128⋅x ⋅z   + 1344⋅x ⋅z \n",
       "──────────────────────────────────────────────────────────────────────────────\n",
       "                                                                              \n",
       "                                                                              \n",
       "                                                                              \n",
       "\n",
       "1         2  12          13         14⎞                          ⎛     12     \n",
       "  - 4224⋅x ⋅z   - 512⋅x⋅z   + 1024⋅z  ⎠   -8⋅\\varphi__{\\prime}⋅z⋅⎝- a⋅x   - a⋅\n",
       "────────────────────────────────────────, ────────────────────────────────────\n",
       "                                                                              \n",
       "                                                                              \n",
       "                                                                              \n",
       "\n",
       " 11          10  2        9  3         8  4         7  5         6  6         \n",
       "x  ⋅z + 4⋅a⋅x  ⋅z  + 2⋅a⋅x ⋅z  + 24⋅a⋅x ⋅z  + 24⋅a⋅x ⋅z  + 16⋅a⋅x ⋅z  + 56⋅a⋅x\n",
       "──────────────────────────────────────────────────────────────────────────────\n",
       "                                                                              \n",
       "                                                                              \n",
       "                                                                              \n",
       "\n",
       "5  7         4  8         3  9          2  10            11          12    13 \n",
       " ⋅z  - 80⋅a⋅x ⋅z  + 80⋅a⋅x ⋅z  - 192⋅a⋅x ⋅z   + 288⋅a⋅x⋅z   + 128⋅a⋅z   + x   \n",
       "──────────────────────────────────────────────────────────────────────────────\n",
       "                                   3                                          \n",
       "                 ⎛        2      2⎞  ⎛     5        3  2           4    6     \n",
       "         \\varphi⋅⎝-a⋅x + x  + 4⋅z ⎠ ⋅⎝- a⋅x  + 2⋅a⋅x ⋅z  + 12⋅a⋅x⋅z  + x  - 6⋅\n",
       "\n",
       "   12        11  2      10  3       9  4       8  5       7  6       6  7     \n",
       "+ x  ⋅z - 8⋅x  ⋅z  - 6⋅x  ⋅z  - 16⋅x ⋅z  - 24⋅x ⋅z  + 80⋅x ⋅z  + 24⋅x ⋅z  + 30\n",
       "──────────────────────────────────────────────────────────────────────────────\n",
       "                                                                              \n",
       " 4  2       2  4       6⎞                                                     \n",
       "x ⋅z  - 12⋅x ⋅z  - 32⋅z ⎠                                                     \n",
       "\n",
       "   5  8        4  9        3  10        2  11           12        13⎞ ⎤\n",
       "4⋅x ⋅z  + 240⋅x ⋅z  + 512⋅x ⋅z   + 672⋅x ⋅z   + 1024⋅x⋅z   - 256⋅z  ⎠ ⎥\n",
       "──────────────────────────────────────────────────────────────────────⎥\n",
       "                                                                      ⎥\n",
       "                                                                      ⎥\n",
       "                                                                      ⎦"
      ]
     },
     "execution_count": 56,
     "metadata": {},
     "output_type": "execute_result"
    }
   ],
   "source": [
    "if gmeq.eta<1:\n",
    "    G_i_vxvz_a = [\n",
    "        ( factor((G_i_vxvz[0])).subs(e2d(a_subs_eqn,do_flip=True)) ),\n",
    "        ( factor((G_i_vxvz[1])).subs(e2d(a_subs_eqn,do_flip=True)) )\n",
    "    ]\n",
    "else:\n",
    "    G_i_vxvz_a = [\n",
    "        ( simplify((G_i_vxvz[0])).subs(e2d(a_subs_eqn,do_flip=True)) ),\n",
    "        ( simplify((G_i_vxvz[1])).subs(e2d(a_subs_eqn,do_flip=True)) )\n",
    "    ]\n",
    "G_i_vxvz_eqn = Eq(Gi, Matrix([G_i_.subs(e2d(a_subs_eqn,do_flip=False)) for G_i_ in G_i_vxvz_a]))\n",
    "G_i_vxvz_a"
   ]
  },
  {
   "cell_type": "code",
   "execution_count": 57,
   "metadata": {
    "hidden": true
   },
   "outputs": [
    {
     "data": {
      "image/png": "[encoded data removed]",
      "text/latex": [
       "$\\displaystyle \\left( G^{1}, \\  - \\frac{4 \\varphi^{\\prime} \\left(x^{14} + 2 x^{13} z - x^{13} \\sqrt{x^{2} - 8 z^{2}} - 8 x^{12} z^{2} - 2 x^{12} z \\sqrt{x^{2} - 8 z^{2}} - 12 x^{11} z^{3} + 4 x^{11} z^{2} \\sqrt{x^{2} - 8 z^{2}} - 8 x^{10} z^{4} + 4 x^{10} z^{3} \\sqrt{x^{2} - 8 z^{2}} - 48 x^{9} z^{5} + 16 x^{9} z^{4} \\sqrt{x^{2} - 8 z^{2}} + 64 x^{8} z^{6} + 48 x^{8} z^{5} \\sqrt{x^{2} - 8 z^{2}} + 48 x^{7} z^{7} + 80 x^{6} z^{8} + 112 x^{6} z^{7} \\sqrt{x^{2} - 8 z^{2}} + 480 x^{5} z^{9} + 16 x^{5} z^{8} \\sqrt{x^{2} - 8 z^{2}} - 128 x^{4} z^{10} + 160 x^{4} z^{9} \\sqrt{x^{2} - 8 z^{2}} + 1344 x^{3} z^{11} + 448 x^{3} z^{10} \\sqrt{x^{2} - 8 z^{2}} - 4224 x^{2} z^{12} + 576 x^{2} z^{11} \\sqrt{x^{2} - 8 z^{2}} - 512 x z^{13} - 1280 x z^{12} \\sqrt{x^{2} - 8 z^{2}} + 1024 z^{14}\\right)}{\\varphi \\left(x^{2} - x \\sqrt{x^{2} - 8 z^{2}} + 4 z^{2}\\right)^{3} \\left(x^{6} - x^{5} \\sqrt{x^{2} - 8 z^{2}} - 6 x^{4} z^{2} + 2 x^{3} z^{2} \\sqrt{x^{2} - 8 z^{2}} - 12 x^{2} z^{4} + 12 x z^{4} \\sqrt{x^{2} - 8 z^{2}} - 32 z^{6}\\right)}\\right)$"
      ],
      "text/plain": [
       "⎛                         ⎛                       ___________                 \n",
       "⎜                         ⎜ 14      13      13   ╱  2      2       12  2      \n",
       "⎜    -4⋅\\varphi__{\\prime}⋅⎝x   + 2⋅x  ⋅z - x  ⋅╲╱  x  - 8⋅z   - 8⋅x  ⋅z  - 2⋅x\n",
       "⎜G¹, ─────────────────────────────────────────────────────────────────────────\n",
       "⎜                                                                             \n",
       "⎜                                                                             \n",
       "⎜                                                                             \n",
       "⎝                                                                             \n",
       "\n",
       "        ___________                           ___________                     \n",
       "12     ╱  2      2        11  3      11  2   ╱  2      2       10  4      10  \n",
       "  ⋅z⋅╲╱  x  - 8⋅z   - 12⋅x  ⋅z  + 4⋅x  ⋅z ⋅╲╱  x  - 8⋅z   - 8⋅x  ⋅z  + 4⋅x  ⋅z\n",
       "──────────────────────────────────────────────────────────────────────────────\n",
       "                                                                              \n",
       "                                                                              \n",
       "                                                                              \n",
       "                                                                              \n",
       "\n",
       "     ___________                          ___________                         \n",
       "3   ╱  2      2        9  5       9  4   ╱  2      2        8  6       8  5   \n",
       " ⋅╲╱  x  - 8⋅z   - 48⋅x ⋅z  + 16⋅x ⋅z ⋅╲╱  x  - 8⋅z   + 64⋅x ⋅z  + 48⋅x ⋅z ⋅╲╱\n",
       "──────────────────────────────────────────────────────────────────────────────\n",
       "                                                                    3         \n",
       "                                      ⎛          ___________       ⎞  ⎛       \n",
       "                                      ⎜ 2       ╱  2      2       2⎟  ⎜ 6    5\n",
       "                              \\varphi⋅⎝x  - x⋅╲╱  x  - 8⋅z   + 4⋅z ⎠ ⋅⎝x  - x \n",
       "\n",
       " ___________                                      ___________                 \n",
       "╱  2      2        7  7       6  8        6  7   ╱  2      2         5  9     \n",
       "  x  - 8⋅z   + 48⋅x ⋅z  + 80⋅x ⋅z  + 112⋅x ⋅z ⋅╲╱  x  - 8⋅z   + 480⋅x ⋅z  + 16\n",
       "──────────────────────────────────────────────────────────────────────────────\n",
       "                                                                              \n",
       "    ___________                        ___________                         ___\n",
       "   ╱  2      2       4  2      3  2   ╱  2      2        2  4         4   ╱  2\n",
       "⋅╲╱  x  - 8⋅z   - 6⋅x ⋅z  + 2⋅x ⋅z ⋅╲╱  x  - 8⋅z   - 12⋅x ⋅z  + 12⋅x⋅z ⋅╲╱  x \n",
       "\n",
       "          ___________                             ___________                 \n",
       "  5  8   ╱  2      2         4  10        4  9   ╱  2      2          3  11   \n",
       "⋅x ⋅z ⋅╲╱  x  - 8⋅z   - 128⋅x ⋅z   + 160⋅x ⋅z ⋅╲╱  x  - 8⋅z   + 1344⋅x ⋅z   + \n",
       "──────────────────────────────────────────────────────────────────────────────\n",
       "                                                                              \n",
       "________        ⎞                                                             \n",
       "      2        6⎟                                                             \n",
       " - 8⋅z   - 32⋅z ⎠                                                             \n",
       "\n",
       "              ___________                               ___________           \n",
       "     3  10   ╱  2      2          2  12        2  11   ╱  2      2           1\n",
       "448⋅x ⋅z  ⋅╲╱  x  - 8⋅z   - 4224⋅x ⋅z   + 576⋅x ⋅z  ⋅╲╱  x  - 8⋅z   - 512⋅x⋅z \n",
       "──────────────────────────────────────────────────────────────────────────────\n",
       "                                                                              \n",
       "                                                                              \n",
       "                                                                              \n",
       "                                                                              \n",
       "\n",
       "                  ___________           ⎞ ⎞\n",
       "3           12   ╱  2      2          14⎟ ⎟\n",
       "  - 1280⋅x⋅z  ⋅╲╱  x  - 8⋅z   + 1024⋅z  ⎠ ⎟\n",
       "──────────────────────────────────────────⎟\n",
       "                                          ⎟\n",
       "                                          ⎟\n",
       "                                          ⎟\n",
       "                                          ⎠"
      ]
     },
     "execution_count": 57,
     "metadata": {},
     "output_type": "execute_result"
    }
   ],
   "source": [
    "G1, G_i_vxvz_eqn.rhs[0]"
   ]
  },
  {
   "cell_type": "code",
   "execution_count": 58,
   "metadata": {
    "hidden": true
   },
   "outputs": [
    {
     "data": {
      "image/png": "[encoded data removed]",
      "text/latex": [
       "$\\displaystyle \\left( G^{2}, \\  - \\frac{8 \\varphi^{\\prime} z \\left(x^{13} + x^{12} z - x^{12} \\sqrt{x^{2} - 8 z^{2}} - 8 x^{11} z^{2} - x^{11} z \\sqrt{x^{2} - 8 z^{2}} - 6 x^{10} z^{3} + 4 x^{10} z^{2} \\sqrt{x^{2} - 8 z^{2}} - 16 x^{9} z^{4} + 2 x^{9} z^{3} \\sqrt{x^{2} - 8 z^{2}} - 24 x^{8} z^{5} + 24 x^{8} z^{4} \\sqrt{x^{2} - 8 z^{2}} + 80 x^{7} z^{6} + 24 x^{7} z^{5} \\sqrt{x^{2} - 8 z^{2}} + 24 x^{6} z^{7} + 16 x^{6} z^{6} \\sqrt{x^{2} - 8 z^{2}} + 304 x^{5} z^{8} + 56 x^{5} z^{7} \\sqrt{x^{2} - 8 z^{2}} + 240 x^{4} z^{9} - 80 x^{4} z^{8} \\sqrt{x^{2} - 8 z^{2}} + 512 x^{3} z^{10} + 80 x^{3} z^{9} \\sqrt{x^{2} - 8 z^{2}} + 672 x^{2} z^{11} - 192 x^{2} z^{10} \\sqrt{x^{2} - 8 z^{2}} + 1024 x z^{12} + 288 x z^{11} \\sqrt{x^{2} - 8 z^{2}} - 256 z^{13} + 128 z^{12} \\sqrt{x^{2} - 8 z^{2}}\\right)}{\\varphi \\left(x^{2} - x \\sqrt{x^{2} - 8 z^{2}} + 4 z^{2}\\right)^{3} \\left(x^{6} - x^{5} \\sqrt{x^{2} - 8 z^{2}} - 6 x^{4} z^{2} + 2 x^{3} z^{2} \\sqrt{x^{2} - 8 z^{2}} - 12 x^{2} z^{4} + 12 x z^{4} \\sqrt{x^{2} - 8 z^{2}} - 32 z^{6}\\right)}\\right)$"
      ],
      "text/plain": [
       "⎛                           ⎛                     ___________                 \n",
       "⎜                           ⎜ 13    12      12   ╱  2      2       11  2    11\n",
       "⎜    -8⋅\\varphi__{\\prime}⋅z⋅⎝x   + x  ⋅z - x  ⋅╲╱  x  - 8⋅z   - 8⋅x  ⋅z  - x  \n",
       "⎜G², ─────────────────────────────────────────────────────────────────────────\n",
       "⎜                                                                             \n",
       "⎜                                                                             \n",
       "⎜                                                                             \n",
       "⎝                                                                             \n",
       "\n",
       "      ___________                          ___________                        \n",
       "     ╱  2      2       10  3      10  2   ╱  2      2        9  4      9  3   \n",
       "⋅z⋅╲╱  x  - 8⋅z   - 6⋅x  ⋅z  + 4⋅x  ⋅z ⋅╲╱  x  - 8⋅z   - 16⋅x ⋅z  + 2⋅x ⋅z ⋅╲╱\n",
       "──────────────────────────────────────────────────────────────────────────────\n",
       "                                                                              \n",
       "                                                                              \n",
       "                                                                              \n",
       "                                                                              \n",
       "\n",
       " ___________                          ___________                          ___\n",
       "╱  2      2        8  5       8  4   ╱  2      2        7  6       7  5   ╱  2\n",
       "  x  - 8⋅z   - 24⋅x ⋅z  + 24⋅x ⋅z ⋅╲╱  x  - 8⋅z   + 80⋅x ⋅z  + 24⋅x ⋅z ⋅╲╱  x \n",
       "──────────────────────────────────────────────────────────────────────────────\n",
       "                                                                     3        \n",
       "                                       ⎛          ___________       ⎞  ⎛      \n",
       "                                       ⎜ 2       ╱  2      2       2⎟  ⎜ 6    \n",
       "                               \\varphi⋅⎝x  - x⋅╲╱  x  - 8⋅z   + 4⋅z ⎠ ⋅⎝x  - x\n",
       "\n",
       "________                          ___________                           ______\n",
       "      2        6  7       6  6   ╱  2      2         5  8       5  7   ╱  2   \n",
       " - 8⋅z   + 24⋅x ⋅z  + 16⋅x ⋅z ⋅╲╱  x  - 8⋅z   + 304⋅x ⋅z  + 56⋅x ⋅z ⋅╲╱  x  - \n",
       "──────────────────────────────────────────────────────────────────────────────\n",
       "                                                                              \n",
       "     ___________                        ___________                         __\n",
       "5   ╱  2      2       4  2      3  2   ╱  2      2        2  4         4   ╱  \n",
       " ⋅╲╱  x  - 8⋅z   - 6⋅x ⋅z  + 2⋅x ⋅z ⋅╲╱  x  - 8⋅z   - 12⋅x ⋅z  + 12⋅x⋅z ⋅╲╱  x\n",
       "\n",
       "_____                           ___________                            _______\n",
       "   2         4  9       4  8   ╱  2      2         3  10       3  9   ╱  2    \n",
       "8⋅z   + 240⋅x ⋅z  - 80⋅x ⋅z ⋅╲╱  x  - 8⋅z   + 512⋅x ⋅z   + 80⋅x ⋅z ⋅╲╱  x  - 8\n",
       "──────────────────────────────────────────────────────────────────────────────\n",
       "                                                                              \n",
       "_________        ⎞                                                            \n",
       "2      2        6⎟                                                            \n",
       "  - 8⋅z   - 32⋅z ⎠                                                            \n",
       "\n",
       "____                              ___________                             ____\n",
       "  2         2  11        2  10   ╱  2      2            12          11   ╱  2 \n",
       "⋅z   + 672⋅x ⋅z   - 192⋅x ⋅z  ⋅╲╱  x  - 8⋅z   + 1024⋅x⋅z   + 288⋅x⋅z  ⋅╲╱  x  \n",
       "──────────────────────────────────────────────────────────────────────────────\n",
       "                                                                              \n",
       "                                                                              \n",
       "                                                                              \n",
       "                                                                              \n",
       "\n",
       "_______                        ___________⎞ ⎞\n",
       "     2         13        12   ╱  2      2 ⎟ ⎟\n",
       "- 8⋅z   - 256⋅z   + 128⋅z  ⋅╲╱  x  - 8⋅z  ⎠ ⎟\n",
       "────────────────────────────────────────────⎟\n",
       "                                            ⎟\n",
       "                                            ⎟\n",
       "                                            ⎟\n",
       "                                            ⎠"
      ]
     },
     "execution_count": 58,
     "metadata": {},
     "output_type": "execute_result"
    }
   ],
   "source": [
    "G2, G_i_vxvz_eqn.rhs[1]"
   ]
  },
  {
   "cell_type": "markdown",
   "metadata": {
    "heading_collapsed": true
   },
   "source": [
    "# Tests"
   ]
  },
  {
   "cell_type": "markdown",
   "metadata": {
    "heading_collapsed": true,
    "hidden": true
   },
   "source": [
    "## Rederivation of metric tensor $g$ from $L$"
   ]
  },
  {
   "cell_type": "code",
   "execution_count": null,
   "metadata": {
    "hidden": true
   },
   "outputs": [],
   "source": [
    "sub_ = {rdotx:vx_, rdotz:vz_, px:px_,pz:pz_, varphi:varphi_}\n",
    "sub_"
   ]
  },
  {
   "cell_type": "code",
   "execution_count": null,
   "metadata": {
    "hidden": true
   },
   "outputs": [],
   "source": [
    "L_ = L_compact_eqn.rhs\n",
    "L_.subs({rdotx:vx, rdotz:vz})"
   ]
  },
  {
   "cell_type": "markdown",
   "metadata": {
    "hidden": true
   },
   "source": [
    "Differentiate $L = \\tfrac{1}{2}F^2$ with respect to velocity $v$, remembering that $\\varphi(x)$ is a function of horizontal position $x$ only, and is not dependent on $v$."
   ]
  },
  {
   "cell_type": "code",
   "execution_count": null,
   "metadata": {
    "hidden": true
   },
   "outputs": [],
   "source": [
    "dLdv = Matrix([ diff(L_,rdotx), diff(L_,rdotz) ]) \n",
    "d2Ldvxdvx = diff(dLdv[0],rdotx)\n",
    "d2Ldvxdvz = diff(dLdv[0],rdotz)\n",
    "d2Ldvzdvx = diff(dLdv[1],rdotx)\n",
    "d2Ldvzdvz = diff(dLdv[1],rdotz)\n",
    "d2Ldv2 = (Matrix([[d2Ldvxdvx,d2Ldvxdvz],[d2Ldvzdvx,d2Ldvzdvz]]))\n",
    "g_from_L_eqn = simplify(Eq(g, d2Ldv2))"
   ]
  },
  {
   "cell_type": "code",
   "execution_count": null,
   "metadata": {
    "hidden": true
   },
   "outputs": [],
   "source": [
    "g_p_ = g_pxpz_eqn.subs(sub_)\n",
    "g_p_"
   ]
  },
  {
   "cell_type": "code",
   "execution_count": null,
   "metadata": {
    "hidden": true
   },
   "outputs": [],
   "source": [
    "g_v_ = Eq(g, N(g_from_L_eqn.rhs.subs(sub_)))\n",
    "g_v_"
   ]
  },
  {
   "cell_type": "code",
   "execution_count": null,
   "metadata": {
    "hidden": true
   },
   "outputs": [],
   "source": [
    "g_v_.rhs - g_p_.rhs"
   ]
  },
  {
   "cell_type": "code",
   "execution_count": null,
   "metadata": {
    "hidden": true
   },
   "outputs": [],
   "source": [
    "px_alt_, pz_alt_ = 0.7, -1\n",
    "vx_alt_ = vx_px_pz_eqn.rhs.subs({px:px_alt_,pz:pz_alt_,varphi:varphi_})\n",
    "vz_alt_ = vz_px_pz_eqn.rhs.subs({px:px_alt_,pz:pz_alt_,varphi:varphi_})\n",
    "vx_alt_,vz_alt_\n",
    "sub_alt_ = {rdotx:vx_alt_, rdotz:vz_alt_, px:px_alt_,pz:pz_alt_, varphi:varphi_}\n",
    "sub_alt_"
   ]
  },
  {
   "cell_type": "code",
   "execution_count": null,
   "metadata": {
    "hidden": true
   },
   "outputs": [],
   "source": [
    "g_p_ = g_pxpz_eqn.subs(sub_alt_)\n",
    "g_p_"
   ]
  },
  {
   "cell_type": "code",
   "execution_count": null,
   "metadata": {
    "hidden": true
   },
   "outputs": [],
   "source": [
    "g_v_ = Eq(g, N(g_from_L_eqn.rhs.subs(sub_alt_)))\n",
    "g_v_"
   ]
  },
  {
   "cell_type": "code",
   "execution_count": null,
   "metadata": {
    "hidden": true
   },
   "outputs": [],
   "source": [
    "g_v_.rhs - g_p_.rhs"
   ]
  },
  {
   "cell_type": "markdown",
   "metadata": {
    "heading_collapsed": true,
    "hidden": true
   },
   "source": [
    "## Local tests"
   ]
  },
  {
   "cell_type": "code",
   "execution_count": null,
   "metadata": {
    "hidden": true
   },
   "outputs": [],
   "source": [
    "round(N(px_vx_vz_eqn.rhs.subs({rdotx:vx_,rdotz:vz_,varphi:varphi_})),3), \\\n",
    "round(N(pz_vx_vz_eqn.rhs.subs({rdotx:vx_,rdotz:vz_,varphi:varphi_})),3)"
   ]
  },
  {
   "cell_type": "code",
   "execution_count": null,
   "metadata": {
    "hidden": true
   },
   "outputs": [],
   "source": [
    "px_ = N(px_vx_vz_eqn.rhs.subs({rdotx:vx_,rdotz:vz_}).subs({varphi:varphi_}))\n",
    "pz_ = N(pz_vx_vz_eqn.rhs.subs({rdotx:vx_,rdotz:vz_}).subs({varphi:varphi_}))\n",
    "px_, pz_"
   ]
  },
  {
   "cell_type": "code",
   "execution_count": null,
   "metadata": {
    "hidden": true
   },
   "outputs": [],
   "source": [
    "px_ = px_vx_vz_lambda(varphi_,vx_,vz_)\n",
    "pz_ = pz_vx_vz_lambda(varphi_,vx_,vz_)\n",
    "px_, pz_"
   ]
  },
  {
   "cell_type": "code",
   "execution_count": null,
   "metadata": {
    "hidden": true
   },
   "outputs": [],
   "source": [
    "Matrix([px_,pz_]).dot(Matrix([vx_,vz_]))"
   ]
  },
  {
   "cell_type": "code",
   "execution_count": null,
   "metadata": {
    "hidden": true
   },
   "outputs": [],
   "source": [
    "sub_ = {rdotx:vx_,rdotz:vz_,varphi:varphi_, px:px_, pz:pz_}"
   ]
  },
  {
   "cell_type": "code",
   "execution_count": null,
   "metadata": {
    "hidden": true
   },
   "outputs": [],
   "source": [
    "Matrix([\n",
    "    N(L_raw_eqn.subs(sub_)), \n",
    "    Eq(L,L_raw_lambda(varphi_,px_,pz_,vx_,vz_)),\n",
    "    N(L_interim_eqn.subs(sub_)), \n",
    "    N(L_manipulated_eqn.subs(sub_)), \n",
    "    N(L_compact_eqn.subs(sub_)), \n",
    "    Eq(L,L_lambda(varphi_,vx_,vz_))\n",
    "])"
   ]
  },
  {
   "cell_type": "markdown",
   "metadata": {
    "heading_collapsed": true,
    "hidden": true
   },
   "source": [
    "## Indicatrix/figuratrix tests"
   ]
  },
  {
   "cell_type": "code",
   "execution_count": null,
   "metadata": {
    "hidden": true
   },
   "outputs": [],
   "source": [
    "if gmeq.eta<1:\n",
    "    varphi_plot_ = 1\n",
    "else:\n",
    "    varphi_plot_ = 1"
   ]
  },
  {
   "cell_type": "code",
   "execution_count": null,
   "metadata": {
    "hidden": true
   },
   "outputs": [],
   "source": [
    "sub_plot_ = {varphi_r:varphi_plot_, eta:gmeq.eta}"
   ]
  },
  {
   "cell_type": "code",
   "execution_count": null,
   "metadata": {
    "hidden": true
   },
   "outputs": [],
   "source": [
    "H_lambdified = lambdify([varphi,px,pz],H_eqn.rhs)\n",
    "H_lambda = lambda f_,px_,pz_: float(N(H_lambdified(f_,px_,pz_)))"
   ]
  },
  {
   "cell_type": "code",
   "execution_count": null,
   "metadata": {
    "hidden": true
   },
   "outputs": [],
   "source": [
    "H_parametric_eqn = Eq((2*gmeq.H_eqn.rhs)**2,1).subs(sub_plot_)\n",
    "px_H_solns = [simplify(sqrt(soln)) for soln in solve( H_parametric_eqn ,px**2)]\n",
    "pz_H_solns = [simplify(sqrt(soln)).subs({Abs(px):px}) for soln in solve( H_parametric_eqn ,pz**2)]\n",
    "px_H_soln_ = [soln for soln in px_H_solns if Abs(sy.im(N(soln.subs({pz:1}))))<1e-10][0]\n",
    "px_H_lambda = lambdify( [pz], simplify(px_H_soln_) )\n",
    "numer(simplify(px_H_soln_))"
   ]
  },
  {
   "cell_type": "code",
   "execution_count": null,
   "metadata": {
    "hidden": true
   },
   "outputs": [],
   "source": [
    "pz_min_eqn = Eq(pz_min, 0)\n",
    "px_min_eqn = Eq(px_min, \n",
    "                sqrt(solve(Eq((\n",
    "                solve(Eq(4*gmeq.H_eqn.rhs**2,1).subs(sub_plot_),pz**2)[:])[0],0)\n",
    "                               ,px**2)[1]))\n",
    "tanbeta_max_eqn = Eq(tan(beta_max),sy.oo)\n",
    "tanbeta_max = None\n",
    "px_min_ = round(float(N(px_min_eqn.rhs.subs(sub_plot_))),4)\n",
    "pz_min_ = round(float(N(pz_min_eqn.rhs.subs(sub_plot_))),8)\n",
    "px_min_, -pz_min_, np.rad2deg(np.arctan(px_min_/pz_min_)) if pz_min_>0 else None"
   ]
  },
  {
   "cell_type": "code",
   "execution_count": null,
   "metadata": {
    "hidden": true
   },
   "outputs": [],
   "source": [
    "v_from_gstar_lambda_tmp = lambdify((px,pz),\n",
    "                N(gmeq.gstar_varphi_pxpz_eqn.subs(sub_plot_).rhs*Matrix([px,pz])))\n",
    "v_from_gstar_lambda = lambda px_,pz_: (v_from_gstar_lambda_tmp(px_,pz_)).flatten()\n",
    "v_lambda = lambda pa: np.array([(v_from_gstar_lambda(px_,pz_)) for px_,pz_ in pa])\n",
    "# gmeq.gstar_varphi_pxpz_eqn"
   ]
  },
  {
   "cell_type": "code",
   "execution_count": null,
   "metadata": {
    "hidden": true
   },
   "outputs": [],
   "source": [
    "if gmeq.eta==Rational(3,2):\n",
    "    pz_max_ = 100\n",
    "else:\n",
    "    pz_max_ = 50\n",
    "pz_array = -10**np.linspace(np.log10(pz_min_ if pz_min_>0 else 1e-1), np.log10(pz_max_), 50)\n",
    "px_array = px_H_lambda(pz_array)\n",
    "p_array = np.vstack([px_array,pz_array]).T\n",
    "p_array = p_array[np.isfinite(p_array[:,0]) & np.isfinite(p_array[:,1])]\n",
    "\n",
    "modp_array = norm(p_array,axis=0)\n",
    "tanbeta_crit = float(N(gmeq.tanbeta_crit_eqn.rhs.subs({eta:gmeq.eta})))\n",
    "\n",
    "p_infc_array = p_array[np.abs(p_array[:,0]/p_array[:,1])<tanbeta_crit]\n",
    "p_supc_array = p_array[np.abs(p_array[:,0]/p_array[:,1])>=tanbeta_crit]\n",
    "\n",
    "v_infc_array = v_lambda(p_infc_array)\n",
    "v_supc_array = v_lambda(p_supc_array)\n",
    "v_array = v_lambda(p_array)\n",
    "# v_array"
   ]
  },
  {
   "cell_type": "code",
   "execution_count": null,
   "metadata": {
    "hidden": true
   },
   "outputs": [],
   "source": [
    "p_from_v_array = np.array([p_vx_vz_lambda(varphi_plot_,v_) for v_ in v_array[::1]])\n",
    "len(p_from_v_array), len(p_array)"
   ]
  },
  {
   "cell_type": "code",
   "execution_count": null,
   "metadata": {
    "hidden": true
   },
   "outputs": [],
   "source": [
    "p_from_v_trunc_raw_array = p_from_v_array[np.isfinite((p_from_v_array[:,0])) \n",
    "                                          & np.isfinite((p_from_v_array[:,1]))]\n",
    "v_from_v_trunc_raw_array = v_array[np.isfinite((p_from_v_array[:,0])) \n",
    "                                   & np.isfinite((p_from_v_array[:,1]))]\n",
    "len(p_from_v_trunc_raw_array), len(v_from_v_trunc_raw_array)"
   ]
  },
  {
   "cell_type": "code",
   "execution_count": null,
   "metadata": {
    "hidden": true
   },
   "outputs": [],
   "source": [
    "p_trunc1_array = p_from_v_trunc_raw_array[1:]\n",
    "p_trunc0_array = p_from_v_trunc_raw_array[:-1]\n",
    "p_trunc1_array-p_trunc0_array\n",
    "p_from_v_trunc_array = p_trunc0_array[(p_trunc1_array[:,1]-p_trunc0_array[:,1])<0]\n",
    "v_trunc0_array = v_from_v_trunc_raw_array[:-1]\n",
    "v_from_v_trunc_array = v_trunc0_array[(p_trunc1_array[:,1]-p_trunc0_array[:,1])<0]"
   ]
  },
  {
   "cell_type": "code",
   "execution_count": null,
   "metadata": {
    "hidden": true
   },
   "outputs": [],
   "source": [
    "p_from_v_infc_array = p_from_v_trunc_array[np.abs(p_from_v_trunc_array[:,0]\n",
    "                                            /p_from_v_trunc_array[:,1])<tanbeta_crit]\n",
    "p_from_v_supc_array = p_from_v_trunc_array[np.abs(p_from_v_trunc_array[:,0]\n",
    "                                            /p_from_v_trunc_array[:,1])>=tanbeta_crit]"
   ]
  },
  {
   "cell_type": "code",
   "execution_count": null,
   "metadata": {
    "hidden": true
   },
   "outputs": [],
   "source": [
    "[np.round(np.dot(p_,v_),3) for p_,v_ in (zip(p_from_v_infc_array,v_infc_array))]"
   ]
  },
  {
   "cell_type": "code",
   "execution_count": null,
   "metadata": {
    "hidden": true
   },
   "outputs": [],
   "source": [
    "[np.round(np.dot(p_,v_),3) for p_,v_ in (zip(p_infc_array,v_infc_array))]"
   ]
  },
  {
   "cell_type": "code",
   "execution_count": null,
   "metadata": {
    "hidden": true
   },
   "outputs": [],
   "source": [
    "[round(p_[0]*v_[0]+p_[1]*v_[1],3) for p_,v_ in (zip(p_infc_array,v_infc_array))]"
   ]
  },
  {
   "cell_type": "code",
   "execution_count": null,
   "metadata": {
    "hidden": true
   },
   "outputs": [],
   "source": [
    "[np.round(H_lambda(varphi_plot_, px_,pz_),4) for px_,pz_ in p_from_v_infc_array]"
   ]
  },
  {
   "cell_type": "code",
   "execution_count": null,
   "metadata": {
    "hidden": true
   },
   "outputs": [],
   "source": [
    "[np.round(H_lambda(varphi_plot_, px_,pz_),4) for px_,pz_ in p_infc_array]"
   ]
  },
  {
   "cell_type": "code",
   "execution_count": null,
   "metadata": {
    "hidden": true
   },
   "outputs": [],
   "source": [
    "H_eqn, L_raw_eqn"
   ]
  },
  {
   "cell_type": "code",
   "execution_count": null,
   "metadata": {
    "hidden": true
   },
   "outputs": [],
   "source": [
    "[round(H_eqn.rhs.subs({varphi:varphi_plot_,px:px_,pz:pz_}),2) \n",
    "         for [px_,pz_],[vx_,vz] in zip(p_infc_array,v_infc_array)]"
   ]
  },
  {
   "cell_type": "code",
   "execution_count": null,
   "metadata": {
    "hidden": true
   },
   "outputs": [],
   "source": [
    "[round((px*rdotx+pz*rdotz).subs({px:p_[0],pz:p_[1],rdotx:v_[0],rdotz:v_[1]}),3) \n",
    "         for (p_,v_) in zip(p_infc_array,v_infc_array)]"
   ]
  },
  {
   "cell_type": "code",
   "execution_count": null,
   "metadata": {
    "hidden": true
   },
   "outputs": [],
   "source": [
    "[np.round(L_raw_lambda(varphi_plot_, *p_,*v_),4) \n",
    "         for (p_,v_) in zip(p_infc_array,v_infc_array)]"
   ]
  },
  {
   "cell_type": "code",
   "execution_count": null,
   "metadata": {
    "hidden": true
   },
   "outputs": [],
   "source": [
    "# [np.round(L_lambda(varphi_, *v_),4) for v_ in v_infc_array]"
   ]
  },
  {
   "cell_type": "markdown",
   "metadata": {},
   "source": [
    "# Plot"
   ]
  },
  {
   "cell_type": "code",
   "execution_count": null,
   "metadata": {},
   "outputs": [],
   "source": [
    "fig = gr.create_figure(job_name+'_Fstar_F_rectlinear', fig_size=(7,7))\n",
    "plt.plot(p_supc_array[:,0],p_supc_array[:,1], 'Blue', lw=2, ls='-', \n",
    "         label=r'$F^*\\!\\!=1$,  $\\beta\\geq\\beta_\\mathrm{c}$')\n",
    "plt.plot(p_infc_array[:,0],p_infc_array[:,1], 'DarkBlue', lw=2, ls='-', \n",
    "         label=r'$F^*\\!\\!=1$,  $\\beta<\\beta_\\mathrm{c}$')\n",
    "\n",
    "plt.plot(p_from_v_supc_array[:,0],p_from_v_supc_array[:,1], 'Blue', lw=4, ls='-', \n",
    "         label=r'$F^*\\!\\!=1$,  $\\beta\\geq\\beta_\\mathrm{c}$')\n",
    "plt.plot(p_from_v_infc_array[:,0],p_from_v_infc_array[:,1], 'DarkBlue', lw=4, ls=':', \n",
    "         label=r'$F^*\\!\\!=1$,  $\\beta<\\beta_\\mathrm{c}$')\n",
    "\n",
    "plt.plot(v_supc_array[:,0],v_supc_array[:,1], 'Red', lw=2, ls='-', \n",
    "         label=r'$F=1$,  $\\beta\\geq\\beta_\\mathrm{c}$')\n",
    "# plt.plot([0,vx_abcrit_],[0,vz_abcrit_], \n",
    "#          '-.', color='DarkRed', lw=1, label=r'$\\alpha_{\\mathrm{c}}$')\n",
    "plt.plot(v_infc_array[:,0],v_infc_array[:,1], 'DarkRed', lw=2, \n",
    "         ls='-', \n",
    "         label=r'$F=1$,  $\\beta<\\beta_\\mathrm{c}$')\n",
    "plt.xlabel(r'$p_x$ (for $F^*$)  or  $v^x$ (for $F$)', fontsize=14)\n",
    "plt.ylabel(r'$p_z$ (for $F^*$)  or  $v^z$ (for $F$)', fontsize=14)\n",
    "plt.xlim(0,2)\n",
    "plt.ylim(-3,0.5);\n",
    "plt.plot(px_,pz_,'o')\n",
    "px_,pz_"
   ]
  },
  {
   "cell_type": "code",
   "execution_count": null,
   "metadata": {},
   "outputs": [],
   "source": [
    "gmeq.eta"
   ]
  }
 ],
 "metadata": {
  "hide_input": false,
  "kernelspec": {
   "display_name": "Python 3",
   "language": "python",
   "name": "python3"
  },
  "language_info": {
   "codemirror_mode": {
    "name": "ipython",
    "version": 3
   },
   "file_extension": ".py",
   "mimetype": "text/x-python",
   "name": "python",
   "nbconvert_exporter": "python",
   "pygments_lexer": "ipython3",
   "version": "3.8.7"
  }
 },
 "nbformat": 4,
 "nbformat_minor": 4
}
