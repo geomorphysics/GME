{
 "cells": [
  {
   "cell_type": "markdown",
   "metadata": {},
   "source": [
    "# Summary"
   ]
  },
  {
   "cell_type": "markdown",
   "metadata": {},
   "source": [
    "Explore derivation of indicatrix and figuratrix. "
   ]
  },
  {
   "cell_type": "markdown",
   "metadata": {
    "heading_collapsed": true
   },
   "source": [
    "### Parameter files"
   ]
  },
  {
   "cell_type": "code",
   "execution_count": 1,
   "metadata": {
    "hidden": true
   },
   "outputs": [],
   "source": [
    "# Specify the parameter files for the job\n",
    "import os\n",
    "if 'GME_NB_PR' not in os.environ.keys():\n",
    "    pr_filenames = ['IndicatrixExploration_sinbeta_eta1p5']\n",
    "#     pr_filenames = ['IndicatrixExploration_sinbeta_eta0p5']\n",
    "else:\n",
    "    pr_filenames = eval(os.environ['GME_NB_PR'])"
   ]
  },
  {
   "cell_type": "markdown",
   "metadata": {
    "heading_collapsed": true
   },
   "source": [
    "### Preliminaries"
   ]
  },
  {
   "cell_type": "code",
   "execution_count": 2,
   "metadata": {
    "hidden": true
   },
   "outputs": [
    {
     "name": "stdout",
     "output_type": "stream",
     "text": [
      "Deducing working path from GME package location = /Users/colinstark/Projects/GME\n"
     ]
    },
    {
     "data": {
      "text/plain": [
       "('/Users/colinstark/Projects/GME/Parameters/Theory',\n",
       " ['IndicatrixExploration_sinbeta_eta1p5'])"
      ]
     },
     "execution_count": 2,
     "metadata": {},
     "output_type": "execute_result"
    }
   ],
   "source": [
    "# Import Numpy\n",
    "import numpy as np\n",
    "\n",
    "# Import SymPy and set up latex inline & pretty dict printing\n",
    "from sympy import Matrix, Eq, lambdify, poly, \\\n",
    "    simplify, factor, expand, cancel, collect, expand_trig, \\\n",
    "    sin,cos,tan,sec, atan, Rational, sqrt, solve, Abs, N, re, im, \\\n",
    "    diff, pi, numer, denom,init_printing\n",
    "# Set up latex inline printing\n",
    "init_printing(pretty_print=True,wrap_line=True)\n",
    "\n",
    "# Import units & dimensions\n",
    "from sympy.physics.units import degrees\n",
    "from sympy.physics.units.systems import SI\n",
    "\n",
    "# Pretty dict printing etc\n",
    "from pprint import PrettyPrinter\n",
    "pp = PrettyPrinter(indent=4).pprint\n",
    "from datetime import datetime\n",
    "\n",
    "# Scipy utils\n",
    "from scipy.optimize import root_scalar\n",
    "from scipy.linalg import norm\n",
    "\n",
    "# Import Geomorphysics library functions, classes\n",
    "from gmplib.utils import numify, export_results, e2d\n",
    "from gmplib.save import create_directories, export_plots\n",
    "from gmplib.parameters import import_parameters, Parameters\n",
    "\n",
    "# Import GME classes and do a wildcard (!) import of all GME symbol definitions\n",
    "from gme.core.symbols import *\n",
    "from gme.core.equations import Equations\n",
    "from gme.plot.indicatrix_new import IndicatrixNew\n",
    "\n",
    "# Decide where we're working and thus where to find the job parameter files\n",
    "#   -  use the GME_WORKING_PATH environment variable if it's defined\n",
    "#   -  otherwise, deduce that we're working in the GME notebook dir\n",
    "if 'GME_WORKING_PATH' in os.environ.keys():\n",
    "    working_path = os.environ['GME_WORKING_PATH']\n",
    "    print(f'Fetching working path from environment variable GME_WORKING_PATH = {working_path}')\n",
    "else:\n",
    "    from gmplib.utils import get_pkg_path\n",
    "    import gme\n",
    "    working_path = get_pkg_path(gme, dirname='')\n",
    "    print(f'Deducing working path from GME package location = {working_path}')\n",
    "    del gme\n",
    "    \n",
    "# Set the path to the parameter files for this nb and report\n",
    "pr_path = os.path.join(working_path,'Parameters','Theory')\n",
    "pr_path, pr_filenames"
   ]
  },
  {
   "cell_type": "code",
   "execution_count": 3,
   "metadata": {
    "hidden": true
   },
   "outputs": [
    {
     "name": "stdout",
     "output_type": "stream",
     "text": [
      "{   'debug': False,\n",
      "    'group_name': 'Theory',\n",
      "    'short_name': 'indicatrix_exploration',\n",
      "    'subtitle': '',\n",
      "    'title': 'Exploration of indicatrix etc for sin(beta) erosion model, '\n",
      "             'eta=3/2',\n",
      "    'verbose': True,\n",
      "    'very_verbose': False}\n",
      "{   'Ci': pi/45,\n",
      "    'Lc': 10000,\n",
      "    'beta_type': 'sin',\n",
      "    'do_geodesic': False,\n",
      "    'eta': 3/2,\n",
      "    'h_0': 1/2,\n",
      "    'ibc_type': 'concave-up',\n",
      "    'kappa_h': 3/2,\n",
      "    'mu': 3/4,\n",
      "    't_xiv0_list': None,\n",
      "    'varepsilon': 1/1000,\n",
      "    'varepsilonhat': 1/100,\n",
      "    'varphi_0': 300,\n",
      "    'varphi_type': 'ramp',\n",
      "    'x_1': 1,\n",
      "    'x_h': 1,\n",
      "    'x_sigma': 0.01,\n",
      "    'xiv_0': 30}\n",
      "{   'choice': 'Hamilton',\n",
      "    'do_dense': True,\n",
      "    'do_geodesic': True,\n",
      "    'do_ic': False,\n",
      "    'do_ip': False,\n",
      "    'do_vb': False,\n",
      "    'ic_res': 31,\n",
      "    'ip_res': 101,\n",
      "    'method': {   'Hamilton': 'DOP853',\n",
      "                  'choices': ['RK45', 'RK23', 'Radau', 'DOP853', 'LSODA'],\n",
      "                  'geodesic': 'LSODA'},\n",
      "    'ray_n_t': 301,\n",
      "    't_distribn': 2,\n",
      "    't_end': 0.01,\n",
      "    'vb_res': 101}\n",
      "{   'do_eliminate_caustics': True,\n",
      "    'n_isochrones': 30,\n",
      "    'spline_order': 3,\n",
      "    't_isochrone_max': 0.01,\n",
      "    'tolerance': None}\n",
      "{   'ang_x_limits': None,\n",
      "    'ang_y_limits': None,\n",
      "    'angdisp_x_limits': None,\n",
      "    'angdisp_y_limits': None,\n",
      "    'aniso_arrow_exponent': 0.9,\n",
      "    'aniso_arrow_size': 0.5,\n",
      "    'aniso_n_points': 45,\n",
      "    'aniso_y_limits': None,\n",
      "    'big_fig_size': [10, 7],\n",
      "    'dimx_limits': [-0.03, 1.03],\n",
      "    'dimx_limits_zoom': [0.2, 0.3],\n",
      "    'dimz_limits': [-0.01, 0.6],\n",
      "    'dimz_limits_zoom': [-0.25, -0.23],\n",
      "    'do_etaxi_labeling': True,\n",
      "    'do_extra_annotations': False,\n",
      "    'do_huygens_wavelets': False,\n",
      "    'do_profile_extra': False,\n",
      "    'do_profile_schematic': False,\n",
      "    'do_pub_labeling': False,\n",
      "    'do_ray_conjugacy': False,\n",
      "    'fgtx_pz_max': 100000.0,\n",
      "    'fgtx_pz_min': 0.001,\n",
      "    'fig_size': [8, 8],\n",
      "    'idtx_logpolar_y_limits': [-2, 1],\n",
      "    'idtx_n_points': 100,\n",
      "    'idtx_pz_max': 100000.0,\n",
      "    'idtx_pz_min': 0.001,\n",
      "    'idtx_varphi_list': [0.1, 0.15, 0.5, 1, 1.3, 2, 3],\n",
      "    'isochrone_subsetting': 1,\n",
      "    'medium_fig_size': [7, 6],\n",
      "    'misc_n_points': 101,\n",
      "    'n_rays': 4,\n",
      "    'profile_cusp_speed_legend_loc': None,\n",
      "    'profile_cusp_speed_y_limits': [-10, 30],\n",
      "    'profile_det_eta_label_xy': [0.5, 0.5],\n",
      "    'profile_eval_eta_label_xy': None,\n",
      "    'profile_evec_eta_label_xy': None,\n",
      "    'profile_evec_legend_loc': 'upper left',\n",
      "    'profile_n_points': 101,\n",
      "    'profile_ray_n_points': 121,\n",
      "    'profile_subsetting': 8,\n",
      "    'pub_label_posns': {   'alpha_beta': [0.88, 0.3],\n",
      "                           'angular_disparity': [0.15, 0.15],\n",
      "                           'etaxi_label': [0.65, 0.85],\n",
      "                           'profile_angular_disparity': [0.6, 0.35],\n",
      "                           'profile_aniso': 'None',\n",
      "                           'profile_beta': [0.93, 0.2],\n",
      "                           'profile_h_ray': [0.85, 0.7],\n",
      "                           'profile_h_rays': [0.93, 0.35],\n",
      "                           'profile_v': 'None',\n",
      "                           'profile_vdot': 'None',\n",
      "                           'profile_vxz': 'None',\n",
      "                           'profile_xi': 'None',\n",
      "                           'profile_xihorizontal': 'None',\n",
      "                           'profile_xivertical': 'None'},\n",
      "    'pub_labels': {   'alpha_beta': '(b)',\n",
      "                      'angular_disparity': '(b)',\n",
      "                      'profile_angular_disparity': '(b)',\n",
      "                      'profile_aniso': '(b)',\n",
      "                      'profile_beta': '(b)',\n",
      "                      'profile_h_ray': '(c)',\n",
      "                      'profile_h_rays': '(b)',\n",
      "                      'profile_v': '',\n",
      "                      'profile_vdot': '',\n",
      "                      'profile_vxz': '(c)',\n",
      "                      'profile_xi': '(a)',\n",
      "                      'profile_xihorizontal': '',\n",
      "                      'profile_xivertical': '(d)'},\n",
      "    'ray_acceln_legend_loc': 'lower right',\n",
      "    'ray_eta_xy': [0.85, 0.15],\n",
      "    'ray_n_points': 26,\n",
      "    'ray_x_limits': [-0.02, 1.02],\n",
      "    'ray_y_limits': None,\n",
      "    'rays_n_points': 40,\n",
      "    'small_fig_size': [7, 3]}\n",
      "{   'figs_format': ['png'],\n",
      "    'figs_options': {'bbox_inches': 'tight', 'dpi': 300},\n",
      "    'figs_path': ['..', '..', 'Plots']}\n"
     ]
    }
   ],
   "source": [
    "parameters_dict,_ = import_parameters([pr_path], [os.path.join('..','defaults'), *pr_filenames])\n",
    "evaluations = {}\n",
    "evaluations_sequence = ()\n",
    "pr = Parameters(parameters_dict, evaluations=evaluations, sequence=evaluations_sequence)\n",
    "[pp(psubobj.__dict__) for psubobj in (pr.job, pr.model, pr.solve, pr.resolve, pr.plot, pr.save)];"
   ]
  },
  {
   "cell_type": "markdown",
   "metadata": {},
   "source": [
    "# Theory"
   ]
  },
  {
   "cell_type": "code",
   "execution_count": 4,
   "metadata": {},
   "outputs": [
    {
     "data": {
      "image/png": "[encoded data removed]",
      "text/latex": [
       "$\\displaystyle \\left( \\eta = \\frac{3}{2}, \\  \\mu = \\frac{3}{4}, \\  \\frac{\\mu}{\\eta} = \\frac{1}{2}, \\  \\left\\{ L_\\mathrm{c} : 10000, \\  \\mathsf{Ci} : \\frac{\\pi}{45}, \\  \\varepsilon : \\frac{1}{1000}, \\  \\varphi_{0} : 300, \\  \\xi^{\\downarrow_{0}} : 30\\right\\}\\right)$"
      ],
      "text/plain": [
       "⎛                       \\mu         ⎧                                  π      \n",
       "⎜\\eta = 3/2, \\mu = 3/4, ──── = 1/2, ⎨L_\\mathrm{c}: 10000, \\mathsf{Ci}: ──, \\va\n",
       "⎝                       \\eta        ⎩                                  45     \n",
       "\n",
       "                                                          ⎫⎞\n",
       "repsilon: 1/1000, \\varphi₀: 300, \\xi_{0}}__{\\downarrow: 30⎬⎟\n",
       "                                                          ⎭⎠"
      ]
     },
     "execution_count": 4,
     "metadata": {},
     "output_type": "execute_result"
    }
   ],
   "source": [
    "subexp = {\n",
    "    eta: pr.model.eta,\n",
    "    mu: pr.model.mu\n",
    "}\n",
    "sub = {\n",
    "        Ci: pr.model.Ci, \n",
    "        Lc: pr.model.Lc, \n",
    "        varepsilon: pr.model.varepsilon, \n",
    "        varphi_0: pr.model.varphi_0,\n",
    "        xiv_0: pr.model.xiv_0,\n",
    "#         kappa_h: pr.model.kappa_h,\n",
    "#         h_0: pr.model.h_0,\n",
    "#         x_sigma: pr.model.x_sigma,\n",
    "#         x_h: pr.model.x_h\n",
    "}\n",
    "Eq(eta,pr.model.eta), Eq(mu,pr.model.mu), Eq(mu/eta,pr.model.mu/pr.model.eta), sub"
   ]
  },
  {
   "cell_type": "code",
   "execution_count": 5,
   "metadata": {
    "scrolled": false
   },
   "outputs": [],
   "source": [
    "gmeq = Equations( eta_=pr.model.eta, \n",
    "                  mu_=pr.model.mu, \n",
    "                  beta_type=pr.model.beta_type, \n",
    "                  varphi_type=pr.model.varphi_type, \n",
    "                  ibc_type=pr.model.ibc_type,\n",
    "                  do_idtx=True,\n",
    "                  do_geodesic=False, \n",
    "                  parameters=sub, \n",
    "                  do_raw=False )"
   ]
  },
  {
   "cell_type": "code",
   "execution_count": 6,
   "metadata": {},
   "outputs": [
    {
     "ename": "AttributeError",
     "evalue": "'Equations' object has no attribute 'eta'",
     "output_type": "error",
     "traceback": [
      "\u001b[0;31m---------------------------------------------------------------------------\u001b[0m",
      "\u001b[0;31mAttributeError\u001b[0m                            Traceback (most recent call last)",
      "\u001b[0;32m<ipython-input-6-ae5ef99e59fb>\u001b[0m in \u001b[0;36m<module>\u001b[0;34m\u001b[0m\n\u001b[1;32m      2\u001b[0m \u001b[0;31m# prefix = ('_').join([pr.job.short_name, gmeq.beta_type+'beta', gmeq.varphi_type.replace('-','')])\u001b[0m\u001b[0;34m\u001b[0m\u001b[0;34m\u001b[0m\u001b[0;34m\u001b[0m\u001b[0m\n\u001b[1;32m      3\u001b[0m \u001b[0;34m\u001b[0m\u001b[0m\n\u001b[0;32m----> 4\u001b[0;31m \u001b[0msuffix\u001b[0m \u001b[0;34m=\u001b[0m \u001b[0;34mf'_eta{float(N(gmeq.eta))}'\u001b[0m\u001b[0;34m\u001b[0m\u001b[0;34m\u001b[0m\u001b[0m\n\u001b[0m\u001b[1;32m      5\u001b[0m \u001b[0;31m# suffix += f'_ratio{ float(sy.N(gmeq.mu/gmeq.eta)):0.2f}' if gmeq.mu/gmeq.eta==Rational(1,3) \\\u001b[0m\u001b[0;34m\u001b[0m\u001b[0;34m\u001b[0m\u001b[0;34m\u001b[0m\u001b[0m\n\u001b[1;32m      6\u001b[0m \u001b[0;31m#                                     else f'_ratio{ float(sy.N(gmeq.mu/gmeq.eta)):0.1f}'\u001b[0m\u001b[0;34m\u001b[0m\u001b[0;34m\u001b[0m\u001b[0;34m\u001b[0m\u001b[0m\n",
      "\u001b[0;31mAttributeError\u001b[0m: 'Equations' object has no attribute 'eta'"
     ]
    }
   ],
   "source": [
    "prefix = ('_').join([pr.job.short_name, gmeq.beta_type+'beta'])\n",
    "# prefix = ('_').join([pr.job.short_name, gmeq.beta_type+'beta', gmeq.varphi_type.replace('-','')])\n",
    "\n",
    "suffix = f'_eta{float(N(gmeq.eta))}'\n",
    "# suffix += f'_ratio{ float(sy.N(gmeq.mu/gmeq.eta)):0.2f}' if gmeq.mu/gmeq.eta==Rational(1,3) \\\n",
    "#                                     else f'_ratio{ float(sy.N(gmeq.mu/gmeq.eta)):0.1f}'\n",
    "# suffix += f'_xiv{float(sy.N(pr.model.xiv_0)):1.0f}'\n",
    "# suffix = (suffix if pr.model.varphi_type=='ramp' \\\n",
    "#             else suffix+f'_xh{float(gmes.parameters[x_h]):1.1f}').replace('.','p')\n",
    "\n",
    "job_name = prefix+suffix.replace('.','p')\n",
    "job_name"
   ]
  },
  {
   "cell_type": "markdown",
   "metadata": {},
   "source": [
    "# Plots"
   ]
  },
  {
   "cell_type": "code",
   "execution_count": null,
   "metadata": {},
   "outputs": [],
   "source": [
    "gr = IndicatrixNew(gmeq, pr, subexp, varphi_=1)"
   ]
  },
  {
   "cell_type": "code",
   "execution_count": null,
   "metadata": {},
   "outputs": [],
   "source": [
    "gr.Fstar_F_rectlinear(gmeq, job_name, pr, fig_size=(7,9))"
   ]
  },
  {
   "cell_type": "code",
   "execution_count": null,
   "metadata": {},
   "outputs": [],
   "source": [
    "gr.Fstar_F_rectlinear(gmeq, job_name, pr, fig_size=(7,7), do_zoom=True)"
   ]
  },
  {
   "cell_type": "code",
   "execution_count": null,
   "metadata": {},
   "outputs": [],
   "source": [
    "gr.Fstar_F_polar(gmeq, job_name, pr)"
   ]
  },
  {
   "cell_type": "markdown",
   "metadata": {},
   "source": [
    "# Save"
   ]
  },
  {
   "cell_type": "code",
   "execution_count": null,
   "metadata": {},
   "outputs": [],
   "source": [
    "pp(gr.fdict)"
   ]
  },
  {
   "cell_type": "code",
   "execution_count": null,
   "metadata": {},
   "outputs": [],
   "source": [
    "plots_dir = create_directories(pr.save.figs_path, pr.job.group_name)\n",
    "export_plots( gr.fdict, plots_dir, pr.save.figs_format, suffix='' )"
   ]
  }
 ],
 "metadata": {
  "hide_input": false,
  "kernelspec": {
   "display_name": "Python 3",
   "language": "python",
   "name": "python3"
  },
  "language_info": {
   "codemirror_mode": {
    "name": "ipython",
    "version": 3
   },
   "file_extension": ".py",
   "mimetype": "text/x-python",
   "name": "python",
   "nbconvert_exporter": "python",
   "pygments_lexer": "ipython3",
   "version": "3.8.12"
  }
 },
 "nbformat": 4,
 "nbformat_minor": 2
}
