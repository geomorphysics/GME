{
 "cells": [
  {
   "cell_type": "markdown",
   "metadata": {},
   "source": [
    "# Summary"
   ]
  },
  {
   "cell_type": "markdown",
   "metadata": {},
   "source": [
    "The fundamental (co-, pseudo-) metric function.\n",
    "\n"
   ]
  },
  {
   "cell_type": "markdown",
   "metadata": {},
   "source": [
    "#### Preliminaries"
   ]
  },
  {
   "cell_type": "code",
   "execution_count": 3,
   "metadata": {},
   "outputs": [],
   "source": [
    "from sympy import Rational, init_printing\n",
    "init_printing(pretty_print=True, wrap_line=True)\n",
    "from gme.core.equations import Equations\n",
    "from gme.core.symbols import eta"
   ]
  },
  {
   "cell_type": "markdown",
   "metadata": {},
   "source": [
    "# Derivation"
   ]
  },
  {
   "cell_type": "code",
   "execution_count": 4,
   "metadata": {},
   "outputs": [],
   "source": [
    "gmeq = Equations(eta_=Rational(1,2),  \n",
    "                 mu_=Rational(1,4),\n",
    "                 beta_type='sin', \n",
    "                 do_raw=True )"
   ]
  },
  {
   "cell_type": "code",
   "execution_count": 5,
   "metadata": {},
   "outputs": [
    {
     "data": {
      "image/png": "[encoded data removed]",
      "text/latex": [
       "$\\displaystyle p_{x} = p \\sin{\\left(\\beta \\right)}$"
      ],
      "text/plain": [
       "pₓ = p⋅sin(\\beta)"
      ]
     },
     "execution_count": 5,
     "metadata": {},
     "output_type": "execute_result"
    }
   ],
   "source": [
    "gmeq.px_p_beta_eqn"
   ]
  },
  {
   "cell_type": "code",
   "execution_count": 6,
   "metadata": {},
   "outputs": [
    {
     "data": {
      "image/png": "[encoded data removed]",
      "text/latex": [
       "$\\displaystyle p_{z} = - p \\cos{\\left(\\beta \\right)}$"
      ],
      "text/plain": [
       "p_z = -p⋅cos(\\beta)"
      ]
     },
     "execution_count": 6,
     "metadata": {},
     "output_type": "execute_result"
    }
   ],
   "source": [
    "gmeq.pz_p_beta_eqn"
   ]
  },
  {
   "cell_type": "code",
   "execution_count": 7,
   "metadata": {},
   "outputs": [
    {
     "data": {
      "image/png": "[encoded data removed]",
      "text/latex": [
       "$\\displaystyle p = \\sqrt{p_{x}^{2} + p_{z}^{2}}$"
      ],
      "text/plain": [
       "       ____________\n",
       "      ╱   2      2 \n",
       "p = ╲╱  pₓ  + p_z  "
      ]
     },
     "execution_count": 7,
     "metadata": {},
     "output_type": "execute_result"
    }
   ],
   "source": [
    "gmeq.p_norm_pxpz_eqn"
   ]
  },
  {
   "cell_type": "code",
   "execution_count": 8,
   "metadata": {},
   "outputs": [
    {
     "data": {
      "image/png": "[encoded data removed]",
      "text/latex": [
       "$\\displaystyle p = \\frac{\\left|{\\sin{\\left(\\beta \\right)}}\\right|^{- \\eta}}{\\varphi{\\left(\\mathbf{r} \\right)}}$"
      ],
      "text/plain": [
       "                 -\\eta \n",
       "     │sin(\\beta)│      \n",
       "p = ───────────────────\n",
       "    \\varphi(\\mathbf{r})"
      ]
     },
     "execution_count": 8,
     "metadata": {},
     "output_type": "execute_result"
    }
   ],
   "source": [
    "gmeq.p_varphi_beta_eqn"
   ]
  },
  {
   "cell_type": "code",
   "execution_count": 9,
   "metadata": {},
   "outputs": [
    {
     "data": {
      "image/png": "[encoded data removed]",
      "text/latex": [
       "$\\displaystyle \\sqrt{p_{x}^{2} + p_{z}^{2}} = \\frac{\\left(\\frac{p_{x}}{\\sqrt{p_{x}^{2} + p_{z}^{2}}}\\right)^{- \\eta}}{\\varphi{\\left(\\mathbf{r} \\right)}}$"
      ],
      "text/plain": [
       "                                   -\\eta\n",
       "                  ⎛       pₓ      ⎞     \n",
       "                  ⎜───────────────⎟     \n",
       "                  ⎜   ____________⎟     \n",
       "   ____________   ⎜  ╱   2      2 ⎟     \n",
       "  ╱   2      2    ⎝╲╱  pₓ  + p_z  ⎠     \n",
       "╲╱  pₓ  + p_z   = ──────────────────────\n",
       "                   \\varphi(\\mathbf{r})  "
      ]
     },
     "execution_count": 9,
     "metadata": {},
     "output_type": "execute_result"
    }
   ],
   "source": [
    "gmeq.p_varphi_pxpz_eqn"
   ]
  },
  {
   "cell_type": "code",
   "execution_count": 10,
   "metadata": {},
   "outputs": [
    {
     "data": {
      "image/png": "[encoded data removed]",
      "text/latex": [
       "$\\displaystyle \\frac{\\sqrt{p_{x}^{2} + p_{z}^{2}}}{\\mathcal{F}_*} = \\frac{p_{x}^{- \\eta} \\left(p_{x}^{2} + p_{z}^{2}\\right)^{\\frac{\\eta}{2}}}{\\varphi{\\left(\\mathbf{r} \\right)}}$"
      ],
      "text/plain": [
       "                                      \\eta\n",
       "                                      ────\n",
       "   ____________                        2  \n",
       "  ╱   2      2      -\\eta ⎛  2      2⎞    \n",
       "╲╱  pₓ  + p_z     pₓ     ⋅⎝pₓ  + p_z ⎠    \n",
       "─────────────── = ────────────────────────\n",
       " \\mathcal{F}_*      \\varphi(\\mathbf{r})   "
      ]
     },
     "execution_count": 10,
     "metadata": {},
     "output_type": "execute_result"
    }
   ],
   "source": [
    "gmeq.Okubo_Fstar_eqn"
   ]
  },
  {
   "cell_type": "code",
   "execution_count": 11,
   "metadata": {},
   "outputs": [
    {
     "data": {
      "image/png": "[encoded data removed]",
      "text/latex": [
       "$\\displaystyle \\mathcal{F}_* = p_{x}^{\\eta} \\left(p_{x}^{2} + p_{z}^{2}\\right)^{\\frac{1}{2} - \\frac{\\eta}{2}} \\varphi{\\left(\\mathbf{r} \\right)}$"
      ],
      "text/plain": [
       "                                   1   \\eta                    \n",
       "                                   ─ - ────                    \n",
       "                                   2    2                      \n",
       "                  \\eta ⎛  2      2⎞                            \n",
       "\\mathcal{F}_* = pₓ    ⋅⎝pₓ  + p_z ⎠        ⋅\\varphi(\\mathbf{r})"
      ]
     },
     "execution_count": 11,
     "metadata": {},
     "output_type": "execute_result"
    }
   ],
   "source": [
    "gmeq.Fstar_eqn"
   ]
  },
  {
   "cell_type": "code",
   "execution_count": 12,
   "metadata": {},
   "outputs": [
    {
     "data": {
      "image/png": "[encoded data removed]",
      "text/latex": [
       "$\\displaystyle \\left( \\mathcal{F}_* = \\sqrt{p_{x}} \\sqrt[4]{p_{x}^{2} + p_{z}^{2}} \\varphi{\\left(\\mathbf{r} \\right)}, \\  \\mathcal{F}_* = \\frac{p_{x}^{\\frac{3}{2}} \\varphi{\\left(\\mathbf{r} \\right)}}{\\sqrt[4]{p_{x}^{2} + p_{z}^{2}}}\\right)$"
      ],
      "text/plain": [
       "⎛                          ____________                                       \n",
       "⎜                  ____ 4 ╱   2      2                                       p\n",
       "⎜\\mathcal{F}_* = ╲╱ pₓ ⋅╲╱  pₓ  + p_z  ⋅\\varphi(\\mathbf{r}), \\mathcal{F}_* = ─\n",
       "⎜                                                                             \n",
       "⎜                                                                             \n",
       "⎝                                                                             \n",
       "\n",
       " 3/2                    ⎞\n",
       "ₓ   ⋅\\varphi(\\mathbf{r})⎟\n",
       "────────────────────────⎟\n",
       "       ____________     ⎟\n",
       "    4 ╱   2      2      ⎟\n",
       "    ╲╱  pₓ  + p_z       ⎠"
      ]
     },
     "execution_count": 12,
     "metadata": {},
     "output_type": "execute_result"
    }
   ],
   "source": [
    "gmeq.Fstar_eqn.subs({eta:Rational(1,2)}), gmeq.Fstar_eqn.subs({eta:Rational(3,2)}) "
   ]
  },
  {
   "cell_type": "code",
   "execution_count": 13,
   "metadata": {},
   "outputs": [
    {
     "data": {
      "image/png": "[encoded data removed]",
      "text/latex": [
       "$\\displaystyle \\mathcal{H} = \\frac{p_{x}^{2 \\eta} \\left(p_{x}^{2} + p_{z}^{2}\\right)^{1 - \\eta} \\varphi^{2}{\\left(\\mathbf{r} \\right)}}{2}$"
      ],
      "text/plain": [
       "                                   1 - \\eta                     \n",
       "                2⋅\\eta ⎛  2      2⎞                2            \n",
       "              pₓ      ⋅⎝pₓ  + p_z ⎠        ⋅\\varphi (\\mathbf{r})\n",
       "\\mathcal{H} = ──────────────────────────────────────────────────\n",
       "                                      2                         "
      ]
     },
     "execution_count": 13,
     "metadata": {},
     "output_type": "execute_result"
    }
   ],
   "source": [
    "gmeq.H_eqn"
   ]
  },
  {
   "cell_type": "code",
   "execution_count": 14,
   "metadata": {},
   "outputs": [
    {
     "data": {
      "image/png": "[encoded data removed]",
      "text/latex": [
       "$\\displaystyle \\left( \\mathcal{H} = \\frac{p_{x} \\sqrt{p_{x}^{2} + p_{z}^{2}} \\varphi^{2}{\\left(\\mathbf{r} \\right)}}{2}, \\  \\mathcal{H} = \\frac{p_{x}^{3} \\varphi^{2}{\\left(\\mathbf{r} \\right)}}{2 \\sqrt{p_{x}^{2} + p_{z}^{2}}}\\right)$"
      ],
      "text/plain": [
       "⎛                    ____________                                             \n",
       "⎜                   ╱   2      2         2                              3     \n",
       "⎜              pₓ⋅╲╱  pₓ  + p_z  ⋅\\varphi (\\mathbf{r})                pₓ ⋅\\var\n",
       "⎜\\mathcal{H} = ───────────────────────────────────────, \\mathcal{H} = ────────\n",
       "⎜                                 2                                           \n",
       "⎜                                                                            ╱\n",
       "⎝                                                                        2⋅╲╱ \n",
       "\n",
       "                ⎞\n",
       "   2            ⎟\n",
       "phi (\\mathbf{r})⎟\n",
       "────────────────⎟\n",
       "____________    ⎟\n",
       "   2      2     ⎟\n",
       " pₓ  + p_z      ⎠"
      ]
     },
     "execution_count": 14,
     "metadata": {},
     "output_type": "execute_result"
    }
   ],
   "source": [
    "gmeq.H_eqn.subs({eta:Rational(1,2)}), gmeq.H_eqn.subs({eta:Rational(3,2)}) "
   ]
  }
 ],
 "metadata": {
  "hide_input": false,
  "interpreter": {
   "hash": "7a792fcb311f9eb9f3c1b942a8c87ada8484712b89b670347c16a1088e0a1f69"
  },
  "kernelspec": {
   "display_name": "Python 3.8.12 64-bit",
   "language": "python",
   "name": "python3"
  },
  "language_info": {
   "codemirror_mode": {
    "name": "ipython",
    "version": 3
   },
   "file_extension": ".py",
   "mimetype": "text/x-python",
   "name": "python",
   "nbconvert_exporter": "python",
   "pygments_lexer": "ipython3",
   "version": "3.8.12"
  }
 },
 "nbformat": 4,
 "nbformat_minor": 2
}
