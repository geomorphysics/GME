{
 "cells": [
  {
   "cell_type": "markdown",
   "metadata": {},
   "source": [
    "# Summary\n",
    "\n",
    "Derive all the equations of GME theory (where possible), using SymPy, for a given erosion model type ($\\sin\\beta$ or $\\tan\\beta$), slope exponent $\\eta \\in \\left\\{\\tfrac{1}{4}, \\tfrac{1}{3}, \\tfrac{1}{2}, \\tfrac{3}{2}\\right\\}$, and ratio of area/slope exponent $\\mu/\\eta$ (usually set to 1/2)."
   ]
  },
  {
   "cell_type": "markdown",
   "metadata": {},
   "source": [
    "### Preliminaries"
   ]
  },
  {
   "cell_type": "code",
   "execution_count": 1,
   "metadata": {},
   "outputs": [
    {
     "name": "stdout",
     "output_type": "stream",
     "text": [
      "Deducing working path from GME package location = /Users/colinstark/Projects/GME\n"
     ]
    },
    {
     "data": {
      "text/plain": [
       "('/Users/colinstark/Projects/GME/Parameters/Theory',\n",
       " ['Derivation_sinbeta_eta1p5_ratio0p5'])"
      ]
     },
     "execution_count": 1,
     "metadata": {},
     "output_type": "execute_result"
    }
   ],
   "source": [
    "# Specify the parameter files for the job\n",
    "import os\n",
    "if 'GME_NB_PR' not in os.environ.keys():\n",
    "    pr_filenames = ['Derivation_sinbeta_eta1p5_ratio0p5']\n",
    "#     pr_filenames = ['Derivation_sinbeta_eta0p5_ratio0p5']\n",
    "#     pr_filenames = ['Derivation_sinbeta_eta0p33_ratio1p0']\n",
    "#     pr_filenames = ['Derivation_sinbeta_eta0p25_ratio1p0']\n",
    "else:\n",
    "    pr_filenames = eval(os.environ['GME_NB_PR'])\n",
    "    \n",
    "# Import Sympy and Numpy and set up latex inline & pretty dict printing\n",
    "import sympy as sy, numpy as np\n",
    "sy.init_printing(pretty_print=True,wrap_line=True)\n",
    "from sympy import Rational, simplify, factor, Matrix, Eq, \\\n",
    "                    solve, sin, cos, tan, atan, asin, Abs, sqrt, re, im, N, \\\n",
    "                    numer, denom, expand, Piecewise, lambdify, deg\n",
    "from pprint import PrettyPrinter\n",
    "pp = PrettyPrinter(indent=4).pprint\n",
    "\n",
    "# Import Geomorphysics library functions, classes\n",
    "from gmplib.utils import numify, export_results, e2d, omitdict, round as gmround\n",
    "from gmplib.save import create_directories, export_plots\n",
    "from gmplib.parameters import import_parameters, Parameters\n",
    "\n",
    "# Import GME classes and do a wildcard (!) import of all GME symbol definitions\n",
    "from gme.symbols import *\n",
    "from gme.equations import Equations\n",
    "\n",
    "# Decide where we're working and thus where to find the job parameter files\n",
    "#   -  use the GME_WORKING_PATH environment variable if it's defined\n",
    "#   -  otherwise, deduce that we're working in the GME notebook dir\n",
    "if 'GME_WORKING_PATH' in os.environ.keys():\n",
    "    working_path = os.environ['GME_WORKING_PATH']\n",
    "    print(f'Fetching working path from environment variable GME_WORKING_PATH = {working_path}')\n",
    "else:\n",
    "    from gmplib.utils import get_pkg_path\n",
    "    import gme\n",
    "    working_path = get_pkg_path(gme, dirname='')\n",
    "    print(f'Deducing working path from GME package location = {working_path}')\n",
    "    del gme\n",
    "    \n",
    "# Set the path to the parameter files for this nb and report\n",
    "pr_path = os.path.join(working_path,'Parameters','Theory')\n",
    "pr_path, pr_filenames"
   ]
  },
  {
   "cell_type": "code",
   "execution_count": 2,
   "metadata": {},
   "outputs": [
    {
     "name": "stdout",
     "output_type": "stream",
     "text": [
      "{   'debug': False,\n",
      "    'group_name': 'Theory',\n",
      "    'short_name': 'derivation',\n",
      "    'subtitle': '',\n",
      "    'title': 'Derivation of GME equations for sin(beta) erosion model, '\n",
      "             'eta=3/2, mu=3/4',\n",
      "    'verbose': True,\n",
      "    'very_verbose': False}\n",
      "{   'beta_type': 'sin',\n",
      "    'do_geodesic': False,\n",
      "    'eta': 3/2,\n",
      "    'h_0': 1/2,\n",
      "    'ibc_type': 'concave-up',\n",
      "    'kappa_h': 3/2,\n",
      "    'mu': 3/4,\n",
      "    't_xiv0_list': None,\n",
      "    'varepsilon': 1/100,\n",
      "    'varphi_0': 300,\n",
      "    'varphi_type': 'ramp',\n",
      "    'x_1': 1,\n",
      "    'x_h': 1,\n",
      "    'x_sigma': 0.01,\n",
      "    'xiv_0': 30}\n",
      "{   'choice': 'Hamilton',\n",
      "    'do_dense': True,\n",
      "    'do_geodesic': True,\n",
      "    'do_ic': False,\n",
      "    'do_ip': False,\n",
      "    'do_vb': False,\n",
      "    'ic_res': 31,\n",
      "    'ip_res': 101,\n",
      "    'method': {   'Hamilton': 'DOP853',\n",
      "                  'choices': ['RK45', 'RK23', 'Radau', 'DOP853', 'LSODA'],\n",
      "                  'geodesic': 'LSODA'},\n",
      "    'ray_n_t': 301,\n",
      "    't_distribn': 2,\n",
      "    't_end': 0.01,\n",
      "    'vb_res': 101}\n",
      "{   'do_eliminate_caustics': True,\n",
      "    'n_isochrones': 30,\n",
      "    'spline_order': 3,\n",
      "    't_isochrone_max': 0.01,\n",
      "    'tolerance': None}\n",
      "{   'ang_x_limits': None,\n",
      "    'ang_y_limits': None,\n",
      "    'angdisp_x_limits': None,\n",
      "    'angdisp_y_limits': None,\n",
      "    'aniso_arrow_exponent': 0.9,\n",
      "    'aniso_arrow_size': 0.5,\n",
      "    'aniso_n_points': 45,\n",
      "    'aniso_y_limits': None,\n",
      "    'big_fig_size': [10, 7],\n",
      "    'dimx_limits': [-0.03, 1.03],\n",
      "    'dimx_limits_zoom': [0.2, 0.3],\n",
      "    'dimz_limits': [-0.01, 0.6],\n",
      "    'dimz_limits_zoom': [-0.25, -0.23],\n",
      "    'do_extra_annotations': False,\n",
      "    'do_huygens_wavelets': False,\n",
      "    'do_profile_extra': False,\n",
      "    'do_profile_schematic': False,\n",
      "    'do_pub_labeling': False,\n",
      "    'do_ray_conjugacy': False,\n",
      "    'fgtx_pz_max': 100000.0,\n",
      "    'fgtx_pz_min': 0.001,\n",
      "    'fig_size': [8, 8],\n",
      "    'idtx_logpolar_y_limits': [-2, 1],\n",
      "    'idtx_n_points': 100,\n",
      "    'idtx_pz_max': 100000.0,\n",
      "    'idtx_pz_min': 0.001,\n",
      "    'idtx_varphi_list': [0.1, 0.15, 0.5, 1, 1.3, 2, 3],\n",
      "    'isochrone_subsetting': 1,\n",
      "    'medium_fig_size': [7, 6],\n",
      "    'misc_n_points': 101,\n",
      "    'n_rays': 4,\n",
      "    'profile_cusp_speed_legend_loc': None,\n",
      "    'profile_cusp_speed_y_limits': [-10, 30],\n",
      "    'profile_det_eta_label_xy': [0.5, 0.5],\n",
      "    'profile_eval_eta_label_xy': None,\n",
      "    'profile_evec_eta_label_xy': None,\n",
      "    'profile_evec_legend_loc': 'upper left',\n",
      "    'profile_n_points': 101,\n",
      "    'profile_ray_n_points': 121,\n",
      "    'profile_subsetting': 8,\n",
      "    'pub_labels': ['(a)', '(a)', '(b)'],\n",
      "    'ray_acceln_legend_loc': 'lower right',\n",
      "    'ray_eta_xy': None,\n",
      "    'ray_n_points': 26,\n",
      "    'ray_y_limits': None,\n",
      "    'rays_n_points': 40,\n",
      "    'small_fig_size': [7, 3]}\n",
      "{   'figs_format': ['png'],\n",
      "    'figs_options': {'bbox_inches': 'tight', 'dpi': 300},\n",
      "    'figs_path': ['..', '..', 'Plots']}\n"
     ]
    }
   ],
   "source": [
    "parameters_dict,_ = import_parameters([pr_path], [os.path.join('..','defaults'), *pr_filenames])\n",
    "evaluations = {}\n",
    "evaluations_sequence = ()\n",
    "pr = Parameters(parameters_dict, evaluations=evaluations, sequence=evaluations_sequence)\n",
    "[pp(psubobj.__dict__) for psubobj in (pr.job, pr.model, pr.solve, pr.resolve, pr.plot, pr.save)];"
   ]
  },
  {
   "cell_type": "code",
   "execution_count": 3,
   "metadata": {},
   "outputs": [
    {
     "data": {
      "image/png": "[encoded data removed]",
      "text/latex": [
       "$\\displaystyle \\left[\\begin{matrix}\\eta = \\frac{3}{2}\\\\\\mu = \\frac{3}{4}\\\\\\frac{\\mu}{\\eta} = \\frac{1}{2}\\\\\\left\\{ L_\\mathrm{c} : 1, \\  \\kappa_\\mathrm{h} : \\frac{3}{2}, \\  \\varepsilon : \\frac{1}{100}, \\  \\varphi_0 : 300, \\  \\xi^{\\downarrow{0}} : 30, \\  h_{0} : \\frac{1}{2}, \\  x_{h} : 1, \\  x_{\\sigma} : 0.01\\right\\}\\end{matrix}\\right]$"
      ],
      "text/plain": [
       "⎡                                                               \\eta = 3/2    \n",
       "⎢                                                                             \n",
       "⎢                                                               \\mu = 3/4     \n",
       "⎢                                                                             \n",
       "⎢                                                               \\mu           \n",
       "⎢                                                               ──── = 1/2    \n",
       "⎢                                                               \\eta          \n",
       "⎢                                                                             \n",
       "⎣{L_\\mathrm{c}: 1, \\kappa_\\mathrm{h}: 3/2, \\varepsilon: 1/100, \\varphi₀: 300, \n",
       "\n",
       "                                                           ⎤\n",
       "                                                           ⎥\n",
       "                                                           ⎥\n",
       "                                                           ⎥\n",
       "                                                           ⎥\n",
       "                                                           ⎥\n",
       "                                                           ⎥\n",
       "                                                           ⎥\n",
       "\\xi__{\\downarrow{0}}: 30, h₀: 1/2, xₕ: 1, x_{\\sigma}: 0.01}⎦"
      ]
     },
     "execution_count": 3,
     "metadata": {},
     "output_type": "execute_result"
    }
   ],
   "source": [
    "sub = {\n",
    "        Lc: pr.model.x_1, \n",
    "        varepsilon: pr.model.varepsilon, \n",
    "        varphi_0: pr.model.varphi_0,\n",
    "        xiv_0: pr.model.xiv_0,\n",
    "        kappa_h: pr.model.kappa_h,\n",
    "        h_0: pr.model.h_0,\n",
    "        x_sigma: pr.model.x_sigma,\n",
    "        x_h: pr.model.x_h\n",
    "}\n",
    "Matrix([Eq(eta,pr.model.eta), Eq(mu,pr.model.mu), Eq(mu/eta,pr.model.mu/pr.model.eta), \n",
    "        sub])"
   ]
  },
  {
   "cell_type": "markdown",
   "metadata": {},
   "source": [
    "# Equations"
   ]
  },
  {
   "cell_type": "markdown",
   "metadata": {
    "heading_collapsed": true
   },
   "source": [
    "## Basics"
   ]
  },
  {
   "cell_type": "code",
   "execution_count": 4,
   "metadata": {
    "hidden": true
   },
   "outputs": [],
   "source": [
    "gmeq = Equations( eta=pr.model.eta, mu=pr.model.mu,\n",
    "                  beta_type=pr.model.beta_type, varphi_type=pr.model.varphi_type, \n",
    "                  do_raw=True, do_nothing=True )"
   ]
  },
  {
   "cell_type": "code",
   "execution_count": 5,
   "metadata": {
    "hidden": true
   },
   "outputs": [],
   "source": [
    "def eqns(eqn_list):\n",
    "    return [getattr(gmeq, eqn) for eqn in eqn_list]"
   ]
  },
  {
   "cell_type": "markdown",
   "metadata": {
    "heading_collapsed": true
   },
   "source": [
    "## Vector $\\mathbf{{r}}$"
   ]
  },
  {
   "cell_type": "code",
   "execution_count": 6,
   "metadata": {
    "hidden": true
   },
   "outputs": [],
   "source": [
    "gmeq.define_r_eqns()"
   ]
  },
  {
   "cell_type": "code",
   "execution_count": 7,
   "metadata": {
    "hidden": true
   },
   "outputs": [
    {
     "data": {
      "image/png": "[encoded data removed]",
      "text/latex": [
       "$\\displaystyle \\left[ {r}^x = r \\cos{\\left(\\alpha \\right)}, \\  {r}^z = r \\sin{\\left(\\alpha \\right)}\\right]$"
      ],
      "text/plain": [
       "[{r}__x = r⋅cos(\\alpha), {r}__z = r⋅sin(\\alpha)]"
      ]
     },
     "execution_count": 7,
     "metadata": {},
     "output_type": "execute_result"
    }
   ],
   "source": [
    "eqns(['rx_r_alpha_eqn', 'rz_r_alpha_eqn'])"
   ]
  },
  {
   "cell_type": "markdown",
   "metadata": {
    "heading_collapsed": true
   },
   "source": [
    "## Covector $\\mathbf{\\widetilde{p}}$"
   ]
  },
  {
   "cell_type": "code",
   "execution_count": 8,
   "metadata": {
    "hidden": true
   },
   "outputs": [],
   "source": [
    "gmeq.define_p_eqns()"
   ]
  },
  {
   "cell_type": "code",
   "execution_count": 9,
   "metadata": {
    "hidden": true
   },
   "outputs": [
    {
     "data": {
      "image/png": "[encoded data removed]",
      "text/latex": [
       "$\\displaystyle \\left[ \\mathbf{\\widetilde{p}} = \\left[\\begin{matrix}p_{x} & p_{z}\\end{matrix}\\right], \\  p_{x} = p \\sin{\\left(\\beta \\right)}, \\  p_{z} = - p \\cos{\\left(\\beta \\right)}, \\  p = \\sqrt{p_{x}^{2} + p_{z}^{2}}\\right]$"
      ],
      "text/plain": [
       "⎡                                                                             \n",
       "⎢                                                                             \n",
       "⎣\\mathbf{\\widetilde{p}} = [pₓ  p_z], pₓ = p⋅sin(\\beta), p_z = -p⋅cos(\\beta), p\n",
       "\n",
       "      ____________⎤\n",
       "     ╱   2      2 ⎥\n",
       " = ╲╱  pₓ  + p_z  ⎦"
      ]
     },
     "execution_count": 9,
     "metadata": {},
     "output_type": "execute_result"
    }
   ],
   "source": [
    "eqns(['p_covec_eqn', 'px_p_beta_eqn', 'pz_p_beta_eqn', 'p_norm_pxpz_eqn'])"
   ]
  },
  {
   "cell_type": "code",
   "execution_count": 10,
   "metadata": {
    "hidden": true
   },
   "outputs": [
    {
     "data": {
      "image/png": "[encoded data removed]",
      "text/latex": [
       "$\\displaystyle p = - \\frac{p_{z}}{\\cos{\\left(\\beta \\right)}}$"
      ],
      "text/plain": [
       "      -p_z    \n",
       "p = ──────────\n",
       "    cos(\\beta)"
      ]
     },
     "execution_count": 10,
     "metadata": {},
     "output_type": "execute_result"
    }
   ],
   "source": [
    "gmeq.p_pz_cosbeta_eqn"
   ]
  },
  {
   "cell_type": "code",
   "execution_count": 11,
   "metadata": {
    "hidden": true
   },
   "outputs": [
    {
     "data": {
      "image/png": "[encoded data removed]",
      "text/latex": [
       "$\\displaystyle \\left[ \\tan{\\left(\\beta \\right)} = - \\frac{p_{x}}{p_{z}}, \\  \\sin{\\left(\\beta \\right)} = \\frac{p_{x}}{\\sqrt{p_{x}^{2} + p_{z}^{2}}}, \\  \\cos{\\left(\\beta \\right)} = - \\frac{p_{z}}{\\sqrt{p_{x}^{2} + p_{z}^{2}}}\\right]$"
      ],
      "text/plain": [
       "⎡             -pₓ                       pₓ                          -p_z      \n",
       "⎢tan(\\beta) = ────, sin(\\beta) = ───────────────, cos(\\beta) = ───────────────\n",
       "⎢             p_z                   ____________                  ____________\n",
       "⎢                                  ╱   2      2                  ╱   2      2 \n",
       "⎣                                ╲╱  pₓ  + p_z                 ╲╱  pₓ  + p_z  \n",
       "\n",
       "⎤\n",
       "⎥\n",
       "⎥\n",
       "⎥\n",
       "⎦"
      ]
     },
     "execution_count": 11,
     "metadata": {},
     "output_type": "execute_result"
    }
   ],
   "source": [
    "eqns(['tanbeta_pxpz_eqn', 'sinbeta_pxpz_eqn', 'cosbeta_pxpz_eqn'])"
   ]
  },
  {
   "cell_type": "code",
   "execution_count": 12,
   "metadata": {
    "hidden": true
   },
   "outputs": [
    {
     "data": {
      "image/png": "[encoded data removed]",
      "text/latex": [
       "$\\displaystyle \\left[ p_{z} = - \\frac{p_{x}}{\\tan{\\left(\\beta \\right)}}, \\  p_{x} = - p_{z} \\tan{\\left(\\beta \\right)}, \\  p = - \\frac{p_{z}}{\\cos{\\left(\\beta \\right)}}\\right]$"
      ],
      "text/plain": [
       "⎡         -pₓ                                  -p_z    ⎤\n",
       "⎢p_z = ──────────, pₓ = -p_z⋅tan(\\beta), p = ──────────⎥\n",
       "⎣      tan(\\beta)                            cos(\\beta)⎦"
      ]
     },
     "execution_count": 12,
     "metadata": {},
     "output_type": "execute_result"
    }
   ],
   "source": [
    "eqns(['pz_px_tanbeta_eqn', 'px_pz_tanbeta_eqn', 'p_pz_cosbeta_eqn'])"
   ]
  },
  {
   "cell_type": "markdown",
   "metadata": {
    "heading_collapsed": true
   },
   "source": [
    "## Erosion model"
   ]
  },
  {
   "cell_type": "markdown",
   "metadata": {
    "heading_collapsed": true,
    "hidden": true
   },
   "source": [
    "### $\\xi$ model"
   ]
  },
  {
   "cell_type": "code",
   "execution_count": 13,
   "metadata": {
    "hidden": true
   },
   "outputs": [],
   "source": [
    "gmeq.define_xi_eqns()"
   ]
  },
  {
   "cell_type": "code",
   "execution_count": 14,
   "metadata": {
    "hidden": true
   },
   "outputs": [
    {
     "data": {
      "image/png": "[encoded data removed]",
      "text/latex": [
       "$\\displaystyle \\left[ \\xi^{\\perp} = \\frac{1}{p}, \\  \\xi^{\\downarrow} = - \\frac{1}{p_{z}}, \\  p = \\frac{1}{\\xi^{\\perp}}, \\  p_{z} = - \\frac{1}{\\xi^{\\downarrow}}\\right]$"
      ],
      "text/plain": [
       "⎡               1                      -1            1                     -1 \n",
       "⎢\\xi__{\\perp} = ─, \\xi__{\\downarrow} = ───, p = ────────────, p_z = ──────────\n",
       "⎣               p                      p_z      \\xi__{\\perp}        \\xi__{\\dow\n",
       "\n",
       "       ⎤\n",
       "───────⎥\n",
       "narrow}⎦"
      ]
     },
     "execution_count": 14,
     "metadata": {},
     "output_type": "execute_result"
    }
   ],
   "source": [
    "eqns(['xi_p_eqn', 'xiv_pz_eqn', 'p_xi_eqn', 'pz_xiv_eqn'])"
   ]
  },
  {
   "cell_type": "code",
   "execution_count": 15,
   "metadata": {
    "hidden": true
   },
   "outputs": [],
   "source": [
    "gmeq.define_xi_model_eqn()"
   ]
  },
  {
   "cell_type": "code",
   "execution_count": 16,
   "metadata": {
    "hidden": true
   },
   "outputs": [
    {
     "data": {
      "image/png": "[encoded data removed]",
      "text/latex": [
       "$\\displaystyle \\left[ \\xi^{\\perp} = \\varphi{\\left(\\mathbf{r} \\right)} \\left|{\\sin{\\left(\\beta \\right)}}\\right|^{\\eta}\\right]$"
      ],
      "text/plain": [
       "⎡                                               \\eta⎤\n",
       "⎣\\xi__{\\perp} = \\varphi(\\mathbf{r})⋅│sin(\\beta)│    ⎦"
      ]
     },
     "execution_count": 16,
     "metadata": {},
     "output_type": "execute_result"
    }
   ],
   "source": [
    "eqns(['xi_varphi_beta_eqn'])"
   ]
  },
  {
   "cell_type": "code",
   "execution_count": 17,
   "metadata": {
    "hidden": true
   },
   "outputs": [
    {
     "data": {
      "image/png": "[encoded data removed]",
      "text/latex": [
       "$\\displaystyle - \\frac{\\cos{\\left(\\beta \\right)}}{p_{z}} = \\varphi{\\left(\\mathbf{r} \\right)} \\left|{\\sin{\\left(\\beta \\right)}}\\right|^{\\eta}$"
      ],
      "text/plain": [
       "-cos(\\beta)                                    \\eta\n",
       "──────────── = \\varphi(\\mathbf{r})⋅│sin(\\beta)│    \n",
       "    p_z                                            "
      ]
     },
     "execution_count": 17,
     "metadata": {},
     "output_type": "execute_result"
    }
   ],
   "source": [
    "gmeq.xi_varphi_beta_eqn.subs(e2d(gmeq.xi_p_eqn)).subs(e2d(gmeq.p_pz_cosbeta_eqn))"
   ]
  },
  {
   "cell_type": "code",
   "execution_count": 18,
   "metadata": {
    "hidden": true
   },
   "outputs": [
    {
     "data": {
      "image/png": "[encoded data removed]",
      "text/latex": [
       "$\\displaystyle \\frac{1}{p} = \\varphi{\\left(\\mathbf{r} \\right)} \\left|{\\sin{\\left(\\beta \\right)}}\\right|^{\\eta}$"
      ],
      "text/plain": [
       "1                                   \\eta\n",
       "─ = \\varphi(\\mathbf{r})⋅│sin(\\beta)│    \n",
       "p                                       "
      ]
     },
     "execution_count": 18,
     "metadata": {},
     "output_type": "execute_result"
    }
   ],
   "source": [
    "gmeq.xi_varphi_beta_eqn.subs(e2d(gmeq.xi_p_eqn))"
   ]
  },
  {
   "cell_type": "markdown",
   "metadata": {
    "heading_collapsed": true,
    "hidden": true
   },
   "source": [
    "### $\\xi$ related eqns"
   ]
  },
  {
   "cell_type": "code",
   "execution_count": 19,
   "metadata": {
    "hidden": true
   },
   "outputs": [],
   "source": [
    "gmeq.define_xi_related_eqns()"
   ]
  },
  {
   "cell_type": "code",
   "execution_count": 20,
   "metadata": {
    "hidden": true
   },
   "outputs": [
    {
     "data": {
      "image/png": "[encoded data removed]",
      "text/latex": [
       "$\\displaystyle - \\frac{\\left(\\frac{\\left|{p_{x}}\\right|}{\\sqrt{p_{x}^{2} + p_{z}^{2}}}\\right)^{\\eta} \\sqrt{p_{x}^{2} + p_{z}^{2}} \\varphi{\\left(\\mathbf{r} \\right)}}{p_{z}}$"
      ],
      "text/plain": [
       "                  \\eta    ____________                     \n",
       " ⎛      │pₓ│     ⎞       ╱   2      2                      \n",
       "-⎜───────────────⎟    ⋅╲╱  pₓ  + p_z  ⋅\\varphi(\\mathbf{r}) \n",
       " ⎜   ____________⎟                                         \n",
       " ⎜  ╱   2      2 ⎟                                         \n",
       " ⎝╲╱  pₓ  + p_z  ⎠                                         \n",
       "───────────────────────────────────────────────────────────\n",
       "                            p_z                            "
      ]
     },
     "execution_count": 20,
     "metadata": {},
     "output_type": "execute_result"
    }
   ],
   "source": [
    "( (gmeq.xi_varphi_beta_eqn.rhs/cos(beta))\n",
    "    .subs(e2d(gmeq.tanbeta_pxpz_eqn))\n",
    "    .subs(e2d(gmeq.cosbeta_pxpz_eqn))\n",
    "    .subs(e2d(gmeq.sinbeta_pxpz_eqn))\n",
    "    .subs({(-Abs(px)/pz)**eta:px**eta/(-pz)**eta})\n",
    ")"
   ]
  },
  {
   "cell_type": "code",
   "execution_count": 21,
   "metadata": {
    "hidden": true
   },
   "outputs": [
    {
     "data": {
      "image/png": "[encoded data removed]",
      "text/latex": [
       "$\\displaystyle \\left[ \\xi^{\\downarrow} = - \\frac{p_{x}^{\\eta} \\left(p_{x}^{2} + p_{z}^{2}\\right)^{\\frac{1}{2} - \\frac{\\eta}{2}} \\varphi{\\left(\\mathbf{r} \\right)}}{p_{z}}\\right]$"
      ],
      "text/plain": [
       "⎡                                        1   \\eta                     ⎤\n",
       "⎢                                        ─ - ────                     ⎥\n",
       "⎢                                        2    2                       ⎥\n",
       "⎢                       \\eta ⎛  2      2⎞                             ⎥\n",
       "⎢                    -pₓ    ⋅⎝pₓ  + p_z ⎠        ⋅\\varphi(\\mathbf{r}) ⎥\n",
       "⎢\\xi__{\\downarrow} = ─────────────────────────────────────────────────⎥\n",
       "⎣                                           p_z                       ⎦"
      ]
     },
     "execution_count": 21,
     "metadata": {},
     "output_type": "execute_result"
    }
   ],
   "source": [
    "eqns(['xiv_varphi_pxpz_eqn'])"
   ]
  },
  {
   "cell_type": "code",
   "execution_count": 22,
   "metadata": {
    "hidden": true
   },
   "outputs": [
    {
     "data": {
      "image/png": "[encoded data removed]",
      "text/latex": [
       "$\\displaystyle \\left(\\xi^{\\downarrow}\\right)^{2} \\left(p_{x}^{2} p_{x}^{2 \\eta} \\left(p_{x}^{2} + \\frac{1}{\\left(\\xi^{\\downarrow}\\right)^{2}}\\right)^{- \\eta} \\varphi^{2}{\\left(\\mathbf{r} \\right)} - 1 + \\frac{p_{x}^{2 \\eta} \\left(p_{x}^{2} + \\frac{1}{\\left(\\xi^{\\downarrow}\\right)^{2}}\\right)^{- \\eta} \\varphi^{2}{\\left(\\mathbf{r} \\right)}}{\\left(\\xi^{\\downarrow}\\right)^{2}}\\right) \\left(p_{x}^{2} p_{x}^{2 \\eta} \\left(p_{x}^{2} + \\frac{1}{\\left(\\xi^{\\downarrow}\\right)^{2}}\\right)^{- \\eta} \\varphi^{2}{\\left(\\mathbf{r} \\right)} + 1 + \\frac{p_{x}^{2 \\eta} \\left(p_{x}^{2} + \\frac{1}{\\left(\\xi^{\\downarrow}\\right)^{2}}\\right)^{- \\eta} \\varphi^{2}{\\left(\\mathbf{r} \\right)}}{\\left(\\xi^{\\downarrow}\\right)^{2}}\\right) = 0$"
      ],
      "text/plain": [
       "                   ⎛                                                          \n",
       "                   ⎜                                                          \n",
       "                   ⎜                                                          \n",
       "                   ⎜                                       -\\eta              \n",
       "                 2 ⎜  2   2⋅\\eta ⎛  2           1         ⎞             2     \n",
       "\\xi__{\\downarrow} ⋅⎜pₓ ⋅pₓ      ⋅⎜pₓ  + ──────────────────⎟     ⋅\\varphi (\\mat\n",
       "                   ⎜             ⎜                       2⎟                   \n",
       "                   ⎝             ⎝      \\xi__{\\downarrow} ⎠                   \n",
       "\n",
       "                                                 -\\eta                     ⎞ ⎛\n",
       "                2⋅\\eta ⎛  2           1         ⎞             2            ⎟ ⎜\n",
       "              pₓ      ⋅⎜pₓ  + ──────────────────⎟     ⋅\\varphi (\\mathbf{r})⎟ ⎜\n",
       "                       ⎜                       2⎟                          ⎟ ⎜\n",
       "                       ⎝      \\xi__{\\downarrow} ⎠                          ⎟ ⎜\n",
       "hbf{r}) - 1 + ─────────────────────────────────────────────────────────────⎟⋅⎜\n",
       "                                                     2                     ⎟ ⎜\n",
       "                                    \\xi__{\\downarrow}                      ⎠ ⎝\n",
       "\n",
       "                                                                              \n",
       "                                                                          2⋅\\e\n",
       "                                                                        pₓ    \n",
       "                                       -\\eta                                  \n",
       "  2   2⋅\\eta ⎛  2           1         ⎞             2                         \n",
       "pₓ ⋅pₓ      ⋅⎜pₓ  + ──────────────────⎟     ⋅\\varphi (\\mathbf{r}) + 1 + ──────\n",
       "             ⎜                       2⎟                                       \n",
       "             ⎝      \\xi__{\\downarrow} ⎠                                       \n",
       "\n",
       "                             -\\eta                     ⎞    \n",
       "ta ⎛  2           1         ⎞             2            ⎟    \n",
       "  ⋅⎜pₓ  + ──────────────────⎟     ⋅\\varphi (\\mathbf{r})⎟    \n",
       "   ⎜                       2⎟                          ⎟    \n",
       "   ⎝      \\xi__{\\downarrow} ⎠                          ⎟    \n",
       "───────────────────────────────────────────────────────⎟ = 0\n",
       "                                 2                     ⎟    \n",
       "                \\xi__{\\downarrow}                      ⎠    "
      ]
     },
     "execution_count": 22,
     "metadata": {},
     "output_type": "execute_result"
    }
   ],
   "source": [
    "gmeq.px_xiv_varphi_eqn"
   ]
  },
  {
   "cell_type": "markdown",
   "metadata": {
    "heading_collapsed": true,
    "hidden": true
   },
   "source": [
    "### $\\varphi$ model"
   ]
  },
  {
   "cell_type": "code",
   "execution_count": 23,
   "metadata": {
    "hidden": true
   },
   "outputs": [
    {
     "data": {
      "text/plain": [
       "'ramp'"
      ]
     },
     "execution_count": 23,
     "metadata": {},
     "output_type": "execute_result"
    }
   ],
   "source": [
    "gmeq.define_varphi_model_eqn()\n",
    "gmeq.varphi_type"
   ]
  },
  {
   "cell_type": "code",
   "execution_count": 24,
   "metadata": {
    "hidden": true
   },
   "outputs": [
    {
     "data": {
      "image/png": "[encoded data removed]",
      "text/plain": [
       "<Figure size 432x288 with 1 Axes>"
      ]
     },
     "metadata": {
      "image/png": {
       "height": 278,
       "width": 422
      },
      "needs_background": "light"
     },
     "output_type": "display_data"
    },
    {
     "data": {
      "image/png": "[encoded data removed]",
      "text/latex": [
       "$\\displaystyle \\frac{1}{e^{\\frac{L_\\mathrm{c} - x - x_{h}}{x_{\\sigma}}} + 1}$"
      ],
      "text/plain": [
       "            1             \n",
       "──────────────────────────\n",
       " L_\\mathrm{c} - x - xₕ    \n",
       " ─────────────────────    \n",
       "       x_{\\sigma}         \n",
       "ℯ                      + 1"
      ]
     },
     "execution_count": 24,
     "metadata": {},
     "output_type": "execute_result"
    }
   ],
   "source": [
    "smooth_step_fn = 1/(1+sy.exp(((x_1-x_h)-x)/x_sigma))\n",
    "sy.plot(smooth_step_fn.subs({x:x_1-x}).subs({x_sigma:0.01, x_h:0.8, x_1:1}), (x,0,1));\n",
    "simplify(smooth_step_fn)"
   ]
  },
  {
   "cell_type": "code",
   "execution_count": 25,
   "metadata": {
    "hidden": true
   },
   "outputs": [],
   "source": [
    "tmpsub = {x_sigma:0.01, chi:30, x_h:0.8, x_1:1, varphi_0:1, mu:2}"
   ]
  },
  {
   "cell_type": "code",
   "execution_count": 26,
   "metadata": {
    "hidden": true
   },
   "outputs": [
    {
     "data": {
      "image/png": "[encoded data removed]",
      "text/latex": [
       "$\\displaystyle \\left( \\left(\\frac{L_\\mathrm{c} - \\chi \\left(L_\\mathrm{c} - x_{h}\\right) + \\chi \\left(x + x_{\\sigma} \\log{\\left(e^{\\frac{L_\\mathrm{c} - x - x_{h}}{x_{\\sigma}}} + 1 \\right)}\\right)}{L_\\mathrm{c}}\\right)^{\\mu}, \\  1.00000000123669\\right)$"
      ],
      "text/plain": [
       "⎛                                                                             \n",
       "⎜⎛                                               ⎛                  ⎛ L_\\mathr\n",
       "⎜⎜                                               ⎜                  ⎜ ────────\n",
       "⎜⎜                                               ⎜                  ⎜       x_\n",
       "⎜⎜L_\\mathrm{c} - \\chi⋅(L_\\mathrm{c} - xₕ) + \\chi⋅⎝x + x_{\\sigma}⋅log⎝ℯ        \n",
       "⎜⎜────────────────────────────────────────────────────────────────────────────\n",
       "⎝⎝                                          L_\\mathrm{c}                      \n",
       "\n",
       "                    \\mu                  ⎞\n",
       "m{c} - x - xₕ    ⎞⎞⎞                     ⎟\n",
       "─────────────    ⎟⎟⎟                     ⎟\n",
       "{\\sigma}         ⎟⎟⎟                     ⎟\n",
       "              + 1⎠⎠⎟                     ⎟\n",
       "───────────────────⎟   , 1.00000000123669⎟\n",
       "                   ⎠                     ⎠"
      ]
     },
     "execution_count": 26,
     "metadata": {},
     "output_type": "execute_result"
    }
   ],
   "source": [
    "smooth_break_fn = simplify( ((chi/(x_1))*(\n",
    "    sy.integrate(smooth_step_fn,x))-chi*(1-x_h/x_1)+1)**mu )\n",
    "smooth_break_fn, smooth_break_fn.subs({x:x_1-rx}).subs({rx:x_1}).subs(tmpsub)"
   ]
  },
  {
   "cell_type": "code",
   "execution_count": 27,
   "metadata": {
    "hidden": true
   },
   "outputs": [
    {
     "data": {
      "image/png": "[encoded data removed]",
      "text/plain": [
       "<Figure size 432x288 with 1 Axes>"
      ]
     },
     "metadata": {
      "image/png": {
       "height": 279,
       "width": 424
      },
      "needs_background": "light"
     },
     "output_type": "display_data"
    }
   ],
   "source": [
    "p=sy.plot(smooth_break_fn.subs({x:x_1-rx}).subs(tmpsub),\n",
    "          gmeq.varphi_model_rampflatmu_eqn.rhs.subs(tmpsub), \n",
    "          (rx,0,1), show=False);\n",
    "p[0].line_color = ['red','white']\n",
    "p.show()"
   ]
  },
  {
   "cell_type": "code",
   "execution_count": 28,
   "metadata": {
    "hidden": true
   },
   "outputs": [
    {
     "data": {
      "image/png": "[encoded data removed]",
      "text/latex": [
       "$\\displaystyle \\varphi{\\left(\\mathbf{r} \\right)} = - 30 {r}^x + 0.3 \\log{\\left(3.72007597602084 \\cdot 10^{-44} e^{100.0 {r}^x} + 1 \\right)} + 31$"
      ],
      "text/plain": [
       "                                          ⎛                      100.0⋅{r}__x \n",
       "\\varphi(\\mathbf{r}) = -30⋅{r}__x + 0.3⋅log⎝3.72007597602084e-44⋅ℯ             \n",
       "\n",
       "   ⎞     \n",
       "+ 1⎠ + 31"
      ]
     },
     "execution_count": 28,
     "metadata": {},
     "output_type": "execute_result"
    }
   ],
   "source": [
    "gmeq.varphi_model_rampflat_eqn.subs(tmpsub)"
   ]
  },
  {
   "cell_type": "code",
   "execution_count": 29,
   "metadata": {
    "hidden": true
   },
   "outputs": [
    {
     "data": {
      "image/png": "[encoded data removed]",
      "text/plain": [
       "<Figure size 432x288 with 1 Axes>"
      ]
     },
     "metadata": {
      "image/png": {
       "height": 279,
       "width": 422
      },
      "needs_background": "light"
     },
     "output_type": "display_data"
    }
   ],
   "source": [
    "sy.plot(gmeq.varphi_model_rampflat_eqn.rhs.subs(tmpsub), (rx,0,1));"
   ]
  },
  {
   "cell_type": "code",
   "execution_count": 30,
   "metadata": {
    "hidden": true
   },
   "outputs": [
    {
     "data": {
      "image/png": "[encoded data removed]",
      "text/latex": [
       "$\\displaystyle \\left[ \\varphi{\\left(\\mathbf{r} \\right)} = \\varphi_0 \\left(L_\\mathrm{c} + \\varepsilon - {r}^x\\right)^{2 \\mu}, \\  \\varphi{\\left(\\mathbf{r} \\right)} = L_\\mathrm{c}^{- 2 \\mu} \\varphi_0 \\left(L_\\mathrm{c} - \\chi \\left(L_\\mathrm{c} - x_{h}\\right) + \\chi \\left(L_\\mathrm{c} + x_{\\sigma} \\log{\\left(e^{\\frac{- x_{h} + {r}^x}{x_{\\sigma}}} + 1 \\right)} - {r}^x\\right)\\right)^{2 \\mu}\\right]$"
      ],
      "text/plain": [
       "⎡                                                                             \n",
       "⎢                                                                             \n",
       "⎢                                                                             \n",
       "⎢                                                                    2⋅\\mu    \n",
       "⎣\\varphi(\\mathbf{r}) = \\varphi₀⋅(L_\\mathrm{c} + \\varepsilon - {r}__x)     , \\v\n",
       "\n",
       "                                                                              \n",
       "                                                ⎛                             \n",
       "                                                ⎜                             \n",
       "                                -2⋅\\mu          ⎜                             \n",
       "arphi(\\mathbf{r}) = L_\\mathrm{c}      ⋅\\varphi₀⋅⎝L_\\mathrm{c} - \\chi⋅(L_\\mathr\n",
       "\n",
       "                                                                              \n",
       "                  ⎛                             ⎛ -xₕ + {r}__x    ⎞         ⎞⎞\n",
       "                  ⎜                             ⎜ ────────────    ⎟         ⎟⎟\n",
       "                  ⎜                             ⎜  x_{\\sigma}     ⎟         ⎟⎟\n",
       "m{c} - xₕ) + \\chi⋅⎝L_\\mathrm{c} + x_{\\sigma}⋅log⎝ℯ             + 1⎠ - {r}__x⎠⎠\n",
       "\n",
       "2⋅\\mu⎤\n",
       "     ⎥\n",
       "     ⎥\n",
       "     ⎥\n",
       "     ⎦"
      ]
     },
     "execution_count": 30,
     "metadata": {},
     "output_type": "execute_result"
    }
   ],
   "source": [
    "eqns(['varphi_model_ramp_eqn','varphi_model_rampflatmu_eqn'])"
   ]
  },
  {
   "cell_type": "code",
   "execution_count": 31,
   "metadata": {
    "hidden": true
   },
   "outputs": [
    {
     "data": {
      "image/png": "[encoded data removed]",
      "text/plain": [
       "<Figure size 432x288 with 1 Axes>"
      ]
     },
     "metadata": {
      "image/png": {
       "height": 280,
       "width": 422
      },
      "needs_background": "light"
     },
     "output_type": "display_data"
    }
   ],
   "source": [
    "p = sy.plot(gmeq.varphi_model_ramp_eqn.rhs\n",
    "            .subs({varphi_0:1, varepsilon:1, x_1:1, mu:Rational(1,2)}),\n",
    " gmeq.varphi_model_ramp_eqn.rhs.subs({varphi_0:1, varepsilon:1, x_1:1, mu:Rational(1,2)}), \n",
    "        (rx,0,1), show=False);\n",
    "p[0].line_color = 'red'\n",
    "p.show()"
   ]
  },
  {
   "cell_type": "code",
   "execution_count": 32,
   "metadata": {
    "hidden": true,
    "scrolled": true
   },
   "outputs": [
    {
     "data": {
      "image/png": "[encoded data removed]",
      "text/latex": [
       "$\\displaystyle \\left( \\varphi{\\left(\\mathbf{r} \\right)} = \\varphi_0 \\left(L_\\mathrm{c} + \\varepsilon - {r}^x\\right)^{2 \\mu}, \\  \\varphi{\\left(\\mathbf{r} \\right)} = \\frac{\\varphi_0 \\left(L_\\mathrm{c} + \\chi \\left(L_\\mathrm{c} - {r}^x\\right)\\right)}{L_\\mathrm{c}}\\right)$"
      ],
      "text/plain": [
       "⎛                                                                    2⋅\\mu    \n",
       "⎜\\varphi(\\mathbf{r}) = \\varphi₀⋅(L_\\mathrm{c} + \\varepsilon - {r}__x)     , \\v\n",
       "⎝                                                                             \n",
       "\n",
       "                    \\varphi₀⋅(L_\\mathrm{c} + \\chi⋅(L_\\mathrm{c} - {r}__x))⎞\n",
       "arphi(\\mathbf{r}) = ──────────────────────────────────────────────────────⎟\n",
       "                                         L_\\mathrm{c}                     ⎠"
      ]
     },
     "execution_count": 32,
     "metadata": {},
     "output_type": "execute_result"
    }
   ],
   "source": [
    "gmeq.varphi_model_ramp_eqn.subs({x_sigma:0}), \\\n",
    "    simplify(gmeq.varphi_model_rampflat_eqn.subs({x_sigma:0}))"
   ]
  },
  {
   "cell_type": "code",
   "execution_count": 33,
   "metadata": {
    "hidden": true
   },
   "outputs": [
    {
     "data": {
      "image/png": "[encoded data removed]",
      "text/latex": [
       "$\\displaystyle \\left[ \\varphi{\\left(\\mathbf{r} \\right)} = \\varphi_0 \\left(L_\\mathrm{c} + \\varepsilon - {r}^x\\right)^{2 \\mu}\\right]$"
      ],
      "text/plain": [
       "⎡                                                                    2⋅\\mu⎤\n",
       "⎣\\varphi(\\mathbf{r}) = \\varphi₀⋅(L_\\mathrm{c} + \\varepsilon - {r}__x)     ⎦"
      ]
     },
     "execution_count": 33,
     "metadata": {},
     "output_type": "execute_result"
    }
   ],
   "source": [
    "eqns(['varphi_rx_eqn'])"
   ]
  },
  {
   "cell_type": "markdown",
   "metadata": {
    "heading_collapsed": true,
    "hidden": true
   },
   "source": [
    "### $\\varphi$ related eqns"
   ]
  },
  {
   "cell_type": "code",
   "execution_count": 34,
   "metadata": {
    "hidden": true
   },
   "outputs": [],
   "source": [
    "gmeq.define_varphi_related_eqns()"
   ]
  },
  {
   "cell_type": "code",
   "execution_count": 35,
   "metadata": {
    "hidden": true
   },
   "outputs": [
    {
     "data": {
      "image/png": "[encoded data removed]",
      "text/latex": [
       "$\\displaystyle \\left[ p = \\frac{\\left|{\\sin{\\left(\\beta \\right)}}\\right|^{- \\eta}}{\\varphi{\\left(\\mathbf{r} \\right)}}, \\  \\sqrt{p_{x}^{2} + p_{z}^{2}} = \\frac{\\left(\\frac{p_{x}}{\\sqrt{p_{x}^{2} + p_{z}^{2}}}\\right)^{- \\eta}}{\\varphi{\\left(\\mathbf{r} \\right)}}\\right]$"
      ],
      "text/plain": [
       "⎡                                                            -\\eta⎤\n",
       "⎢                                           ⎛       pₓ      ⎞     ⎥\n",
       "⎢                                           ⎜───────────────⎟     ⎥\n",
       "⎢                                           ⎜   ____________⎟     ⎥\n",
       "⎢                 -\\eta      ____________   ⎜  ╱   2      2 ⎟     ⎥\n",
       "⎢     │sin(\\beta)│          ╱   2      2    ⎝╲╱  pₓ  + p_z  ⎠     ⎥\n",
       "⎢p = ───────────────────, ╲╱  pₓ  + p_z   = ──────────────────────⎥\n",
       "⎣    \\varphi(\\mathbf{r})                     \\varphi(\\mathbf{r})  ⎦"
      ]
     },
     "execution_count": 35,
     "metadata": {},
     "output_type": "execute_result"
    }
   ],
   "source": [
    "eqns(['p_varphi_beta_eqn', 'p_varphi_pxpz_eqn'])"
   ]
  },
  {
   "cell_type": "code",
   "execution_count": 36,
   "metadata": {
    "hidden": true
   },
   "outputs": [
    {
     "data": {
      "image/png": "[encoded data removed]",
      "text/latex": [
       "$\\displaystyle \\left[ \\sqrt{p_{x}^{2} + p_{z}^{2}} = \\frac{p_{x}^{- \\eta} \\left(p_{x}^{2} + p_{z}^{2}\\right)^{\\frac{\\eta}{2}} \\left(L_\\mathrm{c} + \\varepsilon - {r}^x\\right)^{- 2 \\mu}}{\\varphi_0}, \\  \\sqrt{p_{x}^{2} + \\frac{p_{x}^{2}}{\\tan^{2}{\\left(\\beta \\right)}}} = \\frac{p_{x}^{- \\eta} \\left(p_{x}^{2} + \\frac{p_{x}^{2}}{\\tan^{2}{\\left(\\beta \\right)}}\\right)^{\\frac{\\eta}{2}} \\left(L_\\mathrm{c} + \\varepsilon - {r}^x\\right)^{- 2 \\mu}}{\\varphi_0}\\right]$"
      ],
      "text/plain": [
       "⎡                                                                             \n",
       "⎢                                                                             \n",
       "⎢                                                                             \n",
       "⎢                                      \\eta                                   \n",
       "⎢                                      ────                                   \n",
       "⎢                                       2                                     \n",
       "⎢   ____________     -\\eta ⎛  2      2⎞                                       \n",
       "⎢  ╱   2      2    pₓ     ⋅⎝pₓ  + p_z ⎠    ⋅(L_\\mathrm{c} + \\varepsilon - {r}_\n",
       "⎢╲╱  pₓ  + p_z   = ───────────────────────────────────────────────────────────\n",
       "⎢                                                \\varphi₀                     \n",
       "⎣                                                                             \n",
       "\n",
       "                                                                  \\eta        \n",
       "                                                                  ────        \n",
       "                                                                   2          \n",
       "                                               ⎛            2    ⎞            \n",
       "                                         -\\eta ⎜  2       pₓ     ⎟            \n",
       "                 ___________________   pₓ     ⋅⎜pₓ  + ───────────⎟    ⋅(L_\\mat\n",
       "   -2⋅\\mu       ╱             2                ⎜         2       ⎟            \n",
       "_x)            ╱    2       pₓ                 ⎝      tan (\\beta)⎠            \n",
       "─────────,    ╱   pₓ  + ───────────  = ───────────────────────────────────────\n",
       "             ╱             2                                             \\varp\n",
       "           ╲╱           tan (\\beta)                                           \n",
       "\n",
       "                                    ⎤\n",
       "                                    ⎥\n",
       "                                    ⎥\n",
       "                                    ⎥\n",
       "                              -2⋅\\mu⎥\n",
       "hrm{c} + \\varepsilon - {r}__x)      ⎥\n",
       "                                    ⎥\n",
       "                                    ⎥\n",
       "────────────────────────────────────⎥\n",
       "hi₀                                 ⎥\n",
       "                                    ⎦"
      ]
     },
     "execution_count": 36,
     "metadata": {},
     "output_type": "execute_result"
    }
   ],
   "source": [
    "eqns(['p_rx_pxpz_eqn', 'p_rx_tanbeta_eqn'])"
   ]
  },
  {
   "cell_type": "code",
   "execution_count": 37,
   "metadata": {
    "hidden": true
   },
   "outputs": [
    {
     "data": {
      "image/png": "[encoded data removed]",
      "text/latex": [
       "$\\displaystyle \\left[ p_{x} = \\frac{p_{x}^{- \\eta} \\left(p_{x}^{2} + \\frac{p_{x}^{2}}{\\tan^{2}{\\left(\\beta \\right)}}\\right)^{\\frac{\\eta}{2}} \\left(L_\\mathrm{c} + \\varepsilon - {r}^x\\right)^{- 2 \\mu} \\sin{\\left(\\beta \\right)}}{\\varphi_0}, \\  p_{z} = - \\frac{p_{x}^{- \\eta} \\left(p_{x}^{2} + \\frac{p_{x}^{2}}{\\tan^{2}{\\left(\\beta \\right)}}\\right)^{\\frac{\\eta}{2}} \\left(L_\\mathrm{c} + \\varepsilon - {r}^x\\right)^{- 2 \\mu} \\cos{\\left(\\beta \\right)}}{\\varphi_0}\\right]$"
      ],
      "text/plain": [
       "⎡                                \\eta                                         \n",
       "⎢                                ────                                         \n",
       "⎢                                 2                                           \n",
       "⎢             ⎛            2    ⎞                                             \n",
       "⎢       -\\eta ⎜  2       pₓ     ⎟                                          -2⋅\n",
       "⎢     pₓ     ⋅⎜pₓ  + ───────────⎟    ⋅(L_\\mathrm{c} + \\varepsilon - {r}__x)   \n",
       "⎢             ⎜         2       ⎟                                             \n",
       "⎢             ⎝      tan (\\beta)⎠                                             \n",
       "⎢pₓ = ────────────────────────────────────────────────────────────────────────\n",
       "⎣                                            \\varphi₀                         \n",
       "\n",
       "                                                  \\eta                        \n",
       "                                                  ────                        \n",
       "                                                   2                          \n",
       "                               ⎛            2    ⎞                            \n",
       "\\mu                      -\\eta ⎜  2       pₓ     ⎟                            \n",
       "   ⋅sin(\\beta)        -pₓ     ⋅⎜pₓ  + ───────────⎟    ⋅(L_\\mathrm{c} + \\vareps\n",
       "                               ⎜         2       ⎟                            \n",
       "                               ⎝      tan (\\beta)⎠                            \n",
       "──────────────, p_z = ────────────────────────────────────────────────────────\n",
       "                                                              \\varphi₀        \n",
       "\n",
       "                                ⎤\n",
       "                                ⎥\n",
       "                                ⎥\n",
       "                                ⎥\n",
       "              -2⋅\\mu            ⎥\n",
       "ilon - {r}__x)      ⋅cos(\\beta) ⎥\n",
       "                                ⎥\n",
       "                                ⎥\n",
       "────────────────────────────────⎥\n",
       "                                ⎦"
      ]
     },
     "execution_count": 37,
     "metadata": {},
     "output_type": "execute_result"
    }
   ],
   "source": [
    "eqns(['px_beta_eqn', 'pz_beta_eqn'])"
   ]
  },
  {
   "cell_type": "code",
   "execution_count": 38,
   "metadata": {
    "hidden": true
   },
   "outputs": [
    {
     "data": {
      "image/png": "[encoded data removed]",
      "text/latex": [
       "$\\displaystyle \\left[ \\xi^{\\downarrow} = \\frac{p_{z}}{p_{x}^{2} + p_{z}^{2}}\\right]$"
      ],
      "text/plain": [
       "⎡                       p_z    ⎤\n",
       "⎢\\xi__{\\downarrow} = ──────────⎥\n",
       "⎢                      2      2⎥\n",
       "⎣                    pₓ  + p_z ⎦"
      ]
     },
     "execution_count": 38,
     "metadata": {},
     "output_type": "execute_result"
    }
   ],
   "source": [
    "eqns(['xiv_pxpz_eqn'])"
   ]
  },
  {
   "cell_type": "code",
   "execution_count": 39,
   "metadata": {
    "hidden": true
   },
   "outputs": [
    {
     "data": {
      "image/png": "[encoded data removed]",
      "text/latex": [
       "$\\displaystyle \\left[ p_{x} = \\frac{\\sin{\\left(\\beta \\right)} \\left|{\\sin{\\left(\\beta \\right)}}\\right|^{- \\eta}}{\\varphi{\\left(\\mathbf{r} \\right)}}, \\  p_{z} = - \\frac{\\cos{\\left(\\beta \\right)} \\left|{\\sin{\\left(\\beta \\right)}}\\right|^{- \\eta}}{\\varphi{\\left(\\mathbf{r} \\right)}}\\right]$"
      ],
      "text/plain": [
       "⎡                            -\\eta                                -\\eta ⎤\n",
       "⎢     sin(\\beta)⋅│sin(\\beta)│             -cos(\\beta)⋅│sin(\\beta)│      ⎥\n",
       "⎢pₓ = ────────────────────────────, p_z = ──────────────────────────────⎥\n",
       "⎣         \\varphi(\\mathbf{r})                  \\varphi(\\mathbf{r})      ⎦"
      ]
     },
     "execution_count": 39,
     "metadata": {},
     "output_type": "execute_result"
    }
   ],
   "source": [
    "eqns(['px_varphi_beta_eqn', 'pz_varphi_beta_eqn'])"
   ]
  },
  {
   "cell_type": "code",
   "execution_count": 40,
   "metadata": {
    "hidden": true,
    "scrolled": true
   },
   "outputs": [
    {
     "data": {
      "image/png": "[encoded data removed]",
      "text/latex": [
       "$\\displaystyle \\left[ p_{x} = \\frac{\\left(L_\\mathrm{c} + \\varepsilon - {r}^x\\right)^{- 2 \\mu} \\sin{\\left(\\beta \\right)} \\left|{\\sin{\\left(\\beta \\right)}}\\right|^{- \\eta}}{\\varphi_0}, \\  p_{z} = - \\frac{\\left(L_\\mathrm{c} + \\varepsilon - {r}^x\\right)^{- 2 \\mu} \\cos{\\left(\\beta \\right)} \\left|{\\sin{\\left(\\beta \\right)}}\\right|^{- \\eta}}{\\varphi_0}\\right]$"
      ],
      "text/plain": [
       "⎡                                          -2⋅\\mu                        -\\eta\n",
       "⎢     (L_\\mathrm{c} + \\varepsilon - {r}__x)      ⋅sin(\\beta)⋅│sin(\\beta)│     \n",
       "⎢pₓ = ────────────────────────────────────────────────────────────────────────\n",
       "⎣                                     \\varphi₀                                \n",
       "\n",
       "                                              -2⋅\\mu                        -\\\n",
       "        -(L_\\mathrm{c} + \\varepsilon - {r}__x)      ⋅cos(\\beta)⋅│sin(\\beta)│  \n",
       ", p_z = ──────────────────────────────────────────────────────────────────────\n",
       "                                         \\varphi₀                             \n",
       "\n",
       "eta ⎤\n",
       "    ⎥\n",
       "────⎥\n",
       "    ⎦"
      ]
     },
     "execution_count": 40,
     "metadata": {},
     "output_type": "execute_result"
    }
   ],
   "source": [
    "eqns(['px_varphi_rx_beta_eqn','pz_varphi_rx_beta_eqn'])"
   ]
  },
  {
   "cell_type": "markdown",
   "metadata": {
    "heading_collapsed": true,
    "hidden": true
   },
   "source": [
    "### $p_x$ polynomial"
   ]
  },
  {
   "cell_type": "markdown",
   "metadata": {
    "hidden": true
   },
   "source": [
    "This polynomial in $p_x$, or in $\\tan\\beta=-p_x/p_z=-p_x\\xi^{\\downarrow 0}$, is a polynomial in gradient $dz/dx$, which means (if it can be solved for) it can be integrated to give $z(x)$."
   ]
  },
  {
   "cell_type": "code",
   "execution_count": 41,
   "metadata": {
    "hidden": true
   },
   "outputs": [
    {
     "data": {
      "image/png": "[encoded data removed]",
      "text/latex": [
       "$\\displaystyle \\xi^{\\downarrow} = - \\frac{p_{x}^{\\eta} \\left(p_{x}^{2} + p_{z}^{2}\\right)^{\\frac{1}{2} - \\frac{\\eta}{2}} \\varphi{\\left(\\mathbf{r} \\right)}}{p_{z}}$"
      ],
      "text/plain": [
       "                                        1   \\eta                     \n",
       "                                        ─ - ────                     \n",
       "                                        2    2                       \n",
       "                       \\eta ⎛  2      2⎞                             \n",
       "                    -pₓ    ⋅⎝pₓ  + p_z ⎠        ⋅\\varphi(\\mathbf{r}) \n",
       "\\xi__{\\downarrow} = ─────────────────────────────────────────────────\n",
       "                                           p_z                       "
      ]
     },
     "execution_count": 41,
     "metadata": {},
     "output_type": "execute_result"
    }
   ],
   "source": [
    "gmeq.xiv_varphi_pxpz_eqn"
   ]
  },
  {
   "cell_type": "code",
   "execution_count": 42,
   "metadata": {
    "hidden": true
   },
   "outputs": [
    {
     "data": {
      "image/png": "[encoded data removed]",
      "text/latex": [
       "$\\displaystyle \\left(\\xi^{\\downarrow}\\right)^{2} \\left(p_{x}^{2} p_{x}^{2 \\eta} \\left(p_{x}^{2} + \\frac{1}{\\left(\\xi^{\\downarrow}\\right)^{2}}\\right)^{- \\eta} \\varphi^{2}{\\left(\\mathbf{r} \\right)} - 1 + \\frac{p_{x}^{2 \\eta} \\left(p_{x}^{2} + \\frac{1}{\\left(\\xi^{\\downarrow}\\right)^{2}}\\right)^{- \\eta} \\varphi^{2}{\\left(\\mathbf{r} \\right)}}{\\left(\\xi^{\\downarrow}\\right)^{2}}\\right) \\left(p_{x}^{2} p_{x}^{2 \\eta} \\left(p_{x}^{2} + \\frac{1}{\\left(\\xi^{\\downarrow}\\right)^{2}}\\right)^{- \\eta} \\varphi^{2}{\\left(\\mathbf{r} \\right)} + 1 + \\frac{p_{x}^{2 \\eta} \\left(p_{x}^{2} + \\frac{1}{\\left(\\xi^{\\downarrow}\\right)^{2}}\\right)^{- \\eta} \\varphi^{2}{\\left(\\mathbf{r} \\right)}}{\\left(\\xi^{\\downarrow}\\right)^{2}}\\right) = 0$"
      ],
      "text/plain": [
       "                   ⎛                                                          \n",
       "                   ⎜                                                          \n",
       "                   ⎜                                                          \n",
       "                   ⎜                                       -\\eta              \n",
       "                 2 ⎜  2   2⋅\\eta ⎛  2           1         ⎞             2     \n",
       "\\xi__{\\downarrow} ⋅⎜pₓ ⋅pₓ      ⋅⎜pₓ  + ──────────────────⎟     ⋅\\varphi (\\mat\n",
       "                   ⎜             ⎜                       2⎟                   \n",
       "                   ⎝             ⎝      \\xi__{\\downarrow} ⎠                   \n",
       "\n",
       "                                                 -\\eta                     ⎞ ⎛\n",
       "                2⋅\\eta ⎛  2           1         ⎞             2            ⎟ ⎜\n",
       "              pₓ      ⋅⎜pₓ  + ──────────────────⎟     ⋅\\varphi (\\mathbf{r})⎟ ⎜\n",
       "                       ⎜                       2⎟                          ⎟ ⎜\n",
       "                       ⎝      \\xi__{\\downarrow} ⎠                          ⎟ ⎜\n",
       "hbf{r}) - 1 + ─────────────────────────────────────────────────────────────⎟⋅⎜\n",
       "                                                     2                     ⎟ ⎜\n",
       "                                    \\xi__{\\downarrow}                      ⎠ ⎝\n",
       "\n",
       "                                                                              \n",
       "                                                                          2⋅\\e\n",
       "                                                                        pₓ    \n",
       "                                       -\\eta                                  \n",
       "  2   2⋅\\eta ⎛  2           1         ⎞             2                         \n",
       "pₓ ⋅pₓ      ⋅⎜pₓ  + ──────────────────⎟     ⋅\\varphi (\\mathbf{r}) + 1 + ──────\n",
       "             ⎜                       2⎟                                       \n",
       "             ⎝      \\xi__{\\downarrow} ⎠                                       \n",
       "\n",
       "                             -\\eta                     ⎞    \n",
       "ta ⎛  2           1         ⎞             2            ⎟    \n",
       "  ⋅⎜pₓ  + ──────────────────⎟     ⋅\\varphi (\\mathbf{r})⎟    \n",
       "   ⎜                       2⎟                          ⎟    \n",
       "   ⎝      \\xi__{\\downarrow} ⎠                          ⎟    \n",
       "───────────────────────────────────────────────────────⎟ = 0\n",
       "                                 2                     ⎟    \n",
       "                \\xi__{\\downarrow}                      ⎠    "
      ]
     },
     "execution_count": 42,
     "metadata": {},
     "output_type": "execute_result"
    }
   ],
   "source": [
    "gmeq.px_xiv_varphi_eqn"
   ]
  },
  {
   "cell_type": "code",
   "execution_count": 43,
   "metadata": {
    "hidden": true
   },
   "outputs": [
    {
     "data": {
      "image/png": "[encoded data removed]",
      "text/latex": [
       "$\\displaystyle \\left(\\tan^{2}{\\left(\\beta \\right)} + 1\\right)^{- 2 \\eta} \\left(p_{z}^{4} \\varphi^{4}{\\left(\\mathbf{r} \\right)} \\tan^{4 \\eta}{\\left(\\beta \\right)} + 2 p_{z}^{4} \\varphi^{4}{\\left(\\mathbf{r} \\right)} \\tan^{4 \\eta + 2}{\\left(\\beta \\right)} + p_{z}^{4} \\varphi^{4}{\\left(\\mathbf{r} \\right)} \\tan^{4 \\eta + 4}{\\left(\\beta \\right)} - \\left(\\tan^{2}{\\left(\\beta \\right)} + 1\\right)^{2 \\eta}\\right) = 0$"
      ],
      "text/plain": [
       "                 -2⋅\\eta ⎛                                                    \n",
       "⎛   2           ⎞        ⎜   4        4                4⋅\\eta               4 \n",
       "⎝tan (\\beta) + 1⎠       ⋅⎝p_z ⋅\\varphi (\\mathbf{r})⋅tan      (\\beta) + 2⋅p_z ⋅\n",
       "\n",
       "                                                                              \n",
       "       4                4⋅\\eta + 2             4        4                4⋅\\et\n",
       "\\varphi (\\mathbf{r})⋅tan          (\\beta) + p_z ⋅\\varphi (\\mathbf{r})⋅tan     \n",
       "\n",
       "                                2⋅\\eta⎞    \n",
       "a + 4          ⎛   2           ⎞      ⎟    \n",
       "     (\\beta) - ⎝tan (\\beta) + 1⎠      ⎠ = 0"
      ]
     },
     "execution_count": 43,
     "metadata": {},
     "output_type": "execute_result"
    }
   ],
   "source": [
    "p0 = Eq( (simplify(expand(gmeq.px_xiv_varphi_eqn.lhs/xiv**2).subs({px:-pz*tan(beta), xiv:-1/pz})) \n",
    "    .subs({cos(beta):1/sqrt(1+tan(beta)**2)})), 0)\n",
    "p0"
   ]
  },
  {
   "cell_type": "code",
   "execution_count": 44,
   "metadata": {
    "hidden": true
   },
   "outputs": [
    {
     "data": {
      "image/png": "[encoded data removed]",
      "text/latex": [
       "$\\displaystyle p_{z}^{4} \\varphi^{4}{\\left(\\mathbf{r} \\right)} \\tan^{6}{\\left(\\beta \\right)} - \\tan^{2}{\\left(\\beta \\right)} - 1 = 0$"
      ],
      "text/plain": [
       "   4        4                6             2               \n",
       "p_z ⋅\\varphi (\\mathbf{r})⋅tan (\\beta) - tan (\\beta) - 1 = 0"
      ]
     },
     "execution_count": 44,
     "metadata": {},
     "output_type": "execute_result"
    }
   ],
   "source": [
    "p_eta1p5 = Eq( numer(factor(p0.lhs.subs({eta:gmeq.eta}))), 0)\n",
    "p_eta1p5"
   ]
  },
  {
   "cell_type": "code",
   "execution_count": 45,
   "metadata": {
    "hidden": true
   },
   "outputs": [],
   "source": [
    "gmeq.define_px_poly_eqn(eta_choice=gmeq.eta)"
   ]
  },
  {
   "cell_type": "code",
   "execution_count": 46,
   "metadata": {
    "hidden": true
   },
   "outputs": [
    {
     "data": {
      "image/png": "[encoded data removed]",
      "text/latex": [
       "$\\displaystyle \\operatorname{Poly}{\\left( \\left(\\xi^{\\downarrow}\\right)^{4} \\varphi^{4}{\\left(\\mathbf{r} \\right)} p_{x}^{6} -  \\left(\\xi^{\\downarrow}\\right)^{4} p_{x}^{2} -  \\left(\\xi^{\\downarrow}\\right)^{2}, p_{x}, domain=\\mathbb{Z}\\left[\\varphi{\\left(\\mathbf{r} \\right)}, \\xi^{\\downarrow}\\right] \\right)}$"
      ],
      "text/plain": [
       "Poly(\\xi^{\\downarrow}**4*\\varphi(\\mathbf{r})**4*p_x**6 - \\xi^{\\downarrow}**4*p\n",
       "_x**2 - \\xi^{\\downarrow}**2, p_x, domain='ZZ[\\varphi(\\mathbf{r}),\\xi^{\\downarr\n",
       "ow}]')"
      ]
     },
     "execution_count": 46,
     "metadata": {},
     "output_type": "execute_result"
    }
   ],
   "source": [
    "gmeq.poly_px_xiv_varphi_eqn"
   ]
  },
  {
   "cell_type": "code",
   "execution_count": 47,
   "metadata": {
    "hidden": true
   },
   "outputs": [
    {
     "ename": "AttributeError",
     "evalue": "'Equations' object has no attribute 'poly_px_xiv0_eqn'",
     "output_type": "error",
     "traceback": [
      "\u001b[0;31m---------------------------------------------------------------------------\u001b[0m",
      "\u001b[0;31mAttributeError\u001b[0m                            Traceback (most recent call last)",
      "\u001b[0;32m<ipython-input-47-88f19ca3eff7>\u001b[0m in \u001b[0;36m<module>\u001b[0;34m\u001b[0m\n\u001b[0;32m----> 1\u001b[0;31m \u001b[0meqns\u001b[0m\u001b[0;34m(\u001b[0m\u001b[0;34m[\u001b[0m\u001b[0;34m'poly_px_xiv0_eqn'\u001b[0m\u001b[0;34m]\u001b[0m\u001b[0;34m)\u001b[0m\u001b[0;34m\u001b[0m\u001b[0;34m\u001b[0m\u001b[0m\n\u001b[0m",
      "\u001b[0;32m<ipython-input-5-b66111a8a93d>\u001b[0m in \u001b[0;36meqns\u001b[0;34m(eqn_list)\u001b[0m\n\u001b[1;32m      1\u001b[0m \u001b[0;32mdef\u001b[0m \u001b[0meqns\u001b[0m\u001b[0;34m(\u001b[0m\u001b[0meqn_list\u001b[0m\u001b[0;34m)\u001b[0m\u001b[0;34m:\u001b[0m\u001b[0;34m\u001b[0m\u001b[0;34m\u001b[0m\u001b[0m\n\u001b[0;32m----> 2\u001b[0;31m     \u001b[0;32mreturn\u001b[0m \u001b[0;34m[\u001b[0m\u001b[0mgetattr\u001b[0m\u001b[0;34m(\u001b[0m\u001b[0mgmeq\u001b[0m\u001b[0;34m,\u001b[0m \u001b[0meqn\u001b[0m\u001b[0;34m)\u001b[0m \u001b[0;32mfor\u001b[0m \u001b[0meqn\u001b[0m \u001b[0;32min\u001b[0m \u001b[0meqn_list\u001b[0m\u001b[0;34m]\u001b[0m\u001b[0;34m\u001b[0m\u001b[0;34m\u001b[0m\u001b[0m\n\u001b[0m",
      "\u001b[0;32m<ipython-input-5-b66111a8a93d>\u001b[0m in \u001b[0;36m<listcomp>\u001b[0;34m(.0)\u001b[0m\n\u001b[1;32m      1\u001b[0m \u001b[0;32mdef\u001b[0m \u001b[0meqns\u001b[0m\u001b[0;34m(\u001b[0m\u001b[0meqn_list\u001b[0m\u001b[0;34m)\u001b[0m\u001b[0;34m:\u001b[0m\u001b[0;34m\u001b[0m\u001b[0;34m\u001b[0m\u001b[0m\n\u001b[0;32m----> 2\u001b[0;31m     \u001b[0;32mreturn\u001b[0m \u001b[0;34m[\u001b[0m\u001b[0mgetattr\u001b[0m\u001b[0;34m(\u001b[0m\u001b[0mgmeq\u001b[0m\u001b[0;34m,\u001b[0m \u001b[0meqn\u001b[0m\u001b[0;34m)\u001b[0m \u001b[0;32mfor\u001b[0m \u001b[0meqn\u001b[0m \u001b[0;32min\u001b[0m \u001b[0meqn_list\u001b[0m\u001b[0;34m]\u001b[0m\u001b[0;34m\u001b[0m\u001b[0;34m\u001b[0m\u001b[0m\n\u001b[0m",
      "\u001b[0;31mAttributeError\u001b[0m: 'Equations' object has no attribute 'poly_px_xiv0_eqn'"
     ]
    }
   ],
   "source": [
    "eqns(['poly_px_xiv0_eqn'])"
   ]
  },
  {
   "cell_type": "code",
   "execution_count": null,
   "metadata": {
    "hidden": true
   },
   "outputs": [],
   "source": [
    "# gmeq.define_px_poly_eqn(eta_choice=Rational(3,2))"
   ]
  },
  {
   "cell_type": "code",
   "execution_count": null,
   "metadata": {
    "hidden": true
   },
   "outputs": [],
   "source": [
    "# gmeq.poly_px_xiv_varphi_eqn"
   ]
  },
  {
   "cell_type": "code",
   "execution_count": null,
   "metadata": {
    "hidden": true
   },
   "outputs": [],
   "source": [
    "# eqns(['poly_px_xiv0_eqn'])"
   ]
  },
  {
   "cell_type": "markdown",
   "metadata": {
    "heading_collapsed": true
   },
   "source": [
    "## Fundamental function & Hamiltonian"
   ]
  },
  {
   "cell_type": "code",
   "execution_count": null,
   "metadata": {
    "hidden": true
   },
   "outputs": [],
   "source": [
    "gmeq.define_Fstar_eqns()\n",
    "gmeq.define_H_eqns()"
   ]
  },
  {
   "cell_type": "code",
   "execution_count": null,
   "metadata": {
    "hidden": true
   },
   "outputs": [],
   "source": [
    "eqns(['Okubo_Fstar_eqn', 'Fstar_eqn'])"
   ]
  },
  {
   "cell_type": "markdown",
   "metadata": {
    "hidden": true
   },
   "source": [
    "$\n",
    "    \\mathcal{H} := \\dfrac{\\varphi^2 p_x^{2\\eta}}{2\\left(p_x^2+p_z^2\\right)^{\\eta-1}}\n",
    "$"
   ]
  },
  {
   "cell_type": "code",
   "execution_count": null,
   "metadata": {
    "hidden": true
   },
   "outputs": [],
   "source": [
    "eqns(['H_eqn', 'H_varphi_rx_eqn'])"
   ]
  },
  {
   "cell_type": "markdown",
   "metadata": {},
   "source": [
    "## Hamilton's equations"
   ]
  },
  {
   "cell_type": "markdown",
   "metadata": {},
   "source": [
    "ODE $\\dot{\\mathbf{r}}$ components"
   ]
  },
  {
   "cell_type": "code",
   "execution_count": null,
   "metadata": {},
   "outputs": [],
   "source": [
    "gmeq.define_rdot_eqns()"
   ]
  },
  {
   "cell_type": "code",
   "execution_count": null,
   "metadata": {},
   "outputs": [],
   "source": [
    "eqns(['rdotx_rdot_alpha_eqn', 'rdotz_rdot_alpha_eqn'])"
   ]
  },
  {
   "cell_type": "markdown",
   "metadata": {},
   "source": [
    "Derivation of $v^z$ gives zero if the Hamiltonian has no dependence on $p_z$, which happens if the angle function is $\\sin\\beta$ and if its exponent is $\\eta=1$. From this point on, such a model fails."
   ]
  },
  {
   "cell_type": "code",
   "execution_count": null,
   "metadata": {},
   "outputs": [],
   "source": [
    "simplify( sy.diff(gmeq.H_eqn,px) ), simplify( sy.diff(gmeq.H_eqn,pz) )"
   ]
  },
  {
   "cell_type": "code",
   "execution_count": null,
   "metadata": {},
   "outputs": [],
   "source": [
    "eqns(['rdotx_pxpz_eqn', 'rdotz_pxpz_eqn'])"
   ]
  },
  {
   "cell_type": "code",
   "execution_count": null,
   "metadata": {},
   "outputs": [],
   "source": [
    "eqns(['rdotz_on_rdotx_eqn', 'rdotz_on_rdotx_tanbeta_eqn'])"
   ]
  },
  {
   "cell_type": "code",
   "execution_count": null,
   "metadata": {},
   "outputs": [],
   "source": [
    "eqns(['rdot_vec_eqn', 'rdot_p_unity_eqn'])"
   ]
  },
  {
   "cell_type": "markdown",
   "metadata": {},
   "source": [
    "ODE $\\dot{\\mathbf{\\widetilde{p}}}$ components"
   ]
  },
  {
   "cell_type": "code",
   "execution_count": null,
   "metadata": {},
   "outputs": [],
   "source": [
    "gmeq.define_pdot_eqns()"
   ]
  },
  {
   "cell_type": "code",
   "execution_count": null,
   "metadata": {},
   "outputs": [],
   "source": [
    "Matrix(eqns(['pdotx_pxpz_eqn', 'pdotz_pxpz_eqn', 'pdot_covec_eqn']))"
   ]
  },
  {
   "cell_type": "markdown",
   "metadata": {},
   "source": [
    "Combined ODE components"
   ]
  },
  {
   "cell_type": "code",
   "execution_count": null,
   "metadata": {},
   "outputs": [],
   "source": [
    "gmeq.define_Hamiltons_eqns()"
   ]
  },
  {
   "cell_type": "code",
   "execution_count": null,
   "metadata": {},
   "outputs": [],
   "source": [
    "gmeq.hamiltons_eqns #, gmeq.hamiltons_eqns.subs({zeta:gmeq.zeta})"
   ]
  },
  {
   "cell_type": "code",
   "execution_count": null,
   "metadata": {},
   "outputs": [],
   "source": [
    "gmeq.hamiltons_eqns[0].subs({varepsilon:0})"
   ]
  },
  {
   "cell_type": "markdown",
   "metadata": {
    "heading_collapsed": true
   },
   "source": [
    "## Non-dimensionalization"
   ]
  },
  {
   "cell_type": "code",
   "execution_count": null,
   "metadata": {
    "hidden": true
   },
   "outputs": [],
   "source": [
    "gmeq.nondimensionalize()"
   ]
  },
  {
   "cell_type": "code",
   "execution_count": null,
   "metadata": {
    "hidden": true
   },
   "outputs": [],
   "source": [
    "sub.update({\n",
    "#     xiv_0: pr.model.xiv_0,\n",
    "#     varepsilon: pr.model.varepsilon,\n",
    "    beta_0: asin(Rational(1,100))\n",
    "})\n",
    "sub"
   ]
  },
  {
   "cell_type": "code",
   "execution_count": null,
   "metadata": {
    "hidden": true
   },
   "outputs": [],
   "source": [
    "gmeq.rx_rxhat_eqn, gmeq.rz_rzhat_eqn"
   ]
  },
  {
   "cell_type": "code",
   "execution_count": null,
   "metadata": {
    "hidden": true
   },
   "outputs": [],
   "source": [
    "gmeq.varepsilon_varepsilonhat_eqn, gmeq.varepsilonhat_varepsilon_eqn"
   ]
  },
  {
   "cell_type": "code",
   "execution_count": null,
   "metadata": {
    "hidden": true
   },
   "outputs": [],
   "source": [
    "gmeq.varphihat_eqn"
   ]
  },
  {
   "cell_type": "code",
   "execution_count": null,
   "metadata": {
    "hidden": true
   },
   "outputs": [],
   "source": [
    "gmeq.xi_rxhat_eqn"
   ]
  },
  {
   "cell_type": "code",
   "execution_count": null,
   "metadata": {
    "hidden": true
   },
   "outputs": [],
   "source": [
    "gmeq.xih0_eqn, gmeq.xiv0_eqn"
   ]
  },
  {
   "cell_type": "code",
   "execution_count": null,
   "metadata": {
    "hidden": true
   },
   "outputs": [],
   "source": [
    "sub"
   ]
  },
  {
   "cell_type": "code",
   "execution_count": null,
   "metadata": {
    "hidden": true
   },
   "outputs": [],
   "source": [
    "gmeq.xiv0_eqn"
   ]
  },
  {
   "cell_type": "code",
   "execution_count": null,
   "metadata": {
    "hidden": true
   },
   "outputs": [],
   "source": [
    "s = symbols('s',  real=True)\n",
    "sinbeta0_solns = ( solve( Eq(gmeq.xiv0_eqn.lhs**2, \n",
    "   ( (gmeq.xiv0_eqn.rhs**2).subs({varepsilonhat:0, cos(beta_0)**2:(1-sin(beta_0)**2)})\n",
    "    .subs({eta:pr.model.eta}) )).subs({sin(beta_0):s}), s) )"
   ]
  },
  {
   "cell_type": "code",
   "execution_count": null,
   "metadata": {
    "hidden": true
   },
   "outputs": [],
   "source": [
    "sinbeta0_soln = simplify( sinbeta0_solns[1] )\n",
    "sinbeta0_soln"
   ]
  },
  {
   "cell_type": "code",
   "execution_count": null,
   "metadata": {
    "hidden": true
   },
   "outputs": [],
   "source": [
    "N((( re(N(sinbeta0_soln.subs(sub))) )))"
   ]
  },
  {
   "cell_type": "code",
   "execution_count": null,
   "metadata": {
    "hidden": true
   },
   "outputs": [],
   "source": [
    "gmeq.xih0_xiv0_eqn"
   ]
  },
  {
   "cell_type": "code",
   "execution_count": null,
   "metadata": {
    "hidden": true
   },
   "outputs": [],
   "source": [
    "gmeq.th0_xih0_eqn, gmeq.tv0_xiv0_eqn"
   ]
  },
  {
   "cell_type": "code",
   "execution_count": null,
   "metadata": {
    "hidden": true
   },
   "outputs": [],
   "source": [
    "gmeq.th0_beta0_eqn, gmeq.tv0_beta0_eqn"
   ]
  },
  {
   "cell_type": "code",
   "execution_count": null,
   "metadata": {
    "hidden": true
   },
   "outputs": [],
   "source": [
    "Eq(tv_0, th_0*simplify((tv_0/th_0)\n",
    "                         .subs(e2d(gmeq.tv0_beta0_eqn))\n",
    "                         .subs(e2d(gmeq.th0_beta0_eqn))) )"
   ]
  },
  {
   "cell_type": "code",
   "execution_count": null,
   "metadata": {
    "hidden": true
   },
   "outputs": [],
   "source": [
    "gmeq.t_that_eqn, gmeq.px_pxhat_eqn, gmeq.pz_pzhat_eqn"
   ]
  },
  {
   "cell_type": "code",
   "execution_count": null,
   "metadata": {
    "hidden": true
   },
   "outputs": [],
   "source": [
    "gmeq.H_varphi_rxhat_eqn"
   ]
  },
  {
   "cell_type": "markdown",
   "metadata": {
    "hidden": true
   },
   "source": [
    "<!-- The geomorphic Hamiltonian parameterized using dimensionless variables is\n",
    "\n",
    "$\n",
    "    \\mathcal{H} = \\dfrac{\\mathsf{Ci}^2 \\left( 1-\\hat{r}^x \\right)^{4\\mu} \\hat{p}_x^{2\\eta}}\n",
    "              {2  \\left( \\hat{p}_x^2+\\hat{p}_z^2 \\right)^{\\eta-1}}\n",
    "$\n",
    "\n",
    "where $\\mathsf{Ci}$ is the channel incision number defined as\n",
    "\n",
    "$\n",
    "    \\mathsf{Ci} := \\dfrac{L_{\\mathrm{c}}^{2\\mu} \\varphi_0}{\\xi^{\\rightarrow_0}}\n",
    "                 = \\left( \\sin\\beta_0 \\right)^{1-\\eta}\n",
    "$ -->"
   ]
  },
  {
   "cell_type": "markdown",
   "metadata": {
    "hidden": true
   },
   "source": [
    "The geomorphic Hamiltonian parameterized using dimensionless variables is\n",
    "\n",
    "<!-- $\n",
    "    \\mathcal{H} \n",
    "%         = \\dfrac{\\mathsf{Ci}^{2(1-\\eta)} \\left( 1-\\hat{r}^x \\right)^{4\\mu} \\hat{p}_x^{2\\eta}}\n",
    "%                 {2  \\left( \\hat{p}_x^2+\\hat{p}_z^2 \\right)^{\\eta-1}}\n",
    "        = \\dfrac{ \\left( 1-\\hat{r}^x \\right)^{4\\mu} \\hat{p}_x^{2\\eta}}\n",
    "                {2 \\left( \\mathsf{Ci}^2 \\! \\left( \\hat{p}_x^2+\\hat{p}_z^2 \\right) \\right)^{\\eta-1}}\n",
    "$\n",
    "\n",
    "where $\\mathsf{Ci}$ is the channel incision number defined as\n",
    "\n",
    "$\n",
    "    \\mathsf{Ci} := \\left(\n",
    "                    \\dfrac{L_{\\mathrm{c}}^{2\\mu} \\varphi_0}{\\xi^{\\rightarrow_0}}\n",
    "                    \\right)^{\\tfrac{1}{1-\\eta}}\n",
    "                 = \\sin\\beta_0 \n",
    "$\n",
    "\n",
    "or more simply\n",
    " -->\n",
    "$\n",
    "    \\mathcal{H} \n",
    "%         = \\dfrac{\\mathsf{Ci}^{2(1-\\eta)} \\left( 1-\\hat{r}^x \\right)^{4\\mu} \\hat{p}_x^{2\\eta}}\n",
    "%                 {2  \\left( \\hat{p}_x^2+\\hat{p}_z^2 \\right)^{\\eta-1}}\n",
    "        = \\dfrac{ \\left( 1-\\hat{r}^x \\right)^{4\\mu} \\hat{p}_x^{2\\eta}}\n",
    "                {2 \\left( \\mathsf{Ci}^2 \\! \\left( \\hat{p}_x^2+\\hat{p}_z^2 \\right) \\right)^{\\eta-1}}\n",
    "$\n",
    "\n",
    "where the channel incision number $\\mathsf{Ci}$ is defined as\n",
    "\n",
    "$\n",
    "    \\mathsf{Ci} := \\arcsin\\,\\left(\\left(\n",
    "                    \\dfrac{L_{\\mathrm{c}}^{2\\mu} \\varphi_0}{\\xi^{\\rightarrow_0}}\n",
    "                    \\right)^{\\tfrac{1}{1-\\eta}}\\right)\n",
    "    \\qquad\\text{where}\\quad\n",
    "    \\mathsf{Ci} \\approx \\beta_0 \\quad\\text{if}\\quad \\hat{\\varepsilon} \\ll 1\n",
    "$"
   ]
  },
  {
   "cell_type": "code",
   "execution_count": null,
   "metadata": {
    "hidden": true
   },
   "outputs": [],
   "source": [
    "gmeq.H_split"
   ]
  },
  {
   "cell_type": "code",
   "execution_count": null,
   "metadata": {
    "hidden": true
   },
   "outputs": [],
   "source": [
    "gmeq.H_Ci_eqn"
   ]
  },
  {
   "cell_type": "code",
   "execution_count": null,
   "metadata": {
    "hidden": true
   },
   "outputs": [],
   "source": [
    "(gmeq.Ci_xih0_eqn, (gmeq.Ci_beta0_eqn)\n",
    "    , sy.trigsimp( gmeq.sinCi_beta0_eqn.subs({varepsilonhat:0}) ))"
   ]
  },
  {
   "cell_type": "code",
   "execution_count": null,
   "metadata": {
    "hidden": true
   },
   "outputs": [],
   "source": [
    "beta_0.subs(sub)"
   ]
  },
  {
   "cell_type": "code",
   "execution_count": null,
   "metadata": {
    "hidden": true
   },
   "outputs": [],
   "source": [
    "( \n",
    "    gmround(( gmeq.xiv0_eqn\n",
    "                 .subs({varepsilonhat:0})\n",
    "                 .subs(omitdict(sub,[xiv_0]))\n",
    "                 .subs({eta:pr.model.eta, mu:pr.model.mu}) ), 4),\n",
    "    gmround(( gmeq.xih0_eqn\n",
    "                 .subs({varepsilonhat:0})\n",
    "                 .subs(omitdict(sub,[xiv_0]))\n",
    "                 .subs({eta:pr.model.eta, mu:pr.model.mu}) ), 4),\n",
    "    gmround(( gmeq.Ci_beta0_eqn\n",
    "                 .subs({varepsilonhat:0})\n",
    "                 .subs(omitdict(sub,[xiv_0]))\n",
    "                 .subs({eta:pr.model.eta, mu:pr.model.mu}) ), 4) \n",
    ")"
   ]
  },
  {
   "cell_type": "code",
   "execution_count": null,
   "metadata": {
    "hidden": true
   },
   "outputs": [],
   "source": [
    "( \n",
    "    gmround(( gmeq.xiv0_eqn\n",
    "                 .subs(e2d(gmeq.varepsilonhat_varepsilon_eqn))\n",
    "                 .subs(omitdict(sub,[xiv_0]))\n",
    "                 .subs({eta:pr.model.eta, mu:pr.model.mu}) ), 4),\n",
    "    gmround(( gmeq.xih0_eqn\n",
    "                 .subs(e2d(gmeq.varepsilonhat_varepsilon_eqn))\n",
    "                 .subs(omitdict(sub,[xiv_0]))\n",
    "                 .subs({eta:pr.model.eta, mu:pr.model.mu}) ), 4),\n",
    "    gmround(( gmeq.Ci_beta0_eqn\n",
    "                 .subs(e2d(gmeq.varepsilonhat_varepsilon_eqn))\n",
    "                 .subs(omitdict(sub,[xiv_0]))\n",
    "                 .subs({eta:pr.model.eta, mu:pr.model.mu}) ), 4) \n",
    ")"
   ]
  },
  {
   "cell_type": "code",
   "execution_count": null,
   "metadata": {
    "hidden": true
   },
   "outputs": [],
   "source": [
    "simplify( sy.diff(gmeq.H_Ci_eqn,pxhat) ), simplify( sy.diff(gmeq.H_Ci_eqn,pzhat) )"
   ]
  },
  {
   "cell_type": "code",
   "execution_count": null,
   "metadata": {
    "hidden": true
   },
   "outputs": [],
   "source": [
    "simplify( -sy.diff(gmeq.H_Ci_eqn,rxhat) )#, -simplify( sy.diff(gmeq.H_Ci_eqn,rzhat) )"
   ]
  },
  {
   "cell_type": "code",
   "execution_count": null,
   "metadata": {
    "hidden": true
   },
   "outputs": [],
   "source": [
    "Matrix([gmeq.rdotxhat_eqn, gmeq.rdotzhat_eqn])"
   ]
  },
  {
   "cell_type": "code",
   "execution_count": null,
   "metadata": {
    "hidden": true
   },
   "outputs": [],
   "source": [
    "Matrix([gmeq.pdotxhat_eqn, gmeq.pdotzhat_eqn])"
   ]
  },
  {
   "cell_type": "markdown",
   "metadata": {},
   "source": [
    "## Non-dimensionalized Hamilton's equations"
   ]
  },
  {
   "cell_type": "code",
   "execution_count": null,
   "metadata": {},
   "outputs": [],
   "source": [
    "gmeq.define_nodimensionalized_Hamiltons_eqns()"
   ]
  },
  {
   "cell_type": "code",
   "execution_count": null,
   "metadata": {},
   "outputs": [],
   "source": [
    "gmeq.hamiltons_ndim_eqns"
   ]
  },
  {
   "cell_type": "markdown",
   "metadata": {
    "heading_collapsed": true
   },
   "source": [
    "## Angles"
   ]
  },
  {
   "cell_type": "markdown",
   "metadata": {
    "heading_collapsed": true,
    "hidden": true
   },
   "source": [
    "### $\\tan\\alpha$"
   ]
  },
  {
   "cell_type": "code",
   "execution_count": null,
   "metadata": {
    "hidden": true
   },
   "outputs": [],
   "source": [
    "gmeq.define_tanalpha_eqns()"
   ]
  },
  {
   "cell_type": "code",
   "execution_count": null,
   "metadata": {
    "hidden": true
   },
   "outputs": [],
   "source": [
    "gmeq.rdotz_on_rdotx_eqn"
   ]
  },
  {
   "cell_type": "code",
   "execution_count": null,
   "metadata": {
    "hidden": true
   },
   "outputs": [],
   "source": [
    "eqns(['tanalpha_rdot_eqn', 'tanalpha_pxpz_eqn', 'tanalpha_beta_eqn'])"
   ]
  },
  {
   "cell_type": "code",
   "execution_count": null,
   "metadata": {
    "hidden": true
   },
   "outputs": [],
   "source": [
    "solve( simplify( gmeq.tanalpha_beta_eqn.subs({eta:gmeq.eta}) ), tan(beta) )"
   ]
  },
  {
   "cell_type": "markdown",
   "metadata": {
    "heading_collapsed": true,
    "hidden": true
   },
   "source": [
    "### $\\tan\\beta_c$, $\\tan\\alpha_c$"
   ]
  },
  {
   "cell_type": "code",
   "execution_count": null,
   "metadata": {
    "hidden": true
   },
   "outputs": [],
   "source": [
    "gmeq.define_tanbeta_eqns()"
   ]
  },
  {
   "cell_type": "code",
   "execution_count": null,
   "metadata": {
    "hidden": true
   },
   "outputs": [],
   "source": [
    "gmeq.tanbeta_rdotxz_pz_eqn, gmeq.tanbeta_rdotxz_xiv_eqn"
   ]
  },
  {
   "cell_type": "code",
   "execution_count": null,
   "metadata": {
    "hidden": true
   },
   "outputs": [],
   "source": [
    "gmeq.tanbeta_alpha_eqns"
   ]
  },
  {
   "cell_type": "code",
   "execution_count": null,
   "metadata": {
    "hidden": true
   },
   "outputs": [],
   "source": [
    "gmeq.tanbeta_crit_eqns"
   ]
  },
  {
   "cell_type": "code",
   "execution_count": null,
   "metadata": {
    "hidden": true
   },
   "outputs": [],
   "source": [
    "gmeq.tanalpha_crit_eqns"
   ]
  },
  {
   "cell_type": "code",
   "execution_count": null,
   "metadata": {
    "hidden": true
   },
   "outputs": [],
   "source": [
    "gmeq.tanbeta_crit_eqn, gmeq.tanalpha_crit_eqn"
   ]
  },
  {
   "cell_type": "code",
   "execution_count": null,
   "metadata": {
    "hidden": true
   },
   "outputs": [],
   "source": [
    "Matrix([(  Eq(eta,eta_), \n",
    "           gmeq.tanbeta_crit_eqn.subs({eta:eta_}),\n",
    "           Eq(beta_crit, round(N(deg(atan(gmeq.tanbeta_crit_eqn.rhs.subs({eta:eta_})))),2)),\n",
    "           gmeq.tanalpha_crit_eqn.subs({eta:eta_}),\n",
    "           Eq(alpha_crit, round(N(deg(atan(gmeq.tanalpha_crit_eqn.rhs.subs({eta:eta_})))),2)) )\n",
    " for eta_ in [Rational(3,2),Rational(1,2),Rational(1,3),Rational(1,4)]])"
   ]
  },
  {
   "cell_type": "code",
   "execution_count": null,
   "metadata": {
    "hidden": true
   },
   "outputs": [],
   "source": [
    "eta_ = Rational(1,2)\n",
    "ac_ = N(deg(atan(gmeq.tanalpha_crit_eqn.rhs.subs({eta:eta_}))))\n",
    "bc_ = N(deg(atan(gmeq.tanbeta_crit_eqn.rhs.subs({eta:eta_}))))\n",
    "ac_, bc_, ac_-bc_+90, N(deg(atan(sqrt(eta_)))), N(deg(atan((eta_-1)/(2*sqrt(eta_)))))"
   ]
  },
  {
   "cell_type": "markdown",
   "metadata": {
    "heading_collapsed": true
   },
   "source": [
    "## Metric tensor"
   ]
  },
  {
   "cell_type": "code",
   "execution_count": null,
   "metadata": {
    "hidden": true
   },
   "outputs": [],
   "source": [
    "gmeq.define_g_eqns()"
   ]
  },
  {
   "cell_type": "code",
   "execution_count": null,
   "metadata": {
    "hidden": true
   },
   "outputs": [],
   "source": [
    "eqns(['gstar_varphi_pxpz_eqn', 'det_gstar_varphi_pxpz_eqn'])"
   ]
  },
  {
   "cell_type": "code",
   "execution_count": null,
   "metadata": {
    "hidden": true
   },
   "outputs": [],
   "source": [
    "sub1 = {px:0.01,pz:-1,varphi_r:1, varphi_0:1,x_1:1,rx:0, varepsilon:0}\n",
    "sub2 = {px:1,pz:-1,varphi_r:1, varphi_0:1,x_1:1,rx:0, varepsilon:0}"
   ]
  },
  {
   "cell_type": "code",
   "execution_count": null,
   "metadata": {
    "hidden": true
   },
   "outputs": [],
   "source": [
    "gmeq.g_varphi_pxpz_eqn, gmeq.g_varphi_pxpz_eqn.subs(sub1), gmeq.g_varphi_pxpz_eqn.subs(sub2)"
   ]
  },
  {
   "cell_type": "code",
   "execution_count": null,
   "metadata": {
    "hidden": true
   },
   "outputs": [],
   "source": [
    "gmeq.gstar_eigen_varphi_pxpz[0][0], gmeq.gstar_eigen_varphi_pxpz[1][0] "
   ]
  },
  {
   "cell_type": "code",
   "execution_count": null,
   "metadata": {
    "hidden": true
   },
   "outputs": [],
   "source": [
    "[ev for ev in gmeq.gstar_eigenvalues]"
   ]
  },
  {
   "cell_type": "code",
   "execution_count": null,
   "metadata": {
    "hidden": true
   },
   "outputs": [],
   "source": [
    "rnd = lambda x: round(x,8)\n",
    "(gmeq.gstar_eigenvalues.subs(sub1)).applyfunc(rnd), (gmeq.gstar_eigenvalues.subs(sub2)).applyfunc(rnd)"
   ]
  },
  {
   "cell_type": "code",
   "execution_count": null,
   "metadata": {
    "hidden": true
   },
   "outputs": [],
   "source": [
    "gmeq.gstar_eigenvectors[0] if gmeq.gstar_eigenvectors is not None else None"
   ]
  },
  {
   "cell_type": "code",
   "execution_count": null,
   "metadata": {
    "hidden": true
   },
   "outputs": [],
   "source": [
    "gmeq.gstar_eigenvectors[1] if gmeq.gstar_eigenvectors is not None else None"
   ]
  },
  {
   "cell_type": "markdown",
   "metadata": {
    "heading_collapsed": true
   },
   "source": [
    "## Indicatrix & figuratrix"
   ]
  },
  {
   "cell_type": "code",
   "execution_count": null,
   "metadata": {
    "hidden": true
   },
   "outputs": [],
   "source": [
    "gmeq.define_idtx_fgtx_eqns()"
   ]
  },
  {
   "cell_type": "markdown",
   "metadata": {
    "hidden": true
   },
   "source": [
    "Closed-form solutions for the indicatrix & figuratrix can be found if the following is solvable in $\\cos^2\\beta$:"
   ]
  },
  {
   "cell_type": "code",
   "execution_count": null,
   "metadata": {
    "hidden": true
   },
   "outputs": [],
   "source": [
    "gmeq.pz_cosbeta_varphi_eqn if gmeq.pz_cosbeta_varphi_eqn is not None else None"
   ]
  },
  {
   "cell_type": "code",
   "execution_count": null,
   "metadata": {
    "hidden": true
   },
   "outputs": [],
   "source": [
    "expand( Eq( gmeq.pz_cosbeta_varphi_eqn.lhs*denom(gmeq.pz_cosbeta_varphi_eqn.rhs)\n",
    "               -numer(gmeq.pz_cosbeta_varphi_eqn.rhs),0 ) )"
   ]
  },
  {
   "cell_type": "code",
   "execution_count": null,
   "metadata": {
    "hidden": true
   },
   "outputs": [],
   "source": [
    "factor( gmeq.cosbetasqrd_pz_varphi_solns[0] ) \\\n",
    "    if gmeq.cosbetasqrd_pz_varphi_solns is not None else None"
   ]
  },
  {
   "cell_type": "code",
   "execution_count": null,
   "metadata": {
    "hidden": true
   },
   "outputs": [],
   "source": [
    "# cosbetasqrd_pz_varphi_solns = solve( gmeq.pz_cosbeta_varphi_eqn, cos(beta)**2 )\n",
    "# cosbetasqrd_pz_varphi_solns"
   ]
  },
  {
   "cell_type": "code",
   "execution_count": null,
   "metadata": {
    "hidden": true
   },
   "outputs": [],
   "source": [
    "# N( cosbetasqrd_pz_varphi_solns[0].subs({varphi:10,pz:-0.1}) )"
   ]
  },
  {
   "cell_type": "code",
   "execution_count": null,
   "metadata": {
    "hidden": true
   },
   "outputs": [],
   "source": [
    "factor( gmeq.fgtx_cossqrdbeta_pz_varphi_eqn ) \\\n",
    "    if gmeq.fgtx_cossqrdbeta_pz_varphi_eqn is not None else None"
   ]
  },
  {
   "cell_type": "code",
   "execution_count": null,
   "metadata": {
    "hidden": true
   },
   "outputs": [],
   "source": [
    "factor( gmeq.fgtx_tanbeta_pz_varphi_eqn  )\\\n",
    "    if gmeq.fgtx_tanbeta_pz_varphi_eqn is not None else None"
   ]
  },
  {
   "cell_type": "code",
   "execution_count": null,
   "metadata": {
    "hidden": true
   },
   "outputs": [],
   "source": [
    "gmeq.fgtx_px_pz_varphi_eqn if gmeq.fgtx_px_pz_varphi_eqn is not None else None"
   ]
  },
  {
   "cell_type": "code",
   "execution_count": null,
   "metadata": {
    "hidden": true
   },
   "outputs": [],
   "source": [
    "factor( gmeq.idtx_rdotx_pz_varphi_eqn ) if gmeq.idtx_rdotx_pz_varphi_eqn is not None \\\n",
    "                              else None"
   ]
  },
  {
   "cell_type": "code",
   "execution_count": null,
   "metadata": {
    "hidden": true
   },
   "outputs": [],
   "source": [
    "gmeq.idtx_rdotz_pz_varphi_eqn if gmeq.idtx_rdotz_pz_varphi_eqn is not None \\\n",
    "                              else None"
   ]
  },
  {
   "cell_type": "markdown",
   "metadata": {
    "heading_collapsed": true
   },
   "source": [
    "## Geodesic equations"
   ]
  },
  {
   "cell_type": "markdown",
   "metadata": {
    "heading_collapsed": true,
    "hidden": true
   },
   "source": [
    "### Preamble"
   ]
  },
  {
   "cell_type": "code",
   "execution_count": null,
   "metadata": {
    "hidden": true
   },
   "outputs": [],
   "source": [
    "gmeq.prep_geodesic_eqns(parameters=sub)"
   ]
  },
  {
   "cell_type": "code",
   "execution_count": null,
   "metadata": {
    "hidden": true
   },
   "outputs": [],
   "source": [
    "gmeq.tanalpha_rdot_eqn"
   ]
  },
  {
   "cell_type": "code",
   "execution_count": null,
   "metadata": {
    "hidden": true
   },
   "outputs": [],
   "source": [
    "gmeq.gstar_ij_tanbeta_mat if gmeq.gstar_ij_tanbeta_mat is not None else None"
   ]
  },
  {
   "cell_type": "code",
   "execution_count": null,
   "metadata": {
    "hidden": true
   },
   "outputs": [],
   "source": [
    "gmeq.tanbeta_poly_eqn"
   ]
  },
  {
   "cell_type": "code",
   "execution_count": null,
   "metadata": {
    "hidden": true
   },
   "outputs": [],
   "source": [
    "gmeq.tanbeta_eqn"
   ]
  },
  {
   "cell_type": "code",
   "execution_count": null,
   "metadata": {
    "hidden": true
   },
   "outputs": [],
   "source": [
    "gmeq.gstar_ij_tanalpha_mat[0] if gmeq.gstar_ij_tanalpha_mat is not None else None"
   ]
  },
  {
   "cell_type": "code",
   "execution_count": null,
   "metadata": {
    "hidden": true
   },
   "outputs": [],
   "source": [
    "gmeq.gstar_ij_tanalpha_mat[1] if gmeq.gstar_ij_tanalpha_mat is not None else None"
   ]
  },
  {
   "cell_type": "code",
   "execution_count": null,
   "metadata": {
    "hidden": true
   },
   "outputs": [],
   "source": [
    "gmeq.gstar_ij_tanalpha_mat[2] if gmeq.gstar_ij_tanalpha_mat is not None else None"
   ]
  },
  {
   "cell_type": "code",
   "execution_count": null,
   "metadata": {
    "hidden": true
   },
   "outputs": [],
   "source": [
    "gmeq.gstar_ij_tanalpha_mat[3] if gmeq.gstar_ij_tanalpha_mat is not None else None"
   ]
  },
  {
   "cell_type": "code",
   "execution_count": null,
   "metadata": {
    "hidden": true
   },
   "outputs": [],
   "source": [
    "gmeq.gstar_ij_mat[0] if gmeq.gstar_ij_mat is not None else None"
   ]
  },
  {
   "cell_type": "code",
   "execution_count": null,
   "metadata": {
    "hidden": true
   },
   "outputs": [],
   "source": [
    "gmeq.gstar_ij_mat[1] if gmeq.gstar_ij_mat is not None else None"
   ]
  },
  {
   "cell_type": "code",
   "execution_count": null,
   "metadata": {
    "hidden": true
   },
   "outputs": [],
   "source": [
    "gmeq.gstar_ij_mat[2] if gmeq.gstar_ij_mat is not None else None"
   ]
  },
  {
   "cell_type": "code",
   "execution_count": null,
   "metadata": {
    "hidden": true
   },
   "outputs": [],
   "source": [
    "gmeq.gstar_ij_mat[3] if gmeq.gstar_ij_mat is not None else None"
   ]
  },
  {
   "cell_type": "code",
   "execution_count": null,
   "metadata": {
    "hidden": true
   },
   "outputs": [],
   "source": [
    "gmeq.g_ij_tanalpha_mat[0] if gmeq.g_ij_tanalpha_mat is not None else None"
   ]
  },
  {
   "cell_type": "code",
   "execution_count": null,
   "metadata": {
    "hidden": true
   },
   "outputs": [],
   "source": [
    "gmeq.g_ij_tanalpha_mat[1] if gmeq.g_ij_tanalpha_mat is not None else None"
   ]
  },
  {
   "cell_type": "code",
   "execution_count": null,
   "metadata": {
    "hidden": true
   },
   "outputs": [],
   "source": [
    "gmeq.g_ij_tanalpha_mat[2] if gmeq.g_ij_tanalpha_mat is not None else None"
   ]
  },
  {
   "cell_type": "code",
   "execution_count": null,
   "metadata": {
    "hidden": true
   },
   "outputs": [],
   "source": [
    "gmeq.g_ij_tanalpha_mat[3] if gmeq.g_ij_tanalpha_mat is not None else None"
   ]
  },
  {
   "cell_type": "code",
   "execution_count": null,
   "metadata": {
    "hidden": true
   },
   "outputs": [],
   "source": [
    "gmeq.g_ij_mat[0] if gmeq.g_ij_mat is not None else None"
   ]
  },
  {
   "cell_type": "code",
   "execution_count": null,
   "metadata": {
    "hidden": true
   },
   "outputs": [],
   "source": [
    "gmeq.g_ij_mat[1] if gmeq.g_ij_mat is not None else None"
   ]
  },
  {
   "cell_type": "code",
   "execution_count": null,
   "metadata": {
    "hidden": true
   },
   "outputs": [],
   "source": [
    "gmeq.g_ij_mat[2] if gmeq.g_ij_mat is not None else None"
   ]
  },
  {
   "cell_type": "code",
   "execution_count": null,
   "metadata": {
    "hidden": true
   },
   "outputs": [],
   "source": [
    "gmeq.g_ij_mat[3] if gmeq.g_ij_mat is not None else None"
   ]
  },
  {
   "cell_type": "markdown",
   "metadata": {
    "heading_collapsed": true,
    "hidden": true
   },
   "source": [
    "### Main"
   ]
  },
  {
   "cell_type": "code",
   "execution_count": null,
   "metadata": {
    "hidden": true
   },
   "outputs": [],
   "source": [
    "gmeq.define_geodesic_eqns(parameters=sub)"
   ]
  },
  {
   "cell_type": "code",
   "execution_count": null,
   "metadata": {
    "hidden": true
   },
   "outputs": [],
   "source": [
    "gmeq.geodesic_eqns[0:2] if gmeq.geodesic_eqns is not None else None"
   ]
  },
  {
   "cell_type": "code",
   "execution_count": null,
   "metadata": {
    "hidden": true
   },
   "outputs": [],
   "source": [
    "factor(gmeq.geodesic_eqns[2]) if gmeq.geodesic_eqns is not None else None"
   ]
  },
  {
   "cell_type": "code",
   "execution_count": null,
   "metadata": {
    "hidden": true
   },
   "outputs": [],
   "source": [
    "factor(gmeq.geodesic_eqns[3]) if gmeq.geodesic_eqns is not None else None"
   ]
  },
  {
   "cell_type": "code",
   "execution_count": null,
   "metadata": {
    "hidden": true
   },
   "outputs": [],
   "source": [
    "([eqn_.subs({rdotx:0.1,rdotz:0.01*sy.sign(gmeq.eta)}) for eqn_ in gmeq.geodesic_eqns[2:4]] \\\n",
    "    if gmeq.geodesic_eqns is not None else None)"
   ]
  },
  {
   "cell_type": "markdown",
   "metadata": {
    "heading_collapsed": true
   },
   "source": [
    "## Initial conditions"
   ]
  },
  {
   "cell_type": "code",
   "execution_count": null,
   "metadata": {
    "hidden": true
   },
   "outputs": [],
   "source": [
    "gmeq.prep_ibc_eqns()"
   ]
  },
  {
   "cell_type": "code",
   "execution_count": null,
   "metadata": {
    "hidden": true
   },
   "outputs": [],
   "source": [
    "eqns(['pz0_xiv0_eqn','pzpx_unity_eqn'])"
   ]
  },
  {
   "cell_type": "code",
   "execution_count": null,
   "metadata": {
    "hidden": true
   },
   "outputs": [],
   "source": [
    "gmeq.define_ibc_eqns()"
   ]
  },
  {
   "cell_type": "code",
   "execution_count": null,
   "metadata": {
    "hidden": true
   },
   "outputs": [],
   "source": [
    "[[key for key in gmeq.boundary_eqns[bc_type].keys()]\n",
    "   for bc_type in gmeq.boundary_eqns.keys()]"
   ]
  },
  {
   "cell_type": "code",
   "execution_count": null,
   "metadata": {
    "hidden": true
   },
   "outputs": [],
   "source": [
    "[[value for value in gmeq.boundary_eqns[bc_type].values()]\n",
    "  for bc_type in gmeq.boundary_eqns.keys()]"
   ]
  },
  {
   "cell_type": "code",
   "execution_count": null,
   "metadata": {
    "hidden": true
   },
   "outputs": [],
   "source": [
    "gmeq.set_ibc_eqns()"
   ]
  },
  {
   "cell_type": "code",
   "execution_count": null,
   "metadata": {
    "hidden": true
   },
   "outputs": [],
   "source": [
    "eqns(['rz_initial_eqn','tanbeta_initial_eqn'])"
   ]
  },
  {
   "cell_type": "code",
   "execution_count": null,
   "metadata": {
    "hidden": true
   },
   "outputs": [],
   "source": [
    "gmeq.p_initial_eqn"
   ]
  },
  {
   "cell_type": "code",
   "execution_count": null,
   "metadata": {
    "hidden": true
   },
   "outputs": [],
   "source": [
    "eqns(['px_initial_eqn','pz_initial_eqn'])"
   ]
  },
  {
   "cell_type": "markdown",
   "metadata": {},
   "source": [
    "## Misc"
   ]
  },
  {
   "cell_type": "code",
   "execution_count": null,
   "metadata": {},
   "outputs": [],
   "source": [
    "x = symbols('x',  real=True)\n",
    "y = symbols('y',  real=True)\n",
    "b = symbols('b',  real=True)"
   ]
  },
  {
   "cell_type": "code",
   "execution_count": null,
   "metadata": {},
   "outputs": [],
   "source": [
    "F_eqn = Eq(F, (x**2+y**2)/(3*sqrt(x**2+y**2)+x)   )\n",
    "F_eqn"
   ]
  },
  {
   "cell_type": "code",
   "execution_count": null,
   "metadata": {},
   "outputs": [],
   "source": [
    "g_eqn = Eq(g, simplify(\n",
    "    Matrix([[ sy.diff(F_eqn.rhs,x,x), sy.diff(F_eqn.rhs,x,y) ],\n",
    "            [ sy.diff(F_eqn.rhs,y,x), sy.diff(F_eqn.rhs,y,y) ]]) ))\n",
    "g_eqn"
   ]
  },
  {
   "cell_type": "code",
   "execution_count": null,
   "metadata": {},
   "outputs": [],
   "source": [
    "simplify( g_eqn.rhs[0]*g_eqn.rhs[3] - g_eqn.rhs[1]*g_eqn.rhs[2] )"
   ]
  },
  {
   "cell_type": "code",
   "execution_count": null,
   "metadata": {},
   "outputs": [],
   "source": [
    "b_mat = simplify(\n",
    "    Matrix([[ b**3, 1 ],\n",
    "            [ 1, 2*b**3+3*b ]]) )\n",
    "b_mat, b_mat.subs({b:sqrt(2)/2}), b_mat.det().subs({b:sqrt(2)/2})"
   ]
  },
  {
   "cell_type": "code",
   "execution_count": null,
   "metadata": {},
   "outputs": [],
   "source": [
    "b_mat_eigenvals = [simplify(ev_[0]) for ev_ in (b_mat.eigenvects())]\n",
    "b_mat_eigenvals"
   ]
  },
  {
   "cell_type": "code",
   "execution_count": null,
   "metadata": {},
   "outputs": [],
   "source": [
    "[ev_.subs({b:sqrt(2)/2}) for ev_ in b_mat_eigenvals]"
   ]
  },
  {
   "cell_type": "code",
   "execution_count": null,
   "metadata": {},
   "outputs": [],
   "source": []
  }
 ],
 "metadata": {
  "hide_input": false,
  "kernelspec": {
   "display_name": "Python 3",
   "language": "python",
   "name": "python3"
  },
  "language_info": {
   "codemirror_mode": {
    "name": "ipython",
    "version": 3
   },
   "file_extension": ".py",
   "mimetype": "text/x-python",
   "name": "python",
   "nbconvert_exporter": "python",
   "pygments_lexer": "ipython3",
   "version": "3.8.12"
  }
 },
 "nbformat": 4,
 "nbformat_minor": 2
}
