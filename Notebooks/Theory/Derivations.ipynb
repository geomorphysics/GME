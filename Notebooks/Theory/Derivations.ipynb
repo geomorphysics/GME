{
 "cells": [
  {
   "cell_type": "markdown",
   "metadata": {},
   "source": [
    "# Summary\n",
    "\n",
    "Derive all the equations of GME theory (where possible), using SymPy, for a given erosion model type ($\\sin\\beta$ or $\\tan\\beta$), slope exponent $\\eta \\in \\left\\{\\tfrac{1}{4}, \\tfrac{1}{3}, \\tfrac{1}{2}, \\tfrac{3}{2}\\right\\}$, and ratio of area/slope exponent $\\mu/\\eta$ (usually set to 1/2)."
   ]
  },
  {
   "cell_type": "markdown",
   "metadata": {},
   "source": [
    "### Preliminaries"
   ]
  },
  {
   "cell_type": "code",
   "execution_count": 1,
   "metadata": {},
   "outputs": [
    {
     "name": "stdout",
     "output_type": "stream",
     "text": [
      "Deducing working path from GME package location = /Users/colinstark/Projects/GME\n"
     ]
    },
    {
     "data": {
      "text/plain": [
       "('/Users/colinstark/Projects/GME/Parameters/Theory',\n",
       " ['Derivation_sinbeta_eta1p5_ratio0p5'])"
      ]
     },
     "execution_count": 1,
     "metadata": {},
     "output_type": "execute_result"
    }
   ],
   "source": [
    "# Specify the parameter files for the job\n",
    "import os\n",
    "if 'GME_NB_PR' not in os.environ.keys():\n",
    "    pr_filenames = ['Derivation_sinbeta_eta1p5_ratio0p5']\n",
    "#     pr_filenames = ['Derivation_sinbeta_eta0p5_ratio0p5']\n",
    "#     pr_filenames = ['Derivation_sinbeta_eta0p33_ratio1p0']\n",
    "#     pr_filenames = ['Derivation_sinbeta_eta0p25_ratio1p0']\n",
    "else:\n",
    "    pr_filenames = eval(os.environ['GME_NB_PR'])\n",
    "    \n",
    "# Import Sympy and Numpy and set up latex inline & pretty dict printing\n",
    "import sympy as sy, numpy as np\n",
    "sy.init_printing(pretty_print=True,wrap_line=True)\n",
    "from sympy import Rational, simplify, factor, Matrix, Eq, \\\n",
    "                    solve, sin, cos, tan, atan, asin, Abs, sqrt, re, im, N, \\\n",
    "                    numer, denom, expand, Piecewise, lambdify, deg, rad\n",
    "from pprint import PrettyPrinter\n",
    "pp = PrettyPrinter(indent=4).pprint\n",
    "\n",
    "# Import Geomorphysics library functions, classes\n",
    "from gmplib.utils import numify, export_results, e2d, omitdict, round as gmround, convert\n",
    "from gmplib.save import create_directories, export_plots\n",
    "from gmplib.parameters import import_parameters, Parameters\n",
    "\n",
    "# Import GME classes and do a wildcard (!) import of all GME symbol definitions\n",
    "from gme.symbols import *\n",
    "from gme.equations import Equations\n",
    "\n",
    "# Import units & dimensions\n",
    "from sympy.physics.units \\\n",
    "    import Quantity, Dimension, \\\n",
    "            length, speed, velocity, time, \\\n",
    "            km, cm, mm, meter, meters, \\\n",
    "            year, second, \\\n",
    "            convert_to, percent, degrees, radians, mega\n",
    "from sympy.physics.units.systems import SI\n",
    "\n",
    "# Decide where we're working and thus where to find the job parameter files\n",
    "#   -  use the GME_WORKING_PATH environment variable if it's defined\n",
    "#   -  otherwise, deduce that we're working in the GME notebook dir\n",
    "if 'GME_WORKING_PATH' in os.environ.keys():\n",
    "    working_path = os.environ['GME_WORKING_PATH']\n",
    "    print(f'Fetching working path from environment variable GME_WORKING_PATH = {working_path}')\n",
    "else:\n",
    "    from gmplib.utils import get_pkg_path\n",
    "    import gme\n",
    "    working_path = get_pkg_path(gme, dirname='')\n",
    "    print(f'Deducing working path from GME package location = {working_path}')\n",
    "    del gme\n",
    "    \n",
    "# Set the path to the parameter files for this nb and report\n",
    "pr_path = os.path.join(working_path,'Parameters','Theory')\n",
    "pr_path, pr_filenames"
   ]
  },
  {
   "cell_type": "code",
   "execution_count": 2,
   "metadata": {},
   "outputs": [
    {
     "data": {
      "text/plain": [
       "'1.9'"
      ]
     },
     "execution_count": 2,
     "metadata": {},
     "output_type": "execute_result"
    }
   ],
   "source": [
    "sy.__version__"
   ]
  },
  {
   "cell_type": "code",
   "execution_count": 3,
   "metadata": {},
   "outputs": [
    {
     "name": "stdout",
     "output_type": "stream",
     "text": [
      "{   'debug': False,\n",
      "    'group_name': 'Theory',\n",
      "    'short_name': 'derivation',\n",
      "    'subtitle': '',\n",
      "    'title': 'Derivation of GME equations for sin(beta) erosion model, '\n",
      "             'eta=3/2, mu=3/4',\n",
      "    'verbose': True,\n",
      "    'very_verbose': False}\n",
      "{   'Lc': 10000,\n",
      "    'beta_type': 'sin',\n",
      "    'do_geodesic': False,\n",
      "    'eta': 3/2,\n",
      "    'h_0': 1/2,\n",
      "    'ibc_type': 'concave-up',\n",
      "    'kappa_h': 3/2,\n",
      "    'mu': 3/4,\n",
      "    't_xiv0_list': None,\n",
      "    'varepsilonhat': 1/100,\n",
      "    'varphi_0': 2.641e-05,\n",
      "    'varphi_type': 'ramp',\n",
      "    'x_h': 1,\n",
      "    'x_sigma': 0.01,\n",
      "    'xiv_0': 30}\n",
      "{   'choice': 'Hamilton',\n",
      "    'do_dense': True,\n",
      "    'do_geodesic': True,\n",
      "    'do_ic': False,\n",
      "    'do_ip': False,\n",
      "    'do_vb': False,\n",
      "    'ic_res': 31,\n",
      "    'ip_res': 101,\n",
      "    'method': {   'Hamilton': 'DOP853',\n",
      "                  'choices': ['RK45', 'RK23', 'Radau', 'DOP853', 'LSODA'],\n",
      "                  'geodesic': 'LSODA'},\n",
      "    'ray_n_t': 301,\n",
      "    't_distribn': 2,\n",
      "    't_end': 0.01,\n",
      "    'vb_res': 101}\n",
      "{   'do_eliminate_caustics': True,\n",
      "    'n_isochrones': 30,\n",
      "    'spline_order': 3,\n",
      "    't_isochrone_max': 0.01,\n",
      "    'tolerance': None}\n",
      "{   'ang_x_limits': None,\n",
      "    'ang_y_limits': None,\n",
      "    'angdisp_x_limits': None,\n",
      "    'angdisp_y_limits': None,\n",
      "    'aniso_arrow_exponent': 0.9,\n",
      "    'aniso_arrow_size': 0.5,\n",
      "    'aniso_n_points': 45,\n",
      "    'aniso_y_limits': None,\n",
      "    'big_fig_size': [10, 7],\n",
      "    'dimx_limits': [-0.03, 1.03],\n",
      "    'dimx_limits_zoom': [0.2, 0.3],\n",
      "    'dimz_limits': [-0.01, 0.6],\n",
      "    'dimz_limits_zoom': [-0.25, -0.23],\n",
      "    'do_etaxi_labeling': True,\n",
      "    'do_extra_annotations': False,\n",
      "    'do_huygens_wavelets': False,\n",
      "    'do_profile_extra': False,\n",
      "    'do_profile_schematic': False,\n",
      "    'do_pub_labeling': False,\n",
      "    'do_ray_conjugacy': False,\n",
      "    'fgtx_pz_max': 100000.0,\n",
      "    'fgtx_pz_min': 0.001,\n",
      "    'fig_size': [8, 8],\n",
      "    'idtx_logpolar_y_limits': [-2, 1],\n",
      "    'idtx_n_points': 100,\n",
      "    'idtx_pz_max': 100000.0,\n",
      "    'idtx_pz_min': 0.001,\n",
      "    'idtx_varphi_list': [0.1, 0.15, 0.5, 1, 1.3, 2, 3],\n",
      "    'isochrone_subsetting': 1,\n",
      "    'medium_fig_size': [7, 6],\n",
      "    'misc_n_points': 101,\n",
      "    'n_rays': 4,\n",
      "    'profile_cusp_speed_legend_loc': None,\n",
      "    'profile_cusp_speed_y_limits': [-10, 30],\n",
      "    'profile_det_eta_label_xy': [0.5, 0.5],\n",
      "    'profile_eval_eta_label_xy': None,\n",
      "    'profile_evec_eta_label_xy': None,\n",
      "    'profile_evec_legend_loc': 'upper left',\n",
      "    'profile_n_points': 101,\n",
      "    'profile_ray_n_points': 121,\n",
      "    'profile_subsetting': 8,\n",
      "    'pub_label_posns': {   'alpha_beta': [0.88, 0.3],\n",
      "                           'angular_disparity': [0.15, 0.15],\n",
      "                           'profile_angular_disparity': [0.6, 0.35],\n",
      "                           'profile_aniso': 'None',\n",
      "                           'profile_beta': [0.93, 0.2],\n",
      "                           'profile_h_ray': [0.85, 0.7],\n",
      "                           'profile_h_rays': [0.93, 0.35],\n",
      "                           'profile_v': 'None',\n",
      "                           'profile_vdot': 'None',\n",
      "                           'profile_vxz': 'None',\n",
      "                           'profile_xi': 'None',\n",
      "                           'profile_xihorizontal': 'None',\n",
      "                           'profile_xivertical': 'None'},\n",
      "    'pub_labels': {   'alpha_beta': '(b)',\n",
      "                      'angular_disparity': '(b)',\n",
      "                      'profile_angular_disparity': '(b)',\n",
      "                      'profile_aniso': '(b)',\n",
      "                      'profile_beta': '(b)',\n",
      "                      'profile_h_ray': '(c)',\n",
      "                      'profile_h_rays': '(b)',\n",
      "                      'profile_v': '',\n",
      "                      'profile_vdot': '',\n",
      "                      'profile_vxz': '(c)',\n",
      "                      'profile_xi': '(a)',\n",
      "                      'profile_xihorizontal': '',\n",
      "                      'profile_xivertical': '(d)'},\n",
      "    'ray_acceln_legend_loc': 'lower right',\n",
      "    'ray_eta_xy': [0.85, 0.15],\n",
      "    'ray_n_points': 26,\n",
      "    'ray_y_limits': None,\n",
      "    'rays_n_points': 40,\n",
      "    'small_fig_size': [7, 3]}\n",
      "{   'figs_format': ['png'],\n",
      "    'figs_options': {'bbox_inches': 'tight', 'dpi': 300},\n",
      "    'figs_path': ['..', '..', 'Plots']}\n"
     ]
    }
   ],
   "source": [
    "parameters_dict,_ = import_parameters([pr_path], [os.path.join('..','defaults'), *pr_filenames])\n",
    "evaluations = {}\n",
    "evaluations_sequence = ()\n",
    "pr = Parameters(parameters_dict, evaluations=evaluations, sequence=evaluations_sequence)\n",
    "[pp(psubobj.__dict__) for psubobj in (pr.job, pr.model, pr.solve, pr.resolve, pr.plot, pr.save)];"
   ]
  },
  {
   "cell_type": "code",
   "execution_count": 4,
   "metadata": {},
   "outputs": [
    {
     "data": {
      "image/png": "[encoded data removed]",
      "text/latex": [
       "$\\displaystyle \\left[ \\eta = \\frac{3}{2}, \\  \\mu = \\frac{3}{4}, \\  \\frac{\\mu}{\\eta} = \\frac{1}{2}, \\  \\left\\{ L_\\mathrm{c} : 10000, \\  \\hat{\\varepsilon} : \\frac{1}{100}, \\  \\kappa_\\mathrm{h} : \\frac{3}{2}, \\  \\varepsilon : 100, \\  \\varphi_{0} : 2.641 \\cdot 10^{-5}, \\  \\xi^{\\downarrow{0}} : 30, \\  h_{0} : \\frac{1}{2}, \\  x_{h} : 1, \\  x_{\\sigma} : 0.01\\right\\}\\right]$"
      ],
      "text/plain": [
       "⎡                       \\mu                                                   \n",
       "⎢\\eta = 3/2, \\mu = 3/4, ──── = 1/2, {L_\\mathrm{c}: 10000, \\hat{\\varepsilon}: 1\n",
       "⎣                       \\eta                                                  \n",
       "\n",
       "                                                                              \n",
       "/100, \\kappa_\\mathrm{h}: 3/2, \\varepsilon: 100, \\varphi₀: 2.641e-05, \\xi__{\\do\n",
       "                                                                              \n",
       "\n",
       "                                                  ⎤\n",
       "wnarrow{0}}: 30, h₀: 1/2, xₕ: 1, x_{\\sigma}: 0.01}⎥\n",
       "                                                  ⎦"
      ]
     },
     "execution_count": 4,
     "metadata": {},
     "output_type": "execute_result"
    }
   ],
   "source": [
    "sub = {\n",
    "        Lc: pr.model.Lc, \n",
    "        varepsilonhat: pr.model.varepsilonhat, \n",
    "        varepsilon: pr.model.varepsilonhat*pr.model.Lc, \n",
    "        varphi_0: pr.model.varphi_0,\n",
    "        xiv_0: pr.model.xiv_0,\n",
    "        kappa_h: pr.model.kappa_h,\n",
    "        h_0: pr.model.h_0,\n",
    "        x_sigma: pr.model.x_sigma,\n",
    "        x_h: pr.model.x_h\n",
    "}\n",
    "([Eq(eta,pr.model.eta), Eq(mu,pr.model.mu), Eq(mu/eta,pr.model.mu/pr.model.eta), \n",
    "        sub])"
   ]
  },
  {
   "cell_type": "markdown",
   "metadata": {},
   "source": [
    "# Equations"
   ]
  },
  {
   "cell_type": "markdown",
   "metadata": {
    "heading_collapsed": true
   },
   "source": [
    "## Basics"
   ]
  },
  {
   "cell_type": "code",
   "execution_count": 5,
   "metadata": {
    "hidden": true
   },
   "outputs": [],
   "source": [
    "gmeq = Equations( eta=pr.model.eta, mu=pr.model.mu,\n",
    "                  beta_type=pr.model.beta_type, varphi_type=pr.model.varphi_type, \n",
    "                  do_raw=True, do_nothing=True )"
   ]
  },
  {
   "cell_type": "code",
   "execution_count": 6,
   "metadata": {
    "hidden": true
   },
   "outputs": [],
   "source": [
    "def eqns(eqn_list):\n",
    "    return [getattr(gmeq, eqn) for eqn in eqn_list]"
   ]
  },
  {
   "cell_type": "markdown",
   "metadata": {
    "heading_collapsed": true
   },
   "source": [
    "## Vector $\\mathbf{{r}}$"
   ]
  },
  {
   "cell_type": "code",
   "execution_count": 7,
   "metadata": {
    "hidden": true
   },
   "outputs": [],
   "source": [
    "gmeq.define_r_eqns()"
   ]
  },
  {
   "cell_type": "code",
   "execution_count": 8,
   "metadata": {
    "hidden": true
   },
   "outputs": [
    {
     "data": {
      "image/png": "[encoded data removed]",
      "text/latex": [
       "$\\displaystyle \\left[ {r}^x = r \\cos{\\left(\\alpha \\right)}, \\  {r}^z = r \\sin{\\left(\\alpha \\right)}\\right]$"
      ],
      "text/plain": [
       "[{r}__x = r⋅cos(\\alpha), {r}__z = r⋅sin(\\alpha)]"
      ]
     },
     "execution_count": 8,
     "metadata": {},
     "output_type": "execute_result"
    }
   ],
   "source": [
    "eqns(['rx_r_alpha_eqn', 'rz_r_alpha_eqn'])"
   ]
  },
  {
   "cell_type": "markdown",
   "metadata": {
    "heading_collapsed": true
   },
   "source": [
    "## Covector $\\mathbf{\\widetilde{p}}$"
   ]
  },
  {
   "cell_type": "code",
   "execution_count": 9,
   "metadata": {
    "hidden": true
   },
   "outputs": [],
   "source": [
    "gmeq.define_p_eqns()"
   ]
  },
  {
   "cell_type": "code",
   "execution_count": 10,
   "metadata": {
    "hidden": true
   },
   "outputs": [
    {
     "data": {
      "image/png": "[encoded data removed]",
      "text/latex": [
       "$\\displaystyle \\left[ \\mathbf{\\widetilde{p}} = \\left[\\begin{matrix}p_{x} & p_{z}\\end{matrix}\\right], \\  p_{x} = p \\sin{\\left(\\beta \\right)}, \\  p_{z} = - p \\cos{\\left(\\beta \\right)}, \\  p = \\sqrt{p_{x}^{2} + p_{z}^{2}}\\right]$"
      ],
      "text/plain": [
       "⎡                                                                             \n",
       "⎢                                                                             \n",
       "⎣\\mathbf{\\widetilde{p}} = [pₓ  p_z], pₓ = p⋅sin(\\beta), p_z = -p⋅cos(\\beta), p\n",
       "\n",
       "      ____________⎤\n",
       "     ╱   2      2 ⎥\n",
       " = ╲╱  pₓ  + p_z  ⎦"
      ]
     },
     "execution_count": 10,
     "metadata": {},
     "output_type": "execute_result"
    }
   ],
   "source": [
    "eqns(['p_covec_eqn', 'px_p_beta_eqn', 'pz_p_beta_eqn', 'p_norm_pxpz_eqn'])"
   ]
  },
  {
   "cell_type": "code",
   "execution_count": 11,
   "metadata": {
    "hidden": true
   },
   "outputs": [
    {
     "data": {
      "image/png": "[encoded data removed]",
      "text/latex": [
       "$\\displaystyle p = - \\frac{p_{z}}{\\cos{\\left(\\beta \\right)}}$"
      ],
      "text/plain": [
       "      -p_z    \n",
       "p = ──────────\n",
       "    cos(\\beta)"
      ]
     },
     "execution_count": 11,
     "metadata": {},
     "output_type": "execute_result"
    }
   ],
   "source": [
    "gmeq.p_pz_cosbeta_eqn"
   ]
  },
  {
   "cell_type": "code",
   "execution_count": 12,
   "metadata": {
    "hidden": true
   },
   "outputs": [
    {
     "data": {
      "image/png": "[encoded data removed]",
      "text/latex": [
       "$\\displaystyle \\left[ \\tan{\\left(\\beta \\right)} = - \\frac{p_{x}}{p_{z}}, \\  \\sin{\\left(\\beta \\right)} = \\frac{p_{x}}{\\sqrt{p_{x}^{2} + p_{z}^{2}}}, \\  \\cos{\\left(\\beta \\right)} = - \\frac{p_{z}}{\\sqrt{p_{x}^{2} + p_{z}^{2}}}\\right]$"
      ],
      "text/plain": [
       "⎡             -pₓ                       pₓ                          -p_z      \n",
       "⎢tan(\\beta) = ────, sin(\\beta) = ───────────────, cos(\\beta) = ───────────────\n",
       "⎢             p_z                   ____________                  ____________\n",
       "⎢                                  ╱   2      2                  ╱   2      2 \n",
       "⎣                                ╲╱  pₓ  + p_z                 ╲╱  pₓ  + p_z  \n",
       "\n",
       "⎤\n",
       "⎥\n",
       "⎥\n",
       "⎥\n",
       "⎦"
      ]
     },
     "execution_count": 12,
     "metadata": {},
     "output_type": "execute_result"
    }
   ],
   "source": [
    "eqns(['tanbeta_pxpz_eqn', 'sinbeta_pxpz_eqn', 'cosbeta_pxpz_eqn'])"
   ]
  },
  {
   "cell_type": "code",
   "execution_count": 13,
   "metadata": {
    "hidden": true
   },
   "outputs": [
    {
     "data": {
      "image/png": "[encoded data removed]",
      "text/latex": [
       "$\\displaystyle \\left[ p_{z} = - \\frac{p_{x}}{\\tan{\\left(\\beta \\right)}}, \\  p_{x} = - p_{z} \\tan{\\left(\\beta \\right)}, \\  p = - \\frac{p_{z}}{\\cos{\\left(\\beta \\right)}}\\right]$"
      ],
      "text/plain": [
       "⎡         -pₓ                                  -p_z    ⎤\n",
       "⎢p_z = ──────────, pₓ = -p_z⋅tan(\\beta), p = ──────────⎥\n",
       "⎣      tan(\\beta)                            cos(\\beta)⎦"
      ]
     },
     "execution_count": 13,
     "metadata": {},
     "output_type": "execute_result"
    }
   ],
   "source": [
    "eqns(['pz_px_tanbeta_eqn', 'px_pz_tanbeta_eqn', 'p_pz_cosbeta_eqn'])"
   ]
  },
  {
   "cell_type": "markdown",
   "metadata": {
    "heading_collapsed": true
   },
   "source": [
    "## Erosion model"
   ]
  },
  {
   "cell_type": "markdown",
   "metadata": {
    "heading_collapsed": true,
    "hidden": true
   },
   "source": [
    "### $\\xi$ model"
   ]
  },
  {
   "cell_type": "code",
   "execution_count": 14,
   "metadata": {
    "hidden": true
   },
   "outputs": [],
   "source": [
    "gmeq.define_xi_eqns()"
   ]
  },
  {
   "cell_type": "code",
   "execution_count": 15,
   "metadata": {
    "hidden": true
   },
   "outputs": [
    {
     "data": {
      "image/png": "[encoded data removed]",
      "text/latex": [
       "$\\displaystyle \\left[ \\xi^{\\perp} = \\frac{1}{p}, \\  \\xi^{\\downarrow} = - \\frac{1}{p_{z}}, \\  p = \\frac{1}{\\xi^{\\perp}}, \\  p_{z} = - \\frac{1}{\\xi^{\\downarrow}}\\right]$"
      ],
      "text/plain": [
       "⎡               1                      -1            1                     -1 \n",
       "⎢\\xi__{\\perp} = ─, \\xi__{\\downarrow} = ───, p = ────────────, p_z = ──────────\n",
       "⎣               p                      p_z      \\xi__{\\perp}        \\xi__{\\dow\n",
       "\n",
       "       ⎤\n",
       "───────⎥\n",
       "narrow}⎦"
      ]
     },
     "execution_count": 15,
     "metadata": {},
     "output_type": "execute_result"
    }
   ],
   "source": [
    "eqns(['xi_p_eqn', 'xiv_pz_eqn', 'p_xi_eqn', 'pz_xiv_eqn'])"
   ]
  },
  {
   "cell_type": "code",
   "execution_count": 16,
   "metadata": {
    "hidden": true
   },
   "outputs": [],
   "source": [
    "gmeq.define_xi_model_eqn()"
   ]
  },
  {
   "cell_type": "code",
   "execution_count": 17,
   "metadata": {
    "hidden": true
   },
   "outputs": [
    {
     "data": {
      "image/png": "[encoded data removed]",
      "text/latex": [
       "$\\displaystyle \\left[ \\xi^{\\perp} = \\varphi{\\left(\\mathbf{r} \\right)} \\left|{\\sin{\\left(\\beta \\right)}}\\right|^{\\eta}\\right]$"
      ],
      "text/plain": [
       "⎡                                               \\eta⎤\n",
       "⎣\\xi__{\\perp} = \\varphi(\\mathbf{r})⋅│sin(\\beta)│    ⎦"
      ]
     },
     "execution_count": 17,
     "metadata": {},
     "output_type": "execute_result"
    }
   ],
   "source": [
    "eqns(['xi_varphi_beta_eqn'])"
   ]
  },
  {
   "cell_type": "code",
   "execution_count": 18,
   "metadata": {
    "hidden": true
   },
   "outputs": [
    {
     "data": {
      "image/png": "[encoded data removed]",
      "text/latex": [
       "$\\displaystyle - \\frac{\\cos{\\left(\\beta \\right)}}{p_{z}} = \\varphi{\\left(\\mathbf{r} \\right)} \\left|{\\sin{\\left(\\beta \\right)}}\\right|^{\\eta}$"
      ],
      "text/plain": [
       "-cos(\\beta)                                    \\eta\n",
       "──────────── = \\varphi(\\mathbf{r})⋅│sin(\\beta)│    \n",
       "    p_z                                            "
      ]
     },
     "execution_count": 18,
     "metadata": {},
     "output_type": "execute_result"
    }
   ],
   "source": [
    "gmeq.xi_varphi_beta_eqn.subs(e2d(gmeq.xi_p_eqn)).subs(e2d(gmeq.p_pz_cosbeta_eqn))"
   ]
  },
  {
   "cell_type": "code",
   "execution_count": 19,
   "metadata": {
    "hidden": true
   },
   "outputs": [
    {
     "data": {
      "image/png": "[encoded data removed]",
      "text/latex": [
       "$\\displaystyle \\frac{1}{p} = \\varphi{\\left(\\mathbf{r} \\right)} \\left|{\\sin{\\left(\\beta \\right)}}\\right|^{\\eta}$"
      ],
      "text/plain": [
       "1                                   \\eta\n",
       "─ = \\varphi(\\mathbf{r})⋅│sin(\\beta)│    \n",
       "p                                       "
      ]
     },
     "execution_count": 19,
     "metadata": {},
     "output_type": "execute_result"
    }
   ],
   "source": [
    "gmeq.xi_varphi_beta_eqn.subs(e2d(gmeq.xi_p_eqn))"
   ]
  },
  {
   "cell_type": "markdown",
   "metadata": {
    "heading_collapsed": true,
    "hidden": true
   },
   "source": [
    "### $\\xi$ related eqns"
   ]
  },
  {
   "cell_type": "code",
   "execution_count": 20,
   "metadata": {
    "hidden": true
   },
   "outputs": [],
   "source": [
    "gmeq.define_xi_related_eqns()"
   ]
  },
  {
   "cell_type": "code",
   "execution_count": 21,
   "metadata": {
    "hidden": true
   },
   "outputs": [
    {
     "data": {
      "image/png": "[encoded data removed]",
      "text/latex": [
       "$\\displaystyle - \\frac{\\left(\\frac{\\left|{p_{x}}\\right|}{\\sqrt{p_{x}^{2} + p_{z}^{2}}}\\right)^{\\eta} \\sqrt{p_{x}^{2} + p_{z}^{2}} \\varphi{\\left(\\mathbf{r} \\right)}}{p_{z}}$"
      ],
      "text/plain": [
       "                  \\eta    ____________                     \n",
       " ⎛      │pₓ│     ⎞       ╱   2      2                      \n",
       "-⎜───────────────⎟    ⋅╲╱  pₓ  + p_z  ⋅\\varphi(\\mathbf{r}) \n",
       " ⎜   ____________⎟                                         \n",
       " ⎜  ╱   2      2 ⎟                                         \n",
       " ⎝╲╱  pₓ  + p_z  ⎠                                         \n",
       "───────────────────────────────────────────────────────────\n",
       "                            p_z                            "
      ]
     },
     "execution_count": 21,
     "metadata": {},
     "output_type": "execute_result"
    }
   ],
   "source": [
    "( (gmeq.xi_varphi_beta_eqn.rhs/cos(beta))\n",
    "    .subs(e2d(gmeq.tanbeta_pxpz_eqn))\n",
    "    .subs(e2d(gmeq.cosbeta_pxpz_eqn))\n",
    "    .subs(e2d(gmeq.sinbeta_pxpz_eqn))\n",
    "    .subs({(-Abs(px)/pz)**eta:px**eta/(-pz)**eta})\n",
    ")"
   ]
  },
  {
   "cell_type": "code",
   "execution_count": 22,
   "metadata": {
    "hidden": true
   },
   "outputs": [
    {
     "data": {
      "image/png": "[encoded data removed]",
      "text/latex": [
       "$\\displaystyle \\left[ \\xi^{\\downarrow} = - \\frac{p_{x}^{\\eta} \\left(p_{x}^{2} + p_{z}^{2}\\right)^{\\frac{1}{2} - \\frac{\\eta}{2}} \\varphi{\\left(\\mathbf{r} \\right)}}{p_{z}}\\right]$"
      ],
      "text/plain": [
       "⎡                                        1   \\eta                     ⎤\n",
       "⎢                                        ─ - ────                     ⎥\n",
       "⎢                                        2    2                       ⎥\n",
       "⎢                       \\eta ⎛  2      2⎞                             ⎥\n",
       "⎢                    -pₓ    ⋅⎝pₓ  + p_z ⎠        ⋅\\varphi(\\mathbf{r}) ⎥\n",
       "⎢\\xi__{\\downarrow} = ─────────────────────────────────────────────────⎥\n",
       "⎣                                           p_z                       ⎦"
      ]
     },
     "execution_count": 22,
     "metadata": {},
     "output_type": "execute_result"
    }
   ],
   "source": [
    "eqns(['xiv_varphi_pxpz_eqn'])"
   ]
  },
  {
   "cell_type": "code",
   "execution_count": 23,
   "metadata": {
    "hidden": true
   },
   "outputs": [
    {
     "data": {
      "image/png": "[encoded data removed]",
      "text/latex": [
       "$\\displaystyle \\left(\\xi^{\\downarrow}\\right)^{2} \\left(p_{x}^{2} p_{x}^{2 \\eta} \\left(p_{x}^{2} + \\frac{1}{\\left(\\xi^{\\downarrow}\\right)^{2}}\\right)^{- \\eta} \\varphi^{2}{\\left(\\mathbf{r} \\right)} - 1 + \\frac{p_{x}^{2 \\eta} \\left(p_{x}^{2} + \\frac{1}{\\left(\\xi^{\\downarrow}\\right)^{2}}\\right)^{- \\eta} \\varphi^{2}{\\left(\\mathbf{r} \\right)}}{\\left(\\xi^{\\downarrow}\\right)^{2}}\\right) \\left(p_{x}^{2} p_{x}^{2 \\eta} \\left(p_{x}^{2} + \\frac{1}{\\left(\\xi^{\\downarrow}\\right)^{2}}\\right)^{- \\eta} \\varphi^{2}{\\left(\\mathbf{r} \\right)} + 1 + \\frac{p_{x}^{2 \\eta} \\left(p_{x}^{2} + \\frac{1}{\\left(\\xi^{\\downarrow}\\right)^{2}}\\right)^{- \\eta} \\varphi^{2}{\\left(\\mathbf{r} \\right)}}{\\left(\\xi^{\\downarrow}\\right)^{2}}\\right) = 0$"
      ],
      "text/plain": [
       "                   ⎛                                                          \n",
       "                   ⎜                                                          \n",
       "                   ⎜                                                          \n",
       "                   ⎜                                       -\\eta              \n",
       "                 2 ⎜  2   2⋅\\eta ⎛  2           1         ⎞             2     \n",
       "\\xi__{\\downarrow} ⋅⎜pₓ ⋅pₓ      ⋅⎜pₓ  + ──────────────────⎟     ⋅\\varphi (\\mat\n",
       "                   ⎜             ⎜                       2⎟                   \n",
       "                   ⎝             ⎝      \\xi__{\\downarrow} ⎠                   \n",
       "\n",
       "                                                 -\\eta                     ⎞ ⎛\n",
       "                2⋅\\eta ⎛  2           1         ⎞             2            ⎟ ⎜\n",
       "              pₓ      ⋅⎜pₓ  + ──────────────────⎟     ⋅\\varphi (\\mathbf{r})⎟ ⎜\n",
       "                       ⎜                       2⎟                          ⎟ ⎜\n",
       "                       ⎝      \\xi__{\\downarrow} ⎠                          ⎟ ⎜\n",
       "hbf{r}) - 1 + ─────────────────────────────────────────────────────────────⎟⋅⎜\n",
       "                                                     2                     ⎟ ⎜\n",
       "                                    \\xi__{\\downarrow}                      ⎠ ⎝\n",
       "\n",
       "                                                                              \n",
       "                                                                          2⋅\\e\n",
       "                                                                        pₓ    \n",
       "                                       -\\eta                                  \n",
       "  2   2⋅\\eta ⎛  2           1         ⎞             2                         \n",
       "pₓ ⋅pₓ      ⋅⎜pₓ  + ──────────────────⎟     ⋅\\varphi (\\mathbf{r}) + 1 + ──────\n",
       "             ⎜                       2⎟                                       \n",
       "             ⎝      \\xi__{\\downarrow} ⎠                                       \n",
       "\n",
       "                             -\\eta                     ⎞    \n",
       "ta ⎛  2           1         ⎞             2            ⎟    \n",
       "  ⋅⎜pₓ  + ──────────────────⎟     ⋅\\varphi (\\mathbf{r})⎟    \n",
       "   ⎜                       2⎟                          ⎟    \n",
       "   ⎝      \\xi__{\\downarrow} ⎠                          ⎟    \n",
       "───────────────────────────────────────────────────────⎟ = 0\n",
       "                                 2                     ⎟    \n",
       "                \\xi__{\\downarrow}                      ⎠    "
      ]
     },
     "execution_count": 23,
     "metadata": {},
     "output_type": "execute_result"
    }
   ],
   "source": [
    "gmeq.px_xiv_varphi_eqn"
   ]
  },
  {
   "cell_type": "markdown",
   "metadata": {
    "heading_collapsed": true,
    "hidden": true
   },
   "source": [
    "### $\\varphi$ model"
   ]
  },
  {
   "cell_type": "code",
   "execution_count": 24,
   "metadata": {
    "hidden": true
   },
   "outputs": [
    {
     "data": {
      "text/plain": [
       "'ramp'"
      ]
     },
     "execution_count": 24,
     "metadata": {},
     "output_type": "execute_result"
    }
   ],
   "source": [
    "gmeq.define_varphi_model_eqn()\n",
    "gmeq.varphi_type"
   ]
  },
  {
   "cell_type": "code",
   "execution_count": 25,
   "metadata": {
    "hidden": true
   },
   "outputs": [
    {
     "data": {
      "image/png": "[encoded data removed]",
      "text/plain": [
       "<Figure size 432x288 with 1 Axes>"
      ]
     },
     "metadata": {
      "image/png": {
       "height": 278,
       "width": 422
      },
      "needs_background": "light"
     },
     "output_type": "display_data"
    },
    {
     "data": {
      "image/png": "[encoded data removed]",
      "text/latex": [
       "$\\displaystyle \\frac{1}{e^{\\frac{L_\\mathrm{c} - x - x_{h}}{x_{\\sigma}}} + 1}$"
      ],
      "text/plain": [
       "            1             \n",
       "──────────────────────────\n",
       " L_\\mathrm{c} - x - xₕ    \n",
       " ─────────────────────    \n",
       "       x_{\\sigma}         \n",
       "ℯ                      + 1"
      ]
     },
     "execution_count": 25,
     "metadata": {},
     "output_type": "execute_result"
    }
   ],
   "source": [
    "smooth_step_fn = 1/(1+sy.exp(((x_1-x_h)-x)/x_sigma))\n",
    "sy.plot(smooth_step_fn.subs({x:x_1-x}).subs({x_sigma:0.01, x_h:0.8, x_1:1}), (x,0,1));\n",
    "simplify(smooth_step_fn)"
   ]
  },
  {
   "cell_type": "code",
   "execution_count": 26,
   "metadata": {
    "hidden": true
   },
   "outputs": [],
   "source": [
    "tmpsub = {x_sigma:0.01, chi:30, x_h:0.8, x_1:1, varphi_0:1, mu:2}"
   ]
  },
  {
   "cell_type": "code",
   "execution_count": 27,
   "metadata": {
    "hidden": true
   },
   "outputs": [
    {
     "data": {
      "image/png": "[encoded data removed]",
      "text/latex": [
       "$\\displaystyle \\left( \\left(\\frac{L_\\mathrm{c} - \\chi \\left(L_\\mathrm{c} - x_{h}\\right) + \\chi \\left(x + x_{\\sigma} \\log{\\left(e^{\\frac{L_\\mathrm{c} - x - x_{h}}{x_{\\sigma}}} + 1 \\right)}\\right)}{L_\\mathrm{c}}\\right)^{\\mu}, \\  1.00000000123669\\right)$"
      ],
      "text/plain": [
       "⎛                                                                             \n",
       "⎜⎛                                               ⎛                  ⎛ L_\\mathr\n",
       "⎜⎜                                               ⎜                  ⎜ ────────\n",
       "⎜⎜                                               ⎜                  ⎜       x_\n",
       "⎜⎜L_\\mathrm{c} - \\chi⋅(L_\\mathrm{c} - xₕ) + \\chi⋅⎝x + x_{\\sigma}⋅log⎝ℯ        \n",
       "⎜⎜────────────────────────────────────────────────────────────────────────────\n",
       "⎝⎝                                          L_\\mathrm{c}                      \n",
       "\n",
       "                    \\mu                  ⎞\n",
       "m{c} - x - xₕ    ⎞⎞⎞                     ⎟\n",
       "─────────────    ⎟⎟⎟                     ⎟\n",
       "{\\sigma}         ⎟⎟⎟                     ⎟\n",
       "              + 1⎠⎠⎟                     ⎟\n",
       "───────────────────⎟   , 1.00000000123669⎟\n",
       "                   ⎠                     ⎠"
      ]
     },
     "execution_count": 27,
     "metadata": {},
     "output_type": "execute_result"
    }
   ],
   "source": [
    "smooth_break_fn = simplify( ((chi/(x_1))*(\n",
    "    sy.integrate(smooth_step_fn,x))-chi*(1-x_h/x_1)+1)**mu )\n",
    "smooth_break_fn, smooth_break_fn.subs({x:x_1-rx}).subs({rx:x_1}).subs(tmpsub)"
   ]
  },
  {
   "cell_type": "code",
   "execution_count": 28,
   "metadata": {
    "hidden": true
   },
   "outputs": [
    {
     "ename": "ValueError",
     "evalue": "Invalid RGBA argument: ['red', 'white']",
     "output_type": "error",
     "traceback": [
      "\u001b[0;31m---------------------------------------------------------------------------\u001b[0m",
      "\u001b[0;31mValueError\u001b[0m                                Traceback (most recent call last)",
      "\u001b[0;32m/opt/local/Library/Frameworks/Python.framework/Versions/3.8/lib/python3.8/site-packages/IPython/core/formatters.py\u001b[0m in \u001b[0;36m__call__\u001b[0;34m(self, obj)\u001b[0m\n\u001b[1;32m    339\u001b[0m                 \u001b[0;32mpass\u001b[0m\u001b[0;34m\u001b[0m\u001b[0;34m\u001b[0m\u001b[0m\n\u001b[1;32m    340\u001b[0m             \u001b[0;32melse\u001b[0m\u001b[0;34m:\u001b[0m\u001b[0;34m\u001b[0m\u001b[0;34m\u001b[0m\u001b[0m\n\u001b[0;32m--> 341\u001b[0;31m                 \u001b[0;32mreturn\u001b[0m \u001b[0mprinter\u001b[0m\u001b[0;34m(\u001b[0m\u001b[0mobj\u001b[0m\u001b[0;34m)\u001b[0m\u001b[0;34m\u001b[0m\u001b[0;34m\u001b[0m\u001b[0m\n\u001b[0m\u001b[1;32m    342\u001b[0m             \u001b[0;31m# Finally look for special method names\u001b[0m\u001b[0;34m\u001b[0m\u001b[0;34m\u001b[0m\u001b[0;34m\u001b[0m\u001b[0m\n\u001b[1;32m    343\u001b[0m             \u001b[0mmethod\u001b[0m \u001b[0;34m=\u001b[0m \u001b[0mget_real_method\u001b[0m\u001b[0;34m(\u001b[0m\u001b[0mobj\u001b[0m\u001b[0;34m,\u001b[0m \u001b[0mself\u001b[0m\u001b[0;34m.\u001b[0m\u001b[0mprint_method\u001b[0m\u001b[0;34m)\u001b[0m\u001b[0;34m\u001b[0m\u001b[0;34m\u001b[0m\u001b[0m\n",
      "\u001b[0;32m/opt/local/Library/Frameworks/Python.framework/Versions/3.8/lib/python3.8/site-packages/IPython/core/pylabtools.py\u001b[0m in \u001b[0;36m<lambda>\u001b[0;34m(fig)\u001b[0m\n\u001b[1;32m    248\u001b[0m         \u001b[0mpng_formatter\u001b[0m\u001b[0;34m.\u001b[0m\u001b[0mfor_type\u001b[0m\u001b[0;34m(\u001b[0m\u001b[0mFigure\u001b[0m\u001b[0;34m,\u001b[0m \u001b[0;32mlambda\u001b[0m \u001b[0mfig\u001b[0m\u001b[0;34m:\u001b[0m \u001b[0mprint_figure\u001b[0m\u001b[0;34m(\u001b[0m\u001b[0mfig\u001b[0m\u001b[0;34m,\u001b[0m \u001b[0;34m'png'\u001b[0m\u001b[0;34m,\u001b[0m \u001b[0;34m**\u001b[0m\u001b[0mkwargs\u001b[0m\u001b[0;34m)\u001b[0m\u001b[0;34m)\u001b[0m\u001b[0;34m\u001b[0m\u001b[0;34m\u001b[0m\u001b[0m\n\u001b[1;32m    249\u001b[0m     \u001b[0;32mif\u001b[0m \u001b[0;34m'retina'\u001b[0m \u001b[0;32min\u001b[0m \u001b[0mformats\u001b[0m \u001b[0;32mor\u001b[0m \u001b[0;34m'png2x'\u001b[0m \u001b[0;32min\u001b[0m \u001b[0mformats\u001b[0m\u001b[0;34m:\u001b[0m\u001b[0;34m\u001b[0m\u001b[0;34m\u001b[0m\u001b[0m\n\u001b[0;32m--> 250\u001b[0;31m         \u001b[0mpng_formatter\u001b[0m\u001b[0;34m.\u001b[0m\u001b[0mfor_type\u001b[0m\u001b[0;34m(\u001b[0m\u001b[0mFigure\u001b[0m\u001b[0;34m,\u001b[0m \u001b[0;32mlambda\u001b[0m \u001b[0mfig\u001b[0m\u001b[0;34m:\u001b[0m \u001b[0mretina_figure\u001b[0m\u001b[0;34m(\u001b[0m\u001b[0mfig\u001b[0m\u001b[0;34m,\u001b[0m \u001b[0;34m**\u001b[0m\u001b[0mkwargs\u001b[0m\u001b[0;34m)\u001b[0m\u001b[0;34m)\u001b[0m\u001b[0;34m\u001b[0m\u001b[0;34m\u001b[0m\u001b[0m\n\u001b[0m\u001b[1;32m    251\u001b[0m     \u001b[0;32mif\u001b[0m \u001b[0;34m'jpg'\u001b[0m \u001b[0;32min\u001b[0m \u001b[0mformats\u001b[0m \u001b[0;32mor\u001b[0m \u001b[0;34m'jpeg'\u001b[0m \u001b[0;32min\u001b[0m \u001b[0mformats\u001b[0m\u001b[0;34m:\u001b[0m\u001b[0;34m\u001b[0m\u001b[0;34m\u001b[0m\u001b[0m\n\u001b[1;32m    252\u001b[0m         \u001b[0mjpg_formatter\u001b[0m\u001b[0;34m.\u001b[0m\u001b[0mfor_type\u001b[0m\u001b[0;34m(\u001b[0m\u001b[0mFigure\u001b[0m\u001b[0;34m,\u001b[0m \u001b[0;32mlambda\u001b[0m \u001b[0mfig\u001b[0m\u001b[0;34m:\u001b[0m \u001b[0mprint_figure\u001b[0m\u001b[0;34m(\u001b[0m\u001b[0mfig\u001b[0m\u001b[0;34m,\u001b[0m \u001b[0;34m'jpg'\u001b[0m\u001b[0;34m,\u001b[0m \u001b[0;34m**\u001b[0m\u001b[0mkwargs\u001b[0m\u001b[0;34m)\u001b[0m\u001b[0;34m)\u001b[0m\u001b[0;34m\u001b[0m\u001b[0;34m\u001b[0m\u001b[0m\n",
      "\u001b[0;32m/opt/local/Library/Frameworks/Python.framework/Versions/3.8/lib/python3.8/site-packages/IPython/core/pylabtools.py\u001b[0m in \u001b[0;36mretina_figure\u001b[0;34m(fig, **kwargs)\u001b[0m\n\u001b[1;32m    138\u001b[0m \u001b[0;32mdef\u001b[0m \u001b[0mretina_figure\u001b[0m\u001b[0;34m(\u001b[0m\u001b[0mfig\u001b[0m\u001b[0;34m,\u001b[0m \u001b[0;34m**\u001b[0m\u001b[0mkwargs\u001b[0m\u001b[0;34m)\u001b[0m\u001b[0;34m:\u001b[0m\u001b[0;34m\u001b[0m\u001b[0;34m\u001b[0m\u001b[0m\n\u001b[1;32m    139\u001b[0m     \u001b[0;34m\"\"\"format a figure as a pixel-doubled (retina) PNG\"\"\"\u001b[0m\u001b[0;34m\u001b[0m\u001b[0;34m\u001b[0m\u001b[0m\n\u001b[0;32m--> 140\u001b[0;31m     \u001b[0mpngdata\u001b[0m \u001b[0;34m=\u001b[0m \u001b[0mprint_figure\u001b[0m\u001b[0;34m(\u001b[0m\u001b[0mfig\u001b[0m\u001b[0;34m,\u001b[0m \u001b[0mfmt\u001b[0m\u001b[0;34m=\u001b[0m\u001b[0;34m'retina'\u001b[0m\u001b[0;34m,\u001b[0m \u001b[0;34m**\u001b[0m\u001b[0mkwargs\u001b[0m\u001b[0;34m)\u001b[0m\u001b[0;34m\u001b[0m\u001b[0;34m\u001b[0m\u001b[0m\n\u001b[0m\u001b[1;32m    141\u001b[0m     \u001b[0;31m# Make sure that retina_figure acts just like print_figure and returns\u001b[0m\u001b[0;34m\u001b[0m\u001b[0;34m\u001b[0m\u001b[0;34m\u001b[0m\u001b[0m\n\u001b[1;32m    142\u001b[0m     \u001b[0;31m# None when the figure is empty.\u001b[0m\u001b[0;34m\u001b[0m\u001b[0;34m\u001b[0m\u001b[0;34m\u001b[0m\u001b[0m\n",
      "\u001b[0;32m/opt/local/Library/Frameworks/Python.framework/Versions/3.8/lib/python3.8/site-packages/IPython/core/pylabtools.py\u001b[0m in \u001b[0;36mprint_figure\u001b[0;34m(fig, fmt, bbox_inches, **kwargs)\u001b[0m\n\u001b[1;32m    130\u001b[0m         \u001b[0mFigureCanvasBase\u001b[0m\u001b[0;34m(\u001b[0m\u001b[0mfig\u001b[0m\u001b[0;34m)\u001b[0m\u001b[0;34m\u001b[0m\u001b[0;34m\u001b[0m\u001b[0m\n\u001b[1;32m    131\u001b[0m \u001b[0;34m\u001b[0m\u001b[0m\n\u001b[0;32m--> 132\u001b[0;31m     \u001b[0mfig\u001b[0m\u001b[0;34m.\u001b[0m\u001b[0mcanvas\u001b[0m\u001b[0;34m.\u001b[0m\u001b[0mprint_figure\u001b[0m\u001b[0;34m(\u001b[0m\u001b[0mbytes_io\u001b[0m\u001b[0;34m,\u001b[0m \u001b[0;34m**\u001b[0m\u001b[0mkw\u001b[0m\u001b[0;34m)\u001b[0m\u001b[0;34m\u001b[0m\u001b[0;34m\u001b[0m\u001b[0m\n\u001b[0m\u001b[1;32m    133\u001b[0m     \u001b[0mdata\u001b[0m \u001b[0;34m=\u001b[0m \u001b[0mbytes_io\u001b[0m\u001b[0;34m.\u001b[0m\u001b[0mgetvalue\u001b[0m\u001b[0;34m(\u001b[0m\u001b[0;34m)\u001b[0m\u001b[0;34m\u001b[0m\u001b[0;34m\u001b[0m\u001b[0m\n\u001b[1;32m    134\u001b[0m     \u001b[0;32mif\u001b[0m \u001b[0mfmt\u001b[0m \u001b[0;34m==\u001b[0m \u001b[0;34m'svg'\u001b[0m\u001b[0;34m:\u001b[0m\u001b[0;34m\u001b[0m\u001b[0;34m\u001b[0m\u001b[0m\n",
      "\u001b[0;32m/opt/local/Library/Frameworks/Python.framework/Versions/3.8/lib/python3.8/site-packages/matplotlib/backend_bases.py\u001b[0m in \u001b[0;36mprint_figure\u001b[0;34m(self, filename, dpi, facecolor, edgecolor, orientation, format, bbox_inches, **kwargs)\u001b[0m\n\u001b[1;32m   2098\u001b[0m                            else suppress())\n\u001b[1;32m   2099\u001b[0m                     \u001b[0;32mwith\u001b[0m \u001b[0mctx\u001b[0m\u001b[0;34m:\u001b[0m\u001b[0;34m\u001b[0m\u001b[0;34m\u001b[0m\u001b[0m\n\u001b[0;32m-> 2100\u001b[0;31m                         \u001b[0mself\u001b[0m\u001b[0;34m.\u001b[0m\u001b[0mfigure\u001b[0m\u001b[0;34m.\u001b[0m\u001b[0mdraw\u001b[0m\u001b[0;34m(\u001b[0m\u001b[0mrenderer\u001b[0m\u001b[0;34m)\u001b[0m\u001b[0;34m\u001b[0m\u001b[0;34m\u001b[0m\u001b[0m\n\u001b[0m\u001b[1;32m   2101\u001b[0m                     \u001b[0mbbox_artists\u001b[0m \u001b[0;34m=\u001b[0m \u001b[0mkwargs\u001b[0m\u001b[0;34m.\u001b[0m\u001b[0mpop\u001b[0m\u001b[0;34m(\u001b[0m\u001b[0;34m\"bbox_extra_artists\"\u001b[0m\u001b[0;34m,\u001b[0m \u001b[0;32mNone\u001b[0m\u001b[0;34m)\u001b[0m\u001b[0;34m\u001b[0m\u001b[0;34m\u001b[0m\u001b[0m\n\u001b[1;32m   2102\u001b[0m                     bbox_inches = self.figure.get_tightbbox(renderer,\n",
      "\u001b[0;32m/opt/local/Library/Frameworks/Python.framework/Versions/3.8/lib/python3.8/site-packages/matplotlib/artist.py\u001b[0m in \u001b[0;36mdraw_wrapper\u001b[0;34m(artist, renderer, *args, **kwargs)\u001b[0m\n\u001b[1;32m     36\u001b[0m                 \u001b[0mrenderer\u001b[0m\u001b[0;34m.\u001b[0m\u001b[0mstart_filter\u001b[0m\u001b[0;34m(\u001b[0m\u001b[0;34m)\u001b[0m\u001b[0;34m\u001b[0m\u001b[0;34m\u001b[0m\u001b[0m\n\u001b[1;32m     37\u001b[0m \u001b[0;34m\u001b[0m\u001b[0m\n\u001b[0;32m---> 38\u001b[0;31m             \u001b[0;32mreturn\u001b[0m \u001b[0mdraw\u001b[0m\u001b[0;34m(\u001b[0m\u001b[0martist\u001b[0m\u001b[0;34m,\u001b[0m \u001b[0mrenderer\u001b[0m\u001b[0;34m,\u001b[0m \u001b[0;34m*\u001b[0m\u001b[0margs\u001b[0m\u001b[0;34m,\u001b[0m \u001b[0;34m**\u001b[0m\u001b[0mkwargs\u001b[0m\u001b[0;34m)\u001b[0m\u001b[0;34m\u001b[0m\u001b[0;34m\u001b[0m\u001b[0m\n\u001b[0m\u001b[1;32m     39\u001b[0m         \u001b[0;32mfinally\u001b[0m\u001b[0;34m:\u001b[0m\u001b[0;34m\u001b[0m\u001b[0;34m\u001b[0m\u001b[0m\n\u001b[1;32m     40\u001b[0m             \u001b[0;32mif\u001b[0m \u001b[0martist\u001b[0m\u001b[0;34m.\u001b[0m\u001b[0mget_agg_filter\u001b[0m\u001b[0;34m(\u001b[0m\u001b[0;34m)\u001b[0m \u001b[0;32mis\u001b[0m \u001b[0;32mnot\u001b[0m \u001b[0;32mNone\u001b[0m\u001b[0;34m:\u001b[0m\u001b[0;34m\u001b[0m\u001b[0;34m\u001b[0m\u001b[0m\n",
      "\u001b[0;32m/opt/local/Library/Frameworks/Python.framework/Versions/3.8/lib/python3.8/site-packages/matplotlib/figure.py\u001b[0m in \u001b[0;36mdraw\u001b[0;34m(self, renderer)\u001b[0m\n\u001b[1;32m   1733\u001b[0m \u001b[0;34m\u001b[0m\u001b[0m\n\u001b[1;32m   1734\u001b[0m             \u001b[0mself\u001b[0m\u001b[0;34m.\u001b[0m\u001b[0mpatch\u001b[0m\u001b[0;34m.\u001b[0m\u001b[0mdraw\u001b[0m\u001b[0;34m(\u001b[0m\u001b[0mrenderer\u001b[0m\u001b[0;34m)\u001b[0m\u001b[0;34m\u001b[0m\u001b[0;34m\u001b[0m\u001b[0m\n\u001b[0;32m-> 1735\u001b[0;31m             mimage._draw_list_compositing_images(\n\u001b[0m\u001b[1;32m   1736\u001b[0m                 renderer, self, artists, self.suppressComposite)\n\u001b[1;32m   1737\u001b[0m \u001b[0;34m\u001b[0m\u001b[0m\n",
      "\u001b[0;32m/opt/local/Library/Frameworks/Python.framework/Versions/3.8/lib/python3.8/site-packages/matplotlib/image.py\u001b[0m in \u001b[0;36m_draw_list_compositing_images\u001b[0;34m(renderer, parent, artists, suppress_composite)\u001b[0m\n\u001b[1;32m    135\u001b[0m     \u001b[0;32mif\u001b[0m \u001b[0mnot_composite\u001b[0m \u001b[0;32mor\u001b[0m \u001b[0;32mnot\u001b[0m \u001b[0mhas_images\u001b[0m\u001b[0;34m:\u001b[0m\u001b[0;34m\u001b[0m\u001b[0;34m\u001b[0m\u001b[0m\n\u001b[1;32m    136\u001b[0m         \u001b[0;32mfor\u001b[0m \u001b[0ma\u001b[0m \u001b[0;32min\u001b[0m \u001b[0martists\u001b[0m\u001b[0;34m:\u001b[0m\u001b[0;34m\u001b[0m\u001b[0;34m\u001b[0m\u001b[0m\n\u001b[0;32m--> 137\u001b[0;31m             \u001b[0ma\u001b[0m\u001b[0;34m.\u001b[0m\u001b[0mdraw\u001b[0m\u001b[0;34m(\u001b[0m\u001b[0mrenderer\u001b[0m\u001b[0;34m)\u001b[0m\u001b[0;34m\u001b[0m\u001b[0;34m\u001b[0m\u001b[0m\n\u001b[0m\u001b[1;32m    138\u001b[0m     \u001b[0;32melse\u001b[0m\u001b[0;34m:\u001b[0m\u001b[0;34m\u001b[0m\u001b[0;34m\u001b[0m\u001b[0m\n\u001b[1;32m    139\u001b[0m         \u001b[0;31m# Composite any adjacent images together\u001b[0m\u001b[0;34m\u001b[0m\u001b[0;34m\u001b[0m\u001b[0;34m\u001b[0m\u001b[0m\n",
      "\u001b[0;32m/opt/local/Library/Frameworks/Python.framework/Versions/3.8/lib/python3.8/site-packages/matplotlib/artist.py\u001b[0m in \u001b[0;36mdraw_wrapper\u001b[0;34m(artist, renderer, *args, **kwargs)\u001b[0m\n\u001b[1;32m     36\u001b[0m                 \u001b[0mrenderer\u001b[0m\u001b[0;34m.\u001b[0m\u001b[0mstart_filter\u001b[0m\u001b[0;34m(\u001b[0m\u001b[0;34m)\u001b[0m\u001b[0;34m\u001b[0m\u001b[0;34m\u001b[0m\u001b[0m\n\u001b[1;32m     37\u001b[0m \u001b[0;34m\u001b[0m\u001b[0m\n\u001b[0;32m---> 38\u001b[0;31m             \u001b[0;32mreturn\u001b[0m \u001b[0mdraw\u001b[0m\u001b[0;34m(\u001b[0m\u001b[0martist\u001b[0m\u001b[0;34m,\u001b[0m \u001b[0mrenderer\u001b[0m\u001b[0;34m,\u001b[0m \u001b[0;34m*\u001b[0m\u001b[0margs\u001b[0m\u001b[0;34m,\u001b[0m \u001b[0;34m**\u001b[0m\u001b[0mkwargs\u001b[0m\u001b[0;34m)\u001b[0m\u001b[0;34m\u001b[0m\u001b[0;34m\u001b[0m\u001b[0m\n\u001b[0m\u001b[1;32m     39\u001b[0m         \u001b[0;32mfinally\u001b[0m\u001b[0;34m:\u001b[0m\u001b[0;34m\u001b[0m\u001b[0;34m\u001b[0m\u001b[0m\n\u001b[1;32m     40\u001b[0m             \u001b[0;32mif\u001b[0m \u001b[0martist\u001b[0m\u001b[0;34m.\u001b[0m\u001b[0mget_agg_filter\u001b[0m\u001b[0;34m(\u001b[0m\u001b[0;34m)\u001b[0m \u001b[0;32mis\u001b[0m \u001b[0;32mnot\u001b[0m \u001b[0;32mNone\u001b[0m\u001b[0;34m:\u001b[0m\u001b[0;34m\u001b[0m\u001b[0;34m\u001b[0m\u001b[0m\n",
      "\u001b[0;32m/opt/local/Library/Frameworks/Python.framework/Versions/3.8/lib/python3.8/site-packages/matplotlib/axes/_base.py\u001b[0m in \u001b[0;36mdraw\u001b[0;34m(self, renderer, inframe)\u001b[0m\n\u001b[1;32m   2628\u001b[0m             \u001b[0mrenderer\u001b[0m\u001b[0;34m.\u001b[0m\u001b[0mstop_rasterizing\u001b[0m\u001b[0;34m(\u001b[0m\u001b[0;34m)\u001b[0m\u001b[0;34m\u001b[0m\u001b[0;34m\u001b[0m\u001b[0m\n\u001b[1;32m   2629\u001b[0m \u001b[0;34m\u001b[0m\u001b[0m\n\u001b[0;32m-> 2630\u001b[0;31m         \u001b[0mmimage\u001b[0m\u001b[0;34m.\u001b[0m\u001b[0m_draw_list_compositing_images\u001b[0m\u001b[0;34m(\u001b[0m\u001b[0mrenderer\u001b[0m\u001b[0;34m,\u001b[0m \u001b[0mself\u001b[0m\u001b[0;34m,\u001b[0m \u001b[0martists\u001b[0m\u001b[0;34m)\u001b[0m\u001b[0;34m\u001b[0m\u001b[0;34m\u001b[0m\u001b[0m\n\u001b[0m\u001b[1;32m   2631\u001b[0m \u001b[0;34m\u001b[0m\u001b[0m\n\u001b[1;32m   2632\u001b[0m         \u001b[0mrenderer\u001b[0m\u001b[0;34m.\u001b[0m\u001b[0mclose_group\u001b[0m\u001b[0;34m(\u001b[0m\u001b[0;34m'axes'\u001b[0m\u001b[0;34m)\u001b[0m\u001b[0;34m\u001b[0m\u001b[0;34m\u001b[0m\u001b[0m\n",
      "\u001b[0;32m/opt/local/Library/Frameworks/Python.framework/Versions/3.8/lib/python3.8/site-packages/matplotlib/image.py\u001b[0m in \u001b[0;36m_draw_list_compositing_images\u001b[0;34m(renderer, parent, artists, suppress_composite)\u001b[0m\n\u001b[1;32m    135\u001b[0m     \u001b[0;32mif\u001b[0m \u001b[0mnot_composite\u001b[0m \u001b[0;32mor\u001b[0m \u001b[0;32mnot\u001b[0m \u001b[0mhas_images\u001b[0m\u001b[0;34m:\u001b[0m\u001b[0;34m\u001b[0m\u001b[0;34m\u001b[0m\u001b[0m\n\u001b[1;32m    136\u001b[0m         \u001b[0;32mfor\u001b[0m \u001b[0ma\u001b[0m \u001b[0;32min\u001b[0m \u001b[0martists\u001b[0m\u001b[0;34m:\u001b[0m\u001b[0;34m\u001b[0m\u001b[0;34m\u001b[0m\u001b[0m\n\u001b[0;32m--> 137\u001b[0;31m             \u001b[0ma\u001b[0m\u001b[0;34m.\u001b[0m\u001b[0mdraw\u001b[0m\u001b[0;34m(\u001b[0m\u001b[0mrenderer\u001b[0m\u001b[0;34m)\u001b[0m\u001b[0;34m\u001b[0m\u001b[0;34m\u001b[0m\u001b[0m\n\u001b[0m\u001b[1;32m    138\u001b[0m     \u001b[0;32melse\u001b[0m\u001b[0;34m:\u001b[0m\u001b[0;34m\u001b[0m\u001b[0;34m\u001b[0m\u001b[0m\n\u001b[1;32m    139\u001b[0m         \u001b[0;31m# Composite any adjacent images together\u001b[0m\u001b[0;34m\u001b[0m\u001b[0;34m\u001b[0m\u001b[0;34m\u001b[0m\u001b[0m\n",
      "\u001b[0;32m/opt/local/Library/Frameworks/Python.framework/Versions/3.8/lib/python3.8/site-packages/matplotlib/artist.py\u001b[0m in \u001b[0;36mdraw_wrapper\u001b[0;34m(artist, renderer, *args, **kwargs)\u001b[0m\n\u001b[1;32m     36\u001b[0m                 \u001b[0mrenderer\u001b[0m\u001b[0;34m.\u001b[0m\u001b[0mstart_filter\u001b[0m\u001b[0;34m(\u001b[0m\u001b[0;34m)\u001b[0m\u001b[0;34m\u001b[0m\u001b[0;34m\u001b[0m\u001b[0m\n\u001b[1;32m     37\u001b[0m \u001b[0;34m\u001b[0m\u001b[0m\n\u001b[0;32m---> 38\u001b[0;31m             \u001b[0;32mreturn\u001b[0m \u001b[0mdraw\u001b[0m\u001b[0;34m(\u001b[0m\u001b[0martist\u001b[0m\u001b[0;34m,\u001b[0m \u001b[0mrenderer\u001b[0m\u001b[0;34m,\u001b[0m \u001b[0;34m*\u001b[0m\u001b[0margs\u001b[0m\u001b[0;34m,\u001b[0m \u001b[0;34m**\u001b[0m\u001b[0mkwargs\u001b[0m\u001b[0;34m)\u001b[0m\u001b[0;34m\u001b[0m\u001b[0;34m\u001b[0m\u001b[0m\n\u001b[0m\u001b[1;32m     39\u001b[0m         \u001b[0;32mfinally\u001b[0m\u001b[0;34m:\u001b[0m\u001b[0;34m\u001b[0m\u001b[0;34m\u001b[0m\u001b[0m\n\u001b[1;32m     40\u001b[0m             \u001b[0;32mif\u001b[0m \u001b[0martist\u001b[0m\u001b[0;34m.\u001b[0m\u001b[0mget_agg_filter\u001b[0m\u001b[0;34m(\u001b[0m\u001b[0;34m)\u001b[0m \u001b[0;32mis\u001b[0m \u001b[0;32mnot\u001b[0m \u001b[0;32mNone\u001b[0m\u001b[0;34m:\u001b[0m\u001b[0;34m\u001b[0m\u001b[0;34m\u001b[0m\u001b[0m\n",
      "\u001b[0;32m/opt/local/Library/Frameworks/Python.framework/Versions/3.8/lib/python3.8/site-packages/matplotlib/lines.py\u001b[0m in \u001b[0;36mdraw\u001b[0;34m(self, renderer)\u001b[0m\n\u001b[1;32m    781\u001b[0m                 \u001b[0mself\u001b[0m\u001b[0;34m.\u001b[0m\u001b[0m_set_gc_clip\u001b[0m\u001b[0;34m(\u001b[0m\u001b[0mgc\u001b[0m\u001b[0;34m)\u001b[0m\u001b[0;34m\u001b[0m\u001b[0;34m\u001b[0m\u001b[0m\n\u001b[1;32m    782\u001b[0m \u001b[0;34m\u001b[0m\u001b[0m\n\u001b[0;32m--> 783\u001b[0;31m                 \u001b[0mlc_rgba\u001b[0m \u001b[0;34m=\u001b[0m \u001b[0mmcolors\u001b[0m\u001b[0;34m.\u001b[0m\u001b[0mto_rgba\u001b[0m\u001b[0;34m(\u001b[0m\u001b[0mself\u001b[0m\u001b[0;34m.\u001b[0m\u001b[0m_color\u001b[0m\u001b[0;34m,\u001b[0m \u001b[0mself\u001b[0m\u001b[0;34m.\u001b[0m\u001b[0m_alpha\u001b[0m\u001b[0;34m)\u001b[0m\u001b[0;34m\u001b[0m\u001b[0;34m\u001b[0m\u001b[0m\n\u001b[0m\u001b[1;32m    784\u001b[0m                 \u001b[0mgc\u001b[0m\u001b[0;34m.\u001b[0m\u001b[0mset_foreground\u001b[0m\u001b[0;34m(\u001b[0m\u001b[0mlc_rgba\u001b[0m\u001b[0;34m,\u001b[0m \u001b[0misRGBA\u001b[0m\u001b[0;34m=\u001b[0m\u001b[0;32mTrue\u001b[0m\u001b[0;34m)\u001b[0m\u001b[0;34m\u001b[0m\u001b[0;34m\u001b[0m\u001b[0m\n\u001b[1;32m    785\u001b[0m \u001b[0;34m\u001b[0m\u001b[0m\n",
      "\u001b[0;32m/opt/local/Library/Frameworks/Python.framework/Versions/3.8/lib/python3.8/site-packages/matplotlib/colors.py\u001b[0m in \u001b[0;36mto_rgba\u001b[0;34m(c, alpha)\u001b[0m\n\u001b[1;32m    183\u001b[0m         \u001b[0mrgba\u001b[0m \u001b[0;34m=\u001b[0m \u001b[0;32mNone\u001b[0m\u001b[0;34m\u001b[0m\u001b[0;34m\u001b[0m\u001b[0m\n\u001b[1;32m    184\u001b[0m     \u001b[0;32mif\u001b[0m \u001b[0mrgba\u001b[0m \u001b[0;32mis\u001b[0m \u001b[0;32mNone\u001b[0m\u001b[0;34m:\u001b[0m  \u001b[0;31m# Suppress exception chaining of cache lookup failure.\u001b[0m\u001b[0;34m\u001b[0m\u001b[0;34m\u001b[0m\u001b[0m\n\u001b[0;32m--> 185\u001b[0;31m         \u001b[0mrgba\u001b[0m \u001b[0;34m=\u001b[0m \u001b[0m_to_rgba_no_colorcycle\u001b[0m\u001b[0;34m(\u001b[0m\u001b[0mc\u001b[0m\u001b[0;34m,\u001b[0m \u001b[0malpha\u001b[0m\u001b[0;34m)\u001b[0m\u001b[0;34m\u001b[0m\u001b[0;34m\u001b[0m\u001b[0m\n\u001b[0m\u001b[1;32m    186\u001b[0m         \u001b[0;32mtry\u001b[0m\u001b[0;34m:\u001b[0m\u001b[0;34m\u001b[0m\u001b[0;34m\u001b[0m\u001b[0m\n\u001b[1;32m    187\u001b[0m             \u001b[0m_colors_full_map\u001b[0m\u001b[0;34m.\u001b[0m\u001b[0mcache\u001b[0m\u001b[0;34m[\u001b[0m\u001b[0mc\u001b[0m\u001b[0;34m,\u001b[0m \u001b[0malpha\u001b[0m\u001b[0;34m]\u001b[0m \u001b[0;34m=\u001b[0m \u001b[0mrgba\u001b[0m\u001b[0;34m\u001b[0m\u001b[0;34m\u001b[0m\u001b[0m\n",
      "\u001b[0;32m/opt/local/Library/Frameworks/Python.framework/Versions/3.8/lib/python3.8/site-packages/matplotlib/colors.py\u001b[0m in \u001b[0;36m_to_rgba_no_colorcycle\u001b[0;34m(c, alpha)\u001b[0m\n\u001b[1;32m    266\u001b[0m         \u001b[0;31m# float)` and `np.array(...).astype(float)` all convert \"0.5\" to 0.5.\u001b[0m\u001b[0;34m\u001b[0m\u001b[0;34m\u001b[0m\u001b[0;34m\u001b[0m\u001b[0m\n\u001b[1;32m    267\u001b[0m         \u001b[0;31m# Test dimensionality to reject single floats.\u001b[0m\u001b[0;34m\u001b[0m\u001b[0;34m\u001b[0m\u001b[0;34m\u001b[0m\u001b[0m\n\u001b[0;32m--> 268\u001b[0;31m         \u001b[0;32mraise\u001b[0m \u001b[0mValueError\u001b[0m\u001b[0;34m(\u001b[0m\u001b[0;34mf\"Invalid RGBA argument: {orig_c!r}\"\u001b[0m\u001b[0;34m)\u001b[0m\u001b[0;34m\u001b[0m\u001b[0;34m\u001b[0m\u001b[0m\n\u001b[0m\u001b[1;32m    269\u001b[0m     \u001b[0;31m# Return a tuple to prevent the cached value from being modified.\u001b[0m\u001b[0;34m\u001b[0m\u001b[0;34m\u001b[0m\u001b[0;34m\u001b[0m\u001b[0m\n\u001b[1;32m    270\u001b[0m     \u001b[0mc\u001b[0m \u001b[0;34m=\u001b[0m \u001b[0mtuple\u001b[0m\u001b[0;34m(\u001b[0m\u001b[0mc\u001b[0m\u001b[0;34m.\u001b[0m\u001b[0mastype\u001b[0m\u001b[0;34m(\u001b[0m\u001b[0mfloat\u001b[0m\u001b[0;34m)\u001b[0m\u001b[0;34m)\u001b[0m\u001b[0;34m\u001b[0m\u001b[0;34m\u001b[0m\u001b[0m\n",
      "\u001b[0;31mValueError\u001b[0m: Invalid RGBA argument: ['red', 'white']"
     ]
    },
    {
     "data": {
      "text/plain": [
       "<Figure size 432x288 with 1 Axes>"
      ]
     },
     "metadata": {
      "needs_background": "light"
     },
     "output_type": "display_data"
    }
   ],
   "source": [
    "p=sy.plot(smooth_break_fn.subs({x:x_1-rx}).subs(tmpsub),\n",
    "          gmeq.varphi_model_rampflatmu_eqn.rhs.subs(tmpsub), \n",
    "          (rx,0,1), show=False);\n",
    "p[0].line_color = ['red','white']\n",
    "p.show()"
   ]
  },
  {
   "cell_type": "code",
   "execution_count": 29,
   "metadata": {
    "hidden": true
   },
   "outputs": [
    {
     "data": {
      "image/png": "[encoded data removed]",
      "text/latex": [
       "$\\displaystyle \\varphi{\\left(\\mathbf{r} \\right)} = - 30 {r}^x + 0.3 \\log{\\left(3.72007597602084 \\cdot 10^{-44} e^{100.0 {r}^x} + 1 \\right)} + 31$"
      ],
      "text/plain": [
       "                                          ⎛                      100.0⋅{r}__x \n",
       "\\varphi(\\mathbf{r}) = -30⋅{r}__x + 0.3⋅log⎝3.72007597602084e-44⋅ℯ             \n",
       "\n",
       "   ⎞     \n",
       "+ 1⎠ + 31"
      ]
     },
     "execution_count": 29,
     "metadata": {},
     "output_type": "execute_result"
    }
   ],
   "source": [
    "gmeq.varphi_model_rampflat_eqn.subs(tmpsub)"
   ]
  },
  {
   "cell_type": "code",
   "execution_count": 30,
   "metadata": {
    "hidden": true
   },
   "outputs": [
    {
     "data": {
      "image/png": "[encoded data removed]",
      "text/plain": [
       "<Figure size 432x288 with 1 Axes>"
      ]
     },
     "metadata": {
      "image/png": {
       "height": 279,
       "width": 422
      },
      "needs_background": "light"
     },
     "output_type": "display_data"
    }
   ],
   "source": [
    "sy.plot(gmeq.varphi_model_rampflat_eqn.rhs.subs(tmpsub), (rx,0,1));"
   ]
  },
  {
   "cell_type": "code",
   "execution_count": 31,
   "metadata": {
    "hidden": true
   },
   "outputs": [
    {
     "data": {
      "image/png": "[encoded data removed]",
      "text/latex": [
       "$\\displaystyle \\left[ \\varphi{\\left(\\mathbf{r} \\right)} = \\varphi_{0} \\left(L_\\mathrm{c} + \\varepsilon - {r}^x\\right)^{2 \\mu}, \\  \\varphi{\\left(\\mathbf{r} \\right)} = L_\\mathrm{c}^{- 2 \\mu} \\varphi_{0} \\left(L_\\mathrm{c} - \\chi \\left(L_\\mathrm{c} - x_{h}\\right) + \\chi \\left(L_\\mathrm{c} + x_{\\sigma} \\log{\\left(e^{\\frac{- x_{h} + {r}^x}{x_{\\sigma}}} + 1 \\right)} - {r}^x\\right)\\right)^{2 \\mu}\\right]$"
      ],
      "text/plain": [
       "⎡                                                                             \n",
       "⎢                                                                             \n",
       "⎢                                                                             \n",
       "⎢                                                                    2⋅\\mu    \n",
       "⎣\\varphi(\\mathbf{r}) = \\varphi₀⋅(L_\\mathrm{c} + \\varepsilon - {r}__x)     , \\v\n",
       "\n",
       "                                                                              \n",
       "                                                ⎛                             \n",
       "                                                ⎜                             \n",
       "                                -2⋅\\mu          ⎜                             \n",
       "arphi(\\mathbf{r}) = L_\\mathrm{c}      ⋅\\varphi₀⋅⎝L_\\mathrm{c} - \\chi⋅(L_\\mathr\n",
       "\n",
       "                                                                              \n",
       "                  ⎛                             ⎛ -xₕ + {r}__x    ⎞         ⎞⎞\n",
       "                  ⎜                             ⎜ ────────────    ⎟         ⎟⎟\n",
       "                  ⎜                             ⎜  x_{\\sigma}     ⎟         ⎟⎟\n",
       "m{c} - xₕ) + \\chi⋅⎝L_\\mathrm{c} + x_{\\sigma}⋅log⎝ℯ             + 1⎠ - {r}__x⎠⎠\n",
       "\n",
       "2⋅\\mu⎤\n",
       "     ⎥\n",
       "     ⎥\n",
       "     ⎥\n",
       "     ⎦"
      ]
     },
     "execution_count": 31,
     "metadata": {},
     "output_type": "execute_result"
    }
   ],
   "source": [
    "eqns(['varphi_model_ramp_eqn','varphi_model_rampflatmu_eqn'])"
   ]
  },
  {
   "cell_type": "code",
   "execution_count": 32,
   "metadata": {
    "hidden": true
   },
   "outputs": [
    {
     "data": {
      "image/png": "[encoded data removed]",
      "text/plain": [
       "<Figure size 432x288 with 1 Axes>"
      ]
     },
     "metadata": {
      "image/png": {
       "height": 280,
       "width": 422
      },
      "needs_background": "light"
     },
     "output_type": "display_data"
    }
   ],
   "source": [
    "p = sy.plot(gmeq.varphi_model_ramp_eqn.rhs\n",
    "            .subs({varphi_0:1, varepsilon:1, x_1:1, mu:Rational(1,2)}),\n",
    " gmeq.varphi_model_ramp_eqn.rhs.subs({varphi_0:1, varepsilon:1, x_1:1, mu:Rational(1,2)}), \n",
    "        (rx,0,1), show=False);\n",
    "p[0].line_color = 'red'\n",
    "p.show()"
   ]
  },
  {
   "cell_type": "code",
   "execution_count": 33,
   "metadata": {
    "hidden": true,
    "scrolled": true
   },
   "outputs": [
    {
     "data": {
      "image/png": "[encoded data removed]",
      "text/latex": [
       "$\\displaystyle \\left( \\varphi{\\left(\\mathbf{r} \\right)} = \\varphi_{0} \\left(L_\\mathrm{c} + \\varepsilon - {r}^x\\right)^{2 \\mu}, \\  \\varphi{\\left(\\mathbf{r} \\right)} = \\frac{\\varphi_{0} \\left(L_\\mathrm{c} + \\chi \\left(L_\\mathrm{c} - {r}^x\\right)\\right)}{L_\\mathrm{c}}\\right)$"
      ],
      "text/plain": [
       "⎛                                                                    2⋅\\mu    \n",
       "⎜\\varphi(\\mathbf{r}) = \\varphi₀⋅(L_\\mathrm{c} + \\varepsilon - {r}__x)     , \\v\n",
       "⎝                                                                             \n",
       "\n",
       "                    \\varphi₀⋅(L_\\mathrm{c} + \\chi⋅(L_\\mathrm{c} - {r}__x))⎞\n",
       "arphi(\\mathbf{r}) = ──────────────────────────────────────────────────────⎟\n",
       "                                         L_\\mathrm{c}                     ⎠"
      ]
     },
     "execution_count": 33,
     "metadata": {},
     "output_type": "execute_result"
    }
   ],
   "source": [
    "gmeq.varphi_model_ramp_eqn.subs({x_sigma:0}), \\\n",
    "    simplify(gmeq.varphi_model_rampflat_eqn.subs({x_sigma:0}))"
   ]
  },
  {
   "cell_type": "code",
   "execution_count": 34,
   "metadata": {
    "hidden": true
   },
   "outputs": [
    {
     "data": {
      "image/png": "[encoded data removed]",
      "text/latex": [
       "$\\displaystyle \\left[ \\varphi{\\left(\\mathbf{r} \\right)} = \\varphi_{0} \\left(L_\\mathrm{c} + \\varepsilon - {r}^x\\right)^{2 \\mu}\\right]$"
      ],
      "text/plain": [
       "⎡                                                                    2⋅\\mu⎤\n",
       "⎣\\varphi(\\mathbf{r}) = \\varphi₀⋅(L_\\mathrm{c} + \\varepsilon - {r}__x)     ⎦"
      ]
     },
     "execution_count": 34,
     "metadata": {},
     "output_type": "execute_result"
    }
   ],
   "source": [
    "eqns(['varphi_rx_eqn'])"
   ]
  },
  {
   "cell_type": "markdown",
   "metadata": {
    "heading_collapsed": true,
    "hidden": true
   },
   "source": [
    "### $\\varphi$ related eqns"
   ]
  },
  {
   "cell_type": "code",
   "execution_count": 35,
   "metadata": {
    "hidden": true
   },
   "outputs": [],
   "source": [
    "gmeq.define_varphi_related_eqns()"
   ]
  },
  {
   "cell_type": "code",
   "execution_count": 36,
   "metadata": {
    "hidden": true
   },
   "outputs": [
    {
     "data": {
      "image/png": "[encoded data removed]",
      "text/latex": [
       "$\\displaystyle \\left[ p = \\frac{\\left|{\\sin{\\left(\\beta \\right)}}\\right|^{- \\eta}}{\\varphi{\\left(\\mathbf{r} \\right)}}, \\  \\sqrt{p_{x}^{2} + p_{z}^{2}} = \\frac{\\left(\\frac{p_{x}}{\\sqrt{p_{x}^{2} + p_{z}^{2}}}\\right)^{- \\eta}}{\\varphi{\\left(\\mathbf{r} \\right)}}\\right]$"
      ],
      "text/plain": [
       "⎡                                                            -\\eta⎤\n",
       "⎢                                           ⎛       pₓ      ⎞     ⎥\n",
       "⎢                                           ⎜───────────────⎟     ⎥\n",
       "⎢                                           ⎜   ____________⎟     ⎥\n",
       "⎢                 -\\eta      ____________   ⎜  ╱   2      2 ⎟     ⎥\n",
       "⎢     │sin(\\beta)│          ╱   2      2    ⎝╲╱  pₓ  + p_z  ⎠     ⎥\n",
       "⎢p = ───────────────────, ╲╱  pₓ  + p_z   = ──────────────────────⎥\n",
       "⎣    \\varphi(\\mathbf{r})                     \\varphi(\\mathbf{r})  ⎦"
      ]
     },
     "execution_count": 36,
     "metadata": {},
     "output_type": "execute_result"
    }
   ],
   "source": [
    "eqns(['p_varphi_beta_eqn', 'p_varphi_pxpz_eqn'])"
   ]
  },
  {
   "cell_type": "code",
   "execution_count": 37,
   "metadata": {
    "hidden": true
   },
   "outputs": [
    {
     "data": {
      "image/png": "[encoded data removed]",
      "text/latex": [
       "$\\displaystyle \\left[ \\sqrt{p_{x}^{2} + p_{z}^{2}} = \\frac{p_{x}^{- \\eta} \\left(p_{x}^{2} + p_{z}^{2}\\right)^{\\frac{\\eta}{2}} \\left(L_\\mathrm{c} + \\varepsilon - {r}^x\\right)^{- 2 \\mu}}{\\varphi_{0}}, \\  \\sqrt{p_{x}^{2} + \\frac{p_{x}^{2}}{\\tan^{2}{\\left(\\beta \\right)}}} = \\frac{p_{x}^{- \\eta} \\left(p_{x}^{2} + \\frac{p_{x}^{2}}{\\tan^{2}{\\left(\\beta \\right)}}\\right)^{\\frac{\\eta}{2}} \\left(L_\\mathrm{c} + \\varepsilon - {r}^x\\right)^{- 2 \\mu}}{\\varphi_{0}}\\right]$"
      ],
      "text/plain": [
       "⎡                                                                             \n",
       "⎢                                                                             \n",
       "⎢                                                                             \n",
       "⎢                                      \\eta                                   \n",
       "⎢                                      ────                                   \n",
       "⎢                                       2                                     \n",
       "⎢   ____________     -\\eta ⎛  2      2⎞                                       \n",
       "⎢  ╱   2      2    pₓ     ⋅⎝pₓ  + p_z ⎠    ⋅(L_\\mathrm{c} + \\varepsilon - {r}_\n",
       "⎢╲╱  pₓ  + p_z   = ───────────────────────────────────────────────────────────\n",
       "⎢                                                \\varphi₀                     \n",
       "⎣                                                                             \n",
       "\n",
       "                                                                  \\eta        \n",
       "                                                                  ────        \n",
       "                                                                   2          \n",
       "                                               ⎛            2    ⎞            \n",
       "                                         -\\eta ⎜  2       pₓ     ⎟            \n",
       "                 ___________________   pₓ     ⋅⎜pₓ  + ───────────⎟    ⋅(L_\\mat\n",
       "   -2⋅\\mu       ╱             2                ⎜         2       ⎟            \n",
       "_x)            ╱    2       pₓ                 ⎝      tan (\\beta)⎠            \n",
       "─────────,    ╱   pₓ  + ───────────  = ───────────────────────────────────────\n",
       "             ╱             2                                             \\varp\n",
       "           ╲╱           tan (\\beta)                                           \n",
       "\n",
       "                                    ⎤\n",
       "                                    ⎥\n",
       "                                    ⎥\n",
       "                                    ⎥\n",
       "                              -2⋅\\mu⎥\n",
       "hrm{c} + \\varepsilon - {r}__x)      ⎥\n",
       "                                    ⎥\n",
       "                                    ⎥\n",
       "────────────────────────────────────⎥\n",
       "hi₀                                 ⎥\n",
       "                                    ⎦"
      ]
     },
     "execution_count": 37,
     "metadata": {},
     "output_type": "execute_result"
    }
   ],
   "source": [
    "eqns(['p_rx_pxpz_eqn', 'p_rx_tanbeta_eqn'])"
   ]
  },
  {
   "cell_type": "code",
   "execution_count": 38,
   "metadata": {
    "hidden": true
   },
   "outputs": [
    {
     "data": {
      "image/png": "[encoded data removed]",
      "text/latex": [
       "$\\displaystyle \\left[ p_{x} = \\frac{p_{x}^{- \\eta} \\left(p_{x}^{2} + \\frac{p_{x}^{2}}{\\tan^{2}{\\left(\\beta \\right)}}\\right)^{\\frac{\\eta}{2}} \\left(L_\\mathrm{c} + \\varepsilon - {r}^x\\right)^{- 2 \\mu} \\sin{\\left(\\beta \\right)}}{\\varphi_{0}}, \\  p_{z} = - \\frac{p_{x}^{- \\eta} \\left(p_{x}^{2} + \\frac{p_{x}^{2}}{\\tan^{2}{\\left(\\beta \\right)}}\\right)^{\\frac{\\eta}{2}} \\left(L_\\mathrm{c} + \\varepsilon - {r}^x\\right)^{- 2 \\mu} \\cos{\\left(\\beta \\right)}}{\\varphi_{0}}\\right]$"
      ],
      "text/plain": [
       "⎡                                \\eta                                         \n",
       "⎢                                ────                                         \n",
       "⎢                                 2                                           \n",
       "⎢             ⎛            2    ⎞                                             \n",
       "⎢       -\\eta ⎜  2       pₓ     ⎟                                          -2⋅\n",
       "⎢     pₓ     ⋅⎜pₓ  + ───────────⎟    ⋅(L_\\mathrm{c} + \\varepsilon - {r}__x)   \n",
       "⎢             ⎜         2       ⎟                                             \n",
       "⎢             ⎝      tan (\\beta)⎠                                             \n",
       "⎢pₓ = ────────────────────────────────────────────────────────────────────────\n",
       "⎣                                            \\varphi₀                         \n",
       "\n",
       "                                                  \\eta                        \n",
       "                                                  ────                        \n",
       "                                                   2                          \n",
       "                               ⎛            2    ⎞                            \n",
       "\\mu                      -\\eta ⎜  2       pₓ     ⎟                            \n",
       "   ⋅sin(\\beta)        -pₓ     ⋅⎜pₓ  + ───────────⎟    ⋅(L_\\mathrm{c} + \\vareps\n",
       "                               ⎜         2       ⎟                            \n",
       "                               ⎝      tan (\\beta)⎠                            \n",
       "──────────────, p_z = ────────────────────────────────────────────────────────\n",
       "                                                              \\varphi₀        \n",
       "\n",
       "                                ⎤\n",
       "                                ⎥\n",
       "                                ⎥\n",
       "                                ⎥\n",
       "              -2⋅\\mu            ⎥\n",
       "ilon - {r}__x)      ⋅cos(\\beta) ⎥\n",
       "                                ⎥\n",
       "                                ⎥\n",
       "────────────────────────────────⎥\n",
       "                                ⎦"
      ]
     },
     "execution_count": 38,
     "metadata": {},
     "output_type": "execute_result"
    }
   ],
   "source": [
    "eqns(['px_beta_eqn', 'pz_beta_eqn'])"
   ]
  },
  {
   "cell_type": "code",
   "execution_count": 39,
   "metadata": {
    "hidden": true
   },
   "outputs": [
    {
     "data": {
      "image/png": "[encoded data removed]",
      "text/latex": [
       "$\\displaystyle \\left[ \\xi^{\\downarrow} = \\frac{p_{z}}{p_{x}^{2} + p_{z}^{2}}\\right]$"
      ],
      "text/plain": [
       "⎡                       p_z    ⎤\n",
       "⎢\\xi__{\\downarrow} = ──────────⎥\n",
       "⎢                      2      2⎥\n",
       "⎣                    pₓ  + p_z ⎦"
      ]
     },
     "execution_count": 39,
     "metadata": {},
     "output_type": "execute_result"
    }
   ],
   "source": [
    "eqns(['xiv_pxpz_eqn'])"
   ]
  },
  {
   "cell_type": "code",
   "execution_count": 40,
   "metadata": {
    "hidden": true
   },
   "outputs": [
    {
     "data": {
      "image/png": "[encoded data removed]",
      "text/latex": [
       "$\\displaystyle \\left[ p_{x} = \\frac{\\sin{\\left(\\beta \\right)} \\left|{\\sin{\\left(\\beta \\right)}}\\right|^{- \\eta}}{\\varphi{\\left(\\mathbf{r} \\right)}}, \\  p_{z} = - \\frac{\\cos{\\left(\\beta \\right)} \\left|{\\sin{\\left(\\beta \\right)}}\\right|^{- \\eta}}{\\varphi{\\left(\\mathbf{r} \\right)}}\\right]$"
      ],
      "text/plain": [
       "⎡                            -\\eta                                -\\eta ⎤\n",
       "⎢     sin(\\beta)⋅│sin(\\beta)│             -cos(\\beta)⋅│sin(\\beta)│      ⎥\n",
       "⎢pₓ = ────────────────────────────, p_z = ──────────────────────────────⎥\n",
       "⎣         \\varphi(\\mathbf{r})                  \\varphi(\\mathbf{r})      ⎦"
      ]
     },
     "execution_count": 40,
     "metadata": {},
     "output_type": "execute_result"
    }
   ],
   "source": [
    "eqns(['px_varphi_beta_eqn', 'pz_varphi_beta_eqn'])"
   ]
  },
  {
   "cell_type": "code",
   "execution_count": 41,
   "metadata": {
    "hidden": true,
    "scrolled": true
   },
   "outputs": [
    {
     "data": {
      "image/png": "[encoded data removed]",
      "text/latex": [
       "$\\displaystyle \\left[ p_{x} = \\frac{\\left(L_\\mathrm{c} + \\varepsilon - {r}^x\\right)^{- 2 \\mu} \\sin{\\left(\\beta \\right)} \\left|{\\sin{\\left(\\beta \\right)}}\\right|^{- \\eta}}{\\varphi_{0}}, \\  p_{z} = - \\frac{\\left(L_\\mathrm{c} + \\varepsilon - {r}^x\\right)^{- 2 \\mu} \\cos{\\left(\\beta \\right)} \\left|{\\sin{\\left(\\beta \\right)}}\\right|^{- \\eta}}{\\varphi_{0}}\\right]$"
      ],
      "text/plain": [
       "⎡                                          -2⋅\\mu                        -\\eta\n",
       "⎢     (L_\\mathrm{c} + \\varepsilon - {r}__x)      ⋅sin(\\beta)⋅│sin(\\beta)│     \n",
       "⎢pₓ = ────────────────────────────────────────────────────────────────────────\n",
       "⎣                                     \\varphi₀                                \n",
       "\n",
       "                                              -2⋅\\mu                        -\\\n",
       "        -(L_\\mathrm{c} + \\varepsilon - {r}__x)      ⋅cos(\\beta)⋅│sin(\\beta)│  \n",
       ", p_z = ──────────────────────────────────────────────────────────────────────\n",
       "                                         \\varphi₀                             \n",
       "\n",
       "eta ⎤\n",
       "    ⎥\n",
       "────⎥\n",
       "    ⎦"
      ]
     },
     "execution_count": 41,
     "metadata": {},
     "output_type": "execute_result"
    }
   ],
   "source": [
    "eqns(['px_varphi_rx_beta_eqn','pz_varphi_rx_beta_eqn'])"
   ]
  },
  {
   "cell_type": "markdown",
   "metadata": {
    "heading_collapsed": true,
    "hidden": true
   },
   "source": [
    "### $p_x$ polynomial"
   ]
  },
  {
   "cell_type": "markdown",
   "metadata": {
    "hidden": true
   },
   "source": [
    "This polynomial in $p_x$, or in $\\tan\\beta=-p_x/p_z=-p_x\\xi^{\\downarrow 0}$, is a polynomial in gradient $dz/dx$, which means (if it can be solved for) it can be integrated to give $z(x)$."
   ]
  },
  {
   "cell_type": "code",
   "execution_count": 42,
   "metadata": {
    "hidden": true
   },
   "outputs": [
    {
     "data": {
      "image/png": "[encoded data removed]",
      "text/latex": [
       "$\\displaystyle \\xi^{\\downarrow} = - \\frac{p_{x}^{\\eta} \\left(p_{x}^{2} + p_{z}^{2}\\right)^{\\frac{1}{2} - \\frac{\\eta}{2}} \\varphi{\\left(\\mathbf{r} \\right)}}{p_{z}}$"
      ],
      "text/plain": [
       "                                        1   \\eta                     \n",
       "                                        ─ - ────                     \n",
       "                                        2    2                       \n",
       "                       \\eta ⎛  2      2⎞                             \n",
       "                    -pₓ    ⋅⎝pₓ  + p_z ⎠        ⋅\\varphi(\\mathbf{r}) \n",
       "\\xi__{\\downarrow} = ─────────────────────────────────────────────────\n",
       "                                           p_z                       "
      ]
     },
     "execution_count": 42,
     "metadata": {},
     "output_type": "execute_result"
    }
   ],
   "source": [
    "gmeq.xiv_varphi_pxpz_eqn"
   ]
  },
  {
   "cell_type": "code",
   "execution_count": 43,
   "metadata": {
    "hidden": true
   },
   "outputs": [
    {
     "data": {
      "image/png": "[encoded data removed]",
      "text/latex": [
       "$\\displaystyle \\left(\\xi^{\\downarrow}\\right)^{2} \\left(p_{x}^{2} p_{x}^{2 \\eta} \\left(p_{x}^{2} + \\frac{1}{\\left(\\xi^{\\downarrow}\\right)^{2}}\\right)^{- \\eta} \\varphi^{2}{\\left(\\mathbf{r} \\right)} - 1 + \\frac{p_{x}^{2 \\eta} \\left(p_{x}^{2} + \\frac{1}{\\left(\\xi^{\\downarrow}\\right)^{2}}\\right)^{- \\eta} \\varphi^{2}{\\left(\\mathbf{r} \\right)}}{\\left(\\xi^{\\downarrow}\\right)^{2}}\\right) \\left(p_{x}^{2} p_{x}^{2 \\eta} \\left(p_{x}^{2} + \\frac{1}{\\left(\\xi^{\\downarrow}\\right)^{2}}\\right)^{- \\eta} \\varphi^{2}{\\left(\\mathbf{r} \\right)} + 1 + \\frac{p_{x}^{2 \\eta} \\left(p_{x}^{2} + \\frac{1}{\\left(\\xi^{\\downarrow}\\right)^{2}}\\right)^{- \\eta} \\varphi^{2}{\\left(\\mathbf{r} \\right)}}{\\left(\\xi^{\\downarrow}\\right)^{2}}\\right) = 0$"
      ],
      "text/plain": [
       "                   ⎛                                                          \n",
       "                   ⎜                                                          \n",
       "                   ⎜                                                          \n",
       "                   ⎜                                       -\\eta              \n",
       "                 2 ⎜  2   2⋅\\eta ⎛  2           1         ⎞             2     \n",
       "\\xi__{\\downarrow} ⋅⎜pₓ ⋅pₓ      ⋅⎜pₓ  + ──────────────────⎟     ⋅\\varphi (\\mat\n",
       "                   ⎜             ⎜                       2⎟                   \n",
       "                   ⎝             ⎝      \\xi__{\\downarrow} ⎠                   \n",
       "\n",
       "                                                 -\\eta                     ⎞ ⎛\n",
       "                2⋅\\eta ⎛  2           1         ⎞             2            ⎟ ⎜\n",
       "              pₓ      ⋅⎜pₓ  + ──────────────────⎟     ⋅\\varphi (\\mathbf{r})⎟ ⎜\n",
       "                       ⎜                       2⎟                          ⎟ ⎜\n",
       "                       ⎝      \\xi__{\\downarrow} ⎠                          ⎟ ⎜\n",
       "hbf{r}) - 1 + ─────────────────────────────────────────────────────────────⎟⋅⎜\n",
       "                                                     2                     ⎟ ⎜\n",
       "                                    \\xi__{\\downarrow}                      ⎠ ⎝\n",
       "\n",
       "                                                                              \n",
       "                                                                          2⋅\\e\n",
       "                                                                        pₓ    \n",
       "                                       -\\eta                                  \n",
       "  2   2⋅\\eta ⎛  2           1         ⎞             2                         \n",
       "pₓ ⋅pₓ      ⋅⎜pₓ  + ──────────────────⎟     ⋅\\varphi (\\mathbf{r}) + 1 + ──────\n",
       "             ⎜                       2⎟                                       \n",
       "             ⎝      \\xi__{\\downarrow} ⎠                                       \n",
       "\n",
       "                             -\\eta                     ⎞    \n",
       "ta ⎛  2           1         ⎞             2            ⎟    \n",
       "  ⋅⎜pₓ  + ──────────────────⎟     ⋅\\varphi (\\mathbf{r})⎟    \n",
       "   ⎜                       2⎟                          ⎟    \n",
       "   ⎝      \\xi__{\\downarrow} ⎠                          ⎟    \n",
       "───────────────────────────────────────────────────────⎟ = 0\n",
       "                                 2                     ⎟    \n",
       "                \\xi__{\\downarrow}                      ⎠    "
      ]
     },
     "execution_count": 43,
     "metadata": {},
     "output_type": "execute_result"
    }
   ],
   "source": [
    "gmeq.px_xiv_varphi_eqn"
   ]
  },
  {
   "cell_type": "code",
   "execution_count": 44,
   "metadata": {
    "hidden": true
   },
   "outputs": [
    {
     "data": {
      "image/png": "[encoded data removed]",
      "text/latex": [
       "$\\displaystyle \\left(\\tan^{2}{\\left(\\beta \\right)} + 1\\right)^{- 2 \\eta} \\left(p_{z}^{4} \\varphi^{4}{\\left(\\mathbf{r} \\right)} \\tan^{4 \\eta}{\\left(\\beta \\right)} + 2 p_{z}^{4} \\varphi^{4}{\\left(\\mathbf{r} \\right)} \\tan^{4 \\eta + 2}{\\left(\\beta \\right)} + p_{z}^{4} \\varphi^{4}{\\left(\\mathbf{r} \\right)} \\tan^{4 \\eta + 4}{\\left(\\beta \\right)} - \\left(\\tan^{2}{\\left(\\beta \\right)} + 1\\right)^{2 \\eta}\\right) = 0$"
      ],
      "text/plain": [
       "                 -2⋅\\eta ⎛                                                    \n",
       "⎛   2           ⎞        ⎜   4        4                4⋅\\eta               4 \n",
       "⎝tan (\\beta) + 1⎠       ⋅⎝p_z ⋅\\varphi (\\mathbf{r})⋅tan      (\\beta) + 2⋅p_z ⋅\n",
       "\n",
       "                                                                              \n",
       "       4                4⋅\\eta + 2             4        4                4⋅\\et\n",
       "\\varphi (\\mathbf{r})⋅tan          (\\beta) + p_z ⋅\\varphi (\\mathbf{r})⋅tan     \n",
       "\n",
       "                                2⋅\\eta⎞    \n",
       "a + 4          ⎛   2           ⎞      ⎟    \n",
       "     (\\beta) - ⎝tan (\\beta) + 1⎠      ⎠ = 0"
      ]
     },
     "execution_count": 44,
     "metadata": {},
     "output_type": "execute_result"
    }
   ],
   "source": [
    "p0 = Eq( (simplify(expand(gmeq.px_xiv_varphi_eqn.lhs/xiv**2).subs({px:-pz*tan(beta), xiv:-1/pz})) \n",
    "    .subs({cos(beta):1/sqrt(1+tan(beta)**2)})), 0)\n",
    "p0"
   ]
  },
  {
   "cell_type": "code",
   "execution_count": 45,
   "metadata": {
    "hidden": true
   },
   "outputs": [
    {
     "data": {
      "image/png": "[encoded data removed]",
      "text/latex": [
       "$\\displaystyle p_{z}^{4} \\varphi^{4}{\\left(\\mathbf{r} \\right)} \\tan^{6}{\\left(\\beta \\right)} - \\tan^{2}{\\left(\\beta \\right)} - 1 = 0$"
      ],
      "text/plain": [
       "   4        4                6             2               \n",
       "p_z ⋅\\varphi (\\mathbf{r})⋅tan (\\beta) - tan (\\beta) - 1 = 0"
      ]
     },
     "execution_count": 45,
     "metadata": {},
     "output_type": "execute_result"
    }
   ],
   "source": [
    "p_eta1p5 = Eq( numer(factor(p0.lhs.subs({eta:gmeq.eta}))), 0)\n",
    "p_eta1p5"
   ]
  },
  {
   "cell_type": "code",
   "execution_count": 46,
   "metadata": {
    "hidden": true
   },
   "outputs": [],
   "source": [
    "gmeq.define_px_poly_eqn(eta_choice=gmeq.eta)"
   ]
  },
  {
   "cell_type": "code",
   "execution_count": 47,
   "metadata": {
    "hidden": true
   },
   "outputs": [
    {
     "data": {
      "image/png": "[encoded data removed]",
      "text/latex": [
       "$\\displaystyle \\operatorname{Poly}{\\left( \\left(\\xi^{\\downarrow}\\right)^{4} \\varphi^{4}{\\left(\\mathbf{r} \\right)} p_{x}^{6} -  \\left(\\xi^{\\downarrow}\\right)^{4} p_{x}^{2} -  \\left(\\xi^{\\downarrow}\\right)^{2}, p_{x}, domain=\\mathbb{Z}\\left[\\varphi{\\left(\\mathbf{r} \\right)}, \\xi^{\\downarrow}\\right] \\right)}$"
      ],
      "text/plain": [
       "Poly(\\xi^{\\downarrow}**4*\\varphi(\\mathbf{r})**4*p_x**6 - \\xi^{\\downarrow}**4*p\n",
       "_x**2 - \\xi^{\\downarrow}**2, p_x, domain='ZZ[\\varphi(\\mathbf{r}),\\xi^{\\downarr\n",
       "ow}]')"
      ]
     },
     "execution_count": 47,
     "metadata": {},
     "output_type": "execute_result"
    }
   ],
   "source": [
    "gmeq.poly_px_xiv_varphi_eqn"
   ]
  },
  {
   "cell_type": "code",
   "execution_count": 48,
   "metadata": {
    "hidden": true
   },
   "outputs": [
    {
     "data": {
      "image/png": "[encoded data removed]",
      "text/latex": [
       "$\\displaystyle \\left[ \\varphi_{0}^{4} \\left(\\xi^{\\downarrow}\\right)^{4} p_{x}^{6} \\left(L_\\mathrm{c} + \\varepsilon - {r}^x\\right)^{8 \\mu} - \\left(\\xi^{\\downarrow}\\right)^{4} p_{x}^{2} - \\left(\\xi^{\\downarrow}\\right)^{2} = 0\\right]$"
      ],
      "text/plain": [
       "⎡        4                  4   6                                      8⋅\\mu  \n",
       "⎣\\varphi₀ ⋅\\xi__{\\downarrow} ⋅pₓ ⋅(L_\\mathrm{c} + \\varepsilon - {r}__x)      -\n",
       "\n",
       "                  4   2                    2    ⎤\n",
       " \\xi__{\\downarrow} ⋅pₓ  - \\xi__{\\downarrow}  = 0⎦"
      ]
     },
     "execution_count": 48,
     "metadata": {},
     "output_type": "execute_result"
    }
   ],
   "source": [
    "eqns(['poly_px_xiv_eqn'])"
   ]
  },
  {
   "cell_type": "code",
   "execution_count": 49,
   "metadata": {
    "hidden": true
   },
   "outputs": [],
   "source": [
    "# gmeq.define_px_poly_eqn(eta_choice=Rational(3,2))"
   ]
  },
  {
   "cell_type": "code",
   "execution_count": 50,
   "metadata": {
    "hidden": true
   },
   "outputs": [],
   "source": [
    "# gmeq.poly_px_xiv_varphi_eqn"
   ]
  },
  {
   "cell_type": "code",
   "execution_count": 51,
   "metadata": {
    "hidden": true
   },
   "outputs": [],
   "source": [
    "# eqns(['poly_px_xiv0_eqn'])"
   ]
  },
  {
   "cell_type": "markdown",
   "metadata": {
    "heading_collapsed": true
   },
   "source": [
    "## Fundamental function & Hamiltonian"
   ]
  },
  {
   "cell_type": "code",
   "execution_count": 52,
   "metadata": {
    "hidden": true
   },
   "outputs": [],
   "source": [
    "gmeq.define_Fstar_eqns()\n",
    "gmeq.define_H_eqns()"
   ]
  },
  {
   "cell_type": "code",
   "execution_count": 53,
   "metadata": {
    "hidden": true
   },
   "outputs": [
    {
     "data": {
      "image/png": "[encoded data removed]",
      "text/latex": [
       "$\\displaystyle \\left[ \\frac{\\sqrt{p_{x}^{2} + p_{z}^{2}}}{\\mathcal{F}_*} = \\frac{p_{x}^{- \\eta} \\left(p_{x}^{2} + p_{z}^{2}\\right)^{\\frac{\\eta}{2}}}{\\varphi{\\left(\\mathbf{r} \\right)}}, \\  \\mathcal{F}_* = p_{x}^{\\eta} \\left(p_{x}^{2} + p_{z}^{2}\\right)^{\\frac{1}{2} - \\frac{\\eta}{2}} \\varphi{\\left(\\mathbf{r} \\right)}\\right]$"
      ],
      "text/plain": [
       "⎡                                      \\eta                                   \n",
       "⎢                                      ────                                   \n",
       "⎢   ____________                        2                                     \n",
       "⎢  ╱   2      2      -\\eta ⎛  2      2⎞                                       \n",
       "⎢╲╱  pₓ  + p_z     pₓ     ⋅⎝pₓ  + p_z ⎠                        \\eta ⎛  2      \n",
       "⎢─────────────── = ────────────────────────, \\mathcal{F}_* = pₓ    ⋅⎝pₓ  + p_z\n",
       "⎣ \\mathcal{F}_*      \\varphi(\\mathbf{r})                                      \n",
       "\n",
       "                              ⎤\n",
       "  1   \\eta                    ⎥\n",
       "  ─ - ────                    ⎥\n",
       "  2    2                      ⎥\n",
       "2⎞                            ⎥\n",
       " ⎠        ⋅\\varphi(\\mathbf{r})⎥\n",
       "                              ⎦"
      ]
     },
     "execution_count": 53,
     "metadata": {},
     "output_type": "execute_result"
    }
   ],
   "source": [
    "eqns(['Okubo_Fstar_eqn', 'Fstar_eqn'])"
   ]
  },
  {
   "cell_type": "markdown",
   "metadata": {
    "hidden": true
   },
   "source": [
    "$\n",
    "    \\mathcal{H} := \\dfrac{\\varphi^2 p_x^{2\\eta}}{2\\left(p_x^2+p_z^2\\right)^{\\eta-1}}\n",
    "$"
   ]
  },
  {
   "cell_type": "code",
   "execution_count": 54,
   "metadata": {
    "hidden": true
   },
   "outputs": [
    {
     "data": {
      "image/png": "[encoded data removed]",
      "text/latex": [
       "$\\displaystyle \\left[ \\mathcal{H} = \\frac{p_{x}^{2 \\eta} \\left(p_{x}^{2} + p_{z}^{2}\\right)^{1 - \\eta} \\varphi^{2}{\\left(\\mathbf{r} \\right)}}{2}, \\  \\mathcal{H} = \\frac{\\varphi_{0}^{2} p_{x}^{2 \\eta} \\left(p_{x}^{2} + p_{z}^{2}\\right)^{1 - \\eta} \\left(L_\\mathrm{c} + \\varepsilon - {r}^x\\right)^{4 \\mu}}{2}\\right]$"
      ],
      "text/plain": [
       "⎡                                   1 - \\eta                                  \n",
       "⎢                2⋅\\eta ⎛  2      2⎞                2                         \n",
       "⎢              pₓ      ⋅⎝pₓ  + p_z ⎠        ⋅\\varphi (\\mathbf{r})             \n",
       "⎢\\mathcal{H} = ──────────────────────────────────────────────────, \\mathcal{H}\n",
       "⎣                                      2                                      \n",
       "\n",
       "                                  1 - \\eta                                    \n",
       "           2   2⋅\\eta ⎛  2      2⎞                                            \n",
       "   \\varphi₀ ⋅pₓ      ⋅⎝pₓ  + p_z ⎠        ⋅(L_\\mathrm{c} + \\varepsilon - {r}__\n",
       " = ───────────────────────────────────────────────────────────────────────────\n",
       "                                           2                                  \n",
       "\n",
       "       ⎤\n",
       "  4⋅\\mu⎥\n",
       "x)     ⎥\n",
       "───────⎥\n",
       "       ⎦"
      ]
     },
     "execution_count": 54,
     "metadata": {},
     "output_type": "execute_result"
    }
   ],
   "source": [
    "eqns(['H_eqn', 'H_varphi_rx_eqn'])"
   ]
  },
  {
   "cell_type": "markdown",
   "metadata": {
    "heading_collapsed": true
   },
   "source": [
    "## Hamilton's equations"
   ]
  },
  {
   "cell_type": "markdown",
   "metadata": {
    "hidden": true
   },
   "source": [
    "ODE $\\dot{\\mathbf{r}}$ components"
   ]
  },
  {
   "cell_type": "code",
   "execution_count": 55,
   "metadata": {
    "hidden": true,
    "scrolled": false
   },
   "outputs": [],
   "source": [
    "gmeq.define_rdot_eqns()"
   ]
  },
  {
   "cell_type": "code",
   "execution_count": 56,
   "metadata": {
    "hidden": true
   },
   "outputs": [
    {
     "data": {
      "image/png": "[encoded data removed]",
      "text/latex": [
       "$\\displaystyle \\left[ v^{x} = v \\cos{\\left(\\alpha \\right)}, \\  v^{z} = v \\sin{\\left(\\alpha \\right)}\\right]$"
      ],
      "text/plain": [
       "[v__x = v⋅cos(\\alpha), v__z = v⋅sin(\\alpha)]"
      ]
     },
     "execution_count": 56,
     "metadata": {},
     "output_type": "execute_result"
    }
   ],
   "source": [
    "eqns(['rdotx_rdot_alpha_eqn', 'rdotz_rdot_alpha_eqn'])"
   ]
  },
  {
   "cell_type": "markdown",
   "metadata": {
    "hidden": true
   },
   "source": [
    "Derivation of $v^z$ gives zero if the Hamiltonian has no dependence on $p_z$, which happens if the angle function is $\\sin\\beta$ and if its exponent is $\\eta=1$. From this point on, such a model fails."
   ]
  },
  {
   "cell_type": "code",
   "execution_count": 57,
   "metadata": {
    "hidden": true
   },
   "outputs": [
    {
     "data": {
      "image/png": "[encoded data removed]",
      "text/latex": [
       "$\\displaystyle \\left( \\frac{\\partial}{\\partial p_{x}} \\mathcal{H} = \\frac{p_{x}^{2} p_{x}^{2 \\eta} \\left(p_{x}^{2} + p_{z}^{2}\\right)^{- \\eta} \\varphi^{2}{\\left(\\mathbf{r} \\right)}}{2} + \\frac{p_{x}^{2 \\eta} p_{z}^{2} \\left(p_{x}^{2} + p_{z}^{2}\\right)^{- \\eta} \\varphi^{2}{\\left(\\mathbf{r} \\right)}}{2}, \\  \\frac{\\partial}{\\partial p_{z}} \\mathcal{H} = \\frac{p_{x}^{2} p_{x}^{2 \\eta} \\left(p_{x}^{2} + p_{z}^{2}\\right)^{- \\eta} \\varphi^{2}{\\left(\\mathbf{r} \\right)}}{2} + \\frac{p_{x}^{2 \\eta} p_{z}^{2} \\left(p_{x}^{2} + p_{z}^{2}\\right)^{- \\eta} \\varphi^{2}{\\left(\\mathbf{r} \\right)}}{2}\\right)$"
      ],
      "text/plain": [
       "⎛   ⎛                                       -\\eta                             \n",
       "⎜   ⎜                2   2⋅\\eta ⎛  2      2⎞             2                 2⋅\\\n",
       "⎜ ∂ ⎜              pₓ ⋅pₓ      ⋅⎝pₓ  + p_z ⎠     ⋅\\varphi (\\mathbf{r})   pₓ   \n",
       "⎜───⎜\\mathcal{H} = ─────────────────────────────────────────────────── + ─────\n",
       "⎝∂pₓ⎝                                       2                                 \n",
       "\n",
       "                     -\\eta                     ⎞      ⎛                       \n",
       "eta    2 ⎛  2      2⎞             2            ⎟      ⎜                2   2⋅\\\n",
       "   ⋅p_z ⋅⎝pₓ  + p_z ⎠     ⋅\\varphi (\\mathbf{r})⎟   ∂  ⎜              pₓ ⋅pₓ   \n",
       "───────────────────────────────────────────────⎟, ────⎜\\mathcal{H} = ─────────\n",
       "                    2                          ⎠  ∂p_z⎝                       \n",
       "\n",
       "                -\\eta                                                  -\\eta  \n",
       "eta ⎛  2      2⎞             2                 2⋅\\eta    2 ⎛  2      2⎞       \n",
       "   ⋅⎝pₓ  + p_z ⎠     ⋅\\varphi (\\mathbf{r})   pₓ      ⋅p_z ⋅⎝pₓ  + p_z ⎠     ⋅\\\n",
       "────────────────────────────────────────── + ─────────────────────────────────\n",
       "                2                                                     2       \n",
       "\n",
       "                   ⎞⎞\n",
       "      2            ⎟⎟\n",
       "varphi (\\mathbf{r})⎟⎟\n",
       "───────────────────⎟⎟\n",
       "                   ⎠⎠"
      ]
     },
     "execution_count": 57,
     "metadata": {},
     "output_type": "execute_result"
    }
   ],
   "source": [
    "factor( sy.diff(gmeq.H_eqn,px) ), factor( sy.diff(gmeq.H_eqn,pz) )"
   ]
  },
  {
   "cell_type": "code",
   "execution_count": 58,
   "metadata": {
    "hidden": true
   },
   "outputs": [
    {
     "data": {
      "image/png": "[encoded data removed]",
      "text/latex": [
       "$\\displaystyle \\left[ v^{x} = \\frac{p_{x}^{2 \\eta} \\left(p_{x}^{2} + p_{z}^{2}\\right)^{1 - \\eta} \\left(\\eta p_{z}^{2} + p_{x}^{2}\\right) \\varphi^{2}{\\left(\\mathbf{r} \\right)}}{p_{x} \\left(p_{x}^{2} + p_{z}^{2}\\right)}, \\  v^{z} = - \\frac{p_{x}^{2 \\eta} p_{z} \\left(\\eta - 1\\right) \\left(p_{x}^{2} + p_{z}^{2}\\right)^{1 - \\eta} \\varphi^{2}{\\left(\\mathbf{r} \\right)}}{p_{x}^{2} + p_{z}^{2}}\\right]$"
      ],
      "text/plain": [
       "⎡                            1 - \\eta                                         \n",
       "⎢         2⋅\\eta ⎛  2      2⎞         ⎛        2     2⎞        2              \n",
       "⎢       pₓ      ⋅⎝pₓ  + p_z ⎠        ⋅⎝\\eta⋅p_z  + pₓ ⎠⋅\\varphi (\\mathbf{r})  \n",
       "⎢v__x = ────────────────────────────────────────────────────────────────────, \n",
       "⎢                                    ⎛  2      2⎞                             \n",
       "⎣                                 pₓ⋅⎝pₓ  + p_z ⎠                             \n",
       "\n",
       "                                            1 - \\eta                      ⎤\n",
       "          2⋅\\eta                ⎛  2      2⎞                2             ⎥\n",
       "       -pₓ      ⋅p_z⋅(\\eta - 1)⋅⎝pₓ  + p_z ⎠        ⋅\\varphi (\\mathbf{r}) ⎥\n",
       "v__z = ───────────────────────────────────────────────────────────────────⎥\n",
       "                                      2      2                            ⎥\n",
       "                                    pₓ  + p_z                             ⎦"
      ]
     },
     "execution_count": 58,
     "metadata": {},
     "output_type": "execute_result"
    }
   ],
   "source": [
    "eqns(['rdotx_pxpz_eqn', 'rdotz_pxpz_eqn'])"
   ]
  },
  {
   "cell_type": "code",
   "execution_count": 59,
   "metadata": {
    "hidden": true
   },
   "outputs": [
    {
     "data": {
      "image/png": "[encoded data removed]",
      "text/latex": [
       "$\\displaystyle \\left[ \\frac{v^{z}}{v^{x}} = - \\frac{p_{x} p_{z} \\left(\\eta - 1\\right)}{\\eta p_{z}^{2} + p_{x}^{2}}, \\  \\frac{v^{z}}{v^{x}} = \\frac{\\left(\\eta - 1\\right) \\tan{\\left(\\beta \\right)}}{\\eta + \\tan^{2}{\\left(\\beta \\right)}}\\right]$"
      ],
      "text/plain": [
       "⎡v__z   -pₓ⋅p_z⋅(\\eta - 1)   v__z   (\\eta - 1)⋅tan(\\beta)⎤\n",
       "⎢──── = ───────────────────, ──── = ─────────────────────⎥\n",
       "⎢v__x             2     2    v__x               2        ⎥\n",
       "⎣         \\eta⋅p_z  + pₓ              \\eta + tan (\\beta) ⎦"
      ]
     },
     "execution_count": 59,
     "metadata": {},
     "output_type": "execute_result"
    }
   ],
   "source": [
    "eqns(['rdotz_on_rdotx_eqn', 'rdotz_on_rdotx_tanbeta_eqn'])"
   ]
  },
  {
   "cell_type": "code",
   "execution_count": 60,
   "metadata": {
    "hidden": true
   },
   "outputs": [
    {
     "data": {
      "image/png": "[encoded data removed]",
      "text/latex": [
       "$\\displaystyle \\left[ \\mathbf{v} = \\left[\\begin{matrix}\\frac{p_{x}^{2 \\eta} \\left(p_{x}^{2} + p_{z}^{2}\\right)^{1 - \\eta} \\left(\\eta p_{z}^{2} + p_{x}^{2}\\right) \\varphi^{2}{\\left(\\mathbf{r} \\right)}}{p_{x} \\left(p_{x}^{2} + p_{z}^{2}\\right)}\\\\- \\frac{p_{x}^{2 \\eta} p_{z} \\left(\\eta - 1\\right) \\left(p_{x}^{2} + p_{z}^{2}\\right)^{1 - \\eta} \\varphi^{2}{\\left(\\mathbf{r} \\right)}}{p_{x}^{2} + p_{z}^{2}}\\end{matrix}\\right], \\  p_{x} v^{x} + p_{z} v^{z} = 1\\right]$"
      ],
      "text/plain": [
       "⎡             ⎡                     1 - \\eta                                  \n",
       "⎢             ⎢  2⋅\\eta ⎛  2      2⎞         ⎛        2     2⎞        2       \n",
       "⎢             ⎢pₓ      ⋅⎝pₓ  + p_z ⎠        ⋅⎝\\eta⋅p_z  + pₓ ⎠⋅\\varphi (\\mathb\n",
       "⎢             ⎢───────────────────────────────────────────────────────────────\n",
       "⎢             ⎢                             ⎛  2      2⎞                      \n",
       "⎢             ⎢                          pₓ⋅⎝pₓ  + p_z ⎠                      \n",
       "⎢\\mathbf{v} = ⎢                                                               \n",
       "⎢             ⎢                                     1 - \\eta                  \n",
       "⎢             ⎢   2⋅\\eta                ⎛  2      2⎞                2         \n",
       "⎢             ⎢-pₓ      ⋅p_z⋅(\\eta - 1)⋅⎝pₓ  + p_z ⎠        ⋅\\varphi (\\mathbf{\n",
       "⎢             ⎢───────────────────────────────────────────────────────────────\n",
       "⎢             ⎢                               2      2                        \n",
       "⎣             ⎣                             pₓ  + p_z                         \n",
       "\n",
       "     ⎤                        ⎤\n",
       "     ⎥                        ⎥\n",
       "f{r})⎥                        ⎥\n",
       "─────⎥                        ⎥\n",
       "     ⎥                        ⎥\n",
       "     ⎥                        ⎥\n",
       "     ⎥, pₓ⋅v__x + p_z⋅v__z = 1⎥\n",
       "     ⎥                        ⎥\n",
       "     ⎥                        ⎥\n",
       "r})  ⎥                        ⎥\n",
       "──── ⎥                        ⎥\n",
       "     ⎥                        ⎥\n",
       "     ⎦                        ⎦"
      ]
     },
     "execution_count": 60,
     "metadata": {},
     "output_type": "execute_result"
    }
   ],
   "source": [
    "eqns(['rdot_vec_eqn', 'rdot_p_unity_eqn'])"
   ]
  },
  {
   "cell_type": "markdown",
   "metadata": {
    "hidden": true
   },
   "source": [
    "ODE $\\dot{\\mathbf{\\widetilde{p}}}$ components"
   ]
  },
  {
   "cell_type": "code",
   "execution_count": 61,
   "metadata": {
    "hidden": true
   },
   "outputs": [],
   "source": [
    "gmeq.define_pdot_eqns()"
   ]
  },
  {
   "cell_type": "code",
   "execution_count": 62,
   "metadata": {
    "hidden": true
   },
   "outputs": [
    {
     "data": {
      "image/png": "[encoded data removed]",
      "text/latex": [
       "$\\displaystyle \\left[ \\dot{p}_x = 2 \\mu \\varphi_{0}^{2} p_{x}^{2 \\eta} \\left(p_{x}^{2} + p_{z}^{2}\\right)^{1 - \\eta} \\left(L_\\mathrm{c} + \\varepsilon - {r}^x\\right)^{4 \\mu - 1}, \\  \\dot{p}_z = 0, \\  \\mathbf{\\dot{\\widetilde{p}}} = \\left[\\begin{matrix}2 \\mu \\varphi_{0}^{2} p_{x}^{2 \\eta} \\left(p_{x}^{2} + p_{z}^{2}\\right)^{1 - \\eta} \\left(L_\\mathrm{c} + \\varepsilon - {r}^x\\right)^{4 \\mu - 1} & 0\\end{matrix}\\right]\\right]$"
      ],
      "text/plain": [
       "⎡                                                1 - \\eta                     \n",
       "⎢                         2   2⋅\\eta ⎛  2      2⎞                             \n",
       "⎢\\dot{p}ₓ = 2⋅\\mu⋅\\varphi₀ ⋅pₓ      ⋅⎝pₓ  + p_z ⎠        ⋅(L_\\mathrm{c} + \\var\n",
       "⎣                                                                             \n",
       "\n",
       "                                                                              \n",
       "                 4⋅\\mu - 1                                                ⎡   \n",
       "epsilon - {r}__x)         , \\dot{p}_z = 0, \\mathbf{\\dot{\\widetilde{p}}} = ⎢   \n",
       "                                                                          ⎣2⋅\\\n",
       "\n",
       "                                                                              \n",
       "                                  1 - \\eta                                    \n",
       "           2   2⋅\\eta ⎛  2      2⎞                                            \n",
       "mu⋅\\varphi₀ ⋅pₓ      ⋅⎝pₓ  + p_z ⎠        ⋅(L_\\mathrm{c} + \\varepsilon - {r}__\n",
       "\n",
       "               ⎤\n",
       "              ⎤⎥\n",
       "  4⋅\\mu - 1   ⎥⎥\n",
       "x)           0⎦⎦"
      ]
     },
     "execution_count": 62,
     "metadata": {},
     "output_type": "execute_result"
    }
   ],
   "source": [
    "eqns(['pdotx_pxpz_eqn', 'pdotz_pxpz_eqn', 'pdot_covec_eqn'])"
   ]
  },
  {
   "cell_type": "markdown",
   "metadata": {
    "hidden": true
   },
   "source": [
    "Combined ODE components"
   ]
  },
  {
   "cell_type": "code",
   "execution_count": 63,
   "metadata": {
    "hidden": true
   },
   "outputs": [],
   "source": [
    "gmeq.define_Hamiltons_eqns()"
   ]
  },
  {
   "cell_type": "code",
   "execution_count": 64,
   "metadata": {
    "hidden": true
   },
   "outputs": [
    {
     "data": {
      "image/png": "[encoded data removed]",
      "text/latex": [
       "$\\displaystyle \\left[\\begin{matrix}\\frac{\\varphi_{0}^{2} p_{x}^{2 \\eta} \\left(p_{x}^{2} + p_{z}^{2}\\right)^{1 - \\eta} \\left(\\eta p_{z}^{2} + p_{x}^{2}\\right) \\left(L_\\mathrm{c} + \\varepsilon - {r}^x\\right)^{4 \\mu}}{p_{x} \\left(p_{x}^{2} + p_{z}^{2}\\right)}\\\\- \\frac{\\varphi_{0}^{2} p_{x}^{2 \\eta} p_{z} \\left(\\eta - 1\\right) \\left(p_{x}^{2} + p_{z}^{2}\\right)^{1 - \\eta} \\left(L_\\mathrm{c} + \\varepsilon - {r}^x\\right)^{4 \\mu}}{p_{x}^{2} + p_{z}^{2}}\\\\2 \\mu \\varphi_{0}^{2} p_{x}^{2 \\eta} \\left(p_{x}^{2} + p_{z}^{2}\\right)^{1 - \\eta} \\left(L_\\mathrm{c} + \\varepsilon - {r}^x\\right)^{4 \\mu - 1}\\\\0\\end{matrix}\\right]$"
      ],
      "text/plain": [
       "⎡                               1 - \\eta                                      \n",
       "⎢        2   2⋅\\eta ⎛  2      2⎞         ⎛        2     2⎞                    \n",
       "⎢\\varphi₀ ⋅pₓ      ⋅⎝pₓ  + p_z ⎠        ⋅⎝\\eta⋅p_z  + pₓ ⎠⋅(L_\\mathrm{c} + \\va\n",
       "⎢─────────────────────────────────────────────────────────────────────────────\n",
       "⎢                                             ⎛  2      2⎞                    \n",
       "⎢                                          pₓ⋅⎝pₓ  + p_z ⎠                    \n",
       "⎢                                                                             \n",
       "⎢                                               1 - \\eta                      \n",
       "⎢         2   2⋅\\eta                ⎛  2      2⎞                              \n",
       "⎢-\\varphi₀ ⋅pₓ      ⋅p_z⋅(\\eta - 1)⋅⎝pₓ  + p_z ⎠        ⋅(L_\\mathrm{c} + \\vare\n",
       "⎢─────────────────────────────────────────────────────────────────────────────\n",
       "⎢                                               2      2                      \n",
       "⎢                                             pₓ  + p_z                       \n",
       "⎢                                                                             \n",
       "⎢                                         1 - \\eta                            \n",
       "⎢                  2   2⋅\\eta ⎛  2      2⎞                                    \n",
       "⎢    2⋅\\mu⋅\\varphi₀ ⋅pₓ      ⋅⎝pₓ  + p_z ⎠        ⋅(L_\\mathrm{c} + \\varepsilon\n",
       "⎢                                                                             \n",
       "⎣                                                 0                           \n",
       "\n",
       "                       ⎤\n",
       "                  4⋅\\mu⎥\n",
       "repsilon - {r}__x)     ⎥\n",
       "───────────────────────⎥\n",
       "                       ⎥\n",
       "                       ⎥\n",
       "                       ⎥\n",
       "                       ⎥\n",
       "                4⋅\\mu  ⎥\n",
       "psilon - {r}__x)       ⎥\n",
       "────────────────────── ⎥\n",
       "                       ⎥\n",
       "                       ⎥\n",
       "                       ⎥\n",
       "                       ⎥\n",
       "          4⋅\\mu - 1    ⎥\n",
       " - {r}__x)             ⎥\n",
       "                       ⎥\n",
       "                       ⎦"
      ]
     },
     "execution_count": 64,
     "metadata": {},
     "output_type": "execute_result"
    }
   ],
   "source": [
    "gmeq.hamiltons_eqns #, gmeq.hamiltons_eqns.subs({zeta:gmeq.zeta})"
   ]
  },
  {
   "cell_type": "code",
   "execution_count": 65,
   "metadata": {
    "hidden": true
   },
   "outputs": [
    {
     "data": {
      "image/png": "[encoded data removed]",
      "text/latex": [
       "$\\displaystyle \\frac{\\varphi_{0}^{2} p_{x}^{2 \\eta} \\left(L_\\mathrm{c} - {r}^x\\right)^{4 \\mu} \\left(p_{x}^{2} + p_{z}^{2}\\right)^{1 - \\eta} \\left(\\eta p_{z}^{2} + p_{x}^{2}\\right)}{p_{x} \\left(p_{x}^{2} + p_{z}^{2}\\right)}$"
      ],
      "text/plain": [
       "                                                            1 - \\eta          \n",
       "        2   2⋅\\eta                        4⋅\\mu ⎛  2      2⎞         ⎛        \n",
       "\\varphi₀ ⋅pₓ      ⋅(L_\\mathrm{c} - {r}__x)     ⋅⎝pₓ  + p_z ⎠        ⋅⎝\\eta⋅p_z\n",
       "──────────────────────────────────────────────────────────────────────────────\n",
       "                                      ⎛  2      2⎞                            \n",
       "                                   pₓ⋅⎝pₓ  + p_z ⎠                            \n",
       "\n",
       "        \n",
       "2     2⎞\n",
       "  + pₓ ⎠\n",
       "────────\n",
       "        \n",
       "        "
      ]
     },
     "execution_count": 65,
     "metadata": {},
     "output_type": "execute_result"
    }
   ],
   "source": [
    "gmeq.hamiltons_eqns[0].subs({varepsilon:0})"
   ]
  },
  {
   "cell_type": "markdown",
   "metadata": {
    "heading_collapsed": true
   },
   "source": [
    "## Non-dimensionalization"
   ]
  },
  {
   "cell_type": "code",
   "execution_count": 66,
   "metadata": {
    "hidden": true
   },
   "outputs": [],
   "source": [
    "gmeq.nondimensionalize()"
   ]
  },
  {
   "cell_type": "code",
   "execution_count": 67,
   "metadata": {
    "hidden": true
   },
   "outputs": [
    {
     "data": {
      "image/png": "[encoded data removed]",
      "text/latex": [
       "$\\displaystyle \\left\\{ L_\\mathrm{c} : 10000, \\  \\beta_{0} : \\operatorname{asin}{\\left(\\frac{1}{100} \\right)}, \\  \\hat{\\varepsilon} : \\frac{1}{100}, \\  \\kappa_\\mathrm{h} : \\frac{3}{2}, \\  \\varepsilon : 100, \\  \\varphi_{0} : 2.641 \\cdot 10^{-5}, \\  \\xi^{\\downarrow{0}} : 30, \\  h_{0} : \\frac{1}{2}, \\  x_{h} : 1, \\  x_{\\sigma} : 0.01\\right\\}$"
      ],
      "text/plain": [
       "{L_\\mathrm{c}: 10000, \\beta₀: asin(1/100), \\hat{\\varepsilon}: 1/100, \\kappa_\\m\n",
       "athrm{h}: 3/2, \\varepsilon: 100, \\varphi₀: 2.641e-05, \\xi__{\\downarrow{0}}: 30\n",
       ", h₀: 1/2, xₕ: 1, x_{\\sigma}: 0.01}"
      ]
     },
     "execution_count": 67,
     "metadata": {},
     "output_type": "execute_result"
    }
   ],
   "source": [
    "sub.update({\n",
    "#     xiv_0: pr.model.xiv_0,\n",
    "#     varepsilon: pr.model.varepsilon,\n",
    "    beta_0: asin(Rational(1,100))\n",
    "})\n",
    "sub"
   ]
  },
  {
   "cell_type": "code",
   "execution_count": 68,
   "metadata": {
    "hidden": true
   },
   "outputs": [
    {
     "data": {
      "image/png": "[encoded data removed]",
      "text/latex": [
       "$\\displaystyle \\left( {r}^x = L_\\mathrm{c} \\hat{r}^x, \\  {r}^z = L_\\mathrm{c} \\hat{r}^z\\right)$"
      ],
      "text/plain": [
       "({r}__x = L_\\mathrm{c}⋅\\hat{r}__x, {r}__z = L_\\mathrm{c}⋅\\hat{r}__z)"
      ]
     },
     "execution_count": 68,
     "metadata": {},
     "output_type": "execute_result"
    }
   ],
   "source": [
    "gmeq.rx_rxhat_eqn, gmeq.rz_rzhat_eqn"
   ]
  },
  {
   "cell_type": "code",
   "execution_count": 69,
   "metadata": {
    "hidden": true
   },
   "outputs": [
    {
     "data": {
      "image/png": "[encoded data removed]",
      "text/latex": [
       "$\\displaystyle \\left( \\varepsilon = L_\\mathrm{c} \\hat{\\varepsilon}, \\  \\hat{\\varepsilon} = \\frac{\\varepsilon}{L_\\mathrm{c}}\\right)$"
      ],
      "text/plain": [
       "⎛                                                                  \\varepsilon\n",
       "⎜\\varepsilon = L_\\mathrm{c}⋅\\hat{\\varepsilon}, \\hat{\\varepsilon} = ───────────\n",
       "⎝                                                                  L_\\mathrm{c\n",
       "\n",
       " ⎞\n",
       "─⎟\n",
       "}⎠"
      ]
     },
     "execution_count": 69,
     "metadata": {},
     "output_type": "execute_result"
    }
   ],
   "source": [
    "gmeq.varepsilon_varepsilonhat_eqn, gmeq.varepsilonhat_varepsilon_eqn"
   ]
  },
  {
   "cell_type": "code",
   "execution_count": 70,
   "metadata": {
    "hidden": true
   },
   "outputs": [
    {
     "data": {
      "image/png": "[encoded data removed]",
      "text/latex": [
       "$\\displaystyle \\left( \\varphi{\\left(\\mathbf{r} \\right)} = \\varphi_{0} \\left(L_\\mathrm{c} + \\varepsilon - {r}^x\\right)^{2 \\mu}, \\  \\varphi{\\left(\\hat{r}^x \\right)} = L_\\mathrm{c}^{2 \\mu} \\varphi_{0} \\left(\\hat{\\varepsilon} - \\hat{r}^x + 1\\right)^{2 \\mu}\\right)$"
      ],
      "text/plain": [
       "⎛                                                                    2⋅\\mu    \n",
       "⎝\\varphi(\\mathbf{r}) = \\varphi₀⋅(L_\\mathrm{c} + \\varepsilon - {r}__x)     , \\v\n",
       "\n",
       "                                2⋅\\mu                                         \n",
       "arphi(\\hat{r}__x) = L_\\mathrm{c}     ⋅\\varphi₀⋅(\\hat{\\varepsilon} - \\hat{r}__x\n",
       "\n",
       "     2⋅\\mu⎞\n",
       " + 1)     ⎠"
      ]
     },
     "execution_count": 70,
     "metadata": {},
     "output_type": "execute_result"
    }
   ],
   "source": [
    "gmeq.varphi_rx_eqn, gmeq.varphi_rxhat_eqn"
   ]
  },
  {
   "cell_type": "code",
   "execution_count": 71,
   "metadata": {
    "hidden": true
   },
   "outputs": [
    {
     "data": {
      "image/png": "[encoded data removed]",
      "text/latex": [
       "$\\displaystyle \\xi^{\\perp} = L_\\mathrm{c}^{2 \\mu} \\varphi_{0} \\left(\\hat{\\varepsilon} - \\hat{r}^x + 1\\right)^{2 \\mu} \\left|{\\sin{\\left(\\beta \\right)}}\\right|^{\\eta}$"
      ],
      "text/plain": [
       "                           2⋅\\mu                                              \n",
       "\\xi__{\\perp} = L_\\mathrm{c}     ⋅\\varphi₀⋅(\\hat{\\varepsilon} - \\hat{r}__x + 1)\n",
       "\n",
       "2⋅\\mu             \\eta\n",
       "     ⋅│sin(\\beta)│    "
      ]
     },
     "execution_count": 71,
     "metadata": {},
     "output_type": "execute_result"
    }
   ],
   "source": [
    "gmeq.xi_rxhat_eqn"
   ]
  },
  {
   "cell_type": "code",
   "execution_count": 72,
   "metadata": {
    "hidden": true
   },
   "outputs": [
    {
     "data": {
      "image/png": "[encoded data removed]",
      "text/latex": [
       "$\\displaystyle \\left( \\xi^{\\rightarrow{0}} = \\varphi_{0} \\left(L_\\mathrm{c} \\left(\\hat{\\varepsilon} + 1\\right)\\right)^{2 \\mu} \\sin^{\\eta - 1}{\\left(\\beta_{0} \\right)}, \\  \\xi^{\\downarrow{0}} = \\frac{\\varphi_{0} \\left(L_\\mathrm{c} \\left(\\hat{\\varepsilon} + 1\\right)\\right)^{2 \\mu} \\sin^{\\eta}{\\left(\\beta_{0} \\right)}}{\\cos{\\left(\\beta_{0} \\right)}}\\right)$"
      ],
      "text/plain": [
       "⎛                                                                             \n",
       "⎜                                                                       2⋅\\mu \n",
       "⎜\\xi__{\\rightarrow{0}} = \\varphi₀⋅(L_\\mathrm{c}⋅(\\hat{\\varepsilon} + 1))     ⋅\n",
       "⎝                                                                             \n",
       "\n",
       "                                                                              \n",
       "   \\eta - 1                                 \\varphi₀⋅(L_\\mathrm{c}⋅(\\hat{\\vare\n",
       "sin        (\\beta₀), \\xi__{\\downarrow{0}} = ──────────────────────────────────\n",
       "                                                                        cos(\\b\n",
       "\n",
       "             2⋅\\mu    \\eta        ⎞\n",
       "psilon} + 1))     ⋅sin    (\\beta₀)⎟\n",
       "──────────────────────────────────⎟\n",
       "eta₀)                             ⎠"
      ]
     },
     "execution_count": 72,
     "metadata": {},
     "output_type": "execute_result"
    }
   ],
   "source": [
    "gmeq.xih0_eqn, gmeq.xiv0_eqn"
   ]
  },
  {
   "cell_type": "code",
   "execution_count": 73,
   "metadata": {
    "hidden": true
   },
   "outputs": [
    {
     "data": {
      "image/png": "[encoded data removed]",
      "text/latex": [
       "$\\displaystyle \\left\\{ L_\\mathrm{c} : 10000, \\  \\beta_{0} : \\operatorname{asin}{\\left(\\frac{1}{100} \\right)}, \\  \\hat{\\varepsilon} : \\frac{1}{100}, \\  \\kappa_\\mathrm{h} : \\frac{3}{2}, \\  \\varepsilon : 100, \\  \\varphi_{0} : 2.641 \\cdot 10^{-5}, \\  \\xi^{\\downarrow{0}} : 30, \\  h_{0} : \\frac{1}{2}, \\  x_{h} : 1, \\  x_{\\sigma} : 0.01\\right\\}$"
      ],
      "text/plain": [
       "{L_\\mathrm{c}: 10000, \\beta₀: asin(1/100), \\hat{\\varepsilon}: 1/100, \\kappa_\\m\n",
       "athrm{h}: 3/2, \\varepsilon: 100, \\varphi₀: 2.641e-05, \\xi__{\\downarrow{0}}: 30\n",
       ", h₀: 1/2, xₕ: 1, x_{\\sigma}: 0.01}"
      ]
     },
     "execution_count": 73,
     "metadata": {},
     "output_type": "execute_result"
    }
   ],
   "source": [
    "sub"
   ]
  },
  {
   "cell_type": "code",
   "execution_count": 74,
   "metadata": {
    "hidden": true
   },
   "outputs": [
    {
     "data": {
      "image/png": "[encoded data removed]",
      "text/latex": [
       "$\\displaystyle \\xi^{\\downarrow{0}} = \\frac{\\varphi_{0} \\left(L_\\mathrm{c} \\left(\\hat{\\varepsilon} + 1\\right)\\right)^{2 \\mu} \\sin^{\\eta}{\\left(\\beta_{0} \\right)}}{\\cos{\\left(\\beta_{0} \\right)}}$"
      ],
      "text/plain": [
       "                                                                      2⋅\\mu   \n",
       "                       \\varphi₀⋅(L_\\mathrm{c}⋅(\\hat{\\varepsilon} + 1))     ⋅si\n",
       "\\xi__{\\downarrow{0}} = ───────────────────────────────────────────────────────\n",
       "                                                   cos(\\beta₀)                \n",
       "\n",
       " \\eta        \n",
       "n    (\\beta₀)\n",
       "─────────────\n",
       "             "
      ]
     },
     "execution_count": 74,
     "metadata": {},
     "output_type": "execute_result"
    }
   ],
   "source": [
    "gmeq.xiv0_eqn"
   ]
  },
  {
   "cell_type": "code",
   "execution_count": 75,
   "metadata": {
    "hidden": true
   },
   "outputs": [
    {
     "data": {
      "image/png": "[encoded data removed]",
      "text/latex": [
       "$\\displaystyle \\xi^{\\rightarrow{0}} = \\frac{\\xi^{\\downarrow{0}}}{\\tan{\\left(\\beta_{0} \\right)}}$"
      ],
      "text/plain": [
       "                        \\xi__{\\downarrow{0}}\n",
       "\\xi__{\\rightarrow{0}} = ────────────────────\n",
       "                            tan(\\beta₀)     "
      ]
     },
     "execution_count": 75,
     "metadata": {},
     "output_type": "execute_result"
    }
   ],
   "source": [
    "gmeq.xih0_xiv0_eqn"
   ]
  },
  {
   "cell_type": "code",
   "execution_count": 76,
   "metadata": {
    "hidden": true
   },
   "outputs": [
    {
     "data": {
      "image/png": "[encoded data removed]",
      "text/latex": [
       "$\\displaystyle \\left( t^{\\rightarrow{0}} = \\frac{L_\\mathrm{c}}{\\xi^{\\rightarrow{0}}}, \\  t^{\\downarrow{0}} = \\frac{L_\\mathrm{c}}{\\xi^{\\downarrow{0}}}\\right)$"
      ],
      "text/plain": [
       "⎛                           L_\\mathrm{c}                               L_\\math\n",
       "⎜t__{\\rightarrow{0}} = ─────────────────────, t__{\\downarrow{0}} = ───────────\n",
       "⎝                      \\xi__{\\rightarrow{0}}                       \\xi__{\\down\n",
       "\n",
       "rm{c}    ⎞\n",
       "─────────⎟\n",
       "arrow{0}}⎠"
      ]
     },
     "execution_count": 76,
     "metadata": {},
     "output_type": "execute_result"
    }
   ],
   "source": [
    "gmeq.th0_xih0_eqn, gmeq.tv0_xiv0_eqn"
   ]
  },
  {
   "cell_type": "code",
   "execution_count": 77,
   "metadata": {
    "hidden": true
   },
   "outputs": [
    {
     "data": {
      "image/png": "[encoded data removed]",
      "text/latex": [
       "$\\displaystyle \\left( t^{\\rightarrow{0}} = \\frac{L_\\mathrm{c} \\left(L_\\mathrm{c} \\hat{\\varepsilon} + L_\\mathrm{c}\\right)^{- 2 \\mu} \\sin^{1 - \\eta}{\\left(\\beta_{0} \\right)}}{\\varphi_{0}}, \\  t^{\\downarrow{0}} = \\frac{L_\\mathrm{c} \\left(L_\\mathrm{c} \\hat{\\varepsilon} + L_\\mathrm{c}\\right)^{- 2 \\mu} \\sin^{- \\eta}{\\left(\\beta_{0} \\right)} \\cos{\\left(\\beta_{0} \\right)}}{\\varphi_{0}}\\right)$"
      ],
      "text/plain": [
       "⎛                                                                             \n",
       "⎜                      L_\\mathrm{c}⋅(L_\\mathrm{c}⋅\\hat{\\varepsilon} + L_\\mathr\n",
       "⎜t__{\\rightarrow{0}} = ───────────────────────────────────────────────────────\n",
       "⎝                                                             \\varphi₀        \n",
       "\n",
       "     -2⋅\\mu    1 - \\eta                                                       \n",
       "m{c})      ⋅sin        (\\beta₀)                       L_\\mathrm{c}⋅(L_\\mathrm{\n",
       "───────────────────────────────, t__{\\downarrow{0}} = ────────────────────────\n",
       "                                                                              \n",
       "\n",
       "                                    -2⋅\\mu    -\\eta                    ⎞\n",
       "c}⋅\\hat{\\varepsilon} + L_\\mathrm{c})      ⋅sin     (\\beta₀)⋅cos(\\beta₀)⎟\n",
       "───────────────────────────────────────────────────────────────────────⎟\n",
       "                    \\varphi₀                                           ⎠"
      ]
     },
     "execution_count": 77,
     "metadata": {},
     "output_type": "execute_result"
    }
   ],
   "source": [
    "gmeq.th0_beta0_eqn, gmeq.tv0_beta0_eqn"
   ]
  },
  {
   "cell_type": "code",
   "execution_count": 78,
   "metadata": {
    "hidden": true
   },
   "outputs": [
    {
     "data": {
      "image/png": "[encoded data removed]",
      "text/latex": [
       "$\\displaystyle t^{\\downarrow{0}} = \\frac{t^{\\rightarrow{0}}}{\\tan{\\left(\\beta_{0} \\right)}}$"
      ],
      "text/plain": [
       "                     t__{\\rightarrow{0}}\n",
       "t__{\\downarrow{0}} = ───────────────────\n",
       "                         tan(\\beta₀)    "
      ]
     },
     "execution_count": 78,
     "metadata": {},
     "output_type": "execute_result"
    }
   ],
   "source": [
    "Eq(tv_0, th_0*simplify((tv_0/th_0)\n",
    "                         .subs(e2d(gmeq.tv0_beta0_eqn))\n",
    "                         .subs(e2d(gmeq.th0_beta0_eqn))) )"
   ]
  },
  {
   "cell_type": "code",
   "execution_count": 79,
   "metadata": {
    "hidden": true
   },
   "outputs": [
    {
     "data": {
      "image/png": "[encoded data removed]",
      "text/latex": [
       "$\\displaystyle \\left( t = \\hat{t} t^{\\rightarrow{0}}, \\  p_{x} = \\frac{\\hat{p}_x}{\\xi^{\\rightarrow{0}}}, \\  p_{z} = \\frac{\\hat{p}_z}{\\xi^{\\rightarrow{0}}}\\right)$"
      ],
      "text/plain": [
       "⎛                                             \\hat{p}ₓ                    \\hat\n",
       "⎜t = \\hat{t}⋅t__{\\rightarrow{0}}, pₓ = ─────────────────────, p_z = ──────────\n",
       "⎝                                      \\xi__{\\rightarrow{0}}        \\xi__{\\rig\n",
       "\n",
       "{p}_z      ⎞\n",
       "───────────⎟\n",
       "htarrow{0}}⎠"
      ]
     },
     "execution_count": 79,
     "metadata": {},
     "output_type": "execute_result"
    }
   ],
   "source": [
    "gmeq.t_that_eqn, gmeq.px_pxhat_eqn, gmeq.pz_pzhat_eqn"
   ]
  },
  {
   "cell_type": "code",
   "execution_count": 80,
   "metadata": {
    "hidden": true
   },
   "outputs": [
    {
     "data": {
      "image/png": "[encoded data removed]",
      "text/latex": [
       "$\\displaystyle \\mathcal{H} = \\frac{L_\\mathrm{c}^{4 \\mu} \\hat{p}_x^{2 \\eta} \\varphi_{0}^{2} \\left(\\hat{p}_x^{2} + \\hat{p}_z^{2}\\right)^{1 - \\eta} \\left(\\hat{\\varepsilon} - \\hat{r}^x + 1\\right)^{4 \\mu}}{2 \\left(\\xi^{\\rightarrow{0}}\\right)^{2}}$"
      ],
      "text/plain": [
       "                                                                              \n",
       "                          4⋅\\mu         2⋅\\eta         2 ⎛        2           \n",
       "              L_\\mathrm{c}     ⋅\\hat{p}ₓ      ⋅\\varphi₀ ⋅⎝\\hat{p}ₓ  + \\hat{p}_\n",
       "\\mathcal{H} = ────────────────────────────────────────────────────────────────\n",
       "                                                                              \n",
       "                                                             2⋅\\xi__{\\rightarr\n",
       "\n",
       "   1 - \\eta                                          \n",
       " 2⎞                                             4⋅\\mu\n",
       "z ⎠        ⋅(\\hat{\\varepsilon} - \\hat{r}__x + 1)     \n",
       "─────────────────────────────────────────────────────\n",
       "      2                                              \n",
       "ow{0}}                                               "
      ]
     },
     "execution_count": 80,
     "metadata": {},
     "output_type": "execute_result"
    }
   ],
   "source": [
    "gmeq.H_varphi_rxhat_eqn"
   ]
  },
  {
   "cell_type": "markdown",
   "metadata": {
    "hidden": true
   },
   "source": [
    "<!-- The geomorphic Hamiltonian parameterized using dimensionless variables is\n",
    "\n",
    "$\n",
    "    \\mathcal{H} = \\dfrac{\\mathsf{Ci}^2 \\left( 1-\\hat{r}^x \\right)^{4\\mu} \\hat{p}_x^{2\\eta}}\n",
    "              {2  \\left( \\hat{p}_x^2+\\hat{p}_z^2 \\right)^{\\eta-1}}\n",
    "$\n",
    "\n",
    "where $\\mathsf{Ci}$ is the channel incision number defined as\n",
    "\n",
    "$\n",
    "    \\mathsf{Ci} := \\dfrac{L_{\\mathrm{c}}^{2\\mu} \\varphi_0}{\\xi^{\\rightarrow_0}}\n",
    "                 = \\left( \\sin\\beta_0 \\right)^{1-\\eta}\n",
    "$ -->"
   ]
  },
  {
   "cell_type": "markdown",
   "metadata": {
    "hidden": true
   },
   "source": [
    "The geomorphic Hamiltonian parameterized using dimensionless variables is\n",
    "\n",
    "<!-- $\n",
    "    \\mathcal{H} \n",
    "%         = \\dfrac{\\mathsf{Ci}^{2(1-\\eta)} \\left( 1-\\hat{r}^x \\right)^{4\\mu} \\hat{p}_x^{2\\eta}}\n",
    "%                 {2  \\left( \\hat{p}_x^2+\\hat{p}_z^2 \\right)^{\\eta-1}}\n",
    "        = \\dfrac{ \\left( 1-\\hat{r}^x \\right)^{4\\mu} \\hat{p}_x^{2\\eta}}\n",
    "                {2 \\left( \\mathsf{Ci}^2 \\! \\left( \\hat{p}_x^2+\\hat{p}_z^2 \\right) \\right)^{\\eta-1}}\n",
    "$\n",
    "\n",
    "where $\\mathsf{Ci}$ is the channel incision number defined as\n",
    "\n",
    "$\n",
    "    \\mathsf{Ci} := \\left(\n",
    "                    \\dfrac{L_{\\mathrm{c}}^{2\\mu} \\varphi_0}{\\xi^{\\rightarrow_0}}\n",
    "                    \\right)^{\\tfrac{1}{1-\\eta}}\n",
    "                 = \\sin\\beta_0 \n",
    "$\n",
    "\n",
    "or more simply\n",
    " -->\n",
    "$\n",
    "    \\mathcal{H} \n",
    "%         = \\dfrac{\\mathsf{Ci}^{2(1-\\eta)} \\left( 1-\\hat{r}^x \\right)^{4\\mu} \\hat{p}_x^{2\\eta}}\n",
    "%                 {2  \\left( \\hat{p}_x^2+\\hat{p}_z^2 \\right)^{\\eta-1}}\n",
    "        = \\dfrac{ \\hat{p}_x^{2\\eta} \\left( 1-\\hat{r}^x \\right)^{4\\mu} }\n",
    "                {2 \\left(  \\! \\left( \\hat{p}_x^2+\\hat{p}_z^2 \\right) \\sin^2\\!\\mathsf{Ci} \\right)^{\\eta-1}}\n",
    "$\n",
    "\n",
    "where the channel incision number (angle) $\\mathsf{Ci}$ is defined as\n",
    "\n",
    "$\n",
    "    \\mathsf{Ci} := \\arcsin\\,\\left(\\left(\n",
    "                    \\dfrac{L_{\\mathrm{c}}^{2\\mu} \\varphi_0}{\\xi^{\\rightarrow_0}}\n",
    "                    \\right)^{\\tfrac{1}{1-\\eta}}\\right)\n",
    "    \\qquad\\text{where}\\quad\n",
    "    \\mathsf{Ci} \\approx \\beta_0 \\quad\\text{if}\\quad \\hat{\\varepsilon} \\ll 1\n",
    "$"
   ]
  },
  {
   "cell_type": "code",
   "execution_count": 81,
   "metadata": {
    "hidden": true
   },
   "outputs": [
    {
     "data": {
      "image/png": "[encoded data removed]",
      "text/latex": [
       "$\\displaystyle 2 \\hat{p}_x^{- 2 \\eta} \\left(\\hat{p}_x^{2} + \\hat{p}_z^{2}\\right)^{\\eta - 1} \\left(\\hat{\\varepsilon} - \\hat{r}^x + 1\\right)^{- 4 \\mu}$"
      ],
      "text/plain": [
       "                                          \\eta - 1                            \n",
       "          -2⋅\\eta ⎛        2            2⎞                                    \n",
       "2⋅\\hat{p}ₓ       ⋅⎝\\hat{p}ₓ  + \\hat{p}_z ⎠        ⋅(\\hat{\\varepsilon} - \\hat{r\n",
       "\n",
       "               \n",
       "         -4⋅\\mu\n",
       "}__x + 1)      "
      ]
     },
     "execution_count": 81,
     "metadata": {},
     "output_type": "execute_result"
    }
   ],
   "source": [
    "gmeq.H_split"
   ]
  },
  {
   "cell_type": "code",
   "execution_count": 82,
   "metadata": {
    "hidden": true
   },
   "outputs": [
    {
     "data": {
      "image/png": "[encoded data removed]",
      "text/latex": [
       "$\\displaystyle \\mathcal{H} = \\frac{\\hat{p}_x^{2 \\eta} \\left(\\hat{p}_x^{2} + \\hat{p}_z^{2}\\right)^{1 - \\eta} \\left(\\hat{\\varepsilon} - \\hat{r}^x + 1\\right)^{4 \\mu} \\sin^{2 - 2 \\eta}{\\left(\\mathsf{Ci} \\right)}}{2}$"
      ],
      "text/plain": [
       "                                                     1 - \\eta                 \n",
       "                      2⋅\\eta ⎛        2            2⎞                         \n",
       "              \\hat{p}ₓ      ⋅⎝\\hat{p}ₓ  + \\hat{p}_z ⎠        ⋅(\\hat{\\varepsilo\n",
       "\\mathcal{H} = ────────────────────────────────────────────────────────────────\n",
       "                                                                       2      \n",
       "\n",
       "                                                    \n",
       "                    4⋅\\mu    2 - 2⋅\\eta             \n",
       "n} - \\hat{r}__x + 1)     ⋅sin          (\\mathsf{Ci})\n",
       "────────────────────────────────────────────────────\n",
       "                                                    "
      ]
     },
     "execution_count": 82,
     "metadata": {},
     "output_type": "execute_result"
    }
   ],
   "source": [
    "gmeq.H_Ci_eqn"
   ]
  },
  {
   "cell_type": "code",
   "execution_count": 83,
   "metadata": {
    "hidden": true
   },
   "outputs": [
    {
     "data": {
      "image/png": "[encoded data removed]",
      "text/latex": [
       "$\\displaystyle \\left( \\mathsf{Ci} = \\operatorname{asin}{\\left(\\left(\\frac{L_\\mathrm{c}^{2 \\mu} \\varphi_{0}}{\\xi^{\\rightarrow{0}}}\\right)^{\\frac{1}{1 - \\eta}} \\right)}, \\  \\mathsf{Ci} = \\operatorname{asin}{\\left(\\left(\\hat{\\varepsilon} + 1\\right)^{\\frac{2 \\mu}{\\eta - 1}} \\sin{\\left(\\beta_{0} \\right)} \\right)}, \\  \\sin{\\left(\\mathsf{Ci} \\right)} = \\sin{\\left(\\beta_{0} \\right)}\\right)$"
      ],
      "text/plain": [
       "⎛                  ⎛                               1    ⎞                     \n",
       "⎜                  ⎜                            ────────⎟                     \n",
       "⎜                  ⎜                            1 - \\eta⎟                    ⎛\n",
       "⎜                  ⎜⎛            2⋅\\mu         ⎞        ⎟                    ⎜\n",
       "⎜                  ⎜⎜L_\\mathrm{c}     ⋅\\varphi₀⎟        ⎟                    ⎜\n",
       "⎜\\mathsf{Ci} = asin⎜⎜──────────────────────────⎟        ⎟, \\mathsf{Ci} = asin⎝\n",
       "⎝                  ⎝⎝  \\xi__{\\rightarrow{0}}   ⎠        ⎠                     \n",
       "\n",
       "                                                                            ⎞\n",
       "                                                                            ⎟\n",
       "                        2⋅\\mu              ⎞                                ⎟\n",
       "                       ────────            ⎟                                ⎟\n",
       "                       \\eta - 1            ⎟                                ⎟\n",
       "(\\hat{\\varepsilon} + 1)        ⋅sin(\\beta₀)⎠, sin(\\mathsf{Ci}) = sin(\\beta₀)⎟\n",
       "                                                                            ⎠"
      ]
     },
     "execution_count": 83,
     "metadata": {},
     "output_type": "execute_result"
    }
   ],
   "source": [
    "(gmeq.Ci_xih0_eqn, (gmeq.Ci_beta0_eqn)\n",
    "    , sy.trigsimp( gmeq.sinCi_beta0_eqn.subs({varepsilonhat:0}) ))"
   ]
  },
  {
   "cell_type": "code",
   "execution_count": 84,
   "metadata": {
    "hidden": true
   },
   "outputs": [
    {
     "data": {
      "image/png": "[encoded data removed]",
      "text/latex": [
       "$\\displaystyle \\operatorname{asin}{\\left(\\frac{1}{100} \\right)}$"
      ],
      "text/plain": [
       "asin(1/100)"
      ]
     },
     "execution_count": 84,
     "metadata": {},
     "output_type": "execute_result"
    }
   ],
   "source": [
    "beta_0.subs(sub)"
   ]
  },
  {
   "cell_type": "code",
   "execution_count": 85,
   "metadata": {
    "hidden": true
   },
   "outputs": [
    {
     "data": {
      "image/png": "[encoded data removed]",
      "text/latex": [
       "$\\displaystyle \\left( \\xi^{\\downarrow{0}} = 0.0264, \\  \\xi^{\\rightarrow{0}} = 2.641, \\  \\mathsf{Ci} = 0.01\\right)$"
      ],
      "text/plain": [
       "(\\xi__{\\downarrow{0}} = 0.0264, \\xi__{\\rightarrow{0}} = 2.641, \\mathsf{Ci} = 0\n",
       ".01)"
      ]
     },
     "execution_count": 85,
     "metadata": {},
     "output_type": "execute_result"
    }
   ],
   "source": [
    "( \n",
    "    gmround(( gmeq.xiv0_eqn\n",
    "                 .subs({varepsilonhat:0})\n",
    "                 .subs(omitdict(sub,[xiv_0]))\n",
    "                 .subs({eta:pr.model.eta, mu:pr.model.mu}) ), 4),\n",
    "    gmround(( gmeq.xih0_eqn\n",
    "                 .subs({varepsilonhat:0})\n",
    "                 .subs(omitdict(sub,[xiv_0]))\n",
    "                 .subs({eta:pr.model.eta, mu:pr.model.mu}) ), 4),\n",
    "    gmround(( gmeq.Ci_beta0_eqn\n",
    "                 .subs({varepsilonhat:0})\n",
    "                 .subs(omitdict(sub,[xiv_0]))\n",
    "                 .subs({eta:pr.model.eta, mu:pr.model.mu}) ), 4) \n",
    ")"
   ]
  },
  {
   "cell_type": "code",
   "execution_count": 86,
   "metadata": {
    "hidden": true
   },
   "outputs": [
    {
     "data": {
      "image/png": "[encoded data removed]",
      "text/latex": [
       "$\\displaystyle \\left( \\xi^{\\downarrow{0}} = 0.0268, \\  \\xi^{\\rightarrow{0}} = 2.6807, \\  \\mathsf{Ci} = 0.0103\\right)$"
      ],
      "text/plain": [
       "(\\xi__{\\downarrow{0}} = 0.0268, \\xi__{\\rightarrow{0}} = 2.6807, \\mathsf{Ci} = \n",
       "0.0103)"
      ]
     },
     "execution_count": 86,
     "metadata": {},
     "output_type": "execute_result"
    }
   ],
   "source": [
    "( \n",
    "    gmround(( gmeq.xiv0_eqn\n",
    "                 .subs(e2d(gmeq.varepsilonhat_varepsilon_eqn))\n",
    "                 .subs(omitdict(sub,[xiv_0]))\n",
    "                 .subs({eta:pr.model.eta, mu:pr.model.mu}) ), 4),\n",
    "    gmround(( gmeq.xih0_eqn\n",
    "                 .subs(e2d(gmeq.varepsilonhat_varepsilon_eqn))\n",
    "                 .subs(omitdict(sub,[xiv_0]))\n",
    "                 .subs({eta:pr.model.eta, mu:pr.model.mu}) ), 4),\n",
    "    gmround(( gmeq.Ci_beta0_eqn\n",
    "                 .subs(e2d(gmeq.varepsilonhat_varepsilon_eqn))\n",
    "                 .subs(omitdict(sub,[xiv_0]))\n",
    "                 .subs({eta:pr.model.eta, mu:pr.model.mu}) ), 4) \n",
    ")"
   ]
  },
  {
   "cell_type": "code",
   "execution_count": 87,
   "metadata": {
    "hidden": true
   },
   "outputs": [
    {
     "data": {
      "image/png": "[encoded data removed]",
      "text/latex": [
       "$\\displaystyle \\left( \\frac{\\partial}{\\partial \\hat{p}_x} \\mathcal{H} = \\frac{\\hat{p}_x^{2 \\eta} \\left(\\hat{p}_x^{2} + \\hat{p}_z^{2}\\right)^{1 - \\eta} \\left(\\hat{\\varepsilon} - \\hat{r}^x + 1\\right)^{4 \\mu} \\sin^{2 - 2 \\eta}{\\left(\\mathsf{Ci} \\right)}}{2}, \\  \\frac{\\partial}{\\partial \\hat{p}_z} \\mathcal{H} = \\frac{\\hat{p}_x^{2 \\eta} \\left(\\hat{p}_x^{2} + \\hat{p}_z^{2}\\right)^{1 - \\eta} \\left(\\hat{\\varepsilon} - \\hat{r}^x + 1\\right)^{4 \\mu} \\sin^{2 - 2 \\eta}{\\left(\\mathsf{Ci} \\right)}}{2}\\right)$"
      ],
      "text/plain": [
       "⎛         ⎛                                                     1 - \\eta      \n",
       "⎜         ⎜                      2⋅\\eta ⎛        2            2⎞              \n",
       "⎜    ∂    ⎜              \\hat{p}ₓ      ⋅⎝\\hat{p}ₓ  + \\hat{p}_z ⎠        ⋅(\\hat\n",
       "⎜─────────⎜\\mathcal{H} = ─────────────────────────────────────────────────────\n",
       "⎝∂\\hat{p}ₓ⎝                                                                   \n",
       "\n",
       "                                                               ⎞            ⎛ \n",
       "                               4⋅\\mu    2 - 2⋅\\eta             ⎟            ⎜ \n",
       "{\\varepsilon} - \\hat{r}__x + 1)     ⋅sin          (\\mathsf{Ci})⎟      ∂     ⎜ \n",
       "───────────────────────────────────────────────────────────────⎟, ──────────⎜\\\n",
       "    2                                                          ⎠  ∂\\hat{p}_z⎝ \n",
       "\n",
       "                                                    1 - \\eta                  \n",
       "                     2⋅\\eta ⎛        2            2⎞                          \n",
       "             \\hat{p}ₓ      ⋅⎝\\hat{p}ₓ  + \\hat{p}_z ⎠        ⋅(\\hat{\\varepsilon\n",
       "mathcal{H} = ─────────────────────────────────────────────────────────────────\n",
       "                                                                      2       \n",
       "\n",
       "                                                   ⎞⎞\n",
       "                   4⋅\\mu    2 - 2⋅\\eta             ⎟⎟\n",
       "} - \\hat{r}__x + 1)     ⋅sin          (\\mathsf{Ci})⎟⎟\n",
       "───────────────────────────────────────────────────⎟⎟\n",
       "                                                   ⎠⎠"
      ]
     },
     "execution_count": 87,
     "metadata": {},
     "output_type": "execute_result"
    }
   ],
   "source": [
    "simplify( sy.diff(gmeq.H_Ci_eqn,pxhat) ), simplify( sy.diff(gmeq.H_Ci_eqn,pzhat) )"
   ]
  },
  {
   "cell_type": "code",
   "execution_count": 88,
   "metadata": {
    "hidden": true
   },
   "outputs": [
    {
     "data": {
      "image/png": "[encoded data removed]",
      "text/latex": [
       "$\\displaystyle - \\frac{\\partial}{\\partial \\hat{r}^x} \\mathcal{H} = \\frac{\\hat{p}_x^{2 \\eta} \\left(\\hat{p}_x^{2} + \\hat{p}_z^{2}\\right)^{1 - \\eta} \\left(\\hat{\\varepsilon} - \\hat{r}^x + 1\\right)^{4 \\mu} \\sin^{2 - 2 \\eta}{\\left(\\mathsf{Ci} \\right)}}{2}$"
      ],
      "text/plain": [
       "            ⎛                                                     1 - \\eta    \n",
       "            ⎜                      2⋅\\eta ⎛        2            2⎞            \n",
       "      ∂     ⎜              \\hat{p}ₓ      ⋅⎝\\hat{p}ₓ  + \\hat{p}_z ⎠        ⋅(\\h\n",
       "-───────────⎜\\mathcal{H} = ───────────────────────────────────────────────────\n",
       " ∂\\hat{r}__x⎝                                                                 \n",
       "\n",
       "                                                                 ⎞\n",
       "                                 4⋅\\mu    2 - 2⋅\\eta             ⎟\n",
       "at{\\varepsilon} - \\hat{r}__x + 1)     ⋅sin          (\\mathsf{Ci})⎟\n",
       "─────────────────────────────────────────────────────────────────⎟\n",
       "      2                                                          ⎠"
      ]
     },
     "execution_count": 88,
     "metadata": {},
     "output_type": "execute_result"
    }
   ],
   "source": [
    "simplify( -sy.diff(gmeq.H_Ci_eqn,rxhat) )#, -simplify( sy.diff(gmeq.H_Ci_eqn,rzhat) )"
   ]
  },
  {
   "cell_type": "code",
   "execution_count": 89,
   "metadata": {
    "hidden": true
   },
   "outputs": [
    {
     "data": {
      "image/png": "[encoded data removed]",
      "text/latex": [
       "$\\displaystyle \\left[ \\hat{v}^x{\\left(\\hat{t} \\right)} = \\hat{p}_x^{2 \\eta - 1} \\left(\\hat{p}_x^{2} + \\hat{p}_z^{2}\\right)^{- \\eta} \\left(\\eta \\hat{p}_z^{2} + \\hat{p}_x^{2}\\right) \\left(\\hat{\\varepsilon} - \\hat{r}^x + 1\\right)^{4 \\mu} \\sin^{2 - 2 \\eta}{\\left(\\mathsf{Ci} \\right)}, \\  \\hat{v}^z{\\left(\\hat{t} \\right)} = - \\hat{p}_x^{2 \\eta} \\hat{p}_z \\left(\\eta - 1\\right) \\left(\\hat{p}_x^{2} + \\hat{p}_z^{2}\\right)^{- \\eta} \\left(\\hat{\\varepsilon} - \\hat{r}^x + 1\\right)^{4 \\mu} \\sin^{2 - 2 \\eta}{\\left(\\mathsf{Ci} \\right)}\\right]$"
      ],
      "text/plain": [
       "⎡                                                                 -\\eta       \n",
       "⎢                              2⋅\\eta - 1 ⎛        2            2⎞      ⎛     \n",
       "⎣\\hat{v}__x(\\hat{t}) = \\hat{p}ₓ          ⋅⎝\\hat{p}ₓ  + \\hat{p}_z ⎠     ⋅⎝\\eta⋅\n",
       "\n",
       "                                                                              \n",
       "         2           2⎞                                     4⋅\\mu    2 - 2⋅\\et\n",
       "\\hat{p}_z  + \\hat{p}ₓ ⎠⋅(\\hat{\\varepsilon} - \\hat{r}__x + 1)     ⋅sin         \n",
       "\n",
       "                                                                              \n",
       "a                                              2⋅\\eta                      ⎛  \n",
       " (\\mathsf{Ci}), \\hat{v}__z(\\hat{t}) = -\\hat{p}ₓ      ⋅\\hat{p}_z⋅(\\eta - 1)⋅⎝\\h\n",
       "\n",
       "                     -\\eta                                                    \n",
       "      2            2⎞                                          4⋅\\mu    2 - 2⋅\n",
       "at{p}ₓ  + \\hat{p}_z ⎠     ⋅(\\hat{\\varepsilon} - \\hat{r}__x + 1)     ⋅sin      \n",
       "\n",
       "                 ⎤\n",
       "\\eta             ⎥\n",
       "    (\\mathsf{Ci})⎦"
      ]
     },
     "execution_count": 89,
     "metadata": {},
     "output_type": "execute_result"
    }
   ],
   "source": [
    "([gmeq.rdotxhat_eqn, gmeq.rdotzhat_eqn])"
   ]
  },
  {
   "cell_type": "code",
   "execution_count": 90,
   "metadata": {
    "hidden": true
   },
   "outputs": [
    {
     "data": {
      "image/png": "[encoded data removed]",
      "text/latex": [
       "$\\displaystyle \\left[ \\dot{\\hat{p}}_x{\\left(\\hat{t} \\right)} = 2 \\hat{p}_x^{2 \\eta} \\mu \\left(\\hat{p}_x^{2} + \\hat{p}_z^{2}\\right)^{1 - \\eta} \\left(\\hat{\\varepsilon} - \\hat{r}^x + 1\\right)^{4 \\mu - 1} \\sin^{2 - 2 \\eta}{\\left(\\mathsf{Ci} \\right)}, \\  \\dot{\\hat{p}}_z{\\left(\\hat{t} \\right)} = 0\\right]$"
      ],
      "text/plain": [
       "⎡                                                                       1 - \\e\n",
       "⎢                                    2⋅\\eta     ⎛        2            2⎞      \n",
       "⎣\\dot{\\hat{p}}ₓ(\\hat{t}) = 2⋅\\hat{p}ₓ      ⋅\\mu⋅⎝\\hat{p}ₓ  + \\hat{p}_z ⎠      \n",
       "\n",
       "ta                                                                            \n",
       "                                       4⋅\\mu - 1    2 - 2⋅\\eta                \n",
       "  ⋅(\\hat{\\varepsilon} - \\hat{r}__x + 1)         ⋅sin          (\\mathsf{Ci}), \\\n",
       "\n",
       "                           ⎤\n",
       "                           ⎥\n",
       "dot{\\hat{p}}_z(\\hat{t}) = 0⎦"
      ]
     },
     "execution_count": 90,
     "metadata": {},
     "output_type": "execute_result"
    }
   ],
   "source": [
    "([gmeq.pdotxhat_eqn, gmeq.pdotzhat_eqn])"
   ]
  },
  {
   "cell_type": "markdown",
   "metadata": {
    "heading_collapsed": true
   },
   "source": [
    "## Non-dimensionalized Hamilton's equations"
   ]
  },
  {
   "cell_type": "code",
   "execution_count": 91,
   "metadata": {
    "hidden": true
   },
   "outputs": [],
   "source": [
    "gmeq.define_nodimensionalized_Hamiltons_eqns()"
   ]
  },
  {
   "cell_type": "code",
   "execution_count": 92,
   "metadata": {
    "hidden": true
   },
   "outputs": [
    {
     "data": {
      "image/png": "[encoded data removed]",
      "text/latex": [
       "$\\displaystyle \\left[\\begin{matrix}\\hat{p}_x^{2 \\eta - 1} \\left(\\hat{p}_x^{2} + \\hat{p}_z^{2}\\right)^{- \\eta} \\left(\\eta \\hat{p}_z^{2} + \\hat{p}_x^{2}\\right) \\left(\\hat{\\varepsilon} - \\hat{r}^x + 1\\right)^{4 \\mu} \\sin^{2 - 2 \\eta}{\\left(\\mathsf{Ci} \\right)}\\\\- \\hat{p}_x^{2 \\eta} \\hat{p}_z \\left(\\eta - 1\\right) \\left(\\hat{p}_x^{2} + \\hat{p}_z^{2}\\right)^{- \\eta} \\left(\\hat{\\varepsilon} - \\hat{r}^x + 1\\right)^{4 \\mu} \\sin^{2 - 2 \\eta}{\\left(\\mathsf{Ci} \\right)}\\\\2 \\hat{p}_x^{2 \\eta} \\mu \\left(\\hat{p}_x^{2} + \\hat{p}_z^{2}\\right)^{1 - \\eta} \\left(\\hat{\\varepsilon} - \\hat{r}^x + 1\\right)^{4 \\mu - 1} \\sin^{2 - 2 \\eta}{\\left(\\mathsf{Ci} \\right)}\\\\0\\end{matrix}\\right]$"
      ],
      "text/plain": [
       "⎡                                           -\\eta                             \n",
       "⎢        2⋅\\eta - 1 ⎛        2            2⎞      ⎛              2           2\n",
       "⎢\\hat{p}ₓ          ⋅⎝\\hat{p}ₓ  + \\hat{p}_z ⎠     ⋅⎝\\eta⋅\\hat{p}_z  + \\hat{p}ₓ \n",
       "⎢                                                                             \n",
       "⎢                                                                   -\\eta     \n",
       "⎢               2⋅\\eta                      ⎛        2            2⎞          \n",
       "⎢      -\\hat{p}ₓ      ⋅\\hat{p}_z⋅(\\eta - 1)⋅⎝\\hat{p}ₓ  + \\hat{p}_z ⎠     ⋅(\\ha\n",
       "⎢                                                                             \n",
       "⎢                                                       1 - \\eta              \n",
       "⎢                    2⋅\\eta     ⎛        2            2⎞                      \n",
       "⎢          2⋅\\hat{p}ₓ      ⋅\\mu⋅⎝\\hat{p}ₓ  + \\hat{p}_z ⎠        ⋅(\\hat{\\vareps\n",
       "⎢                                                                             \n",
       "⎣                                                                         0   \n",
       "\n",
       "                                                                      ⎤\n",
       "⎞                                     4⋅\\mu    2 - 2⋅\\eta             ⎥\n",
       "⎠⋅(\\hat{\\varepsilon} - \\hat{r}__x + 1)     ⋅sin          (\\mathsf{Ci})⎥\n",
       "                                                                      ⎥\n",
       "                                                                      ⎥\n",
       "                                4⋅\\mu    2 - 2⋅\\eta                   ⎥\n",
       "t{\\varepsilon} - \\hat{r}__x + 1)     ⋅sin          (\\mathsf{Ci})      ⎥\n",
       "                                                                      ⎥\n",
       "                                                                      ⎥\n",
       "                       4⋅\\mu - 1    2 - 2⋅\\eta                        ⎥\n",
       "ilon} - \\hat{r}__x + 1)         ⋅sin          (\\mathsf{Ci})           ⎥\n",
       "                                                                      ⎥\n",
       "                                                                      ⎦"
      ]
     },
     "execution_count": 92,
     "metadata": {},
     "output_type": "execute_result"
    }
   ],
   "source": [
    "gmeq.hamiltons_ndim_eqns"
   ]
  },
  {
   "cell_type": "markdown",
   "metadata": {},
   "source": [
    "## Real-world numbers"
   ]
  },
  {
   "cell_type": "code",
   "execution_count": 93,
   "metadata": {},
   "outputs": [
    {
     "data": {
      "image/png": "[encoded data removed]",
      "text/latex": [
       "$\\displaystyle \\xi^{\\rightarrow{0}} = L_\\mathrm{c}^{2 \\mu} \\varphi_{0} \\sin^{\\eta - 1}{\\left(\\mathsf{Ci} \\right)}$"
      ],
      "text/plain": [
       "                                    2⋅\\mu             \\eta - 1             \n",
       "\\xi__{\\rightarrow{0}} = L_\\mathrm{c}     ⋅\\varphi₀⋅sin        (\\mathsf{Ci})"
      ]
     },
     "execution_count": 93,
     "metadata": {},
     "output_type": "execute_result"
    }
   ],
   "source": [
    "xih0_eqn = factor( gmeq.xih0_eqn.subs(e2d(gmeq.beta0_Ci_eqn)).subs({varepsilonhat:0}) )\n",
    "xih0_eqn"
   ]
  },
  {
   "cell_type": "code",
   "execution_count": 94,
   "metadata": {},
   "outputs": [
    {
     "data": {
      "image/png": "[encoded data removed]",
      "text/latex": [
       "$\\displaystyle \\xi^{\\downarrow{0}} = \\frac{\\xi^{\\rightarrow{0}} \\sin{\\left(\\mathsf{Ci} \\right)}}{\\sqrt{1 - \\sin^{2}{\\left(\\mathsf{Ci} \\right)}}}$"
      ],
      "text/plain": [
       "                       \\xi__{\\rightarrow{0}}⋅sin(\\mathsf{Ci})\n",
       "\\xi__{\\downarrow{0}} = ──────────────────────────────────────\n",
       "                                _______________________      \n",
       "                               ╱        2                    \n",
       "                             ╲╱  1 - sin (\\mathsf{Ci})       "
      ]
     },
     "execution_count": 94,
     "metadata": {},
     "output_type": "execute_result"
    }
   ],
   "source": [
    "xiv0_xih0_eqn = gmeq.xiv_xih_eqn.subs({xiv:xiv_0, xih:xih_0, beta:beta_0}) \\\n",
    "                           .subs(e2d(gmeq.beta0_Ci_eqn)).subs({varepsilonhat:0})\n",
    "xiv0_xih0_eqn"
   ]
  },
  {
   "cell_type": "code",
   "execution_count": 95,
   "metadata": {},
   "outputs": [
    {
     "data": {
      "image/png": "[encoded data removed]",
      "text/latex": [
       "$\\displaystyle \\xi^{\\downarrow{0}} = \\frac{L_\\mathrm{c}^{2 \\mu} \\varphi_{0} \\sin{\\left(\\mathsf{Ci} \\right)} \\sin^{\\eta - 1}{\\left(\\mathsf{Ci} \\right)}}{\\sqrt{1 - \\sin^{2}{\\left(\\mathsf{Ci} \\right)}}}$"
      ],
      "text/plain": [
       "                                   2⋅\\mu                              \\eta - 1\n",
       "                       L_\\mathrm{c}     ⋅\\varphi₀⋅sin(\\mathsf{Ci})⋅sin        \n",
       "\\xi__{\\downarrow{0}} = ───────────────────────────────────────────────────────\n",
       "                                               _______________________        \n",
       "                                              ╱        2                      \n",
       "                                            ╲╱  1 - sin (\\mathsf{Ci})         \n",
       "\n",
       "             \n",
       "(\\mathsf{Ci})\n",
       "─────────────\n",
       "             \n",
       "             \n",
       "             "
      ]
     },
     "execution_count": 95,
     "metadata": {},
     "output_type": "execute_result"
    }
   ],
   "source": [
    "xiv0_eqn = xiv0_xih0_eqn.subs(e2d(xih0_eqn))\n",
    "xiv0_eqn"
   ]
  },
  {
   "cell_type": "code",
   "execution_count": 96,
   "metadata": {},
   "outputs": [
    {
     "data": {
      "image/png": "[encoded data removed]",
      "text/latex": [
       "$\\displaystyle \\varphi_{0} = L_\\mathrm{c}^{- 2 \\mu} \\xi^{\\downarrow{0}} \\sin^{- \\eta}{\\left(\\mathsf{Ci} \\right)} \\cos{\\left(\\mathsf{Ci} \\right)}$"
      ],
      "text/plain": [
       "                       -2⋅\\mu                         -\\eta                   \n",
       "\\varphi₀ = L_\\mathrm{c}      ⋅\\xi__{\\downarrow{0}}⋅sin     (\\mathsf{Ci})⋅cos(\\\n",
       "\n",
       "           \n",
       "mathsf{Ci})"
      ]
     },
     "execution_count": 96,
     "metadata": {},
     "output_type": "execute_result"
    }
   ],
   "source": [
    "varphi0_eqn = Eq(varphi_0,solve(xiv0_eqn,varphi_0)[0]).subs({Abs(cos(Ci)):cos(Ci)})\n",
    "varphi0_eqn"
   ]
  },
  {
   "cell_type": "code",
   "execution_count": 97,
   "metadata": {},
   "outputs": [
    {
     "data": {
      "image/png": "[encoded data removed]",
      "text/latex": [
       "$\\displaystyle t^{\\rightarrow{0}} = \\frac{L_\\mathrm{c}}{\\xi^{\\rightarrow{0}}}$"
      ],
      "text/plain": [
       "                           L_\\mathrm{c}    \n",
       "t__{\\rightarrow{0}} = ─────────────────────\n",
       "                      \\xi__{\\rightarrow{0}}"
      ]
     },
     "execution_count": 97,
     "metadata": {},
     "output_type": "execute_result"
    }
   ],
   "source": [
    "gmeq.th0_xih0_eqn"
   ]
  },
  {
   "cell_type": "code",
   "execution_count": 98,
   "metadata": {},
   "outputs": [
    {
     "data": {
      "image/png": "[encoded data removed]",
      "text/latex": [
       "$\\displaystyle \\left( t^{\\rightarrow\\mathrm{L_c}}, \\  t_{\\mathrm{1y}} = 31556925.216, \\  t_{\\mathrm{My}} = 31556925216000.0\\right)$"
      ],
      "text/plain": [
       "(t_c}}__{\\rightarrow\\mathrm{L, t_{\\mathrm{1y}} = 31556925.216, t_{\\mathrm{My}}\n",
       " = 31556925216000.0)"
      ]
     },
     "execution_count": 98,
     "metadata": {},
     "output_type": "execute_result"
    }
   ],
   "source": [
    "t_Lc = symbols(r't^{\\rightarrow\\mathrm{L_c}}',  real=True, positive=True)\n",
    "t_oneyear = symbols(r't_{\\mathrm{1y}}',  real=True, positive=True)\n",
    "t_My      = symbols(r't_{\\mathrm{My}}',  real=True, positive=True)\n",
    "\n",
    "SI.set_quantity_dimension(xiv_0, length/time)\n",
    "SI.set_quantity_dimension(xih_0, length/time)\n",
    "SI.set_quantity_dimension(Ci, 1)\n",
    "SI.set_quantity_dimension(Lc, length)\n",
    "SI.set_quantity_dimension(varphi_0, length/time)\n",
    "SI.set_quantity_dimension(th_0, time)\n",
    "SI.set_quantity_dimension(tv_0, time)\n",
    "SI.set_quantity_dimension(t_Lc, time)\n",
    "SI.set_quantity_dimension(t_oneyear, time)\n",
    "SI.set_quantity_dimension(t_My, time)\n",
    "\n",
    "t_oneyear\n",
    "t_oneyear_eqn_ = Eq(t_oneyear, float((convert_to(year,second)).args[0]))\n",
    "t_My_eqn_ = Eq(t_My, float((convert_to(mega*year,second)).args[0]))\n",
    "t_Lc, t_oneyear_eqn_, t_My_eqn_"
   ]
  },
  {
   "cell_type": "code",
   "execution_count": 99,
   "metadata": {},
   "outputs": [],
   "source": [
    "xiv0_ = (1e-3/t_oneyear).subs(e2d(t_oneyear_eqn_))\n",
    "Ci_   = rad(Rational(1,10))\n",
    "Lc_   = 1e4\n",
    "eta_  = Rational(1,2)\n",
    "mu_   = Rational(1,4)\n",
    "# Ci_eqn_ = (\n",
    "#     Eq(Ci,Ci_)\n",
    "# )\n",
    "# varphi0_eqn_ = (\n",
    "#     varphi0_eqn.subs({Lc:Lc_, Ci:Ci_})\n",
    "#                 .subs({eta:eta_, mu:mu_})\n",
    "#                 .subs({xiv_0:xiv0_})\n",
    "# ).n()\n",
    "# xiv0_eqn_ = (\n",
    "#     Eq(xiv_0,xiv0_)\n",
    "# )\n",
    "# xih0_eqn_ = (\n",
    "#     xih0_eqn\n",
    "#             .subs({Lc:Lc_, Ci:Ci_})\n",
    "#             .subs({eta:eta_, mu:mu_})\n",
    "#             .subs({xiv_0:xiv0_})\n",
    "#             .subs({varphi_0:varphi0_eqn_.rhs})\n",
    "# ).n()\n",
    "# beta0_Ci_eqn_ = (\n",
    "#     gmeq.beta0_Ci_eqn\n",
    "#             .subs({Lc:Lc_, Ci:Ci_})\n",
    "#             .subs({eta:eta_, mu:mu_})\n",
    "#             .subs({varepsilonhat:1})\n",
    "# ).n()\n",
    "# th0_eqn_ = (\n",
    "#     Eq( t_Lc, (th_0*t_oneyear*1e-6).subs(e2d(t_oneyear_eqn_))\n",
    "#                               .subs(e2d(gmeq.th0_xih0_eqn))\n",
    "#                               .subs({Lc:Lc_, xih_0:xih0_}) )\n",
    "# )\n",
    "# (\n",
    "#     convert( Ci_eqn_, n=2, units=degrees),\n",
    "#     convert( varphi0_eqn_, n=3, units=mm/year ),\n",
    "#     convert( xiv0_eqn_, n=3, units=mm/year ),\n",
    "#     convert( xih0_eqn_, n=3, units=mm/year ),\n",
    "#     convert( th0_eqn_, n=3, units=year )\n",
    "# )"
   ]
  },
  {
   "cell_type": "code",
   "execution_count": 100,
   "metadata": {},
   "outputs": [
    {
     "data": {
      "image/png": "[encoded data removed]",
      "text/latex": [
       "$\\displaystyle \\left\\{ \\frac{1}{2} : \\left\\{ \\frac{1}{10} : 9.1, \\  1 : 7.9, \\  4 : 6.0\\right\\}, \\  \\frac{3}{2} : \\left\\{ \\frac{1}{10} : 3.0, \\  1 : 3.4, \\  4 : 4.9\\right\\}\\right\\}$"
      ],
      "text/plain": [
       "{1/2: {1/10: 9.1, 1: 7.9, 4: 6.0}, 3/2: {1/10: 3.0, 1: 3.4, 4: 4.9}}"
      ]
     },
     "execution_count": 100,
     "metadata": {},
     "output_type": "execute_result"
    }
   ],
   "source": [
    "tLc_results = {\n",
    "    Rational(1,2): {\n",
    "        Rational(1,10): 9.1,\n",
    "        1: 7.9,\n",
    "        4: 6.0\n",
    "    },\n",
    "    Rational(3,2): {\n",
    "        Rational(1,10): 3.0,\n",
    "        1: 3.4,\n",
    "        4: 4.9\n",
    "    }\n",
    "}\n",
    "tLc_results"
   ]
  },
  {
   "cell_type": "code",
   "execution_count": 101,
   "metadata": {},
   "outputs": [
    {
     "data": {
      "image/png": "[encoded data removed]",
      "text/latex": [
       "$\\displaystyle 17380696252312.3$"
      ],
      "text/plain": [
       "17380696252312.3"
      ]
     },
     "execution_count": 101,
     "metadata": {},
     "output_type": "execute_result"
    }
   ],
   "source": [
    "xih0_ = float(xiv0_/tan(Ci_))\n",
    "( (th_0*t_oneyear*1e-6).subs(e2d(t_oneyear_eqn_))\n",
    "                                      .subs(e2d(gmeq.th0_xih0_eqn))\n",
    "                                      .subs({Lc:Lc_, xih_0:xih0_}) )"
   ]
  },
  {
   "cell_type": "code",
   "execution_count": 102,
   "metadata": {},
   "outputs": [],
   "source": [
    "def build_results_table(xiv0_=1e-3):\n",
    "    xiv0_mps_ = (xiv0_/t_oneyear).subs(e2d(t_oneyear_eqn_))\n",
    "#     Ci_   = rad(Rational(1,10))\n",
    "#     Lc_   = 1e4\n",
    "#     eta_  = Rational(1,2)\n",
    "#     mu_   = Rational(1,4)\n",
    "\n",
    "    m_base = Matrix([\n",
    "        [eta, Ci, tan(beta_0), Lc, xiv_0, xih_0, th_0, t_Lc],\n",
    "        [1, degrees, percent, km, mm/year, mm/year, mega*year, mega*year]\n",
    "    ])\n",
    "    m_all = m_base\n",
    "\n",
    "    eta_Ci_Lc_list = [ \n",
    "        [Rational(1,2), rad(Rational(1,10)), 1e4], \n",
    "        [Rational(3,2), rad(Rational(1,10)), 1e4], \n",
    "\n",
    "        [Rational(1,2), rad(Rational(1,10)), 1e5], \n",
    "        [Rational(3,2), rad(Rational(1,10)), 1e5], \n",
    "\n",
    "        [Rational(1,2), rad(1), 1e4], \n",
    "        [Rational(3,2), rad(1), 1e4], \n",
    "\n",
    "        [Rational(1,2), rad(1), 1e5], \n",
    "        [Rational(3,2), rad(1), 1e5], \n",
    "\n",
    "        [Rational(1,2), rad(4), 1e4],\n",
    "        [Rational(3,2), rad(4), 1e4],\n",
    "\n",
    "        [Rational(1,2), rad(4), 1e5],\n",
    "        [Rational(3,2), rad(4), 1e5],\n",
    "\n",
    "    ]\n",
    "    for eta_,Ci_,Lc_ in eta_Ci_Lc_list:\n",
    "        Ci_eqn_ = (\n",
    "            Eq(Ci,Ci_)\n",
    "        )\n",
    "        Lc_eqn_ = (\n",
    "            Eq(Lc,Lc_)\n",
    "        )\n",
    "        varphi0_eqn_ = (\n",
    "            varphi0_eqn.subs({Lc:Lc_, Ci:Ci_})\n",
    "                        .subs({eta:eta_, mu:mu_})\n",
    "                        .subs({xiv_0:xiv0_mps_})\n",
    "        ).n()\n",
    "        xiv0_eqn_ = (\n",
    "            Eq(xiv_0,xiv0_mps_)\n",
    "        )\n",
    "        xih0_ = float(xiv0_/tan(Ci_))\n",
    "        xih0_eqn_ = (\n",
    "            xih0_eqn\n",
    "                    .subs({Lc:Lc_, Ci:Ci_})\n",
    "                    .subs({eta:eta_, mu:mu_})\n",
    "                    .subs({xiv_0:xiv0_mps_})\n",
    "                    .subs({varphi_0:varphi0_eqn_.rhs})\n",
    "        ).n()\n",
    "        beta0_Ci_eqn_ = (\n",
    "            Eq(tan(beta_0), tan(beta_0)\n",
    "                    .subs(e2d(gmeq.beta0_Ci_eqn))\n",
    "                    .subs({Lc:Lc_, Ci:Ci_})\n",
    "                    .subs({eta:eta_, mu:mu_})\n",
    "                    .subs({varepsilonhat:0}))\n",
    "        ).n()\n",
    "        th0_eqn_ = (\n",
    "            Eq( th_0, (th_0*t_oneyear*1e-6).subs(e2d(t_oneyear_eqn_))\n",
    "                                      .subs(e2d(gmeq.th0_xih0_eqn))\n",
    "                                      .subs({Lc:Lc_, xih_0:xih0_}) )\n",
    "        )\n",
    "        thLc_eqn_ = (\n",
    "            Eq( th_0, tLc_results[eta_][deg(Ci_)]*(th_0*t_oneyear*1e-6)\n",
    "                                      .subs(e2d(t_oneyear_eqn_))\n",
    "                                      .subs(e2d(gmeq.th0_xih0_eqn))\n",
    "                                      .subs({Lc:Lc_, xih_0:xih0_}) )\n",
    "        )\n",
    "        m_this = Matrix([\n",
    "            [\n",
    "                eta_,\n",
    "                convert(Ci_eqn_,       n=2, units=degrees).rhs.args[0],\n",
    "                convert(beta0_Ci_eqn_, n=2, units=percent).rhs.args[0],\n",
    "                convert(Lc_eqn_,       n=1, units=km, do_raw=True).rhs.args[0],\n",
    "                convert(xiv0_eqn_,     n=3, units=mm/year).rhs.args[0],\n",
    "                convert(xih0_eqn_,     n=1, units=mm/year).rhs.args[0],\n",
    "                convert(th0_eqn_,      n=2, units=year).rhs.args[0],\n",
    "                convert(thLc_eqn_,     n=2, units=year).rhs.args[0]\n",
    "            ]\n",
    "        ])\n",
    "        m_all = Matrix([m_all, m_this])\n",
    "    return m_all"
   ]
  },
  {
   "cell_type": "code",
   "execution_count": 103,
   "metadata": {},
   "outputs": [
    {
     "data": {
      "image/png": "[encoded data removed]",
      "text/latex": [
       "$\\displaystyle \\beta_{0} = \\operatorname{asin}{\\left(\\left(\\hat{\\varepsilon} + 1\\right)^{- \\frac{2 \\mu}{\\eta - 1}} \\sin{\\left(\\mathsf{Ci} \\right)} \\right)}$"
      ],
      "text/plain": [
       "             ⎛                       -2⋅\\mu                   ⎞\n",
       "             ⎜                       ────────                 ⎟\n",
       "             ⎜                       \\eta - 1                 ⎟\n",
       "\\beta₀ = asin⎝(\\hat{\\varepsilon} + 1)        ⋅sin(\\mathsf{Ci})⎠"
      ]
     },
     "execution_count": 103,
     "metadata": {},
     "output_type": "execute_result"
    }
   ],
   "source": [
    "gmeq.beta0_Ci_eqn"
   ]
  },
  {
   "cell_type": "code",
   "execution_count": 104,
   "metadata": {},
   "outputs": [
    {
     "data": {
      "text/latex": [
       "$\\displaystyle \\left[\\begin{matrix}\\eta & \\mathsf{Ci} & \\tan{\\left(\\beta_{0} \\right)} & L_\\mathrm{c} & \\xi^{\\downarrow{0}} & \\xi^{\\rightarrow{0}} & t^{\\rightarrow{0}} & t^{\\rightarrow\\mathrm{L_c}}\\\\1 & ^\\circ & \\% & \\text{km} & \\frac{\\text{mm}}{\\text{tropical_year}} & \\frac{\\text{mm}}{\\text{tropical_year}} & 1000000 \\text{tropical_year} & 1000000 \\text{tropical_year}\\\\\\frac{1}{2} & 0.1 & 0.17 & 10.0 & 0.1 & 57.3 & 0.17 & 1.59\\\\\\frac{3}{2} & 0.1 & 0.17 & 10.0 & 0.1 & 57.3 & 0.17 & 0.52\\\\\\frac{1}{2} & 0.1 & 0.17 & 100.0 & 0.1 & 57.3 & 1.75 & 15.88\\\\\\frac{3}{2} & 0.1 & 0.17 & 100.0 & 0.1 & 57.3 & 1.75 & 5.24\\\\\\frac{1}{2} & 1.0 & 1.75 & 10.0 & 0.1 & 5.7 & 1.75 & 13.79\\\\\\frac{3}{2} & 1.0 & 1.75 & 10.0 & 0.1 & 5.7 & 1.75 & 5.93\\\\\\frac{1}{2} & 1.0 & 1.75 & 100.0 & 0.1 & 5.7 & 17.46 & 137.9\\\\\\frac{3}{2} & 1.0 & 1.75 & 100.0 & 0.1 & 5.7 & 17.46 & 59.35\\\\\\frac{1}{2} & 4.0 & 6.99 & 10.0 & 0.1 & 1.4 & 6.99 & 41.96\\\\\\frac{3}{2} & 4.0 & 6.99 & 10.0 & 0.1 & 1.4 & 6.99 & 34.26\\\\\\frac{1}{2} & 4.0 & 6.99 & 100.0 & 0.1 & 1.4 & 69.93 & 419.56\\\\\\frac{3}{2} & 4.0 & 6.99 & 100.0 & 0.1 & 1.4 & 69.93 & 342.64\\end{matrix}\\right]$"
      ],
      "text/plain": [
       "⎡\\eta  \\mathsf{Ci}  tan(\\beta₀)  L_\\mathrm{c}  \\xi__{\\downarrow{0}}  \\xi__{\\ri\n",
       "⎢                                                                             \n",
       "⎢                                                   millimeter             mil\n",
       "⎢ 1         °         percent     kilometer       ─────────────          ─────\n",
       "⎢                                                 tropical_year          tropi\n",
       "⎢                                                                             \n",
       "⎢1/2       0.1         0.17          10.0              0.1                   5\n",
       "⎢                                                                             \n",
       "⎢3/2       0.1         0.17          10.0              0.1                   5\n",
       "⎢                                                                             \n",
       "⎢1/2       0.1         0.17         100.0              0.1                   5\n",
       "⎢                                                                             \n",
       "⎢3/2       0.1         0.17         100.0              0.1                   5\n",
       "⎢                                                                             \n",
       "⎢1/2       1.0         1.75          10.0              0.1                    \n",
       "⎢                                                                             \n",
       "⎢3/2       1.0         1.75          10.0              0.1                    \n",
       "⎢                                                                             \n",
       "⎢1/2       1.0         1.75         100.0              0.1                    \n",
       "⎢                                                                             \n",
       "⎢3/2       1.0         1.75         100.0              0.1                    \n",
       "⎢                                                                             \n",
       "⎢1/2       4.0         6.99          10.0              0.1                    \n",
       "⎢                                                                             \n",
       "⎢3/2       4.0         6.99          10.0              0.1                    \n",
       "⎢                                                                             \n",
       "⎢1/2       4.0         6.99         100.0              0.1                    \n",
       "⎢                                                                             \n",
       "⎣3/2       4.0         6.99         100.0              0.1                    \n",
       "\n",
       "ghtarrow{0}}   t__{\\rightarrow{0}}   t_c}}__{\\rightarrow\\mathrm{L⎤\n",
       "                                                                 ⎥\n",
       "limeter                                                          ⎥\n",
       "────────      1000000⋅tropical_year     1000000⋅tropical_year    ⎥\n",
       "cal_year                                                         ⎥\n",
       "                                                                 ⎥\n",
       "7.3                   0.17                       1.59            ⎥\n",
       "                                                                 ⎥\n",
       "7.3                   0.17                       0.52            ⎥\n",
       "                                                                 ⎥\n",
       "7.3                   1.75                      15.88            ⎥\n",
       "                                                                 ⎥\n",
       "7.3                   1.75                       5.24            ⎥\n",
       "                                                                 ⎥\n",
       "5.7                   1.75                      13.79            ⎥\n",
       "                                                                 ⎥\n",
       "5.7                   1.75                       5.93            ⎥\n",
       "                                                                 ⎥\n",
       "5.7                   17.46                     137.9            ⎥\n",
       "                                                                 ⎥\n",
       "5.7                   17.46                     59.35            ⎥\n",
       "                                                                 ⎥\n",
       "1.4                   6.99                      41.96            ⎥\n",
       "                                                                 ⎥\n",
       "1.4                   6.99                      34.26            ⎥\n",
       "                                                                 ⎥\n",
       "1.4                   69.93                     419.56           ⎥\n",
       "                                                                 ⎥\n",
       "1.4                   69.93                     342.64           ⎦"
      ]
     },
     "execution_count": 104,
     "metadata": {},
     "output_type": "execute_result"
    }
   ],
   "source": [
    "build_results_table(1e-4)"
   ]
  },
  {
   "cell_type": "code",
   "execution_count": null,
   "metadata": {},
   "outputs": [],
   "source": [
    "build_results_table(1e-3)"
   ]
  },
  {
   "cell_type": "markdown",
   "metadata": {},
   "source": [
    "## Angles"
   ]
  },
  {
   "cell_type": "markdown",
   "metadata": {},
   "source": [
    "### $\\tan\\alpha$"
   ]
  },
  {
   "cell_type": "code",
   "execution_count": null,
   "metadata": {},
   "outputs": [],
   "source": [
    "gmeq.define_tanalpha_eqns()"
   ]
  },
  {
   "cell_type": "code",
   "execution_count": null,
   "metadata": {},
   "outputs": [],
   "source": [
    "gmeq.rdotz_on_rdotx_eqn"
   ]
  },
  {
   "cell_type": "code",
   "execution_count": null,
   "metadata": {},
   "outputs": [],
   "source": [
    "eqns(['tanalpha_rdot_eqn', 'tanalpha_pxpz_eqn', 'tanalpha_beta_eqn'])"
   ]
  },
  {
   "cell_type": "code",
   "execution_count": null,
   "metadata": {},
   "outputs": [],
   "source": [
    "solve( simplify( gmeq.tanalpha_beta_eqn.subs({eta:gmeq.eta}) ), tan(beta) )"
   ]
  },
  {
   "cell_type": "markdown",
   "metadata": {},
   "source": [
    "### $\\tan\\beta_c$, $\\tan\\alpha_c$"
   ]
  },
  {
   "cell_type": "code",
   "execution_count": null,
   "metadata": {},
   "outputs": [],
   "source": [
    "gmeq.define_tanbeta_eqns()"
   ]
  },
  {
   "cell_type": "code",
   "execution_count": null,
   "metadata": {},
   "outputs": [],
   "source": [
    "gmeq.tanbeta_rdotxz_pz_eqn, gmeq.tanbeta_rdotxz_xiv_eqn"
   ]
  },
  {
   "cell_type": "code",
   "execution_count": null,
   "metadata": {},
   "outputs": [],
   "source": [
    "gmeq.tanbeta_alpha_eqns"
   ]
  },
  {
   "cell_type": "code",
   "execution_count": null,
   "metadata": {},
   "outputs": [],
   "source": [
    "gmeq.tanbeta_crit_eqns"
   ]
  },
  {
   "cell_type": "code",
   "execution_count": null,
   "metadata": {},
   "outputs": [],
   "source": [
    "gmeq.tanalpha_crit_eqns"
   ]
  },
  {
   "cell_type": "code",
   "execution_count": null,
   "metadata": {},
   "outputs": [],
   "source": [
    "gmeq.tanbeta_crit_eqn, gmeq.tanalpha_crit_eqn"
   ]
  },
  {
   "cell_type": "code",
   "execution_count": null,
   "metadata": {},
   "outputs": [],
   "source": [
    "([(  Eq(eta,eta_), \n",
    "           gmeq.tanbeta_crit_eqn.subs({eta:eta_}),\n",
    "           Eq(beta_crit, round(N(deg(atan(gmeq.tanbeta_crit_eqn.rhs.subs({eta:eta_})))),2)),\n",
    "           gmeq.tanalpha_crit_eqn.subs({eta:eta_}),\n",
    "           Eq(alpha_crit, round(N(deg(atan(gmeq.tanalpha_crit_eqn.rhs.subs({eta:eta_})))),2)) )\n",
    " for eta_ in [Rational(3,2),Rational(1,2),Rational(1,3),Rational(1,4)]])"
   ]
  },
  {
   "cell_type": "code",
   "execution_count": null,
   "metadata": {},
   "outputs": [],
   "source": [
    "eta_ = Rational(1,2)\n",
    "ac_ = N(deg(atan(gmeq.tanalpha_crit_eqn.rhs.subs({eta:eta_}))))\n",
    "bc_ = N(deg(atan(gmeq.tanbeta_crit_eqn.rhs.subs({eta:eta_}))))\n",
    "ac_, bc_, ac_-bc_+90, N(deg(atan(sqrt(eta_)))), N(deg(atan((eta_-1)/(2*sqrt(eta_)))))"
   ]
  },
  {
   "cell_type": "markdown",
   "metadata": {
    "heading_collapsed": true
   },
   "source": [
    "## Metric tensor"
   ]
  },
  {
   "cell_type": "code",
   "execution_count": null,
   "metadata": {
    "hidden": true
   },
   "outputs": [],
   "source": [
    "gmeq.define_g_eqns()"
   ]
  },
  {
   "cell_type": "code",
   "execution_count": null,
   "metadata": {
    "hidden": true
   },
   "outputs": [],
   "source": [
    "gmeq.gstar_varphi_pxpz_eqn"
   ]
  },
  {
   "cell_type": "code",
   "execution_count": null,
   "metadata": {
    "hidden": true
   },
   "outputs": [],
   "source": [
    "gmeq.det_gstar_varphi_pxpz_eqn"
   ]
  },
  {
   "cell_type": "code",
   "execution_count": null,
   "metadata": {
    "hidden": true
   },
   "outputs": [],
   "source": [
    "sub1 = {px:0.01,pz:-1,varphi_r:1, varphi_0:1,x_1:1,rx:0, varepsilon:0}\n",
    "sub2 = {px:1,pz:-1,varphi_r:1, varphi_0:1,x_1:1,rx:0, varepsilon:0}"
   ]
  },
  {
   "cell_type": "code",
   "execution_count": null,
   "metadata": {
    "hidden": true
   },
   "outputs": [],
   "source": [
    "gmeq.g_varphi_pxpz_eqn, gmeq.g_varphi_pxpz_eqn.subs(sub1), gmeq.g_varphi_pxpz_eqn.subs(sub2)"
   ]
  },
  {
   "cell_type": "code",
   "execution_count": null,
   "metadata": {
    "hidden": true
   },
   "outputs": [],
   "source": [
    "gmeq.gstar_eigen_varphi_pxpz[0][0], gmeq.gstar_eigen_varphi_pxpz[1][0] "
   ]
  },
  {
   "cell_type": "code",
   "execution_count": null,
   "metadata": {
    "hidden": true
   },
   "outputs": [],
   "source": [
    "[ev for ev in gmeq.gstar_eigenvalues]"
   ]
  },
  {
   "cell_type": "code",
   "execution_count": null,
   "metadata": {
    "hidden": true
   },
   "outputs": [],
   "source": [
    "rnd = lambda x: round(x,8)\n",
    "(gmeq.gstar_eigenvalues.subs(sub1)).applyfunc(rnd), (gmeq.gstar_eigenvalues.subs(sub2)).applyfunc(rnd)"
   ]
  },
  {
   "cell_type": "code",
   "execution_count": null,
   "metadata": {
    "hidden": true
   },
   "outputs": [],
   "source": [
    "gmeq.gstar_eigenvectors[0] if gmeq.gstar_eigenvectors is not None else None"
   ]
  },
  {
   "cell_type": "code",
   "execution_count": null,
   "metadata": {
    "hidden": true
   },
   "outputs": [],
   "source": [
    "gmeq.gstar_eigenvectors[1] if gmeq.gstar_eigenvectors is not None else None"
   ]
  },
  {
   "cell_type": "markdown",
   "metadata": {
    "heading_collapsed": true
   },
   "source": [
    "## Indicatrix & figuratrix"
   ]
  },
  {
   "cell_type": "code",
   "execution_count": null,
   "metadata": {
    "hidden": true
   },
   "outputs": [],
   "source": [
    "gmeq.define_idtx_fgtx_eqns()"
   ]
  },
  {
   "cell_type": "markdown",
   "metadata": {
    "hidden": true
   },
   "source": [
    "Closed-form solutions for the indicatrix & figuratrix can be found if the following is solvable in $\\cos^2\\beta$:"
   ]
  },
  {
   "cell_type": "code",
   "execution_count": null,
   "metadata": {
    "hidden": true
   },
   "outputs": [],
   "source": [
    "gmeq.pz_cosbeta_varphi_eqn if gmeq.pz_cosbeta_varphi_eqn is not None else None"
   ]
  },
  {
   "cell_type": "code",
   "execution_count": null,
   "metadata": {
    "hidden": true
   },
   "outputs": [],
   "source": [
    "expand( Eq( gmeq.pz_cosbeta_varphi_eqn.lhs*denom(gmeq.pz_cosbeta_varphi_eqn.rhs)\n",
    "               -numer(gmeq.pz_cosbeta_varphi_eqn.rhs),0 ) )"
   ]
  },
  {
   "cell_type": "code",
   "execution_count": null,
   "metadata": {
    "hidden": true
   },
   "outputs": [],
   "source": [
    "factor( gmeq.cosbetasqrd_pz_varphi_solns[0] ) \\\n",
    "    if gmeq.cosbetasqrd_pz_varphi_solns is not None else None"
   ]
  },
  {
   "cell_type": "code",
   "execution_count": null,
   "metadata": {
    "hidden": true
   },
   "outputs": [],
   "source": [
    "# cosbetasqrd_pz_varphi_solns = solve( gmeq.pz_cosbeta_varphi_eqn, cos(beta)**2 )\n",
    "# cosbetasqrd_pz_varphi_solns"
   ]
  },
  {
   "cell_type": "code",
   "execution_count": null,
   "metadata": {
    "hidden": true
   },
   "outputs": [],
   "source": [
    "# N( cosbetasqrd_pz_varphi_solns[0].subs({varphi:10,pz:-0.1}) )"
   ]
  },
  {
   "cell_type": "code",
   "execution_count": null,
   "metadata": {
    "hidden": true
   },
   "outputs": [],
   "source": [
    "factor( gmeq.fgtx_cossqrdbeta_pz_varphi_eqn ) \\\n",
    "    if gmeq.fgtx_cossqrdbeta_pz_varphi_eqn is not None else None"
   ]
  },
  {
   "cell_type": "code",
   "execution_count": null,
   "metadata": {
    "hidden": true
   },
   "outputs": [],
   "source": [
    "factor( gmeq.fgtx_tanbeta_pz_varphi_eqn  )\\\n",
    "    if gmeq.fgtx_tanbeta_pz_varphi_eqn is not None else None"
   ]
  },
  {
   "cell_type": "code",
   "execution_count": null,
   "metadata": {
    "hidden": true
   },
   "outputs": [],
   "source": [
    "gmeq.fgtx_px_pz_varphi_eqn if gmeq.fgtx_px_pz_varphi_eqn is not None else None"
   ]
  },
  {
   "cell_type": "code",
   "execution_count": null,
   "metadata": {
    "hidden": true
   },
   "outputs": [],
   "source": [
    "factor( gmeq.idtx_rdotx_pz_varphi_eqn ) if gmeq.idtx_rdotx_pz_varphi_eqn is not None \\\n",
    "                              else None"
   ]
  },
  {
   "cell_type": "code",
   "execution_count": null,
   "metadata": {
    "hidden": true
   },
   "outputs": [],
   "source": [
    "gmeq.idtx_rdotz_pz_varphi_eqn if gmeq.idtx_rdotz_pz_varphi_eqn is not None \\\n",
    "                              else None"
   ]
  },
  {
   "cell_type": "markdown",
   "metadata": {
    "heading_collapsed": true
   },
   "source": [
    "## Geodesic equations"
   ]
  },
  {
   "cell_type": "markdown",
   "metadata": {
    "heading_collapsed": true,
    "hidden": true
   },
   "source": [
    "### Preamble"
   ]
  },
  {
   "cell_type": "code",
   "execution_count": null,
   "metadata": {
    "hidden": true
   },
   "outputs": [],
   "source": [
    "gmeq.prep_geodesic_eqns(parameters=sub)"
   ]
  },
  {
   "cell_type": "code",
   "execution_count": null,
   "metadata": {
    "hidden": true
   },
   "outputs": [],
   "source": [
    "gmeq.tanalpha_rdot_eqn"
   ]
  },
  {
   "cell_type": "code",
   "execution_count": null,
   "metadata": {
    "hidden": true
   },
   "outputs": [],
   "source": [
    "gmeq.gstar_ij_tanbeta_mat if gmeq.gstar_ij_tanbeta_mat is not None else None"
   ]
  },
  {
   "cell_type": "code",
   "execution_count": null,
   "metadata": {
    "hidden": true
   },
   "outputs": [],
   "source": [
    "gmeq.tanbeta_poly_eqn"
   ]
  },
  {
   "cell_type": "code",
   "execution_count": null,
   "metadata": {
    "hidden": true
   },
   "outputs": [],
   "source": [
    "gmeq.tanbeta_eqn"
   ]
  },
  {
   "cell_type": "code",
   "execution_count": null,
   "metadata": {
    "hidden": true
   },
   "outputs": [],
   "source": [
    "gmeq.gstar_ij_tanalpha_mat[0] if gmeq.gstar_ij_tanalpha_mat is not None else None"
   ]
  },
  {
   "cell_type": "code",
   "execution_count": null,
   "metadata": {
    "hidden": true
   },
   "outputs": [],
   "source": [
    "gmeq.gstar_ij_tanalpha_mat[1] if gmeq.gstar_ij_tanalpha_mat is not None else None"
   ]
  },
  {
   "cell_type": "code",
   "execution_count": null,
   "metadata": {
    "hidden": true
   },
   "outputs": [],
   "source": [
    "gmeq.gstar_ij_tanalpha_mat[2] if gmeq.gstar_ij_tanalpha_mat is not None else None"
   ]
  },
  {
   "cell_type": "code",
   "execution_count": null,
   "metadata": {
    "hidden": true
   },
   "outputs": [],
   "source": [
    "gmeq.gstar_ij_tanalpha_mat[3] if gmeq.gstar_ij_tanalpha_mat is not None else None"
   ]
  },
  {
   "cell_type": "code",
   "execution_count": null,
   "metadata": {
    "hidden": true
   },
   "outputs": [],
   "source": [
    "gmeq.gstar_ij_mat[0] if gmeq.gstar_ij_mat is not None else None"
   ]
  },
  {
   "cell_type": "code",
   "execution_count": null,
   "metadata": {
    "hidden": true
   },
   "outputs": [],
   "source": [
    "gmeq.gstar_ij_mat[1] if gmeq.gstar_ij_mat is not None else None"
   ]
  },
  {
   "cell_type": "code",
   "execution_count": null,
   "metadata": {
    "hidden": true
   },
   "outputs": [],
   "source": [
    "gmeq.gstar_ij_mat[2] if gmeq.gstar_ij_mat is not None else None"
   ]
  },
  {
   "cell_type": "code",
   "execution_count": null,
   "metadata": {
    "hidden": true
   },
   "outputs": [],
   "source": [
    "gmeq.gstar_ij_mat[3] if gmeq.gstar_ij_mat is not None else None"
   ]
  },
  {
   "cell_type": "code",
   "execution_count": null,
   "metadata": {
    "hidden": true
   },
   "outputs": [],
   "source": [
    "gmeq.g_ij_tanalpha_mat[0] if gmeq.g_ij_tanalpha_mat is not None else None"
   ]
  },
  {
   "cell_type": "code",
   "execution_count": null,
   "metadata": {
    "hidden": true
   },
   "outputs": [],
   "source": [
    "gmeq.g_ij_tanalpha_mat[1] if gmeq.g_ij_tanalpha_mat is not None else None"
   ]
  },
  {
   "cell_type": "code",
   "execution_count": null,
   "metadata": {
    "hidden": true
   },
   "outputs": [],
   "source": [
    "gmeq.g_ij_tanalpha_mat[2] if gmeq.g_ij_tanalpha_mat is not None else None"
   ]
  },
  {
   "cell_type": "code",
   "execution_count": null,
   "metadata": {
    "hidden": true
   },
   "outputs": [],
   "source": [
    "gmeq.g_ij_tanalpha_mat[3] if gmeq.g_ij_tanalpha_mat is not None else None"
   ]
  },
  {
   "cell_type": "code",
   "execution_count": null,
   "metadata": {
    "hidden": true
   },
   "outputs": [],
   "source": [
    "gmeq.g_ij_mat[0] if gmeq.g_ij_mat is not None else None"
   ]
  },
  {
   "cell_type": "code",
   "execution_count": null,
   "metadata": {
    "hidden": true
   },
   "outputs": [],
   "source": [
    "gmeq.g_ij_mat[1] if gmeq.g_ij_mat is not None else None"
   ]
  },
  {
   "cell_type": "code",
   "execution_count": null,
   "metadata": {
    "hidden": true
   },
   "outputs": [],
   "source": [
    "gmeq.g_ij_mat[2] if gmeq.g_ij_mat is not None else None"
   ]
  },
  {
   "cell_type": "code",
   "execution_count": null,
   "metadata": {
    "hidden": true
   },
   "outputs": [],
   "source": [
    "gmeq.g_ij_mat[3] if gmeq.g_ij_mat is not None else None"
   ]
  },
  {
   "cell_type": "markdown",
   "metadata": {
    "heading_collapsed": true,
    "hidden": true
   },
   "source": [
    "### Main"
   ]
  },
  {
   "cell_type": "code",
   "execution_count": null,
   "metadata": {
    "hidden": true
   },
   "outputs": [],
   "source": [
    "gmeq.define_geodesic_eqns(parameters=sub)"
   ]
  },
  {
   "cell_type": "code",
   "execution_count": null,
   "metadata": {
    "hidden": true
   },
   "outputs": [],
   "source": [
    "gmeq.geodesic_eqns[0:2] if gmeq.geodesic_eqns is not None else None"
   ]
  },
  {
   "cell_type": "code",
   "execution_count": null,
   "metadata": {
    "hidden": true
   },
   "outputs": [],
   "source": [
    "factor(gmeq.geodesic_eqns[2]) if gmeq.geodesic_eqns is not None else None"
   ]
  },
  {
   "cell_type": "code",
   "execution_count": null,
   "metadata": {
    "hidden": true
   },
   "outputs": [],
   "source": [
    "factor(gmeq.geodesic_eqns[3]) if gmeq.geodesic_eqns is not None else None"
   ]
  },
  {
   "cell_type": "code",
   "execution_count": null,
   "metadata": {
    "hidden": true
   },
   "outputs": [],
   "source": [
    "([eqn_.subs({rdotx:0.1,rdotz:0.01*sy.sign(gmeq.eta)}) for eqn_ in gmeq.geodesic_eqns[2:4]] \\\n",
    "    if gmeq.geodesic_eqns is not None else None)"
   ]
  },
  {
   "cell_type": "markdown",
   "metadata": {
    "heading_collapsed": true
   },
   "source": [
    "## Initial conditions"
   ]
  },
  {
   "cell_type": "code",
   "execution_count": null,
   "metadata": {
    "hidden": true
   },
   "outputs": [],
   "source": [
    "gmeq.prep_ibc_eqns()"
   ]
  },
  {
   "cell_type": "code",
   "execution_count": null,
   "metadata": {
    "hidden": true
   },
   "outputs": [],
   "source": [
    "eqns(['pz0_xiv0_eqn','pzpx_unity_eqn'])"
   ]
  },
  {
   "cell_type": "code",
   "execution_count": null,
   "metadata": {
    "hidden": true
   },
   "outputs": [],
   "source": [
    "gmeq.define_ibc_eqns()"
   ]
  },
  {
   "cell_type": "code",
   "execution_count": null,
   "metadata": {
    "hidden": true
   },
   "outputs": [],
   "source": [
    "[[key for key in gmeq.boundary_eqns[bc_type].keys()]\n",
    "   for bc_type in gmeq.boundary_eqns.keys()]"
   ]
  },
  {
   "cell_type": "code",
   "execution_count": null,
   "metadata": {
    "hidden": true
   },
   "outputs": [],
   "source": [
    "[[value for value in gmeq.boundary_eqns[bc_type].values()]\n",
    "  for bc_type in gmeq.boundary_eqns.keys()]"
   ]
  },
  {
   "cell_type": "code",
   "execution_count": null,
   "metadata": {
    "hidden": true
   },
   "outputs": [],
   "source": [
    "gmeq.set_ibc_eqns()"
   ]
  },
  {
   "cell_type": "code",
   "execution_count": null,
   "metadata": {
    "hidden": true
   },
   "outputs": [],
   "source": [
    "eqns(['rz_initial_eqn','tanbeta_initial_eqn'])"
   ]
  },
  {
   "cell_type": "code",
   "execution_count": null,
   "metadata": {
    "hidden": true
   },
   "outputs": [],
   "source": [
    "gmeq.p_initial_eqn"
   ]
  },
  {
   "cell_type": "code",
   "execution_count": null,
   "metadata": {
    "hidden": true
   },
   "outputs": [],
   "source": [
    "eqns(['px_initial_eqn','pz_initial_eqn'])"
   ]
  },
  {
   "cell_type": "markdown",
   "metadata": {},
   "source": [
    "## Misc"
   ]
  },
  {
   "cell_type": "code",
   "execution_count": null,
   "metadata": {},
   "outputs": [],
   "source": [
    "x = symbols('x',  real=True)\n",
    "y = symbols('y',  real=True)\n",
    "b = symbols('b',  real=True)"
   ]
  },
  {
   "cell_type": "code",
   "execution_count": null,
   "metadata": {},
   "outputs": [],
   "source": [
    "F_eqn = Eq(F, (x**2+y**2)/(3*sqrt(x**2+y**2)+x)   )\n",
    "F_eqn"
   ]
  },
  {
   "cell_type": "code",
   "execution_count": null,
   "metadata": {},
   "outputs": [],
   "source": [
    "g_eqn = Eq(g, simplify(\n",
    "    Matrix([[ sy.diff(F_eqn.rhs,x,x), sy.diff(F_eqn.rhs,x,y) ],\n",
    "            [ sy.diff(F_eqn.rhs,y,x), sy.diff(F_eqn.rhs,y,y) ]]) ))\n",
    "g_eqn"
   ]
  },
  {
   "cell_type": "code",
   "execution_count": null,
   "metadata": {},
   "outputs": [],
   "source": [
    "simplify( g_eqn.rhs[0]*g_eqn.rhs[3] - g_eqn.rhs[1]*g_eqn.rhs[2] )"
   ]
  },
  {
   "cell_type": "code",
   "execution_count": null,
   "metadata": {},
   "outputs": [],
   "source": [
    "b_mat = simplify(\n",
    "    Matrix([[ b**3, 1 ],\n",
    "            [ 1, 2*b**3+3*b ]]) )\n",
    "b_mat, b_mat.subs({b:sqrt(2)/2}), b_mat.det().subs({b:sqrt(2)/2})"
   ]
  },
  {
   "cell_type": "code",
   "execution_count": null,
   "metadata": {},
   "outputs": [],
   "source": [
    "b_mat_eigenvals = [simplify(ev_[0]) for ev_ in (b_mat.eigenvects())]\n",
    "b_mat_eigenvals"
   ]
  },
  {
   "cell_type": "code",
   "execution_count": null,
   "metadata": {},
   "outputs": [],
   "source": [
    "[ev_.subs({b:sqrt(2)/2}) for ev_ in b_mat_eigenvals]"
   ]
  },
  {
   "cell_type": "code",
   "execution_count": null,
   "metadata": {},
   "outputs": [],
   "source": []
  }
 ],
 "metadata": {
  "hide_input": false,
  "kernelspec": {
   "display_name": "Python 3",
   "language": "python",
   "name": "python3"
  },
  "language_info": {
   "codemirror_mode": {
    "name": "ipython",
    "version": 3
   },
   "file_extension": ".py",
   "mimetype": "text/x-python",
   "name": "python",
   "nbconvert_exporter": "python",
   "pygments_lexer": "ipython3",
   "version": "3.8.12"
  }
 },
 "nbformat": 4,
 "nbformat_minor": 2
}
