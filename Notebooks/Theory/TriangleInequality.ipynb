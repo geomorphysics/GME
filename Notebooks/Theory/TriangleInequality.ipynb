{
 "cells": [
  {
   "cell_type": "markdown",
   "metadata": {},
   "source": [
    "# Summary"
   ]
  },
  {
   "cell_type": "markdown",
   "metadata": {},
   "source": [
    "Evaluate whether the fundamental function $\\mathcal{F}$ obeys the triangular inequality (subadditivity): if not, we're dealing with a semimetric space. See, e.g., http://wiki.gis.com/wiki/index.php/Metric_(mathematics). \n",
    "\n",
    "Note that the term \"pseudometric\" may also apply, although according to this linked article it applies instead to distance functions that can be zero even if the points in question are not coincident."
   ]
  },
  {
   "cell_type": "markdown",
   "metadata": {},
   "source": [
    "### Parameter files"
   ]
  },
  {
   "cell_type": "code",
   "execution_count": 1,
   "metadata": {},
   "outputs": [],
   "source": [
    "# Specify the parameter files for the job\n",
    "import os\n",
    "if 'GME_NB_PR' not in os.environ.keys():\n",
    "    pr_filenames = ['TriangleInequality_sinbeta_eta1p5']\n",
    "    # pr_filenames = ['TriangleInequality_sinbeta_eta0p5']\n",
    "else:\n",
    "    pr_filenames = eval(os.environ['GME_NB_PR'])"
   ]
  },
  {
   "cell_type": "markdown",
   "metadata": {},
   "source": [
    "### Logging"
   ]
  },
  {
   "cell_type": "code",
   "execution_count": 2,
   "metadata": {},
   "outputs": [],
   "source": [
    "from importlib import reload\n",
    "import logging\n",
    "reload(logging)\n",
    "logging.basicConfig(level=logging.INFO, format=f'%(message)s')"
   ]
  },
  {
   "cell_type": "markdown",
   "metadata": {},
   "source": [
    "### Modules"
   ]
  },
  {
   "cell_type": "code",
   "execution_count": 3,
   "metadata": {},
   "outputs": [
    {
     "name": "stdout",
     "output_type": "stream",
     "text": [
      "Deducing working path from GME package location = /Users/colinstark/Projects/GME\n"
     ]
    },
    {
     "data": {
      "text/plain": [
       "('/Users/colinstark/Projects/GME/Parameters/Theory',\n",
       " ['TriangleInequality_sinbeta_eta1p5'])"
      ]
     },
     "execution_count": 3,
     "metadata": {},
     "output_type": "execute_result"
    }
   ],
   "source": [
    "# Import Numpy\n",
    "import numpy as np\n",
    "\n",
    "# Import SymPy and set up latex inline & pretty dict printing\n",
    "from sympy import (\n",
    "    Eq,\n",
    "    lambdify,\n",
    "    sin,\n",
    "    cos,\n",
    "    atan,\n",
    "    Rational,\n",
    "    sqrt,\n",
    "    solve,\n",
    "    N,\n",
    "    im,\n",
    "    init_printing,\n",
    "    trigsimp,\n",
    ")\n",
    "\n",
    "# Set up latex inline printing\n",
    "init_printing(use_unicode=True, pretty_print=True, wrap_line=True)\n",
    "\n",
    "# Pretty dict printing etc\n",
    "from pprint import PrettyPrinter\n",
    "\n",
    "pp = PrettyPrinter(indent=4).pprint\n",
    "\n",
    "# Import Geomorphysics library functions, classes\n",
    "from gmplib.utils import e2d\n",
    "from gmplib.save import create_directories, export_plots\n",
    "from gmplib.parameters import import_parameters, Parameters\n",
    "\n",
    "# Import GME classes and do a wildcard (!) import of all GME symbol definitions\n",
    "from gme.core.symbols import *\n",
    "from gme.core.equations import Equations\n",
    "from gme.plot.triangle_inequality import TriangleInequality\n",
    "\n",
    "# Decide where we're working and thus where to find the job parameter files\n",
    "#   -  use the GME_WORKING_PATH environment variable if it's defined\n",
    "#   -  otherwise, deduce that we're working in the GME notebook dir\n",
    "if \"GME_WORKING_PATH\" in os.environ.keys():\n",
    "    working_path = os.environ[\"GME_WORKING_PATH\"]\n",
    "    print(\n",
    "        f\"Fetching working path from environment variable GME_WORKING_PATH = {working_path}\"\n",
    "    )\n",
    "else:\n",
    "    from gmplib.utils import get_pkg_path\n",
    "    import gme\n",
    "\n",
    "    working_path = get_pkg_path(gme)\n",
    "    print(f\"Deducing working path from GME package location = {working_path}\")\n",
    "    del gme\n",
    "\n",
    "# Set the path to the parameter files for this nb and report\n",
    "pr_path = os.path.join(working_path, \"Parameters\", \"Theory\")\n",
    "pr_path, pr_filenames\n"
   ]
  },
  {
   "cell_type": "markdown",
   "metadata": {
    "heading_collapsed": true
   },
   "source": [
    "### Parameter parsing"
   ]
  },
  {
   "cell_type": "code",
   "execution_count": 4,
   "metadata": {
    "hidden": true
   },
   "outputs": [
    {
     "name": "stderr",
     "output_type": "stream",
     "text": [
      "gmplib.parameters.read_json_file: /Users/colinstark/Projects/GME/Parameters/defaults.json\n",
      "gmplib.parameters.read_json_file: /Users/colinstark/Projects/GME/Parameters/Theory/TriangleInequality_sinbeta_eta1p5.json\n",
      "gmplib.parameters.ParametersNestedGroup: p.job\n",
      "gmplib.parameters.ParametersNestedGroup: p.model\n",
      "gmplib.parameters.ParametersNestedGroup: p.solve\n",
      "gmplib.parameters.ParametersNestedGroup: p.resolve\n",
      "gmplib.parameters.ParametersNestedGroup: p.plot\n",
      "gmplib.parameters.ParametersNestedGroup: p.save\n"
     ]
    },
    {
     "name": "stdout",
     "output_type": "stream",
     "text": [
      "{   'debug': False,\n",
      "    'group_name': 'Theory',\n",
      "    'short_name': 'triangle_inequality',\n",
      "    'subtitle': '',\n",
      "    'title': 'Triangle inequality testing, eta=3/2, sin(beta) xi model',\n",
      "    'verbose': True,\n",
      "    'very_verbose': False}\n",
      "{   'Ci': pi/45,\n",
      "    'Lc': 10000,\n",
      "    'beta_type': 'sin',\n",
      "    'do_geodesic': False,\n",
      "    'eta': 3/2,\n",
      "    'h_0': 1/2,\n",
      "    'ibc_type': 'concave-up',\n",
      "    'kappa_h': 3/2,\n",
      "    'mu': 1/4,\n",
      "    't_xiv0_list': None,\n",
      "    'varepsilonhat': 1/100,\n",
      "    'varphi_0': 2.641e-05,\n",
      "    'varphi_type': 'ramp',\n",
      "    'x_h': 1,\n",
      "    'x_sigma': 0.01,\n",
      "    'xiv_0': None}\n",
      "{   'choice': 'Hamilton',\n",
      "    'do_dense': True,\n",
      "    'do_geodesic': True,\n",
      "    'do_ic': False,\n",
      "    'do_ip': False,\n",
      "    'do_vb': False,\n",
      "    'ic_res': 31,\n",
      "    'ip_res': 101,\n",
      "    'method': {   'Hamilton': 'DOP853',\n",
      "                  'choices': ['RK45', 'RK23', 'Radau', 'DOP853', 'LSODA'],\n",
      "                  'geodesic': 'LSODA'},\n",
      "    'ray_n_t': 301,\n",
      "    't_distribn': 2,\n",
      "    't_end': 0.01,\n",
      "    'vb_res': 101}\n",
      "{   'do_eliminate_caustics': True,\n",
      "    'n_isochrones': 30,\n",
      "    'spline_order': 3,\n",
      "    't_isochrone_max': 0.01,\n",
      "    'tolerance': None}\n",
      "{   'ang_x_limits': None,\n",
      "    'ang_y_limits': None,\n",
      "    'angdisp_x_limits': None,\n",
      "    'angdisp_y_limits': None,\n",
      "    'aniso_arrow_exponent': 0.9,\n",
      "    'aniso_arrow_size': 0.5,\n",
      "    'aniso_n_points': 45,\n",
      "    'aniso_y_limits': None,\n",
      "    'big_fig_size': [10, 7],\n",
      "    'dimx_limits': [-0.03, 1.03],\n",
      "    'dimx_limits_zoom': [0.2, 0.3],\n",
      "    'dimz_limits': [-0.01, 0.6],\n",
      "    'dimz_limits_zoom': [-0.25, -0.23],\n",
      "    'do_etaxi_labeling': True,\n",
      "    'do_extra_annotations': False,\n",
      "    'do_huygens_wavelets': False,\n",
      "    'do_profile_extra': False,\n",
      "    'do_profile_schematic': False,\n",
      "    'do_pub_labeling': False,\n",
      "    'do_ray_conjugacy': False,\n",
      "    'fgtx_pz_max': 100000.0,\n",
      "    'fgtx_pz_min': 0.001,\n",
      "    'fig_size': [8, 8],\n",
      "    'idtx_logpolar_y_limits': [-2, 1],\n",
      "    'idtx_n_points': 100,\n",
      "    'idtx_pz_max': 100000.0,\n",
      "    'idtx_pz_min': 0.0001,\n",
      "    'idtx_varphi_list': [0.1, 0.15, 0.5, 1, 1.3, 2, 3],\n",
      "    'isochrone_subsetting': 1,\n",
      "    'medium_fig_size': [7, 6],\n",
      "    'misc_n_points': 101,\n",
      "    'n_rays': 4,\n",
      "    'profile_cusp_speed_legend_loc': None,\n",
      "    'profile_cusp_speed_y_limits': [-10, 30],\n",
      "    'profile_det_eta_label_xy': [0.5, 0.5],\n",
      "    'profile_eval_eta_label_xy': None,\n",
      "    'profile_evec_eta_label_xy': None,\n",
      "    'profile_evec_legend_loc': 'upper left',\n",
      "    'profile_n_points': 101,\n",
      "    'profile_ray_n_points': 121,\n",
      "    'profile_subsetting': 8,\n",
      "    'pub_label_posns': {   'alpha_beta': [0.88, 0.3],\n",
      "                           'angular_disparity': [0.15, 0.15],\n",
      "                           'etaxi_label': [0.65, 0.85],\n",
      "                           'profile_angular_disparity': [0.6, 0.35],\n",
      "                           'profile_aniso': 'None',\n",
      "                           'profile_beta': [0.93, 0.2],\n",
      "                           'profile_h_ray': [0.85, 0.7],\n",
      "                           'profile_h_rays': [0.93, 0.35],\n",
      "                           'profile_v': 'None',\n",
      "                           'profile_vdot': 'None',\n",
      "                           'profile_vxz': 'None',\n",
      "                           'profile_xi': 'None',\n",
      "                           'profile_xihorizontal': 'None',\n",
      "                           'profile_xivertical': 'None'},\n",
      "    'pub_labels': {   'alpha_beta': '(b)',\n",
      "                      'angular_disparity': '(b)',\n",
      "                      'profile_angular_disparity': '(b)',\n",
      "                      'profile_aniso': '(b)',\n",
      "                      'profile_beta': '(b)',\n",
      "                      'profile_h_ray': '(c)',\n",
      "                      'profile_h_rays': '(b)',\n",
      "                      'profile_v': '',\n",
      "                      'profile_vdot': '',\n",
      "                      'profile_vxz': '(c)',\n",
      "                      'profile_xi': '(a)',\n",
      "                      'profile_xihorizontal': '',\n",
      "                      'profile_xivertical': '(d)'},\n",
      "    'ray_acceln_legend_loc': 'lower right',\n",
      "    'ray_eta_xy': [0.85, 0.15],\n",
      "    'ray_n_points': 26,\n",
      "    'ray_x_limits': [-0.02, 1.02],\n",
      "    'ray_y_limits': None,\n",
      "    'rays_n_points': 40,\n",
      "    'small_fig_size': [7, 3]}\n",
      "{   'figs_format': ['jpg', 'pdf'],\n",
      "    'figs_options': {'bbox_inches': 'tight', 'dpi': 100},\n",
      "    'figs_path': ['..', '..', 'Plots']}\n"
     ]
    }
   ],
   "source": [
    "parameters_dict,_ = import_parameters(pr_path, [os.path.join('..','defaults'), *pr_filenames])\n",
    "evaluations = {}\n",
    "evaluations_sequence = ()\n",
    "pr = Parameters(parameters_dict, evaluations=evaluations, sequence=evaluations_sequence)\n",
    "[pp(psubobj.__dict__) for psubobj in (pr.job, pr.model, pr.solve, pr.resolve, pr.plot, pr.save)];"
   ]
  },
  {
   "cell_type": "code",
   "execution_count": 5,
   "metadata": {
    "hidden": true
   },
   "outputs": [],
   "source": [
    "subexp = {\n",
    "    eta: pr.model.eta,\n",
    "    mu: pr.model.mu\n",
    "}\n",
    "sub = {\n",
    "        Ci: pr.model.Ci, \n",
    "        Lc: pr.model.Lc, \n",
    "        varepsilonhat: pr.model.varepsilonhat, \n",
    "        varphi_0: pr.model.varphi_0,\n",
    "        xiv_0: pr.model.xiv_0,\n",
    "#         kappa_h: pr.model.kappa_h,\n",
    "#         h_0: pr.model.h_0,\n",
    "#         x_sigma: pr.model.x_sigma,\n",
    "#         x_h: pr.model.x_h\n",
    "}\n"
   ]
  },
  {
   "cell_type": "code",
   "execution_count": 6,
   "metadata": {},
   "outputs": [
    {
     "data": {
      "image/png": "[encoded data removed]",
      "text/latex": [
       "$\\displaystyle \\left( \\eta = \\frac{3}{2}, \\  \\mu = \\frac{1}{4}, \\  \\frac{\\mu}{\\eta} = \\frac{1}{6}\\right)$"
      ],
      "text/plain": [
       "⎛                       \\mu       ⎞\n",
       "⎜\\eta = 3/2, \\mu = 1/4, ──── = 1/6⎟\n",
       "⎝                       \\eta      ⎠"
      ]
     },
     "execution_count": 6,
     "metadata": {},
     "output_type": "execute_result"
    }
   ],
   "source": [
    "Eq(eta,pr.model.eta), Eq(mu,pr.model.mu), Eq(mu/eta,pr.model.mu/pr.model.eta)"
   ]
  },
  {
   "cell_type": "code",
   "execution_count": 7,
   "metadata": {},
   "outputs": [
    {
     "data": {
      "text/plain": [
       "{\\mathsf{Ci}: pi/45,\n",
       " L_\\mathrm{c}: 10000,\n",
       " \\hat{\\varepsilon}: 1/100,\n",
       " \\varphi_0: 2.641e-05,\n",
       " \\xi^{\\downarrow_{0}}: None}"
      ]
     },
     "execution_count": 7,
     "metadata": {},
     "output_type": "execute_result"
    }
   ],
   "source": [
    "sub"
   ]
  },
  {
   "cell_type": "markdown",
   "metadata": {},
   "source": [
    "# Theory"
   ]
  },
  {
   "cell_type": "markdown",
   "metadata": {},
   "source": [
    "### Basics"
   ]
  },
  {
   "cell_type": "code",
   "execution_count": 8,
   "metadata": {
    "scrolled": false
   },
   "outputs": [
    {
     "name": "stderr",
     "output_type": "stream",
     "text": [
      "gme.core.equations.Equations\n",
      "gme.core.equations.EquationsMixedIn\n",
      "gme.core.equations.EquationsBase\n",
      "gme.core.rp.define_p_eqns\n",
      "gme.core.rp.define_r_eqns\n",
      "gme.core.xi.define_xi_eqns\n",
      "gme.core.xi.define_xi_model_eqn\n",
      "gme.core.xi.define_xi_related_eqns\n",
      "gme.core.varphi.define_varphi_model_eqns\n",
      "gme.core.varphi.define_varphi_related_eqns\n",
      "gme.core.fundamental.define_Fstar_eqns\n",
      "gme.core.fundamental.define_H_eqns\n",
      "gme.core.hamiltons.define_rdot_eqns\n",
      "gme.core.hamiltons.define_pdot_eqns\n",
      "gme.core.hamiltons.define_Hamiltons_eqns\n",
      "gme.core.ndim.nondimensionalize\n",
      "gme.core.ndim.define_nodimensionalized_Hamiltons_eqns\n",
      "gme.core.profile.define_z_eqns\n",
      "gme.core.angles.define_tanalpha_eqns\n",
      "gme.core.angles.define_tanbeta_eqns\n",
      "gme.core.angles.define_psi_eqns\n",
      "gme.core.metrictensor.define_g_eqns\n",
      "gme.core.pxpoly.define_px_poly_eqn (ndim=False)\n",
      "gme.core.pxpoly.define_px_poly_eqn (ndim=True)\n"
     ]
    }
   ],
   "source": [
    "gmeq = Equations( eta_=pr.model.eta, \n",
    "                  mu_=pr.model.mu, \n",
    "                  beta_type=pr.model.beta_type, \n",
    "                  varphi_type=pr.model.varphi_type, \n",
    "#                   ibc_type=pr.model.ibc_type,\n",
    "                  parameters=sub, \n",
    "                  do_raw=False )"
   ]
  },
  {
   "cell_type": "code",
   "execution_count": 9,
   "metadata": {},
   "outputs": [
    {
     "data": {
      "text/plain": [
       "'triangle_inequality_sinbeta_eta1p5'"
      ]
     },
     "execution_count": 9,
     "metadata": {},
     "output_type": "execute_result"
    }
   ],
   "source": [
    "prefix = ('_').join([pr.job.short_name, gmeq.beta_type+'beta'])\n",
    "# prefix = ('_').join([pr.job.short_name, gmeq.beta_type+'beta', gmeq.varphi_type.replace('-','')])\n",
    "\n",
    "suffix = f'_eta{float(N(gmeq.eta_))}'\n",
    "# suffix += f'_ratio{ float(sy.N(gmeq.mu/gmeq.eta)):0.2f}' if gmeq.mu/gmeq.eta==Rational(1,3) \\\n",
    "#                                     else f'_ratio{ float(sy.N(gmeq.mu/gmeq.eta)):0.1f}'\n",
    "# suffix += f'_xiv{float(sy.N(pr.model.xiv_0)):1.0f}'\n",
    "# suffix = (suffix if pr.model.varphi_type=='ramp' \\\n",
    "#             else suffix+f'_xh{float(gmes.parameters[x_h]):1.1f}').replace('.','p')\n",
    "\n",
    "job_name = prefix+suffix.replace('.','p')\n",
    "job_name"
   ]
  },
  {
   "cell_type": "markdown",
   "metadata": {},
   "source": [
    "### Lagrangian & related"
   ]
  },
  {
   "cell_type": "code",
   "execution_count": 10,
   "metadata": {},
   "outputs": [],
   "source": [
    "import sympy as sy\n",
    "s = sy.symbols(r's',  real=True)\n",
    "vx = sy.symbols(r'x',  real=True)\n",
    "vz = sy.symbols(r'z',  real=True)\n",
    "v = sy.symbols(r'v',  real=True, positive=True)"
   ]
  },
  {
   "cell_type": "markdown",
   "metadata": {},
   "source": [
    "Grab closed-form Lagrangian for $\\eta=1/2$ and $\\alpha<\\alpha_{\\mathrm{ext}}$."
   ]
  },
  {
   "cell_type": "code",
   "execution_count": 11,
   "metadata": {},
   "outputs": [
    {
     "data": {
      "image/png": "[encoded data removed]",
      "text/latex": [
       "$\\displaystyle \\left[ \\mathcal{L} = \\frac{\\sqrt{2} \\left(x^{2} - x \\sqrt{x^{2} - 24 z^{2}} - 4 z^{2}\\right)^{\\frac{5}{2}}}{2 \\varphi^{2} \\left(x - \\sqrt{x^{2} - 24 z^{2}}\\right)^{3}}, \\  \\mathcal{L} = \\frac{\\sqrt{2} \\left(x^{2} + x \\sqrt{x^{2} - 24 z^{2}} - 4 z^{2}\\right)^{\\frac{5}{2}}}{2 \\varphi^{2} \\left(x + \\sqrt{x^{2} - 24 z^{2}}\\right)^{3}}\\right]$"
      ],
      "text/plain": [
       "⎡                                                5/2                          \n",
       "⎢                 ⎛          ____________       ⎞                      ⎛      \n",
       "⎢                 ⎜ 2       ╱  2       2       2⎟                      ⎜ 2    \n",
       "⎢              √2⋅⎝x  - x⋅╲╱  x  - 24⋅z   - 4⋅z ⎠                   √2⋅⎝x  + x\n",
       "⎢\\mathcal{L} = ─────────────────────────────────────, \\mathcal{L} = ──────────\n",
       "⎢                                                3                            \n",
       "⎢                           ⎛       ____________⎞                             \n",
       "⎢                         2 ⎜      ╱  2       2 ⎟                             \n",
       "⎣                2⋅\\varphi ⋅⎝x - ╲╱  x  - 24⋅z  ⎠                     2⋅\\varph\n",
       "\n",
       "                        5/2⎤\n",
       "    ____________       ⎞   ⎥\n",
       "   ╱  2       2       2⎟   ⎥\n",
       "⋅╲╱  x  - 24⋅z   - 4⋅z ⎠   ⎥\n",
       "───────────────────────────⎥\n",
       "                        3  ⎥\n",
       "   ⎛       ____________⎞   ⎥\n",
       " 2 ⎜      ╱  2       2 ⎟   ⎥\n",
       "i ⋅⎝x + ╲╱  x  - 24⋅z  ⎠   ⎦"
      ]
     },
     "execution_count": 11,
     "metadata": {},
     "output_type": "execute_result"
    }
   ],
   "source": [
    "if gmeq.eta_==Rational(1,2):\n",
    "    L_compact_eqn = Eq(L, \n",
    "        -s*(sqrt(2)*(vx**2-s*vx*sqrt(vx**2-8*vz**2)+4*vz**2)**Rational(3,2)\n",
    "            /(4*varphi**2*(-s*vx+sqrt(vx**2-8*vz**2)))) \n",
    "    )\n",
    "elif gmeq.eta_==Rational(3,2):\n",
    "    L_compact_eqn = Eq(L, \n",
    "        (sqrt(2)*(vx**2-s*vx*sqrt(vx**2-24*vz**2)-4*vz**2)**Rational(5,2)\n",
    "            /(2*varphi**2*(vx-s*sqrt(vx**2-24*vz**2))**3)) \n",
    "    )\n",
    "else:\n",
    "    print(\"Not implemented\")\n",
    "    \n",
    "L_compact_eqns = [\n",
    "    L_compact_eqn.subs({s:s_}) for s_ in (+1,-1)\n",
    "]\n",
    "F_compact_eqns = [\n",
    "    Eq(F, (sqrt(L*2)).subs(e2d(L_compact_eqn_)))\n",
    "    for L_compact_eqn_ in L_compact_eqns\n",
    "]\n",
    "del L_compact_eqn\n",
    "L_compact_eqns"
   ]
  },
  {
   "cell_type": "code",
   "execution_count": 12,
   "metadata": {},
   "outputs": [],
   "source": [
    "if gmeq.eta_==Rational(1,2):\n",
    "    vx_,vz_ = 0.9,-0.2978\n",
    "    px_,pz_ = 0.6630963505914919,-1.354973165538337\n",
    "else:\n",
    "    vx_,vz_ = 1.05462010732076, 0.214847320357639\n",
    "    px_,pz_ = 1.15,-1.\n",
    "varphi_ = 1"
   ]
  },
  {
   "cell_type": "code",
   "execution_count": 13,
   "metadata": {},
   "outputs": [
    {
     "data": {
      "image/png": "[encoded data removed]",
      "text/latex": [
       "$\\displaystyle \\left( 1.05462010732076, \\  0.214847320357639, \\  0.998942533069276\\right)$"
      ],
      "text/plain": [
       "(1.05462010732076, 0.214847320357639, 0.998942533069276)"
      ]
     },
     "execution_count": 13,
     "metadata": {},
     "output_type": "execute_result"
    }
   ],
   "source": [
    "vx_,vz_, F_compact_eqns[1].rhs.subs({varphi:1, vx:vx_, vz:vz_}).n()"
   ]
  },
  {
   "cell_type": "code",
   "execution_count": 14,
   "metadata": {},
   "outputs": [
    {
     "data": {
      "image/png": "[encoded data removed]",
      "text/latex": [
       "$\\displaystyle \\left[ \\frac{1}{2} = \\frac{\\sqrt{2} \\left(x^{2} - x \\sqrt{x^{2} - 24 z^{2}} - 4 z^{2}\\right)^{\\frac{5}{2}}}{2 \\left(x - \\sqrt{x^{2} - 24 z^{2}}\\right)^{3}}, \\  \\frac{1}{2} = \\frac{\\sqrt{2} \\left(x^{2} + x \\sqrt{x^{2} - 24 z^{2}} - 4 z^{2}\\right)^{\\frac{5}{2}}}{2 \\left(x + \\sqrt{x^{2} - 24 z^{2}}\\right)^{3}}\\right]$"
      ],
      "text/plain": [
       "⎡                                        5/2                                  \n",
       "⎢         ⎛          ____________       ⎞              ⎛          ____________\n",
       "⎢         ⎜ 2       ╱  2       2       2⎟              ⎜ 2       ╱  2       2 \n",
       "⎢      √2⋅⎝x  - x⋅╲╱  x  - 24⋅z   - 4⋅z ⎠           √2⋅⎝x  + x⋅╲╱  x  - 24⋅z  \n",
       "⎢1/2 = ─────────────────────────────────────, 1/2 = ──────────────────────────\n",
       "⎢                                    3                                        \n",
       "⎢               ⎛       ____________⎞                        ⎛       _________\n",
       "⎢               ⎜      ╱  2       2 ⎟                        ⎜      ╱  2      \n",
       "⎣             2⋅⎝x - ╲╱  x  - 24⋅z  ⎠                      2⋅⎝x + ╲╱  x  - 24⋅\n",
       "\n",
       "        5/2⎤\n",
       "       ⎞   ⎥\n",
       "      2⎟   ⎥\n",
       " - 4⋅z ⎠   ⎥\n",
       "───────────⎥\n",
       "    3      ⎥\n",
       "___⎞       ⎥\n",
       " 2 ⎟       ⎥\n",
       "z  ⎠       ⎦"
      ]
     },
     "execution_count": 14,
     "metadata": {},
     "output_type": "execute_result"
    }
   ],
   "source": [
    "vx_vz_implicit_eqns = [\n",
    "    L_compact_eqn_.subs({L:Rational(1,2), varphi:1})\n",
    "    for L_compact_eqn_ in L_compact_eqns\n",
    "]\n",
    "vx_vz_implicit_eqns"
   ]
  },
  {
   "cell_type": "code",
   "execution_count": 15,
   "metadata": {},
   "outputs": [
    {
     "data": {
      "image/png": "[encoded data removed]",
      "text/latex": [
       "$\\displaystyle \\left[ r = \\sqrt[4]{2} \\sqrt{\\frac{- 7 \\sqrt{25 \\cos^{2}{\\left(\\alpha \\right)} - 24} \\cos^{2}{\\left(\\alpha \\right)} + 6 \\sqrt{25 \\cos^{2}{\\left(\\alpha \\right)} - 24} + 19 \\cos^{3}{\\left(\\alpha \\right)} - 18 \\cos{\\left(\\alpha \\right)}}{\\sqrt{- \\sqrt{25 \\cos^{2}{\\left(\\alpha \\right)} - 24} \\cos{\\left(\\alpha \\right)} + 5 \\cos^{2}{\\left(\\alpha \\right)} - 4} \\left(- 5 \\sqrt{25 \\cos^{2}{\\left(\\alpha \\right)} - 24} \\cos^{3}{\\left(\\alpha \\right)} + 4 \\sqrt{25 \\cos^{2}{\\left(\\alpha \\right)} - 24} \\cos{\\left(\\alpha \\right)} + 25 \\cos^{4}{\\left(\\alpha \\right)} - 32 \\cos^{2}{\\left(\\alpha \\right)} + 8\\right)}}, \\  r = \\sqrt[4]{2} \\sqrt{\\frac{7 \\sqrt{25 \\cos^{2}{\\left(\\alpha \\right)} - 24} \\cos^{2}{\\left(\\alpha \\right)} - 6 \\sqrt{25 \\cos^{2}{\\left(\\alpha \\right)} - 24} + 19 \\cos^{3}{\\left(\\alpha \\right)} - 18 \\cos{\\left(\\alpha \\right)}}{\\sqrt{\\sqrt{25 \\cos^{2}{\\left(\\alpha \\right)} - 24} \\cos{\\left(\\alpha \\right)} + 5 \\cos^{2}{\\left(\\alpha \\right)} - 4} \\cdot \\left(5 \\sqrt{25 \\cos^{2}{\\left(\\alpha \\right)} - 24} \\cos^{3}{\\left(\\alpha \\right)} - 4 \\sqrt{25 \\cos^{2}{\\left(\\alpha \\right)} - 24} \\cos{\\left(\\alpha \\right)} + 25 \\cos^{4}{\\left(\\alpha \\right)} - 32 \\cos^{2}{\\left(\\alpha \\right)} + 8\\right)}}\\right]$"
      ],
      "text/plain": [
       "⎡                   __________________________________________________________\n",
       "⎢                  ╱                                                   _______\n",
       "⎢                 ╱                                                   ╱       \n",
       "⎢    4 ___       ╱                                              - 7⋅╲╱  25⋅cos\n",
       "⎢r = ╲╱ 2 ⋅     ╱    ─────────────────────────────────────────────────────────\n",
       "⎢              ╱         _____________________________________________________\n",
       "⎢             ╱         ╱      ______________________                         \n",
       "⎢            ╱         ╱      ╱       2                                  2    \n",
       "⎣          ╲╱        ╲╱   - ╲╱  25⋅cos (\\alpha) - 24 ⋅cos(\\alpha) + 5⋅cos (\\al\n",
       "\n",
       "______________________________________________________________________________\n",
       "_______________                     ______________________                    \n",
       "2                  2               ╱       2                       3          \n",
       " (\\alpha) - 24 ⋅cos (\\alpha) + 6⋅╲╱  25⋅cos (\\alpha) - 24  + 19⋅cos (\\alpha) -\n",
       "──────────────────────────────────────────────────────────────────────────────\n",
       "_________                                                                     \n",
       "          ⎛       ______________________                     _________________\n",
       "          ⎜      ╱       2                  3               ╱       2         \n",
       "pha) - 4 ⋅⎝- 5⋅╲╱  25⋅cos (\\alpha) - 24 ⋅cos (\\alpha) + 4⋅╲╱  25⋅cos (\\alpha) \n",
       "\n",
       "___________________________________________________________                   \n",
       "                                                                              \n",
       "                                                                              \n",
       " 18⋅cos(\\alpha)                                                  4 ___       ╱\n",
       "────────────────────────────────────────────────────────── , r = ╲╱ 2 ⋅     ╱ \n",
       "                                                                           ╱  \n",
       "_____                                                    ⎞                ╱   \n",
       "                          4                 2            ⎟               ╱    \n",
       "- 24 ⋅cos(\\alpha) + 25⋅cos (\\alpha) - 32⋅cos (\\alpha) + 8⎠             ╲╱     \n",
       "\n",
       "  ____________________________________________________________________________\n",
       " ╱                                                ______________________      \n",
       "╱                                                ╱       2                  2 \n",
       "                                             7⋅╲╱  25⋅cos (\\alpha) - 24 ⋅cos (\n",
       "   ───────────────────────────────────────────────────────────────────────────\n",
       "       ____________________________________________________________           \n",
       "      ╱    ______________________                                   ⎛     ____\n",
       "     ╱    ╱       2                                  2              ⎜    ╱    \n",
       "   ╲╱   ╲╱  25⋅cos (\\alpha) - 24 ⋅cos(\\alpha) + 5⋅cos (\\alpha) - 4 ⋅⎝5⋅╲╱  25⋅\n",
       "\n",
       "______________________________________________________________________________\n",
       "               ______________________                                         \n",
       "              ╱       2                       3                               \n",
       "\\alpha) - 6⋅╲╱  25⋅cos (\\alpha) - 24  + 19⋅cos (\\alpha) - 18⋅cos(\\alpha)      \n",
       "──────────────────────────────────────────────────────────────────────────────\n",
       "                                                                              \n",
       "__________________                     ______________________                 \n",
       "   2                  3               ╱       2                               \n",
       "cos (\\alpha) - 24 ⋅cos (\\alpha) - 4⋅╲╱  25⋅cos (\\alpha) - 24 ⋅cos(\\alpha) + 25\n",
       "\n",
       "_____________________________________⎤\n",
       "                                     ⎥\n",
       "                                     ⎥\n",
       "                                     ⎥\n",
       "──────────────────────────────────── ⎥\n",
       "                                     ⎥\n",
       "                                   ⎞ ⎥\n",
       "    4                 2            ⎟ ⎥\n",
       "⋅cos (\\alpha) - 32⋅cos (\\alpha) + 8⎠ ⎦"
      ]
     },
     "execution_count": 15,
     "metadata": {},
     "output_type": "execute_result"
    }
   ],
   "source": [
    "# eta= 3/2\n",
    "if gmeq.eta_ == Rational(3, 2):\n",
    "    v_alpha_eqns = [\n",
    "        Eq(\n",
    "            r,\n",
    "            s_\n",
    "            * solve(\n",
    "                (\n",
    "                    trigsimp(\n",
    "                        vx_vz_implicit_eqn_.subs(\n",
    "                            {vx: v * cos(alpha), vz: -v * sin(alpha)}\n",
    "                        )\n",
    "                    ).subs({sin(alpha) ** 2: 1 - cos(alpha) ** 2})\n",
    "                ),\n",
    "                v,\n",
    "            )[0],\n",
    "        )\n",
    "        for (vx_vz_implicit_eqn_, s_) in zip(vx_vz_implicit_eqns, (+1, -1))\n",
    "    ]\n",
    "elif gmeq.eta_ == Rational(1, 2):\n",
    "    v_alpha_eqns = [\n",
    "        Eq(\n",
    "            r,\n",
    "            (\n",
    "                solve(\n",
    "                    (\n",
    "                        trigsimp(\n",
    "                            vx_vz_implicit_eqn_.subs(\n",
    "                                {vx: v * cos(alpha), vz: -v * sin(alpha)}\n",
    "                            )\n",
    "                        ).subs({sin(alpha) ** 2: 1 - cos(alpha) ** 2})\n",
    "                    ),\n",
    "                    v,\n",
    "                )[i_]\n",
    "            ),\n",
    "        )\n",
    "        for i_, (vx_vz_implicit_eqn_, s_) in enumerate(\n",
    "            zip(vx_vz_implicit_eqns, (+1, -1))\n",
    "        )\n",
    "    ]\n",
    "else:\n",
    "    print(\"Not implemented\")\n",
    "v_alpha_eqns\n"
   ]
  },
  {
   "cell_type": "code",
   "execution_count": 16,
   "metadata": {},
   "outputs": [
    {
     "data": {
      "image/png": "[encoded data removed]",
      "text/latex": [
       "$\\displaystyle \\left[ 0.108539664679041, \\  1.00000456931581\\right]$"
      ],
      "text/plain": [
       "[0.108539664679041, 1.00000456931581]"
      ]
     },
     "execution_count": 16,
     "metadata": {},
     "output_type": "execute_result"
    }
   ],
   "source": [
    "[\n",
    "    ( v_alpha_eqn_.rhs.subs({alpha:sy.rad(0.1)}).n() )\n",
    "    for v_alpha_eqn_ in v_alpha_eqns\n",
    "]"
   ]
  },
  {
   "cell_type": "code",
   "execution_count": 17,
   "metadata": {},
   "outputs": [],
   "source": [
    "v_alpha_lambdifieds = [\n",
    "    lambdify((alpha), v_alpha_eqn_)\n",
    "    for v_alpha_eqn_ in v_alpha_eqns\n",
    "]\n",
    "v_alpha_lambdas = [\n",
    "    lambda alpha_: v_alpha_lambdified_(alpha_)\n",
    "    for v_alpha_lambdified_ in v_alpha_lambdifieds\n",
    "]"
   ]
  },
  {
   "cell_type": "markdown",
   "metadata": {},
   "source": [
    "# Explore distance function"
   ]
  },
  {
   "cell_type": "code",
   "execution_count": 18,
   "metadata": {},
   "outputs": [
    {
     "data": {
      "image/png": "[encoded data removed]",
      "text/latex": [
       "$\\displaystyle \\left( \\alpha_\\mathrm{ext} = \\frac{180 \\operatorname{atan}{\\left(\\frac{\\eta - 1}{2 \\sqrt{\\eta}} \\right)}}{\\pi}, \\  11.5369590328155\\right)$"
      ],
      "text/plain": [
       "⎛                              ⎛ \\eta - 1 ⎞                    ⎞\n",
       "⎜                      180⋅atan⎜──────────⎟                    ⎟\n",
       "⎜                              ⎜    ______⎟                    ⎟\n",
       "⎜                              ⎝2⋅╲╱ \\eta ⎠                    ⎟\n",
       "⎜\\alpha_\\mathrm{ext} = ────────────────────, 11.536959032815489⎟\n",
       "⎝                               π                              ⎠"
      ]
     },
     "execution_count": 18,
     "metadata": {},
     "output_type": "execute_result"
    }
   ],
   "source": [
    "alpha_ext_eqn = Eq( alpha_ext, (sy.deg(atan( (eta-1)/(2*sqrt(eta))) )) )\n",
    "gmeq.alpha_ext_eqn = alpha_ext_eqn\n",
    "alpha_ext_eqn, float(gmeq.alpha_ext_eqn.rhs.subs({eta: gmeq.eta_}).n())"
   ]
  },
  {
   "cell_type": "code",
   "execution_count": 19,
   "metadata": {},
   "outputs": [],
   "source": [
    "v_alpha_eqn_ = v_alpha_eqns[0]"
   ]
  },
  {
   "cell_type": "code",
   "execution_count": 20,
   "metadata": {},
   "outputs": [
    {
     "data": {
      "image/png": "[encoded data removed]",
      "text/latex": [
       "$\\displaystyle 0.808257786917465$"
      ],
      "text/plain": [
       "0.808257786917465"
      ]
     },
     "execution_count": 20,
     "metadata": {},
     "output_type": "execute_result"
    }
   ],
   "source": [
    "v_alpha_eqns[0].rhs.subs({alpha:-0.1}).n()"
   ]
  },
  {
   "cell_type": "code",
   "execution_count": 21,
   "metadata": {},
   "outputs": [
    {
     "name": "stdout",
     "output_type": "stream",
     "text": [
      "alpha0 = 5.00º\n",
      "0.9961946980917455 0.08715574274765817\n",
      "[0.34906585 0.20135792]\n",
      "\talpha1 = 20.00º\n",
      "\tndelta_t1_ = 0.000\n",
      "alpha1_ = 0.3490658503988659\n",
      "v1_raw_ = 1.22450282027774 + 0.141465396692733*I\n",
      "v2_raw_ = nan\n",
      "rx2 etc nan nan nan nan\n",
      "\tndelta_t1_ = 2.000\n",
      "alpha1_ = 0.3490658503988659\n",
      "v1_raw_ = 1.22450282027774 + 0.141465396692733*I\n",
      "v2_raw_ = nan\n",
      "rx2 etc nan nan nan nan\n",
      "\talpha1 = 11.54º\n",
      "\tndelta_t1_ = 0.000\n",
      "alpha1_ = 0.2013579207903308\n",
      "v1_raw_ = 1.07791233588925\n",
      "v2_raw_ = 0.758072965098081\n",
      "rx2 etc 0.9961946980917455 0.08715574274765817 1.0 0.08726646259971646\n",
      "\tndelta_t1_ = 2.000\n",
      "alpha1_ = 0.2013579207903308\n",
      "v1_raw_ = 1.07791233588925\n",
      "v2_raw_ = 1.15004107604351 + 0.0405001374452133*I\n",
      "rx2 etc -1.7901705537423556 -0.48160868258693335 1.853822411837049 0.2628070526594552\n",
      "alpha0 = 10.00º\n",
      "0.984807753012208 0.17364817766693033\n",
      "[0.34906585 0.20135792]\n",
      "\talpha1 = 20.00º\n",
      "\tndelta_t1_ = 0.000\n",
      "alpha1_ = 0.3490658503988659\n",
      "v1_raw_ = 1.22450282027774 + 0.141465396692733*I\n",
      "v2_raw_ = nan\n",
      "rx2 etc nan nan nan nan\n",
      "\tndelta_t1_ = 2.000\n",
      "alpha1_ = 0.3490658503988659\n",
      "v1_raw_ = 1.22450282027774 + 0.141465396692733*I\n",
      "v2_raw_ = nan\n",
      "rx2 etc nan nan nan nan\n",
      "\talpha1 = 11.54º\n",
      "\tndelta_t1_ = 0.000\n",
      "alpha1_ = 0.2013579207903308\n",
      "v1_raw_ = 1.07791233588925\n",
      "v2_raw_ = 1.02786858654454\n",
      "rx2 etc 0.984807753012208 0.17364817766693033 0.9999999999999999 0.17453292519943295\n",
      "\tndelta_t1_ = 2.000\n",
      "alpha1_ = 0.2013579207903308\n",
      "v1_raw_ = 1.07791233588925\n",
      "v2_raw_ = 1.10868225392419 + 0.0104852571247807*I\n",
      "rx2 etc -1.0701905181239018 -0.24582658788182513 1.0980612261581437 0.22578683775560693\n",
      "alpha0 = 11.00º\n",
      "0.981627183447664 0.1908089953765448\n",
      "[0.34906585 0.20135792]\n",
      "\talpha1 = 20.00º\n",
      "\tndelta_t1_ = 0.000\n",
      "alpha1_ = 0.3490658503988659\n",
      "v1_raw_ = 1.22450282027774 + 0.141465396692733*I\n",
      "v2_raw_ = nan\n",
      "rx2 etc nan nan nan nan\n",
      "\tndelta_t1_ = 2.000\n",
      "alpha1_ = 0.3490658503988659\n",
      "v1_raw_ = 1.22450282027774 + 0.141465396692733*I\n",
      "v2_raw_ = nan\n",
      "rx2 etc nan nan nan nan\n",
      "\talpha1 = 11.54º\n",
      "\tndelta_t1_ = 0.000\n",
      "alpha1_ = 0.2013579207903308\n",
      "v1_raw_ = 1.07791233588925\n",
      "v2_raw_ = 1.06273659974691\n",
      "rx2 etc 0.981627183447664 0.1908089953765448 1.0 0.19198621771937624\n",
      "\tndelta_t1_ = 2.000\n",
      "alpha1_ = 0.2013579207903308\n",
      "v1_raw_ = 1.07791233588925\n",
      "v2_raw_ = 1.08973009109996 + 0.00242308834324061*I\n",
      "rx2 etc -1.0059473188393313 -0.2149029509875698 1.0286463369998482 0.210468627939358\n"
     ]
    }
   ],
   "source": [
    "if gmeq.eta_==Rational(1,2):\n",
    "    s_ = -1\n",
    "elif gmeq.eta_==Rational(3,2):\n",
    "    s_ = +1\n",
    "else:\n",
    "    print(\"Not implemented\")\n",
    "\n",
    "alpha_ext_ = s_*np.deg2rad(\n",
    "    float(gmeq.alpha_ext_eqn.rhs.subs({eta: gmeq.eta_}).n())\n",
    ")\n",
    "# alpha0_array = -np.deg2rad(np.array([5, 10, 15]))\n",
    "alpha0_array = s_*np.deg2rad(np.array([5, 10, 11]))\n",
    "f_alpha0_array = alpha0_array / alpha_ext_\n",
    "\n",
    "n_alpha1_ = 3\n",
    "# n_alpha1_ = 22\n",
    "# n_alpha1_ = 42\n",
    "# n_alpha1_ = 42+40\n",
    "n_delta1_ = n_alpha1_ - 1\n",
    "\n",
    "ndelta_t12_grids = {}\n",
    "alpha1_arrays = {}\n",
    "ndelta_t1_arrays = {}\n",
    "\n",
    "do_check = False\n",
    "\n",
    "# Select the reference ray angle\n",
    "# Note: all alpha0 values are negative\n",
    "for alpha0_ in alpha0_array[:]:\n",
    "    print(f\"alpha0 = {np.rad2deg(alpha0_):.2f}º\", flush=True)\n",
    "    # Get the velocity in this direction\n",
    "    v0_ = float(sy.re(v_alpha_eqn_.rhs.subs({alpha: alpha0_}).n()))\n",
    "    # Specify unit distance along the reference ray\n",
    "    r0_ = 1\n",
    "    # Calculate time elapsed to cover this unit distance\n",
    "    delta_t0_ = r0_ / v0_\n",
    "    # Compute the reference ray vector components\n",
    "    rx0_ = r0_ * np.cos(alpha0_)\n",
    "    rz0_ = r0_ * np.sin(alpha0_)\n",
    "    print(rx0_,rz0_)\n",
    "\n",
    "    # Select the first subray angle\n",
    "    # Note: alpha_ext is negative, so all the alpha1 values are negative\n",
    "    raw_alpha1_array_ = np.linspace(0, s_*20, n_alpha1_ - 1)\n",
    "    raw_alpha1_array_ = raw_alpha1_array_[\n",
    "        raw_alpha1_array_ > np.rad2deg(alpha_ext_)\n",
    "    ]\n",
    "    raw_alpha1_array_ = np.concatenate(\n",
    "        [raw_alpha1_array_, np.array([np.rad2deg(alpha_ext_)])]\n",
    "    )\n",
    "    alpha1_arrays[alpha0_] = np.deg2rad(raw_alpha1_array_)\n",
    "    print(alpha1_arrays[alpha0_])\n",
    "\n",
    "    ndelta_t1_arrays[alpha0_] = np.linspace(0, 2, n_delta1_)\n",
    "    ndelta_t12_grids[alpha0_] = np.zeros(\n",
    "        (\n",
    "            np.shape(alpha1_arrays[alpha0_])[0],\n",
    "            np.shape(ndelta_t1_arrays[alpha0_])[0],\n",
    "        )\n",
    "    )\n",
    "\n",
    "    for i_alpha1_, alpha1_ in enumerate(alpha1_arrays[alpha0_]):\n",
    "        # alpha1_ = alpha0_\n",
    "        if n_alpha1_ <= 5:\n",
    "            print(f\"\\talpha1 = {np.rad2deg(alpha1_):.2f}º\", flush=True)\n",
    "        # Select the time elapsed along the first subray\n",
    "        for i_delta1_, ndelta_t1_ in enumerate(ndelta_t1_arrays[alpha0_]):\n",
    "            delta_t1_ = delta_t0_ * ndelta_t1_\n",
    "            if n_alpha1_ <= 5:\n",
    "                print(f\"\\tndelta_t1_ = {ndelta_t1_:.3f}\", flush=True)\n",
    "            # Get the velocity in this direction\n",
    "            v1_raw_ = v_alpha_eqn_.rhs.subs({alpha: alpha1_}).n()\n",
    "            print(f\"alpha1_ = {alpha1_}\")\n",
    "            if im(v1_raw_) == 0:\n",
    "                v1_ = float(v1_raw_)\n",
    "            else:\n",
    "                v1_ = np.nan\n",
    "            print(f\"v1_raw_ = {v1_raw_}\")\n",
    "            # Calculate the distance covered along this subray\n",
    "            # given the specified time\n",
    "            r1_ = v1_ * delta_t1_\n",
    "            # Compute the vector components of this subray\n",
    "            rx1_ = r1_ * np.cos(alpha1_)\n",
    "            rz1_ = r1_ * np.sin(alpha1_)\n",
    "\n",
    "            # Compute second subray vector needed to match the reference ray\n",
    "            rx2_ = rx0_ - rx1_\n",
    "            rz2_ = rz0_ - rz1_\n",
    "            r2_ = np.sqrt(rx2_ ** 2 + rz2_ ** 2)\n",
    "            alpha2_ = np.arctan(rz2_ / rx2_)\n",
    "            # Get the velocity in this direction\n",
    "            v2_raw_ = v_alpha_eqn_.rhs.subs({alpha: alpha2_}).n()\n",
    "            print(f\"v2_raw_ = {v2_raw_}\")\n",
    "            print(\"rx2 etc\", rx2_,rz2_,r2_,alpha2_)\n",
    "            if (\n",
    "                im(v2_raw_) == 0\n",
    "                and alpha2_ > alpha_ext_\n",
    "                and alpha2_ < 0\n",
    "                and (rx2_ > 0 and rz2_ < 0)\n",
    "                and not np.isnan(v1_)\n",
    "            ):\n",
    "                v2_ = float(v2_raw_)\n",
    "                # Calculate the travel time to cover this subray distance\n",
    "                # given the speed\n",
    "                # if rz2_ > 0:\n",
    "                #     print(\"r2: \", rx2_, rz2_, alpha2_)\n",
    "                delta_t2_ = r2_ / v2_\n",
    "                if do_check:\n",
    "                    r12_check_ = delta_t1_ * np.array(\n",
    "                        [v1_ * np.cos(alpha1_), v1_ * np.sin(alpha1_)]\n",
    "                    ) + delta_t2_ * np.array(\n",
    "                        [v2_ * np.cos(alpha2_), v2_ * np.sin(alpha2_)]\n",
    "                    )\n",
    "                    r0_check_ = delta_t0_ * np.array(\n",
    "                        [v0_ * np.cos(alpha0_), v0_ * np.sin(alpha0_)]\n",
    "                    )\n",
    "                    if (\n",
    "                        np.round(r12_check_, 5)[0] != np.round(r0_check_, 5)[0]\n",
    "                        or np.round(r12_check_, 5)[1]\n",
    "                        != np.round(r0_check_, 5)[1]\n",
    "                    ):\n",
    "                        if n_alpha1_ <= 5:\n",
    "                            print(\"r0 & r12 mismatch\")\n",
    "                            print(v1_, v2_)\n",
    "                            print(rx0_, rx1_, rx2_, rx1_ + rx2_)\n",
    "                            print(rz0_, rz1_, rz2_, rz1_ + rz2_)\n",
    "                        v2_ = 0\n",
    "                        delta_t2_ = np.nan\n",
    "            else:\n",
    "                v2_ = 0\n",
    "                delta_t2_ = np.nan\n",
    "\n",
    "            # Calculate the travel time along the subray path\n",
    "            delta_t12_ = delta_t1_ + delta_t2_\n",
    "\n",
    "            # Record\n",
    "            ndelta_t12_grids[alpha0_][i_alpha1_, i_delta1_] = (\n",
    "                delta_t12_ / delta_t0_\n",
    "            )\n",
    "            if n_alpha1_ <= 5 and alpha0_ == alpha1_:\n",
    "                print(\n",
    "                    \"\\talphas:\",\n",
    "                    np.round(\n",
    "                        np.rad2deg(\n",
    "                            np.array(\n",
    "                                [\n",
    "                                    alpha0_,\n",
    "                                    alpha1_,\n",
    "                                    alpha2_,\n",
    "                                ]\n",
    "                            )\n",
    "                        ),\n",
    "                        3,\n",
    "                    ),\n",
    "                    \"\\tdelta_ts:\",\n",
    "                    np.round(\n",
    "                        np.array(\n",
    "                            [\n",
    "                                # delta_t0_,\n",
    "                                delta_t1_ / delta_t0_,\n",
    "                                delta_t2_ / delta_t0_,\n",
    "                                delta_t12_ / delta_t0_,\n",
    "                            ]\n",
    "                        ),\n",
    "                        3,\n",
    "                    ),\n",
    "                )\n",
    "                # print(\n",
    "                #     \"\\t\",\n",
    "                #     np.round(np.rad2deg(alpha1_), 3),\n",
    "                #     np.round(delta_t1_, 3),\n",
    "                #     np.round(delta_t12_ / delta_t0_, 3),\n",
    "                # )"
   ]
  },
  {
   "cell_type": "code",
   "execution_count": 22,
   "metadata": {},
   "outputs": [
    {
     "data": {
      "text/plain": [
       "{0.08726646259971647: array([[nan, nan],\n",
       "        [nan, nan]]),\n",
       " 0.17453292519943295: array([[nan, nan],\n",
       "        [nan, nan]]),\n",
       " 0.19198621771937624: array([[nan, nan],\n",
       "        [nan, nan]])}"
      ]
     },
     "execution_count": 22,
     "metadata": {},
     "output_type": "execute_result"
    }
   ],
   "source": [
    "ndelta_t12_grids"
   ]
  },
  {
   "cell_type": "markdown",
   "metadata": {},
   "source": [
    "# Plots"
   ]
  },
  {
   "cell_type": "code",
   "execution_count": 23,
   "metadata": {},
   "outputs": [],
   "source": [
    "gr = TriangleInequality(gmeq)"
   ]
  },
  {
   "cell_type": "code",
   "execution_count": 24,
   "metadata": {},
   "outputs": [
    {
     "name": "stderr",
     "output_type": "stream",
     "text": [
      "gmplib.plot.GraphingBase:\n",
      "   Creating plot: triangle_inequality_sinbeta_eta1p5_falpha-0p38 size=(6, 6) @ 100 dpi\n"
     ]
    },
    {
     "name": "stdout",
     "output_type": "stream",
     "text": [
      "0.08726646259971647\n"
     ]
    },
    {
     "ename": "ValueError",
     "evalue": "zero-size array to reduction operation minimum which has no identity",
     "output_type": "error",
     "traceback": [
      "\u001b[0;31m---------------------------------------------------------------------------\u001b[0m",
      "\u001b[0;31mValueError\u001b[0m                                Traceback (most recent call last)",
      "\u001b[0;32m<ipython-input-24-991b4f9e9c70>\u001b[0m in \u001b[0;36m<module>\u001b[0;34m\u001b[0m\n\u001b[0;32m----> 1\u001b[0;31m gr.contoured_delta_t12(\n\u001b[0m\u001b[1;32m      2\u001b[0m     \u001b[0mjob_name\u001b[0m\u001b[0;34m,\u001b[0m\u001b[0;34m\u001b[0m\u001b[0;34m\u001b[0m\u001b[0m\n\u001b[1;32m      3\u001b[0m     \u001b[0malpha1_arrays\u001b[0m\u001b[0;34m,\u001b[0m\u001b[0;34m\u001b[0m\u001b[0;34m\u001b[0m\u001b[0m\n\u001b[1;32m      4\u001b[0m     \u001b[0mndelta_t1_arrays\u001b[0m\u001b[0;34m,\u001b[0m\u001b[0;34m\u001b[0m\u001b[0;34m\u001b[0m\u001b[0m\n\u001b[1;32m      5\u001b[0m     \u001b[0mndelta_t12_grids\u001b[0m\u001b[0;34m,\u001b[0m\u001b[0;34m\u001b[0m\u001b[0;34m\u001b[0m\u001b[0m\n",
      "\u001b[0;32m~/Projects/GME/Packages/gme/plot/triangle_inequality.py\u001b[0m in \u001b[0;36mcontoured_delta_t12\u001b[0;34m(self, job_name, alpha1_arrays, ndelta_t1_arrays, ndelta_t12_grids, alpha0_array, fig_size, dpi, do_smooth)\u001b[0m\n\u001b[1;32m    131\u001b[0m             \u001b[0mndelta_t12_grid_\u001b[0m \u001b[0;34m=\u001b[0m \u001b[0mnp\u001b[0m\u001b[0;34m.\u001b[0m\u001b[0mabs\u001b[0m\u001b[0;34m(\u001b[0m\u001b[0mndelta_t12_grids\u001b[0m\u001b[0;34m[\u001b[0m\u001b[0malpha0_\u001b[0m\u001b[0;34m]\u001b[0m\u001b[0;34m.\u001b[0m\u001b[0mcopy\u001b[0m\u001b[0;34m(\u001b[0m\u001b[0;34m)\u001b[0m\u001b[0;34m)\u001b[0m\u001b[0;34m\u001b[0m\u001b[0;34m\u001b[0m\u001b[0m\n\u001b[1;32m    132\u001b[0m             delta_t12_min = np.round(\n\u001b[0;32m--> 133\u001b[0;31m                 \u001b[0mnp\u001b[0m\u001b[0;34m.\u001b[0m\u001b[0mmin\u001b[0m\u001b[0;34m(\u001b[0m\u001b[0mndelta_t12_grid_\u001b[0m\u001b[0;34m[\u001b[0m\u001b[0;34m~\u001b[0m\u001b[0mnp\u001b[0m\u001b[0;34m.\u001b[0m\u001b[0misnan\u001b[0m\u001b[0;34m(\u001b[0m\u001b[0mndelta_t12_grid_\u001b[0m\u001b[0;34m)\u001b[0m\u001b[0;34m]\u001b[0m\u001b[0;34m)\u001b[0m\u001b[0;34m,\u001b[0m \u001b[0;36m1\u001b[0m\u001b[0;34m\u001b[0m\u001b[0;34m\u001b[0m\u001b[0m\n\u001b[0m\u001b[1;32m    134\u001b[0m             )\n\u001b[1;32m    135\u001b[0m             delta_t12_max = (\n",
      "\u001b[0;32m<__array_function__ internals>\u001b[0m in \u001b[0;36mamin\u001b[0;34m(*args, **kwargs)\u001b[0m\n",
      "\u001b[0;32m/opt/local/Library/Frameworks/Python.framework/Versions/3.8/lib/python3.8/site-packages/numpy/core/fromnumeric.py\u001b[0m in \u001b[0;36mamin\u001b[0;34m(a, axis, out, keepdims, initial, where)\u001b[0m\n\u001b[1;32m   2877\u001b[0m     \u001b[0;36m6\u001b[0m\u001b[0;34m\u001b[0m\u001b[0;34m\u001b[0m\u001b[0m\n\u001b[1;32m   2878\u001b[0m     \"\"\"\n\u001b[0;32m-> 2879\u001b[0;31m     return _wrapreduction(a, np.minimum, 'min', axis, None, out,\n\u001b[0m\u001b[1;32m   2880\u001b[0m                           keepdims=keepdims, initial=initial, where=where)\n\u001b[1;32m   2881\u001b[0m \u001b[0;34m\u001b[0m\u001b[0m\n",
      "\u001b[0;32m/opt/local/Library/Frameworks/Python.framework/Versions/3.8/lib/python3.8/site-packages/numpy/core/fromnumeric.py\u001b[0m in \u001b[0;36m_wrapreduction\u001b[0;34m(obj, ufunc, method, axis, dtype, out, **kwargs)\u001b[0m\n\u001b[1;32m     84\u001b[0m                 \u001b[0;32mreturn\u001b[0m \u001b[0mreduction\u001b[0m\u001b[0;34m(\u001b[0m\u001b[0maxis\u001b[0m\u001b[0;34m=\u001b[0m\u001b[0maxis\u001b[0m\u001b[0;34m,\u001b[0m \u001b[0mout\u001b[0m\u001b[0;34m=\u001b[0m\u001b[0mout\u001b[0m\u001b[0;34m,\u001b[0m \u001b[0;34m**\u001b[0m\u001b[0mpasskwargs\u001b[0m\u001b[0;34m)\u001b[0m\u001b[0;34m\u001b[0m\u001b[0;34m\u001b[0m\u001b[0m\n\u001b[1;32m     85\u001b[0m \u001b[0;34m\u001b[0m\u001b[0m\n\u001b[0;32m---> 86\u001b[0;31m     \u001b[0;32mreturn\u001b[0m \u001b[0mufunc\u001b[0m\u001b[0;34m.\u001b[0m\u001b[0mreduce\u001b[0m\u001b[0;34m(\u001b[0m\u001b[0mobj\u001b[0m\u001b[0;34m,\u001b[0m \u001b[0maxis\u001b[0m\u001b[0;34m,\u001b[0m \u001b[0mdtype\u001b[0m\u001b[0;34m,\u001b[0m \u001b[0mout\u001b[0m\u001b[0;34m,\u001b[0m \u001b[0;34m**\u001b[0m\u001b[0mpasskwargs\u001b[0m\u001b[0;34m)\u001b[0m\u001b[0;34m\u001b[0m\u001b[0;34m\u001b[0m\u001b[0m\n\u001b[0m\u001b[1;32m     87\u001b[0m \u001b[0;34m\u001b[0m\u001b[0m\n\u001b[1;32m     88\u001b[0m \u001b[0;34m\u001b[0m\u001b[0m\n",
      "\u001b[0;31mValueError\u001b[0m: zero-size array to reduction operation minimum which has no identity"
     ]
    },
    {
     "data": {
      "image/png": "[encoded data removed]",
      "text/plain": [
       "<Figure size 600x600 with 1 Axes>"
      ]
     },
     "metadata": {
      "image/png": {
       "height": 502,
       "width": 526
      },
      "needs_background": "light"
     },
     "output_type": "display_data"
    }
   ],
   "source": [
    "gr.contoured_delta_t12(\n",
    "    job_name,\n",
    "    alpha1_arrays,\n",
    "    ndelta_t1_arrays,\n",
    "    ndelta_t12_grids,\n",
    "    alpha0_array,\n",
    "    fig_size=(6, 6),\n",
    ")"
   ]
  },
  {
   "cell_type": "markdown",
   "metadata": {},
   "source": [
    "# Save"
   ]
  },
  {
   "cell_type": "code",
   "execution_count": null,
   "metadata": {},
   "outputs": [],
   "source": [
    "pp(gr.fdict)"
   ]
  },
  {
   "cell_type": "code",
   "execution_count": null,
   "metadata": {},
   "outputs": [],
   "source": [
    "plots_dir = create_directories(pr.save.figs_path, pr.job.group_name)\n",
    "export_plots( gr.fdict, plots_dir, pr.save.figs_format, suffix='' )"
   ]
  }
 ],
 "metadata": {
  "hide_input": false,
  "interpreter": {
   "hash": "7a792fcb311f9eb9f3c1b942a8c87ada8484712b89b670347c16a1088e0a1f69"
  },
  "kernelspec": {
   "display_name": "Python 3.8.12 64-bit",
   "language": "python",
   "name": "python3"
  },
  "language_info": {
   "codemirror_mode": {
    "name": "ipython",
    "version": 3
   },
   "file_extension": ".py",
   "mimetype": "text/x-python",
   "name": "python",
   "nbconvert_exporter": "python",
   "pygments_lexer": "ipython3",
   "version": "3.8.12"
  }
 },
 "nbformat": 4,
 "nbformat_minor": 2
}
