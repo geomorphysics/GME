{
 "cells": [
  {
   "cell_type": "markdown",
   "metadata": {
    "heading_collapsed": true
   },
   "source": [
    "# Summary"
   ]
  },
  {
   "cell_type": "markdown",
   "metadata": {
    "hidden": true
   },
   "source": [
    "Solve for a time-invariant or \"steady-state\" profile.\n",
    "\n",
    "This is achieved by first integrating Hamilton's equations along an erosion ray trajectory initiated at a constant velocity \"normal fault\" boundary. Copies of this ray are then placed at uniformly spaced (vertically downwards) intervals along the boundary, generating a staggered time-sequence of rays whose ensemble positions at an appropriately chosen time slice constitute a time-invariant profile.\n",
    "\n",
    "Visualization of the ray ensemble is carried out, along with graphing of properties of the time-invariant profile across the model domain. Comparison is made with the \"steady-state\" profile derived by integrating the model erosion equation directly (via a polynomial in $\\mathrm{d}z/\\mathrm{d}x$)."
   ]
  },
  {
   "cell_type": "markdown",
   "metadata": {
    "hidden": true
   },
   "source": [
    "### Parameter files"
   ]
  },
  {
   "cell_type": "code",
   "execution_count": 1,
   "metadata": {
    "hidden": true
   },
   "outputs": [],
   "source": [
    "# Specify the parameter files for the job\n",
    "import os\n",
    "if 'GME_NB_PR' not in os.environ.keys():\n",
    "\n",
    "#     pr_filenames = ['TimeInvariant_eta1p5_Ci0p1']\n",
    "#     pr_filenames = ['TimeInvariant_eta1p5_Ci1']\n",
    "#     pr_filenames = ['TimeInvariant_eta1p5_Ci4']\n",
    "    \n",
    "    pr_filenames = ['TimeInvariant_eta0p5_Ci0p1']\n",
    "#     pr_filenames = ['TimeInvariant_eta0p5_Ci1']\n",
    "#     pr_filenames = ['TimeInvariant_eta0p5_Ci4']\n",
    "\n",
    "#     pr_filenames = ['TimeInvariant_eta0p25_Ci4']\n",
    "\n",
    "else:\n",
    "    pr_filenames = eval(os.environ['GME_NB_PR'])"
   ]
  },
  {
   "cell_type": "markdown",
   "metadata": {
    "hidden": true
   },
   "source": [
    "### Preliminaries"
   ]
  },
  {
   "cell_type": "code",
   "execution_count": 2,
   "metadata": {
    "hidden": true
   },
   "outputs": [
    {
     "name": "stdout",
     "output_type": "stream",
     "text": [
      "Deducing working path from GME package location = /Users/colinstark/Projects/GME\n"
     ]
    },
    {
     "data": {
      "text/plain": [
       "('/Users/colinstark/Projects/GME/Parameters/RayTracing',\n",
       " ['TimeInvariant_eta0p5_Ci0p1'])"
      ]
     },
     "execution_count": 2,
     "metadata": {},
     "output_type": "execute_result"
    }
   ],
   "source": [
    "# Import Sympy and Numpy and set up latex inline & pretty dict printing\n",
    "import sympy as sy, numpy as np\n",
    "sy.init_printing(pretty_print=True,wrap_line=True)\n",
    "from sympy import simplify, Matrix, Eq, Rational, \\\n",
    "                    factor, poly, solve, numer, deg\n",
    "from pprint import PrettyPrinter\n",
    "pp = PrettyPrinter(indent=4).pprint\n",
    "\n",
    "# Import Geomorphysics library functions, classes\n",
    "from gmplib.utils import numify, export_results, e2d, convert, omitdict, round as gmround\n",
    "from gmplib.save import create_directories, export_plots\n",
    "from gmplib.parameters import import_parameters, Parameters\n",
    "\n",
    "# Import GME classes and do a wildcard (!) import of all GME symbol definitions\n",
    "from gme.symbols import *\n",
    "from gme.equations import Equations, EquationSubset, gradient_value\n",
    "from gme.ode_raytracing import TimeInvariantSolution\n",
    "from gme.plot import TimeInvariantPlots\n",
    "\n",
    "# Import units & dimensions\n",
    "from sympy.physics.units \\\n",
    "    import Quantity, Dimension, \\\n",
    "            length, speed, velocity, time, \\\n",
    "            km, cm, mm, meter, meters, \\\n",
    "            convert_to, percent, degrees, radians\n",
    "from sympy.physics.units.systems import SI\n",
    "\n",
    "# Decide where we're working and thus where to find the job parameter files\n",
    "#   -  use the GME_WORKING_PATH environment variable if it's defined\n",
    "#   -  otherwise, deduce that we're working in the GME notebook dir\n",
    "if 'GME_WORKING_PATH' in os.environ.keys():\n",
    "    working_path = os.environ['GME_WORKING_PATH']\n",
    "    print(f'Fetching working path from environment variable GME_WORKING_PATH = {working_path}')\n",
    "else:\n",
    "    from gmplib.utils import get_pkg_path\n",
    "    import gme\n",
    "    working_path = get_pkg_path(gme, dirname='')\n",
    "    print(f'Deducing working path from GME package location = {working_path}')\n",
    "    del gme\n",
    "    \n",
    "# Set the path to the parameter files for this nb and report\n",
    "pr_path = os.path.join(working_path,'Parameters','RayTracing')\n",
    "pr_path, pr_filenames"
   ]
  },
  {
   "cell_type": "code",
   "execution_count": 3,
   "metadata": {
    "hidden": true,
    "scrolled": false
   },
   "outputs": [
    {
     "name": "stdout",
     "output_type": "stream",
     "text": [
      "{   'debug': False,\n",
      "    'group_name': 'TimeInvariantSolutions',\n",
      "    'short_name': 'tis',\n",
      "    'subtitle': '',\n",
      "    'title': 'Time-invariant profile solution: sin(beta), ramp, eta=1/2, '\n",
      "             'mu=1/4, Ci=0.1deg',\n",
      "    'verbose': True,\n",
      "    'very_verbose': False}\n",
      "{   'Ci': pi/1800,\n",
      "    'Lc': 10000,\n",
      "    'beta_type': 'sin',\n",
      "    'do_geodesic': False,\n",
      "    'eta': 1/2,\n",
      "    'h_0': 1/2,\n",
      "    'ibc_type': 'concave-up',\n",
      "    'kappa_h': 3/2,\n",
      "    'mu': 1/4,\n",
      "    't_xiv0_list': None,\n",
      "    'varepsilonhat': 1/100,\n",
      "    'varphi_0': 2.641e-05,\n",
      "    'varphi_type': 'ramp',\n",
      "    'x_h': 1,\n",
      "    'x_sigma': 0.01,\n",
      "    'xiv_0': None}\n",
      "{   'choice': 'Hamilton',\n",
      "    'do_dense': True,\n",
      "    'do_geodesic': True,\n",
      "    'do_ic': False,\n",
      "    'do_ip': False,\n",
      "    'do_vb': False,\n",
      "    'ic_res': 31,\n",
      "    'ip_res': 101,\n",
      "    'method': {'Hamilton': 'DOP853', 'geodesic': 'LSODA'},\n",
      "    'ray_n_t': 301,\n",
      "    't_distribn': 2,\n",
      "    't_end': 10,\n",
      "    'vb_res': 101}\n",
      "{   'do_eliminate_caustics': True,\n",
      "    'n_isochrones': 30,\n",
      "    'spline_order': 3,\n",
      "    't_isochrone_max': 0.01,\n",
      "    'tolerance': None}\n",
      "{   'ang_x_limits': [0, 90],\n",
      "    'ang_y_limits': [-30, 10],\n",
      "    'angdisp_x_limits': [0, 90],\n",
      "    'angdisp_y_limits': [0, 90],\n",
      "    'aniso_arrow_exponent': 0.9,\n",
      "    'aniso_arrow_size': 0.5,\n",
      "    'aniso_n_points': 45,\n",
      "    'aniso_y_limits': [-0.03, 0.30001],\n",
      "    'big_fig_size': [10, 7],\n",
      "    'dimx_limits': [-0.03, 1.03],\n",
      "    'dimx_limits_zoom': [0.2, 0.3],\n",
      "    'dimz_limits': [-0.01, 0.6],\n",
      "    'dimz_limits_zoom': [-0.25, -0.23],\n",
      "    'do_etaxi_labeling': True,\n",
      "    'do_extra_annotations': False,\n",
      "    'do_huygens_wavelets': False,\n",
      "    'do_profile_extra': False,\n",
      "    'do_profile_schematic': False,\n",
      "    'do_pub_labeling': False,\n",
      "    'do_ray_conjugacy': False,\n",
      "    'fgtx_pz_max': 100000.0,\n",
      "    'fgtx_pz_min': 0.001,\n",
      "    'fig_size': [8, 8],\n",
      "    'idtx_logpolar_y_limits': [-2, 1],\n",
      "    'idtx_n_points': 100,\n",
      "    'idtx_pz_max': 100000.0,\n",
      "    'idtx_pz_min': 0.001,\n",
      "    'idtx_varphi_list': [0.1, 0.15, 0.5, 1, 1.3, 2, 3],\n",
      "    'isochrone_subsetting': 1,\n",
      "    'medium_fig_size': [7, 6],\n",
      "    'misc_n_points': 101,\n",
      "    'n_rays': 4,\n",
      "    'profile_cusp_speed_legend_loc': None,\n",
      "    'profile_cusp_speed_y_limits': [-10, 30],\n",
      "    'profile_det_eta_label_xy': [0.5, 0.5],\n",
      "    'profile_eval_eta_label_xy': None,\n",
      "    'profile_evec_eta_label_xy': [0.5, 0.25],\n",
      "    'profile_evec_legend_loc': 'lower left',\n",
      "    'profile_n_points': 101,\n",
      "    'profile_ray_n_points': 121,\n",
      "    'profile_subsetting': 8,\n",
      "    'pub_label_posns': {   'alpha_beta': [0.88, 0.3],\n",
      "                           'angular_disparity': [0.15, 0.15],\n",
      "                           'profile_angular_disparity': [0.6, 0.35],\n",
      "                           'profile_aniso': 'None',\n",
      "                           'profile_beta': [0.93, 0.2],\n",
      "                           'profile_h_ray': [0.85, 0.7],\n",
      "                           'profile_h_rays': [0.93, 0.35],\n",
      "                           'profile_v': 'None',\n",
      "                           'profile_vdot': 'None',\n",
      "                           'profile_vxz': 'None',\n",
      "                           'profile_xi': 'None',\n",
      "                           'profile_xihorizontal': 'None',\n",
      "                           'profile_xivertical': 'None'},\n",
      "    'pub_labels': {   'alpha_beta': '(b)',\n",
      "                      'angular_disparity': '(b)',\n",
      "                      'profile_angular_disparity': '(b)',\n",
      "                      'profile_aniso': '(b)',\n",
      "                      'profile_beta': '(b)',\n",
      "                      'profile_h_ray': '(c)',\n",
      "                      'profile_h_rays': '(b)',\n",
      "                      'profile_v': '',\n",
      "                      'profile_vdot': '',\n",
      "                      'profile_vxz': '(c)',\n",
      "                      'profile_xi': '(a)',\n",
      "                      'profile_xihorizontal': '',\n",
      "                      'profile_xivertical': '(d)'},\n",
      "    'ray_acceln_legend_loc': 'upper left',\n",
      "    'ray_eta_xy': [0.85, 0.15],\n",
      "    'ray_n_points': 26,\n",
      "    'ray_y_limits': [-0.02, 0.37],\n",
      "    'rays_n_points': 40,\n",
      "    'small_fig_size': [7, 3]}\n",
      "{   'figs_format': ['png'],\n",
      "    'figs_options': {'bbox_inches': 'tight', 'dpi': 300},\n",
      "    'figs_path': ['..', '..', 'Plots']}\n"
     ]
    }
   ],
   "source": [
    "# Read and combine the default and job parameter files, and report\n",
    "\n",
    "parameters_dict,_ = import_parameters([pr_path], [os.path.join('..','defaults'), *pr_filenames])\n",
    "pr = Parameters(parameters_dict, evaluations={}, sequence=())\n",
    "[pp(psubobj.__dict__) for psubobj in (pr.job, pr.model, pr.solve, pr.resolve, pr.plot, pr.save)];"
   ]
  },
  {
   "cell_type": "code",
   "execution_count": 4,
   "metadata": {
    "hidden": true
   },
   "outputs": [
    {
     "name": "stdout",
     "output_type": "stream",
     "text": [
      "2.641e-05\n"
     ]
    }
   ],
   "source": [
    "print(pr.model.varphi_0)"
   ]
  },
  {
   "cell_type": "code",
   "execution_count": 5,
   "metadata": {
    "hidden": true
   },
   "outputs": [
    {
     "data": {
      "image/png": "[encoded data removed]",
      "text/latex": [
       "$\\displaystyle \\left( \\left\\{ \\eta : \\frac{1}{2}, \\  \\mu : \\frac{1}{4}\\right\\}, \\  \\frac{\\mu}{\\eta} = \\frac{1}{2}, \\  \\left\\{ L_\\mathrm{c} : 10000, \\  \\hat{\\varepsilon} : \\frac{1}{100}, \\  \\mathsf{Ci} : \\frac{\\pi}{1800}, \\  \\varepsilon : 100, \\  h_{0} : \\frac{1}{2}, \\  x_{h} : 1, \\  x_{\\sigma} : 0.01\\right\\}\\right)$"
      ],
      "text/plain": [
       "⎛                       \\mu         ⎧                                         \n",
       "⎜{\\eta: 1/2, \\mu: 1/4}, ──── = 1/2, ⎨L_\\mathrm{c}: 10000, \\hat{\\varepsilon}: 1\n",
       "⎝                       \\eta        ⎩                                         \n",
       "\n",
       "                    π                                                      ⎫⎞\n",
       "/100, \\mathsf{Ci}: ────, \\varepsilon: 100, h₀: 1/2, xₕ: 1, x_{\\sigma}: 0.01⎬⎟\n",
       "                   1800                                                    ⎭⎠"
      ]
     },
     "execution_count": 5,
     "metadata": {},
     "output_type": "execute_result"
    }
   ],
   "source": [
    "# Create a dict of the key physics parameters to be used in substitutions\n",
    "subexp = {\n",
    "    eta: pr.model.eta,\n",
    "    mu: pr.model.mu\n",
    "}\n",
    "sub = {\n",
    "    Ci: pr.model.Ci, \n",
    "    Lc: pr.model.Lc, \n",
    "    varepsilonhat: pr.model.varepsilonhat, \n",
    "    varepsilon: pr.model.varepsilonhat*pr.model.Lc, \n",
    "#     varphi_0: pr.model.varphi_0,\n",
    "    h_0: pr.model.h_0,\n",
    "    x_sigma: pr.model.x_sigma,\n",
    "    x_h: pr.model.x_h\n",
    "}\n",
    "subexp, Eq(mu/eta,pr.model.mu/pr.model.eta), sub"
   ]
  },
  {
   "cell_type": "markdown",
   "metadata": {
    "heading_collapsed": true
   },
   "source": [
    "# Equations"
   ]
  },
  {
   "cell_type": "markdown",
   "metadata": {
    "hidden": true
   },
   "source": [
    "Derive the GME equation set (using SymPy) for a specific erosion model."
   ]
  },
  {
   "cell_type": "code",
   "execution_count": 6,
   "metadata": {
    "hidden": true,
    "scrolled": false
   },
   "outputs": [],
   "source": [
    "gmeq = Equations( eta=pr.model.eta, \n",
    "                  mu=pr.model.mu, \n",
    "                  beta_type=pr.model.beta_type, \n",
    "                  varphi_type=pr.model.varphi_type, \n",
    "                  ibc_type=pr.model.ibc_type,\n",
    "                  do_idtx=pr.plot.do_huygens_wavelets | pr.plot.do_ray_conjugacy,\n",
    "                  parameters=sub, do_raw=True )"
   ]
  },
  {
   "cell_type": "markdown",
   "metadata": {
    "heading_collapsed": true
   },
   "source": [
    "# Integration"
   ]
  },
  {
   "cell_type": "markdown",
   "metadata": {
    "hidden": true
   },
   "source": [
    "Integrate Hamilton's equations in $(\\mathbf{r}, \\mathbf{\\widetilde{p}})[t]$ for a given vertical component of the erosion rate (initial condition) equivalent to a constant vertical velocity (boundary condition). In other words, given a value for vertical slip rate $\\xi^{\\downarrow}$ at the boundary at $x=0$, where the initial ray position is $\\left.(r^x, r^z)\\right|_{t=0} = (0,0)$, specify the initial value of the vertical component of the normal-slowness covector $p_z[t=0] = \\left.-1/\\xi^{\\downarrow}\\right|_{x=0}$.  The horizontal component of the initial covector $p_x[t=0]$ is computed by calculating the surface gradient $\\left.\\tan\\beta\\right|_{x=0}$ from the erosion model and then using $-p_x/p_z = \\tan\\beta$.\n",
    "\n",
    "Various ODE quadrature methods provided by SciPy's `solve_ivp` function can be used here:\n",
    "\"DOP853\" (explicit Runge-Kutta method of order 8(5,3)  with dense output of order 7); basic Runge-Kutta (RK45 or RK23); \"Radau\" (implicit Runge-Kutta method of the Radau IIA family of order 5); \"BDF\" (implicit multi-step variable-order (1 to 5) method based on a backward differentiation formula for the derivative approximation); \"LSODA\" (Adams/BDF method with automatic stiffness detection and switching). \"Radau\" is by far the most accurate (in terms of computing surface gradient); \"DOP853\" is less accurate, but its computation of vertical erosion rate is quite robust. \"BDF\" computes gradient a bit better, but its vertical erosion rate is less accurate. All quadrature methods have very similar timings.\n",
    "\n",
    "\n",
    "Test timings and notes for `TimeInvariant_tanbeta_rampflat_eta1p0_xiv25_xh0p9`:\n",
    "  - DOP853:  335ms\n",
    "      - ~1% errors in relative gradient, minor error in vertical erosion rate\n",
    "  - Radau:   340ms\n",
    "      - better than ~0.1% errors in relative gradient, **robust** vertical erosion rate\n",
    "  - RK45:   330ms\n",
    "      - ~1.5% errors in relative gradient,  moderate error in vertical erosion rate\n",
    "  - RK23:   330ms\n",
    "      - ~1.5% errors in relative gradient,  moderate error in vertical erosion rate\n",
    "  - BDF:   345ms\n",
    "      - ~0.3% errors in relative gradient, moderate error in vertical erosion rate\n",
    "  - LSODA:   335ms\n",
    "      - ~1% errors in relative gradient, moderate error in vertical erosion rate"
   ]
  },
  {
   "cell_type": "code",
   "execution_count": 7,
   "metadata": {
    "hidden": true
   },
   "outputs": [
    {
     "data": {
      "image/png": "[encoded data removed]",
      "text/latex": [
       "$\\displaystyle \\beta_{0} = 0.1 ^\\circ$"
      ],
      "text/plain": [
       "\\beta₀ = 0.1°"
      ]
     },
     "execution_count": 7,
     "metadata": {},
     "output_type": "execute_result"
    }
   ],
   "source": [
    "pr.model.beta_0 = float(beta_0.subs(e2d(gmeq.beta0_Ci_eqn\n",
    "                                        .subs(omitdict(sub,[beta_0])).subs(subexp))))\n",
    "sub.update({beta_0:pr.model.beta_0})\n",
    "convert(Eq(beta_0, pr.model.beta_0), n=2, units=degrees, do_raw=False)"
   ]
  },
  {
   "cell_type": "code",
   "execution_count": 8,
   "metadata": {
    "hidden": true
   },
   "outputs": [
    {
     "data": {
      "image/png": "[encoded data removed]",
      "text/latex": [
       "$\\displaystyle \\frac{\\xi^{\\downarrow{0}}}{\\xi^{\\rightarrow{0}}} = 0.00176278438839677$"
      ],
      "text/plain": [
       " \\xi__{\\downarrow{0}}                      \n",
       "───────────────────── = 0.00176278438839677\n",
       "\\xi__{\\rightarrow{0}}                      "
      ]
     },
     "execution_count": 8,
     "metadata": {},
     "output_type": "execute_result"
    }
   ],
   "source": [
    "xivh0_ = float((xiv_0/xih_0).subs(e2d(gmeq.xiv0_xih0_Ci_eqn)).subs(sub).subs(subexp).n())\n",
    "sub.update({(xiv_0/xih_0):xivh0_})\n",
    "Eq(xiv_0/xih_0, sub[xiv_0/xih_0])"
   ]
  },
  {
   "cell_type": "code",
   "execution_count": 9,
   "metadata": {
    "hidden": true
   },
   "outputs": [
    {
     "data": {
      "image/png": "[encoded data removed]",
      "text/latex": [
       "$\\displaystyle \\left[\\begin{matrix}\\hat{p}_x^{2 \\eta - 1} \\left(\\hat{p}_x^{2} + \\hat{p}_z^{2}\\right)^{- \\eta} \\left(\\eta \\hat{p}_z^{2} + \\hat{p}_x^{2}\\right) \\left(\\hat{\\varepsilon} - \\hat{r}^x + 1\\right)^{4 \\mu} \\sin^{2 - 2 \\eta}{\\left(\\mathsf{Ci} \\right)}\\\\- \\hat{p}_x^{2 \\eta} \\hat{p}_z \\left(\\eta - 1\\right) \\left(\\hat{p}_x^{2} + \\hat{p}_z^{2}\\right)^{- \\eta} \\left(\\hat{\\varepsilon} - \\hat{r}^x + 1\\right)^{4 \\mu} \\sin^{2 - 2 \\eta}{\\left(\\mathsf{Ci} \\right)}\\\\2 \\hat{p}_x^{2 \\eta} \\mu \\left(\\hat{p}_x^{2} + \\hat{p}_z^{2}\\right)^{1 - \\eta} \\left(\\hat{\\varepsilon} - \\hat{r}^x + 1\\right)^{4 \\mu - 1} \\sin^{2 - 2 \\eta}{\\left(\\mathsf{Ci} \\right)}\\\\0\\end{matrix}\\right]$"
      ],
      "text/plain": [
       "⎡                                           -\\eta                             \n",
       "⎢        2⋅\\eta - 1 ⎛        2            2⎞      ⎛              2           2\n",
       "⎢\\hat{p}ₓ          ⋅⎝\\hat{p}ₓ  + \\hat{p}_z ⎠     ⋅⎝\\eta⋅\\hat{p}_z  + \\hat{p}ₓ \n",
       "⎢                                                                             \n",
       "⎢                                                                   -\\eta     \n",
       "⎢               2⋅\\eta                      ⎛        2            2⎞          \n",
       "⎢      -\\hat{p}ₓ      ⋅\\hat{p}_z⋅(\\eta - 1)⋅⎝\\hat{p}ₓ  + \\hat{p}_z ⎠     ⋅(\\ha\n",
       "⎢                                                                             \n",
       "⎢                                                       1 - \\eta              \n",
       "⎢                    2⋅\\eta     ⎛        2            2⎞                      \n",
       "⎢          2⋅\\hat{p}ₓ      ⋅\\mu⋅⎝\\hat{p}ₓ  + \\hat{p}_z ⎠        ⋅(\\hat{\\vareps\n",
       "⎢                                                                             \n",
       "⎣                                                                         0   \n",
       "\n",
       "                                                                      ⎤\n",
       "⎞                                     4⋅\\mu    2 - 2⋅\\eta             ⎥\n",
       "⎠⋅(\\hat{\\varepsilon} - \\hat{r}__x + 1)     ⋅sin          (\\mathsf{Ci})⎥\n",
       "                                                                      ⎥\n",
       "                                                                      ⎥\n",
       "                                4⋅\\mu    2 - 2⋅\\eta                   ⎥\n",
       "t{\\varepsilon} - \\hat{r}__x + 1)     ⋅sin          (\\mathsf{Ci})      ⎥\n",
       "                                                                      ⎥\n",
       "                                                                      ⎥\n",
       "                       4⋅\\mu - 1    2 - 2⋅\\eta                        ⎥\n",
       "ilon} - \\hat{r}__x + 1)         ⋅sin          (\\mathsf{Ci})           ⎥\n",
       "                                                                      ⎥\n",
       "                                                                      ⎦"
      ]
     },
     "execution_count": 9,
     "metadata": {},
     "output_type": "execute_result"
    }
   ],
   "source": [
    "gmeq.hamiltons_ndim_eqns"
   ]
  },
  {
   "cell_type": "code",
   "execution_count": 10,
   "metadata": {
    "hidden": true
   },
   "outputs": [
    {
     "data": {
      "image/png": "[encoded data removed]",
      "text/latex": [
       "$\\displaystyle \\left[\\begin{matrix}p_{z} = - \\frac{\\xi^{\\rightarrow{0}}}{\\xi^{\\downarrow}}\\\\3.10739914401593 \\cdot 10^{-6} p_{x}^{4} \\left(1 - 0.99009900990099 {r}^x\\right)^{2} + 0.999996892600856 p_{x}^{2} \\left(1 - 0.99009900990099 {r}^x\\right)^{2} - 1.0 = 0\\\\\\xi^{\\downarrow{0}} = 0.00176278438839677 \\xi^{\\rightarrow{0}}\\end{matrix}\\right]$"
      ],
      "text/plain": [
       "⎡                                                   -\\xi__{\\rightarrow{0}}    \n",
       "⎢                                             p_z = ───────────────────────   \n",
       "⎢                                                      \\xi__{\\downarrow}      \n",
       "⎢                                                                             \n",
       "⎢                      4                              2                       \n",
       "⎢3.10739914401593e-6⋅pₓ ⋅(1 - 0.99009900990099⋅{r}__x)  + 0.999996892600856⋅pₓ\n",
       "⎢                                                                             \n",
       "⎣                           \\xi__{\\downarrow{0}} = 0.00176278438839677⋅\\xi__{\\\n",
       "\n",
       "                                          ⎤\n",
       "                                          ⎥\n",
       "                                          ⎥\n",
       "                                          ⎥\n",
       "2                              2          ⎥\n",
       " ⋅(1 - 0.99009900990099⋅{r}__x)  - 1.0 = 0⎥\n",
       "                                          ⎥\n",
       "rightarrow{0}}                            ⎦"
      ]
     },
     "execution_count": 10,
     "metadata": {},
     "output_type": "execute_result"
    }
   ],
   "source": [
    "gmeq_ndim_subset = EquationSubset(gmeq, sub, do_ndim=True, do_revert=True) \n",
    "Matrix([\n",
    "    gmeq_ndim_subset.pz_xiv_eqn,\n",
    "    gmeq_ndim_subset.poly_px_xiv0_eqn,\n",
    "    gmeq_ndim_subset.xiv0_xih0_Ci_eqn\n",
    "])"
   ]
  },
  {
   "cell_type": "code",
   "execution_count": 11,
   "metadata": {
    "hidden": true
   },
   "outputs": [
    {
     "data": {
      "image/png": "[encoded data removed]",
      "text/latex": [
       "$\\displaystyle \\left[\\begin{matrix}\\frac{0.00174532836589831 \\left(1.01 - {r}^x\\right) \\left(p_{x}^{2} + 0.5 p_{z}^{2}\\right)}{\\left(p_{x}^{2} + p_{z}^{2}\\right)^{0.5}}\\\\\\frac{0.000872664182949154 p_{x} p_{z} \\left(1.01 - {r}^x\\right)}{\\left(p_{x}^{2} + p_{z}^{2}\\right)^{0.5}}\\\\0.000872664182949154 p_{x} \\left(p_{x}^{2} + p_{z}^{2}\\right)^{0.5}\\\\0\\end{matrix}\\right]$"
      ],
      "text/plain": [
       "⎡                                                                 -0.5⎤\n",
       "⎢                                    ⎛  2          2⎞ ⎛  2      2⎞    ⎥\n",
       "⎢0.00174532836589831⋅(1.01 - {r}__x)⋅⎝pₓ  + 0.5⋅p_z ⎠⋅⎝pₓ  + p_z ⎠    ⎥\n",
       "⎢                                                                     ⎥\n",
       "⎢                                                            -0.5     ⎥\n",
       "⎢                                                ⎛  2      2⎞         ⎥\n",
       "⎢    0.000872664182949154⋅pₓ⋅p_z⋅(1.01 - {r}__x)⋅⎝pₓ  + p_z ⎠         ⎥\n",
       "⎢                                                                     ⎥\n",
       "⎢                                                   0.5               ⎥\n",
       "⎢                                       ⎛  2      2⎞                  ⎥\n",
       "⎢               0.000872664182949154⋅pₓ⋅⎝pₓ  + p_z ⎠                  ⎥\n",
       "⎢                                                                     ⎥\n",
       "⎣                                  0                                  ⎦"
      ]
     },
     "execution_count": 11,
     "metadata": {},
     "output_type": "execute_result"
    }
   ],
   "source": [
    "Matrix([gmeq_ndim_subset.hamiltons_eqns])"
   ]
  },
  {
   "cell_type": "markdown",
   "metadata": {
    "hidden": true
   },
   "source": [
    "Create an instance of the ODE solution object."
   ]
  },
  {
   "cell_type": "code",
   "execution_count": 12,
   "metadata": {
    "hidden": true
   },
   "outputs": [
    {
     "data": {
      "text/plain": [
       "('Hamilton', 'DOP853')"
      ]
     },
     "execution_count": 12,
     "metadata": {},
     "output_type": "execute_result"
    }
   ],
   "source": [
    "pr.solve.choice, pr.solve.method[pr.solve.choice]"
   ]
  },
  {
   "cell_type": "code",
   "execution_count": 13,
   "metadata": {
    "hidden": true
   },
   "outputs": [],
   "source": [
    "xmax_ = 0.999 #float(1-varepsilonhat.subs(sub))"
   ]
  },
  {
   "cell_type": "code",
   "execution_count": 14,
   "metadata": {
    "hidden": true
   },
   "outputs": [
    {
     "name": "stdout",
     "output_type": "stream",
     "text": [
      "Solve Hamilton's ODEs using DOP853 method of integration\n"
     ]
    }
   ],
   "source": [
    "gmes = TimeInvariantSolution( gmeq_ndim_subset, parameters=sub, \n",
    "                              t_end=pr.solve.t_end, t_distribn=pr.solve.t_distribn, \n",
    "                              x_stop=xmax_,\n",
    "                              n_t=pr.solve.ray_n_t,\n",
    "                              choice=pr.solve.choice, \n",
    "                              method=pr.solve.method[pr.solve.choice],\n",
    "                              do_dense=pr.solve.do_dense )"
   ]
  },
  {
   "cell_type": "markdown",
   "metadata": {
    "hidden": true
   },
   "source": [
    "Set of initial conditions for the ray."
   ]
  },
  {
   "cell_type": "code",
   "execution_count": 15,
   "metadata": {
    "hidden": true
   },
   "outputs": [
    {
     "data": {
      "image/png": "[encoded data removed]",
      "text/latex": [
       "$\\displaystyle \\left[ 0, \\  0, \\  1.0, \\  -567.284352290803\\right]$"
      ],
      "text/plain": [
       "[0, 0, 1.0, -567.284352290803]"
      ]
     },
     "execution_count": 15,
     "metadata": {},
     "output_type": "execute_result"
    }
   ],
   "source": [
    "gmes.initial_conditions()"
   ]
  },
  {
   "cell_type": "markdown",
   "metadata": {
    "hidden": true
   },
   "source": [
    "Perform integration of the coupled ODEs."
   ]
  },
  {
   "cell_type": "code",
   "execution_count": 16,
   "metadata": {
    "hidden": true,
    "scrolled": false
   },
   "outputs": [
    {
     "name": "stdout",
     "output_type": "stream",
     "text": [
      "Message: A termination event occurred.\n",
      "Success? True\n",
      "Status: 1\n",
      "t_final: 9.088444444444445\n",
      "rx_final: 0.9989800129556464\n"
     ]
    }
   ],
   "source": [
    "gmes.solve()\n",
    "print('Message: {}\\nSuccess? {}\\nStatus: {}\\nt_final: {}\\nrx_final: {}'\n",
    "      .format(gmes.solns[0].message, gmes.solns[0].success,\n",
    "              gmes.solns[0].status, gmes.solns[0].t[-1], gmes.solns[0].y[0][-1]) )"
   ]
  },
  {
   "cell_type": "markdown",
   "metadata": {
    "hidden": true
   },
   "source": [
    "Process the above output, which takes the form of time series of positions $\\{\\mathbf{r}\\}$ and front normal slownesses  $\\{\\mathbf{\\widetilde{p}}\\}$, into various arrays."
   ]
  },
  {
   "cell_type": "code",
   "execution_count": 17,
   "metadata": {
    "hidden": true
   },
   "outputs": [],
   "source": [
    "gmes.postprocessing(spline_order=pr.resolve.spline_order)"
   ]
  },
  {
   "cell_type": "code",
   "execution_count": 18,
   "metadata": {
    "hidden": true,
    "scrolled": false
   },
   "outputs": [],
   "source": [
    "gmes.more_postprocessing(spline_order=pr.resolve.spline_order, extrapolation_mode=1)"
   ]
  },
  {
   "cell_type": "markdown",
   "metadata": {
    "hidden": true
   },
   "source": [
    "Generate a time-invariant profile by spatially integrating the topographic gradients implied by the time series of front normal slownesses  $\\{\\mathbf{\\widetilde{p}}\\}$. \n",
    "\n",
    "This profile can alternatively be generated by synthesizing a staggered sequence of rays and gathering all the ray positions $\\{\\mathbf{r}\\}$ for a chosen time slice. This has already been done in the post-processing step."
   ]
  },
  {
   "cell_type": "code",
   "execution_count": 19,
   "metadata": {
    "hidden": true,
    "scrolled": false
   },
   "outputs": [],
   "source": [
    "gmes.integrate_h_profile(do_truncate=True, x_max=1) #xmax_"
   ]
  },
  {
   "cell_type": "code",
   "execution_count": 20,
   "metadata": {
    "hidden": true
   },
   "outputs": [],
   "source": [
    "# t_0p95 = symbols(r't^{\\rightarrow_{0.95}}',  real=True, negative=False)\n",
    "# h_0p95 = symbols(r'h_{0.95}',  real=True, negative=False)\n",
    "# t_0p9 = symbols(r't^{\\rightarrow_{0.9}}',  real=True, negative=False)\n",
    "# h_0p9 = symbols(r'h_{0.9}',  real=True, negative=False)"
   ]
  },
  {
   "cell_type": "markdown",
   "metadata": {},
   "source": [
    "# Results"
   ]
  },
  {
   "cell_type": "code",
   "execution_count": 21,
   "metadata": {},
   "outputs": [
    {
     "data": {
      "image/png": "[encoded data removed]",
      "text/latex": [
       "$\\displaystyle \\left( \\eta = \\frac{1}{2}, \\  \\mathsf{Ci} = \\frac{1}{10}\\right)$"
      ],
      "text/plain": [
       "(\\eta = 1/2, \\mathsf{Ci} = 1/10)"
      ]
     },
     "execution_count": 21,
     "metadata": {},
     "output_type": "execute_result"
    }
   ],
   "source": [
    "Eq(eta,pr.model.eta), Eq(Ci,deg(pr.model.Ci))"
   ]
  },
  {
   "cell_type": "code",
   "execution_count": 27,
   "metadata": {},
   "outputs": [
    {
     "data": {
      "image/png": "[encoded data removed]",
      "text/latex": [
       "$\\displaystyle \\left( h_{0.9} = 0.00394812107305128, \\  t^{\\rightarrow{0.9}} = 4.47855339095584\\right)$"
      ],
      "text/plain": [
       "(h_{0.9} = 0.00394812107305128, t__{\\rightarrow{0.9}} = 4.47855339095584)"
      ]
     },
     "execution_count": 27,
     "metadata": {},
     "output_type": "execute_result"
    }
   ],
   "source": [
    "x_ = 0.9\n",
    "Eq(h_0p9, gmes.h_interp(x_)), Eq(th_0p9, gmes.t_interp_x(x_))"
   ]
  },
  {
   "cell_type": "code",
   "execution_count": 26,
   "metadata": {},
   "outputs": [
    {
     "data": {
      "image/png": "[encoded data removed]",
      "text/latex": [
       "$\\displaystyle \\left( h_{0.95} = 0.00502844781105801, \\  t^{\\rightarrow{0.95}} = 5.70310343846856\\right)$"
      ],
      "text/plain": [
       "(h_{0.95} = 0.00502844781105801, t__{\\rightarrow{0.95}} = 5.70310343846856)"
      ]
     },
     "execution_count": 26,
     "metadata": {},
     "output_type": "execute_result"
    }
   ],
   "source": [
    "x_ = 0.95\n",
    "Eq(h_0p95, gmes.h_interp(x_)), Eq(th_0p95, gmes.t_interp_x(x_))"
   ]
  },
  {
   "cell_type": "code",
   "execution_count": 28,
   "metadata": {},
   "outputs": [
    {
     "data": {
      "text/plain": [
       "array([0.00000000e+00, 1.11111111e-04, 4.44444444e-04, 1.00000000e-03,\n",
       "       1.77777778e-03, 2.77777778e-03, 4.00000000e-03, 5.44444444e-03,\n",
       "       7.11111111e-03, 9.00000000e-03, 1.11111111e-02, 1.34444444e-02,\n",
       "       1.60000000e-02, 1.87777778e-02, 2.17777778e-02, 2.50000000e-02,\n",
       "       2.84444444e-02, 3.21111111e-02, 3.60000000e-02, 4.01111111e-02,\n",
       "       4.44444444e-02, 4.90000000e-02, 5.37777778e-02, 5.87777778e-02,\n",
       "       6.40000000e-02, 6.94444444e-02, 7.51111111e-02, 8.10000000e-02,\n",
       "       8.71111111e-02, 9.34444444e-02, 1.00000000e-01, 1.06777778e-01,\n",
       "       1.13777778e-01, 1.21000000e-01, 1.28444444e-01, 1.36111111e-01,\n",
       "       1.44000000e-01, 1.52111111e-01, 1.60444444e-01, 1.69000000e-01,\n",
       "       1.77777778e-01, 1.86777778e-01, 1.96000000e-01, 2.05444444e-01,\n",
       "       2.15111111e-01, 2.25000000e-01, 2.35111111e-01, 2.45444444e-01,\n",
       "       2.56000000e-01, 2.66777778e-01, 2.77777778e-01, 2.89000000e-01,\n",
       "       3.00444444e-01, 3.12111111e-01, 3.24000000e-01, 3.36111111e-01,\n",
       "       3.48444444e-01, 3.61000000e-01, 3.73777778e-01, 3.86777778e-01,\n",
       "       4.00000000e-01, 4.13444444e-01, 4.27111111e-01, 4.41000000e-01,\n",
       "       4.55111111e-01, 4.69444444e-01, 4.84000000e-01, 4.98777778e-01,\n",
       "       5.13777778e-01, 5.29000000e-01, 5.44444444e-01, 5.60111111e-01,\n",
       "       5.76000000e-01, 5.92111111e-01, 6.08444444e-01, 6.25000000e-01,\n",
       "       6.41777778e-01, 6.58777778e-01, 6.76000000e-01, 6.93444444e-01,\n",
       "       7.11111111e-01, 7.29000000e-01, 7.47111111e-01, 7.65444444e-01,\n",
       "       7.84000000e-01, 8.02777778e-01, 8.21777778e-01, 8.41000000e-01,\n",
       "       8.60444444e-01, 8.80111111e-01, 9.00000000e-01, 9.20111111e-01,\n",
       "       9.40444444e-01, 9.61000000e-01, 9.81777778e-01, 1.00277778e+00,\n",
       "       1.02400000e+00, 1.04544444e+00, 1.06711111e+00, 1.08900000e+00,\n",
       "       1.11111111e+00, 1.13344444e+00, 1.15600000e+00, 1.17877778e+00,\n",
       "       1.20177778e+00, 1.22500000e+00, 1.24844444e+00, 1.27211111e+00,\n",
       "       1.29600000e+00, 1.32011111e+00, 1.34444444e+00, 1.36900000e+00,\n",
       "       1.39377778e+00, 1.41877778e+00, 1.44400000e+00, 1.46944444e+00,\n",
       "       1.49511111e+00, 1.52100000e+00, 1.54711111e+00, 1.57344444e+00,\n",
       "       1.60000000e+00, 1.62677778e+00, 1.65377778e+00, 1.68100000e+00,\n",
       "       1.70844444e+00, 1.73611111e+00, 1.76400000e+00, 1.79211111e+00,\n",
       "       1.82044444e+00, 1.84900000e+00, 1.87777778e+00, 1.90677778e+00,\n",
       "       1.93600000e+00, 1.96544444e+00, 1.99511111e+00, 2.02500000e+00,\n",
       "       2.05511111e+00, 2.08544444e+00, 2.11600000e+00, 2.14677778e+00,\n",
       "       2.17777778e+00, 2.20900000e+00, 2.24044444e+00, 2.27211111e+00,\n",
       "       2.30400000e+00, 2.33611111e+00, 2.36844444e+00, 2.40100000e+00,\n",
       "       2.43377778e+00, 2.46677778e+00, 2.50000000e+00, 2.53344444e+00,\n",
       "       2.56711111e+00, 2.60100000e+00, 2.63511111e+00, 2.66944444e+00,\n",
       "       2.70400000e+00, 2.73877778e+00, 2.77377778e+00, 2.80900000e+00,\n",
       "       2.84444444e+00, 2.88011111e+00, 2.91600000e+00, 2.95211111e+00,\n",
       "       2.98844444e+00, 3.02500000e+00, 3.06177778e+00, 3.09877778e+00,\n",
       "       3.13600000e+00, 3.17344444e+00, 3.21111111e+00, 3.24900000e+00,\n",
       "       3.28711111e+00, 3.32544444e+00, 3.36400000e+00, 3.40277778e+00,\n",
       "       3.44177778e+00, 3.48100000e+00, 3.52044444e+00, 3.56011111e+00,\n",
       "       3.60000000e+00, 3.64011111e+00, 3.68044444e+00, 3.72100000e+00,\n",
       "       3.76177778e+00, 3.80277778e+00, 3.84400000e+00, 3.88544444e+00,\n",
       "       3.92711111e+00, 3.96900000e+00, 4.01111111e+00, 4.05344444e+00,\n",
       "       4.09600000e+00, 4.13877778e+00, 4.18177778e+00, 4.22500000e+00,\n",
       "       4.26844444e+00, 4.31211111e+00, 4.35600000e+00, 4.40011111e+00,\n",
       "       4.44444444e+00, 4.48900000e+00, 4.53377778e+00, 4.57877778e+00,\n",
       "       4.62400000e+00, 4.66944444e+00, 4.71511111e+00, 4.76100000e+00,\n",
       "       4.80711111e+00, 4.85344444e+00, 4.90000000e+00, 4.94677778e+00,\n",
       "       4.99377778e+00, 5.04100000e+00, 5.08844444e+00, 5.13611111e+00,\n",
       "       5.18400000e+00, 5.23211111e+00, 5.28044444e+00, 5.32900000e+00,\n",
       "       5.37777778e+00, 5.42677778e+00, 5.47600000e+00, 5.52544444e+00,\n",
       "       5.57511111e+00, 5.62500000e+00, 5.67511111e+00, 5.72544444e+00,\n",
       "       5.77600000e+00, 5.82677778e+00, 5.87777778e+00, 5.92900000e+00,\n",
       "       5.98044444e+00, 6.03211111e+00, 6.08400000e+00, 6.13611111e+00,\n",
       "       6.18844444e+00, 6.24100000e+00, 6.29377778e+00, 6.34677778e+00,\n",
       "       6.40000000e+00, 6.45344444e+00, 6.50711111e+00, 6.56100000e+00,\n",
       "       6.61511111e+00, 6.66944444e+00, 6.72400000e+00, 6.77877778e+00,\n",
       "       6.83377778e+00, 6.88900000e+00, 6.94444444e+00, 7.00011111e+00,\n",
       "       7.05600000e+00, 7.11211111e+00, 7.16844444e+00, 7.22500000e+00,\n",
       "       7.28177778e+00, 7.33877778e+00, 7.39600000e+00, 7.45344444e+00,\n",
       "       7.51111111e+00, 7.56900000e+00, 7.62711111e+00, 7.68544444e+00,\n",
       "       7.74400000e+00, 7.80277778e+00, 7.86177778e+00, 7.92100000e+00,\n",
       "       7.98044444e+00, 8.04011111e+00, 8.10000000e+00, 8.16011111e+00,\n",
       "       8.22044444e+00, 8.28100000e+00, 8.34177778e+00, 8.40277778e+00,\n",
       "       8.46400000e+00, 8.52544444e+00, 8.58711111e+00, 8.64900000e+00,\n",
       "       8.71111111e+00, 8.77344444e+00, 8.83600000e+00, 8.89877778e+00,\n",
       "       8.96177778e+00, 9.02500000e+00, 9.08844444e+00])"
      ]
     },
     "execution_count": 28,
     "metadata": {},
     "output_type": "execute_result"
    }
   ],
   "source": [
    "gmes.t_array"
   ]
  },
  {
   "cell_type": "markdown",
   "metadata": {
    "heading_collapsed": true
   },
   "source": [
    "# Plots"
   ]
  },
  {
   "cell_type": "markdown",
   "metadata": {
    "hidden": true
   },
   "source": [
    "Visualization of results"
   ]
  },
  {
   "cell_type": "markdown",
   "metadata": {
    "hidden": true
   },
   "source": [
    "## Preliminaries"
   ]
  },
  {
   "cell_type": "code",
   "execution_count": 23,
   "metadata": {
    "hidden": true
   },
   "outputs": [],
   "source": [
    "gr = TimeInvariantPlots()"
   ]
  },
  {
   "cell_type": "code",
   "execution_count": 24,
   "metadata": {
    "hidden": true
   },
   "outputs": [
    {
     "data": {
      "text/plain": [
       "'tis_eta0p5_Ci0p1'"
      ]
     },
     "execution_count": 24,
     "metadata": {},
     "output_type": "execute_result"
    }
   ],
   "source": [
    "prefix = pr.job.short_name\n",
    "\n",
    "suffix  = f'_eta{float(sy.N(pr.model.eta))}'\n",
    "suffix += f'_Ci{float(sy.N(sy.deg(pr.model.Ci)))}'\n",
    "# suffix += f'_ratio{float(sy.N(gmeq.mu/gmeq.eta))}' if gmeq.mu!=Rational(1,2) else ''\n",
    "# suffix += f'_xiv{float(sy.N(gmes.parameters[xiv_0])):1.0f}'\n",
    "# suffix = (suffix if pr.model.varphi_type=='ramp' \\\n",
    "#             else suffix+f'_xh{float(gmes.parameters[x_h]):1.1f}')\n",
    "\n",
    "job_name = prefix+suffix.replace('.','p')\n",
    "job_name"
   ]
  },
  {
   "cell_type": "markdown",
   "metadata": {
    "hidden": true
   },
   "source": [
    "## Graphs"
   ]
  },
  {
   "cell_type": "markdown",
   "metadata": {
    "hidden": true
   },
   "source": [
    "Graph a selection of staggered ray solutions (colorized lines with arrows) along with the time-invariant solution solved for in two ways (gathering of staggered ray termini or integration of gradients along a ray)."
   ]
  },
  {
   "cell_type": "code",
   "execution_count": null,
   "metadata": {
    "hidden": true,
    "scrolled": false
   },
   "outputs": [],
   "source": [
    "gr.profile_h_rays( gmes, gmeq, sub, job_name+'_h_rays', fig_size=(10,7), \n",
    "                   y_limits=pr.plot.ray_y_limits, \n",
    "                   eta_label_xy=pr.plot.ray_eta_xy, \n",
    "                   n_points=pr.plot.rays_n_points,\n",
    "                   n_rays=pr.plot.n_rays,\n",
    "                   profile_subsetting=pr.plot.profile_subsetting, \n",
    "                   do_pub_label=pr.plot.do_pub_labeling, \n",
    "                   pub_label=pr.plot.pub_labels['profile_h_rays'],\n",
    "                   pub_label_xy=pr.plot.pub_label_posns['profile_h_rays'] )"
   ]
  },
  {
   "cell_type": "code",
   "execution_count": null,
   "metadata": {
    "hidden": true
   },
   "outputs": [],
   "source": [
    "if pr.plot.do_profile_extra:\n",
    "    gr.profile_h_rays( gmes, gmeq, sub, job_name+'_h_rays_extra', fig_size=(10,7), \n",
    "                       ray_subsetting=pr.plot.ray_subsetting, n_points=pr.plot.rays_n_points,\n",
    "                       do_simple=True )"
   ]
  },
  {
   "cell_type": "markdown",
   "metadata": {
    "hidden": true
   },
   "source": [
    "Graph the behavior of $\\mathbf{r}$, $\\mathbf{v}$, and  $\\mathbf{\\widetilde{p}}$ along a time-invariant profile, along with a measure of $\\mathbf{v},\\mathbf{\\widetilde{p}}$ anisotropy."
   ]
  },
  {
   "cell_type": "code",
   "execution_count": null,
   "metadata": {
    "hidden": true
   },
   "outputs": [],
   "source": [
    "gr.profile_aniso( gmes, gmeq, sub, job_name+'_aniso', fig_size=(10,7), \n",
    "                  y_limits=pr.plot.aniso_y_limits, \n",
    "                  xf_stop=0.995,\n",
    "                  n_points=pr.plot.aniso_n_points, n_arrows=(pr.plot.aniso_n_points+1)//2, \n",
    "                  v_exponent=pr.plot.aniso_arrow_exponent, v_scale=pr.plot.aniso_arrow_size, \n",
    "                  do_pub_label=pr.plot.do_pub_labeling, \n",
    "                  pub_label=pr.plot.pub_labels['profile_aniso'])"
   ]
  },
  {
   "cell_type": "code",
   "execution_count": null,
   "metadata": {
    "hidden": true
   },
   "outputs": [],
   "source": [
    "gr.profile_beta( gmes, gmeq, sub, job_name+'_beta', fig_size=(8,3), n_points=25,\n",
    "                 do_pub_label=pr.plot.do_pub_labeling, \n",
    "                 pub_label=pr.plot.pub_labels['profile_beta'],\n",
    "                 pub_label_xy=pr.plot.pub_label_posns['profile_beta'] )"
   ]
  },
  {
   "cell_type": "code",
   "execution_count": null,
   "metadata": {
    "hidden": true
   },
   "outputs": [],
   "source": [
    "gr.profile_beta_error( gmes, gmeq, sub, job_name+'_beta_error', fig_size=(8,3), \n",
    "                       n_points=pr.plot.profile_n_points )"
   ]
  },
  {
   "cell_type": "code",
   "execution_count": null,
   "metadata": {
    "hidden": true
   },
   "outputs": [],
   "source": [
    "#TODO: norm by xih0 not xiv0\n",
    "gr.profile_xi( gmes, gmeq, sub, job_name+'_xi', fig_size=(8,3), \n",
    "               n_points=pr.plot.profile_n_points, \n",
    "               xi_norm=1, #xih_0.subs(sub), \n",
    "               do_etaxi_label=pr.plot.do_etaxi_labeling,\n",
    "               do_pub_label=pr.plot.do_pub_labeling,\n",
    "               pub_label=pr.plot.pub_labels['profile_xi'] )"
   ]
  },
  {
   "cell_type": "code",
   "execution_count": null,
   "metadata": {
    "hidden": true
   },
   "outputs": [],
   "source": [
    "#TODO: norm by xih0 not xiv0\n",
    "gr.profile_xihorizontal( gmes, gmeq, sub, job_name+'_xihorizontal', fig_size=(8,3), \n",
    "                         n_points=pr.plot.profile_n_points, \n",
    "                         xi_norm=1, #xih_0.subs(sub), \n",
    "                         do_etaxi_label=pr.plot.do_etaxi_labeling,\n",
    "                         do_pub_label=pr.plot.do_pub_labeling,\n",
    "                         pub_label=pr.plot.pub_labels['profile_xihorizontal'] )"
   ]
  },
  {
   "cell_type": "code",
   "execution_count": null,
   "metadata": {
    "hidden": true
   },
   "outputs": [],
   "source": [
    "#TODO: norm by xih0 not xiv0\n",
    "gr.profile_xivertical( gmes, gmeq, sub, job_name+'_xivertical', fig_size=(8,3), \n",
    "                       n_points=pr.plot.profile_n_points, \n",
    "#                        y_limits=[xiv_mean-xiv_deviation, xiv_mean+xiv_deviation],\n",
    "                       xi_norm=1, #xih_0.subs(sub), \n",
    "                       do_etaxi_label=pr.plot.do_etaxi_labeling,\n",
    "                       do_pub_label=pr.plot.do_pub_labeling, \n",
    "                       pub_label=pr.plot.pub_labels['profile_xivertical'] )"
   ]
  },
  {
   "cell_type": "markdown",
   "metadata": {
    "heading_collapsed": true
   },
   "source": [
    "# Save"
   ]
  },
  {
   "cell_type": "markdown",
   "metadata": {
    "hidden": true
   },
   "source": [
    "Export the graphs as PNG and/or PDF image files."
   ]
  },
  {
   "cell_type": "code",
   "execution_count": null,
   "metadata": {
    "hidden": true
   },
   "outputs": [],
   "source": [
    "plots_dir = create_directories(pr.save.figs_path, pr.job.group_name)\n",
    "export_plots( gr.fdict, plots_dir, pr.save.figs_format, suffix='' )"
   ]
  }
 ],
 "metadata": {
  "hide_input": false,
  "kernelspec": {
   "display_name": "Python 3",
   "language": "python",
   "name": "python3"
  },
  "language_info": {
   "codemirror_mode": {
    "name": "ipython",
    "version": 3
   },
   "file_extension": ".py",
   "mimetype": "text/x-python",
   "name": "python",
   "nbconvert_exporter": "python",
   "pygments_lexer": "ipython3",
   "version": "3.8.12"
  },
  "varInspector": {
   "cols": {
    "lenName": 16,
    "lenType": 16,
    "lenVar": 40
   },
   "kernels_config": {
    "python": {
     "delete_cmd_postfix": "",
     "delete_cmd_prefix": "del ",
     "library": "var_list.py",
     "varRefreshCmd": "print(var_dic_list())"
    },
    "r": {
     "delete_cmd_postfix": ") ",
     "delete_cmd_prefix": "rm(",
     "library": "var_list.r",
     "varRefreshCmd": "cat(var_dic_list()) "
    }
   },
   "position": {
    "height": "398.85px",
    "left": "671px",
    "right": "20px",
    "top": "120px",
    "width": "378px"
   },
   "types_to_exclude": [
    "module",
    "function",
    "builtin_function_or_method",
    "instance",
    "_Feature"
   ],
   "window_display": false
  }
 },
 "nbformat": 4,
 "nbformat_minor": 2
}
