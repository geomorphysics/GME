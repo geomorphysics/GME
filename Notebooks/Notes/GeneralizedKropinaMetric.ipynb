{
 "cells": [
  {
   "cell_type": "markdown",
   "metadata": {},
   "source": [
    "# Summary"
   ]
  },
  {
   "cell_type": "markdown",
   "metadata": {},
   "source": [
    "The geomorphic fundamental \"metric\" function $\\mathcal{F}^*$ prescribes the distance traveled by an erosion front in unit time. It takes the form (for the bedrock channel SPIM model) of power functions of the surface-normal erosion slowness covector components $\\mathbf{p} = [p_x, p_z]$ multiplied by a position dependent rate variable $\\varphi(\\mathbf{r})$. This kind of fundamental function is called a generalized Kropina metric on $\\mathsf{T}^*\\mathsf{M}$. This canonical metric is one of the family of so-called $(\\alpha^*,\\beta^*)$ Finsler (Cartan) metrics that, when defined on the cotangent manifold indicated by the $*$ annotation, combine a contravariant Riemannian metric tensor $a^{ij}$ with a vector field $b^i$ (the equivalent on the tangent manifold employs a 1-form $b_i$ along with a covariant metric tensor $a_{ij}$). In this geomorphic case, the Riemannian tensor is just the Euclidean metric tensor scaled by $\\sqrt{\\varphi(\\mathbf{r})}$, while the vector field is simply ${\\varphi(\\mathbf{r})}$ applied to the horizontal unit vector."
   ]
  },
  {
   "cell_type": "code",
   "execution_count": 10,
   "metadata": {},
   "outputs": [],
   "source": [
    "import sympy as sy, numpy as np, os\n",
    "\n",
    "sy.init_printing(pretty_print=True, wrap_line=True)\n",
    "from sympy import simplify, expand, factor, Eq, Abs, Rational, sqrt, symbols\n",
    "from gme.core.equations import Equations\n",
    "from gme.core.symbols import eta, astar_riem, bstar_vec, varphi_r, rvec, px, pz\n"
   ]
  },
  {
   "cell_type": "code",
   "execution_count": 11,
   "metadata": {},
   "outputs": [],
   "source": [
    "gmeq = Equations(eta_=Rational(1,2),  \n",
    "                 mu_=Rational(1,4),\n",
    "                 beta_type='sin', \n",
    "                 do_raw=True )"
   ]
  },
  {
   "cell_type": "markdown",
   "metadata": {},
   "source": [
    "# Fundamental function"
   ]
  },
  {
   "cell_type": "markdown",
   "metadata": {},
   "source": [
    "The co-Finsler/Cartan fundamental function for the geomorphic (SPIM) Hamiltonian, derived from first principles, is:"
   ]
  },
  {
   "cell_type": "code",
   "execution_count": 12,
   "metadata": {},
   "outputs": [
    {
     "data": {
      "image/png": "[encoded data removed]",
      "text/latex": [
       "$\\displaystyle \\mathcal{F}_* = p_{x}^{\\eta} \\left(p_{x}^{2} + p_{z}^{2}\\right)^{\\frac{1}{2} - \\frac{\\eta}{2}} \\varphi{\\left(\\mathbf{r} \\right)}$"
      ],
      "text/plain": [
       "                                   1   \\eta                    \n",
       "                                   ─ - ────                    \n",
       "                                   2    2                      \n",
       "                  \\eta ⎛  2      2⎞                            \n",
       "\\mathcal{F}_* = pₓ    ⋅⎝pₓ  + p_z ⎠        ⋅\\varphi(\\mathbf{r})"
      ]
     },
     "execution_count": 12,
     "metadata": {},
     "output_type": "execute_result"
    }
   ],
   "source": [
    "gmeq.Fstar_eqn"
   ]
  },
  {
   "cell_type": "markdown",
   "metadata": {},
   "source": [
    "For a gradient-scaling exponent of $\\eta=\\tfrac{1}{2}$ in the SPIM, we have"
   ]
  },
  {
   "cell_type": "code",
   "execution_count": 13,
   "metadata": {},
   "outputs": [
    {
     "data": {
      "image/png": "[encoded data removed]",
      "text/latex": [
       "$\\displaystyle \\mathcal{F}_* = \\sqrt{p_{x}} \\sqrt[4]{p_{x}^{2} + p_{z}^{2}} \\varphi{\\left(\\mathbf{r} \\right)}$"
      ],
      "text/plain": [
       "                          ____________                    \n",
       "                  ____ 4 ╱   2      2                     \n",
       "\\mathcal{F}_* = ╲╱ pₓ ⋅╲╱  pₓ  + p_z  ⋅\\varphi(\\mathbf{r})"
      ]
     },
     "execution_count": 13,
     "metadata": {},
     "output_type": "execute_result"
    }
   ],
   "source": [
    "gmeq.Fstar_eqn.subs({eta:Rational(1,2)})"
   ]
  },
  {
   "cell_type": "markdown",
   "metadata": {},
   "source": [
    "while for a gradient-scaling exponent of $\\eta=\\tfrac{3}{2}$ in the SPIM, we have"
   ]
  },
  {
   "cell_type": "code",
   "execution_count": 14,
   "metadata": {},
   "outputs": [
    {
     "data": {
      "image/png": "[encoded data removed]",
      "text/latex": [
       "$\\displaystyle \\mathcal{F}_* = \\frac{p_{x}^{\\frac{3}{2}} \\varphi{\\left(\\mathbf{r} \\right)}}{\\sqrt[4]{p_{x}^{2} + p_{z}^{2}}}$"
      ],
      "text/plain": [
       "                  3/2                    \n",
       "                pₓ   ⋅\\varphi(\\mathbf{r})\n",
       "\\mathcal{F}_* = ─────────────────────────\n",
       "                        ____________     \n",
       "                     4 ╱   2      2      \n",
       "                     ╲╱  pₓ  + p_z       "
      ]
     },
     "execution_count": 14,
     "metadata": {},
     "output_type": "execute_result"
    }
   ],
   "source": [
    "gmeq.Fstar_eqn.subs({eta:Rational(3,2)}) "
   ]
  },
  {
   "cell_type": "markdown",
   "metadata": {},
   "source": [
    "# Conversion to generalized Kropina form"
   ]
  },
  {
   "cell_type": "code",
   "execution_count": 15,
   "metadata": {},
   "outputs": [
    {
     "data": {
      "image/png": "[encoded data removed]",
      "text/latex": [
       "$\\displaystyle \\left( \\alpha^*_{\\mathrm{Kr}} = \\sqrt{p_{x}^{2} + p_{z}^{2}} \\varphi{\\left(\\mathbf{r} \\right)}, \\  \\beta^*_{\\mathrm{Kr}} = p_{x} \\varphi{\\left(\\mathbf{r} \\right)}\\right)$"
      ],
      "text/plain": [
       "⎛                             ____________                                    \n",
       "⎜                            ╱   2      2                                     \n",
       "⎝\\alpha_{\\mathrm{Kr}}__* = ╲╱  pₓ  + p_z  ⋅\\varphi(\\mathbf{r}), \\beta_{\\mathrm\n",
       "\n",
       "                                 ⎞\n",
       "                                 ⎟\n",
       "{Kr}}__* = pₓ⋅\\varphi(\\mathbf{r})⎠"
      ]
     },
     "execution_count": 15,
     "metadata": {},
     "output_type": "execute_result"
    }
   ],
   "source": [
    "astar_eqn = Eq(astar_riem, varphi_r(rvec)*sqrt(px**2+pz**2) )\n",
    "bstar_eqn = Eq(bstar_vec, (varphi_r(rvec)*px) )\n",
    "astar_eqn, bstar_eqn"
   ]
  },
  {
   "cell_type": "markdown",
   "metadata": {},
   "source": [
    "So we have the components of an $(\\alpha, \\beta)$ metric [Matsumoto, 1992] on our Cartan/co-Finsler space, i.e., on $\\mathsf{T}^*\\mathsf{M}$,\n",
    "where\n",
    "\\begin{equation}\n",
    "    \\alpha^*_{\\mathrm{Kr}} = \\left( a^{ij}(\\mathbf{r})\\, p_i\\, p_j \\right)^{\\frac{1}{2}}\n",
    "    ,\\quad\n",
    "    \\beta^*_{\\mathrm{Kr}} = p_i b^i(\\mathbf{r})\n",
    "\\end{equation}\n",
    "\n",
    "\n",
    "The Riemannian component $a^{ij}$ is just a Euclidean metric tensor\n",
    "\\begin{equation}\n",
    "    a^{ij}(\\mathbf{r}) \n",
    "    =\n",
    "    {\\varphi^2(\\mathbf{r})}\n",
    "    \\begin{bmatrix}\n",
    "        1 & 0 \\\\\n",
    "        0 & 1\n",
    "    \\end{bmatrix}\n",
    "\\end{equation}\n",
    "\n",
    "and the vector field component $b^i$ (the dual of what would be a 1-form for an $(\\alpha, \\beta)$ metric on a Finsler space, i.e., on $\\mathsf{T}\\mathsf{M}$) is\n",
    "\\begin{equation}\n",
    "    b^{i}(\\mathbf{r}) \n",
    "    =\n",
    "    {\\varphi(\\mathbf{r})}\n",
    "    \\begin{bmatrix}\n",
    "        1 \\\\\n",
    "        0\n",
    "    \\end{bmatrix}\n",
    "\\end{equation}"
   ]
  },
  {
   "cell_type": "code",
   "execution_count": 16,
   "metadata": {},
   "outputs": [
    {
     "data": {
      "image/png": "[encoded data removed]",
      "text/latex": [
       "$\\displaystyle \\left(\\alpha^*_{\\mathrm{Kr}}\\right)^{1 - \\eta} \\left(\\beta^*_{\\mathrm{Kr}}\\right)^{\\eta} = p_{x}^{\\eta} \\left(p_{x}^{2} + p_{z}^{2}\\right)^{\\frac{1}{2} - \\frac{\\eta}{2}} \\varphi{\\left(\\mathbf{r} \\right)}$"
      ],
      "text/plain": [
       "                                                                              \n",
       "                                                                              \n",
       "                                                                              \n",
       "                       1 - \\eta                       \\eta     \\eta ⎛  2      \n",
       "\\alpha_{\\mathrm{Kr}}__*        ⋅\\beta_{\\mathrm{Kr}}__*     = pₓ    ⋅⎝pₓ  + p_z\n",
       "\n",
       "  1   \\eta                    \n",
       "  ─ - ────                    \n",
       "  2    2                      \n",
       "2⎞                            \n",
       " ⎠        ⋅\\varphi(\\mathbf{r})"
      ]
     },
     "execution_count": 16,
     "metadata": {},
     "output_type": "execute_result"
    }
   ],
   "source": [
    "abstar_eqn = Eq(\n",
    "    astar_eqn.lhs**(1-eta) * (bstar_eqn.lhs)**eta , \n",
    "    simplify(expand( astar_eqn.rhs**(1-eta) * (bstar_eqn.rhs)**eta ))\n",
    "    )\n",
    "abstar_eqn"
   ]
  },
  {
   "cell_type": "code",
   "execution_count": 17,
   "metadata": {},
   "outputs": [
    {
     "data": {
      "image/png": "[encoded data removed]",
      "text/latex": [
       "$\\displaystyle \\left( \\mathcal{F}_* = p_{x}^{\\eta} \\left(p_{x}^{2} + p_{z}^{2}\\right)^{\\frac{1}{2} - \\frac{\\eta}{2}} \\varphi{\\left(\\mathbf{r} \\right)}, \\  \\text{True}\\right)$"
      ],
      "text/plain": [
       "⎛                                   1   \\eta                          ⎞\n",
       "⎜                                   ─ - ────                          ⎟\n",
       "⎜                                   2    2                            ⎟\n",
       "⎜                  \\eta ⎛  2      2⎞                                  ⎟\n",
       "⎝\\mathcal{F}_* = pₓ    ⋅⎝pₓ  + p_z ⎠        ⋅\\varphi(\\mathbf{r}), True⎠"
      ]
     },
     "execution_count": 17,
     "metadata": {},
     "output_type": "execute_result"
    }
   ],
   "source": [
    "gmeq.Fstar_eqn, Eq(abstar_eqn.rhs, gmeq.Fstar_eqn.rhs)"
   ]
  },
  {
   "cell_type": "markdown",
   "metadata": {},
   "source": [
    "Therefore $F^*$ is a generalized $m$-Kropina metric on the co-Finsler (Cartan) space, which has the standard form:\n",
    "\n",
    "\\begin{equation}\n",
    "    F^* = \\alpha^{m+1} \\beta^{-m}\n",
    "\\end{equation}\n",
    "where $m:=-\\eta$, with the constraint that $m \\neq 0, -1$, and where $\\alpha := \\alpha^*_\\mathrm{Kr}$ and  $\\beta:=\\beta^*_\\mathrm{Kr}$ (don't confuse these $\\alpha$, $\\beta$ with the ray and surface tilt angles).\n",
    "\n",
    "For $\\eta=\\tfrac{1}{2}$, we have a generalized $\\left(-\\tfrac{1}{2}\\right)$-Kropina metric function $F^* = \\alpha^{1/2} \\beta^{1/2}$.\n",
    "\n",
    "For $\\eta=\\tfrac{3}{2}$, we have a generalized $\\left(-\\tfrac{3}{2}\\right)$-Kropina metric function $F^* = \\alpha^{-1/2} \\beta^{3/2}$.\n",
    "\n",
    "For $\\eta=1$, the metric function is ill-defined.\n",
    "\n",
    "Note: the canonical Kropina metric is usually used to describe $F$ not $F^*$, but not exclusively."
   ]
  },
  {
   "cell_type": "markdown",
   "metadata": {},
   "source": [
    "# References"
   ]
  },
  {
   "cell_type": "markdown",
   "metadata": {},
   "source": [
    "[Antonelli, P. L., Ingarden, R. S., & Matsumoto, M. (1993). The theory of sprays and Finsler spaces with applications in physics and biology. Dordrecht: Springer-Science+Business Media, B.Y.](http://doi.org/10.1007/978-94-015-8194-3) – see chapter 1.4.\n",
    "\n",
    "[Hrimiuc, D., & Shimada, H. (1996). On the  $\\mathcal{L}$-duality between Lagrange and Hamilton manifolds. Nonlinear World, 3, 613–641.](https://www.researchgate.net/publication/265953429_On_the_L-duality_between_Lagrange_and_Hamilton_manifolds)\n",
    "\n",
    "[Hrimiuc, D., & Shimada, H. (1997). On some special problems concerning the $\\mathscr{L}$-duality between Finsler and Cartan spaces. Tensor N. S., 58, 48–61.](https://www.researchgate.net/publication/266994467_On_some_special_problems_concerning_the_-duality_between_Finsler_and_Cartan_spaces)\n",
    "\n",
    "[Kropina, V. K. (1961). On projective two-dimensional Finsler spaces with special metric, 11.](https://arxiv.org/abs/math/0605759)\n",
    "\n",
    "[Kushwaha, R. S., & Shanker, G. (2018). On the $\\mathcal{L}$-duality of a Finsler space with exponential metric $\\alpha e^{\\beta/\\alpha}$. Acta Universitatis Sapientiae, Mathematica, 10(1), 167–177.](http://doi.org/10.2478/ausm-2018-0014)\n",
    "\n",
    "[Matsumoto, M. (1992). Theory of Finsler spaces with $(\\alpha,\\beta)$-metric. Reports on Mathematical Physics, 31(1), 43–83.](http://doi.org/10.1016/0034-4877(92)90005-L)\n",
    "\n",
    "[Miron, R., Hrimiuc, D., Shimada, H., & Sabau, S. V. (2002). The Geometry of Hamilton and Lagrange Spaces. Dordrecht: Springer Science & Business Media. ](http://doi.org/10.1007/0-306-47135-3) – see chapter 6 on \"Cartan Spaces\", which includes Kropina metrics on $\\mathsf{T}^*\\mathsf{M}$, and $(\\alpha^*, \\beta^*)$ metrics\n",
    "\n",
    "[Sabau, S. V., & Shimada, H. (2001). Classes of Finsler spaces with $(\\alpha, \\beta)$-metrics. Reports on Mathematical Physics, 41(1), 31–48.](http://doi.org/10.1016/S0034-4877(01)90004-7)\n",
    "\n",
    "[Shanker, G. (2011). The $\\mathcal{L}$-dual of a generalized m-Kropina space. Journal of the Tensor Society, 5, 15–25.](https://tensorsociety.org/the-l-dual-of-a-generalized-m-kropina-space-2/)\n",
    "\n"
   ]
  }
 ],
 "metadata": {
  "hide_input": false,
  "interpreter": {
   "hash": "7a792fcb311f9eb9f3c1b942a8c87ada8484712b89b670347c16a1088e0a1f69"
  },
  "kernelspec": {
   "display_name": "Python 3.8.12 64-bit",
   "language": "python",
   "name": "python3"
  },
  "language_info": {
   "codemirror_mode": {
    "name": "ipython",
    "version": 3
   },
   "file_extension": ".py",
   "mimetype": "text/x-python",
   "name": "python",
   "nbconvert_exporter": "python",
   "pygments_lexer": "ipython3",
   "version": "3.8.12"
  }
 },
 "nbformat": 4,
 "nbformat_minor": 2
}
