{
 "cells": [
  {
   "cell_type": "markdown",
   "metadata": {},
   "source": [
    "# Summary"
   ]
  },
  {
   "cell_type": "markdown",
   "metadata": {},
   "source": [
    "The geomorphic Hamiltonian in Stark & Stark (2022) was derived from and equivalent to the Stream-Power Incision Model (SPIM). However, a more generic form for a geomorphic Hamiltonian can be derived using the same techniques. This notebook demonstrates this generality."
   ]
  },
  {
   "cell_type": "markdown",
   "metadata": {},
   "source": [
    "If we want to map an erosion rate equation into a geomorphic Hamiltonian, we need to make three conceptual leaps:\n",
    "\n",
    "1. accept that *erosion takes place normal to the erosion surface*\n",
    "    - so erosion rate is naturally modeled as an *erosion speed in the surface-normal direction*;\n",
    "2. accept that the rate of motion of a surface is correctly expressed as a covector, aka a cotangent vector, aka a covariant rank-1 tensor, rather than as a tangent vector, aka a contravariant rank-1 tensor\n",
    "    - so the erosion equation should in fact be written in terms of an *erosion slowness covector oriented in the surface-normal direction*;\n",
    "3. realize that by writing normal slowness as a function of local properties we actually have an eikonal, or static Hamilton-Jacobi equation\n",
    "    - which means we have a geomorphic Hamiltonian."
   ]
  },
  {
   "cell_type": "markdown",
   "metadata": {},
   "source": [
    "# Derivation"
   ]
  },
  {
   "cell_type": "markdown",
   "metadata": {},
   "source": [
    "Here I demonstrate how to derive a *static* geomorphic Hamiltonian for a general erosion equation that satisfies some simple constraints. If we relax some of those constraints, and allow time-dependence and non-locality, a Hamiltonian could still be derived, but it would be more complex and likely non-classical (e.g., non-local Hamiltonians are actually a thing, but a rare thing)."
   ]
  },
  {
   "cell_type": "markdown",
   "metadata": {},
   "source": [
    "### In 3-D or 2-D"
   ]
  },
  {
   "cell_type": "markdown",
   "metadata": {},
   "source": [
    "Let's define a general equation for the speed of surface erosion $\\xi^{\\perp}$ in the normal direction that is a function of the local surface angle(s) $\\{\\beta_k\\}$ and position $\\mathbf{r}$:\n",
    "\\begin{equation}\n",
    "    \\xi^{\\perp}(\\{\\beta_k\\},\\mathbf{r}) = f\\!\\left(\\{\\tan\\beta_k\\},\\{r^i\\}\\right)\n",
    "\\end{equation}\n",
    "\n",
    "Here the curly brackets $\\{\\cdot\\}$ mean a set of elements (indexed as appropriate), such as the set of local angles $\\{\\beta_k\\}$, indexed by $k\\in\\{1,2\\}$ in 3D and $k\\in\\{1\\}$ in 2D.\n",
    "\n",
    "Such an erosion model encompasses the SPIM (in a surface-normal erosion rate form), \"granular flow hillslopes\" (in the sense of Pauli & Gioia, 2007), and others. It assumes that nonlocal properties such as water volume flux are spatially constant properties that can be parameterized using $\\mathbf{r}$ alone. It disallows, for example, changes in drainage network pattern or extent – unless the erosion model erosion rate is independent of drainage pattern, which is the case for \"granular flow hillslopes\". It is essentially a static model, which is why we can convert it into a static Hamiltonian, and can rewrite it as an eikonal equation (a static Hamilton-Jacobi equation).\n",
    "\n",
    "We recognize that surface erosion rate direction and magnitude are best expressed using the surface-normal erosion *slowness* covector $\\mathbf{p}$. Surface erosion slowness is the reciprocal of surface erosion speed, and since erosion speed scalar is obtained from the erosion velocity vector (in Euclidean space) using the $L_2$ norm, we also use the $L_2$ norm (in Euclidean space) to measure the length of the slowness covector: \n",
    "\n",
    "\\begin{equation}\n",
    "    \\|\\mathbf{p}\\|_{L_2} = \\dfrac{1}{\\xi^{\\perp}}\n",
    "\\end{equation}\n",
    "\n",
    "We realize that trigonometric functions of local surface angles can all be written using $\\{\\tan\\beta_i\\}$ and that these tangent values can be written as ratios of slowness covector components:\n",
    "\\begin{equation}\n",
    "    \\tan\\beta_k = p_i / p_j\n",
    "    \\qquad\\text{for}\\quad\n",
    "    i \\neq j, \\, i<j\n",
    "\\end{equation}\n",
    "\n",
    "for appropriate choices of $i,j,k$.\n",
    "\n",
    "Using Okubo's trick where all the surface erosion slowness covector components are scaled by a positive factor $\\mathcal{F}_*$, \n",
    "\\begin{equation}\n",
    "    \\{p_i\\} \\rightarrow \\left\\{ \\dfrac{p_i}{\\mathcal{F}_*} \\right\\}\n",
    "\\end{equation}\n",
    "\n",
    "substituted into the rate equation, the equation rearranged, and $\\mathcal{F}_*$ equated with the fundamental function, we get \n",
    "\\begin{equation}\n",
    "    {\\mathcal{F}_*(\\mathbf{p},\\mathbf{r})} \n",
    "    = {\\|\\mathbf{p}\\|_{L_2}}\\,f\\!\\left(\\left\\{\\dfrac{p_i}{p_j}\\right\\}, \\{r^k\\}\\right)\n",
    "\\end{equation}\n",
    "\n",
    "where $\\mathcal{F}_*(\\mathbf{p},\\mathbf{r})=1$, obviously.\n",
    "So we have the eikonal equation \n",
    "\\begin{equation}\n",
    "    \\|\\mathbf{p}\\|_{L_2} = \\dfrac{1}{f\\!\\left(\\cdot,\\cdot\\right)}\n",
    "\\end{equation}\n",
    "\n",
    "which we could have obtained simply from the definition of $\\|\\mathbf{p}\\|_{L_2}$ (eqn. 2), and which is equivalent to saying that \n",
    "\\begin{equation}\n",
    "    \\text{observed surface-normal erosion slowness} = \\dfrac{1}{\\text{required surface-normal erosion speed}}\n",
    "\\end{equation}\n",
    "\n",
    "From the fundamental function we get the generic geomorphic Hamiltonian\n",
    "\\begin{equation}\n",
    "    \\mathcal{H}(\\mathbf{p},\\mathbf{r}) \n",
    "    := \\dfrac{1}{2}\\|\\mathbf{p}\\|_{L_2}^2 \\, f^2\\!\\left(\\left\\{\\dfrac{p_i}{p_j}\\right\\}, \\{r^k\\}\\right)\n",
    "    = \\dfrac{1}{2}\n",
    "\\end{equation}\n",
    "\n",
    "Given how the Hamiltonian $\\mathcal{H}$ is constructed from $\\mathcal{F}_*$, which was obtained by the Okubo substitution, it is inevitable that $\\mathcal{H}$  is Euler order-2 homogeneous in $\\mathbf{p}$:\n",
    "\\begin{align}\n",
    "    \\mathcal{H}(\\lambda\\mathbf{p},\\mathbf{r}) \n",
    "    &= \\dfrac{1}{2}\\|\\lambda\\mathbf{p}\\|_{L_2}^2 \\, f^2\\!\\left(\\left\\{\\dfrac{\\lambda p_i}{\\lambda p_j}\\right\\}, \\{r^k\\}\\right) \\\\\n",
    "    &= \\dfrac{1}{2}\\lambda^2 \\|\\mathbf{p}\\|_{L_2}^2 \\, f^2\\!\\left(\\left\\{\\dfrac{p_i}{p_j}\\right\\}, \\{r^k\\}\\right) \\\\\n",
    "    &= \\lambda^2 \\mathcal{H}(\\mathbf{p},\\mathbf{r}) \n",
    "\\end{align}\n",
    "\n",
    "This order-2 homogeneity is *EXTREMELY IMPORTANT* because it's essentially the origin of all the interesting behaviour of the geomorphic Hamiltonian, such as the close correspondence with geometric optics, the conjugacy of slowness covector and velocity vector $\\mathbf{p}(\\mathbf{v})=1$, the amazing utility of the (semi-)metric tensor $g$, the parametric form of the geomorphic Lagrangian, the geodesic equation form of the Euler-Lagrange equations, and the consequent geodesic spray.\n",
    "\n",
    "Hamilton's equations are given in the usual way:\n",
    "\\begin{align}\n",
    "    v^i = \\dot{r}^i \n",
    "    &= \\dfrac{\\mathrm{d}r^i}{\\mathrm{d}t} \n",
    "    = \\dfrac{\\partial{\\mathcal{H}}}{\\partial{p_i}} \\\\\n",
    "    \\dot{p}_i \n",
    "    &= \\dfrac{\\mathrm{d}p_i}{\\mathrm{d}t} \n",
    "    = -\\dfrac{\\partial{\\mathcal{H}}}{\\partial{r^i}}\n",
    "\\end{align}"
   ]
  },
  {
   "cell_type": "markdown",
   "metadata": {},
   "source": [
    "### Simpler treatment in 2D (vertical section)"
   ]
  },
  {
   "cell_type": "markdown",
   "metadata": {},
   "source": [
    "The above explanation is a bit abstract, so to make it more concrete here it is for 2D. Using the same coordinates $x$-$z$ as Stark & Stark (2022), and having only one local angle to worry about ($\\beta$), we write the erosion equation as:\n",
    "\n",
    "\\begin{equation}\n",
    "    \\xi^{\\perp}\\!\\left(\\beta, \\mathbf{r}\\right) = f\\!\\left(\\tan\\beta, r^x, r^z\\right)\n",
    "\\end{equation}\n",
    "\n",
    "We could just write the eikonal equation directly, given the definition of the surface-normal erosion slowness covector $\\mathbf{p}$:\n",
    "\\begin{equation}\n",
    "    \\|\\mathbf{p}\\|_{L_2}= \\dfrac{1}{f\\!\\left(\\tan\\beta, \\mathbf{r}\\right)}\n",
    "\\end{equation}\n",
    "\n",
    "or we can use the Okubo trick to obtain the fundamental function\n",
    "\\begin{equation}\n",
    "    {\\mathcal{F}_*(\\mathbf{p},\\mathbf{r})}\n",
    "    = {\\sqrt{p_x^2+p_z^2}} \\,f\\!\\left(\\dfrac{p_x}{p_z}, r^x, r^z\\right)\n",
    "\\end{equation}\n",
    "\n",
    "where we know that $\\mathcal{F}_*(\\mathbf{p},\\mathbf{r})=1$.\n",
    "The generic 2D geomorphic Hamiltonian is then defined as (half) the square of $\\mathcal{F}_*$:\n",
    "\\begin{equation}\n",
    "    \\mathcal{H}(\\mathbf{p},\\mathbf{r})\n",
    "     := \\dfrac{1}{2}\\left(p_x^2+p_z^2\\right) \\, f^2\\!\\left(\\dfrac{p_x}{p_z}, r^x, r^z\\right)\n",
    "     = \\dfrac{1}{2}\n",
    "\\end{equation}\n",
    "\n",
    "Euler order-2 homogeneity for $\\mathcal{H}$ is inevitable given the manner in which $\\mathcal{F}_*$ was obtained\n",
    "\\begin{align}\n",
    "    \\mathcal{H}(\\lambda\\mathbf{p},\\mathbf{r}) \n",
    "    &= \\dfrac{1}{2}(\\lambda^2 p_x^2+\\lambda^2 p_z^2) \\, f^2\\!\\left(\\dfrac{\\lambda p_x}{\\lambda p_z}, r^x, r^z\\right) \\\\\n",
    "    &= \\dfrac{1}{2}\\lambda^2 (p_x^2+p_z^2) \\, f^2\\!\\left(\\dfrac{p_x}{p_z}, r^x, r^z\\right) \\\\\n",
    "    &= \\lambda^2 \\mathcal{H}(\\mathbf{p},\\mathbf{r}) \n",
    "\\end{align}\n",
    "\n",
    "Hamilton's equations are then:\n",
    "\n",
    "\n",
    "\\begin{align}\n",
    "    v^x \n",
    "    = \\dfrac{\\mathrm{d}r^x}{\\mathrm{d}t} \n",
    "    & = \\dfrac{\\partial{\\mathcal{H}}}{\\partial{p_x}}\n",
    "    = 2 p_x f^2\\!\\left(\\dfrac{p_x}{p_z}, r^x, r^z\\right) \n",
    "    + \\left(p_x^2+p_z^2\\right) f\\!\\left(\\dfrac{p_x}{p_z}, r^x, r^z\\right) \\dfrac{\\partial{f}}{\\partial{p_x}} \\\\\n",
    "    v^z \n",
    "    = \\dfrac{\\mathrm{d}r^z}{\\mathrm{d}t} \n",
    "    & = \\dfrac{\\partial{\\mathcal{H}}}{\\partial{p_z}}\n",
    "    = 2 p_z f^2\\!\\left(\\dfrac{p_x}{p_z}, r^x, r^z\\right) \n",
    "    + \\left(p_x^2+p_z^2\\right) f\\!\\left(\\dfrac{p_x}{p_z}, r^x, r^z\\right) \\dfrac{\\partial{f}}{\\partial{p_z}} \\\\\n",
    "    \\dfrac{\\mathrm{d}p_x}{\\mathrm{d}t} \n",
    "    & \n",
    "    = -\\dfrac{\\partial{\\mathcal{H}}}{\\partial{r^x}}\n",
    "    = - \\left(p_x^2+p_z^2\\right) \\, f\\!\\left(\\dfrac{p_x}{p_z}, r^x, r^z\\right) \\dfrac{\\partial{f}}{\\partial{r^x}} \\\\\n",
    "    \\dfrac{\\mathrm{d}p_z}{\\mathrm{d}t} \n",
    "    & \n",
    "    = -\\dfrac{\\partial{\\mathcal{H}}}{\\partial{r^z}}\n",
    "    = - \\left(p_x^2+p_z^2\\right) \\, f\\!\\left(\\dfrac{p_x}{p_z}, r^x, r^z\\right) \\dfrac{\\partial{f}}{\\partial{r^z}} \n",
    "\\end{align}\n"
   ]
  }
 ],
 "metadata": {
  "hide_input": false,
  "interpreter": {
   "hash": "7a792fcb311f9eb9f3c1b942a8c87ada8484712b89b670347c16a1088e0a1f69"
  },
  "kernelspec": {
   "display_name": "Python 3",
   "language": "python",
   "name": "python3"
  },
  "language_info": {
   "codemirror_mode": {
    "name": "ipython",
    "version": 3
   },
   "file_extension": ".py",
   "mimetype": "text/x-python",
   "name": "python",
   "nbconvert_exporter": "python",
   "pygments_lexer": "ipython3",
   "version": "3.8.12"
  },
  "varInspector": {
   "cols": {
    "lenName": 16,
    "lenType": 16,
    "lenVar": 40
   },
   "kernels_config": {
    "python": {
     "delete_cmd_postfix": "",
     "delete_cmd_prefix": "del ",
     "library": "var_list.py",
     "varRefreshCmd": "print(var_dic_list())"
    },
    "r": {
     "delete_cmd_postfix": ") ",
     "delete_cmd_prefix": "rm(",
     "library": "var_list.r",
     "varRefreshCmd": "cat(var_dic_list()) "
    }
   },
   "types_to_exclude": [
    "module",
    "function",
    "builtin_function_or_method",
    "instance",
    "_Feature"
   ],
   "window_display": false
  }
 },
 "nbformat": 4,
 "nbformat_minor": 4
}
