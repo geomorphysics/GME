{
 "cells": [
  {
   "cell_type": "markdown",
   "metadata": {},
   "source": [
    "# Summary"
   ]
  },
  {
   "cell_type": "markdown",
   "metadata": {},
   "source": [
    "Construction of the geomorphic Hamiltonian in Stark & Stark (2022) implicitly defines an erosional eikonal equation.\n",
    "This notebook explains how this works – without all the bells and whistles of that paper."
   ]
  },
  {
   "cell_type": "markdown",
   "metadata": {},
   "source": [
    "# Derivation"
   ]
  },
  {
   "cell_type": "markdown",
   "metadata": {},
   "source": [
    "The logic goes like this:\n",
    "\n",
    "1. Construct the geomorphic Hamiltonian $\\mathcal{H}$:\n",
    "    * Assume erosion takes place according to the stream-power incision model (SPIM) in the surface-normal form given in S&S2022.\n",
    "    * Track the pace (slowness) of surface-normal erosion using a slowness covector $\\mathbf{p}$.\n",
    "    * Convert the SPIM into the fundamental co-metric function $\\mathcal{F}_{\\star}$ using $\\mathbf{p}$ and Okubo's technique.\n",
    "    * Convert $\\mathcal{F}_{\\star}$ into the geomorphic Hamiltonian $\\mathcal{H}$ by squaring and halving $\\mathcal{F}_{\\star}$.\n",
    "    * Note that $\\mathcal{F}_{\\star}=1$ and  $\\mathcal{H}=1/2$.\n",
    "    * Note also that $\\mathcal{F}_{\\star}$ is Euler order-1 homogeneous in $\\mathbf{p}$, and   $\\mathcal{H}$ is order-2 homogeneous in $\\mathbf{p}$.\n",
    "\n",
    "2. Introduce the co-metric tensor (and its dual) and highlight some of their properties:\n",
    "    * Derive the co-metric tensor $g^{ij}$:\n",
    "    \n",
    "        \\begin{equation}\n",
    "             g^{ij}(\\mathbf{r},\\mathbf{p}) \n",
    "             := \\dfrac{\\partial^2{\\mathcal{H}}}{\\partial{p_i}\\partial{p_j}}\n",
    "             = \\dfrac{\\partial^2}{\\partial{p_i}\\partial{p_j}}\n",
    "                \\left(\\tfrac{1}{2}\\mathcal{F}_{\\star}^2\\right)\n",
    "        \\end{equation}\n",
    "        \n",
    "    * Assume it's invertible like any normal metric tensor to give $g_{ij}$:\n",
    "    \n",
    "        \\begin{equation}\n",
    "            g_{ij} = \\left(g^{ij}\\right)^{-1}\n",
    "            \\quad\\Rightarrow\\quad\n",
    "            g_{ij}g^{ij} = 1\n",
    "        \\end{equation}\n",
    "      \n",
    "      which ignores, for now, that $g_{ij}$ is not positive-definite everywhere.\n",
    "     \n",
    "    * Remember that the metric tensors can convert back and forth from vectors to covectors\n",
    "        \n",
    "        \\begin{equation}\n",
    "            v^i = g^{ij} p_j\n",
    "            \\quad,\\quad\n",
    "            p_i = g_{ij} v^j\n",
    "        \\end{equation}  \n",
    "      \n",
    "      which is known as raising or lowering the tensor indices.\n",
    "        \n",
    "2. Demonstrate the conjugacy of point velocity and front slowness:\n",
    "    * Consider property of order-2 homogeneity of $\\mathcal{H}$:\n",
    "    \n",
    "        \\begin{equation}\n",
    "            \\dfrac{\\partial\\mathcal{H}}{\\partial{p_i}} p_i\n",
    "            = \\dfrac{\\partial\\left(\\tfrac{1}{2}\\mathcal{F}_{\\star}^2\\right)}{\\partial{p_i}} p_i\n",
    "            = \\mathcal{F}_{\\star}^2\n",
    "            = 1\n",
    "        \\end{equation}\n",
    "        \n",
    "    * Assume we have Hamilton's equations, which give us:\n",
    "    \n",
    "        \\begin{equation}\n",
    "            v^i\n",
    "            = \\dfrac{\\mathrm{d}r^i}{\\mathrm{d}t} \n",
    "            = \\dfrac{\\partial\\mathcal{H}}{\\partial{p_i}} \n",
    "        \\end{equation}\n",
    "        \n",
    "    * Combine to find that $\\mathbf{p}$ and $\\mathbf{v}$ are conjugate:\n",
    "    \n",
    "        \\begin{equation}\n",
    "            p_i v^i\n",
    "            = \\mathbf{p}(\\mathbf{v})\n",
    "            = 1\n",
    "        \\end{equation}\n",
    "        \n",
    "    * Remember that the gradient (in the sense of its exterior derivative) of the arrival time $T$ is the covector $\\mathbf{p}$:\n",
    "    \n",
    "        \\begin{equation}\n",
    "            \\mathrm{d}T = \\mathbf{p}\n",
    "        \\end{equation}\n",
    "\n",
    "    * Write the conjugacy relation using this arrival-time gradient:\n",
    "    \n",
    "        \\begin{equation}\n",
    "             \\mathrm{d}T(\\mathbf{v}) = 1\n",
    "        \\end{equation}\n",
    "        \n",
    "3.  Consider the \"length\" of the erosion pace covector in its various forms:\n",
    "    * The eikonal equation requires that the pace of erosion in the surface-normal direction is constant ***relative to the metric of the erosion-function manifold*** whose shape we encode in the co-metric tensor $g^{ij}$:\n",
    "    \n",
    "        \\begin{equation}\n",
    "            \\left\\|\\mathbf{p}\\right\\|_{g}^2\n",
    "            = g^{ij} p_i p_j\n",
    "            = 1\n",
    "        \\end{equation}\n",
    "        \n",
    "        where $\\left\\|\\cdot\\right\\|_{g}$ is the norm induced by the inner product on the manifold (actually on the cotangent bundle) provided by the co-metric tensor. Note: this is for unit speed.\n",
    "    * Exploit raising/lowering of indices and symmetry of $g$:\n",
    "    \n",
    "        \\begin{equation}\n",
    "            g^{ij} p_i p_j\n",
    "            = v^j p_j\n",
    "            = v^j g_{ji} v^i\n",
    "            = g_{ij} v^i v^j\n",
    "            = 1\n",
    "        \\end{equation}\n",
    "        \n",
    "    * Connect\n",
    "    \n",
    "        \\begin{equation}\n",
    "            \\left\\|\\mathbf{p}\\right\\|_{g}^2 \n",
    "            = p_i v^i\n",
    "            = \\mathbf{p}(\\mathbf{v})\n",
    "            = \\mathrm{d}T(\\mathbf{v})\n",
    "            = 1\n",
    "        \\end{equation}\n",
    "        \n",
    "4. Recognize we now have an eikonal equation which we can write in multiple ways.\n",
    "\n",
    "    * Eikonal behaviour arose in $\\mathrm{d}T(\\mathbf{v}) = 1$ from the properties of the Hamiltonian\n",
    "    * We found this relation to be equivalent to the eikonal equation $\\left\\|\\mathbf{p}\\right\\|_{g}^2=1$ using properties of the co-metric tensor, itself derived from the Hamiltonian.\n",
    "    * The key property is the order-2 Euler homogeneity of the Hamiltonian, which arises because it's the square of the fundamental function, and because this fundamental function prescribes how \"far\" points are from each other on the manifold.\n",
    "\n"
   ]
  },
  {
   "cell_type": "code",
   "execution_count": 1,
   "metadata": {
    "scrolled": false
   },
   "outputs": [],
   "source": [
    "# from importlib import reload\n",
    "# import os\n",
    "# from gmplib.image import fetch_images\n",
    "# from pprint import PrettyPrinter\n",
    "# pp = PrettyPrinter(indent=4).pprint\n",
    "# image_paths=[\n",
    "#     os.path.join('Images')\n",
    "# ]\n",
    "# images, image_sources = fetch_images(image_paths=image_paths)\n",
    "# pp(image_sources)"
   ]
  }
 ],
 "metadata": {
  "hide_input": false,
  "interpreter": {
   "hash": "7a792fcb311f9eb9f3c1b942a8c87ada8484712b89b670347c16a1088e0a1f69"
  },
  "kernelspec": {
   "display_name": "Python 3",
   "language": "python",
   "name": "python3"
  },
  "language_info": {
   "codemirror_mode": {
    "name": "ipython",
    "version": 3
   },
   "file_extension": ".py",
   "mimetype": "text/x-python",
   "name": "python",
   "nbconvert_exporter": "python",
   "pygments_lexer": "ipython3",
   "version": "3.8.12"
  },
  "varInspector": {
   "cols": {
    "lenName": 16,
    "lenType": 16,
    "lenVar": 40
   },
   "kernels_config": {
    "python": {
     "delete_cmd_postfix": "",
     "delete_cmd_prefix": "del ",
     "library": "var_list.py",
     "varRefreshCmd": "print(var_dic_list())"
    },
    "r": {
     "delete_cmd_postfix": ") ",
     "delete_cmd_prefix": "rm(",
     "library": "var_list.r",
     "varRefreshCmd": "cat(var_dic_list()) "
    }
   },
   "types_to_exclude": [
    "module",
    "function",
    "builtin_function_or_method",
    "instance",
    "_Feature"
   ],
   "window_display": false
  }
 },
 "nbformat": 4,
 "nbformat_minor": 4
}
